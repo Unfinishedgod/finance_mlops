{
 "cells": [
  {
   "cell_type": "code",
   "execution_count": 1,
   "id": "af0c11be",
   "metadata": {},
   "outputs": [],
   "source": [
    "import pandas as pd\n",
    "from pykrx import stock\n",
    "from pykrx import bond\n",
    "from time import sleep\n",
    "\n",
    "from datetime import datetime\n",
    "import os\n",
    "import time"
   ]
  },
  {
   "cell_type": "markdown",
   "id": "b1eca50c",
   "metadata": {},
   "source": [
    "### 날짜"
   ]
  },
  {
   "cell_type": "code",
   "execution_count": 2,
   "id": "2cc67751",
   "metadata": {},
   "outputs": [],
   "source": [
    "now = datetime.now()\n",
    "today_date1 = now.strftime('%Y%m%d')\n",
    "start_date = '20180101'"
   ]
  },
  {
   "cell_type": "markdown",
   "id": "132b1765",
   "metadata": {},
   "source": [
    "### KRX 종목 리스트"
   ]
  },
  {
   "cell_type": "code",
   "execution_count": null,
   "id": "247abc71",
   "metadata": {},
   "outputs": [],
   "source": [
    "market_list = ['KOSPI', 'KOSDAQ', 'KONEX']\n",
    "\n",
    "kor_ticker_list_df = pd.DataFrame()\n",
    "for market_nm in market_list:\n",
    "    ticker_list = stock.get_market_ticker_list(today_date1, market=market_nm)\n",
    "    for tickers in ticker_list:\n",
    "        corp_name = stock.get_market_ticker_name(tickers)\n",
    "        df = pd.DataFrame({'ticker':tickers,\n",
    "                           'corp_name':corp_name,\n",
    "                           'marke': market_nm\n",
    "                          }, index = [0])\n",
    "        kor_ticker_list_df = pd.concat([kor_ticker_list_df,df])\n",
    "kor_ticker_list_df = kor_ticker_list_df.reset_index(drop = True)\n",
    "kor_ticker_list_df.head()"
   ]
  },
  {
   "cell_type": "code",
   "execution_count": null,
   "id": "55bed4fc",
   "metadata": {},
   "outputs": [],
   "source": [
    "kor_ticker_list = kor_ticker_list_df['ticker']\n",
    "\n",
    "kor_ticker_list_df.to_csv(f'data_crawler/kor_ticker_list.csv', index=False, mode='w')"
   ]
  },
  {
   "cell_type": "markdown",
   "id": "822c67ed",
   "metadata": {},
   "source": [
    "### 종목별 주가 정보"
   ]
  },
  {
   "cell_type": "code",
   "execution_count": null,
   "id": "a28b8600",
   "metadata": {},
   "outputs": [],
   "source": [
    "for ticker_nm in kor_ticker_list:\n",
    "    file_name = 'kor_stock_ohlcv'\n",
    "    \n",
    "    try:\n",
    "        df_raw = stock.get_market_ohlcv(start_date, today_date1, ticker_nm)\n",
    "        df_raw = df_raw.reset_index()\n",
    "        df_raw['ticker'] = ticker_nm\n",
    "        \n",
    "        \n",
    "        if not os.path.exists(f'data_crawler/{file_name}.csv'):\n",
    "            df_raw.to_csv(f'data_crawler/{file_name}.csv', index=False, mode='w')\n",
    "        else:\n",
    "            df_raw.to_csv(f'data_crawler/{file_name}.csv', index=False, mode='a', header=False)\n",
    "        \n",
    "        print(f'{ticker_nm} success')\n",
    "    except:\n",
    "        print(f'{ticker_nm} fail')    "
   ]
  },
  {
   "cell_type": "markdown",
   "id": "ab7b56bb",
   "metadata": {},
   "source": [
    "### 종목별 시가총액"
   ]
  },
  {
   "cell_type": "code",
   "execution_count": null,
   "id": "2fcbffae",
   "metadata": {},
   "outputs": [],
   "source": [
    "for ticker_nm in kor_ticker_list:\n",
    "    file_name = 'kor_market_cap'\n",
    "    \n",
    "    try:\n",
    "        df_raw = stock.get_market_cap(start_date, today_date1, ticker_nm)\n",
    "        df_raw = df_raw.reset_index()\n",
    "        df_raw['ticker'] = ticker_nm\n",
    "        df_raw = df_raw.drop(['종가','거래량', '거래대금'], axis = 1)\n",
    "\n",
    "        \n",
    "        \n",
    "        if not os.path.exists(f'data_crawler/{file_name}.csv'):\n",
    "            df_raw.to_csv(f'data_crawler/{file_name}.csv', index=False, mode='w')\n",
    "        else:\n",
    "            df_raw.to_csv(f'data_crawler/{file_name}.csv', index=False, mode='a', header=False)\n",
    "        \n",
    "        print(f'{ticker_nm} success')\n",
    "    except:\n",
    "        print(f'{ticker_nm} fail')    "
   ]
  },
  {
   "cell_type": "markdown",
   "id": "adec601a",
   "metadata": {},
   "source": [
    "### DIV/BPS/PER/EPS 수집"
   ]
  },
  {
   "cell_type": "code",
   "execution_count": null,
   "id": "c6042b06",
   "metadata": {},
   "outputs": [],
   "source": [
    "for ticker_nm in kor_ticker_list:\n",
    "    file_name = 'kor_stock_fundamental'\n",
    "    \n",
    "    try:\n",
    "        df_raw = stock.get_market_fundamental(start_date, today_date1, ticker_nm)\n",
    "        df_raw = df_raw.reset_index()\n",
    "        df_raw['ticker'] = ticker_nm\n",
    "        \n",
    "        \n",
    "        if not os.path.exists(f'data_crawler/{file_name}.csv'):\n",
    "            df_raw.to_csv(f'data_crawler/{file_name}.csv', index=False, mode='w')\n",
    "        else:\n",
    "            df_raw.to_csv(f'data_crawler/{file_name}.csv', index=False, mode='a', header=False)\n",
    "        \n",
    "        print(f'{ticker_nm} success')\n",
    "    except:\n",
    "        print(f'{ticker_nm} fail')  "
   ]
  },
  {
   "cell_type": "markdown",
   "id": "33a80a07",
   "metadata": {},
   "source": [
    "###  일자별 거래실적 추이 (거래대금)"
   ]
  },
  {
   "cell_type": "code",
   "execution_count": null,
   "id": "fffc7aff",
   "metadata": {},
   "outputs": [],
   "source": [
    "buy_sell_type_list = ['순매수', '매수', '매도']\n",
    "for buy_sell_type in buy_sell_type_list:\n",
    "    for ticker_nm in kor_ticker_list:\n",
    "        file_name = 'kor_stock_trading_value_by_investor'\n",
    "        try:\n",
    "            df_raw = stock.get_market_trading_value_by_date(start_date, today_date1, \n",
    "                                                                             ticker_nm, \n",
    "                                                                             detail=True,\n",
    "                                                                             on = buy_sell_type)\n",
    "            df_raw = df_raw.reset_index()\n",
    "            df_raw['ticker'] = ticker_nm\n",
    "            df_raw['type'] = buy_sell_type\n",
    "            \n",
    "            \n",
    "            if not os.path.exists(f'data_crawler/{file_name}.csv'):\n",
    "                df_raw.to_csv(f'data_crawler/{file_name}.csv', index=False, mode='w')\n",
    "            else:\n",
    "                df_raw.to_csv(f'data_crawler/{file_name}.csv', index=False, mode='a', header=False)\n",
    "        \n",
    "            print(f'{ticker_nm} success')\n",
    "        except:\n",
    "            print(f'{ticker_nm} fail')    \n",
    "    time.sleep(300)"
   ]
  },
  {
   "cell_type": "markdown",
   "id": "465a3540",
   "metadata": {},
   "source": [
    "### 일자별 거래실적 추이 (거래량)"
   ]
  },
  {
   "cell_type": "code",
   "execution_count": null,
   "id": "f22326b6",
   "metadata": {},
   "outputs": [],
   "source": [
    "buy_sell_type_list = ['순매수', '매수', '매도']\n",
    "for buy_sell_type in buy_sell_type_list:\n",
    "    for ticker_nm in kor_ticker_list:\n",
    "        file_name = 'kor_stock_trading_volume_by_date'\n",
    "        try:\n",
    "            df_raw = stock.get_market_trading_volume_by_date(start_date, today_date1, \n",
    "                                                                             ticker_nm, \n",
    "                                                                             detail=True,\n",
    "                                                                             on = buy_sell_type)\n",
    "            df_raw = df_raw.reset_index()\n",
    "            df_raw['ticker'] = ticker_nm\n",
    "            df_raw['type'] = buy_sell_type\n",
    "            \n",
    "            \n",
    "            if not os.path.exists(f'data_crawler/{file_name}.csv'):\n",
    "                df_raw.to_csv(f'data_crawler/{file_name}.csv', index=False, mode='w')\n",
    "            else:\n",
    "                df_raw.to_csv(f'data_crawler/{file_name}.csv', index=False, mode='a', header=False)\n",
    "        \n",
    "            print(f'{ticker_nm} success')\n",
    "        except:\n",
    "            print(f'{ticker_nm} fail')    \n",
    "    time.sleep(300)"
   ]
  },
  {
   "cell_type": "code",
   "execution_count": null,
   "id": "b3f5701a",
   "metadata": {},
   "outputs": [],
   "source": []
  },
  {
   "cell_type": "code",
   "execution_count": null,
   "id": "1fe32e44",
   "metadata": {},
   "outputs": [],
   "source": []
  },
  {
   "cell_type": "code",
   "execution_count": null,
   "id": "fc0fc9ad",
   "metadata": {},
   "outputs": [],
   "source": []
  },
  {
   "cell_type": "code",
   "execution_count": null,
   "id": "b3c7d4a9",
   "metadata": {},
   "outputs": [],
   "source": []
  }
 ],
 "metadata": {
  "kernelspec": {
   "display_name": "Python 3 (ipykernel)",
   "language": "python",
   "name": "python3"
  },
  "language_info": {
   "codemirror_mode": {
    "name": "ipython",
    "version": 3
   },
   "file_extension": ".py",
   "mimetype": "text/x-python",
   "name": "python",
   "nbconvert_exporter": "python",
   "pygments_lexer": "ipython3",
   "version": "3.10.9"
  },
  "toc": {
   "base_numbering": 1,
   "nav_menu": {},
   "number_sections": true,
   "sideBar": true,
   "skip_h1_title": false,
   "title_cell": "Table of Contents",
   "title_sidebar": "Contents",
   "toc_cell": false,
   "toc_position": {
    "height": "calc(100% - 180px)",
    "left": "10px",
    "top": "150px",
    "width": "268.6px"
   },
   "toc_section_display": true,
   "toc_window_display": true
  }
 },
 "nbformat": 4,
 "nbformat_minor": 5
}
