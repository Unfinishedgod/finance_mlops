{
 "cells": [
  {
   "cell_type": "code",
   "execution_count": 1,
   "id": "56cad027",
   "metadata": {},
   "outputs": [],
   "source": [
    "import pandas as pd\n",
    "import os\n",
    "\n",
    "\n",
    "os.chdir('/home/shjj08choi/finance_mlops')"
   ]
  },
  {
   "cell_type": "code",
   "execution_count": 43,
   "id": "0dd0562e",
   "metadata": {},
   "outputs": [],
   "source": [
    "today_date1 = '20230825'"
   ]
  },
  {
   "cell_type": "code",
   "execution_count": 44,
   "id": "0b675591",
   "metadata": {},
   "outputs": [],
   "source": [
    "## 티커 리스트\n",
    "market_list = ['KOSPI', 'KOSDAQ']\n",
    "kor_ticker_list_df = pd.DataFrame()\n",
    "for market_nm in market_list:\n",
    "    ticker_list = stock.get_market_ticker_list(today_date1, market=market_nm)\n",
    "    for tickers in ticker_list:\n",
    "        corp_name = stock.get_market_ticker_name(tickers)\n",
    "        df = pd.DataFrame({'ticker':tickers,\n",
    "                           'corp_name':corp_name,\n",
    "                           'market': market_nm\n",
    "                          }, index = [0])\n",
    "        kor_ticker_list_df = pd.concat([kor_ticker_list_df,df])\n",
    "kor_ticker_list_df = kor_ticker_list_df.reset_index(drop = True)"
   ]
  },
  {
   "cell_type": "code",
   "execution_count": 46,
   "id": "1396018b",
   "metadata": {},
   "outputs": [
    {
     "data": {
      "text/html": [
       "<div>\n",
       "<style scoped>\n",
       "    .dataframe tbody tr th:only-of-type {\n",
       "        vertical-align: middle;\n",
       "    }\n",
       "\n",
       "    .dataframe tbody tr th {\n",
       "        vertical-align: top;\n",
       "    }\n",
       "\n",
       "    .dataframe thead th {\n",
       "        text-align: right;\n",
       "    }\n",
       "</style>\n",
       "<table border=\"1\" class=\"dataframe\">\n",
       "  <thead>\n",
       "    <tr style=\"text-align: right;\">\n",
       "      <th></th>\n",
       "      <th>ticker</th>\n",
       "      <th>corp_name</th>\n",
       "      <th>market</th>\n",
       "    </tr>\n",
       "  </thead>\n",
       "  <tbody>\n",
       "    <tr>\n",
       "      <th>0</th>\n",
       "      <td>095570</td>\n",
       "      <td>AJ네트웍스</td>\n",
       "      <td>KOSPI</td>\n",
       "    </tr>\n",
       "    <tr>\n",
       "      <th>1</th>\n",
       "      <td>006840</td>\n",
       "      <td>AK홀딩스</td>\n",
       "      <td>KOSPI</td>\n",
       "    </tr>\n",
       "    <tr>\n",
       "      <th>2</th>\n",
       "      <td>027410</td>\n",
       "      <td>BGF</td>\n",
       "      <td>KOSPI</td>\n",
       "    </tr>\n",
       "    <tr>\n",
       "      <th>3</th>\n",
       "      <td>282330</td>\n",
       "      <td>BGF리테일</td>\n",
       "      <td>KOSPI</td>\n",
       "    </tr>\n",
       "    <tr>\n",
       "      <th>4</th>\n",
       "      <td>138930</td>\n",
       "      <td>BNK금융지주</td>\n",
       "      <td>KOSPI</td>\n",
       "    </tr>\n",
       "    <tr>\n",
       "      <th>...</th>\n",
       "      <td>...</td>\n",
       "      <td>...</td>\n",
       "      <td>...</td>\n",
       "    </tr>\n",
       "    <tr>\n",
       "      <th>2615</th>\n",
       "      <td>024060</td>\n",
       "      <td>흥구석유</td>\n",
       "      <td>KOSDAQ</td>\n",
       "    </tr>\n",
       "    <tr>\n",
       "      <th>2616</th>\n",
       "      <td>010240</td>\n",
       "      <td>흥국</td>\n",
       "      <td>KOSDAQ</td>\n",
       "    </tr>\n",
       "    <tr>\n",
       "      <th>2617</th>\n",
       "      <td>189980</td>\n",
       "      <td>흥국에프엔비</td>\n",
       "      <td>KOSDAQ</td>\n",
       "    </tr>\n",
       "    <tr>\n",
       "      <th>2618</th>\n",
       "      <td>037440</td>\n",
       "      <td>희림</td>\n",
       "      <td>KOSDAQ</td>\n",
       "    </tr>\n",
       "    <tr>\n",
       "      <th>2619</th>\n",
       "      <td>238490</td>\n",
       "      <td>힘스</td>\n",
       "      <td>KOSDAQ</td>\n",
       "    </tr>\n",
       "  </tbody>\n",
       "</table>\n",
       "<p>2620 rows × 3 columns</p>\n",
       "</div>"
      ],
      "text/plain": [
       "      ticker corp_name  market\n",
       "0     095570    AJ네트웍스   KOSPI\n",
       "1     006840     AK홀딩스   KOSPI\n",
       "2     027410       BGF   KOSPI\n",
       "3     282330    BGF리테일   KOSPI\n",
       "4     138930   BNK금융지주   KOSPI\n",
       "...      ...       ...     ...\n",
       "2615  024060      흥구석유  KOSDAQ\n",
       "2616  010240        흥국  KOSDAQ\n",
       "2617  189980    흥국에프엔비  KOSDAQ\n",
       "2618  037440        희림  KOSDAQ\n",
       "2619  238490        힘스  KOSDAQ\n",
       "\n",
       "[2620 rows x 3 columns]"
      ]
     },
     "execution_count": 46,
     "metadata": {},
     "output_type": "execute_result"
    }
   ],
   "source": [
    "kor_ticker_list_df"
   ]
  },
  {
   "cell_type": "code",
   "execution_count": 48,
   "id": "7b30d56e",
   "metadata": {},
   "outputs": [],
   "source": [
    "file_name = 'kor_ticker_list'\n",
    "if not os.path.exists(f'data_crawler/{file_name}'):\n",
    "    os.makedirs(f'data_crawler/{file_name}')\n",
    "kor_ticker_list_df.to_csv(f'data_crawler/{file_name}/{file_name}_{today_date1}.csv', index=False)\n"
   ]
  },
  {
   "cell_type": "code",
   "execution_count": 49,
   "id": "02275850",
   "metadata": {},
   "outputs": [
    {
     "data": {
      "text/html": [
       "<div>\n",
       "<style scoped>\n",
       "    .dataframe tbody tr th:only-of-type {\n",
       "        vertical-align: middle;\n",
       "    }\n",
       "\n",
       "    .dataframe tbody tr th {\n",
       "        vertical-align: top;\n",
       "    }\n",
       "\n",
       "    .dataframe thead th {\n",
       "        text-align: right;\n",
       "    }\n",
       "</style>\n",
       "<table border=\"1\" class=\"dataframe\">\n",
       "  <thead>\n",
       "    <tr style=\"text-align: right;\">\n",
       "      <th></th>\n",
       "      <th>ticker</th>\n",
       "      <th>corp_name</th>\n",
       "      <th>market</th>\n",
       "    </tr>\n",
       "  </thead>\n",
       "  <tbody>\n",
       "    <tr>\n",
       "      <th>0</th>\n",
       "      <td>095570</td>\n",
       "      <td>AJ네트웍스</td>\n",
       "      <td>KOSPI</td>\n",
       "    </tr>\n",
       "    <tr>\n",
       "      <th>1</th>\n",
       "      <td>006840</td>\n",
       "      <td>AK홀딩스</td>\n",
       "      <td>KOSPI</td>\n",
       "    </tr>\n",
       "    <tr>\n",
       "      <th>2</th>\n",
       "      <td>027410</td>\n",
       "      <td>BGF</td>\n",
       "      <td>KOSPI</td>\n",
       "    </tr>\n",
       "    <tr>\n",
       "      <th>3</th>\n",
       "      <td>282330</td>\n",
       "      <td>BGF리테일</td>\n",
       "      <td>KOSPI</td>\n",
       "    </tr>\n",
       "    <tr>\n",
       "      <th>4</th>\n",
       "      <td>138930</td>\n",
       "      <td>BNK금융지주</td>\n",
       "      <td>KOSPI</td>\n",
       "    </tr>\n",
       "    <tr>\n",
       "      <th>...</th>\n",
       "      <td>...</td>\n",
       "      <td>...</td>\n",
       "      <td>...</td>\n",
       "    </tr>\n",
       "    <tr>\n",
       "      <th>2615</th>\n",
       "      <td>024060</td>\n",
       "      <td>흥구석유</td>\n",
       "      <td>KOSDAQ</td>\n",
       "    </tr>\n",
       "    <tr>\n",
       "      <th>2616</th>\n",
       "      <td>010240</td>\n",
       "      <td>흥국</td>\n",
       "      <td>KOSDAQ</td>\n",
       "    </tr>\n",
       "    <tr>\n",
       "      <th>2617</th>\n",
       "      <td>189980</td>\n",
       "      <td>흥국에프엔비</td>\n",
       "      <td>KOSDAQ</td>\n",
       "    </tr>\n",
       "    <tr>\n",
       "      <th>2618</th>\n",
       "      <td>037440</td>\n",
       "      <td>희림</td>\n",
       "      <td>KOSDAQ</td>\n",
       "    </tr>\n",
       "    <tr>\n",
       "      <th>2619</th>\n",
       "      <td>238490</td>\n",
       "      <td>힘스</td>\n",
       "      <td>KOSDAQ</td>\n",
       "    </tr>\n",
       "  </tbody>\n",
       "</table>\n",
       "<p>2620 rows × 3 columns</p>\n",
       "</div>"
      ],
      "text/plain": [
       "      ticker corp_name  market\n",
       "0     095570    AJ네트웍스   KOSPI\n",
       "1     006840     AK홀딩스   KOSPI\n",
       "2     027410       BGF   KOSPI\n",
       "3     282330    BGF리테일   KOSPI\n",
       "4     138930   BNK금융지주   KOSPI\n",
       "...      ...       ...     ...\n",
       "2615  024060      흥구석유  KOSDAQ\n",
       "2616  010240        흥국  KOSDAQ\n",
       "2617  189980    흥국에프엔비  KOSDAQ\n",
       "2618  037440        희림  KOSDAQ\n",
       "2619  238490        힘스  KOSDAQ\n",
       "\n",
       "[2620 rows x 3 columns]"
      ]
     },
     "execution_count": 49,
     "metadata": {},
     "output_type": "execute_result"
    }
   ],
   "source": [
    "kor_ticker_list_df"
   ]
  },
  {
   "cell_type": "code",
   "execution_count": 9,
   "id": "d9f493d5",
   "metadata": {},
   "outputs": [
    {
     "name": "stderr",
     "output_type": "stream",
     "text": [
      "/tmp/ipykernel_302118/4117819448.py:1: DtypeWarning: Columns (7) have mixed types. Specify dtype option on import or set low_memory=False.\n",
      "  df = pd.read_csv('data_crawler/kor_stock_ohlcv/kor_stock_ohlcv_20230824.csv')\n"
     ]
    }
   ],
   "source": [
    "df = pd.read_csv('data_crawler/kor_stock_ohlcv/kor_stock_ohlcv_20230824.csv')"
   ]
  },
  {
   "cell_type": "code",
   "execution_count": 17,
   "id": "d8a59670",
   "metadata": {},
   "outputs": [],
   "source": [
    "df_005930 = df[df['ticker'] == '005930'].reset_index(drop = True)"
   ]
  },
  {
   "cell_type": "code",
   "execution_count": 23,
   "id": "421c5130",
   "metadata": {},
   "outputs": [],
   "source": [
    "df_005930['date'] = pd.to_datetime(df_005930['date'])"
   ]
  },
  {
   "cell_type": "code",
   "execution_count": 25,
   "id": "0793f5c7",
   "metadata": {},
   "outputs": [],
   "source": [
    "df_005930_1 = df_005930[df_005930['date'] > '2023-01-01']"
   ]
  },
  {
   "cell_type": "code",
   "execution_count": 26,
   "id": "0dcafbe1",
   "metadata": {},
   "outputs": [
    {
     "data": {
      "application/vnd.plotly.v1+json": {
       "config": {
        "plotlyServerURL": "https://plot.ly"
       },
       "data": [
        {
         "hovertemplate": "date=%{x}<br>close=%{y}<extra></extra>",
         "legendgroup": "",
         "line": {
          "color": "#636efa",
          "dash": "solid"
         },
         "marker": {
          "symbol": "circle"
         },
         "mode": "lines",
         "name": "",
         "orientation": "v",
         "showlegend": false,
         "type": "scatter",
         "x": [
          "2023-01-02T00:00:00",
          "2023-01-03T00:00:00",
          "2023-01-04T00:00:00",
          "2023-01-05T00:00:00",
          "2023-01-06T00:00:00",
          "2023-01-09T00:00:00",
          "2023-01-10T00:00:00",
          "2023-01-11T00:00:00",
          "2023-01-12T00:00:00",
          "2023-01-13T00:00:00",
          "2023-01-16T00:00:00",
          "2023-01-17T00:00:00",
          "2023-01-18T00:00:00",
          "2023-01-19T00:00:00",
          "2023-01-20T00:00:00",
          "2023-01-25T00:00:00",
          "2023-01-26T00:00:00",
          "2023-01-27T00:00:00",
          "2023-01-30T00:00:00",
          "2023-01-31T00:00:00",
          "2023-02-01T00:00:00",
          "2023-02-02T00:00:00",
          "2023-02-03T00:00:00",
          "2023-02-06T00:00:00",
          "2023-02-07T00:00:00",
          "2023-02-08T00:00:00",
          "2023-02-09T00:00:00",
          "2023-02-10T00:00:00",
          "2023-02-13T00:00:00",
          "2023-02-14T00:00:00",
          "2023-02-15T00:00:00",
          "2023-02-16T00:00:00",
          "2023-02-17T00:00:00",
          "2023-02-20T00:00:00",
          "2023-02-21T00:00:00",
          "2023-02-22T00:00:00",
          "2023-02-23T00:00:00",
          "2023-02-24T00:00:00",
          "2023-02-27T00:00:00",
          "2023-02-28T00:00:00",
          "2023-03-02T00:00:00",
          "2023-03-03T00:00:00",
          "2023-03-06T00:00:00",
          "2023-03-07T00:00:00",
          "2023-03-08T00:00:00",
          "2023-03-09T00:00:00",
          "2023-03-10T00:00:00",
          "2023-03-13T00:00:00",
          "2023-03-14T00:00:00",
          "2023-03-15T00:00:00",
          "2023-03-16T00:00:00",
          "2023-03-17T00:00:00",
          "2023-03-20T00:00:00",
          "2023-03-21T00:00:00",
          "2023-03-22T00:00:00",
          "2023-03-23T00:00:00",
          "2023-03-24T00:00:00",
          "2023-03-27T00:00:00",
          "2023-03-28T00:00:00",
          "2023-03-29T00:00:00",
          "2023-03-30T00:00:00",
          "2023-03-31T00:00:00",
          "2023-04-03T00:00:00",
          "2023-04-04T00:00:00",
          "2023-04-05T00:00:00",
          "2023-04-06T00:00:00",
          "2023-04-07T00:00:00",
          "2023-04-10T00:00:00",
          "2023-04-11T00:00:00",
          "2023-04-12T00:00:00",
          "2023-04-13T00:00:00",
          "2023-04-14T00:00:00",
          "2023-04-17T00:00:00",
          "2023-04-18T00:00:00",
          "2023-04-19T00:00:00",
          "2023-04-20T00:00:00",
          "2023-04-21T00:00:00",
          "2023-04-24T00:00:00",
          "2023-04-25T00:00:00",
          "2023-04-26T00:00:00",
          "2023-04-27T00:00:00",
          "2023-04-28T00:00:00",
          "2023-05-02T00:00:00",
          "2023-05-03T00:00:00",
          "2023-05-04T00:00:00",
          "2023-05-08T00:00:00",
          "2023-05-09T00:00:00",
          "2023-05-10T00:00:00",
          "2023-05-11T00:00:00",
          "2023-05-12T00:00:00",
          "2023-05-15T00:00:00",
          "2023-05-16T00:00:00",
          "2023-05-17T00:00:00",
          "2023-05-18T00:00:00",
          "2023-05-19T00:00:00",
          "2023-05-22T00:00:00",
          "2023-05-23T00:00:00",
          "2023-05-24T00:00:00",
          "2023-05-25T00:00:00",
          "2023-05-26T00:00:00",
          "2023-05-30T00:00:00",
          "2023-05-31T00:00:00",
          "2023-06-01T00:00:00",
          "2023-06-02T00:00:00",
          "2023-06-05T00:00:00",
          "2023-06-07T00:00:00",
          "2023-06-08T00:00:00",
          "2023-06-09T00:00:00",
          "2023-06-12T00:00:00",
          "2023-06-13T00:00:00",
          "2023-06-14T00:00:00",
          "2023-06-15T00:00:00",
          "2023-06-16T00:00:00",
          "2023-06-19T00:00:00",
          "2023-06-20T00:00:00",
          "2023-06-21T00:00:00",
          "2023-06-22T00:00:00",
          "2023-06-23T00:00:00",
          "2023-06-26T00:00:00",
          "2023-06-27T00:00:00",
          "2023-06-28T00:00:00",
          "2023-06-29T00:00:00",
          "2023-06-30T00:00:00",
          "2023-07-03T00:00:00",
          "2023-07-04T00:00:00",
          "2023-07-05T00:00:00",
          "2023-07-06T00:00:00",
          "2023-07-07T00:00:00",
          "2023-07-10T00:00:00",
          "2023-07-11T00:00:00",
          "2023-07-12T00:00:00",
          "2023-07-13T00:00:00",
          "2023-07-14T00:00:00",
          "2023-07-17T00:00:00",
          "2023-07-18T00:00:00",
          "2023-07-19T00:00:00",
          "2023-07-20T00:00:00",
          "2023-07-21T00:00:00",
          "2023-07-24T00:00:00",
          "2023-07-25T00:00:00",
          "2023-07-26T00:00:00",
          "2023-07-27T00:00:00",
          "2023-07-28T00:00:00",
          "2023-07-31T00:00:00",
          "2023-08-01T00:00:00",
          "2023-08-02T00:00:00",
          "2023-08-03T00:00:00",
          "2023-08-04T00:00:00",
          "2023-08-07T00:00:00",
          "2023-08-08T00:00:00",
          "2023-08-09T00:00:00",
          "2023-08-10T00:00:00",
          "2023-08-11T00:00:00",
          "2023-08-14T00:00:00",
          "2023-08-16T00:00:00",
          "2023-08-17T00:00:00",
          "2023-08-18T00:00:00",
          "2023-08-21T00:00:00",
          "2023-08-22T00:00:00",
          "2023-08-23T00:00:00",
          "2023-08-24T00:00:00"
         ],
         "xaxis": "x",
         "y": [
          55500,
          55400,
          57800,
          58200,
          59000,
          60700,
          60400,
          60500,
          60500,
          60800,
          61100,
          61000,
          60400,
          61500,
          61800,
          63400,
          63900,
          64600,
          63300,
          61000,
          61800,
          63500,
          63800,
          61600,
          61900,
          63100,
          63000,
          62800,
          62900,
          63200,
          62200,
          63700,
          62600,
          62700,
          62100,
          61100,
          62000,
          61300,
          60500,
          60600,
          60800,
          60500,
          61500,
          60700,
          60300,
          60100,
          59500,
          60000,
          59000,
          59800,
          59900,
          61300,
          60200,
          60300,
          61100,
          62300,
          63000,
          62100,
          62900,
          62700,
          63200,
          64000,
          63100,
          63600,
          63900,
          62300,
          65000,
          65700,
          65900,
          66000,
          66100,
          65100,
          65300,
          65600,
          65500,
          65300,
          65700,
          65200,
          63600,
          64100,
          64600,
          65500,
          65700,
          65400,
          65100,
          65900,
          65300,
          64600,
          64200,
          64100,
          64500,
          65400,
          65000,
          66200,
          68400,
          68500,
          68400,
          68500,
          68800,
          70300,
          72300,
          71400,
          70900,
          72200,
          71700,
          71000,
          70900,
          72000,
          71000,
          72000,
          71900,
          71500,
          71800,
          71200,
          71400,
          70500,
          71300,
          71600,
          72400,
          72600,
          72700,
          72400,
          72200,
          73000,
          73000,
          72000,
          71600,
          69900,
          69500,
          71500,
          71900,
          71900,
          73400,
          73300,
          72000,
          71700,
          71000,
          70300,
          70400,
          70000,
          69800,
          71700,
          70600,
          69800,
          71100,
          69900,
          68800,
          68300,
          68500,
          67600,
          68900,
          68000,
          67500,
          67300,
          67000,
          66700,
          66300,
          66600,
          66600,
          67100,
          68200
         ],
         "yaxis": "y"
        }
       ],
       "layout": {
        "legend": {
         "tracegroupgap": 0
        },
        "template": {
         "data": {
          "bar": [
           {
            "error_x": {
             "color": "#2a3f5f"
            },
            "error_y": {
             "color": "#2a3f5f"
            },
            "marker": {
             "line": {
              "color": "#E5ECF6",
              "width": 0.5
             },
             "pattern": {
              "fillmode": "overlay",
              "size": 10,
              "solidity": 0.2
             }
            },
            "type": "bar"
           }
          ],
          "barpolar": [
           {
            "marker": {
             "line": {
              "color": "#E5ECF6",
              "width": 0.5
             },
             "pattern": {
              "fillmode": "overlay",
              "size": 10,
              "solidity": 0.2
             }
            },
            "type": "barpolar"
           }
          ],
          "carpet": [
           {
            "aaxis": {
             "endlinecolor": "#2a3f5f",
             "gridcolor": "white",
             "linecolor": "white",
             "minorgridcolor": "white",
             "startlinecolor": "#2a3f5f"
            },
            "baxis": {
             "endlinecolor": "#2a3f5f",
             "gridcolor": "white",
             "linecolor": "white",
             "minorgridcolor": "white",
             "startlinecolor": "#2a3f5f"
            },
            "type": "carpet"
           }
          ],
          "choropleth": [
           {
            "colorbar": {
             "outlinewidth": 0,
             "ticks": ""
            },
            "type": "choropleth"
           }
          ],
          "contour": [
           {
            "colorbar": {
             "outlinewidth": 0,
             "ticks": ""
            },
            "colorscale": [
             [
              0,
              "#0d0887"
             ],
             [
              0.1111111111111111,
              "#46039f"
             ],
             [
              0.2222222222222222,
              "#7201a8"
             ],
             [
              0.3333333333333333,
              "#9c179e"
             ],
             [
              0.4444444444444444,
              "#bd3786"
             ],
             [
              0.5555555555555556,
              "#d8576b"
             ],
             [
              0.6666666666666666,
              "#ed7953"
             ],
             [
              0.7777777777777778,
              "#fb9f3a"
             ],
             [
              0.8888888888888888,
              "#fdca26"
             ],
             [
              1,
              "#f0f921"
             ]
            ],
            "type": "contour"
           }
          ],
          "contourcarpet": [
           {
            "colorbar": {
             "outlinewidth": 0,
             "ticks": ""
            },
            "type": "contourcarpet"
           }
          ],
          "heatmap": [
           {
            "colorbar": {
             "outlinewidth": 0,
             "ticks": ""
            },
            "colorscale": [
             [
              0,
              "#0d0887"
             ],
             [
              0.1111111111111111,
              "#46039f"
             ],
             [
              0.2222222222222222,
              "#7201a8"
             ],
             [
              0.3333333333333333,
              "#9c179e"
             ],
             [
              0.4444444444444444,
              "#bd3786"
             ],
             [
              0.5555555555555556,
              "#d8576b"
             ],
             [
              0.6666666666666666,
              "#ed7953"
             ],
             [
              0.7777777777777778,
              "#fb9f3a"
             ],
             [
              0.8888888888888888,
              "#fdca26"
             ],
             [
              1,
              "#f0f921"
             ]
            ],
            "type": "heatmap"
           }
          ],
          "heatmapgl": [
           {
            "colorbar": {
             "outlinewidth": 0,
             "ticks": ""
            },
            "colorscale": [
             [
              0,
              "#0d0887"
             ],
             [
              0.1111111111111111,
              "#46039f"
             ],
             [
              0.2222222222222222,
              "#7201a8"
             ],
             [
              0.3333333333333333,
              "#9c179e"
             ],
             [
              0.4444444444444444,
              "#bd3786"
             ],
             [
              0.5555555555555556,
              "#d8576b"
             ],
             [
              0.6666666666666666,
              "#ed7953"
             ],
             [
              0.7777777777777778,
              "#fb9f3a"
             ],
             [
              0.8888888888888888,
              "#fdca26"
             ],
             [
              1,
              "#f0f921"
             ]
            ],
            "type": "heatmapgl"
           }
          ],
          "histogram": [
           {
            "marker": {
             "pattern": {
              "fillmode": "overlay",
              "size": 10,
              "solidity": 0.2
             }
            },
            "type": "histogram"
           }
          ],
          "histogram2d": [
           {
            "colorbar": {
             "outlinewidth": 0,
             "ticks": ""
            },
            "colorscale": [
             [
              0,
              "#0d0887"
             ],
             [
              0.1111111111111111,
              "#46039f"
             ],
             [
              0.2222222222222222,
              "#7201a8"
             ],
             [
              0.3333333333333333,
              "#9c179e"
             ],
             [
              0.4444444444444444,
              "#bd3786"
             ],
             [
              0.5555555555555556,
              "#d8576b"
             ],
             [
              0.6666666666666666,
              "#ed7953"
             ],
             [
              0.7777777777777778,
              "#fb9f3a"
             ],
             [
              0.8888888888888888,
              "#fdca26"
             ],
             [
              1,
              "#f0f921"
             ]
            ],
            "type": "histogram2d"
           }
          ],
          "histogram2dcontour": [
           {
            "colorbar": {
             "outlinewidth": 0,
             "ticks": ""
            },
            "colorscale": [
             [
              0,
              "#0d0887"
             ],
             [
              0.1111111111111111,
              "#46039f"
             ],
             [
              0.2222222222222222,
              "#7201a8"
             ],
             [
              0.3333333333333333,
              "#9c179e"
             ],
             [
              0.4444444444444444,
              "#bd3786"
             ],
             [
              0.5555555555555556,
              "#d8576b"
             ],
             [
              0.6666666666666666,
              "#ed7953"
             ],
             [
              0.7777777777777778,
              "#fb9f3a"
             ],
             [
              0.8888888888888888,
              "#fdca26"
             ],
             [
              1,
              "#f0f921"
             ]
            ],
            "type": "histogram2dcontour"
           }
          ],
          "mesh3d": [
           {
            "colorbar": {
             "outlinewidth": 0,
             "ticks": ""
            },
            "type": "mesh3d"
           }
          ],
          "parcoords": [
           {
            "line": {
             "colorbar": {
              "outlinewidth": 0,
              "ticks": ""
             }
            },
            "type": "parcoords"
           }
          ],
          "pie": [
           {
            "automargin": true,
            "type": "pie"
           }
          ],
          "scatter": [
           {
            "fillpattern": {
             "fillmode": "overlay",
             "size": 10,
             "solidity": 0.2
            },
            "type": "scatter"
           }
          ],
          "scatter3d": [
           {
            "line": {
             "colorbar": {
              "outlinewidth": 0,
              "ticks": ""
             }
            },
            "marker": {
             "colorbar": {
              "outlinewidth": 0,
              "ticks": ""
             }
            },
            "type": "scatter3d"
           }
          ],
          "scattercarpet": [
           {
            "marker": {
             "colorbar": {
              "outlinewidth": 0,
              "ticks": ""
             }
            },
            "type": "scattercarpet"
           }
          ],
          "scattergeo": [
           {
            "marker": {
             "colorbar": {
              "outlinewidth": 0,
              "ticks": ""
             }
            },
            "type": "scattergeo"
           }
          ],
          "scattergl": [
           {
            "marker": {
             "colorbar": {
              "outlinewidth": 0,
              "ticks": ""
             }
            },
            "type": "scattergl"
           }
          ],
          "scattermapbox": [
           {
            "marker": {
             "colorbar": {
              "outlinewidth": 0,
              "ticks": ""
             }
            },
            "type": "scattermapbox"
           }
          ],
          "scatterpolar": [
           {
            "marker": {
             "colorbar": {
              "outlinewidth": 0,
              "ticks": ""
             }
            },
            "type": "scatterpolar"
           }
          ],
          "scatterpolargl": [
           {
            "marker": {
             "colorbar": {
              "outlinewidth": 0,
              "ticks": ""
             }
            },
            "type": "scatterpolargl"
           }
          ],
          "scatterternary": [
           {
            "marker": {
             "colorbar": {
              "outlinewidth": 0,
              "ticks": ""
             }
            },
            "type": "scatterternary"
           }
          ],
          "surface": [
           {
            "colorbar": {
             "outlinewidth": 0,
             "ticks": ""
            },
            "colorscale": [
             [
              0,
              "#0d0887"
             ],
             [
              0.1111111111111111,
              "#46039f"
             ],
             [
              0.2222222222222222,
              "#7201a8"
             ],
             [
              0.3333333333333333,
              "#9c179e"
             ],
             [
              0.4444444444444444,
              "#bd3786"
             ],
             [
              0.5555555555555556,
              "#d8576b"
             ],
             [
              0.6666666666666666,
              "#ed7953"
             ],
             [
              0.7777777777777778,
              "#fb9f3a"
             ],
             [
              0.8888888888888888,
              "#fdca26"
             ],
             [
              1,
              "#f0f921"
             ]
            ],
            "type": "surface"
           }
          ],
          "table": [
           {
            "cells": {
             "fill": {
              "color": "#EBF0F8"
             },
             "line": {
              "color": "white"
             }
            },
            "header": {
             "fill": {
              "color": "#C8D4E3"
             },
             "line": {
              "color": "white"
             }
            },
            "type": "table"
           }
          ]
         },
         "layout": {
          "annotationdefaults": {
           "arrowcolor": "#2a3f5f",
           "arrowhead": 0,
           "arrowwidth": 1
          },
          "autotypenumbers": "strict",
          "coloraxis": {
           "colorbar": {
            "outlinewidth": 0,
            "ticks": ""
           }
          },
          "colorscale": {
           "diverging": [
            [
             0,
             "#8e0152"
            ],
            [
             0.1,
             "#c51b7d"
            ],
            [
             0.2,
             "#de77ae"
            ],
            [
             0.3,
             "#f1b6da"
            ],
            [
             0.4,
             "#fde0ef"
            ],
            [
             0.5,
             "#f7f7f7"
            ],
            [
             0.6,
             "#e6f5d0"
            ],
            [
             0.7,
             "#b8e186"
            ],
            [
             0.8,
             "#7fbc41"
            ],
            [
             0.9,
             "#4d9221"
            ],
            [
             1,
             "#276419"
            ]
           ],
           "sequential": [
            [
             0,
             "#0d0887"
            ],
            [
             0.1111111111111111,
             "#46039f"
            ],
            [
             0.2222222222222222,
             "#7201a8"
            ],
            [
             0.3333333333333333,
             "#9c179e"
            ],
            [
             0.4444444444444444,
             "#bd3786"
            ],
            [
             0.5555555555555556,
             "#d8576b"
            ],
            [
             0.6666666666666666,
             "#ed7953"
            ],
            [
             0.7777777777777778,
             "#fb9f3a"
            ],
            [
             0.8888888888888888,
             "#fdca26"
            ],
            [
             1,
             "#f0f921"
            ]
           ],
           "sequentialminus": [
            [
             0,
             "#0d0887"
            ],
            [
             0.1111111111111111,
             "#46039f"
            ],
            [
             0.2222222222222222,
             "#7201a8"
            ],
            [
             0.3333333333333333,
             "#9c179e"
            ],
            [
             0.4444444444444444,
             "#bd3786"
            ],
            [
             0.5555555555555556,
             "#d8576b"
            ],
            [
             0.6666666666666666,
             "#ed7953"
            ],
            [
             0.7777777777777778,
             "#fb9f3a"
            ],
            [
             0.8888888888888888,
             "#fdca26"
            ],
            [
             1,
             "#f0f921"
            ]
           ]
          },
          "colorway": [
           "#636efa",
           "#EF553B",
           "#00cc96",
           "#ab63fa",
           "#FFA15A",
           "#19d3f3",
           "#FF6692",
           "#B6E880",
           "#FF97FF",
           "#FECB52"
          ],
          "font": {
           "color": "#2a3f5f"
          },
          "geo": {
           "bgcolor": "white",
           "lakecolor": "white",
           "landcolor": "#E5ECF6",
           "showlakes": true,
           "showland": true,
           "subunitcolor": "white"
          },
          "hoverlabel": {
           "align": "left"
          },
          "hovermode": "closest",
          "mapbox": {
           "style": "light"
          },
          "paper_bgcolor": "white",
          "plot_bgcolor": "#E5ECF6",
          "polar": {
           "angularaxis": {
            "gridcolor": "white",
            "linecolor": "white",
            "ticks": ""
           },
           "bgcolor": "#E5ECF6",
           "radialaxis": {
            "gridcolor": "white",
            "linecolor": "white",
            "ticks": ""
           }
          },
          "scene": {
           "xaxis": {
            "backgroundcolor": "#E5ECF6",
            "gridcolor": "white",
            "gridwidth": 2,
            "linecolor": "white",
            "showbackground": true,
            "ticks": "",
            "zerolinecolor": "white"
           },
           "yaxis": {
            "backgroundcolor": "#E5ECF6",
            "gridcolor": "white",
            "gridwidth": 2,
            "linecolor": "white",
            "showbackground": true,
            "ticks": "",
            "zerolinecolor": "white"
           },
           "zaxis": {
            "backgroundcolor": "#E5ECF6",
            "gridcolor": "white",
            "gridwidth": 2,
            "linecolor": "white",
            "showbackground": true,
            "ticks": "",
            "zerolinecolor": "white"
           }
          },
          "shapedefaults": {
           "line": {
            "color": "#2a3f5f"
           }
          },
          "ternary": {
           "aaxis": {
            "gridcolor": "white",
            "linecolor": "white",
            "ticks": ""
           },
           "baxis": {
            "gridcolor": "white",
            "linecolor": "white",
            "ticks": ""
           },
           "bgcolor": "#E5ECF6",
           "caxis": {
            "gridcolor": "white",
            "linecolor": "white",
            "ticks": ""
           }
          },
          "title": {
           "x": 0.05
          },
          "xaxis": {
           "automargin": true,
           "gridcolor": "white",
           "linecolor": "white",
           "ticks": "",
           "title": {
            "standoff": 15
           },
           "zerolinecolor": "white",
           "zerolinewidth": 2
          },
          "yaxis": {
           "automargin": true,
           "gridcolor": "white",
           "linecolor": "white",
           "ticks": "",
           "title": {
            "standoff": 15
           },
           "zerolinecolor": "white",
           "zerolinewidth": 2
          }
         }
        },
        "title": {
         "text": "Life expectancy in Canada"
        },
        "xaxis": {
         "anchor": "y",
         "domain": [
          0,
          1
         ],
         "title": {
          "text": "date"
         }
        },
        "yaxis": {
         "anchor": "x",
         "domain": [
          0,
          1
         ],
         "title": {
          "text": "close"
         }
        }
       }
      },
      "text/html": [
       "<div>                            <div id=\"65e31981-0dbd-4bd5-9947-27eaac45bc9e\" class=\"plotly-graph-div\" style=\"height:525px; width:100%;\"></div>            <script type=\"text/javascript\">                require([\"plotly\"], function(Plotly) {                    window.PLOTLYENV=window.PLOTLYENV || {};                                    if (document.getElementById(\"65e31981-0dbd-4bd5-9947-27eaac45bc9e\")) {                    Plotly.newPlot(                        \"65e31981-0dbd-4bd5-9947-27eaac45bc9e\",                        [{\"hovertemplate\":\"date=%{x}\\u003cbr\\u003eclose=%{y}\\u003cextra\\u003e\\u003c\\u002fextra\\u003e\",\"legendgroup\":\"\",\"line\":{\"color\":\"#636efa\",\"dash\":\"solid\"},\"marker\":{\"symbol\":\"circle\"},\"mode\":\"lines\",\"name\":\"\",\"orientation\":\"v\",\"showlegend\":false,\"x\":[\"2023-01-02T00:00:00\",\"2023-01-03T00:00:00\",\"2023-01-04T00:00:00\",\"2023-01-05T00:00:00\",\"2023-01-06T00:00:00\",\"2023-01-09T00:00:00\",\"2023-01-10T00:00:00\",\"2023-01-11T00:00:00\",\"2023-01-12T00:00:00\",\"2023-01-13T00:00:00\",\"2023-01-16T00:00:00\",\"2023-01-17T00:00:00\",\"2023-01-18T00:00:00\",\"2023-01-19T00:00:00\",\"2023-01-20T00:00:00\",\"2023-01-25T00:00:00\",\"2023-01-26T00:00:00\",\"2023-01-27T00:00:00\",\"2023-01-30T00:00:00\",\"2023-01-31T00:00:00\",\"2023-02-01T00:00:00\",\"2023-02-02T00:00:00\",\"2023-02-03T00:00:00\",\"2023-02-06T00:00:00\",\"2023-02-07T00:00:00\",\"2023-02-08T00:00:00\",\"2023-02-09T00:00:00\",\"2023-02-10T00:00:00\",\"2023-02-13T00:00:00\",\"2023-02-14T00:00:00\",\"2023-02-15T00:00:00\",\"2023-02-16T00:00:00\",\"2023-02-17T00:00:00\",\"2023-02-20T00:00:00\",\"2023-02-21T00:00:00\",\"2023-02-22T00:00:00\",\"2023-02-23T00:00:00\",\"2023-02-24T00:00:00\",\"2023-02-27T00:00:00\",\"2023-02-28T00:00:00\",\"2023-03-02T00:00:00\",\"2023-03-03T00:00:00\",\"2023-03-06T00:00:00\",\"2023-03-07T00:00:00\",\"2023-03-08T00:00:00\",\"2023-03-09T00:00:00\",\"2023-03-10T00:00:00\",\"2023-03-13T00:00:00\",\"2023-03-14T00:00:00\",\"2023-03-15T00:00:00\",\"2023-03-16T00:00:00\",\"2023-03-17T00:00:00\",\"2023-03-20T00:00:00\",\"2023-03-21T00:00:00\",\"2023-03-22T00:00:00\",\"2023-03-23T00:00:00\",\"2023-03-24T00:00:00\",\"2023-03-27T00:00:00\",\"2023-03-28T00:00:00\",\"2023-03-29T00:00:00\",\"2023-03-30T00:00:00\",\"2023-03-31T00:00:00\",\"2023-04-03T00:00:00\",\"2023-04-04T00:00:00\",\"2023-04-05T00:00:00\",\"2023-04-06T00:00:00\",\"2023-04-07T00:00:00\",\"2023-04-10T00:00:00\",\"2023-04-11T00:00:00\",\"2023-04-12T00:00:00\",\"2023-04-13T00:00:00\",\"2023-04-14T00:00:00\",\"2023-04-17T00:00:00\",\"2023-04-18T00:00:00\",\"2023-04-19T00:00:00\",\"2023-04-20T00:00:00\",\"2023-04-21T00:00:00\",\"2023-04-24T00:00:00\",\"2023-04-25T00:00:00\",\"2023-04-26T00:00:00\",\"2023-04-27T00:00:00\",\"2023-04-28T00:00:00\",\"2023-05-02T00:00:00\",\"2023-05-03T00:00:00\",\"2023-05-04T00:00:00\",\"2023-05-08T00:00:00\",\"2023-05-09T00:00:00\",\"2023-05-10T00:00:00\",\"2023-05-11T00:00:00\",\"2023-05-12T00:00:00\",\"2023-05-15T00:00:00\",\"2023-05-16T00:00:00\",\"2023-05-17T00:00:00\",\"2023-05-18T00:00:00\",\"2023-05-19T00:00:00\",\"2023-05-22T00:00:00\",\"2023-05-23T00:00:00\",\"2023-05-24T00:00:00\",\"2023-05-25T00:00:00\",\"2023-05-26T00:00:00\",\"2023-05-30T00:00:00\",\"2023-05-31T00:00:00\",\"2023-06-01T00:00:00\",\"2023-06-02T00:00:00\",\"2023-06-05T00:00:00\",\"2023-06-07T00:00:00\",\"2023-06-08T00:00:00\",\"2023-06-09T00:00:00\",\"2023-06-12T00:00:00\",\"2023-06-13T00:00:00\",\"2023-06-14T00:00:00\",\"2023-06-15T00:00:00\",\"2023-06-16T00:00:00\",\"2023-06-19T00:00:00\",\"2023-06-20T00:00:00\",\"2023-06-21T00:00:00\",\"2023-06-22T00:00:00\",\"2023-06-23T00:00:00\",\"2023-06-26T00:00:00\",\"2023-06-27T00:00:00\",\"2023-06-28T00:00:00\",\"2023-06-29T00:00:00\",\"2023-06-30T00:00:00\",\"2023-07-03T00:00:00\",\"2023-07-04T00:00:00\",\"2023-07-05T00:00:00\",\"2023-07-06T00:00:00\",\"2023-07-07T00:00:00\",\"2023-07-10T00:00:00\",\"2023-07-11T00:00:00\",\"2023-07-12T00:00:00\",\"2023-07-13T00:00:00\",\"2023-07-14T00:00:00\",\"2023-07-17T00:00:00\",\"2023-07-18T00:00:00\",\"2023-07-19T00:00:00\",\"2023-07-20T00:00:00\",\"2023-07-21T00:00:00\",\"2023-07-24T00:00:00\",\"2023-07-25T00:00:00\",\"2023-07-26T00:00:00\",\"2023-07-27T00:00:00\",\"2023-07-28T00:00:00\",\"2023-07-31T00:00:00\",\"2023-08-01T00:00:00\",\"2023-08-02T00:00:00\",\"2023-08-03T00:00:00\",\"2023-08-04T00:00:00\",\"2023-08-07T00:00:00\",\"2023-08-08T00:00:00\",\"2023-08-09T00:00:00\",\"2023-08-10T00:00:00\",\"2023-08-11T00:00:00\",\"2023-08-14T00:00:00\",\"2023-08-16T00:00:00\",\"2023-08-17T00:00:00\",\"2023-08-18T00:00:00\",\"2023-08-21T00:00:00\",\"2023-08-22T00:00:00\",\"2023-08-23T00:00:00\",\"2023-08-24T00:00:00\"],\"xaxis\":\"x\",\"y\":[55500,55400,57800,58200,59000,60700,60400,60500,60500,60800,61100,61000,60400,61500,61800,63400,63900,64600,63300,61000,61800,63500,63800,61600,61900,63100,63000,62800,62900,63200,62200,63700,62600,62700,62100,61100,62000,61300,60500,60600,60800,60500,61500,60700,60300,60100,59500,60000,59000,59800,59900,61300,60200,60300,61100,62300,63000,62100,62900,62700,63200,64000,63100,63600,63900,62300,65000,65700,65900,66000,66100,65100,65300,65600,65500,65300,65700,65200,63600,64100,64600,65500,65700,65400,65100,65900,65300,64600,64200,64100,64500,65400,65000,66200,68400,68500,68400,68500,68800,70300,72300,71400,70900,72200,71700,71000,70900,72000,71000,72000,71900,71500,71800,71200,71400,70500,71300,71600,72400,72600,72700,72400,72200,73000,73000,72000,71600,69900,69500,71500,71900,71900,73400,73300,72000,71700,71000,70300,70400,70000,69800,71700,70600,69800,71100,69900,68800,68300,68500,67600,68900,68000,67500,67300,67000,66700,66300,66600,66600,67100,68200],\"yaxis\":\"y\",\"type\":\"scatter\"}],                        {\"template\":{\"data\":{\"histogram2dcontour\":[{\"type\":\"histogram2dcontour\",\"colorbar\":{\"outlinewidth\":0,\"ticks\":\"\"},\"colorscale\":[[0.0,\"#0d0887\"],[0.1111111111111111,\"#46039f\"],[0.2222222222222222,\"#7201a8\"],[0.3333333333333333,\"#9c179e\"],[0.4444444444444444,\"#bd3786\"],[0.5555555555555556,\"#d8576b\"],[0.6666666666666666,\"#ed7953\"],[0.7777777777777778,\"#fb9f3a\"],[0.8888888888888888,\"#fdca26\"],[1.0,\"#f0f921\"]]}],\"choropleth\":[{\"type\":\"choropleth\",\"colorbar\":{\"outlinewidth\":0,\"ticks\":\"\"}}],\"histogram2d\":[{\"type\":\"histogram2d\",\"colorbar\":{\"outlinewidth\":0,\"ticks\":\"\"},\"colorscale\":[[0.0,\"#0d0887\"],[0.1111111111111111,\"#46039f\"],[0.2222222222222222,\"#7201a8\"],[0.3333333333333333,\"#9c179e\"],[0.4444444444444444,\"#bd3786\"],[0.5555555555555556,\"#d8576b\"],[0.6666666666666666,\"#ed7953\"],[0.7777777777777778,\"#fb9f3a\"],[0.8888888888888888,\"#fdca26\"],[1.0,\"#f0f921\"]]}],\"heatmap\":[{\"type\":\"heatmap\",\"colorbar\":{\"outlinewidth\":0,\"ticks\":\"\"},\"colorscale\":[[0.0,\"#0d0887\"],[0.1111111111111111,\"#46039f\"],[0.2222222222222222,\"#7201a8\"],[0.3333333333333333,\"#9c179e\"],[0.4444444444444444,\"#bd3786\"],[0.5555555555555556,\"#d8576b\"],[0.6666666666666666,\"#ed7953\"],[0.7777777777777778,\"#fb9f3a\"],[0.8888888888888888,\"#fdca26\"],[1.0,\"#f0f921\"]]}],\"heatmapgl\":[{\"type\":\"heatmapgl\",\"colorbar\":{\"outlinewidth\":0,\"ticks\":\"\"},\"colorscale\":[[0.0,\"#0d0887\"],[0.1111111111111111,\"#46039f\"],[0.2222222222222222,\"#7201a8\"],[0.3333333333333333,\"#9c179e\"],[0.4444444444444444,\"#bd3786\"],[0.5555555555555556,\"#d8576b\"],[0.6666666666666666,\"#ed7953\"],[0.7777777777777778,\"#fb9f3a\"],[0.8888888888888888,\"#fdca26\"],[1.0,\"#f0f921\"]]}],\"contourcarpet\":[{\"type\":\"contourcarpet\",\"colorbar\":{\"outlinewidth\":0,\"ticks\":\"\"}}],\"contour\":[{\"type\":\"contour\",\"colorbar\":{\"outlinewidth\":0,\"ticks\":\"\"},\"colorscale\":[[0.0,\"#0d0887\"],[0.1111111111111111,\"#46039f\"],[0.2222222222222222,\"#7201a8\"],[0.3333333333333333,\"#9c179e\"],[0.4444444444444444,\"#bd3786\"],[0.5555555555555556,\"#d8576b\"],[0.6666666666666666,\"#ed7953\"],[0.7777777777777778,\"#fb9f3a\"],[0.8888888888888888,\"#fdca26\"],[1.0,\"#f0f921\"]]}],\"surface\":[{\"type\":\"surface\",\"colorbar\":{\"outlinewidth\":0,\"ticks\":\"\"},\"colorscale\":[[0.0,\"#0d0887\"],[0.1111111111111111,\"#46039f\"],[0.2222222222222222,\"#7201a8\"],[0.3333333333333333,\"#9c179e\"],[0.4444444444444444,\"#bd3786\"],[0.5555555555555556,\"#d8576b\"],[0.6666666666666666,\"#ed7953\"],[0.7777777777777778,\"#fb9f3a\"],[0.8888888888888888,\"#fdca26\"],[1.0,\"#f0f921\"]]}],\"mesh3d\":[{\"type\":\"mesh3d\",\"colorbar\":{\"outlinewidth\":0,\"ticks\":\"\"}}],\"scatter\":[{\"fillpattern\":{\"fillmode\":\"overlay\",\"size\":10,\"solidity\":0.2},\"type\":\"scatter\"}],\"parcoords\":[{\"type\":\"parcoords\",\"line\":{\"colorbar\":{\"outlinewidth\":0,\"ticks\":\"\"}}}],\"scatterpolargl\":[{\"type\":\"scatterpolargl\",\"marker\":{\"colorbar\":{\"outlinewidth\":0,\"ticks\":\"\"}}}],\"bar\":[{\"error_x\":{\"color\":\"#2a3f5f\"},\"error_y\":{\"color\":\"#2a3f5f\"},\"marker\":{\"line\":{\"color\":\"#E5ECF6\",\"width\":0.5},\"pattern\":{\"fillmode\":\"overlay\",\"size\":10,\"solidity\":0.2}},\"type\":\"bar\"}],\"scattergeo\":[{\"type\":\"scattergeo\",\"marker\":{\"colorbar\":{\"outlinewidth\":0,\"ticks\":\"\"}}}],\"scatterpolar\":[{\"type\":\"scatterpolar\",\"marker\":{\"colorbar\":{\"outlinewidth\":0,\"ticks\":\"\"}}}],\"histogram\":[{\"marker\":{\"pattern\":{\"fillmode\":\"overlay\",\"size\":10,\"solidity\":0.2}},\"type\":\"histogram\"}],\"scattergl\":[{\"type\":\"scattergl\",\"marker\":{\"colorbar\":{\"outlinewidth\":0,\"ticks\":\"\"}}}],\"scatter3d\":[{\"type\":\"scatter3d\",\"line\":{\"colorbar\":{\"outlinewidth\":0,\"ticks\":\"\"}},\"marker\":{\"colorbar\":{\"outlinewidth\":0,\"ticks\":\"\"}}}],\"scattermapbox\":[{\"type\":\"scattermapbox\",\"marker\":{\"colorbar\":{\"outlinewidth\":0,\"ticks\":\"\"}}}],\"scatterternary\":[{\"type\":\"scatterternary\",\"marker\":{\"colorbar\":{\"outlinewidth\":0,\"ticks\":\"\"}}}],\"scattercarpet\":[{\"type\":\"scattercarpet\",\"marker\":{\"colorbar\":{\"outlinewidth\":0,\"ticks\":\"\"}}}],\"carpet\":[{\"aaxis\":{\"endlinecolor\":\"#2a3f5f\",\"gridcolor\":\"white\",\"linecolor\":\"white\",\"minorgridcolor\":\"white\",\"startlinecolor\":\"#2a3f5f\"},\"baxis\":{\"endlinecolor\":\"#2a3f5f\",\"gridcolor\":\"white\",\"linecolor\":\"white\",\"minorgridcolor\":\"white\",\"startlinecolor\":\"#2a3f5f\"},\"type\":\"carpet\"}],\"table\":[{\"cells\":{\"fill\":{\"color\":\"#EBF0F8\"},\"line\":{\"color\":\"white\"}},\"header\":{\"fill\":{\"color\":\"#C8D4E3\"},\"line\":{\"color\":\"white\"}},\"type\":\"table\"}],\"barpolar\":[{\"marker\":{\"line\":{\"color\":\"#E5ECF6\",\"width\":0.5},\"pattern\":{\"fillmode\":\"overlay\",\"size\":10,\"solidity\":0.2}},\"type\":\"barpolar\"}],\"pie\":[{\"automargin\":true,\"type\":\"pie\"}]},\"layout\":{\"autotypenumbers\":\"strict\",\"colorway\":[\"#636efa\",\"#EF553B\",\"#00cc96\",\"#ab63fa\",\"#FFA15A\",\"#19d3f3\",\"#FF6692\",\"#B6E880\",\"#FF97FF\",\"#FECB52\"],\"font\":{\"color\":\"#2a3f5f\"},\"hovermode\":\"closest\",\"hoverlabel\":{\"align\":\"left\"},\"paper_bgcolor\":\"white\",\"plot_bgcolor\":\"#E5ECF6\",\"polar\":{\"bgcolor\":\"#E5ECF6\",\"angularaxis\":{\"gridcolor\":\"white\",\"linecolor\":\"white\",\"ticks\":\"\"},\"radialaxis\":{\"gridcolor\":\"white\",\"linecolor\":\"white\",\"ticks\":\"\"}},\"ternary\":{\"bgcolor\":\"#E5ECF6\",\"aaxis\":{\"gridcolor\":\"white\",\"linecolor\":\"white\",\"ticks\":\"\"},\"baxis\":{\"gridcolor\":\"white\",\"linecolor\":\"white\",\"ticks\":\"\"},\"caxis\":{\"gridcolor\":\"white\",\"linecolor\":\"white\",\"ticks\":\"\"}},\"coloraxis\":{\"colorbar\":{\"outlinewidth\":0,\"ticks\":\"\"}},\"colorscale\":{\"sequential\":[[0.0,\"#0d0887\"],[0.1111111111111111,\"#46039f\"],[0.2222222222222222,\"#7201a8\"],[0.3333333333333333,\"#9c179e\"],[0.4444444444444444,\"#bd3786\"],[0.5555555555555556,\"#d8576b\"],[0.6666666666666666,\"#ed7953\"],[0.7777777777777778,\"#fb9f3a\"],[0.8888888888888888,\"#fdca26\"],[1.0,\"#f0f921\"]],\"sequentialminus\":[[0.0,\"#0d0887\"],[0.1111111111111111,\"#46039f\"],[0.2222222222222222,\"#7201a8\"],[0.3333333333333333,\"#9c179e\"],[0.4444444444444444,\"#bd3786\"],[0.5555555555555556,\"#d8576b\"],[0.6666666666666666,\"#ed7953\"],[0.7777777777777778,\"#fb9f3a\"],[0.8888888888888888,\"#fdca26\"],[1.0,\"#f0f921\"]],\"diverging\":[[0,\"#8e0152\"],[0.1,\"#c51b7d\"],[0.2,\"#de77ae\"],[0.3,\"#f1b6da\"],[0.4,\"#fde0ef\"],[0.5,\"#f7f7f7\"],[0.6,\"#e6f5d0\"],[0.7,\"#b8e186\"],[0.8,\"#7fbc41\"],[0.9,\"#4d9221\"],[1,\"#276419\"]]},\"xaxis\":{\"gridcolor\":\"white\",\"linecolor\":\"white\",\"ticks\":\"\",\"title\":{\"standoff\":15},\"zerolinecolor\":\"white\",\"automargin\":true,\"zerolinewidth\":2},\"yaxis\":{\"gridcolor\":\"white\",\"linecolor\":\"white\",\"ticks\":\"\",\"title\":{\"standoff\":15},\"zerolinecolor\":\"white\",\"automargin\":true,\"zerolinewidth\":2},\"scene\":{\"xaxis\":{\"backgroundcolor\":\"#E5ECF6\",\"gridcolor\":\"white\",\"linecolor\":\"white\",\"showbackground\":true,\"ticks\":\"\",\"zerolinecolor\":\"white\",\"gridwidth\":2},\"yaxis\":{\"backgroundcolor\":\"#E5ECF6\",\"gridcolor\":\"white\",\"linecolor\":\"white\",\"showbackground\":true,\"ticks\":\"\",\"zerolinecolor\":\"white\",\"gridwidth\":2},\"zaxis\":{\"backgroundcolor\":\"#E5ECF6\",\"gridcolor\":\"white\",\"linecolor\":\"white\",\"showbackground\":true,\"ticks\":\"\",\"zerolinecolor\":\"white\",\"gridwidth\":2}},\"shapedefaults\":{\"line\":{\"color\":\"#2a3f5f\"}},\"annotationdefaults\":{\"arrowcolor\":\"#2a3f5f\",\"arrowhead\":0,\"arrowwidth\":1},\"geo\":{\"bgcolor\":\"white\",\"landcolor\":\"#E5ECF6\",\"subunitcolor\":\"white\",\"showland\":true,\"showlakes\":true,\"lakecolor\":\"white\"},\"title\":{\"x\":0.05},\"mapbox\":{\"style\":\"light\"}}},\"xaxis\":{\"anchor\":\"y\",\"domain\":[0.0,1.0],\"title\":{\"text\":\"date\"}},\"yaxis\":{\"anchor\":\"x\",\"domain\":[0.0,1.0],\"title\":{\"text\":\"close\"}},\"legend\":{\"tracegroupgap\":0},\"title\":{\"text\":\"Life expectancy in Canada\"}},                        {\"responsive\": true}                    ).then(function(){\n",
       "                            \n",
       "var gd = document.getElementById('65e31981-0dbd-4bd5-9947-27eaac45bc9e');\n",
       "var x = new MutationObserver(function (mutations, observer) {{\n",
       "        var display = window.getComputedStyle(gd).display;\n",
       "        if (!display || display === 'none') {{\n",
       "            console.log([gd, 'removed!']);\n",
       "            Plotly.purge(gd);\n",
       "            observer.disconnect();\n",
       "        }}\n",
       "}});\n",
       "\n",
       "// Listen for the removal of the full notebook cells\n",
       "var notebookContainer = gd.closest('#notebook-container');\n",
       "if (notebookContainer) {{\n",
       "    x.observe(notebookContainer, {childList: true});\n",
       "}}\n",
       "\n",
       "// Listen for the clearing of the current output cell\n",
       "var outputEl = gd.closest('.output');\n",
       "if (outputEl) {{\n",
       "    x.observe(outputEl, {childList: true});\n",
       "}}\n",
       "\n",
       "                        })                };                });            </script>        </div>"
      ]
     },
     "metadata": {},
     "output_type": "display_data"
    }
   ],
   "source": [
    "import plotly.express as px\n",
    "\n",
    "fig = px.line(df_005930_1, x=\"date\", y=\"close\", title='Life expectancy in Canada')\n",
    "fig.show()\n",
    "\n"
   ]
  },
  {
   "cell_type": "code",
   "execution_count": 90,
   "id": "826b262a",
   "metadata": {},
   "outputs": [],
   "source": [
    "from pykrx import stock\n",
    "from pykrx import bond\n",
    "\n",
    "df_raw = stock.get_market_fundamental(\"20220103\", market = 'ALL')\n",
    "df_raw = df_raw.reset_index()\n",
    "df_raw['날짜'] = '2023-08-24'\n",
    "df_raw = df_raw[['날짜', 'BPS', 'PER','PBR', 'EPS', 'DIV', 'DPS', '티커']]\n",
    "df_raw.columns = ['date', 'bps', 'per', 'pbr', 'eps', 'div', 'dps', 'ticker']\n",
    "df_raw['date'] = pd.to_datetime(df_raw['date'])"
   ]
  },
  {
   "cell_type": "code",
   "execution_count": 91,
   "id": "94763303",
   "metadata": {},
   "outputs": [],
   "source": [
    "df_raw1 = pd.merge(df_raw, kor_ticker_list_df, \n",
    "        on = 'ticker', \n",
    "        how = 'left')"
   ]
  },
  {
   "cell_type": "code",
   "execution_count": 92,
   "id": "b8d8c3eb",
   "metadata": {},
   "outputs": [
    {
     "data": {
      "text/html": [
       "<div>\n",
       "<style scoped>\n",
       "    .dataframe tbody tr th:only-of-type {\n",
       "        vertical-align: middle;\n",
       "    }\n",
       "\n",
       "    .dataframe tbody tr th {\n",
       "        vertical-align: top;\n",
       "    }\n",
       "\n",
       "    .dataframe thead th {\n",
       "        text-align: right;\n",
       "    }\n",
       "</style>\n",
       "<table border=\"1\" class=\"dataframe\">\n",
       "  <thead>\n",
       "    <tr style=\"text-align: right;\">\n",
       "      <th></th>\n",
       "      <th>date</th>\n",
       "      <th>bps</th>\n",
       "      <th>per</th>\n",
       "      <th>pbr</th>\n",
       "      <th>eps</th>\n",
       "      <th>div</th>\n",
       "      <th>dps</th>\n",
       "      <th>ticker</th>\n",
       "      <th>corp_name</th>\n",
       "      <th>market</th>\n",
       "    </tr>\n",
       "  </thead>\n",
       "  <tbody>\n",
       "    <tr>\n",
       "      <th>0</th>\n",
       "      <td>2023-08-24</td>\n",
       "      <td>792</td>\n",
       "      <td>206.25</td>\n",
       "      <td>4.17</td>\n",
       "      <td>16</td>\n",
       "      <td>0.00</td>\n",
       "      <td>0</td>\n",
       "      <td>060310</td>\n",
       "      <td>3S</td>\n",
       "      <td>KOSDAQ</td>\n",
       "    </tr>\n",
       "    <tr>\n",
       "      <th>1</th>\n",
       "      <td>2023-08-24</td>\n",
       "      <td>6089</td>\n",
       "      <td>0.00</td>\n",
       "      <td>0.87</td>\n",
       "      <td>0</td>\n",
       "      <td>3.95</td>\n",
       "      <td>210</td>\n",
       "      <td>095570</td>\n",
       "      <td>AJ네트웍스</td>\n",
       "      <td>KOSPI</td>\n",
       "    </tr>\n",
       "    <tr>\n",
       "      <th>2</th>\n",
       "      <td>2023-08-24</td>\n",
       "      <td>50471</td>\n",
       "      <td>0.00</td>\n",
       "      <td>0.39</td>\n",
       "      <td>0</td>\n",
       "      <td>2.05</td>\n",
       "      <td>400</td>\n",
       "      <td>006840</td>\n",
       "      <td>AK홀딩스</td>\n",
       "      <td>KOSPI</td>\n",
       "    </tr>\n",
       "    <tr>\n",
       "      <th>3</th>\n",
       "      <td>2023-08-24</td>\n",
       "      <td>8135</td>\n",
       "      <td>0.00</td>\n",
       "      <td>1.72</td>\n",
       "      <td>0</td>\n",
       "      <td>0.00</td>\n",
       "      <td>0</td>\n",
       "      <td>054620</td>\n",
       "      <td>APS</td>\n",
       "      <td>KOSDAQ</td>\n",
       "    </tr>\n",
       "    <tr>\n",
       "      <th>4</th>\n",
       "      <td>2023-08-24</td>\n",
       "      <td>9041</td>\n",
       "      <td>14.49</td>\n",
       "      <td>2.78</td>\n",
       "      <td>1736</td>\n",
       "      <td>0.48</td>\n",
       "      <td>120</td>\n",
       "      <td>265520</td>\n",
       "      <td>AP시스템</td>\n",
       "      <td>KOSDAQ</td>\n",
       "    </tr>\n",
       "    <tr>\n",
       "      <th>...</th>\n",
       "      <td>...</td>\n",
       "      <td>...</td>\n",
       "      <td>...</td>\n",
       "      <td>...</td>\n",
       "      <td>...</td>\n",
       "      <td>...</td>\n",
       "      <td>...</td>\n",
       "      <td>...</td>\n",
       "      <td>...</td>\n",
       "      <td>...</td>\n",
       "    </tr>\n",
       "    <tr>\n",
       "      <th>2425</th>\n",
       "      <td>2023-08-24</td>\n",
       "      <td>0</td>\n",
       "      <td>0.00</td>\n",
       "      <td>0.00</td>\n",
       "      <td>0</td>\n",
       "      <td>0.00</td>\n",
       "      <td>0</td>\n",
       "      <td>000547</td>\n",
       "      <td>NaN</td>\n",
       "      <td>NaN</td>\n",
       "    </tr>\n",
       "    <tr>\n",
       "      <th>2426</th>\n",
       "      <td>2023-08-24</td>\n",
       "      <td>0</td>\n",
       "      <td>0.00</td>\n",
       "      <td>0.00</td>\n",
       "      <td>0</td>\n",
       "      <td>0.00</td>\n",
       "      <td>0</td>\n",
       "      <td>000545</td>\n",
       "      <td>흥국화재우</td>\n",
       "      <td>KOSPI</td>\n",
       "    </tr>\n",
       "    <tr>\n",
       "      <th>2427</th>\n",
       "      <td>2023-08-24</td>\n",
       "      <td>0</td>\n",
       "      <td>0.00</td>\n",
       "      <td>0.00</td>\n",
       "      <td>0</td>\n",
       "      <td>0.00</td>\n",
       "      <td>0</td>\n",
       "      <td>003280</td>\n",
       "      <td>흥아해운</td>\n",
       "      <td>KOSPI</td>\n",
       "    </tr>\n",
       "    <tr>\n",
       "      <th>2428</th>\n",
       "      <td>2023-08-24</td>\n",
       "      <td>4034</td>\n",
       "      <td>17.07</td>\n",
       "      <td>1.65</td>\n",
       "      <td>389</td>\n",
       "      <td>2.26</td>\n",
       "      <td>150</td>\n",
       "      <td>037440</td>\n",
       "      <td>희림</td>\n",
       "      <td>KOSDAQ</td>\n",
       "    </tr>\n",
       "    <tr>\n",
       "      <th>2429</th>\n",
       "      <td>2023-08-24</td>\n",
       "      <td>6872</td>\n",
       "      <td>6.57</td>\n",
       "      <td>1.46</td>\n",
       "      <td>1522</td>\n",
       "      <td>1.50</td>\n",
       "      <td>150</td>\n",
       "      <td>238490</td>\n",
       "      <td>힘스</td>\n",
       "      <td>KOSDAQ</td>\n",
       "    </tr>\n",
       "  </tbody>\n",
       "</table>\n",
       "<p>2430 rows × 10 columns</p>\n",
       "</div>"
      ],
      "text/plain": [
       "           date    bps     per   pbr   eps   div  dps  ticker corp_name  \\\n",
       "0    2023-08-24    792  206.25  4.17    16  0.00    0  060310        3S   \n",
       "1    2023-08-24   6089    0.00  0.87     0  3.95  210  095570    AJ네트웍스   \n",
       "2    2023-08-24  50471    0.00  0.39     0  2.05  400  006840     AK홀딩스   \n",
       "3    2023-08-24   8135    0.00  1.72     0  0.00    0  054620       APS   \n",
       "4    2023-08-24   9041   14.49  2.78  1736  0.48  120  265520     AP시스템   \n",
       "...         ...    ...     ...   ...   ...   ...  ...     ...       ...   \n",
       "2425 2023-08-24      0    0.00  0.00     0  0.00    0  000547       NaN   \n",
       "2426 2023-08-24      0    0.00  0.00     0  0.00    0  000545     흥국화재우   \n",
       "2427 2023-08-24      0    0.00  0.00     0  0.00    0  003280      흥아해운   \n",
       "2428 2023-08-24   4034   17.07  1.65   389  2.26  150  037440        희림   \n",
       "2429 2023-08-24   6872    6.57  1.46  1522  1.50  150  238490        힘스   \n",
       "\n",
       "      market  \n",
       "0     KOSDAQ  \n",
       "1      KOSPI  \n",
       "2      KOSPI  \n",
       "3     KOSDAQ  \n",
       "4     KOSDAQ  \n",
       "...      ...  \n",
       "2425     NaN  \n",
       "2426   KOSPI  \n",
       "2427   KOSPI  \n",
       "2428  KOSDAQ  \n",
       "2429  KOSDAQ  \n",
       "\n",
       "[2430 rows x 10 columns]"
      ]
     },
     "execution_count": 92,
     "metadata": {},
     "output_type": "execute_result"
    }
   ],
   "source": [
    "df_raw1"
   ]
  },
  {
   "cell_type": "code",
   "execution_count": 97,
   "id": "cf2fd792",
   "metadata": {},
   "outputs": [],
   "source": [
    "df1 = df_raw1[(df_raw1['per'] > 0.2) & \n",
    "        (df_raw1['pbr'] > 0.2)]"
   ]
  },
  {
   "cell_type": "code",
   "execution_count": 98,
   "id": "dfbbeb2f",
   "metadata": {},
   "outputs": [],
   "source": [
    "df1 = df1[(df1['per'] < 2) & \n",
    "        (df1['pbr'] < 2)]"
   ]
  },
  {
   "cell_type": "code",
   "execution_count": 99,
   "id": "6b868007",
   "metadata": {},
   "outputs": [
    {
     "data": {
      "text/html": [
       "<div>\n",
       "<style scoped>\n",
       "    .dataframe tbody tr th:only-of-type {\n",
       "        vertical-align: middle;\n",
       "    }\n",
       "\n",
       "    .dataframe tbody tr th {\n",
       "        vertical-align: top;\n",
       "    }\n",
       "\n",
       "    .dataframe thead th {\n",
       "        text-align: right;\n",
       "    }\n",
       "</style>\n",
       "<table border=\"1\" class=\"dataframe\">\n",
       "  <thead>\n",
       "    <tr style=\"text-align: right;\">\n",
       "      <th></th>\n",
       "      <th>date</th>\n",
       "      <th>bps</th>\n",
       "      <th>per</th>\n",
       "      <th>pbr</th>\n",
       "      <th>eps</th>\n",
       "      <th>div</th>\n",
       "      <th>dps</th>\n",
       "      <th>ticker</th>\n",
       "      <th>corp_name</th>\n",
       "      <th>market</th>\n",
       "    </tr>\n",
       "  </thead>\n",
       "  <tbody>\n",
       "    <tr>\n",
       "      <th>1063</th>\n",
       "      <td>2023-08-24</td>\n",
       "      <td>49397</td>\n",
       "      <td>0.32</td>\n",
       "      <td>0.70</td>\n",
       "      <td>106557</td>\n",
       "      <td>0.00</td>\n",
       "      <td>0</td>\n",
       "      <td>036830</td>\n",
       "      <td>솔브레인홀딩스</td>\n",
       "      <td>KOSDAQ</td>\n",
       "    </tr>\n",
       "    <tr>\n",
       "      <th>2320</th>\n",
       "      <td>2023-08-24</td>\n",
       "      <td>32729</td>\n",
       "      <td>0.57</td>\n",
       "      <td>0.44</td>\n",
       "      <td>25207</td>\n",
       "      <td>1.21</td>\n",
       "      <td>175</td>\n",
       "      <td>034810</td>\n",
       "      <td>해성산업</td>\n",
       "      <td>KOSDAQ</td>\n",
       "    </tr>\n",
       "    <tr>\n",
       "      <th>992</th>\n",
       "      <td>2023-08-24</td>\n",
       "      <td>14797</td>\n",
       "      <td>0.93</td>\n",
       "      <td>0.38</td>\n",
       "      <td>6074</td>\n",
       "      <td>3.53</td>\n",
       "      <td>200</td>\n",
       "      <td>037350</td>\n",
       "      <td>성도이엔지</td>\n",
       "      <td>KOSDAQ</td>\n",
       "    </tr>\n",
       "    <tr>\n",
       "      <th>1526</th>\n",
       "      <td>2023-08-24</td>\n",
       "      <td>10289</td>\n",
       "      <td>1.01</td>\n",
       "      <td>0.43</td>\n",
       "      <td>4368</td>\n",
       "      <td>0.00</td>\n",
       "      <td>0</td>\n",
       "      <td>032940</td>\n",
       "      <td>원익</td>\n",
       "      <td>KOSDAQ</td>\n",
       "    </tr>\n",
       "    <tr>\n",
       "      <th>2011</th>\n",
       "      <td>2023-08-24</td>\n",
       "      <td>15974</td>\n",
       "      <td>1.10</td>\n",
       "      <td>0.65</td>\n",
       "      <td>9514</td>\n",
       "      <td>3.11</td>\n",
       "      <td>325</td>\n",
       "      <td>009410</td>\n",
       "      <td>태영건설</td>\n",
       "      <td>KOSPI</td>\n",
       "    </tr>\n",
       "    <tr>\n",
       "      <th>188</th>\n",
       "      <td>2023-08-24</td>\n",
       "      <td>54475</td>\n",
       "      <td>1.42</td>\n",
       "      <td>1.14</td>\n",
       "      <td>43859</td>\n",
       "      <td>2.42</td>\n",
       "      <td>1500</td>\n",
       "      <td>016250</td>\n",
       "      <td>SGC이테크건설</td>\n",
       "      <td>KOSDAQ</td>\n",
       "    </tr>\n",
       "    <tr>\n",
       "      <th>1582</th>\n",
       "      <td>2023-08-24</td>\n",
       "      <td>9044</td>\n",
       "      <td>1.50</td>\n",
       "      <td>0.35</td>\n",
       "      <td>2123</td>\n",
       "      <td>0.47</td>\n",
       "      <td>15</td>\n",
       "      <td>024800</td>\n",
       "      <td>유성티엔에스</td>\n",
       "      <td>KOSDAQ</td>\n",
       "    </tr>\n",
       "    <tr>\n",
       "      <th>2272</th>\n",
       "      <td>2023-08-24</td>\n",
       "      <td>52869</td>\n",
       "      <td>1.74</td>\n",
       "      <td>0.30</td>\n",
       "      <td>9155</td>\n",
       "      <td>2.51</td>\n",
       "      <td>400</td>\n",
       "      <td>004960</td>\n",
       "      <td>한신공영</td>\n",
       "      <td>KOSPI</td>\n",
       "    </tr>\n",
       "    <tr>\n",
       "      <th>119</th>\n",
       "      <td>2023-08-24</td>\n",
       "      <td>183257</td>\n",
       "      <td>1.84</td>\n",
       "      <td>0.35</td>\n",
       "      <td>34397</td>\n",
       "      <td>4.89</td>\n",
       "      <td>3100</td>\n",
       "      <td>092230</td>\n",
       "      <td>KPX홀딩스</td>\n",
       "      <td>KOSPI</td>\n",
       "    </tr>\n",
       "    <tr>\n",
       "      <th>1125</th>\n",
       "      <td>2023-08-24</td>\n",
       "      <td>2884</td>\n",
       "      <td>1.86</td>\n",
       "      <td>0.77</td>\n",
       "      <td>1189</td>\n",
       "      <td>2.26</td>\n",
       "      <td>50</td>\n",
       "      <td>002870</td>\n",
       "      <td>신풍</td>\n",
       "      <td>KOSPI</td>\n",
       "    </tr>\n",
       "    <tr>\n",
       "      <th>1583</th>\n",
       "      <td>2023-08-24</td>\n",
       "      <td>11744</td>\n",
       "      <td>1.95</td>\n",
       "      <td>0.53</td>\n",
       "      <td>3202</td>\n",
       "      <td>8.03</td>\n",
       "      <td>500</td>\n",
       "      <td>000700</td>\n",
       "      <td>유수홀딩스</td>\n",
       "      <td>KOSPI</td>\n",
       "    </tr>\n",
       "  </tbody>\n",
       "</table>\n",
       "</div>"
      ],
      "text/plain": [
       "           date     bps   per   pbr     eps   div   dps  ticker corp_name  \\\n",
       "1063 2023-08-24   49397  0.32  0.70  106557  0.00     0  036830   솔브레인홀딩스   \n",
       "2320 2023-08-24   32729  0.57  0.44   25207  1.21   175  034810      해성산업   \n",
       "992  2023-08-24   14797  0.93  0.38    6074  3.53   200  037350     성도이엔지   \n",
       "1526 2023-08-24   10289  1.01  0.43    4368  0.00     0  032940        원익   \n",
       "2011 2023-08-24   15974  1.10  0.65    9514  3.11   325  009410      태영건설   \n",
       "188  2023-08-24   54475  1.42  1.14   43859  2.42  1500  016250  SGC이테크건설   \n",
       "1582 2023-08-24    9044  1.50  0.35    2123  0.47    15  024800    유성티엔에스   \n",
       "2272 2023-08-24   52869  1.74  0.30    9155  2.51   400  004960      한신공영   \n",
       "119  2023-08-24  183257  1.84  0.35   34397  4.89  3100  092230    KPX홀딩스   \n",
       "1125 2023-08-24    2884  1.86  0.77    1189  2.26    50  002870        신풍   \n",
       "1583 2023-08-24   11744  1.95  0.53    3202  8.03   500  000700     유수홀딩스   \n",
       "\n",
       "      market  \n",
       "1063  KOSDAQ  \n",
       "2320  KOSDAQ  \n",
       "992   KOSDAQ  \n",
       "1526  KOSDAQ  \n",
       "2011   KOSPI  \n",
       "188   KOSDAQ  \n",
       "1582  KOSDAQ  \n",
       "2272   KOSPI  \n",
       "119    KOSPI  \n",
       "1125   KOSPI  \n",
       "1583   KOSPI  "
      ]
     },
     "execution_count": 99,
     "metadata": {},
     "output_type": "execute_result"
    }
   ],
   "source": [
    "df1.sort_values(by = 'per')"
   ]
  },
  {
   "cell_type": "code",
   "execution_count": 100,
   "id": "d9c43f41",
   "metadata": {},
   "outputs": [
    {
     "data": {
      "text/html": [
       "<div>\n",
       "<style scoped>\n",
       "    .dataframe tbody tr th:only-of-type {\n",
       "        vertical-align: middle;\n",
       "    }\n",
       "\n",
       "    .dataframe tbody tr th {\n",
       "        vertical-align: top;\n",
       "    }\n",
       "\n",
       "    .dataframe thead th {\n",
       "        text-align: right;\n",
       "    }\n",
       "</style>\n",
       "<table border=\"1\" class=\"dataframe\">\n",
       "  <thead>\n",
       "    <tr style=\"text-align: right;\">\n",
       "      <th></th>\n",
       "      <th>date</th>\n",
       "      <th>bps</th>\n",
       "      <th>per</th>\n",
       "      <th>pbr</th>\n",
       "      <th>eps</th>\n",
       "      <th>div</th>\n",
       "      <th>dps</th>\n",
       "      <th>ticker</th>\n",
       "      <th>corp_name</th>\n",
       "      <th>market</th>\n",
       "    </tr>\n",
       "  </thead>\n",
       "  <tbody>\n",
       "    <tr>\n",
       "      <th>2272</th>\n",
       "      <td>2023-08-24</td>\n",
       "      <td>52869</td>\n",
       "      <td>1.74</td>\n",
       "      <td>0.30</td>\n",
       "      <td>9155</td>\n",
       "      <td>2.51</td>\n",
       "      <td>400</td>\n",
       "      <td>004960</td>\n",
       "      <td>한신공영</td>\n",
       "      <td>KOSPI</td>\n",
       "    </tr>\n",
       "    <tr>\n",
       "      <th>119</th>\n",
       "      <td>2023-08-24</td>\n",
       "      <td>183257</td>\n",
       "      <td>1.84</td>\n",
       "      <td>0.35</td>\n",
       "      <td>34397</td>\n",
       "      <td>4.89</td>\n",
       "      <td>3100</td>\n",
       "      <td>092230</td>\n",
       "      <td>KPX홀딩스</td>\n",
       "      <td>KOSPI</td>\n",
       "    </tr>\n",
       "    <tr>\n",
       "      <th>1582</th>\n",
       "      <td>2023-08-24</td>\n",
       "      <td>9044</td>\n",
       "      <td>1.50</td>\n",
       "      <td>0.35</td>\n",
       "      <td>2123</td>\n",
       "      <td>0.47</td>\n",
       "      <td>15</td>\n",
       "      <td>024800</td>\n",
       "      <td>유성티엔에스</td>\n",
       "      <td>KOSDAQ</td>\n",
       "    </tr>\n",
       "    <tr>\n",
       "      <th>992</th>\n",
       "      <td>2023-08-24</td>\n",
       "      <td>14797</td>\n",
       "      <td>0.93</td>\n",
       "      <td>0.38</td>\n",
       "      <td>6074</td>\n",
       "      <td>3.53</td>\n",
       "      <td>200</td>\n",
       "      <td>037350</td>\n",
       "      <td>성도이엔지</td>\n",
       "      <td>KOSDAQ</td>\n",
       "    </tr>\n",
       "    <tr>\n",
       "      <th>1526</th>\n",
       "      <td>2023-08-24</td>\n",
       "      <td>10289</td>\n",
       "      <td>1.01</td>\n",
       "      <td>0.43</td>\n",
       "      <td>4368</td>\n",
       "      <td>0.00</td>\n",
       "      <td>0</td>\n",
       "      <td>032940</td>\n",
       "      <td>원익</td>\n",
       "      <td>KOSDAQ</td>\n",
       "    </tr>\n",
       "    <tr>\n",
       "      <th>2320</th>\n",
       "      <td>2023-08-24</td>\n",
       "      <td>32729</td>\n",
       "      <td>0.57</td>\n",
       "      <td>0.44</td>\n",
       "      <td>25207</td>\n",
       "      <td>1.21</td>\n",
       "      <td>175</td>\n",
       "      <td>034810</td>\n",
       "      <td>해성산업</td>\n",
       "      <td>KOSDAQ</td>\n",
       "    </tr>\n",
       "    <tr>\n",
       "      <th>1583</th>\n",
       "      <td>2023-08-24</td>\n",
       "      <td>11744</td>\n",
       "      <td>1.95</td>\n",
       "      <td>0.53</td>\n",
       "      <td>3202</td>\n",
       "      <td>8.03</td>\n",
       "      <td>500</td>\n",
       "      <td>000700</td>\n",
       "      <td>유수홀딩스</td>\n",
       "      <td>KOSPI</td>\n",
       "    </tr>\n",
       "    <tr>\n",
       "      <th>2011</th>\n",
       "      <td>2023-08-24</td>\n",
       "      <td>15974</td>\n",
       "      <td>1.10</td>\n",
       "      <td>0.65</td>\n",
       "      <td>9514</td>\n",
       "      <td>3.11</td>\n",
       "      <td>325</td>\n",
       "      <td>009410</td>\n",
       "      <td>태영건설</td>\n",
       "      <td>KOSPI</td>\n",
       "    </tr>\n",
       "    <tr>\n",
       "      <th>1063</th>\n",
       "      <td>2023-08-24</td>\n",
       "      <td>49397</td>\n",
       "      <td>0.32</td>\n",
       "      <td>0.70</td>\n",
       "      <td>106557</td>\n",
       "      <td>0.00</td>\n",
       "      <td>0</td>\n",
       "      <td>036830</td>\n",
       "      <td>솔브레인홀딩스</td>\n",
       "      <td>KOSDAQ</td>\n",
       "    </tr>\n",
       "    <tr>\n",
       "      <th>1125</th>\n",
       "      <td>2023-08-24</td>\n",
       "      <td>2884</td>\n",
       "      <td>1.86</td>\n",
       "      <td>0.77</td>\n",
       "      <td>1189</td>\n",
       "      <td>2.26</td>\n",
       "      <td>50</td>\n",
       "      <td>002870</td>\n",
       "      <td>신풍</td>\n",
       "      <td>KOSPI</td>\n",
       "    </tr>\n",
       "    <tr>\n",
       "      <th>188</th>\n",
       "      <td>2023-08-24</td>\n",
       "      <td>54475</td>\n",
       "      <td>1.42</td>\n",
       "      <td>1.14</td>\n",
       "      <td>43859</td>\n",
       "      <td>2.42</td>\n",
       "      <td>1500</td>\n",
       "      <td>016250</td>\n",
       "      <td>SGC이테크건설</td>\n",
       "      <td>KOSDAQ</td>\n",
       "    </tr>\n",
       "  </tbody>\n",
       "</table>\n",
       "</div>"
      ],
      "text/plain": [
       "           date     bps   per   pbr     eps   div   dps  ticker corp_name  \\\n",
       "2272 2023-08-24   52869  1.74  0.30    9155  2.51   400  004960      한신공영   \n",
       "119  2023-08-24  183257  1.84  0.35   34397  4.89  3100  092230    KPX홀딩스   \n",
       "1582 2023-08-24    9044  1.50  0.35    2123  0.47    15  024800    유성티엔에스   \n",
       "992  2023-08-24   14797  0.93  0.38    6074  3.53   200  037350     성도이엔지   \n",
       "1526 2023-08-24   10289  1.01  0.43    4368  0.00     0  032940        원익   \n",
       "2320 2023-08-24   32729  0.57  0.44   25207  1.21   175  034810      해성산업   \n",
       "1583 2023-08-24   11744  1.95  0.53    3202  8.03   500  000700     유수홀딩스   \n",
       "2011 2023-08-24   15974  1.10  0.65    9514  3.11   325  009410      태영건설   \n",
       "1063 2023-08-24   49397  0.32  0.70  106557  0.00     0  036830   솔브레인홀딩스   \n",
       "1125 2023-08-24    2884  1.86  0.77    1189  2.26    50  002870        신풍   \n",
       "188  2023-08-24   54475  1.42  1.14   43859  2.42  1500  016250  SGC이테크건설   \n",
       "\n",
       "      market  \n",
       "2272   KOSPI  \n",
       "119    KOSPI  \n",
       "1582  KOSDAQ  \n",
       "992   KOSDAQ  \n",
       "1526  KOSDAQ  \n",
       "2320  KOSDAQ  \n",
       "1583   KOSPI  \n",
       "2011   KOSPI  \n",
       "1063  KOSDAQ  \n",
       "1125   KOSPI  \n",
       "188   KOSDAQ  "
      ]
     },
     "execution_count": 100,
     "metadata": {},
     "output_type": "execute_result"
    }
   ],
   "source": [
    "df1.sort_values(by = 'pbr')"
   ]
  },
  {
   "cell_type": "code",
   "execution_count": null,
   "id": "b93b6396",
   "metadata": {},
   "outputs": [],
   "source": []
  }
 ],
 "metadata": {
  "kernelspec": {
   "display_name": "Python 3 (ipykernel)",
   "language": "python",
   "name": "python3"
  },
  "language_info": {
   "codemirror_mode": {
    "name": "ipython",
    "version": 3
   },
   "file_extension": ".py",
   "mimetype": "text/x-python",
   "name": "python",
   "nbconvert_exporter": "python",
   "pygments_lexer": "ipython3",
   "version": "3.11.3"
  },
  "toc": {
   "base_numbering": 1,
   "nav_menu": {},
   "number_sections": true,
   "sideBar": true,
   "skip_h1_title": false,
   "title_cell": "Table of Contents",
   "title_sidebar": "Contents",
   "toc_cell": false,
   "toc_position": {
    "height": "calc(100% - 180px)",
    "left": "10px",
    "top": "150px",
    "width": "227.6px"
   },
   "toc_section_display": true,
   "toc_window_display": true
  }
 },
 "nbformat": 4,
 "nbformat_minor": 5
}
