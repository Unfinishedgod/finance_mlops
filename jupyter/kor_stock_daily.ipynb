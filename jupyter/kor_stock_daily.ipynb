{
 "cells": [
  {
   "cell_type": "code",
   "execution_count": 2,
   "id": "e44f37ad",
   "metadata": {},
   "outputs": [
    {
     "ename": "FileNotFoundError",
     "evalue": "[Errno 2] No such file or directory: '/home/owenchoi07/finance_mlops'",
     "output_type": "error",
     "traceback": [
      "\u001b[0;31m---------------------------------------------------------------------------\u001b[0m",
      "\u001b[0;31mFileNotFoundError\u001b[0m                         Traceback (most recent call last)",
      "Cell \u001b[0;32mIn[2], line 22\u001b[0m\n\u001b[1;32m     19\u001b[0m \u001b[38;5;28;01mfrom\u001b[39;00m \u001b[38;5;21;01mgoogle\u001b[39;00m\u001b[38;5;21;01m.\u001b[39;00m\u001b[38;5;21;01mcloud\u001b[39;00m \u001b[38;5;28;01mimport\u001b[39;00m storage\n\u001b[1;32m     21\u001b[0m \u001b[38;5;66;03m# 경로 변경\u001b[39;00m\n\u001b[0;32m---> 22\u001b[0m os\u001b[38;5;241m.\u001b[39mchdir(\u001b[38;5;124m'\u001b[39m\u001b[38;5;124m/home/owenchoi07/finance_mlops\u001b[39m\u001b[38;5;124m'\u001b[39m)\n\u001b[1;32m     25\u001b[0m \u001b[38;5;66;03m# import pydata_google_auth\u001b[39;00m\n\u001b[1;32m     26\u001b[0m \n\u001b[1;32m     27\u001b[0m \u001b[38;5;66;03m# pandas_gbq\u001b[39;00m\n\u001b[1;32m     28\u001b[0m \u001b[38;5;66;03m# 서비스 계정 키 JSON 파일 경로\u001b[39;00m\n\u001b[1;32m     29\u001b[0m key_path \u001b[38;5;241m=\u001b[39m glob\u001b[38;5;241m.\u001b[39mglob(\u001b[38;5;124m\"\u001b[39m\u001b[38;5;124mkey_value/*.json\u001b[39m\u001b[38;5;124m\"\u001b[39m)[\u001b[38;5;241m0\u001b[39m]\n",
      "\u001b[0;31mFileNotFoundError\u001b[0m: [Errno 2] No such file or directory: '/home/owenchoi07/finance_mlops'"
     ]
    }
   ],
   "source": [
    "import pandas as pd\n",
    "import pandas_gbq\n",
    "from pykrx import stock\n",
    "from pykrx import bond\n",
    "import FinanceDataReader as fdr\n",
    "\n",
    "from time import sleep\n",
    "\n",
    "import psycopg2 as pg2\n",
    "from sqlalchemy import create_engine\n",
    "\n",
    "from datetime import datetime\n",
    "import os\n",
    "import time\n",
    "\n",
    "import glob\n",
    "from google.cloud import bigquery\n",
    "from google.oauth2 import service_account\n",
    "from google.cloud import storage\n",
    "\n",
    "# 경로 변경\n",
    "os.chdir('/home/owenchoi07/finance_mlops')\n",
    "\n",
    "\n",
    "# import pydata_google_auth\n",
    "\n",
    "# pandas_gbq\n",
    "# 서비스 계정 키 JSON 파일 경로\n",
    "key_path = glob.glob(\"key_value/*.json\")[0]\n",
    "\n",
    "# Credentials 객체 생성\n",
    "credentials = service_account.Credentials.from_service_account_file(key_path)\n",
    "\n",
    "# 빅쿼리 정보\n",
    "project_id = 'owen-389015'\n",
    "dataset_id = 'finance_mlops'\n",
    "\n",
    "\n",
    "# GCP 클라이언트 객체 생성\n",
    "storage_client = storage.Client(credentials = credentials, \n",
    "                         project = credentials.project_id)\n",
    "\n",
    "\n",
    "# Postgresql 연결\n",
    "db_connect_info = pd.read_csv('key_value/db_connect_info.csv')\n",
    "\n",
    "username = db_connect_info['username'][0]\n",
    "password = db_connect_info['password'][0]\n",
    "host = db_connect_info['host'][0]\n",
    "database = db_connect_info['database'][0]\n",
    "\n",
    "engine = create_engine(f'postgresql+psycopg2://{username}:{password}@{host}:5432/{database}')"
   ]
  },
  {
   "cell_type": "code",
   "execution_count": 2,
   "id": "c59d389e",
   "metadata": {},
   "outputs": [],
   "source": [
    "import pandas as pd\n",
    "import pandas_gbq\n",
    "from pykrx import stock\n",
    "from pykrx import bond\n",
    "import FinanceDataReader as fdr\n",
    "\n",
    "from time import sleep\n",
    "\n",
    "import psycopg2 as pg2\n",
    "from sqlalchemy import create_engine\n",
    "\n",
    "from datetime import datetime\n",
    "import os\n",
    "import time\n",
    "\n",
    "import glob\n",
    "from google.cloud import bigquery\n",
    "from google.oauth2 import service_account\n",
    "from google.cloud import storage"
   ]
  },
  {
   "cell_type": "code",
   "execution_count": 2,
   "id": "a022103a",
   "metadata": {},
   "outputs": [],
   "source": [
    "now = datetime.now()\n",
    "today_date1 = now.strftime('%Y%m%d')\n",
    "today_date2 = now.strftime('%Y-%m-%d')\n",
    "today_date_time_csv = now.strftime(\"%Y%m%d_%H%M\")\n"
   ]
  },
  {
   "cell_type": "code",
   "execution_count": null,
   "id": "cb128dfe",
   "metadata": {},
   "outputs": [],
   "source": []
  }
 ],
 "metadata": {
  "kernelspec": {
   "display_name": "Python 3 (ipykernel)",
   "language": "python",
   "name": "python3"
  },
  "language_info": {
   "codemirror_mode": {
    "name": "ipython",
    "version": 3
   },
   "file_extension": ".py",
   "mimetype": "text/x-python",
   "name": "python",
   "nbconvert_exporter": "python",
   "pygments_lexer": "ipython3",
   "version": "3.11.3"
  },
  "toc": {
   "base_numbering": 1,
   "nav_menu": {},
   "number_sections": true,
   "sideBar": true,
   "skip_h1_title": false,
   "title_cell": "Table of Contents",
   "title_sidebar": "Contents",
   "toc_cell": false,
   "toc_position": {},
   "toc_section_display": true,
   "toc_window_display": false
  }
 },
 "nbformat": 4,
 "nbformat_minor": 5
}
