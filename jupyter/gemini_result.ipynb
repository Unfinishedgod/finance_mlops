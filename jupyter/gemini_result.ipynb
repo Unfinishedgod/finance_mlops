{
 "cells": [
  {
   "cell_type": "code",
   "execution_count": 1,
   "id": "0f260719",
   "metadata": {
    "ExecuteTime": {
     "end_time": "2024-01-15T15:36:33.021347Z",
     "start_time": "2024-01-15T15:36:29.754033Z"
    }
   },
   "outputs": [],
   "source": [
    "import math\n",
    "import numpy as np\n",
    "import pandas as pd\n",
    "import os\n",
    "import glob\n",
    "\n",
    "from pykrx import stock\n",
    "from pykrx import bond\n",
    "\n",
    "import time\n",
    "from time import sleep\n",
    "from datetime import datetime\n",
    "from datetime import timedelta\n",
    "\n",
    "from pyarrow import csv\n",
    "import pyarrow as pa\n",
    "import pyarrow.parquet as pq\n",
    "\n",
    "from ta.trend import MACD\n",
    "from ta.momentum import StochasticOscillator\n",
    "\n",
    "import psycopg2 as pg2\n",
    "from sqlalchemy import create_engine\n",
    "\n",
    "from plotly.subplots import make_subplots\n",
    "import plotly.express as px\n",
    "import plotly.graph_objects as go\n",
    "\n",
    "from google.cloud import bigquery\n",
    "from google.oauth2 import service_account\n",
    "from google.cloud import storage\n",
    "\n",
    "import google.generativeai as genai\n",
    "\n",
    "import warnings\n",
    "warnings.filterwarnings('ignore')\n",
    "\n",
    "# 경로 변경\n",
    "os.chdir('/home/shjj08choi4/finance_mlops')\n",
    "\n",
    "\n",
    "# 서비스 계정 키 JSON 파일 경로\n",
    "key_path = glob.glob(\"key_value/*.json\")[0]\n",
    "\n",
    "# Credentials 객체 생성\n",
    "credentials = service_account.Credentials.from_service_account_file(key_path)\n",
    "\n",
    "# 빅쿼리 정보\n",
    "project_id = 'owenchoi-404302'\n",
    "dataset_id = 'finance_mlops'\n",
    "\n",
    "\n",
    "# BigQuery 클라이언트 객체 생성\n",
    "client = bigquery.Client(credentials = credentials, \n",
    "                         project = credentials.project_id)\n",
    "\n",
    "\n",
    "# GCP 클라이언트 객체 생성\n",
    "storage_client = storage.Client(credentials = credentials,\n",
    "                         project = credentials.project_id)\n",
    "bucket_name = 'finance-mlops-proj'    # 서비스 계정 생성한 bucket 이름 입력\n",
    "\n",
    "# Postgresql 연결\n",
    "db_connect_info = pd.read_csv('key_value/db_connect_info.csv')\n",
    "username = db_connect_info['username'][0]\n",
    "password = db_connect_info['password'][0]\n",
    "host = db_connect_info['host'][0]\n",
    "database = db_connect_info['database'][0]\n",
    "engine = create_engine(f'postgresql+psycopg2://{username}:{password}@{host}:5432/{database}')\n",
    "\n",
    "\n",
    "now = datetime.now()\n",
    "# now = now + timedelta(days=-2)\n",
    "today_date1 = now.strftime('%Y%m%d')\n",
    "today_date2 = now.strftime('%Y-%m-%d')\n",
    "today_date_time_csv = now.strftime(\"%Y%m%d_%H%M\")"
   ]
  },
  {
   "cell_type": "code",
   "execution_count": 2,
   "id": "59a64fe6",
   "metadata": {
    "ExecuteTime": {
     "end_time": "2024-01-15T15:36:33.033826Z",
     "start_time": "2024-01-15T15:36:33.023994Z"
    }
   },
   "outputs": [],
   "source": [
    "gemini_result_kospi_20240115 = pd.read_csv('data_crawler/dashboard/gemini_result_kosdaq_20240115.csv', \n",
    "                                          dtype = {'ticker':str})"
   ]
  },
  {
   "cell_type": "code",
   "execution_count": 5,
   "id": "5c8fb6d5",
   "metadata": {
    "ExecuteTime": {
     "end_time": "2024-01-15T15:38:18.007608Z",
     "start_time": "2024-01-15T15:38:17.954541Z"
    }
   },
   "outputs": [],
   "source": [
    "# Google Storage 적재\n",
    "source_file_name = f'data_crawler/dashboard/gemini_result_kosdaq_20240115.csv'    # GCP에 업로드할 파일 절대경로\n",
    "destination_blob_name = f'data_crawler/dashboard/gemini_result_kosdaq_20240115.csv'    # 업로드할 파일을 GCP에 저장할 때의 이름\n",
    "bucket = storage_client.bucket(bucket_name)\n",
    "blob = bucket.blob(destination_blob_name)\n",
    "blob.upload_from_filename(source_file_name)"
   ]
  },
  {
   "cell_type": "code",
   "execution_count": 12,
   "id": "c4bf7e4a",
   "metadata": {
    "ExecuteTime": {
     "end_time": "2024-01-15T15:42:03.630072Z",
     "start_time": "2024-01-15T15:42:03.621869Z"
    }
   },
   "outputs": [
    {
     "data": {
      "text/plain": [
       "'**증권 보고서**\\n\\n**날짜:** 2024년 1월 15일\\n\\n**종목 정보:** LG 에너지 솔루션\\n\\n**등락률:**\\n\\nLG 에너지 솔루션의 주가는 2024년 1월 5일 전 거래일 대비 2.5% 하락했습니다. 이는 동 기간 동안 코스피가 0.5% 상승한 것과 대조적입니다.\\n\\n**매수/매도 신호:**\\n\\n* LG 에너지 솔루션은 역배열(매도)과 MACD 하향 돌파(매도) 신호를 생성했습니다.\\n\\n**결론:**\\n\\nLG 에너지 솔루션의 주가는 하락세로 전환했으며 매수/매도 신호는 매도를 권장합니다. 따라서 투자자들은 주의가 필요합니다.'"
      ]
     },
     "execution_count": 12,
     "metadata": {},
     "output_type": "execute_result"
    }
   ],
   "source": [
    "gemini_result_kospi_20240115[gemini_result_kospi_20240115['ticker'] == '373220'].reset_index(drop = True)['response_msg'][0]"
   ]
  }
 ],
 "metadata": {
  "kernelspec": {
   "display_name": "Python 3 (ipykernel)",
   "language": "python",
   "name": "python3"
  },
  "language_info": {
   "codemirror_mode": {
    "name": "ipython",
    "version": 3
   },
   "file_extension": ".py",
   "mimetype": "text/x-python",
   "name": "python",
   "nbconvert_exporter": "python",
   "pygments_lexer": "ipython3",
   "version": "3.11.3"
  },
  "toc": {
   "base_numbering": 1,
   "nav_menu": {},
   "number_sections": true,
   "sideBar": true,
   "skip_h1_title": false,
   "title_cell": "Table of Contents",
   "title_sidebar": "Contents",
   "toc_cell": false,
   "toc_position": {},
   "toc_section_display": true,
   "toc_window_display": false
  }
 },
 "nbformat": 4,
 "nbformat_minor": 5
}
