{
 "cells": [
  {
   "cell_type": "code",
   "execution_count": 4,
   "id": "04b43049",
   "metadata": {},
   "outputs": [],
   "source": [
    "import pandas as pd\n",
    "import pandas_gbq\n",
    "from pykrx import stock\n",
    "from pykrx import bond\n",
    "import FinanceDataReader as fdr\n",
    "\n",
    "from time import sleep\n",
    "\n",
    "import psycopg2 as pg2\n",
    "from sqlalchemy import create_engine\n",
    "\n",
    "from datetime import datetime\n",
    "import os\n",
    "import time\n",
    "\n",
    "import glob\n",
    "from google.cloud import bigquery\n",
    "from google.oauth2 import service_account\n",
    "from google.cloud import storage\n",
    "\n",
    "# 경로 변경\n",
    "os.chdir('/home/owenchoi07/finance_mlops')\n",
    "\n",
    "\n",
    "# import pydata_google_auth\n",
    "\n",
    "# pandas_gbq\n",
    "# 서비스 계정 키 JSON 파일 경로\n",
    "key_path = glob.glob(\"key_value/*.json\")[0]\n",
    "\n",
    "# Credentials 객체 생성\n",
    "credentials = service_account.Credentials.from_service_account_file(key_path)\n",
    "\n",
    "# 빅쿼리 정보\n",
    "project_id = 'owen-389015'\n",
    "dataset_id = 'finance_mlops'\n",
    "\n",
    "\n",
    "# GCP 클라이언트 객체 생성\n",
    "storage_client = storage.Client(credentials = credentials, \n",
    "                         project = credentials.project_id)\n",
    "\n",
    "\n",
    "# Postgresql 연결\n",
    "db_connect_info = pd.read_csv('key_value/db_connect_info.csv')\n",
    "\n",
    "username = db_connect_info['username'][0]\n",
    "password = db_connect_info['password'][0]\n",
    "host = db_connect_info['host'][0]\n",
    "database = db_connect_info['database'][0]\n",
    "\n",
    "engine = create_engine(f'postgresql+psycopg2://{username}:{password}@{host}:5432/{database}')"
   ]
  },
  {
   "cell_type": "code",
   "execution_count": 2,
   "id": "2e048725",
   "metadata": {},
   "outputs": [],
   "source": [
    "now = datetime.now()\n",
    "today_date2 = now.strftime('%Y-%m-%d')\n",
    "start_date2 = '2017-01-01'"
   ]
  },
  {
   "cell_type": "markdown",
   "id": "71785798",
   "metadata": {},
   "source": [
    "## S&P 500 종목 리스트"
   ]
  },
  {
   "cell_type": "code",
   "execution_count": 5,
   "id": "27dbb63d",
   "metadata": {},
   "outputs": [
    {
     "data": {
      "text/html": [
       "<div>\n",
       "<style scoped>\n",
       "    .dataframe tbody tr th:only-of-type {\n",
       "        vertical-align: middle;\n",
       "    }\n",
       "\n",
       "    .dataframe tbody tr th {\n",
       "        vertical-align: top;\n",
       "    }\n",
       "\n",
       "    .dataframe thead th {\n",
       "        text-align: right;\n",
       "    }\n",
       "</style>\n",
       "<table border=\"1\" class=\"dataframe\">\n",
       "  <thead>\n",
       "    <tr style=\"text-align: right;\">\n",
       "      <th></th>\n",
       "      <th>ticker</th>\n",
       "      <th>corp_name</th>\n",
       "      <th>sector</th>\n",
       "      <th>industry</th>\n",
       "    </tr>\n",
       "  </thead>\n",
       "  <tbody>\n",
       "    <tr>\n",
       "      <th>0</th>\n",
       "      <td>MMM</td>\n",
       "      <td>3M</td>\n",
       "      <td>Industrials</td>\n",
       "      <td>Industrial Conglomerates</td>\n",
       "    </tr>\n",
       "    <tr>\n",
       "      <th>1</th>\n",
       "      <td>AOS</td>\n",
       "      <td>A. O. Smith</td>\n",
       "      <td>Industrials</td>\n",
       "      <td>Building Products</td>\n",
       "    </tr>\n",
       "    <tr>\n",
       "      <th>2</th>\n",
       "      <td>ABT</td>\n",
       "      <td>Abbott</td>\n",
       "      <td>Health Care</td>\n",
       "      <td>Health Care Equipment</td>\n",
       "    </tr>\n",
       "    <tr>\n",
       "      <th>3</th>\n",
       "      <td>ABBV</td>\n",
       "      <td>AbbVie</td>\n",
       "      <td>Health Care</td>\n",
       "      <td>Pharmaceuticals</td>\n",
       "    </tr>\n",
       "    <tr>\n",
       "      <th>4</th>\n",
       "      <td>ACN</td>\n",
       "      <td>Accenture</td>\n",
       "      <td>Information Technology</td>\n",
       "      <td>IT Consulting &amp; Other Services</td>\n",
       "    </tr>\n",
       "  </tbody>\n",
       "</table>\n",
       "</div>"
      ],
      "text/plain": [
       "  ticker    corp_name                  sector                        industry\n",
       "0    MMM           3M             Industrials        Industrial Conglomerates\n",
       "1    AOS  A. O. Smith             Industrials               Building Products\n",
       "2    ABT       Abbott             Health Care           Health Care Equipment\n",
       "3   ABBV       AbbVie             Health Care                 Pharmaceuticals\n",
       "4    ACN    Accenture  Information Technology  IT Consulting & Other Services"
      ]
     },
     "execution_count": 5,
     "metadata": {},
     "output_type": "execute_result"
    }
   ],
   "source": [
    "# S&P 500 symbol list\n",
    "snp500 = fdr.StockListing('S&P500')\n",
    "snp500.columns = ['ticker', 'corp_name', 'sector', 'industry']\n",
    "snp500.head()"
   ]
  },
  {
   "cell_type": "code",
   "execution_count": 7,
   "id": "f326a5eb",
   "metadata": {},
   "outputs": [
    {
     "name": "stderr",
     "output_type": "stream",
     "text": [
      "100%|██████████| 1/1 [00:00<00:00, 8338.58it/s]\n"
     ]
    }
   ],
   "source": [
    "file_name = 'snp500_ticker_list'\n",
    "# 빅쿼리 데이터 적재\n",
    "snp500.to_gbq(destination_table=f'{project_id}.{dataset_id}.{file_name}',\n",
    "  project_id=project_id,\n",
    "  if_exists='replace',\n",
    "  credentials=credentials)\n",
    "\n",
    "# Postgresql 적재\n",
    "snp500.to_sql(f'{file_name}',if_exists='replace', con=engine,  index=False)\n",
    "\n",
    "\n",
    "\n",
    "snp500.to_csv(f'data_crawler/{file_name}.csv', index=False, mode='w')\n",
    "\n",
    "\n",
    "# Google Storage 적재\n",
    "bucket_name = 'finance-mlops'    # 서비스 계정 생성한 bucket 이름 입력\n",
    "source_file_name = f'data_crawler/{file_name}.csv'    # GCP에 업로드할 파일 절대경로\n",
    "destination_blob_name = f'data_crawler/{file_name}/{file_name}.csv'    # 업로드할 파일을 GCP에 저장할 때의 이름\n",
    "\n",
    "bucket = storage_client.bucket(bucket_name)\n",
    "blob = bucket.blob(destination_blob_name)\n",
    "blob.upload_from_filename(source_file_name)\n",
    "\n",
    "sp500_ticker_list = snp500['ticker']"
   ]
  },
  {
   "cell_type": "markdown",
   "id": "f284c9b1",
   "metadata": {},
   "source": [
    "## 주가 데이터 수집"
   ]
  },
  {
   "cell_type": "code",
   "execution_count": 8,
   "id": "fe8b62c7",
   "metadata": {},
   "outputs": [
    {
     "name": "stderr",
     "output_type": "stream",
     "text": [
      "100%|██████████| 1/1 [00:00<00:00, 3269.14it/s]\n"
     ]
    },
    {
     "name": "stdout",
     "output_type": "stream",
     "text": [
      "MMM success\n"
     ]
    },
    {
     "name": "stderr",
     "output_type": "stream",
     "text": [
      "100%|██████████| 1/1 [00:00<00:00, 8128.50it/s]"
     ]
    },
    {
     "name": "stdout",
     "output_type": "stream",
     "text": [
      "AOS success\n"
     ]
    },
    {
     "name": "stderr",
     "output_type": "stream",
     "text": [
      "\n"
     ]
    }
   ],
   "source": [
    "for ticker_nm in sp500_ticker_list[:2]:\n",
    "    file_name = 'snp500'\n",
    "    try:\n",
    "        # Apple(AAPL), 2017-01-01 ~ Now\n",
    "        df_raw = fdr.DataReader(ticker_nm, start_date2,today_date2)\n",
    "        df_raw['ticker'] = ticker_nm\n",
    "        df_raw = df_raw.reset_index()\n",
    "        \n",
    "        # 빅쿼리 데이터 적재\n",
    "        df_raw.to_gbq(destination_table=f'{project_id}.{dataset_id}.{file_name}',\n",
    "          project_id=project_id,\n",
    "          if_exists='append',\n",
    "          credentials=credentials)\n",
    "        \n",
    "        # Postgresql 적재\n",
    "        df_raw.to_sql(f'{file_name}',if_exists='append', con=engine,  index=False)\n",
    "        \n",
    "        if not os.path.exists(f'data_crawler/{file_name}.csv'):\n",
    "            df_raw.to_csv(f'data_crawler/{file_name}.csv', index=False, mode='w')\n",
    "        else:\n",
    "            df_raw.to_csv(f'data_crawler/{file_name}.csv', index=False, mode='a', header=False)\n",
    "        \n",
    "        print(f'{ticker_nm} success')\n",
    "    except:\n",
    "        print(f'{ticker_nm} fail')   \n",
    "\n",
    "# Google Storage 적재        \n",
    "bucket_name = 'finance-mlops'    # 서비스 계정 생성한 bucket 이름 입력\n",
    "source_file_name = f'data_crawler/{file_name}.csv'    # GCP에 업로드할 파일 절대경로\n",
    "destination_blob_name = f'data_crawler/{file_name}/{file_name}.csv'    # 업로드할 파일을 GCP에 저장할 때의 이름\n",
    "\n",
    "bucket = storage_client.bucket(bucket_name)\n",
    "blob = bucket.blob(destination_blob_name)\n",
    "blob.upload_from_filename(source_file_name)    \n"
   ]
  },
  {
   "cell_type": "markdown",
   "id": "3e42e203",
   "metadata": {},
   "source": [
    "## 비트코인"
   ]
  },
  {
   "cell_type": "code",
   "execution_count": 10,
   "id": "60fc4076",
   "metadata": {},
   "outputs": [
    {
     "name": "stderr",
     "output_type": "stream",
     "text": [
      "100%|██████████| 1/1 [00:00<00:00, 2513.06it/s]\n"
     ]
    }
   ],
   "source": [
    "df_raw = fdr.DataReader('BTC/KRW', \"2016-01-01\",today_date2)\n",
    "df_raw = df_raw.reset_index()\n",
    "\n",
    "file_name = 'btc_df'\n",
    "\n",
    "df_raw.to_csv(f'data_crawler/{file_name}.csv', index=False, mode='w')\n",
    "\n",
    "# 빅쿼리 데이터 적재\n",
    "df_raw.to_gbq(destination_table=f'{project_id}.{dataset_id}.{file_name}',\n",
    "  project_id=project_id,\n",
    "  if_exists='append',\n",
    "  credentials=credentials)\n",
    "\n",
    "# Postgresql 적재\n",
    "df_raw.to_sql(f'{file_name}',if_exists='append', con=engine,  index=False)\n",
    "\n",
    "# Google Storage 적재\n",
    "bucket_name = 'finance-mlops'    # 서비스 계정 생성한 bucket 이름 입력\n",
    "source_file_name = f'data_crawler/{file_name}.csv'    # GCP에 업로드할 파일 절대경로\n",
    "destination_blob_name = f'data_crawler/{file_name}/{file_name}.csv'    # 업로드할 파일을 GCP에 저장할 때의 이름\n",
    "\n",
    "bucket = storage_client.bucket(bucket_name)\n",
    "blob = bucket.blob(destination_blob_name)\n",
    "blob.upload_from_filename(source_file_name)    \n"
   ]
  },
  {
   "cell_type": "markdown",
   "id": "f7cd8517",
   "metadata": {},
   "source": [
    "### 환율"
   ]
  },
  {
   "cell_type": "code",
   "execution_count": 11,
   "id": "60261b4f",
   "metadata": {},
   "outputs": [
    {
     "name": "stderr",
     "output_type": "stream",
     "text": [
      "100%|██████████| 1/1 [00:00<00:00, 3407.23it/s]\n"
     ]
    }
   ],
   "source": [
    "df_raw = fdr.DataReader('USD/KRW', \"2016-01-01\",today_date2)\n",
    "df_raw = df_raw.reset_index()\n",
    "\n",
    "file_name = 'usdkrw'\n",
    "\n",
    "df_raw.to_csv(f'data_crawler/{file_name}.csv', index=False, mode='w')\n",
    "\n",
    "# 빅쿼리 데이터 적재\n",
    "df_raw.to_gbq(destination_table=f'{project_id}.{dataset_id}.{file_name}',\n",
    "  project_id=project_id,\n",
    "  if_exists='append',\n",
    "  credentials=credentials)\n",
    "\n",
    "# Postgresql 적재\n",
    "df_raw.to_sql(f'{file_name}',if_exists='append', con=engine,  index=False)\n",
    "\n",
    "# Google Storage 적재\n",
    "bucket_name = 'finance-mlops'    # 서비스 계정 생성한 bucket 이름 입력\n",
    "source_file_name = f'data_crawler/{file_name}.csv'    # GCP에 업로드할 파일 절대경로\n",
    "destination_blob_name = f'data_crawler/{file_name}/{file_name}.csv'    # 업로드할 파일을 GCP에 저장할 때의 이름\n",
    "\n",
    "bucket = storage_client.bucket(bucket_name)\n",
    "blob = bucket.blob(destination_blob_name)\n",
    "blob.upload_from_filename(source_file_name)    \n"
   ]
  },
  {
   "cell_type": "code",
   "execution_count": null,
   "id": "bee2d03b",
   "metadata": {},
   "outputs": [],
   "source": []
  }
 ],
 "metadata": {
  "kernelspec": {
   "display_name": "Python 3 (ipykernel)",
   "language": "python",
   "name": "python3"
  },
  "language_info": {
   "codemirror_mode": {
    "name": "ipython",
    "version": 3
   },
   "file_extension": ".py",
   "mimetype": "text/x-python",
   "name": "python",
   "nbconvert_exporter": "python",
   "pygments_lexer": "ipython3",
   "version": "3.10.9"
  },
  "toc": {
   "base_numbering": 1,
   "nav_menu": {},
   "number_sections": true,
   "sideBar": true,
   "skip_h1_title": false,
   "title_cell": "Table of Contents",
   "title_sidebar": "Contents",
   "toc_cell": false,
   "toc_position": {
    "height": "calc(100% - 180px)",
    "left": "10px",
    "top": "150px",
    "width": "211.225px"
   },
   "toc_section_display": true,
   "toc_window_display": true
  }
 },
 "nbformat": 4,
 "nbformat_minor": 5
}
