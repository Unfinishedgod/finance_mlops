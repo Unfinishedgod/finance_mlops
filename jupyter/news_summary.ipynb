{
 "cells": [
  {
   "cell_type": "markdown",
   "id": "c3ca935a",
   "metadata": {},
   "source": [
    "### chatgpt python 연동"
   ]
  },
  {
   "cell_type": "code",
   "execution_count": 3,
   "id": "89a214c3",
   "metadata": {
    "ExecuteTime": {
     "end_time": "2023-12-08T00:34:19.591573Z",
     "start_time": "2023-12-08T00:34:19.035202Z"
    }
   },
   "outputs": [],
   "source": [
    "# ### chatgpt python 연동\n",
    "import requests\n",
    "from bs4 import BeautifulSoup as bs\n",
    "import pandas as pd\n",
    "import os\n",
    "from time import sleep\n",
    "import openai\n",
    "from datetime import datetime\n",
    "import os\n",
    "import time\n",
    "\n",
    "os.chdir('/home/shjj08choi4/finance_mlops')"
   ]
  },
  {
   "cell_type": "markdown",
   "id": "a239ea0d",
   "metadata": {},
   "source": [
    "### api 키 "
   ]
  },
  {
   "cell_type": "code",
   "execution_count": 4,
   "id": "8635123f",
   "metadata": {
    "ExecuteTime": {
     "end_time": "2023-12-08T00:34:21.092998Z",
     "start_time": "2023-12-08T00:34:21.076959Z"
    }
   },
   "outputs": [],
   "source": [
    "# naver\n",
    "naver_apikey_df = pd.read_csv('key_value/naver_apikey.csv')\n",
    "client_id = naver_apikey_df['client_id'][0]\n",
    "client_secret = naver_apikey_df['client_secret'][0]\n",
    "\n",
    "# openai\n",
    "chatgpt_apikey_df = pd.read_csv('key_value/chatgpt_apikey.csv')\n",
    "chatgpt_apikey = chatgpt_apikey_df['api_key'][0]"
   ]
  },
  {
   "cell_type": "code",
   "execution_count": null,
   "id": "1770d2bc",
   "metadata": {},
   "outputs": [],
   "source": []
  },
  {
   "cell_type": "code",
   "execution_count": null,
   "id": "25c76bce",
   "metadata": {},
   "outputs": [],
   "source": []
  },
  {
   "cell_type": "code",
   "execution_count": 5,
   "id": "481e0fc8",
   "metadata": {
    "ExecuteTime": {
     "end_time": "2023-12-08T00:34:23.519839Z",
     "start_time": "2023-12-08T00:34:23.350651Z"
    }
   },
   "outputs": [],
   "source": [
    "search_word = '코스피' #검색어\n",
    "max_display = 100 #출력 뉴스 수\n",
    "sort = 'date' #결과값의 정렬기준 시간순 date, 관련도 순 sim\n",
    "# sort = 'sim' #결과값의 정렬기준 시간순 date, 관련도 순 sim\n",
    "start = 1 # 출력 위치\n",
    "\n",
    "url = 'https://openapi.naver.com/v1/search/news.json?' + \\\n",
    "    f'query={search_word}&display={str(int(max_display))}&start={str(int(start))}&sort={sort}'\n",
    "\n",
    "#헤더에 아이디와 키 정보 넣기\n",
    "headers = {'X-Naver-Client-Id' : client_id,\n",
    "           'X-Naver-Client-Secret':client_secret\n",
    "           }\n",
    "\n",
    "#HTTP요청 보내기\n",
    "r = requests.get(url, headers=headers)\n",
    "\n",
    "#요청 결과 보기 200 이면 정상적으로 요청 완료\n",
    "json_result = r.json()\n",
    "\n",
    "# df['total']\n",
    "df = pd.DataFrame(json_result['items'])\n",
    "df['pubDate'] = pd.to_datetime(df['pubDate'])"
   ]
  },
  {
   "cell_type": "code",
   "execution_count": 6,
   "id": "7dc7bd98",
   "metadata": {
    "ExecuteTime": {
     "end_time": "2023-12-08T00:34:23.766965Z",
     "start_time": "2023-12-08T00:34:23.759014Z"
    }
   },
   "outputs": [
    {
     "data": {
      "text/plain": [
       "2389846"
      ]
     },
     "execution_count": 6,
     "metadata": {},
     "output_type": "execute_result"
    }
   ],
   "source": [
    "json_result['total']"
   ]
  },
  {
   "cell_type": "code",
   "execution_count": 7,
   "id": "1ab4cad4",
   "metadata": {
    "ExecuteTime": {
     "end_time": "2023-12-08T00:34:36.939755Z",
     "start_time": "2023-12-08T00:34:36.922460Z"
    }
   },
   "outputs": [
    {
     "data": {
      "text/html": [
       "<div>\n",
       "<style scoped>\n",
       "    .dataframe tbody tr th:only-of-type {\n",
       "        vertical-align: middle;\n",
       "    }\n",
       "\n",
       "    .dataframe tbody tr th {\n",
       "        vertical-align: top;\n",
       "    }\n",
       "\n",
       "    .dataframe thead th {\n",
       "        text-align: right;\n",
       "    }\n",
       "</style>\n",
       "<table border=\"1\" class=\"dataframe\">\n",
       "  <thead>\n",
       "    <tr style=\"text-align: right;\">\n",
       "      <th></th>\n",
       "      <th>title</th>\n",
       "      <th>originallink</th>\n",
       "      <th>link</th>\n",
       "      <th>description</th>\n",
       "      <th>pubDate</th>\n",
       "    </tr>\n",
       "  </thead>\n",
       "  <tbody>\n",
       "    <tr>\n",
       "      <th>0</th>\n",
       "      <td>'美 AI 훈풍' 2,500선 회복…&amp;quot;외인 순매수 추세도 유지&amp;quot;</td>\n",
       "      <td>http://www.wowtv.co.kr/NewsCenter/News/Read?ar...</td>\n",
       "      <td>https://n.news.naver.com/mnews/article/215/000...</td>\n",
       "      <td>8일 &lt;b&gt;코스피&lt;/b&gt; 지수는 전 거래일보다 18.17포인트, 0.73% 오른 2...</td>\n",
       "      <td>2023-12-08 09:31:00+09:00</td>\n",
       "    </tr>\n",
       "    <tr>\n",
       "      <th>1</th>\n",
       "      <td>[시황] &lt;b&gt;코스피&lt;/b&gt; 美 증시 훈풍에 상승 출발...2510선 회복</td>\n",
       "      <td>https://www.dailian.co.kr/news/view/1304250/?s...</td>\n",
       "      <td>https://n.news.naver.com/mnews/article/119/000...</td>\n",
       "      <td>&lt;b&gt;코스피&lt;/b&gt;가 상승 출발한 뒤 2510선으로 올라섰다. 미국 증시가 미국의 ...</td>\n",
       "      <td>2023-12-08 09:31:00+09:00</td>\n",
       "    </tr>\n",
       "    <tr>\n",
       "      <th>2</th>\n",
       "      <td>'한동훈 테마주' 또 날아간다…대상홀딩스우, 거래재개에 '급등'[핫종목]</td>\n",
       "      <td>https://www.news1.kr/articles/5255365</td>\n",
       "      <td>https://n.news.naver.com/mnews/article/421/000...</td>\n",
       "      <td>한국거래소에 따르면 가격제한폭이 30%로 확대된 지난 2015년 6월15일 이후 7...</td>\n",
       "      <td>2023-12-08 09:30:00+09:00</td>\n",
       "    </tr>\n",
       "    <tr>\n",
       "      <th>3</th>\n",
       "      <td>&lt;b&gt;코스피&lt;/b&gt;, 외인·기관 쌍끌이 '매수'에 0.7% ↑…코스닥도 0.8% 상승</td>\n",
       "      <td>https://view.asiae.co.kr/article/2023120809275...</td>\n",
       "      <td>https://n.news.naver.com/mnews/article/277/000...</td>\n",
       "      <td>외국인과 기관의 동반 매수세로 인해 &lt;b&gt;코스피&lt;/b&gt;지수가 오름세다. 8일 오전 ...</td>\n",
       "      <td>2023-12-08 09:27:00+09:00</td>\n",
       "    </tr>\n",
       "    <tr>\n",
       "      <th>4</th>\n",
       "      <td>&lt;b&gt;코스피&lt;/b&gt;, 외인·기관 '매수'에 2500선 회복···0.73% 상승</td>\n",
       "      <td>https://www.econovill.com/news/articleView.htm...</td>\n",
       "      <td>https://www.econovill.com/news/articleView.htm...</td>\n",
       "      <td>8일 &lt;b&gt;코스피&lt;/b&gt; 지수가 외국인과 기관의 매수세에 힘입어 2500선을 회복했...</td>\n",
       "      <td>2023-12-08 09:26:00+09:00</td>\n",
       "    </tr>\n",
       "    <tr>\n",
       "      <th>...</th>\n",
       "      <td>...</td>\n",
       "      <td>...</td>\n",
       "      <td>...</td>\n",
       "      <td>...</td>\n",
       "      <td>...</td>\n",
       "    </tr>\n",
       "    <tr>\n",
       "      <th>95</th>\n",
       "      <td>'공매도=주가 하락 주범' 분석해보니…'출렁임' 줄었나?</td>\n",
       "      <td>https://news.sbs.co.kr/news/endPage.do?news_id...</td>\n",
       "      <td>https://n.news.naver.com/mnews/article/055/000...</td>\n",
       "      <td>&lt;b&gt;코스피&lt;/b&gt;200, 코스닥150 종목을 대상으로 분석한 결과, 공매도 잔고량...</td>\n",
       "      <td>2023-12-07 20:46:00+09:00</td>\n",
       "    </tr>\n",
       "    <tr>\n",
       "      <th>96</th>\n",
       "      <td>11월 전북지역 투자자 매수·매도 거래대금 증가</td>\n",
       "      <td>http://sjbnews.com/news/news.php?number=800713</td>\n",
       "      <td>http://sjbnews.com/news/news.php?number=800713</td>\n",
       "      <td>11월 도내 투자자(&lt;b&gt;코스피&lt;/b&gt;·코스닥) 매수, 매도 거래대금이 증가한 것으...</td>\n",
       "      <td>2023-12-07 20:10:00+09:00</td>\n",
       "    </tr>\n",
       "    <tr>\n",
       "      <th>97</th>\n",
       "      <td>[주식마감기사] 자회사 인사 소식에 티와이홀딩스 상한가... 아시아나IDT, 유...</td>\n",
       "      <td>https://www.ggilbo.com/news/articleView.html?i...</td>\n",
       "      <td>https://www.ggilbo.com/news/articleView.html?i...</td>\n",
       "      <td>이날 &lt;b&gt;코스피&lt;/b&gt; 시장에선 티와이홀딩스, 아시아나IDT, 유유제약1우, 티와...</td>\n",
       "      <td>2023-12-07 19:26:00+09:00</td>\n",
       "    </tr>\n",
       "    <tr>\n",
       "      <th>98</th>\n",
       "      <td>[서환-마감] 역외 매수세로 단숨에 1,320원대…12.20원↑</td>\n",
       "      <td>https://news.einfomax.co.kr/news/articleView.h...</td>\n",
       "      <td>https://news.einfomax.co.kr/news/articleView.h...</td>\n",
       "      <td>&lt;b&gt;코스피&lt;/b&gt;는 전장보다 0.13% 하락한 2,492.07로, 코스닥은 0.7...</td>\n",
       "      <td>2023-12-07 19:02:00+09:00</td>\n",
       "    </tr>\n",
       "    <tr>\n",
       "      <th>99</th>\n",
       "      <td>HLB, &lt;b&gt;코스피&lt;/b&gt; 이전 청신호…&amp;quot;ISS, 찬성 의견 발송&amp;quot;</td>\n",
       "      <td>https://dealsite.co.kr/articles/114382</td>\n",
       "      <td>https://dealsite.co.kr/articles/114382</td>\n",
       "      <td>HLB의 &lt;b&gt;코스피&lt;/b&gt; 이전상장에 청신호가 켜졌다. 이전 상장을 위한 임시주주...</td>\n",
       "      <td>2023-12-07 18:34:00+09:00</td>\n",
       "    </tr>\n",
       "  </tbody>\n",
       "</table>\n",
       "<p>100 rows × 5 columns</p>\n",
       "</div>"
      ],
      "text/plain": [
       "                                               title  \\\n",
       "0      '美 AI 훈풍' 2,500선 회복…&quot;외인 순매수 추세도 유지&quot;   \n",
       "1          [시황] <b>코스피</b> 美 증시 훈풍에 상승 출발...2510선 회복   \n",
       "2           '한동훈 테마주' 또 날아간다…대상홀딩스우, 거래재개에 '급등'[핫종목]   \n",
       "3    <b>코스피</b>, 외인·기관 쌍끌이 '매수'에 0.7% ↑…코스닥도 0.8% 상승   \n",
       "4        <b>코스피</b>, 외인·기관 '매수'에 2500선 회복···0.73% 상승   \n",
       "..                                               ...   \n",
       "95                   '공매도=주가 하락 주범' 분석해보니…'출렁임' 줄었나?   \n",
       "96                        11월 전북지역 투자자 매수·매도 거래대금 증가   \n",
       "97   [주식마감기사] 자회사 인사 소식에 티와이홀딩스 상한가... 아시아나IDT, 유...   \n",
       "98               [서환-마감] 역외 매수세로 단숨에 1,320원대…12.20원↑   \n",
       "99  HLB, <b>코스피</b> 이전 청신호…&quot;ISS, 찬성 의견 발송&quot;   \n",
       "\n",
       "                                         originallink  \\\n",
       "0   http://www.wowtv.co.kr/NewsCenter/News/Read?ar...   \n",
       "1   https://www.dailian.co.kr/news/view/1304250/?s...   \n",
       "2               https://www.news1.kr/articles/5255365   \n",
       "3   https://view.asiae.co.kr/article/2023120809275...   \n",
       "4   https://www.econovill.com/news/articleView.htm...   \n",
       "..                                                ...   \n",
       "95  https://news.sbs.co.kr/news/endPage.do?news_id...   \n",
       "96     http://sjbnews.com/news/news.php?number=800713   \n",
       "97  https://www.ggilbo.com/news/articleView.html?i...   \n",
       "98  https://news.einfomax.co.kr/news/articleView.h...   \n",
       "99             https://dealsite.co.kr/articles/114382   \n",
       "\n",
       "                                                 link  \\\n",
       "0   https://n.news.naver.com/mnews/article/215/000...   \n",
       "1   https://n.news.naver.com/mnews/article/119/000...   \n",
       "2   https://n.news.naver.com/mnews/article/421/000...   \n",
       "3   https://n.news.naver.com/mnews/article/277/000...   \n",
       "4   https://www.econovill.com/news/articleView.htm...   \n",
       "..                                                ...   \n",
       "95  https://n.news.naver.com/mnews/article/055/000...   \n",
       "96     http://sjbnews.com/news/news.php?number=800713   \n",
       "97  https://www.ggilbo.com/news/articleView.html?i...   \n",
       "98  https://news.einfomax.co.kr/news/articleView.h...   \n",
       "99             https://dealsite.co.kr/articles/114382   \n",
       "\n",
       "                                          description  \\\n",
       "0   8일 <b>코스피</b> 지수는 전 거래일보다 18.17포인트, 0.73% 오른 2...   \n",
       "1   <b>코스피</b>가 상승 출발한 뒤 2510선으로 올라섰다. 미국 증시가 미국의 ...   \n",
       "2   한국거래소에 따르면 가격제한폭이 30%로 확대된 지난 2015년 6월15일 이후 7...   \n",
       "3   외국인과 기관의 동반 매수세로 인해 <b>코스피</b>지수가 오름세다. 8일 오전 ...   \n",
       "4   8일 <b>코스피</b> 지수가 외국인과 기관의 매수세에 힘입어 2500선을 회복했...   \n",
       "..                                                ...   \n",
       "95  <b>코스피</b>200, 코스닥150 종목을 대상으로 분석한 결과, 공매도 잔고량...   \n",
       "96  11월 도내 투자자(<b>코스피</b>·코스닥) 매수, 매도 거래대금이 증가한 것으...   \n",
       "97  이날 <b>코스피</b> 시장에선 티와이홀딩스, 아시아나IDT, 유유제약1우, 티와...   \n",
       "98  <b>코스피</b>는 전장보다 0.13% 하락한 2,492.07로, 코스닥은 0.7...   \n",
       "99  HLB의 <b>코스피</b> 이전상장에 청신호가 켜졌다. 이전 상장을 위한 임시주주...   \n",
       "\n",
       "                     pubDate  \n",
       "0  2023-12-08 09:31:00+09:00  \n",
       "1  2023-12-08 09:31:00+09:00  \n",
       "2  2023-12-08 09:30:00+09:00  \n",
       "3  2023-12-08 09:27:00+09:00  \n",
       "4  2023-12-08 09:26:00+09:00  \n",
       "..                       ...  \n",
       "95 2023-12-07 20:46:00+09:00  \n",
       "96 2023-12-07 20:10:00+09:00  \n",
       "97 2023-12-07 19:26:00+09:00  \n",
       "98 2023-12-07 19:02:00+09:00  \n",
       "99 2023-12-07 18:34:00+09:00  \n",
       "\n",
       "[100 rows x 5 columns]"
      ]
     },
     "execution_count": 7,
     "metadata": {},
     "output_type": "execute_result"
    }
   ],
   "source": [
    "df[df['pubDate'] > '2023-08-18 16:20:00']"
   ]
  },
  {
   "cell_type": "code",
   "execution_count": 8,
   "id": "684348b8",
   "metadata": {
    "ExecuteTime": {
     "end_time": "2023-12-08T00:34:40.988009Z",
     "start_time": "2023-12-08T00:34:40.980375Z"
    }
   },
   "outputs": [
    {
     "data": {
      "text/plain": [
       "'8일 <b>코스피</b> 지수는 전 거래일보다 18.17포인트, 0.73% 오른 2,510.24에 상승 출발한 후 상승폭을 소폭... 같은 시간, <b>코스피</b> 시가총액 상위 종목은 대부분 상승하고 있다. 삼성전자(+0.84%), LG에너지솔루션(+1.29... '"
      ]
     },
     "execution_count": 8,
     "metadata": {},
     "output_type": "execute_result"
    }
   ],
   "source": [
    "df[df['pubDate'] > '2023-08-18 16:00:00']['description'][0]"
   ]
  },
  {
   "cell_type": "code",
   "execution_count": null,
   "id": "55cbebec",
   "metadata": {},
   "outputs": [],
   "source": []
  },
  {
   "cell_type": "markdown",
   "id": "d38558ab",
   "metadata": {},
   "source": [
    "### apikey csv 저장"
   ]
  },
  {
   "cell_type": "code",
   "execution_count": 13,
   "id": "91d576a1",
   "metadata": {
    "ExecuteTime": {
     "end_time": "2023-12-08T00:39:33.233526Z",
     "start_time": "2023-12-08T00:39:33.229875Z"
    }
   },
   "outputs": [],
   "source": [
    "openai.api_key = chatgpt_apikey\n",
    "# model_list = openai.Model.list()"
   ]
  },
  {
   "cell_type": "code",
   "execution_count": 21,
   "id": "2e4bde19",
   "metadata": {
    "ExecuteTime": {
     "end_time": "2023-12-08T00:40:11.589867Z",
     "start_time": "2023-12-08T00:40:11.285841Z"
    }
   },
   "outputs": [],
   "source": [
    "model_list = openai.models.list()"
   ]
  },
  {
   "cell_type": "code",
   "execution_count": 26,
   "id": "59abd685",
   "metadata": {
    "ExecuteTime": {
     "end_time": "2023-12-08T00:40:43.099506Z",
     "start_time": "2023-12-08T00:40:43.083654Z"
    }
   },
   "outputs": [
    {
     "ename": "TypeError",
     "evalue": "object of type 'SyncPage[Model]' has no len()",
     "output_type": "error",
     "traceback": [
      "\u001b[0;31m---------------------------------------------------------------------------\u001b[0m",
      "\u001b[0;31mTypeError\u001b[0m                                 Traceback (most recent call last)",
      "Cell \u001b[0;32mIn[26], line 1\u001b[0m\n\u001b[0;32m----> 1\u001b[0m \u001b[38;5;28mlen\u001b[39m(model_list)\n",
      "\u001b[0;31mTypeError\u001b[0m: object of type 'SyncPage[Model]' has no len()"
     ]
    }
   ],
   "source": [
    "len(model_list)"
   ]
  },
  {
   "cell_type": "code",
   "execution_count": 22,
   "id": "385606cd",
   "metadata": {
    "ExecuteTime": {
     "end_time": "2023-12-08T00:40:11.612892Z",
     "start_time": "2023-12-08T00:40:11.593025Z"
    }
   },
   "outputs": [
    {
     "ename": "TypeError",
     "evalue": "'SyncPage[Model]' object is not subscriptable",
     "output_type": "error",
     "traceback": [
      "\u001b[0;31m---------------------------------------------------------------------------\u001b[0m",
      "\u001b[0;31mTypeError\u001b[0m                                 Traceback (most recent call last)",
      "Cell \u001b[0;32mIn[22], line 1\u001b[0m\n\u001b[0;32m----> 1\u001b[0m model_list_df \u001b[38;5;241m=\u001b[39m pd\u001b[38;5;241m.\u001b[39mDataFrame(model_list[\u001b[38;5;124m'\u001b[39m\u001b[38;5;124mdata\u001b[39m\u001b[38;5;124m'\u001b[39m])\n\u001b[1;32m      2\u001b[0m model_list_df\u001b[38;5;241m.\u001b[39mhead()\n",
      "\u001b[0;31mTypeError\u001b[0m: 'SyncPage[Model]' object is not subscriptable"
     ]
    }
   ],
   "source": [
    "model_list_df = pd.DataFrame(model_list['data'])\n",
    "model_list_df.head()"
   ]
  },
  {
   "cell_type": "code",
   "execution_count": 27,
   "id": "fb3e0d65",
   "metadata": {
    "ExecuteTime": {
     "end_time": "2023-12-08T00:43:39.942325Z",
     "start_time": "2023-12-08T00:43:39.913810Z"
    }
   },
   "outputs": [
    {
     "ename": "APIRemovedInV1",
     "evalue": "\n\nYou tried to access openai.ChatCompletion, but this is no longer supported in openai>=1.0.0 - see the README at https://github.com/openai/openai-python for the API.\n\nYou can run `openai migrate` to automatically upgrade your codebase to use the 1.0.0 interface. \n\nAlternatively, you can pin your installation to the old version, e.g. `pip install openai==0.28`\n\nA detailed migration guide is available here: https://github.com/openai/openai-python/discussions/742\n",
     "output_type": "error",
     "traceback": [
      "\u001b[0;31m---------------------------------------------------------------------------\u001b[0m",
      "\u001b[0;31mAPIRemovedInV1\u001b[0m                            Traceback (most recent call last)",
      "Cell \u001b[0;32mIn[27], line 5\u001b[0m\n\u001b[1;32m      3\u001b[0m question \u001b[38;5;241m=\u001b[39m \u001b[38;5;124m\"\u001b[39m\u001b[38;5;124m삼성전자에 대해 설명 해줘\u001b[39m\u001b[38;5;124m\"\u001b[39m \u001b[38;5;66;03m# 모델에 입력할 프롬프트\u001b[39;00m\n\u001b[1;32m      4\u001b[0m \u001b[38;5;66;03m# API 호출\u001b[39;00m\n\u001b[0;32m----> 5\u001b[0m completion \u001b[38;5;241m=\u001b[39m openai\u001b[38;5;241m.\u001b[39mChatCompletion\u001b[38;5;241m.\u001b[39mcreate(\n\u001b[1;32m      6\u001b[0m       model\u001b[38;5;241m=\u001b[39mmodel_name, \n\u001b[1;32m      7\u001b[0m       messages\u001b[38;5;241m=\u001b[39m[{\u001b[38;5;124m\"\u001b[39m\u001b[38;5;124mrole\u001b[39m\u001b[38;5;124m\"\u001b[39m: \u001b[38;5;124m\"\u001b[39m\u001b[38;5;124muser\u001b[39m\u001b[38;5;124m\"\u001b[39m,\n\u001b[1;32m      8\u001b[0m                  \u001b[38;5;124m\"\u001b[39m\u001b[38;5;124mcontent\u001b[39m\u001b[38;5;124m\"\u001b[39m: question}]\n\u001b[1;32m      9\u001b[0m         \n\u001b[1;32m     10\u001b[0m )\n\u001b[1;32m     11\u001b[0m \u001b[38;5;66;03m# 결과 출력\u001b[39;00m\n\u001b[1;32m     12\u001b[0m completion\u001b[38;5;241m.\u001b[39mchoices[\u001b[38;5;241m0\u001b[39m][\u001b[38;5;124m'\u001b[39m\u001b[38;5;124mmessage\u001b[39m\u001b[38;5;124m'\u001b[39m][\u001b[38;5;124m'\u001b[39m\u001b[38;5;124mcontent\u001b[39m\u001b[38;5;124m'\u001b[39m]\n",
      "File \u001b[0;32m~/anaconda3/lib/python3.11/site-packages/openai/lib/_old_api.py:39\u001b[0m, in \u001b[0;36mAPIRemovedInV1Proxy.__call__\u001b[0;34m(self, *_args, **_kwargs)\u001b[0m\n\u001b[1;32m     38\u001b[0m \u001b[38;5;28;01mdef\u001b[39;00m \u001b[38;5;21m__call__\u001b[39m(\u001b[38;5;28mself\u001b[39m, \u001b[38;5;241m*\u001b[39m_args: Any, \u001b[38;5;241m*\u001b[39m\u001b[38;5;241m*\u001b[39m_kwargs: Any) \u001b[38;5;241m-\u001b[39m\u001b[38;5;241m>\u001b[39m Any:\n\u001b[0;32m---> 39\u001b[0m     \u001b[38;5;28;01mraise\u001b[39;00m APIRemovedInV1(symbol\u001b[38;5;241m=\u001b[39m\u001b[38;5;28mself\u001b[39m\u001b[38;5;241m.\u001b[39m_symbol)\n",
      "\u001b[0;31mAPIRemovedInV1\u001b[0m: \n\nYou tried to access openai.ChatCompletion, but this is no longer supported in openai>=1.0.0 - see the README at https://github.com/openai/openai-python for the API.\n\nYou can run `openai migrate` to automatically upgrade your codebase to use the 1.0.0 interface. \n\nAlternatively, you can pin your installation to the old version, e.g. `pip install openai==0.28`\n\nA detailed migration guide is available here: https://github.com/openai/openai-python/discussions/742\n"
     ]
    }
   ],
   "source": [
    "model_name = \"gpt-3.5-turbo-16k\" \n",
    "\n",
    "question = \"삼성전자에 대해 설명 해줘\" # 모델에 입력할 프롬프트\n",
    "# API 호출\n",
    "completion = openai.ChatCompletion.create(\n",
    "      model=model_name, \n",
    "      messages=[{\"role\": \"user\",\n",
    "                 \"content\": question}]\n",
    "        \n",
    ")\n",
    "# 결과 출력\n",
    "completion.choices[0]['message']['content']"
   ]
  },
  {
   "cell_type": "markdown",
   "id": "1d0552de",
   "metadata": {},
   "source": [
    "### 회사 리스트"
   ]
  },
  {
   "cell_type": "code",
   "execution_count": 6,
   "id": "6b726f0f",
   "metadata": {},
   "outputs": [],
   "source": [
    "# now = datetime.now()\n",
    "# today_date1 = now.strftime('%Y%m%d')\n",
    "# today_date2 = now.strftime('%Y-%m-%d')\n",
    "# today_date_time_csv = now.strftime(\"%Y%m%d_%H%M\")\n",
    "# ticker_nm = '005930'\n",
    "\n",
    "\n",
    "# # 한국 ticker 리스트 \n",
    "\n",
    "# kor_ticker_list = pd.read_csv(f'data_cralwer/kor_ticker_list.csv')\n",
    "# kor_corp_name_list = kor_ticker_list['corp_name']\n",
    "\n",
    "# # 코스피 200 리스트\n",
    "# index_code_df = pd.read_csv(f'data_cralwer/kor_kospi_index_list_df.csv', \n",
    "#                             dtype = {'index_code':str,\n",
    "#                                     'ticker':str})\n",
    "# kospi_200_index = index_code_df[index_code_df['index_code'] == '1028'] # 코스피 200 인덱스 코드 1028\n",
    "# kospi_200_index = kospi_200_index.reset_index(drop = True)\n",
    "# kospi_200_corp_name_list = kospi_200_index['corp_name']"
   ]
  },
  {
   "cell_type": "code",
   "execution_count": 10,
   "id": "d7736505",
   "metadata": {},
   "outputs": [
    {
     "data": {
      "text/html": [
       "<div>\n",
       "<style scoped>\n",
       "    .dataframe tbody tr th:only-of-type {\n",
       "        vertical-align: middle;\n",
       "    }\n",
       "\n",
       "    .dataframe tbody tr th {\n",
       "        vertical-align: top;\n",
       "    }\n",
       "\n",
       "    .dataframe thead th {\n",
       "        text-align: right;\n",
       "    }\n",
       "</style>\n",
       "<table border=\"1\" class=\"dataframe\">\n",
       "  <thead>\n",
       "    <tr style=\"text-align: right;\">\n",
       "      <th></th>\n",
       "      <th>ticker</th>\n",
       "      <th>index_code</th>\n",
       "      <th>index_nm</th>\n",
       "      <th>market</th>\n",
       "      <th>corp_name</th>\n",
       "    </tr>\n",
       "  </thead>\n",
       "  <tbody>\n",
       "    <tr>\n",
       "      <th>0</th>\n",
       "      <td>005930</td>\n",
       "      <td>1028</td>\n",
       "      <td>코스피 200</td>\n",
       "      <td>KOSPI</td>\n",
       "      <td>삼성전자</td>\n",
       "    </tr>\n",
       "    <tr>\n",
       "      <th>1</th>\n",
       "      <td>373220</td>\n",
       "      <td>1028</td>\n",
       "      <td>코스피 200</td>\n",
       "      <td>KOSPI</td>\n",
       "      <td>LG에너지솔루션</td>\n",
       "    </tr>\n",
       "    <tr>\n",
       "      <th>2</th>\n",
       "      <td>000660</td>\n",
       "      <td>1028</td>\n",
       "      <td>코스피 200</td>\n",
       "      <td>KOSPI</td>\n",
       "      <td>SK하이닉스</td>\n",
       "    </tr>\n",
       "    <tr>\n",
       "      <th>3</th>\n",
       "      <td>207940</td>\n",
       "      <td>1028</td>\n",
       "      <td>코스피 200</td>\n",
       "      <td>KOSPI</td>\n",
       "      <td>삼성바이오로직스</td>\n",
       "    </tr>\n",
       "    <tr>\n",
       "      <th>4</th>\n",
       "      <td>006400</td>\n",
       "      <td>1028</td>\n",
       "      <td>코스피 200</td>\n",
       "      <td>KOSPI</td>\n",
       "      <td>삼성SDI</td>\n",
       "    </tr>\n",
       "    <tr>\n",
       "      <th>...</th>\n",
       "      <td>...</td>\n",
       "      <td>...</td>\n",
       "      <td>...</td>\n",
       "      <td>...</td>\n",
       "      <td>...</td>\n",
       "    </tr>\n",
       "    <tr>\n",
       "      <th>195</th>\n",
       "      <td>381970</td>\n",
       "      <td>1028</td>\n",
       "      <td>코스피 200</td>\n",
       "      <td>KOSPI</td>\n",
       "      <td>케이카</td>\n",
       "    </tr>\n",
       "    <tr>\n",
       "      <th>196</th>\n",
       "      <td>031430</td>\n",
       "      <td>1028</td>\n",
       "      <td>코스피 200</td>\n",
       "      <td>KOSPI</td>\n",
       "      <td>신세계인터내셔날</td>\n",
       "    </tr>\n",
       "    <tr>\n",
       "      <th>197</th>\n",
       "      <td>057050</td>\n",
       "      <td>1028</td>\n",
       "      <td>코스피 200</td>\n",
       "      <td>KOSPI</td>\n",
       "      <td>현대홈쇼핑</td>\n",
       "    </tr>\n",
       "    <tr>\n",
       "      <th>198</th>\n",
       "      <td>284740</td>\n",
       "      <td>1028</td>\n",
       "      <td>코스피 200</td>\n",
       "      <td>KOSPI</td>\n",
       "      <td>쿠쿠홈시스</td>\n",
       "    </tr>\n",
       "    <tr>\n",
       "      <th>199</th>\n",
       "      <td>020000</td>\n",
       "      <td>1028</td>\n",
       "      <td>코스피 200</td>\n",
       "      <td>KOSPI</td>\n",
       "      <td>한섬</td>\n",
       "    </tr>\n",
       "  </tbody>\n",
       "</table>\n",
       "<p>200 rows × 5 columns</p>\n",
       "</div>"
      ],
      "text/plain": [
       "     ticker index_code index_nm market corp_name\n",
       "0    005930       1028  코스피 200  KOSPI      삼성전자\n",
       "1    373220       1028  코스피 200  KOSPI  LG에너지솔루션\n",
       "2    000660       1028  코스피 200  KOSPI    SK하이닉스\n",
       "3    207940       1028  코스피 200  KOSPI  삼성바이오로직스\n",
       "4    006400       1028  코스피 200  KOSPI     삼성SDI\n",
       "..      ...        ...      ...    ...       ...\n",
       "195  381970       1028  코스피 200  KOSPI       케이카\n",
       "196  031430       1028  코스피 200  KOSPI  신세계인터내셔날\n",
       "197  057050       1028  코스피 200  KOSPI     현대홈쇼핑\n",
       "198  284740       1028  코스피 200  KOSPI     쿠쿠홈시스\n",
       "199  020000       1028  코스피 200  KOSPI        한섬\n",
       "\n",
       "[200 rows x 5 columns]"
      ]
     },
     "execution_count": 10,
     "metadata": {},
     "output_type": "execute_result"
    }
   ],
   "source": [
    "kospi_200_index"
   ]
  },
  {
   "cell_type": "code",
   "execution_count": 7,
   "id": "772fa878",
   "metadata": {},
   "outputs": [],
   "source": [
    "\n",
    "# for i in range(len(kospi_200_index)):\n",
    "#     kospi_200_corp_name = kospi_200_index['corp_name'][i]\n",
    "#     kospi_200_ticker = kospi_200_index['ticker'][i]\n",
    "#     print(i)"
   ]
  },
  {
   "cell_type": "code",
   "execution_count": null,
   "id": "2d0c8dc2",
   "metadata": {},
   "outputs": [],
   "source": []
  },
  {
   "cell_type": "markdown",
   "id": "cfde20e8",
   "metadata": {},
   "source": [
    "#### naver crawling"
   ]
  },
  {
   "cell_type": "code",
   "execution_count": 28,
   "id": "b707e4b7",
   "metadata": {
    "ExecuteTime": {
     "end_time": "2023-12-08T01:06:49.167903Z",
     "start_time": "2023-12-08T01:06:47.765879Z"
    }
   },
   "outputs": [],
   "source": [
    "key_word = '삼성전자'\n",
    "# 1. 검색 url을 통해 뉴스의 리스트를 읽어 오는 코드\n",
    "url = f'https://search.naver.com/search.naver?where=news&sm=tab_jum&query={key_word}'\n",
    "\n",
    "headers = {\"User-Agent\": \"Mozilla/5.0 (Windows NT 6.3; WOW64) AppleWebKit/537.36 (KHTML, like Gecko) Chrome/44.0.2403.157 Safari/537.36\"}\n",
    "res = requests.get(url, headers= headers)\n",
    "soup = bs(res.text, 'html.parser')\n",
    "news_list = soup.find_all('div', attrs={'class':'info_group'})\n",
    "\n",
    "# 각각 뉴스의 리스트에서 링크를 타고 들어간 후 각각의 뉴스 내용을 합치는 코드\n",
    "news_url_list = [] # 네이버 뉴스 url 리스트\n",
    "new_article_list= [] # 네이버 뉴스 기사 통합 리스트\n",
    "for i in range(3): # 최대 5개 정도만 추출\n",
    "    news_article = news_list[i].find_all(\"a\", attrs={\"class\":\"info\"})\n",
    "    if len(news_article) > 1:\n",
    "        news_nm_url = news_article[1].get('href')\n",
    "        news_url_list.append(news_nm_url)\n",
    "        res = requests.get(news_nm_url, headers=headers)\n",
    "        soup = bs(res.text, 'lxml')\n",
    "        news_article_nm = soup.find_all('div', attrs = {'class': 'newsct_article _article_body'})\n",
    "        news_article_text = news_article_nm[0].get_text()\n",
    "        new_article_list.append(news_article_text)"
   ]
  },
  {
   "cell_type": "code",
   "execution_count": 19,
   "id": "4a4cae61",
   "metadata": {},
   "outputs": [],
   "source": [
    "key_word = '삼성전자'\n",
    "# 1. 검색 url을 통해 뉴스의 리스트를 읽어 오는 코드\n",
    "url = f'https://search.naver.com/search.naver?where=news&sm=tab_jum&query={key_word}'\n",
    "\n",
    "# headers = {\"User-Agent\": \"Mozilla/5.0 (Windows NT 6.3; WOW64) AppleWebKit/537.36 (KHTML, like Gecko) Chrome/44.0.2403.157 Safari/537.36\"}\n",
    "# headers = {'User-Agent':'Mozilla/5.0 (Windows NT 10.0; Win64; x64) AppleWebKit/537.36 (KHTML, like Gecko) Chrome/115.0.0.0 Safari/537.36'}\n",
    "# headers = {'User-Agent':'Mozilla/5.0 (Windows NT 6.3; Win64; x64) AppleWebKit/537.36 (KHTML, like Gecko) Chrome/63.0.3239.132 Safari/537.36'}\n",
    "\n",
    "\n",
    "res = requests.get(url, headers= headers)\n",
    "res = requests.get(url)\n",
    "soup = bs(res.text, 'html.parser')\n",
    "news_list = soup.find_all('div', attrs={'class':'info_group'})"
   ]
  },
  {
   "cell_type": "code",
   "execution_count": 32,
   "id": "6c2ccc25",
   "metadata": {
    "ExecuteTime": {
     "end_time": "2023-12-08T01:07:20.319571Z",
     "start_time": "2023-12-08T01:07:20.313638Z"
    }
   },
   "outputs": [
    {
     "data": {
      "text/plain": [
       "['\\n\\n256GB 모델에 총 6개 색상…84.7만원에 8일 출시가계통신비 절감 위해 \\'퍼펙트\\' 프로그램…출고가 50% 보상\\n\\n\\n\\n갤럭시 S23 FE. (사진=삼성전자 제공) *재판매 및 DB 금지[서울=뉴시스]윤현성 기자 = 삼성전자가 1020세대의 라이프스타일에 최적화된 \\'갤럭시 S23 FE\\'를 8일 국내 출시한다고 7일 밝혔다.갤럭시 S23 FE는 민트, 그라파이트, 퍼플, 크림 네 가지 색상으로 출시된다. 스토리지는 256GB이며, 가격은 84만7000원이다. 전국 삼성스토어와 삼성닷컴, 이동통신사 온∙오프라인 매장과 오픈마켓 등에서 구매할 수 있다.삼성닷컴과 삼성 강남에서는 네 가지 기본 색상 외에도 \\'인디고\\'와 \\'탠저린\\' 두가지 색상을 추가로 출시한다.갤럭시 S23 FE는 고사양 프로세서를 탑재해 안정적이고 쾌적한 게이밍 경험과 효율적인 멀티태스킹을 제공한다.163.1㎜(6.4형)의 다이내믹 아몰레드 2X 디스플레이는 밝거나 어두운 곳에서 눈의 피로를 최소화해주며 사진, 영상, OTT 등 다양한 콘텐츠를 더욱 몰입해서 시청할 수 있게 해준다.4500mA의 대용량 배터리는 하루 종일 충전 걱정없이 다양한 기능을 마음껏 즐길 수 있게 하며, 고속 충전도 지원한다.차별화된 카메라 성능도 제공한다. 나이토그래피 기능은 야간 등 저조도에서도 차별화된 촬영 결과물을 제공하며, 5000만 화소의 고해상도 렌즈와 3배 광학줌은 언제 어디서나 다양한 앵글의 선명한 사진 촬영을 지원한다.광학식 손 떨림 보정(OIS) 각도와 전·후면 카메라의 동영상 손떨림 보정(VDIS) 기술은 흔들림이나 움직임이 많은 상황에서도 보다 선명한 사진과 동영상 촬영을 가능하게 한다.아울러 갤럭시 S23 FE는 \\'갤럭시 S23\\' 시리즈를 계승한 아이코닉한 디자인을 적용했다. 플로팅 카메라와 작은 크기의 카메라 홀을 적용했으며, 알루미늄 프레임으로 내구성도 강화했다. IP68 방수∙방진 등급으로 먼지와 습기 걱정없이 안심하고 사용 가능하다.삼성전자는 정부의 가계통신비 절감 기조에 발맞춰, 갤럭시 S23 FE 구매 고객을 위한 \\'갤럭시 퍼펙트(perFEct) 프로그램\\'을 도입한다. 해당 프로그램을 통해 갤럭시 S23 FE를 구매하는 고객은 24개월 후 사용하던 제품을 반납하면 출고가의 50%를 보상받을 수 있다.또한 삼성전자는 갤럭시 S23 FE를 구매한 소비자가 부담없이 제품을 마음껏 체험해 볼 수 있도록 특별한 체험 프로그램 \\'갤럭시 트라이얼\\'을 선착순 600명으로 진행한다.갤럭시 트라이얼 프로그램은 삼성닷컴과 삼성스토어 10개 매장에서 8일부터 운영되며, 해당 프로그램으로 갤럭시 S23 FE를 구매한 고객은 자유롭게 제품을 사용해본 후 제품수령일로부터 14일 이내 반품을 신청할 경우 환불을 받을 수 있다.삼성전자는 갤럭시 S23 FE 구매 고객을 위해 다양한 프로모션 혜택을 제공한다.먼저 이달 22일까지 갤럭시 S23 FE를 개통한 고객에게 갤럭시 스마트태그2나 25W PD 충전기 절전형(EP-T2510X) 중 한가지를 증정한다. 구매 고객은 삼성닷컴 앱에서 본인이 원하는 사은품을 선택할 수 있다.이달 31일까지 개통한 고객에게는 CU편의점에서 연세우유 생크림빵 등을 받을 수 있는 크리스마스 디저트 교환권 1매와 CU 디저트 50% 할인권, 그리고 호요버스의 RPG게임 \\'붕괴: 스타레일\\'의 성장 지원팩이 제공된다.다음달 31일까지 개통한 고객에게는 삼성닷컴 앱에서 갤럭시 S23 FE 액세서리를 구매할 수 있는 50% 할인쿠폰이 제공되며, 개통 기간에 따라 유튜브 프리미엄 4개월 체험권, 마이크로소프트 365 베이직 6개월 체험권 등도 지급된다.삼성전자 관계자는 \"갤럭시 S23 FE는 1020세대의 트렌드, 취향, 라이프스타일에 맞춘 디자인과 기능을 담은 완벽한 스마트폰\"이라며 \"프리미엄 성능에 가격 경쟁력까지 갖춘 갤럭시 S23 FE로 나만의 개성 있는 모바일 라이프를 즐겨 보시길 바란다\"고 말했다.한편 삼성전자는 이번 갤럭시 S23 FE 출시로 30~80만원대 스마트폰 2종을 올해 중 국내 출시해달라는 정부와의 협의 사안을 지키게 됐다. 삼성전자는 앞서 지난달 10일 43만8900원의 갤럭시 점프3를 출시한 바 있다．\\n\\n',\n",
       " \"\\n\\n\\n\\n\\n\\n세계 최대 가전·정보기술(IT) 박람회인 CES 2023 개막을 하루 앞둔 올해 1월 4일(현지시간) 미국 네바다주 라스베이거스 만달레이 베이 컨벤션센터에서 열린 삼성전자 프레스 컨퍼런스에서 삼성전자 DX부문장 한종희 부회장이 기조연을 하고 있다. 뉴스1 [파이낸셜뉴스] 삼성전자가 세계 최대 가전·정보기술(IT) 박람회 CES 2024에서 '인공지능(AI)으로 연결되는 초연결 경험'을 선보인다.   삼성전자는 CES 2024 개막 하루 전인 내년 1월 8일(현지시간) 프레스 콘퍼런스를 개최한다고 7일 밝혔다. 한국시간으로는 1월 9일 오전 8시에 진행된다.   한종희 삼성전자 대표이사 부회장(DX 부문장)은 대표 연사로 나서 'AI for All: Connectivity in the Age of AI(모두를 위한 AI: 일상 속 똑똑한 초연결 경험)'라는 주제로 삼성전자의 AI 전략을 공개할 예정이다. 콘퍼런스는 삼성전자 뉴스룸에서 온라인으로 생중계된다.   삼성전자는 지난달 삼성 AI 포럼 2023과 삼성 개발자 콘포런스 코리아 2023에서 자체 개발한 생성형 AI 모델 '삼성 가우스'를 공개한 바 있다. 삼성 가우스를 활용한 생성형 AI 모델을 다양한 제품에 단계적으로 탑재해 새로운 사용자 경험을 제공한다는 계획이다.   지난달 특3허청에 스마트폰과 가전을 전부 포함한 'AI Hub(인공지능 허브)' 상표권을 출원하기도 했다. 세탁기, 식기세척기, 청소기, 컴퓨터, 냉장고 등 삼성전자에서 생산하는 '모든 전자제품의 초연결 실현'을 위한 포석이다.   한편, CES 2024는 내년 1월 9일부터 1월 12일(현지시간) 미국 라스베이거스에서 개최된다. 삼성전자는 CES 2024에서 최고혁신상 3개를 포함해 총 28개의 혁신상을 수상했다.  \\n\\n\\n\\n삼성전자 CES 2024 프레스 콘퍼런스 초대장. 삼성전자 제공\\n\\n\",\n",
       " '\\n\\nSNS 통해 임직원에 당부삼성, AI 전략 내년 CES서 공개\\n\\n\\n\\n경계현 삼성전자 디바이스솔루션(DS)부문장(사장·사진)은 7일 임직원들에게 “2024년과 그 이후의 성공을 위해 직접적인 주인의식을 가져달라”고 당부했다.경 사장은 이날 자신의 SNS에 글을 올려 “모든 직원이 자신의 5년 목표를 정하고 이에 도달하기 위해 어떤 이정표를 세워야 할지 계획하라고 권하고 싶다”며 이같이 적었다. 이어 “이런 목표는 실현할 수 있으면서 도전적이어야 한다”고 덧붙였다.성찰을 바탕으로 미래에 대한 큰 그림을 그릴 것도 조언했다. 경 사장은 “연말은 지난 12개월 동안의 성공뿐 아니라 내년 목표도 살펴보는 시기”라며 “현재 대표(CEO)로서 매출 증대 같은 목표와 환경적 지속 가능성과 같은 장기적 목표의 균형을 맞추는 것을 고민하고 있다”고 설명했다. ‘나무 때문에 숲을 놓치지 말라’는 격언을 언급하며 “직원들은 일상 업무의 사소한 부분에 너무 집중해선 안 되며 그 업무가 무엇을 위한 것인지 자신에게 계속 물어야 한다”고 했다.경 사장은 최근 대학 강연이나 임직원 소통 행사에서 5~10년 뒤의 미래를 그리는 ‘중간 목표 설정’의 중요성을 강조하고 있다. 지난 6월 연세대 특별 강연에선 “방향성을 잃지 않기 위해 5년 뒤쯤 무엇을 해야 할지부터 생각한다”며 ‘5년 내 TSMC 추격’이란 목표도 제시했다.한편 삼성전자는 내년 1월 미국 라스베이거스에서 열리는 세계 최대 IT(정보기술)·가전 전시회 ‘CES 2024’에서 인공지능(AI) 전략을 공개한다. 다음달 8일 ‘모두를 위한 AI:일상 속 똑똑한 초연결 경험’을 주제로 프레스 콘퍼런스를 연다. 한종희 디바이스경험(DX)부문장(부회장)이 대표 연사로 나선다.\\n\\n']"
      ]
     },
     "execution_count": 32,
     "metadata": {},
     "output_type": "execute_result"
    }
   ],
   "source": [
    "new_article_list"
   ]
  },
  {
   "cell_type": "code",
   "execution_count": 35,
   "id": "45716919",
   "metadata": {},
   "outputs": [],
   "source": [
    "# 1. 검색 url을 통해 뉴스의 리스트를 읽어 오는 코드\n",
    "url = f'https://search.naver.com/search.naver?where=news&sm=tab_jum&query={key_word}'\n",
    "\n",
    "# headers = {\"User-Agent\": \"Mozilla/5.0 (Windows NT 6.3; WOW64) AppleWebKit/537.36 (KHTML, like Gecko) Chrome/44.0.2403.157 Safari/537.36\"}\n",
    "res = requests.get(url, headers= headers)\n",
    "soup = bs(res.text, 'html.parser')\n",
    "news_list = soup.find_all('div', attrs={'class':'info_group'})\n",
    "\n",
    "# # 각각 뉴스의 리스트에서 링크를 타고 들어간 후 각각의 뉴스 내용을 합치는 코드\n",
    "# news_url_list = [] # 네이버 뉴스 url 리스트\n",
    "# new_article_list= [] # 네이버 뉴스 기사 통합 리스트\n",
    "# for i in range(3): # 최대 5개 정도만 추출\n",
    "#     news_article = news_list[i].find_all(\"a\", attrs={\"class\":\"info\"})\n",
    "#     if len(news_article) > 1:\n",
    "#         news_nm_url = news_article[1].get('href')\n",
    "#         news_url_list.append(news_nm_url)\n",
    "#         res = requests.get(news_nm_url, headers=headers)\n",
    "#         soup = bs(res.text, 'lxml')\n",
    "#         news_article_nm = soup.find_all('div', attrs = {'class': 'newsct_article _article_body'})\n",
    "#         news_article_text = news_article_nm[0].get_text()\n",
    "#         new_article_list.append(news_article_text)"
   ]
  },
  {
   "cell_type": "code",
   "execution_count": 36,
   "id": "b7b6914d",
   "metadata": {},
   "outputs": [
    {
     "data": {
      "text/plain": [
       "<!DOCTYPE html>\n",
       " <html lang=\"ko\"> <head> <meta charset=\"utf-8\"/> <meta content=\"always\" name=\"referrer\"/> <title>네이버 검색</title> <link href=\"https://ssl.pstatic.net/sstatic/search/css/2011/common.css\" rel=\"stylesheet\" type=\"text/css\"/> <link href=\"https://ssl.pstatic.net/sstatic/search/favicon/favicon_191118_pc.ico\" rel=\"shortcut icon\"/> <style type=\"text/css\"> body{margin:0;padding:0;text-align:center} body,td,div{color:#404040;font-size:12px} img{border:none} label{cursor:hand;cursor:pointer} *{margin:0;padding:0} li{list-style-type:none} fieldset{border:none} legend{display:none} /* 120110 */ .blind{visibility:hidden;overflow:hidden;position:absolute;top:0;left:0;width:1px;height:1px;font-size:0;line-height:0} .logo a{display:block;width:93px;height:17px;background:url(https://ssl.pstatic.net/sstatic/search/img3/sp_block2.gif) 0 0 no-repeat}/* 120209 */ .info dt.share_pc{margin-right:10px;_margin-right:7px} .btn a{display:inline-block;margin-right:1px;background:url(https://ssl.pstatic.net/sstatic/search/img3/sp_block2.gif) no-repeat}/* 120209 */ .btn a.home{width:64px;height:24px;background-position:0 -180px} .btn a.btn_service{width:87px;height:24px;background-position:0 -150px} .captcha .input .ty_img{margin:1px 0 0 -1px} .captcha .desc a{color:#004790;text-decoration:underline} /* 글로벌 에러메시지 */ #login_message{width:660px;margin:0 auto;font-family:'돋움', Dotum, AppleGothic, sans-serif;text-align:left} #login_message img{vertical-align:top} .logo{margin:65px 0 10px 10px} .conts{border:none;background:url(https://ssl.pstatic.net/sstatic/search/citats/rnd01_bg.gif) repeat-y} .rnd_t{overflow:hidden;clear:both;width:auto;_width:100%;padding:61px 30px 55px 54px;_padding:61px 30px 48px 54px;background:url(https://ssl.pstatic.net/sstatic/search/citats/rnd02_t.gif) no-repeat} .rnd_b{clear:both;width:100%;height:7px;background:url(https://ssl.pstatic.net/sstatic/search/citats/rnd01_b.gif) 0 100% no-repeat} .notice_img{float:left;width:53px;height:46px;margin:0;background:url(https://ssl.pstatic.net/sstatic/search/img3/sp_block2.gif) 0 -30px no-repeat}/* 120209 */ .notice_txt{display:inline;float:left;width:477px;margin:0 0 0 17px} .notice_txt h3{height:24px;margin:0}/* 120210 */ .notice_txt p{line-height:18px}/* 120210 */ .notice_txt a{color:#004790;text-decoration:underline} .info01{margin:0 0 13px}/* 120210 */ .info02{margin:0 0 16px} .captcha dl.info{clear:both;width:100%;padding:12px 0 3px;color:#333}/* 120210 */ .captcha .info dt{float:left;clear:both;margin-top:2px;margin-right:3px;_margin-right:0}/* 120209 */ .captcha .info dd{overflow:hidden;height:auto;margin:0 0 6px 5px;line-height:16px;zoom:1}/* 120209 */ .btn{margin-top:14px;padding-top:12px;border-top:1px solid #efefef}/* 120210 */ .btn .btn_captcha{width:74px;height:24px;background-position:0 -120px}/* 120209 */ .btn .btn_captcha.on{background-position:0 -90px} .captcha{display:none;margin:3px 0 0;margin:4px 0 0\\0;*margin:7px 0 0}/* 120209 */ .captcha.on{display:block} .captcha fieldset{overflow:hidden;position:relative;width:450px;padding:14px 14px 10px 14px;background-color:#f7f7f7} .captcha dl{margin:0;padding:9px 0 0;*padding:8px 0 0}/* 120210 */ .captcha dt{float:none;height:17px;margin:0;padding:0;color:#333;font-weight:bold} .captcha dd{height:21px;margin:0;padding:0;color:#555} .captcha .img{float:left} .captcha .img img{display:block;margin:1px 0 5px;*margin:1px 0 3px} .captcha .img a{margin-left:50px;padding-left:12px;background:url(https://ssl.pstatic.net/sstatic/search/img3/sp_block2.gif) 0 -210px no-repeat;color:#666;font-size:11px;letter-spacing:-1px;text-decoration:underline}/* 120209 */ .captcha .img a:hover{text-decoration:underline} .captcha .input{float:right;height:30px} .captcha .input *{vertical-align:top} .captcha .input .input_text{position:relative;_top:-1px;width:188px;width:188px;height:19px;margin:1px 0 0;padding:2px 0 2px 6px;border:1px solid #c9cbcf;line-height:19px} .captcha .error{display:none;float:right;width:237px;margin-top:3px} .captcha .error.on{display:block} .captcha .error em{color:#ff5b00;font-style:normal} .captcha .desc{position:relative;margin:0 0 -8px;_margin:0 0 -5px;padding:13px 0 0;*padding:11px 0 0;color:#888;font-size:11px;letter-spacing:-1px;line-height:16px} #footer{clear:both;margin:0;padding:20px 0 28px;text-align:center} #footer *{margin:0;padding:0;color:#444;font-family:'돋움', Dotum, '굴림', Gulim, AppleGothic, Sans-serif;font-size:12px;line-height:normal;list-style:none} #footer a{color:#444;text-decoration:none} #footer a:visited{color:#666;text-decoration:none} #footer a:hover{text-decoration:underline} #footer ul{margin:0 0 14px} #footer ul li{display:inline;position:relative;padding:0 1px 0 6px;background:url(https://ssl.pstatic.net/sstatic/search/citats/line_v_footer10.gif) no-repeat 0 0;font-size:11px;white-space:nowrap} #footer ul li *{font-size:11px} #footer ul li.first{padding:0 1px 0 0;background:none} #footer ul a{letter-spacing:-1px} #footer address{margin:0 14px 0 0} #footer address{font:9px Verdana} #footer address a{color:#00535d;font:bold 9px Tahoma} /* 120209 */ .btn2{margin-top:-5px;padding-top:0;border-top:none}/* 120210 */ .notice_txt p.info{margin-top:17px;*margin-top:15px;padding-top:15px;border-top:1px solid #efefef}/* 120210 */ </style> </head><script> if (!String.prototype.trim) { String.prototype.trim = function () { return this.replace(/^[\\s\\uFEFF\\xA0]+|[\\s\\uFEFF\\xA0]+$/g, ''); }; } if (!Array.prototype.indexOf) { Array.prototype.indexOf = function(searchElement, fromIndex) { var k; if (this == null) { throw new TypeError('\"this\" is null or not defined'); } var o = Object(this); var len = o.length >>> 0; if (len === 0) { return -1; } var n = fromIndex | 0; if (n >= len) { return -1; } k = Math.max(n >= 0 ? n : len - Math.abs(n), 0); while (k < len) { if (k in o && o[k] === searchElement) { return k; } k++; } return -1; }; } if (!Array.prototype.filter) { Array.prototype.filter = function(func, thisArg) { 'use strict'; if (!((typeof func === 'Function' || typeof func === 'function') && this)) throw new TypeError(); var len = this.length >>> 0, res = new Array(len), t = this, c = 0, i = -1; var kValue; if (thisArg === undefined) { while (++i !== len) { if (i in this) { kValue = t[i]; if (func(t[i], i, t)) { res[c++] = kValue; } } } } else { while (++i !== len) { if (i in this) { kValue = t[i]; if (func.call(thisArg, t[i], i, t)) { res[c++] = kValue; } } } } res.length = c; return res; }; } if (typeof(encodeURIComponent) != \"function\") { encodeURIComponent = function (s) { function toHex (n) { var hexchars = \"0123456789ABCDEF\" ; return \"%\" + hexchars.charAt(n>>4) + hexchars.charAt(n&0xF) ; } var es = \"\" ; for (var i = 0; i < s.length;) { var c = s.charCodeAt(i++) ; if ((c&0xF800) == 0xD800) { var sc = s.charCodeAt(i++) ; c = ((c-0xD800)<<10) + (sc-0xDC00) + 0x10000 ; } if (!(c&~0x7F)) { if ((c>=65&&c<=90) || (c>=97&&c<=122) || (c>=48&&c<=57) || (c>=45&&c<=46) || c==95 || c==33 || c==126 || (c>=39&&c<=42)) es += String.fromCharCode(c) ; else es += toHex(c) ; } else if (!(c&~0x7FF)) es += toHex(0xC0+(c>>6)) + toHex(c&0x3F) ; else if (!(c&~0xFFFF)) es += toHex(0xE0+(c>>12)) + toHex(0x80+(c>>6&0x3F)) + toHex(0x80+(c&0x3F)) ; else es += toHex(0xF0+(c>>18)) + toHex(0x80+(c>>12&0x3F)) + toHex(0x80+(c>>6&0x3F)) + toHex(0x80+(c&0x3F)) ; } return es ; } } </script><script> (function(exportTarget) { var lcs_options = { nnb: true }; var lcs_version = \"v0.8.3\"; var lcs_add = {}; var lcs_bc = {}; var lcs_perf = {}; var lcs_do_count = 0; var lcs_do_retry_count = 0; var lcs_waiting_pageshow = false; function lcs_do(optional_etc) { var etc = optional_etc || {}; if (lcs_waiting_pageshow) { return; } var retry = function(__etc) { return function() { window.setTimeout(function() { lcs_waiting_pageshow = false; lcs_do(__etc); }, 10); } }(etc); if (document.readyState !== \"complete\") { var eventName = \"onpageshow\" in window ? \"pageshow\" : \"load\"; if (document.addEventListener) { window.addEventListener(eventName, retry, false); } else { window.attachEvent(\"on\"+ eventName, retry); } lcs_do_retry_count++; lcs_waiting_pageshow = true; return; } if (!window.lcs_SerName) { window.lcs_SerName = \"lcs.naver.com\"; } var rs = \"\"; var index; var itarVal; var doc = document; var wlt = window.location; var lcsServerAddr; try { lcsServerAddr = \"https://\" + window.lcs_SerName + \"/m?\"; } catch (e) { return; } try { rs = lcsServerAddr + \"u=\" + encodeURIComponent(wlt.href) + \"&e=\" + (doc.referrer ? encodeURIComponent(doc.referrer) : \"\"); } catch (e) {} try { if (typeof lcs_add.i == \"undefined\") lcs_add.i = \"\"; if (lcs_do_count < 1) { lcs_setBrowserCapa(); if (lcs_options.nnb) { lcs_setNNB(); } lcs_setConnectionType(); lcs_setNavigationTiming(); var loadEventStart = lcs_perf[\"loadEventStart\"] || 0; var loadEventEnd = lcs_perf[\"loadEventEnd\"] || 0; if (loadEventEnd < loadEventStart && lcs_do_retry_count < 3) { lcs_do_retry_count++; lcs_waiting_pageshow = true; retry(); return; } lcs_setPaintTiming(); lcs_setNavigationType(); } for (index in lcs_bc) { if (typeof lcs_bc[index] !== \"function\") rs += \"&\" + index + \"=\" + encodeURIComponent(lcs_bc[index]); } for (index in lcs_add) { itarVal = lcs_add[index]; if (itarVal !== undefined && typeof itarVal !== \"function\") { rs += \"&\" + index + \"=\" + encodeURIComponent(itarVal); } } if (lcs_do_count < 1) { for (index in lcs_perf) { itarVal = lcs_perf[index]; if (itarVal) { rs += \"&\" + index + \"=\" + encodeURIComponent(itarVal); } } } var dni = !!etc.dni ? etc.dni : getCookie(\"NAPP_DI\"); if (!!dni) { etc.dni = dni; } else { delete etc.dni; } for (index in etc) { if ( (index.length >= 3 && typeof etc[index] !== \"function\") || index === \"qy\" ) { rs += \"&\" + index + \"=\" + encodeURIComponent(etc[index]); } } if (!!etc === false || !!etc.pid === false) { var pidFallback; if (window.g_pid) { pidFallback = g_pid; } else { pidFallback = lcs_get_lpid(); } rs += \"&pid=\" + encodeURIComponent(pidFallback); } var timeStr = new Date().getTime(); rs += \"&ts=\" + timeStr; rs += \"&EOU\"; var obj = document.createElement(\"img\"); obj.src = rs; obj.onload = function() { obj.onload = null; return; }; lcs_do_count++; } catch (e) { return; } } function getCookie(name) { var value = document.cookie.match('(^|;) ?' + name + '=([^;]*)(;|$)'); return value? value[2] : \"\"; } function lcs_do_gdid(gdid, etc) { try { if (gdid) { lcs_add[\"i\"] = gdid; if (etc) { lcs_do(etc); } else { lcs_do(); } } } catch (e) {} } function getLocalStorage() { var localStorage = null; try { localStorage = window.localStorage; } catch (e) {} try { if (!localStorage) localStorage = window.sessionStorage; } catch (e) {} return localStorage || null; } function lcs_setNNB() { try { var lsg = getLocalStorage(); if (lsg) { if (lsg.ls) { var lc = lsg.ls; if (lc.length == 13) { lcs_add[\"ls\"] = lc; return; } } var nnb = lcs_getNNBfromCookie(); if (nnb != null && nnb != \"\") { lsg.ls = nnb; lcs_add[\"ls\"] = nnb; } } } catch (e) {} } function lcs_setBrowserCapa() { lcs_bc[\"os\"] = lcs_getOS(); lcs_bc[\"ln\"] = lcs_getlanguage(); lcs_bc[\"sr\"] = lcs_getScreen(); lcs_bc[\"pr\"] = window.devicePixelRatio || 1; var windowSize = lcs_getWindowSize(); lcs_bc[\"bw\"] = windowSize[\"bw\"]; lcs_bc[\"bh\"] = windowSize[\"bh\"]; lcs_bc[\"c\"] = lcs_getColorDepth(); lcs_bc[\"j\"] = lcs_getJavaEnabled(); lcs_bc[\"k\"] = lcs_getCookieEnabled(); } function lcs_getOS() { var lcs_os = \"\"; try { navigator.platform ? (lcs_os = navigator.platform) : \"\"; } catch (e) {} return lcs_os; } function lcs_getlanguage() { var lcs_ln = \"\"; try { navigator.userLanguage ? (lcs_ln = navigator.userLanguage) : navigator.language ? (lcs_ln = navigator.language) : \"\"; } catch (e) {} return lcs_ln; } function lcs_getScreen() { var lcs_sr = \"\"; try { if (window.screen && screen.width && screen.height) { lcs_sr = screen.width + \"x\" + screen.height; } else if (window.java || self.java) { var sr = java.awt.Toolkit.getDefaultToolkit().getScreenSize(); lcs_sr = sr.width + \"x\" + sr.height; } } catch (e) { lcs_sr = \"\"; } return lcs_sr; } function lcs_getWindowSize() { var doc = document; var size = { bw: \"\", bh: \"\" }; try { size[\"bw\"] = doc.documentElement.clientWidth ? doc.documentElement.clientWidth : doc.body.clientWidth; size[\"bh\"] = doc.documentElement.clientHeight ? doc.documentElement.clientHeight : doc.body.clientHeight; } catch (e) {} return size; } function lcs_getColorDepth() { var colorDepth = \"\"; try { if (window.screen) { colorDepth = screen.colorDepth ? screen.colorDepth : screen.pixelDepth; } else if (window.java || self.java) { var c = java.awt.Toolkit.getDefaultToolkit() .getColorModel() .getPixelSize(); colorDepth = c; } } catch (e) { colorDepth = \"\"; } return colorDepth; } function lcs_getJavaEnabled() { var jsEnable = \"\"; try { jsEnable = navigator.javaEnabled() ? \"Y\" : \"N\"; } catch (e) {} return jsEnable; } function lcs_getCookieEnabled() { var cookieEnable = \"\"; try { cookieEnable = navigator.cookieEnabled ? \"Y\" : \"N\"; } catch (e) {} return cookieEnable; } function lcs_getNNBfromCookie() { try { var ck = document.cookie; var k, v, i, ArrCookies = ck.split(\";\"); for (i = 0; i < ArrCookies.length; i++) { k = ArrCookies[i].substr(0, ArrCookies[i].indexOf(\"=\")); v = ArrCookies[i].substr(ArrCookies[i].indexOf(\"=\") + 1); k = k.replace(/^\\s+|\\s+$/g, \"\"); if (k == \"NNB\") { return unescape(v); } } } catch (e) {} } function lcs_setConnectionType() { var connection = navigator.connection; if (connection) { if (connection.type && connection.type.length > 1) { lcs_add[\"ct\"] = connection.type; } if (connection.effectiveType) { lcs_add[\"ect\"] = connection.effectiveType; } } } function lcs_setNavigationTiming() { var performance = window.performance || {}; if (performance.timing) { var pt = performance.timing; for (var key in pt) { var value = pt[key]; if (typeof value === \"number\") { lcs_perf[key] = value; } } } } function lcs_setPaintTiming() { var performance = window.performance || {}; try { if (performance.getEntriesByType) { var performanceEntries = performance.getEntriesByType(\"paint\"); performanceEntries.forEach(function(performanceEntry, i, entries) { var name = performanceEntry.name; switch (name) { case \"first-paint\": case \"first-contentful-paint\": lcs_perf[name] = performanceEntry.startTime; break; default: break; } }); } else { } } catch (e) { console.warn(e); } } function lcs_setNavigationType() { var ngt = getNavigationType(); if (ngt !== undefined) { lcs_perf[\"ngt\"] = ngt; } } function getNavigationType() { var performance = window.performance || {}; if (performance.navigation) { return performance.navigation.type; } return; } var lpid = null; function lcs_create_lpid() { var uaID; var lsg = getLocalStorage(); var nnb = lsg ? lsg.ls : null; if (nnb) { uaID = nnb; } else { var nnbFallback; nnbFallback = navigator.userAgent + Math.random(); uaID = nnbFallback; } var performance = window.performance || {}; var pageURL = location.href; var currentTime; if (performance.now) { currentTime = performance.now(); } else { currentTime = new Date().getTime(); } lpid = hashFunction.md5(uaID + pageURL + currentTime); return lpid; } function lcs_get_lpid() { if (lpid === null) { lpid = lcs_create_lpid(); } return lpid; } function lcs_update_lpid() { lpid = lcs_create_lpid(); return lpid; } var hashFunction = {}; (function(exportTarget) { function safeAdd(x, y) { var lsw = (x & 0xffff) + (y & 0xffff); var msw = (x >> 16) + (y >> 16) + (lsw >> 16); return (msw << 16) | (lsw & 0xffff); } function bitRotateLeft(num, cnt) { return (num << cnt) | (num >>> (32 - cnt)); } function md5cmn(q, a, b, x, s, t) { return safeAdd( bitRotateLeft(safeAdd(safeAdd(a, q), safeAdd(x, t)), s), b ); } function md5ff(a, b, c, d, x, s, t) { return md5cmn((b & c) | (~b & d), a, b, x, s, t); } function md5gg(a, b, c, d, x, s, t) { return md5cmn((b & d) | (c & ~d), a, b, x, s, t); } function md5hh(a, b, c, d, x, s, t) { return md5cmn(b ^ c ^ d, a, b, x, s, t); } function md5ii(a, b, c, d, x, s, t) { return md5cmn(c ^ (b | ~d), a, b, x, s, t); } function binlMD5(x, len) { x[len >> 5] |= 0x80 << len % 32; x[(((len + 64) >>> 9) << 4) + 14] = len; var i; var olda; var oldb; var oldc; var oldd; var a = 1732584193; var b = -271733879; var c = -1732584194; var d = 271733878; for (i = 0; i < x.length; i += 16) { olda = a; oldb = b; oldc = c; oldd = d; a = md5ff(a, b, c, d, x[i], 7, -680876936); d = md5ff(d, a, b, c, x[i + 1], 12, -389564586); c = md5ff(c, d, a, b, x[i + 2], 17, 606105819); b = md5ff(b, c, d, a, x[i + 3], 22, -1044525330); a = md5ff(a, b, c, d, x[i + 4], 7, -176418897); d = md5ff(d, a, b, c, x[i + 5], 12, 1200080426); c = md5ff(c, d, a, b, x[i + 6], 17, -1473231341); b = md5ff(b, c, d, a, x[i + 7], 22, -45705983); a = md5ff(a, b, c, d, x[i + 8], 7, 1770035416); d = md5ff(d, a, b, c, x[i + 9], 12, -1958414417); c = md5ff(c, d, a, b, x[i + 10], 17, -42063); b = md5ff(b, c, d, a, x[i + 11], 22, -1990404162); a = md5ff(a, b, c, d, x[i + 12], 7, 1804603682); d = md5ff(d, a, b, c, x[i + 13], 12, -40341101); c = md5ff(c, d, a, b, x[i + 14], 17, -1502002290); b = md5ff(b, c, d, a, x[i + 15], 22, 1236535329); a = md5gg(a, b, c, d, x[i + 1], 5, -165796510); d = md5gg(d, a, b, c, x[i + 6], 9, -1069501632); c = md5gg(c, d, a, b, x[i + 11], 14, 643717713); b = md5gg(b, c, d, a, x[i], 20, -373897302); a = md5gg(a, b, c, d, x[i + 5], 5, -701558691); d = md5gg(d, a, b, c, x[i + 10], 9, 38016083); c = md5gg(c, d, a, b, x[i + 15], 14, -660478335); b = md5gg(b, c, d, a, x[i + 4], 20, -405537848); a = md5gg(a, b, c, d, x[i + 9], 5, 568446438); d = md5gg(d, a, b, c, x[i + 14], 9, -1019803690); c = md5gg(c, d, a, b, x[i + 3], 14, -187363961); b = md5gg(b, c, d, a, x[i + 8], 20, 1163531501); a = md5gg(a, b, c, d, x[i + 13], 5, -1444681467); d = md5gg(d, a, b, c, x[i + 2], 9, -51403784); c = md5gg(c, d, a, b, x[i + 7], 14, 1735328473); b = md5gg(b, c, d, a, x[i + 12], 20, -1926607734); a = md5hh(a, b, c, d, x[i + 5], 4, -378558); d = md5hh(d, a, b, c, x[i + 8], 11, -2022574463); c = md5hh(c, d, a, b, x[i + 11], 16, 1839030562); b = md5hh(b, c, d, a, x[i + 14], 23, -35309556); a = md5hh(a, b, c, d, x[i + 1], 4, -1530992060); d = md5hh(d, a, b, c, x[i + 4], 11, 1272893353); c = md5hh(c, d, a, b, x[i + 7], 16, -155497632); b = md5hh(b, c, d, a, x[i + 10], 23, -1094730640); a = md5hh(a, b, c, d, x[i + 13], 4, 681279174); d = md5hh(d, a, b, c, x[i], 11, -358537222); c = md5hh(c, d, a, b, x[i + 3], 16, -722521979); b = md5hh(b, c, d, a, x[i + 6], 23, 76029189); a = md5hh(a, b, c, d, x[i + 9], 4, -640364487); d = md5hh(d, a, b, c, x[i + 12], 11, -421815835); c = md5hh(c, d, a, b, x[i + 15], 16, 530742520); b = md5hh(b, c, d, a, x[i + 2], 23, -995338651); a = md5ii(a, b, c, d, x[i], 6, -198630844); d = md5ii(d, a, b, c, x[i + 7], 10, 1126891415); c = md5ii(c, d, a, b, x[i + 14], 15, -1416354905); b = md5ii(b, c, d, a, x[i + 5], 21, -57434055); a = md5ii(a, b, c, d, x[i + 12], 6, 1700485571); d = md5ii(d, a, b, c, x[i + 3], 10, -1894986606); c = md5ii(c, d, a, b, x[i + 10], 15, -1051523); b = md5ii(b, c, d, a, x[i + 1], 21, -2054922799); a = md5ii(a, b, c, d, x[i + 8], 6, 1873313359); d = md5ii(d, a, b, c, x[i + 15], 10, -30611744); c = md5ii(c, d, a, b, x[i + 6], 15, -1560198380); b = md5ii(b, c, d, a, x[i + 13], 21, 1309151649); a = md5ii(a, b, c, d, x[i + 4], 6, -145523070); d = md5ii(d, a, b, c, x[i + 11], 10, -1120210379); c = md5ii(c, d, a, b, x[i + 2], 15, 718787259); b = md5ii(b, c, d, a, x[i + 9], 21, -343485551); a = safeAdd(a, olda); b = safeAdd(b, oldb); c = safeAdd(c, oldc); d = safeAdd(d, oldd); } return [a, b, c, d]; } function binl2rstr(input) { var i; var output = \"\"; var length32 = input.length * 32; for (i = 0; i < length32; i += 8) { output += String.fromCharCode((input[i >> 5] >>> i % 32) & 0xff); } return output; } function rstr2binl(input) { var i; var output = []; output[(input.length >> 2) - 1] = undefined; for (i = 0; i < output.length; i += 1) { output[i] = 0; } var length8 = input.length * 8; for (i = 0; i < length8; i += 8) { output[i >> 5] |= (input.charCodeAt(i / 8) & 0xff) << i % 32; } return output; } function rstrMD5(s) { return binl2rstr(binlMD5(rstr2binl(s), s.length * 8)); } function rstrHMACMD5(key, data) { var i; var bkey = rstr2binl(key); var ipad = []; var opad = []; var hash; ipad[15] = opad[15] = undefined; if (bkey.length > 16) { bkey = binlMD5(bkey, key.length * 8); } for (i = 0; i < 16; i += 1) { ipad[i] = bkey[i] ^ 0x36363636; opad[i] = bkey[i] ^ 0x5c5c5c5c; } hash = binlMD5(ipad.concat(rstr2binl(data)), 512 + data.length * 8); return binl2rstr(binlMD5(opad.concat(hash), 512 + 128)); } function rstr2hex(input) { var hexTab = \"0123456789abcdef\"; var output = \"\"; var x; var i; for (i = 0; i < input.length; i += 1) { x = input.charCodeAt(i); output += hexTab.charAt((x >>> 4) & 0x0f) + hexTab.charAt(x & 0x0f); } return output; } function str2rstrUTF8(input) { return unescape(encodeURIComponent(input)); } function rawMD5(s) { return rstrMD5(str2rstrUTF8(s)); } function hexMD5(s) { return rstr2hex(rawMD5(s)); } function rawHMACMD5(k, d) { return rstrHMACMD5(str2rstrUTF8(k), str2rstrUTF8(d)); } function hexHMACMD5(k, d) { return rstr2hex(rawHMACMD5(k, d)); } function md5(string, key, raw) { if (!key) { if (!raw) { return hexMD5(string); } return rawMD5(string); } if (!raw) { return hexHMACMD5(key, string); } return rawHMACMD5(key, string); } exportTarget.md5 = md5; })(hashFunction); exportTarget.lcs_do = lcs_do; exportTarget.lcs_do_gdid = lcs_do_gdid; exportTarget.lcs_get_lpid = lcs_get_lpid; exportTarget.lcs_update_lpid = lcs_update_lpid; exportTarget.lcs_version = lcs_version; })(window); </script><script> naver = window.naver || {}; naver.search = naver.search || {}; naver.search.https = window.location.protocol == \"https:\"; naver.search.meta_referrer = 1; var headerfooter_query = \"삼성전자\" ; var g_ssc = \"tab.news.all\" ; var g_query = \"삼성전자\" ; var g_puid = \"iKxR9lprvxZsskTewtlssssstG8-267719\" ; var g_suid = \"72fvbXkXsTWPRkQ3tIPVwA==\" ; var g_tab = \"news\" ; var g_stab = \"news\" ; var g_crt = \"\" ; var g_D = 0 ; if (window.addEventListener) window.addEventListener(\"load\", function() { lcs_do({\"sti\": \"deny_notice\"}) }, false) ; else lcs_do({\"sti\": \"deny_notice\"}) ; </script><script crossorigin=\"anonymous\" src=\"https://ssl.pstatic.net/sstatic/sdyn.js?f=/au/pc/_nx/jindo_1.5.3_171116.js+/search/js/nhn.Component.js+/search/js/jindo.Component.1.1.0.js+/search/js/jindo.component.library_120927.js+/au/s/pc/_common/jindo/jindo.Rolling_140526.js+/fe/sfe/nx_jquery/pc/nx_jquery_221215.js&amp;o=search\"></script><script crossorigin=\"anonymous\" src=\"https://ssl.pstatic.net/sstatic/fe/sfe/common/pc-1.5.1.js?o=search\"></script><script crossorigin=\"anonymous\" src=\"https://ssl.pstatic.net/sstatic/fe/meerkat/logger/sfe/naver.common.meerkat.logger.sfe_pc_230601.js?o=search\"></script><script crossorigin=\"anonymous\" src=\"https://ssl.pstatic.net/sstatic/fe/sfe/web-vitals/web-vitals_230627.js?o=search\"></script><script crossorigin=\"anonymous\" src=\"https://ssl.pstatic.net/sstatic/fe/sfe/scrollLog/Controller_220714.js?o=search\"></script><script crossorigin=\"anonymous\" src=\"https://ssl.pstatic.net/sstatic/fe/sfe/naver_autocomplete/pc/naver.common.atcmp.naver_web_230216.js?o=search\"></script><script> 0 && naver.common.meerkat.logger.observe(); </script><script> function urlencode (q) { return encodeURIComponent(q).replace(/%20/g, \"+\").replace(/[!~'()]/g, function(c) { return '%' + c.charCodeAt(0).toString(16).toUpperCase() ; }); } function urldecode (q) { return decodeURIComponent(q.replace(/\\+/g, \" \")); } function urlexpand (url) { var href = document.location.href ; if (url == \"\") return href ; if (url.match(/^[-.A-Za-z]+:/)) return url ; if (url.charAt(0) == '#') return href.split(\"#\")[0] + url ; if (url.charAt(0) == '?') return href.split(\"?\")[0] + url ; if (url.charAt(0) == '/') return href.replace(/([^:\\/])\\/.*$/, \"$1\") + url ; return href.substring(0, href.lastIndexOf(\"/\")+1) + url ; } function tt_sub_disable (o) { if (typeof(o.tt_sub) == \"undefined\") return false ; if ((typeof(o.tt_sub) == \"object\") && (o.tt_sub.length)) { var i ; for (var i=0; i<o.tt_sub.length; i++) o.tt_sub[i].disabled = true ; } else o.tt_sub.disabled = true ; return true ; } function cpip () { var evt, sx = sy = px = py = -1 ; try { evt = window.event ; } catch (e) {} try { sx=evt.clientX-document.body.clientLeft, sy=evt.clientY-document.body.clientTop ; } catch (e) {} try { px=document.body.scrollLeft+(sx<0?0:sx), py=document.documentElement.scrollTop+(sy<0?0:sy) ; } catch (e) {} try { if (evt.pageX) px=evt.pageX ; if (evt.pageY) py=evt.pageY ; } catch (e) {} return \"px=\"+px+\"&py=\"+py+\"&sx=\"+sx+\"&sy=\"+sy ; } function nxGetCommonCRParam (p) { return (p.match(/(^|[&?])p=/) ? '' : \"p=\" + urlencode(g_puid) + '&') + \"q=\" + urlencode(g_query) + \"&ie=utf8&rev=1\" + (p.match(/(^|[&?])ssc=/) ? '' : \"&ssc=\" + urlencode(g_ssc)) + \"&f=\" + urlencode(g_tab) + \"&w=\" + urlencode(g_stab) + \"&s=\" + urlencode(g_suid) + \"&time=\" + urlencode((new Date()).getTime()) + g_crt ; } function getCRRankingByParam (p, info) { if (typeof info == 'undefined' || info == null) return 0 ; var cr = 0 ; try { var y, z ; var y = p.split('&') ; for (var i = 0; i < y.length; i++) { if (z = y[i].split('=')) { if (z[0] == 'a') { for (var j = 0; j < info.length; j++) { var a = info[j].area.split(/[*.]/)[0]; if (z[1].substr(0, a.length) == a) { cr = j + 1 ; break ; } } break ; } } } } catch (e) { } return cr ; } function getCRRanking (p) { var cr = 0 ; if (p.match(/(^|[&?])cr=/)) return cr ; if (typeof naver.search.section == 'undefined') return cr ; if (typeof naver.search.section.main != 'undefined') cr = getCRRankingByParam(p, naver.search.section.main) ; if (cr) return cr ; if (typeof naver.search.section.main2 != 'undefined') cr = getCRRankingByParam(p, naver.search.section.main2) ; return cr ; } function isOutlink (u) { if (!u || u.indexOf(\"://\") < 0) return false; var b = (u.search(/^\\w*:\\/\\/([^:/?]*\\.|)*(?!(ad)?cr\\.)[^.:/?]+\\.+naver\\.com(:\\d*)?(\\/|$)/) < 0);  return b; } function nxGetCRURL (m, a, b, c, d, e) { var p = \"\" ; var u ; if (c==undefined && d==undefined && e==undefined) { p = (a==undefined?\"\":\"&\"+a) + (b==undefined || a.indexOf(\"u=\")==0 || a.indexOf(\"&u=\") > 0 ?\"\":\"&u=\"+urlencode(b)) ; u = b ; } else { p = (a==undefined ? \"\" : \"&a=\"+urlencode(a)) + (b==undefined ? \"\" : \"&r=\"+urlencode(b)) + (c==undefined ? \"\" : \"&i=\"+urlencode(c)) + (d==undefined ? \"\" : \"&u=\"+urlencode(d)) + (e==undefined ? \"\" : \"&\"+e) ; u = d ; } if (! p) return null ; if (0 && u && u.indexOf(\"/search.naver?\") >= 0) { var r = /((?:^|&)u=)((?:(?:[^&]*%2F)?search.naver)?%3F(?:[^%&]|%[^2]|%2[^3])*)/; var pu = p.match(r); pu = pu && pu[2] ? pu[2] : '';  p = p.replace(r, '$1' + pu); } var url ; if (naver.search.https) { url = (naver.search.meta_referrer ? \"/p/crd\" : \"/p/cr\") + \"/rd\"; if (m != 0) m = 1; } else { out = isOutlink(u); url = \"http://cr.naver.com\" + (g_D && out ? \"/nr\" : \"/rd\"); if (m != 0) m = g_D && out ? 2 : 1; } url += \"?m=\" + m + \"&\" + cpip() + \"&\" + nxGetCommonCRParam(p) + p; return url; } function tCR (a, b, c, d, e) { var l = nxGetCRURL(0, a, b, c, d, e) ; var cr = getCRRanking(l) ; if (cr > 0) l = l + \"&cr=\" + cr ; if (document.images) (new Image()).src = l ; else document.location = l ; return false ; } function gCR (u, a, r, i, e, t) { if (u) u = urlexpand(u) ; var l = nxGetCRURL(1, a, r, i, u, e) ; var o = document.createElement(\"a\") ; var cr = getCRRanking(l) ; if (cr > 0) l = l + \"&cr=\" + cr ; if (o.click) { o.href = l ; o.style.display = \"none\" ; document.body.appendChild(o) ; o.click() ; } else document.location = l ; } function goCR (o, p, t) { var p0 = o.getAttribute && o.getAttribute(\"crp\"), u = o.href, u0 = u ; if (p0 && u.indexOf(p0)>0 && u.match(/\\/(rd|nr)\\?/)) { u = u0 = o.getAttribute && o.getAttribute(\"cru\") || u ; p = p0 ; } p0 = p ; tt_sub_disable(o) ; if (p.indexOf(\"u=javascript\") >= 0) t = true ; /* no frame/iframe but new window */ var n = (o.ownerDocument==document && o.target && o.target!=\"_self\" && o.target!=\"_parent\" && o.target!=\"_top\") && !(window.location.protocol&&window.location.protocol.indexOf(\"https:\")==0) ; var cr = getCRRanking(p) ; if (cr > 0) p = p + \"&cr=\" + cr ;  u = nxGetCRURL(t?0:(n?-1:1), p, u) ; if (u && !u.match(/m=0&/)) { if (o.setAttribute) { if (p0) o.setAttribute(\"crp\", p0) ; if (u0) o.setAttribute(\"cru\", u0) ; if (g_D && naver.search.https && naver.search.meta_referrer && o.href && isOutlink(o.href)) o.setAttribute(\"rel\", \"noreferrer\"); } var a = o.innerHTML ; o.href = u ; if (o.innerHTML != a) o.innerHTML = a ; } else if (document.images) (new Image()).src = u ; return true ; } function goOtherCR (o, p) { return goCR(o, p, false) ; } function goOtherTCR (o, p) { return goCR(o, p, true) ; } function get_form_url (o) { var url = o.getAttribute(\"action\") ; if (url == null) url = \"\" ; var e, n = 0 ; for (var i=0; i<o.elements.length; i++) { e = o.elements[i] ; if (e.disabled || !e.name) continue ; url += (n++>0?\"&\":url.indexOf(\"?\")<0?\"?\":url.indexOf(\"?\")<url.length-1?\"&\":\"\") + encodeURIComponent(e.name) + \"=\" + encodeURIComponent(e.value) ; } return url ; } function formCR (o, area, rank, id) { if (typeof o == 'string') o = document.getElementById(o) ; var target = o.getAttribute(\"target\") ; if (target && target!=\"_self\" && target!=\"_parent\" && target!=\"_top\" || /^post$/i.test(o.getAttribute(\"method\"))) { tCR(area, rank, id) ; o.submit() ; return false ; } var url = get_form_url(o) ; var a = document.createElement(\"a\") ; a.href = url ; var p = area != undefined ? \"a=\" + area : \"\" ; if (rank != undefined) p += (p?\"&\":\"\") + \"r=\" + encodeURIComponent(rank) ; if (id != undefined) p += (p?\"&\":\"\") + \"i=\" + encodeURIComponent(id) ; if (url != undefined) p += (p?\"&\":\"\") + \"u=\" + encodeURIComponent(urlexpand(url)) ; goCR(a, p) ; if (navigator.userAgent.indexOf('MSIE') > 0) { a.style.display = 'none' ; o.appendChild(a) ; a.click() ; } else document.location = a.href ; return false ; } </script><body> <div id=\"login_message\"> <div class=\"logo\"><a href=\"https://www.naver.com/\" onclick=\"return goOtherCR(this, 'a=blk.logo&amp;u='+urlencode(this.href))\"><span class=\"blind\">naver</span></a></div> <div class=\"conts\"> <div class=\"rnd_t\"> <div class=\"notice_img\"><span class=\"blind\">!</span></div> <div class=\"notice_txt\"> <h3><img alt=\"검색 서비스 이용이 제한되었습니다.\" height=\"16\" src=\"https://ssl.pstatic.net/sstatic/search/img3/txt_error02.gif\" width=\"233\"/></h3> <p class=\"info01\">사용 중이신 PC 또는 네트워크에서 네이버의 안정적인 검색 서비스를 방해하는 내용이 감지되었습니다.</p> <p class=\"info01\">네이버는 안정적인 검색 서비스를 제공하고자, 검색 서비스를 방해하는 비정상적인 움직임이 발견될 시 시스템에 의해 해당 네트워크의 검색을 일시적으로 제한하고 있습니다.<br/><br/> 보안 절차를 통과하면 검색 서비스를 정상적으로 이용하실 수 있습니다.<br/> 보안 절차를 통과하려면 [제한 해제] 버튼을 클릭하세요.<br/><br/> ※ \"비정상적인 검색\"이란? : 프로그램등을 이용, 특정 단어를 반복적으로 대량으로 입력하는 등 네이버 검색 서비스의 안정성을 방해하는 검색 패턴을 의미합니다. </p> <div class=\"btn\"> <a class=\"btn_captcha on\" href=\"#\" onclick=\"this.href=window.location.href+(window.location.search==''?'?':'&amp;')+'ct=1';return goOtherCR(this, 'u='+urlencode(this.href)+'&amp;a=blk.release');\"><span class=\"blind\">제한해제</span></a> </div> </div> </div> <div class=\"rnd_b\"></div> </div> <div id=\"footer\"><div class=\"footer_wrap\"> <ul> <li class=\"first\"><a href=\"https://www.navercorp.com/\" onclick=\"return goOtherCR(this, 'a=blk.corp&amp;u='+urlencode(this.href))\">회사소개</a></li> <li><a href=\"https://policy.naver.com/rules/service.html\" onclick=\"return goOtherCR(this, 'a=blk.agree&amp;u='+urlencode(this.href))\">이용약관</a></li> <li><a href=\"https://policy.naver.com/rules/privacy.html\" onclick=\"return goOtherCR(this, 'a=blk.privacy&amp;u='+urlencode(this.href))\"><strong>개인정보취급방침</strong></a></li> <li><a href=\"https://policy.naver.com/rules/disclaimer.html\" onclick=\"return goOtherCR(this, 'a=blk.law&amp;u='+urlencode(this.href))\">책임의 한계와 법적고지</a></li> <li><a href=\"https://help.naver.com/\" onclick=\"return goOtherCR(this, 'a=blk.help&amp;u='+urlencode(this.href))\">고객센터</a></li> </ul> <address> Copyright © <a href=\"https://www.navercorp.com/\" onclick=\"return goOtherCR(this, 'a=blk.naver&amp;u='+urlencode(this.href))\">NAVER Corp.</a> All Rights Reserved. </address> </div> </div></div> </body></html>"
      ]
     },
     "execution_count": 36,
     "metadata": {},
     "output_type": "execute_result"
    }
   ],
   "source": [
    "soup"
   ]
  },
  {
   "cell_type": "code",
   "execution_count": 30,
   "id": "5304e100",
   "metadata": {
    "ExecuteTime": {
     "end_time": "2023-12-08T01:07:01.828677Z",
     "start_time": "2023-12-08T01:07:01.821253Z"
    }
   },
   "outputs": [],
   "source": [
    "\n",
    "# #### naver crawling\n",
    "def get_news_summary(key_word):\n",
    "    \n",
    "    # 1. 검색 url을 통해 뉴스의 리스트를 읽어 오는 코드\n",
    "    url = f'https://search.naver.com/search.naver?where=news&sm=tab_jum&query={key_word}'\n",
    "\n",
    "    headers = {\"User-Agent\": \"Mozilla/5.0 (Windows NT 6.3; WOW64) AppleWebKit/537.36 (KHTML, like Gecko) Chrome/44.0.2403.157 Safari/537.36\"}\n",
    "    res = requests.get(url, headers= headers)\n",
    "    soup = bs(res.text, 'html.parser')\n",
    "    news_list = soup.find_all('div', attrs={'class':'info_group'})\n",
    "    \n",
    "    # 각각 뉴스의 리스트에서 링크를 타고 들어간 후 각각의 뉴스 내용을 합치는 코드\n",
    "    news_url_list = [] # 네이버 뉴스 url 리스트\n",
    "    new_article_list= [] # 네이버 뉴스 기사 통합 리스트\n",
    "    for i in range(3): # 최대 5개 정도만 추출\n",
    "        news_article = news_list[i].find_all(\"a\", attrs={\"class\":\"info\"})\n",
    "        if len(news_article) > 1:\n",
    "            news_nm_url = news_article[1].get('href')\n",
    "            news_url_list.append(news_nm_url)\n",
    "            res = requests.get(news_nm_url, headers=headers)\n",
    "            soup = bs(res.text, 'lxml')\n",
    "            news_article_nm = soup.find_all('div', attrs = {'class': 'newsct_article _article_body'})\n",
    "            news_article_text = news_article_nm[0].get_text()\n",
    "            new_article_list.append(news_article_text)\n",
    "            \n",
    "    # CHAT GPT에 들어갈 최종 뉴스기사\n",
    "    total_article = '_'.join(new_article_list)\n",
    "    total_article = total_article.replace(\"\\n\",\"\")\n",
    "    \n",
    "    \n",
    "    # 뉴스기사와 함께 요약문 \n",
    "    input_text_2 = ' \\n 전망이 어떨지 요약 좀 해줘'\n",
    "    \n",
    "    question = f'{total_article} {input_text_2}'\n",
    "    \n",
    "    # Chat gpt\n",
    "    completion = openai.ChatCompletion.create(\n",
    "      model=\"gpt-3.5-turbo-16k\", \n",
    "      messages=[{\"role\": \"user\", \n",
    "                 \"content\": question}]\n",
    ")\n",
    "    return completion.choices[0]['message']['content']\n"
   ]
  },
  {
   "cell_type": "code",
   "execution_count": 31,
   "id": "7b4d142f",
   "metadata": {
    "ExecuteTime": {
     "end_time": "2023-12-08T01:07:02.306363Z",
     "start_time": "2023-12-08T01:07:02.082478Z"
    }
   },
   "outputs": [
    {
     "ename": "IndexError",
     "evalue": "list index out of range",
     "output_type": "error",
     "traceback": [
      "\u001b[0;31m---------------------------------------------------------------------------\u001b[0m",
      "\u001b[0;31mIndexError\u001b[0m                                Traceback (most recent call last)",
      "Cell \u001b[0;32mIn[31], line 1\u001b[0m\n\u001b[0;32m----> 1\u001b[0m question \u001b[38;5;241m=\u001b[39m get_news_summary(\u001b[38;5;124m'\u001b[39m\u001b[38;5;124m초전도체\u001b[39m\u001b[38;5;124m'\u001b[39m)\n",
      "Cell \u001b[0;32mIn[30], line 16\u001b[0m, in \u001b[0;36mget_news_summary\u001b[0;34m(key_word)\u001b[0m\n\u001b[1;32m     14\u001b[0m new_article_list\u001b[38;5;241m=\u001b[39m [] \u001b[38;5;66;03m# 네이버 뉴스 기사 통합 리스트\u001b[39;00m\n\u001b[1;32m     15\u001b[0m \u001b[38;5;28;01mfor\u001b[39;00m i \u001b[38;5;129;01min\u001b[39;00m \u001b[38;5;28mrange\u001b[39m(\u001b[38;5;241m3\u001b[39m): \u001b[38;5;66;03m# 최대 5개 정도만 추출\u001b[39;00m\n\u001b[0;32m---> 16\u001b[0m     news_article \u001b[38;5;241m=\u001b[39m news_list[i]\u001b[38;5;241m.\u001b[39mfind_all(\u001b[38;5;124m\"\u001b[39m\u001b[38;5;124ma\u001b[39m\u001b[38;5;124m\"\u001b[39m, attrs\u001b[38;5;241m=\u001b[39m{\u001b[38;5;124m\"\u001b[39m\u001b[38;5;124mclass\u001b[39m\u001b[38;5;124m\"\u001b[39m:\u001b[38;5;124m\"\u001b[39m\u001b[38;5;124minfo\u001b[39m\u001b[38;5;124m\"\u001b[39m})\n\u001b[1;32m     17\u001b[0m     \u001b[38;5;28;01mif\u001b[39;00m \u001b[38;5;28mlen\u001b[39m(news_article) \u001b[38;5;241m>\u001b[39m \u001b[38;5;241m1\u001b[39m:\n\u001b[1;32m     18\u001b[0m         news_nm_url \u001b[38;5;241m=\u001b[39m news_article[\u001b[38;5;241m1\u001b[39m]\u001b[38;5;241m.\u001b[39mget(\u001b[38;5;124m'\u001b[39m\u001b[38;5;124mhref\u001b[39m\u001b[38;5;124m'\u001b[39m)\n",
      "\u001b[0;31mIndexError\u001b[0m: list index out of range"
     ]
    }
   ],
   "source": [
    "question = get_news_summary('초전도체')"
   ]
  },
  {
   "cell_type": "code",
   "execution_count": null,
   "id": "f5c0f0a7",
   "metadata": {},
   "outputs": [],
   "source": [
    "question"
   ]
  },
  {
   "cell_type": "code",
   "execution_count": null,
   "id": "aef9c11b",
   "metadata": {},
   "outputs": [],
   "source": []
  }
 ],
 "metadata": {
  "kernelspec": {
   "display_name": "Python 3 (ipykernel)",
   "language": "python",
   "name": "python3"
  },
  "language_info": {
   "codemirror_mode": {
    "name": "ipython",
    "version": 3
   },
   "file_extension": ".py",
   "mimetype": "text/x-python",
   "name": "python",
   "nbconvert_exporter": "python",
   "pygments_lexer": "ipython3",
   "version": "3.11.3"
  },
  "toc": {
   "base_numbering": 1,
   "nav_menu": {},
   "number_sections": true,
   "sideBar": true,
   "skip_h1_title": false,
   "title_cell": "Table of Contents",
   "title_sidebar": "Contents",
   "toc_cell": false,
   "toc_position": {
    "height": "calc(100% - 180px)",
    "left": "10px",
    "top": "150px",
    "width": "227.795px"
   },
   "toc_section_display": true,
   "toc_window_display": true
  }
 },
 "nbformat": 4,
 "nbformat_minor": 5
}
