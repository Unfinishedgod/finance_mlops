{
 "cells": [
  {
   "cell_type": "markdown",
   "id": "c3ca935a",
   "metadata": {},
   "source": [
    "### chatgpt python 연동"
   ]
  },
  {
   "cell_type": "code",
   "execution_count": 2,
   "id": "89a214c3",
   "metadata": {},
   "outputs": [],
   "source": [
    "# ### chatgpt python 연동\n",
    "import requests\n",
    "from bs4 import BeautifulSoup as bs\n",
    "import pandas as pd\n",
    "import os\n",
    "from time import sleep\n",
    "import openai\n",
    "from datetime import datetime\n",
    "import os\n",
    "import time\n",
    "\n",
    "os.chdir('/home/shjj08choi/finance_mlops')"
   ]
  },
  {
   "cell_type": "markdown",
   "id": "a239ea0d",
   "metadata": {},
   "source": [
    "### api 키 "
   ]
  },
  {
   "cell_type": "code",
   "execution_count": 21,
   "id": "8635123f",
   "metadata": {},
   "outputs": [],
   "source": [
    "# naver\n",
    "naver_apikey_df = pd.read_csv('key_value/naver_apikey.csv')\n",
    "client_id = naver_apikey_df['client_id'][0]\n",
    "client_secret = naver_apikey_df['client_secret'][0]\n",
    "\n",
    "# openai\n",
    "chatgpt_apikey_df = pd.read_csv('key_value/chatgpt_apikey.csv')\n",
    "chatgpt_apikey = chatgpt_apikey_df['api_key'][0]"
   ]
  },
  {
   "cell_type": "code",
   "execution_count": null,
   "id": "1770d2bc",
   "metadata": {},
   "outputs": [],
   "source": []
  },
  {
   "cell_type": "code",
   "execution_count": null,
   "id": "25c76bce",
   "metadata": {},
   "outputs": [],
   "source": []
  },
  {
   "cell_type": "code",
   "execution_count": 22,
   "id": "481e0fc8",
   "metadata": {},
   "outputs": [],
   "source": [
    "search_word = '코스피' #검색어\n",
    "max_display = 100 #출력 뉴스 수\n",
    "sort = 'date' #결과값의 정렬기준 시간순 date, 관련도 순 sim\n",
    "# sort = 'sim' #결과값의 정렬기준 시간순 date, 관련도 순 sim\n",
    "start = 1 # 출력 위치\n",
    "\n",
    "url = 'https://openapi.naver.com/v1/search/news.json?' + \\\n",
    "    f'query={search_word}&display={str(int(max_display))}&start={str(int(start))}&sort={sort}'\n",
    "\n",
    "#헤더에 아이디와 키 정보 넣기\n",
    "headers = {'X-Naver-Client-Id' : client_id,\n",
    "           'X-Naver-Client-Secret':client_secret\n",
    "           }\n",
    "\n",
    "#HTTP요청 보내기\n",
    "r = requests.get(url, headers=headers)\n",
    "\n",
    "#요청 결과 보기 200 이면 정상적으로 요청 완료\n",
    "json_result = r.json()\n",
    "\n",
    "# df['total']\n",
    "df = pd.DataFrame(json_result['items'])\n",
    "df['pubDate'] = pd.to_datetime(df['pubDate'])"
   ]
  },
  {
   "cell_type": "code",
   "execution_count": 24,
   "id": "7dc7bd98",
   "metadata": {},
   "outputs": [
    {
     "data": {
      "text/plain": [
       "2355293"
      ]
     },
     "execution_count": 24,
     "metadata": {},
     "output_type": "execute_result"
    }
   ],
   "source": [
    "json_result['total']"
   ]
  },
  {
   "cell_type": "code",
   "execution_count": 25,
   "id": "1ab4cad4",
   "metadata": {},
   "outputs": [
    {
     "data": {
      "text/html": [
       "<div>\n",
       "<style scoped>\n",
       "    .dataframe tbody tr th:only-of-type {\n",
       "        vertical-align: middle;\n",
       "    }\n",
       "\n",
       "    .dataframe tbody tr th {\n",
       "        vertical-align: top;\n",
       "    }\n",
       "\n",
       "    .dataframe thead th {\n",
       "        text-align: right;\n",
       "    }\n",
       "</style>\n",
       "<table border=\"1\" class=\"dataframe\">\n",
       "  <thead>\n",
       "    <tr style=\"text-align: right;\">\n",
       "      <th></th>\n",
       "      <th>title</th>\n",
       "      <th>originallink</th>\n",
       "      <th>link</th>\n",
       "      <th>description</th>\n",
       "      <th>pubDate</th>\n",
       "    </tr>\n",
       "  </thead>\n",
       "  <tbody>\n",
       "    <tr>\n",
       "      <th>0</th>\n",
       "      <td>[N2 증시 풍향계] &amp;apos;美 해상풍력단지 승인&amp;apos; 풍력주·&amp;apos;...</td>\n",
       "      <td>https://www.news2day.co.kr/article/20230823500096</td>\n",
       "      <td>https://www.news2day.co.kr/article/20230823500096</td>\n",
       "      <td>이날 같은 시각 &lt;b&gt;코스피&lt;/b&gt;시장에서 사조씨푸드(014710)는 전장 대비 7...</td>\n",
       "      <td>2023-08-23 10:36:00+09:00</td>\n",
       "    </tr>\n",
       "    <tr>\n",
       "      <th>1</th>\n",
       "      <td>서울보증보험, &lt;b&gt;코스피&lt;/b&gt; 상장예비심사 통과…상장 절차 본격화</td>\n",
       "      <td>https://www.nbntv.kr/news/articleView.html?idx...</td>\n",
       "      <td>https://www.nbntv.kr/news/articleView.html?idx...</td>\n",
       "      <td>서울보증보험은 지난 22일 한국거래소 유가증권시장 상장예비심사 결과 승인 통보를 받...</td>\n",
       "      <td>2023-08-23 10:36:00+09:00</td>\n",
       "    </tr>\n",
       "    <tr>\n",
       "      <th>2</th>\n",
       "      <td>삼성액티브운용 &amp;quot;KoAct 바이오헬스케어, 순자산 1천억 돌파&amp;quot;</td>\n",
       "      <td>http://www.ftoday.co.kr/news/articleView.html?...</td>\n",
       "      <td>http://www.ftoday.co.kr/news/articleView.html?...</td>\n",
       "      <td>같은 기간 KRX헬스케어 지수의 상승률은 -0.11%였고, &lt;b&gt;코스피&lt;/b&gt;는 -...</td>\n",
       "      <td>2023-08-23 10:34:00+09:00</td>\n",
       "    </tr>\n",
       "    <tr>\n",
       "      <th>3</th>\n",
       "      <td>NH투자증권 &amp;quot;韓 최대 수출국, 중국에서 미국으로 바뀔 전망&amp;quot;</td>\n",
       "      <td>http://www.edaily.co.kr/news/newspath.asp?news...</td>\n",
       "      <td>https://n.news.naver.com/mnews/article/018/000...</td>\n",
       "      <td>특히 &lt;b&gt;코스피&lt;/b&gt; 상장 상위 기업을 중심으로 중국 의존도가 크게 줄어들고 있...</td>\n",
       "      <td>2023-08-23 10:32:00+09:00</td>\n",
       "    </tr>\n",
       "    <tr>\n",
       "      <th>4</th>\n",
       "      <td>‘3兆 대어’ 서울보증보험, &lt;b&gt;코스피&lt;/b&gt; 상장 예심 통과</td>\n",
       "      <td>https://www.mk.co.kr/article/10813336</td>\n",
       "      <td>https://n.news.naver.com/mnews/article/009/000...</td>\n",
       "      <td>13년 만의 공기업 기업공개(IPO)로 주목받는 서울보증보험이 한국거래소의 상장예비...</td>\n",
       "      <td>2023-08-23 10:30:00+09:00</td>\n",
       "    </tr>\n",
       "    <tr>\n",
       "      <th>...</th>\n",
       "      <td>...</td>\n",
       "      <td>...</td>\n",
       "      <td>...</td>\n",
       "      <td>...</td>\n",
       "      <td>...</td>\n",
       "    </tr>\n",
       "    <tr>\n",
       "      <th>95</th>\n",
       "      <td>[개장시황] 국내증시, 美 반도체 업종 매출 출회에 하락 출발</td>\n",
       "      <td>https://www.ajunews.com/view/20230823091249105</td>\n",
       "      <td>https://www.ajunews.com/view/20230823091249105</td>\n",
       "      <td>23일 한국거래소에 따르면 이날 오전 9시6분 &lt;b&gt;코스피&lt;/b&gt;는 전 거래일보다 ...</td>\n",
       "      <td>2023-08-23 09:14:00+09:00</td>\n",
       "    </tr>\n",
       "    <tr>\n",
       "      <th>96</th>\n",
       "      <td>&lt;b&gt;코스피&lt;/b&gt;, 기관 매도 속 약세..2510선 유지</td>\n",
       "      <td>http://news.mt.co.kr/mtview.php?no=20230823091...</td>\n",
       "      <td>https://n.news.naver.com/mnews/article/008/000...</td>\n",
       "      <td>&lt;b&gt;코스피&lt;/b&gt;가 외국인과 기관 매도세로 하락 출발했다. 23일 오전 9시11분...</td>\n",
       "      <td>2023-08-23 09:14:00+09:00</td>\n",
       "    </tr>\n",
       "    <tr>\n",
       "      <th>97</th>\n",
       "      <td>&amp;apos;IPO 대어&amp;apos; 서울보증보험, &lt;b&gt;코스피&lt;/b&gt; 상장 예비심사 통과</td>\n",
       "      <td>http://www.newsworks.co.kr/news/articleView.ht...</td>\n",
       "      <td>http://www.newsworks.co.kr/news/articleView.ht...</td>\n",
       "      <td>국내 최대 종합보증사 서울보증보험은 전날 한국거래소 유가증권시장(&lt;b&gt;코스피&lt;/b&gt;...</td>\n",
       "      <td>2023-08-23 09:14:00+09:00</td>\n",
       "    </tr>\n",
       "    <tr>\n",
       "      <th>98</th>\n",
       "      <td>또 2500 깨지나..&lt;b&gt;코스피&lt;/b&gt; 2510서 출발 [fn개장시황]</td>\n",
       "      <td>http://www.fnnews.com/news/202308230906180915</td>\n",
       "      <td>https://n.news.naver.com/mnews/article/014/000...</td>\n",
       "      <td>23일 국내 증시가 약보합으로 시작했다. 이날 한국거래소에 따르면 &lt;b&gt;코스피&lt;/b...</td>\n",
       "      <td>2023-08-23 09:10:00+09:00</td>\n",
       "    </tr>\n",
       "    <tr>\n",
       "      <th>99</th>\n",
       "      <td>휴비스, 보합 하루만에 12% 급등…9400원선 재돌파</td>\n",
       "      <td>http://www.econonews.co.kr/news/articleView.ht...</td>\n",
       "      <td>http://www.econonews.co.kr/news/articleView.ht...</td>\n",
       "      <td>휴비스는 23일 &lt;b&gt;코스피&lt;/b&gt; 시장에서 오전 9시7분 현재 전 거래일 대비 1...</td>\n",
       "      <td>2023-08-23 09:10:00+09:00</td>\n",
       "    </tr>\n",
       "  </tbody>\n",
       "</table>\n",
       "<p>100 rows × 5 columns</p>\n",
       "</div>"
      ],
      "text/plain": [
       "                                                title  \\\n",
       "0   [N2 증시 풍향계] &apos;美 해상풍력단지 승인&apos; 풍력주·&apos;...   \n",
       "1              서울보증보험, <b>코스피</b> 상장예비심사 통과…상장 절차 본격화   \n",
       "2       삼성액티브운용 &quot;KoAct 바이오헬스케어, 순자산 1천억 돌파&quot;   \n",
       "3        NH투자증권 &quot;韓 최대 수출국, 중국에서 미국으로 바뀔 전망&quot;   \n",
       "4                 ‘3兆 대어’ 서울보증보험, <b>코스피</b> 상장 예심 통과   \n",
       "..                                                ...   \n",
       "95                 [개장시황] 국내증시, 美 반도체 업종 매출 출회에 하락 출발   \n",
       "96                   <b>코스피</b>, 기관 매도 속 약세..2510선 유지   \n",
       "97   &apos;IPO 대어&apos; 서울보증보험, <b>코스피</b> 상장 예비심사 통과   \n",
       "98           또 2500 깨지나..<b>코스피</b> 2510서 출발 [fn개장시황]   \n",
       "99                     휴비스, 보합 하루만에 12% 급등…9400원선 재돌파   \n",
       "\n",
       "                                         originallink  \\\n",
       "0   https://www.news2day.co.kr/article/20230823500096   \n",
       "1   https://www.nbntv.kr/news/articleView.html?idx...   \n",
       "2   http://www.ftoday.co.kr/news/articleView.html?...   \n",
       "3   http://www.edaily.co.kr/news/newspath.asp?news...   \n",
       "4               https://www.mk.co.kr/article/10813336   \n",
       "..                                                ...   \n",
       "95     https://www.ajunews.com/view/20230823091249105   \n",
       "96  http://news.mt.co.kr/mtview.php?no=20230823091...   \n",
       "97  http://www.newsworks.co.kr/news/articleView.ht...   \n",
       "98      http://www.fnnews.com/news/202308230906180915   \n",
       "99  http://www.econonews.co.kr/news/articleView.ht...   \n",
       "\n",
       "                                                 link  \\\n",
       "0   https://www.news2day.co.kr/article/20230823500096   \n",
       "1   https://www.nbntv.kr/news/articleView.html?idx...   \n",
       "2   http://www.ftoday.co.kr/news/articleView.html?...   \n",
       "3   https://n.news.naver.com/mnews/article/018/000...   \n",
       "4   https://n.news.naver.com/mnews/article/009/000...   \n",
       "..                                                ...   \n",
       "95     https://www.ajunews.com/view/20230823091249105   \n",
       "96  https://n.news.naver.com/mnews/article/008/000...   \n",
       "97  http://www.newsworks.co.kr/news/articleView.ht...   \n",
       "98  https://n.news.naver.com/mnews/article/014/000...   \n",
       "99  http://www.econonews.co.kr/news/articleView.ht...   \n",
       "\n",
       "                                          description  \\\n",
       "0   이날 같은 시각 <b>코스피</b>시장에서 사조씨푸드(014710)는 전장 대비 7...   \n",
       "1   서울보증보험은 지난 22일 한국거래소 유가증권시장 상장예비심사 결과 승인 통보를 받...   \n",
       "2   같은 기간 KRX헬스케어 지수의 상승률은 -0.11%였고, <b>코스피</b>는 -...   \n",
       "3   특히 <b>코스피</b> 상장 상위 기업을 중심으로 중국 의존도가 크게 줄어들고 있...   \n",
       "4   13년 만의 공기업 기업공개(IPO)로 주목받는 서울보증보험이 한국거래소의 상장예비...   \n",
       "..                                                ...   \n",
       "95  23일 한국거래소에 따르면 이날 오전 9시6분 <b>코스피</b>는 전 거래일보다 ...   \n",
       "96  <b>코스피</b>가 외국인과 기관 매도세로 하락 출발했다. 23일 오전 9시11분...   \n",
       "97  국내 최대 종합보증사 서울보증보험은 전날 한국거래소 유가증권시장(<b>코스피</b>...   \n",
       "98  23일 국내 증시가 약보합으로 시작했다. 이날 한국거래소에 따르면 <b>코스피</b...   \n",
       "99  휴비스는 23일 <b>코스피</b> 시장에서 오전 9시7분 현재 전 거래일 대비 1...   \n",
       "\n",
       "                     pubDate  \n",
       "0  2023-08-23 10:36:00+09:00  \n",
       "1  2023-08-23 10:36:00+09:00  \n",
       "2  2023-08-23 10:34:00+09:00  \n",
       "3  2023-08-23 10:32:00+09:00  \n",
       "4  2023-08-23 10:30:00+09:00  \n",
       "..                       ...  \n",
       "95 2023-08-23 09:14:00+09:00  \n",
       "96 2023-08-23 09:14:00+09:00  \n",
       "97 2023-08-23 09:14:00+09:00  \n",
       "98 2023-08-23 09:10:00+09:00  \n",
       "99 2023-08-23 09:10:00+09:00  \n",
       "\n",
       "[100 rows x 5 columns]"
      ]
     },
     "execution_count": 25,
     "metadata": {},
     "output_type": "execute_result"
    }
   ],
   "source": [
    "df[df['pubDate'] > '2023-08-18 16:20:00']"
   ]
  },
  {
   "cell_type": "code",
   "execution_count": 76,
   "id": "684348b8",
   "metadata": {},
   "outputs": [
    {
     "data": {
      "text/plain": [
       "'<b>코스피</b>가 18일 미국 금리 상승 여파로 인해 하락했지만 2500선은 지켜냈다. 이날 <b>코스피</b> 종가는 전장보다 15.35포인트(0.61%) 내린 2504.50으로 마감했다. 지수는 전장보다 24.67포인트(0.98%) 내린 2495.18로... '"
      ]
     },
     "execution_count": 76,
     "metadata": {},
     "output_type": "execute_result"
    }
   ],
   "source": [
    "df[df['pubDate'] > '2023-08-18 16:00:00']['description'][0]"
   ]
  },
  {
   "cell_type": "code",
   "execution_count": 55,
   "id": "55cbebec",
   "metadata": {},
   "outputs": [
    {
     "data": {
      "text/plain": [
       "0    2023-08-18 09:22:00+09:00\n",
       "1    2023-08-18 08:27:00+09:00\n",
       "2    2023-08-18 07:30:00+09:00\n",
       "3    2023-08-18 08:40:00+09:00\n",
       "4    2023-08-17 18:01:00+09:00\n",
       "                ...           \n",
       "95   2023-08-18 10:48:00+09:00\n",
       "96   2023-08-18 09:06:00+09:00\n",
       "97   2023-08-17 16:04:00+09:00\n",
       "98   2023-08-16 08:19:00+09:00\n",
       "99   2023-08-16 09:52:00+09:00\n",
       "Name: pubDate, Length: 100, dtype: datetime64[ns, pytz.FixedOffset(540)]"
      ]
     },
     "execution_count": 55,
     "metadata": {},
     "output_type": "execute_result"
    }
   ],
   "source": []
  },
  {
   "cell_type": "markdown",
   "id": "d38558ab",
   "metadata": {},
   "source": [
    "### apikey csv 저장"
   ]
  },
  {
   "cell_type": "code",
   "execution_count": 19,
   "id": "91d576a1",
   "metadata": {},
   "outputs": [],
   "source": [
    "openai.api_key = chatgpt_apikey\n",
    "model_list = openai.Model.list()"
   ]
  },
  {
   "cell_type": "code",
   "execution_count": 20,
   "id": "385606cd",
   "metadata": {},
   "outputs": [
    {
     "data": {
      "text/html": [
       "<div>\n",
       "<style scoped>\n",
       "    .dataframe tbody tr th:only-of-type {\n",
       "        vertical-align: middle;\n",
       "    }\n",
       "\n",
       "    .dataframe tbody tr th {\n",
       "        vertical-align: top;\n",
       "    }\n",
       "\n",
       "    .dataframe thead th {\n",
       "        text-align: right;\n",
       "    }\n",
       "</style>\n",
       "<table border=\"1\" class=\"dataframe\">\n",
       "  <thead>\n",
       "    <tr style=\"text-align: right;\">\n",
       "      <th></th>\n",
       "      <th>id</th>\n",
       "      <th>object</th>\n",
       "      <th>created</th>\n",
       "      <th>owned_by</th>\n",
       "      <th>permission</th>\n",
       "      <th>root</th>\n",
       "      <th>parent</th>\n",
       "    </tr>\n",
       "  </thead>\n",
       "  <tbody>\n",
       "    <tr>\n",
       "      <th>0</th>\n",
       "      <td>text-davinci-001</td>\n",
       "      <td>model</td>\n",
       "      <td>1649364042</td>\n",
       "      <td>openai</td>\n",
       "      <td>[{'id': 'modelperm-CDlahk1RbkghXDjtxqzXoPNo', ...</td>\n",
       "      <td>text-davinci-001</td>\n",
       "      <td>None</td>\n",
       "    </tr>\n",
       "    <tr>\n",
       "      <th>1</th>\n",
       "      <td>text-search-curie-query-001</td>\n",
       "      <td>model</td>\n",
       "      <td>1651172509</td>\n",
       "      <td>openai-dev</td>\n",
       "      <td>[{'id': 'modelperm-fNgpMH6ZEQulSq1CjzlfQuIe', ...</td>\n",
       "      <td>text-search-curie-query-001</td>\n",
       "      <td>None</td>\n",
       "    </tr>\n",
       "    <tr>\n",
       "      <th>2</th>\n",
       "      <td>davinci</td>\n",
       "      <td>model</td>\n",
       "      <td>1649359874</td>\n",
       "      <td>openai</td>\n",
       "      <td>[{'id': 'modelperm-8s5tCuiXSr3zT00nLwZGyMpS', ...</td>\n",
       "      <td>davinci</td>\n",
       "      <td>None</td>\n",
       "    </tr>\n",
       "    <tr>\n",
       "      <th>3</th>\n",
       "      <td>gpt-3.5-turbo-16k-0613</td>\n",
       "      <td>model</td>\n",
       "      <td>1685474247</td>\n",
       "      <td>openai</td>\n",
       "      <td>[{'id': 'modelperm-0WUfVWoQgban6U6wF2YQVlq7', ...</td>\n",
       "      <td>gpt-3.5-turbo-16k-0613</td>\n",
       "      <td>None</td>\n",
       "    </tr>\n",
       "    <tr>\n",
       "      <th>4</th>\n",
       "      <td>text-babbage-001</td>\n",
       "      <td>model</td>\n",
       "      <td>1649364043</td>\n",
       "      <td>openai</td>\n",
       "      <td>[{'id': 'modelperm-YABzYWjC1kS6M2BnI6Fr9vuS', ...</td>\n",
       "      <td>text-babbage-001</td>\n",
       "      <td>None</td>\n",
       "    </tr>\n",
       "  </tbody>\n",
       "</table>\n",
       "</div>"
      ],
      "text/plain": [
       "                            id object     created    owned_by  \\\n",
       "0             text-davinci-001  model  1649364042      openai   \n",
       "1  text-search-curie-query-001  model  1651172509  openai-dev   \n",
       "2                      davinci  model  1649359874      openai   \n",
       "3       gpt-3.5-turbo-16k-0613  model  1685474247      openai   \n",
       "4             text-babbage-001  model  1649364043      openai   \n",
       "\n",
       "                                          permission  \\\n",
       "0  [{'id': 'modelperm-CDlahk1RbkghXDjtxqzXoPNo', ...   \n",
       "1  [{'id': 'modelperm-fNgpMH6ZEQulSq1CjzlfQuIe', ...   \n",
       "2  [{'id': 'modelperm-8s5tCuiXSr3zT00nLwZGyMpS', ...   \n",
       "3  [{'id': 'modelperm-0WUfVWoQgban6U6wF2YQVlq7', ...   \n",
       "4  [{'id': 'modelperm-YABzYWjC1kS6M2BnI6Fr9vuS', ...   \n",
       "\n",
       "                          root parent  \n",
       "0             text-davinci-001   None  \n",
       "1  text-search-curie-query-001   None  \n",
       "2                      davinci   None  \n",
       "3       gpt-3.5-turbo-16k-0613   None  \n",
       "4             text-babbage-001   None  "
      ]
     },
     "execution_count": 20,
     "metadata": {},
     "output_type": "execute_result"
    }
   ],
   "source": [
    "model_list_df = pd.DataFrame(model_list['data'])\n",
    "model_list_df.head()"
   ]
  },
  {
   "cell_type": "code",
   "execution_count": 77,
   "id": "fb3e0d65",
   "metadata": {},
   "outputs": [
    {
     "ename": "AuthenticationError",
     "evalue": "No API key provided. You can set your API key in code using 'openai.api_key = <API-KEY>', or you can set the environment variable OPENAI_API_KEY=<API-KEY>). If your API key is stored in a file, you can point the openai module at it with 'openai.api_key_path = <PATH>'. You can generate API keys in the OpenAI web interface. See https://platform.openai.com/account/api-keys for details.",
     "output_type": "error",
     "traceback": [
      "\u001b[0;31m---------------------------------------------------------------------------\u001b[0m",
      "\u001b[0;31mAuthenticationError\u001b[0m                       Traceback (most recent call last)",
      "Cell \u001b[0;32mIn[77], line 5\u001b[0m\n\u001b[1;32m      3\u001b[0m question \u001b[38;5;241m=\u001b[39m \u001b[38;5;124m\"\u001b[39m\u001b[38;5;124m삼성전자에 대해 설명 해줘\u001b[39m\u001b[38;5;124m\"\u001b[39m \u001b[38;5;66;03m# 모델에 입력할 프롬프트\u001b[39;00m\n\u001b[1;32m      4\u001b[0m \u001b[38;5;66;03m# API 호출\u001b[39;00m\n\u001b[0;32m----> 5\u001b[0m completion \u001b[38;5;241m=\u001b[39m openai\u001b[38;5;241m.\u001b[39mChatCompletion\u001b[38;5;241m.\u001b[39mcreate(\n\u001b[1;32m      6\u001b[0m       model\u001b[38;5;241m=\u001b[39mmodel_name, \n\u001b[1;32m      7\u001b[0m       messages\u001b[38;5;241m=\u001b[39m[{\u001b[38;5;124m\"\u001b[39m\u001b[38;5;124mrole\u001b[39m\u001b[38;5;124m\"\u001b[39m: \u001b[38;5;124m\"\u001b[39m\u001b[38;5;124muser\u001b[39m\u001b[38;5;124m\"\u001b[39m,\n\u001b[1;32m      8\u001b[0m                  \u001b[38;5;124m\"\u001b[39m\u001b[38;5;124mcontent\u001b[39m\u001b[38;5;124m\"\u001b[39m: question}]\n\u001b[1;32m      9\u001b[0m         \n\u001b[1;32m     10\u001b[0m )\n\u001b[1;32m     11\u001b[0m \u001b[38;5;66;03m# 결과 출력\u001b[39;00m\n\u001b[1;32m     12\u001b[0m completion\u001b[38;5;241m.\u001b[39mchoices[\u001b[38;5;241m0\u001b[39m][\u001b[38;5;124m'\u001b[39m\u001b[38;5;124mmessage\u001b[39m\u001b[38;5;124m'\u001b[39m][\u001b[38;5;124m'\u001b[39m\u001b[38;5;124mcontent\u001b[39m\u001b[38;5;124m'\u001b[39m]\n",
      "File \u001b[0;32m~/anaconda3/lib/python3.11/site-packages/openai/api_resources/chat_completion.py:25\u001b[0m, in \u001b[0;36mChatCompletion.create\u001b[0;34m(cls, *args, **kwargs)\u001b[0m\n\u001b[1;32m     23\u001b[0m \u001b[38;5;28;01mwhile\u001b[39;00m \u001b[38;5;28;01mTrue\u001b[39;00m:\n\u001b[1;32m     24\u001b[0m     \u001b[38;5;28;01mtry\u001b[39;00m:\n\u001b[0;32m---> 25\u001b[0m         \u001b[38;5;28;01mreturn\u001b[39;00m \u001b[38;5;28msuper\u001b[39m()\u001b[38;5;241m.\u001b[39mcreate(\u001b[38;5;241m*\u001b[39margs, \u001b[38;5;241m*\u001b[39m\u001b[38;5;241m*\u001b[39mkwargs)\n\u001b[1;32m     26\u001b[0m     \u001b[38;5;28;01mexcept\u001b[39;00m TryAgain \u001b[38;5;28;01mas\u001b[39;00m e:\n\u001b[1;32m     27\u001b[0m         \u001b[38;5;28;01mif\u001b[39;00m timeout \u001b[38;5;129;01mis\u001b[39;00m \u001b[38;5;129;01mnot\u001b[39;00m \u001b[38;5;28;01mNone\u001b[39;00m \u001b[38;5;129;01mand\u001b[39;00m time\u001b[38;5;241m.\u001b[39mtime() \u001b[38;5;241m>\u001b[39m start \u001b[38;5;241m+\u001b[39m timeout:\n",
      "File \u001b[0;32m~/anaconda3/lib/python3.11/site-packages/openai/api_resources/abstract/engine_api_resource.py:149\u001b[0m, in \u001b[0;36mEngineAPIResource.create\u001b[0;34m(cls, api_key, api_base, api_type, request_id, api_version, organization, **params)\u001b[0m\n\u001b[1;32m    127\u001b[0m \u001b[38;5;129m@classmethod\u001b[39m\n\u001b[1;32m    128\u001b[0m \u001b[38;5;28;01mdef\u001b[39;00m \u001b[38;5;21mcreate\u001b[39m(\n\u001b[1;32m    129\u001b[0m     \u001b[38;5;28mcls\u001b[39m,\n\u001b[0;32m   (...)\u001b[0m\n\u001b[1;32m    136\u001b[0m     \u001b[38;5;241m*\u001b[39m\u001b[38;5;241m*\u001b[39mparams,\n\u001b[1;32m    137\u001b[0m ):\n\u001b[1;32m    138\u001b[0m     (\n\u001b[1;32m    139\u001b[0m         deployment_id,\n\u001b[1;32m    140\u001b[0m         engine,\n\u001b[1;32m    141\u001b[0m         timeout,\n\u001b[1;32m    142\u001b[0m         stream,\n\u001b[1;32m    143\u001b[0m         headers,\n\u001b[1;32m    144\u001b[0m         request_timeout,\n\u001b[1;32m    145\u001b[0m         typed_api_type,\n\u001b[1;32m    146\u001b[0m         requestor,\n\u001b[1;32m    147\u001b[0m         url,\n\u001b[1;32m    148\u001b[0m         params,\n\u001b[0;32m--> 149\u001b[0m     ) \u001b[38;5;241m=\u001b[39m \u001b[38;5;28mcls\u001b[39m\u001b[38;5;241m.\u001b[39m__prepare_create_request(\n\u001b[1;32m    150\u001b[0m         api_key, api_base, api_type, api_version, organization, \u001b[38;5;241m*\u001b[39m\u001b[38;5;241m*\u001b[39mparams\n\u001b[1;32m    151\u001b[0m     )\n\u001b[1;32m    153\u001b[0m     response, _, api_key \u001b[38;5;241m=\u001b[39m requestor\u001b[38;5;241m.\u001b[39mrequest(\n\u001b[1;32m    154\u001b[0m         \u001b[38;5;124m\"\u001b[39m\u001b[38;5;124mpost\u001b[39m\u001b[38;5;124m\"\u001b[39m,\n\u001b[1;32m    155\u001b[0m         url,\n\u001b[0;32m   (...)\u001b[0m\n\u001b[1;32m    160\u001b[0m         request_timeout\u001b[38;5;241m=\u001b[39mrequest_timeout,\n\u001b[1;32m    161\u001b[0m     )\n\u001b[1;32m    163\u001b[0m     \u001b[38;5;28;01mif\u001b[39;00m stream:\n\u001b[1;32m    164\u001b[0m         \u001b[38;5;66;03m# must be an iterator\u001b[39;00m\n",
      "File \u001b[0;32m~/anaconda3/lib/python3.11/site-packages/openai/api_resources/abstract/engine_api_resource.py:106\u001b[0m, in \u001b[0;36mEngineAPIResource.__prepare_create_request\u001b[0;34m(cls, api_key, api_base, api_type, api_version, organization, **params)\u001b[0m\n\u001b[1;32m    103\u001b[0m \u001b[38;5;28;01melif\u001b[39;00m timeout \u001b[38;5;241m==\u001b[39m \u001b[38;5;241m0\u001b[39m:\n\u001b[1;32m    104\u001b[0m     params[\u001b[38;5;124m\"\u001b[39m\u001b[38;5;124mtimeout\u001b[39m\u001b[38;5;124m\"\u001b[39m] \u001b[38;5;241m=\u001b[39m MAX_TIMEOUT\n\u001b[0;32m--> 106\u001b[0m requestor \u001b[38;5;241m=\u001b[39m api_requestor\u001b[38;5;241m.\u001b[39mAPIRequestor(\n\u001b[1;32m    107\u001b[0m     api_key,\n\u001b[1;32m    108\u001b[0m     api_base\u001b[38;5;241m=\u001b[39mapi_base,\n\u001b[1;32m    109\u001b[0m     api_type\u001b[38;5;241m=\u001b[39mapi_type,\n\u001b[1;32m    110\u001b[0m     api_version\u001b[38;5;241m=\u001b[39mapi_version,\n\u001b[1;32m    111\u001b[0m     organization\u001b[38;5;241m=\u001b[39morganization,\n\u001b[1;32m    112\u001b[0m )\n\u001b[1;32m    113\u001b[0m url \u001b[38;5;241m=\u001b[39m \u001b[38;5;28mcls\u001b[39m\u001b[38;5;241m.\u001b[39mclass_url(engine, api_type, api_version)\n\u001b[1;32m    114\u001b[0m \u001b[38;5;28;01mreturn\u001b[39;00m (\n\u001b[1;32m    115\u001b[0m     deployment_id,\n\u001b[1;32m    116\u001b[0m     engine,\n\u001b[0;32m   (...)\u001b[0m\n\u001b[1;32m    124\u001b[0m     params,\n\u001b[1;32m    125\u001b[0m )\n",
      "File \u001b[0;32m~/anaconda3/lib/python3.11/site-packages/openai/api_requestor.py:138\u001b[0m, in \u001b[0;36mAPIRequestor.__init__\u001b[0;34m(self, key, api_base, api_type, api_version, organization)\u001b[0m\n\u001b[1;32m    129\u001b[0m \u001b[38;5;28;01mdef\u001b[39;00m \u001b[38;5;21m__init__\u001b[39m(\n\u001b[1;32m    130\u001b[0m     \u001b[38;5;28mself\u001b[39m,\n\u001b[1;32m    131\u001b[0m     key\u001b[38;5;241m=\u001b[39m\u001b[38;5;28;01mNone\u001b[39;00m,\n\u001b[0;32m   (...)\u001b[0m\n\u001b[1;32m    135\u001b[0m     organization\u001b[38;5;241m=\u001b[39m\u001b[38;5;28;01mNone\u001b[39;00m,\n\u001b[1;32m    136\u001b[0m ):\n\u001b[1;32m    137\u001b[0m     \u001b[38;5;28mself\u001b[39m\u001b[38;5;241m.\u001b[39mapi_base \u001b[38;5;241m=\u001b[39m api_base \u001b[38;5;129;01mor\u001b[39;00m openai\u001b[38;5;241m.\u001b[39mapi_base\n\u001b[0;32m--> 138\u001b[0m     \u001b[38;5;28mself\u001b[39m\u001b[38;5;241m.\u001b[39mapi_key \u001b[38;5;241m=\u001b[39m key \u001b[38;5;129;01mor\u001b[39;00m util\u001b[38;5;241m.\u001b[39mdefault_api_key()\n\u001b[1;32m    139\u001b[0m     \u001b[38;5;28mself\u001b[39m\u001b[38;5;241m.\u001b[39mapi_type \u001b[38;5;241m=\u001b[39m (\n\u001b[1;32m    140\u001b[0m         ApiType\u001b[38;5;241m.\u001b[39mfrom_str(api_type)\n\u001b[1;32m    141\u001b[0m         \u001b[38;5;28;01mif\u001b[39;00m api_type\n\u001b[1;32m    142\u001b[0m         \u001b[38;5;28;01melse\u001b[39;00m ApiType\u001b[38;5;241m.\u001b[39mfrom_str(openai\u001b[38;5;241m.\u001b[39mapi_type)\n\u001b[1;32m    143\u001b[0m     )\n\u001b[1;32m    144\u001b[0m     \u001b[38;5;28mself\u001b[39m\u001b[38;5;241m.\u001b[39mapi_version \u001b[38;5;241m=\u001b[39m api_version \u001b[38;5;129;01mor\u001b[39;00m openai\u001b[38;5;241m.\u001b[39mapi_version\n",
      "File \u001b[0;32m~/anaconda3/lib/python3.11/site-packages/openai/util.py:186\u001b[0m, in \u001b[0;36mdefault_api_key\u001b[0;34m()\u001b[0m\n\u001b[1;32m    184\u001b[0m     \u001b[38;5;28;01mreturn\u001b[39;00m openai\u001b[38;5;241m.\u001b[39mapi_key\n\u001b[1;32m    185\u001b[0m \u001b[38;5;28;01melse\u001b[39;00m:\n\u001b[0;32m--> 186\u001b[0m     \u001b[38;5;28;01mraise\u001b[39;00m openai\u001b[38;5;241m.\u001b[39merror\u001b[38;5;241m.\u001b[39mAuthenticationError(\n\u001b[1;32m    187\u001b[0m         \u001b[38;5;124m\"\u001b[39m\u001b[38;5;124mNo API key provided. You can set your API key in code using \u001b[39m\u001b[38;5;124m'\u001b[39m\u001b[38;5;124mopenai.api_key = <API-KEY>\u001b[39m\u001b[38;5;124m'\u001b[39m\u001b[38;5;124m, or you can set the environment variable OPENAI_API_KEY=<API-KEY>). If your API key is stored in a file, you can point the openai module at it with \u001b[39m\u001b[38;5;124m'\u001b[39m\u001b[38;5;124mopenai.api_key_path = <PATH>\u001b[39m\u001b[38;5;124m'\u001b[39m\u001b[38;5;124m. You can generate API keys in the OpenAI web interface. See https://platform.openai.com/account/api-keys for details.\u001b[39m\u001b[38;5;124m\"\u001b[39m\n\u001b[1;32m    188\u001b[0m     )\n",
      "\u001b[0;31mAuthenticationError\u001b[0m: No API key provided. You can set your API key in code using 'openai.api_key = <API-KEY>', or you can set the environment variable OPENAI_API_KEY=<API-KEY>). If your API key is stored in a file, you can point the openai module at it with 'openai.api_key_path = <PATH>'. You can generate API keys in the OpenAI web interface. See https://platform.openai.com/account/api-keys for details."
     ]
    }
   ],
   "source": [
    "model_name = \"gpt-3.5-turbo-16k\" \n",
    "\n",
    "question = \"삼성전자에 대해 설명 해줘\" # 모델에 입력할 프롬프트\n",
    "# API 호출\n",
    "completion = openai.ChatCompletion.create(\n",
    "      model=model_name, \n",
    "      messages=[{\"role\": \"user\",\n",
    "                 \"content\": question}]\n",
    "        \n",
    ")\n",
    "# 결과 출력\n",
    "completion.choices[0]['message']['content']"
   ]
  },
  {
   "cell_type": "markdown",
   "id": "1d0552de",
   "metadata": {},
   "source": [
    "### 회사 리스트"
   ]
  },
  {
   "cell_type": "code",
   "execution_count": 6,
   "id": "6b726f0f",
   "metadata": {},
   "outputs": [],
   "source": [
    "# now = datetime.now()\n",
    "# today_date1 = now.strftime('%Y%m%d')\n",
    "# today_date2 = now.strftime('%Y-%m-%d')\n",
    "# today_date_time_csv = now.strftime(\"%Y%m%d_%H%M\")\n",
    "# ticker_nm = '005930'\n",
    "\n",
    "\n",
    "# # 한국 ticker 리스트 \n",
    "\n",
    "# kor_ticker_list = pd.read_csv(f'data_cralwer/kor_ticker_list.csv')\n",
    "# kor_corp_name_list = kor_ticker_list['corp_name']\n",
    "\n",
    "# # 코스피 200 리스트\n",
    "# index_code_df = pd.read_csv(f'data_cralwer/kor_kospi_index_list_df.csv', \n",
    "#                             dtype = {'index_code':str,\n",
    "#                                     'ticker':str})\n",
    "# kospi_200_index = index_code_df[index_code_df['index_code'] == '1028'] # 코스피 200 인덱스 코드 1028\n",
    "# kospi_200_index = kospi_200_index.reset_index(drop = True)\n",
    "# kospi_200_corp_name_list = kospi_200_index['corp_name']"
   ]
  },
  {
   "cell_type": "code",
   "execution_count": 10,
   "id": "d7736505",
   "metadata": {},
   "outputs": [
    {
     "data": {
      "text/html": [
       "<div>\n",
       "<style scoped>\n",
       "    .dataframe tbody tr th:only-of-type {\n",
       "        vertical-align: middle;\n",
       "    }\n",
       "\n",
       "    .dataframe tbody tr th {\n",
       "        vertical-align: top;\n",
       "    }\n",
       "\n",
       "    .dataframe thead th {\n",
       "        text-align: right;\n",
       "    }\n",
       "</style>\n",
       "<table border=\"1\" class=\"dataframe\">\n",
       "  <thead>\n",
       "    <tr style=\"text-align: right;\">\n",
       "      <th></th>\n",
       "      <th>ticker</th>\n",
       "      <th>index_code</th>\n",
       "      <th>index_nm</th>\n",
       "      <th>market</th>\n",
       "      <th>corp_name</th>\n",
       "    </tr>\n",
       "  </thead>\n",
       "  <tbody>\n",
       "    <tr>\n",
       "      <th>0</th>\n",
       "      <td>005930</td>\n",
       "      <td>1028</td>\n",
       "      <td>코스피 200</td>\n",
       "      <td>KOSPI</td>\n",
       "      <td>삼성전자</td>\n",
       "    </tr>\n",
       "    <tr>\n",
       "      <th>1</th>\n",
       "      <td>373220</td>\n",
       "      <td>1028</td>\n",
       "      <td>코스피 200</td>\n",
       "      <td>KOSPI</td>\n",
       "      <td>LG에너지솔루션</td>\n",
       "    </tr>\n",
       "    <tr>\n",
       "      <th>2</th>\n",
       "      <td>000660</td>\n",
       "      <td>1028</td>\n",
       "      <td>코스피 200</td>\n",
       "      <td>KOSPI</td>\n",
       "      <td>SK하이닉스</td>\n",
       "    </tr>\n",
       "    <tr>\n",
       "      <th>3</th>\n",
       "      <td>207940</td>\n",
       "      <td>1028</td>\n",
       "      <td>코스피 200</td>\n",
       "      <td>KOSPI</td>\n",
       "      <td>삼성바이오로직스</td>\n",
       "    </tr>\n",
       "    <tr>\n",
       "      <th>4</th>\n",
       "      <td>006400</td>\n",
       "      <td>1028</td>\n",
       "      <td>코스피 200</td>\n",
       "      <td>KOSPI</td>\n",
       "      <td>삼성SDI</td>\n",
       "    </tr>\n",
       "    <tr>\n",
       "      <th>...</th>\n",
       "      <td>...</td>\n",
       "      <td>...</td>\n",
       "      <td>...</td>\n",
       "      <td>...</td>\n",
       "      <td>...</td>\n",
       "    </tr>\n",
       "    <tr>\n",
       "      <th>195</th>\n",
       "      <td>381970</td>\n",
       "      <td>1028</td>\n",
       "      <td>코스피 200</td>\n",
       "      <td>KOSPI</td>\n",
       "      <td>케이카</td>\n",
       "    </tr>\n",
       "    <tr>\n",
       "      <th>196</th>\n",
       "      <td>031430</td>\n",
       "      <td>1028</td>\n",
       "      <td>코스피 200</td>\n",
       "      <td>KOSPI</td>\n",
       "      <td>신세계인터내셔날</td>\n",
       "    </tr>\n",
       "    <tr>\n",
       "      <th>197</th>\n",
       "      <td>057050</td>\n",
       "      <td>1028</td>\n",
       "      <td>코스피 200</td>\n",
       "      <td>KOSPI</td>\n",
       "      <td>현대홈쇼핑</td>\n",
       "    </tr>\n",
       "    <tr>\n",
       "      <th>198</th>\n",
       "      <td>284740</td>\n",
       "      <td>1028</td>\n",
       "      <td>코스피 200</td>\n",
       "      <td>KOSPI</td>\n",
       "      <td>쿠쿠홈시스</td>\n",
       "    </tr>\n",
       "    <tr>\n",
       "      <th>199</th>\n",
       "      <td>020000</td>\n",
       "      <td>1028</td>\n",
       "      <td>코스피 200</td>\n",
       "      <td>KOSPI</td>\n",
       "      <td>한섬</td>\n",
       "    </tr>\n",
       "  </tbody>\n",
       "</table>\n",
       "<p>200 rows × 5 columns</p>\n",
       "</div>"
      ],
      "text/plain": [
       "     ticker index_code index_nm market corp_name\n",
       "0    005930       1028  코스피 200  KOSPI      삼성전자\n",
       "1    373220       1028  코스피 200  KOSPI  LG에너지솔루션\n",
       "2    000660       1028  코스피 200  KOSPI    SK하이닉스\n",
       "3    207940       1028  코스피 200  KOSPI  삼성바이오로직스\n",
       "4    006400       1028  코스피 200  KOSPI     삼성SDI\n",
       "..      ...        ...      ...    ...       ...\n",
       "195  381970       1028  코스피 200  KOSPI       케이카\n",
       "196  031430       1028  코스피 200  KOSPI  신세계인터내셔날\n",
       "197  057050       1028  코스피 200  KOSPI     현대홈쇼핑\n",
       "198  284740       1028  코스피 200  KOSPI     쿠쿠홈시스\n",
       "199  020000       1028  코스피 200  KOSPI        한섬\n",
       "\n",
       "[200 rows x 5 columns]"
      ]
     },
     "execution_count": 10,
     "metadata": {},
     "output_type": "execute_result"
    }
   ],
   "source": [
    "kospi_200_index"
   ]
  },
  {
   "cell_type": "code",
   "execution_count": 7,
   "id": "772fa878",
   "metadata": {},
   "outputs": [],
   "source": [
    "\n",
    "# for i in range(len(kospi_200_index)):\n",
    "#     kospi_200_corp_name = kospi_200_index['corp_name'][i]\n",
    "#     kospi_200_ticker = kospi_200_index['ticker'][i]\n",
    "#     print(i)"
   ]
  },
  {
   "cell_type": "code",
   "execution_count": null,
   "id": "2d0c8dc2",
   "metadata": {},
   "outputs": [],
   "source": []
  },
  {
   "cell_type": "markdown",
   "id": "cfde20e8",
   "metadata": {},
   "source": [
    "#### naver crawling"
   ]
  },
  {
   "cell_type": "code",
   "execution_count": 78,
   "id": "b707e4b7",
   "metadata": {},
   "outputs": [
    {
     "ename": "IndexError",
     "evalue": "list index out of range",
     "output_type": "error",
     "traceback": [
      "\u001b[0;31m---------------------------------------------------------------------------\u001b[0m",
      "\u001b[0;31mIndexError\u001b[0m                                Traceback (most recent call last)",
      "Cell \u001b[0;32mIn[78], line 14\u001b[0m\n\u001b[1;32m     12\u001b[0m new_article_list\u001b[38;5;241m=\u001b[39m [] \u001b[38;5;66;03m# 네이버 뉴스 기사 통합 리스트\u001b[39;00m\n\u001b[1;32m     13\u001b[0m \u001b[38;5;28;01mfor\u001b[39;00m i \u001b[38;5;129;01min\u001b[39;00m \u001b[38;5;28mrange\u001b[39m(\u001b[38;5;241m3\u001b[39m): \u001b[38;5;66;03m# 최대 5개 정도만 추출\u001b[39;00m\n\u001b[0;32m---> 14\u001b[0m     news_article \u001b[38;5;241m=\u001b[39m news_list[i]\u001b[38;5;241m.\u001b[39mfind_all(\u001b[38;5;124m\"\u001b[39m\u001b[38;5;124ma\u001b[39m\u001b[38;5;124m\"\u001b[39m, attrs\u001b[38;5;241m=\u001b[39m{\u001b[38;5;124m\"\u001b[39m\u001b[38;5;124mclass\u001b[39m\u001b[38;5;124m\"\u001b[39m:\u001b[38;5;124m\"\u001b[39m\u001b[38;5;124minfo\u001b[39m\u001b[38;5;124m\"\u001b[39m})\n\u001b[1;32m     15\u001b[0m     \u001b[38;5;28;01mif\u001b[39;00m \u001b[38;5;28mlen\u001b[39m(news_article) \u001b[38;5;241m>\u001b[39m \u001b[38;5;241m1\u001b[39m:\n\u001b[1;32m     16\u001b[0m         news_nm_url \u001b[38;5;241m=\u001b[39m news_article[\u001b[38;5;241m1\u001b[39m]\u001b[38;5;241m.\u001b[39mget(\u001b[38;5;124m'\u001b[39m\u001b[38;5;124mhref\u001b[39m\u001b[38;5;124m'\u001b[39m)\n",
      "\u001b[0;31mIndexError\u001b[0m: list index out of range"
     ]
    }
   ],
   "source": [
    "key_word = '삼성전자'\n",
    "# 1. 검색 url을 통해 뉴스의 리스트를 읽어 오는 코드\n",
    "url = f'https://search.naver.com/search.naver?where=news&sm=tab_jum&query={key_word}'\n",
    "\n",
    "headers = {\"User-Agent\": \"Mozilla/5.0 (Windows NT 6.3; WOW64) AppleWebKit/537.36 (KHTML, like Gecko) Chrome/44.0.2403.157 Safari/537.36\"}\n",
    "res = requests.get(url, headers= headers)\n",
    "soup = bs(res.text, 'html.parser')\n",
    "news_list = soup.find_all('div', attrs={'class':'info_group'})\n",
    "\n",
    "# 각각 뉴스의 리스트에서 링크를 타고 들어간 후 각각의 뉴스 내용을 합치는 코드\n",
    "news_url_list = [] # 네이버 뉴스 url 리스트\n",
    "new_article_list= [] # 네이버 뉴스 기사 통합 리스트\n",
    "for i in range(3): # 최대 5개 정도만 추출\n",
    "    news_article = news_list[i].find_all(\"a\", attrs={\"class\":\"info\"})\n",
    "    if len(news_article) > 1:\n",
    "        news_nm_url = news_article[1].get('href')\n",
    "        news_url_list.append(news_nm_url)\n",
    "        res = requests.get(news_nm_url, headers=headers)\n",
    "        soup = bs(res.text, 'lxml')\n",
    "        news_article_nm = soup.find_all('div', attrs = {'class': 'newsct_article _article_body'})\n",
    "        news_article_text = news_article_nm[0].get_text()\n",
    "        new_article_list.append(news_article_text)"
   ]
  },
  {
   "cell_type": "code",
   "execution_count": 19,
   "id": "4a4cae61",
   "metadata": {},
   "outputs": [],
   "source": [
    "key_word = '삼성전자'\n",
    "# 1. 검색 url을 통해 뉴스의 리스트를 읽어 오는 코드\n",
    "url = f'https://search.naver.com/search.naver?where=news&sm=tab_jum&query={key_word}'\n",
    "\n",
    "# headers = {\"User-Agent\": \"Mozilla/5.0 (Windows NT 6.3; WOW64) AppleWebKit/537.36 (KHTML, like Gecko) Chrome/44.0.2403.157 Safari/537.36\"}\n",
    "# headers = {'User-Agent':'Mozilla/5.0 (Windows NT 10.0; Win64; x64) AppleWebKit/537.36 (KHTML, like Gecko) Chrome/115.0.0.0 Safari/537.36'}\n",
    "# headers = {'User-Agent':'Mozilla/5.0 (Windows NT 6.3; Win64; x64) AppleWebKit/537.36 (KHTML, like Gecko) Chrome/63.0.3239.132 Safari/537.36'}\n",
    "\n",
    "\n",
    "res = requests.get(url, headers= headers)\n",
    "res = requests.get(url)\n",
    "soup = bs(res.text, 'html.parser')\n",
    "news_list = soup.find_all('div', attrs={'class':'info_group'})"
   ]
  },
  {
   "cell_type": "code",
   "execution_count": 20,
   "id": "6c2ccc25",
   "metadata": {},
   "outputs": [
    {
     "data": {
      "text/plain": [
       "[]"
      ]
     },
     "execution_count": 20,
     "metadata": {},
     "output_type": "execute_result"
    }
   ],
   "source": [
    "news_list"
   ]
  },
  {
   "cell_type": "code",
   "execution_count": 35,
   "id": "45716919",
   "metadata": {},
   "outputs": [],
   "source": [
    "# 1. 검색 url을 통해 뉴스의 리스트를 읽어 오는 코드\n",
    "url = f'https://search.naver.com/search.naver?where=news&sm=tab_jum&query={key_word}'\n",
    "\n",
    "# headers = {\"User-Agent\": \"Mozilla/5.0 (Windows NT 6.3; WOW64) AppleWebKit/537.36 (KHTML, like Gecko) Chrome/44.0.2403.157 Safari/537.36\"}\n",
    "res = requests.get(url, headers= headers)\n",
    "soup = bs(res.text, 'html.parser')\n",
    "news_list = soup.find_all('div', attrs={'class':'info_group'})\n",
    "\n",
    "# # 각각 뉴스의 리스트에서 링크를 타고 들어간 후 각각의 뉴스 내용을 합치는 코드\n",
    "# news_url_list = [] # 네이버 뉴스 url 리스트\n",
    "# new_article_list= [] # 네이버 뉴스 기사 통합 리스트\n",
    "# for i in range(3): # 최대 5개 정도만 추출\n",
    "#     news_article = news_list[i].find_all(\"a\", attrs={\"class\":\"info\"})\n",
    "#     if len(news_article) > 1:\n",
    "#         news_nm_url = news_article[1].get('href')\n",
    "#         news_url_list.append(news_nm_url)\n",
    "#         res = requests.get(news_nm_url, headers=headers)\n",
    "#         soup = bs(res.text, 'lxml')\n",
    "#         news_article_nm = soup.find_all('div', attrs = {'class': 'newsct_article _article_body'})\n",
    "#         news_article_text = news_article_nm[0].get_text()\n",
    "#         new_article_list.append(news_article_text)"
   ]
  },
  {
   "cell_type": "code",
   "execution_count": 36,
   "id": "b7b6914d",
   "metadata": {},
   "outputs": [
    {
     "data": {
      "text/plain": [
       "<!DOCTYPE html>\n",
       " <html lang=\"ko\"> <head> <meta charset=\"utf-8\"/> <meta content=\"always\" name=\"referrer\"/> <title>네이버 검색</title> <link href=\"https://ssl.pstatic.net/sstatic/search/css/2011/common.css\" rel=\"stylesheet\" type=\"text/css\"/> <link href=\"https://ssl.pstatic.net/sstatic/search/favicon/favicon_191118_pc.ico\" rel=\"shortcut icon\"/> <style type=\"text/css\"> body{margin:0;padding:0;text-align:center} body,td,div{color:#404040;font-size:12px} img{border:none} label{cursor:hand;cursor:pointer} *{margin:0;padding:0} li{list-style-type:none} fieldset{border:none} legend{display:none} /* 120110 */ .blind{visibility:hidden;overflow:hidden;position:absolute;top:0;left:0;width:1px;height:1px;font-size:0;line-height:0} .logo a{display:block;width:93px;height:17px;background:url(https://ssl.pstatic.net/sstatic/search/img3/sp_block2.gif) 0 0 no-repeat}/* 120209 */ .info dt.share_pc{margin-right:10px;_margin-right:7px} .btn a{display:inline-block;margin-right:1px;background:url(https://ssl.pstatic.net/sstatic/search/img3/sp_block2.gif) no-repeat}/* 120209 */ .btn a.home{width:64px;height:24px;background-position:0 -180px} .btn a.btn_service{width:87px;height:24px;background-position:0 -150px} .captcha .input .ty_img{margin:1px 0 0 -1px} .captcha .desc a{color:#004790;text-decoration:underline} /* 글로벌 에러메시지 */ #login_message{width:660px;margin:0 auto;font-family:'돋움', Dotum, AppleGothic, sans-serif;text-align:left} #login_message img{vertical-align:top} .logo{margin:65px 0 10px 10px} .conts{border:none;background:url(https://ssl.pstatic.net/sstatic/search/citats/rnd01_bg.gif) repeat-y} .rnd_t{overflow:hidden;clear:both;width:auto;_width:100%;padding:61px 30px 55px 54px;_padding:61px 30px 48px 54px;background:url(https://ssl.pstatic.net/sstatic/search/citats/rnd02_t.gif) no-repeat} .rnd_b{clear:both;width:100%;height:7px;background:url(https://ssl.pstatic.net/sstatic/search/citats/rnd01_b.gif) 0 100% no-repeat} .notice_img{float:left;width:53px;height:46px;margin:0;background:url(https://ssl.pstatic.net/sstatic/search/img3/sp_block2.gif) 0 -30px no-repeat}/* 120209 */ .notice_txt{display:inline;float:left;width:477px;margin:0 0 0 17px} .notice_txt h3{height:24px;margin:0}/* 120210 */ .notice_txt p{line-height:18px}/* 120210 */ .notice_txt a{color:#004790;text-decoration:underline} .info01{margin:0 0 13px}/* 120210 */ .info02{margin:0 0 16px} .captcha dl.info{clear:both;width:100%;padding:12px 0 3px;color:#333}/* 120210 */ .captcha .info dt{float:left;clear:both;margin-top:2px;margin-right:3px;_margin-right:0}/* 120209 */ .captcha .info dd{overflow:hidden;height:auto;margin:0 0 6px 5px;line-height:16px;zoom:1}/* 120209 */ .btn{margin-top:14px;padding-top:12px;border-top:1px solid #efefef}/* 120210 */ .btn .btn_captcha{width:74px;height:24px;background-position:0 -120px}/* 120209 */ .btn .btn_captcha.on{background-position:0 -90px} .captcha{display:none;margin:3px 0 0;margin:4px 0 0\\0;*margin:7px 0 0}/* 120209 */ .captcha.on{display:block} .captcha fieldset{overflow:hidden;position:relative;width:450px;padding:14px 14px 10px 14px;background-color:#f7f7f7} .captcha dl{margin:0;padding:9px 0 0;*padding:8px 0 0}/* 120210 */ .captcha dt{float:none;height:17px;margin:0;padding:0;color:#333;font-weight:bold} .captcha dd{height:21px;margin:0;padding:0;color:#555} .captcha .img{float:left} .captcha .img img{display:block;margin:1px 0 5px;*margin:1px 0 3px} .captcha .img a{margin-left:50px;padding-left:12px;background:url(https://ssl.pstatic.net/sstatic/search/img3/sp_block2.gif) 0 -210px no-repeat;color:#666;font-size:11px;letter-spacing:-1px;text-decoration:underline}/* 120209 */ .captcha .img a:hover{text-decoration:underline} .captcha .input{float:right;height:30px} .captcha .input *{vertical-align:top} .captcha .input .input_text{position:relative;_top:-1px;width:188px;width:188px;height:19px;margin:1px 0 0;padding:2px 0 2px 6px;border:1px solid #c9cbcf;line-height:19px} .captcha .error{display:none;float:right;width:237px;margin-top:3px} .captcha .error.on{display:block} .captcha .error em{color:#ff5b00;font-style:normal} .captcha .desc{position:relative;margin:0 0 -8px;_margin:0 0 -5px;padding:13px 0 0;*padding:11px 0 0;color:#888;font-size:11px;letter-spacing:-1px;line-height:16px} #footer{clear:both;margin:0;padding:20px 0 28px;text-align:center} #footer *{margin:0;padding:0;color:#444;font-family:'돋움', Dotum, '굴림', Gulim, AppleGothic, Sans-serif;font-size:12px;line-height:normal;list-style:none} #footer a{color:#444;text-decoration:none} #footer a:visited{color:#666;text-decoration:none} #footer a:hover{text-decoration:underline} #footer ul{margin:0 0 14px} #footer ul li{display:inline;position:relative;padding:0 1px 0 6px;background:url(https://ssl.pstatic.net/sstatic/search/citats/line_v_footer10.gif) no-repeat 0 0;font-size:11px;white-space:nowrap} #footer ul li *{font-size:11px} #footer ul li.first{padding:0 1px 0 0;background:none} #footer ul a{letter-spacing:-1px} #footer address{margin:0 14px 0 0} #footer address{font:9px Verdana} #footer address a{color:#00535d;font:bold 9px Tahoma} /* 120209 */ .btn2{margin-top:-5px;padding-top:0;border-top:none}/* 120210 */ .notice_txt p.info{margin-top:17px;*margin-top:15px;padding-top:15px;border-top:1px solid #efefef}/* 120210 */ </style> </head><script> if (!String.prototype.trim) { String.prototype.trim = function () { return this.replace(/^[\\s\\uFEFF\\xA0]+|[\\s\\uFEFF\\xA0]+$/g, ''); }; } if (!Array.prototype.indexOf) { Array.prototype.indexOf = function(searchElement, fromIndex) { var k; if (this == null) { throw new TypeError('\"this\" is null or not defined'); } var o = Object(this); var len = o.length >>> 0; if (len === 0) { return -1; } var n = fromIndex | 0; if (n >= len) { return -1; } k = Math.max(n >= 0 ? n : len - Math.abs(n), 0); while (k < len) { if (k in o && o[k] === searchElement) { return k; } k++; } return -1; }; } if (!Array.prototype.filter) { Array.prototype.filter = function(func, thisArg) { 'use strict'; if (!((typeof func === 'Function' || typeof func === 'function') && this)) throw new TypeError(); var len = this.length >>> 0, res = new Array(len), t = this, c = 0, i = -1; var kValue; if (thisArg === undefined) { while (++i !== len) { if (i in this) { kValue = t[i]; if (func(t[i], i, t)) { res[c++] = kValue; } } } } else { while (++i !== len) { if (i in this) { kValue = t[i]; if (func.call(thisArg, t[i], i, t)) { res[c++] = kValue; } } } } res.length = c; return res; }; } if (typeof(encodeURIComponent) != \"function\") { encodeURIComponent = function (s) { function toHex (n) { var hexchars = \"0123456789ABCDEF\" ; return \"%\" + hexchars.charAt(n>>4) + hexchars.charAt(n&0xF) ; } var es = \"\" ; for (var i = 0; i < s.length;) { var c = s.charCodeAt(i++) ; if ((c&0xF800) == 0xD800) { var sc = s.charCodeAt(i++) ; c = ((c-0xD800)<<10) + (sc-0xDC00) + 0x10000 ; } if (!(c&~0x7F)) { if ((c>=65&&c<=90) || (c>=97&&c<=122) || (c>=48&&c<=57) || (c>=45&&c<=46) || c==95 || c==33 || c==126 || (c>=39&&c<=42)) es += String.fromCharCode(c) ; else es += toHex(c) ; } else if (!(c&~0x7FF)) es += toHex(0xC0+(c>>6)) + toHex(c&0x3F) ; else if (!(c&~0xFFFF)) es += toHex(0xE0+(c>>12)) + toHex(0x80+(c>>6&0x3F)) + toHex(0x80+(c&0x3F)) ; else es += toHex(0xF0+(c>>18)) + toHex(0x80+(c>>12&0x3F)) + toHex(0x80+(c>>6&0x3F)) + toHex(0x80+(c&0x3F)) ; } return es ; } } </script><script> (function(exportTarget) { var lcs_options = { nnb: true }; var lcs_version = \"v0.8.3\"; var lcs_add = {}; var lcs_bc = {}; var lcs_perf = {}; var lcs_do_count = 0; var lcs_do_retry_count = 0; var lcs_waiting_pageshow = false; function lcs_do(optional_etc) { var etc = optional_etc || {}; if (lcs_waiting_pageshow) { return; } var retry = function(__etc) { return function() { window.setTimeout(function() { lcs_waiting_pageshow = false; lcs_do(__etc); }, 10); } }(etc); if (document.readyState !== \"complete\") { var eventName = \"onpageshow\" in window ? \"pageshow\" : \"load\"; if (document.addEventListener) { window.addEventListener(eventName, retry, false); } else { window.attachEvent(\"on\"+ eventName, retry); } lcs_do_retry_count++; lcs_waiting_pageshow = true; return; } if (!window.lcs_SerName) { window.lcs_SerName = \"lcs.naver.com\"; } var rs = \"\"; var index; var itarVal; var doc = document; var wlt = window.location; var lcsServerAddr; try { lcsServerAddr = \"https://\" + window.lcs_SerName + \"/m?\"; } catch (e) { return; } try { rs = lcsServerAddr + \"u=\" + encodeURIComponent(wlt.href) + \"&e=\" + (doc.referrer ? encodeURIComponent(doc.referrer) : \"\"); } catch (e) {} try { if (typeof lcs_add.i == \"undefined\") lcs_add.i = \"\"; if (lcs_do_count < 1) { lcs_setBrowserCapa(); if (lcs_options.nnb) { lcs_setNNB(); } lcs_setConnectionType(); lcs_setNavigationTiming(); var loadEventStart = lcs_perf[\"loadEventStart\"] || 0; var loadEventEnd = lcs_perf[\"loadEventEnd\"] || 0; if (loadEventEnd < loadEventStart && lcs_do_retry_count < 3) { lcs_do_retry_count++; lcs_waiting_pageshow = true; retry(); return; } lcs_setPaintTiming(); lcs_setNavigationType(); } for (index in lcs_bc) { if (typeof lcs_bc[index] !== \"function\") rs += \"&\" + index + \"=\" + encodeURIComponent(lcs_bc[index]); } for (index in lcs_add) { itarVal = lcs_add[index]; if (itarVal !== undefined && typeof itarVal !== \"function\") { rs += \"&\" + index + \"=\" + encodeURIComponent(itarVal); } } if (lcs_do_count < 1) { for (index in lcs_perf) { itarVal = lcs_perf[index]; if (itarVal) { rs += \"&\" + index + \"=\" + encodeURIComponent(itarVal); } } } var dni = !!etc.dni ? etc.dni : getCookie(\"NAPP_DI\"); if (!!dni) { etc.dni = dni; } else { delete etc.dni; } for (index in etc) { if ( (index.length >= 3 && typeof etc[index] !== \"function\") || index === \"qy\" ) { rs += \"&\" + index + \"=\" + encodeURIComponent(etc[index]); } } if (!!etc === false || !!etc.pid === false) { var pidFallback; if (window.g_pid) { pidFallback = g_pid; } else { pidFallback = lcs_get_lpid(); } rs += \"&pid=\" + encodeURIComponent(pidFallback); } var timeStr = new Date().getTime(); rs += \"&ts=\" + timeStr; rs += \"&EOU\"; var obj = document.createElement(\"img\"); obj.src = rs; obj.onload = function() { obj.onload = null; return; }; lcs_do_count++; } catch (e) { return; } } function getCookie(name) { var value = document.cookie.match('(^|;) ?' + name + '=([^;]*)(;|$)'); return value? value[2] : \"\"; } function lcs_do_gdid(gdid, etc) { try { if (gdid) { lcs_add[\"i\"] = gdid; if (etc) { lcs_do(etc); } else { lcs_do(); } } } catch (e) {} } function getLocalStorage() { var localStorage = null; try { localStorage = window.localStorage; } catch (e) {} try { if (!localStorage) localStorage = window.sessionStorage; } catch (e) {} return localStorage || null; } function lcs_setNNB() { try { var lsg = getLocalStorage(); if (lsg) { if (lsg.ls) { var lc = lsg.ls; if (lc.length == 13) { lcs_add[\"ls\"] = lc; return; } } var nnb = lcs_getNNBfromCookie(); if (nnb != null && nnb != \"\") { lsg.ls = nnb; lcs_add[\"ls\"] = nnb; } } } catch (e) {} } function lcs_setBrowserCapa() { lcs_bc[\"os\"] = lcs_getOS(); lcs_bc[\"ln\"] = lcs_getlanguage(); lcs_bc[\"sr\"] = lcs_getScreen(); lcs_bc[\"pr\"] = window.devicePixelRatio || 1; var windowSize = lcs_getWindowSize(); lcs_bc[\"bw\"] = windowSize[\"bw\"]; lcs_bc[\"bh\"] = windowSize[\"bh\"]; lcs_bc[\"c\"] = lcs_getColorDepth(); lcs_bc[\"j\"] = lcs_getJavaEnabled(); lcs_bc[\"k\"] = lcs_getCookieEnabled(); } function lcs_getOS() { var lcs_os = \"\"; try { navigator.platform ? (lcs_os = navigator.platform) : \"\"; } catch (e) {} return lcs_os; } function lcs_getlanguage() { var lcs_ln = \"\"; try { navigator.userLanguage ? (lcs_ln = navigator.userLanguage) : navigator.language ? (lcs_ln = navigator.language) : \"\"; } catch (e) {} return lcs_ln; } function lcs_getScreen() { var lcs_sr = \"\"; try { if (window.screen && screen.width && screen.height) { lcs_sr = screen.width + \"x\" + screen.height; } else if (window.java || self.java) { var sr = java.awt.Toolkit.getDefaultToolkit().getScreenSize(); lcs_sr = sr.width + \"x\" + sr.height; } } catch (e) { lcs_sr = \"\"; } return lcs_sr; } function lcs_getWindowSize() { var doc = document; var size = { bw: \"\", bh: \"\" }; try { size[\"bw\"] = doc.documentElement.clientWidth ? doc.documentElement.clientWidth : doc.body.clientWidth; size[\"bh\"] = doc.documentElement.clientHeight ? doc.documentElement.clientHeight : doc.body.clientHeight; } catch (e) {} return size; } function lcs_getColorDepth() { var colorDepth = \"\"; try { if (window.screen) { colorDepth = screen.colorDepth ? screen.colorDepth : screen.pixelDepth; } else if (window.java || self.java) { var c = java.awt.Toolkit.getDefaultToolkit() .getColorModel() .getPixelSize(); colorDepth = c; } } catch (e) { colorDepth = \"\"; } return colorDepth; } function lcs_getJavaEnabled() { var jsEnable = \"\"; try { jsEnable = navigator.javaEnabled() ? \"Y\" : \"N\"; } catch (e) {} return jsEnable; } function lcs_getCookieEnabled() { var cookieEnable = \"\"; try { cookieEnable = navigator.cookieEnabled ? \"Y\" : \"N\"; } catch (e) {} return cookieEnable; } function lcs_getNNBfromCookie() { try { var ck = document.cookie; var k, v, i, ArrCookies = ck.split(\";\"); for (i = 0; i < ArrCookies.length; i++) { k = ArrCookies[i].substr(0, ArrCookies[i].indexOf(\"=\")); v = ArrCookies[i].substr(ArrCookies[i].indexOf(\"=\") + 1); k = k.replace(/^\\s+|\\s+$/g, \"\"); if (k == \"NNB\") { return unescape(v); } } } catch (e) {} } function lcs_setConnectionType() { var connection = navigator.connection; if (connection) { if (connection.type && connection.type.length > 1) { lcs_add[\"ct\"] = connection.type; } if (connection.effectiveType) { lcs_add[\"ect\"] = connection.effectiveType; } } } function lcs_setNavigationTiming() { var performance = window.performance || {}; if (performance.timing) { var pt = performance.timing; for (var key in pt) { var value = pt[key]; if (typeof value === \"number\") { lcs_perf[key] = value; } } } } function lcs_setPaintTiming() { var performance = window.performance || {}; try { if (performance.getEntriesByType) { var performanceEntries = performance.getEntriesByType(\"paint\"); performanceEntries.forEach(function(performanceEntry, i, entries) { var name = performanceEntry.name; switch (name) { case \"first-paint\": case \"first-contentful-paint\": lcs_perf[name] = performanceEntry.startTime; break; default: break; } }); } else { } } catch (e) { console.warn(e); } } function lcs_setNavigationType() { var ngt = getNavigationType(); if (ngt !== undefined) { lcs_perf[\"ngt\"] = ngt; } } function getNavigationType() { var performance = window.performance || {}; if (performance.navigation) { return performance.navigation.type; } return; } var lpid = null; function lcs_create_lpid() { var uaID; var lsg = getLocalStorage(); var nnb = lsg ? lsg.ls : null; if (nnb) { uaID = nnb; } else { var nnbFallback; nnbFallback = navigator.userAgent + Math.random(); uaID = nnbFallback; } var performance = window.performance || {}; var pageURL = location.href; var currentTime; if (performance.now) { currentTime = performance.now(); } else { currentTime = new Date().getTime(); } lpid = hashFunction.md5(uaID + pageURL + currentTime); return lpid; } function lcs_get_lpid() { if (lpid === null) { lpid = lcs_create_lpid(); } return lpid; } function lcs_update_lpid() { lpid = lcs_create_lpid(); return lpid; } var hashFunction = {}; (function(exportTarget) { function safeAdd(x, y) { var lsw = (x & 0xffff) + (y & 0xffff); var msw = (x >> 16) + (y >> 16) + (lsw >> 16); return (msw << 16) | (lsw & 0xffff); } function bitRotateLeft(num, cnt) { return (num << cnt) | (num >>> (32 - cnt)); } function md5cmn(q, a, b, x, s, t) { return safeAdd( bitRotateLeft(safeAdd(safeAdd(a, q), safeAdd(x, t)), s), b ); } function md5ff(a, b, c, d, x, s, t) { return md5cmn((b & c) | (~b & d), a, b, x, s, t); } function md5gg(a, b, c, d, x, s, t) { return md5cmn((b & d) | (c & ~d), a, b, x, s, t); } function md5hh(a, b, c, d, x, s, t) { return md5cmn(b ^ c ^ d, a, b, x, s, t); } function md5ii(a, b, c, d, x, s, t) { return md5cmn(c ^ (b | ~d), a, b, x, s, t); } function binlMD5(x, len) { x[len >> 5] |= 0x80 << len % 32; x[(((len + 64) >>> 9) << 4) + 14] = len; var i; var olda; var oldb; var oldc; var oldd; var a = 1732584193; var b = -271733879; var c = -1732584194; var d = 271733878; for (i = 0; i < x.length; i += 16) { olda = a; oldb = b; oldc = c; oldd = d; a = md5ff(a, b, c, d, x[i], 7, -680876936); d = md5ff(d, a, b, c, x[i + 1], 12, -389564586); c = md5ff(c, d, a, b, x[i + 2], 17, 606105819); b = md5ff(b, c, d, a, x[i + 3], 22, -1044525330); a = md5ff(a, b, c, d, x[i + 4], 7, -176418897); d = md5ff(d, a, b, c, x[i + 5], 12, 1200080426); c = md5ff(c, d, a, b, x[i + 6], 17, -1473231341); b = md5ff(b, c, d, a, x[i + 7], 22, -45705983); a = md5ff(a, b, c, d, x[i + 8], 7, 1770035416); d = md5ff(d, a, b, c, x[i + 9], 12, -1958414417); c = md5ff(c, d, a, b, x[i + 10], 17, -42063); b = md5ff(b, c, d, a, x[i + 11], 22, -1990404162); a = md5ff(a, b, c, d, x[i + 12], 7, 1804603682); d = md5ff(d, a, b, c, x[i + 13], 12, -40341101); c = md5ff(c, d, a, b, x[i + 14], 17, -1502002290); b = md5ff(b, c, d, a, x[i + 15], 22, 1236535329); a = md5gg(a, b, c, d, x[i + 1], 5, -165796510); d = md5gg(d, a, b, c, x[i + 6], 9, -1069501632); c = md5gg(c, d, a, b, x[i + 11], 14, 643717713); b = md5gg(b, c, d, a, x[i], 20, -373897302); a = md5gg(a, b, c, d, x[i + 5], 5, -701558691); d = md5gg(d, a, b, c, x[i + 10], 9, 38016083); c = md5gg(c, d, a, b, x[i + 15], 14, -660478335); b = md5gg(b, c, d, a, x[i + 4], 20, -405537848); a = md5gg(a, b, c, d, x[i + 9], 5, 568446438); d = md5gg(d, a, b, c, x[i + 14], 9, -1019803690); c = md5gg(c, d, a, b, x[i + 3], 14, -187363961); b = md5gg(b, c, d, a, x[i + 8], 20, 1163531501); a = md5gg(a, b, c, d, x[i + 13], 5, -1444681467); d = md5gg(d, a, b, c, x[i + 2], 9, -51403784); c = md5gg(c, d, a, b, x[i + 7], 14, 1735328473); b = md5gg(b, c, d, a, x[i + 12], 20, -1926607734); a = md5hh(a, b, c, d, x[i + 5], 4, -378558); d = md5hh(d, a, b, c, x[i + 8], 11, -2022574463); c = md5hh(c, d, a, b, x[i + 11], 16, 1839030562); b = md5hh(b, c, d, a, x[i + 14], 23, -35309556); a = md5hh(a, b, c, d, x[i + 1], 4, -1530992060); d = md5hh(d, a, b, c, x[i + 4], 11, 1272893353); c = md5hh(c, d, a, b, x[i + 7], 16, -155497632); b = md5hh(b, c, d, a, x[i + 10], 23, -1094730640); a = md5hh(a, b, c, d, x[i + 13], 4, 681279174); d = md5hh(d, a, b, c, x[i], 11, -358537222); c = md5hh(c, d, a, b, x[i + 3], 16, -722521979); b = md5hh(b, c, d, a, x[i + 6], 23, 76029189); a = md5hh(a, b, c, d, x[i + 9], 4, -640364487); d = md5hh(d, a, b, c, x[i + 12], 11, -421815835); c = md5hh(c, d, a, b, x[i + 15], 16, 530742520); b = md5hh(b, c, d, a, x[i + 2], 23, -995338651); a = md5ii(a, b, c, d, x[i], 6, -198630844); d = md5ii(d, a, b, c, x[i + 7], 10, 1126891415); c = md5ii(c, d, a, b, x[i + 14], 15, -1416354905); b = md5ii(b, c, d, a, x[i + 5], 21, -57434055); a = md5ii(a, b, c, d, x[i + 12], 6, 1700485571); d = md5ii(d, a, b, c, x[i + 3], 10, -1894986606); c = md5ii(c, d, a, b, x[i + 10], 15, -1051523); b = md5ii(b, c, d, a, x[i + 1], 21, -2054922799); a = md5ii(a, b, c, d, x[i + 8], 6, 1873313359); d = md5ii(d, a, b, c, x[i + 15], 10, -30611744); c = md5ii(c, d, a, b, x[i + 6], 15, -1560198380); b = md5ii(b, c, d, a, x[i + 13], 21, 1309151649); a = md5ii(a, b, c, d, x[i + 4], 6, -145523070); d = md5ii(d, a, b, c, x[i + 11], 10, -1120210379); c = md5ii(c, d, a, b, x[i + 2], 15, 718787259); b = md5ii(b, c, d, a, x[i + 9], 21, -343485551); a = safeAdd(a, olda); b = safeAdd(b, oldb); c = safeAdd(c, oldc); d = safeAdd(d, oldd); } return [a, b, c, d]; } function binl2rstr(input) { var i; var output = \"\"; var length32 = input.length * 32; for (i = 0; i < length32; i += 8) { output += String.fromCharCode((input[i >> 5] >>> i % 32) & 0xff); } return output; } function rstr2binl(input) { var i; var output = []; output[(input.length >> 2) - 1] = undefined; for (i = 0; i < output.length; i += 1) { output[i] = 0; } var length8 = input.length * 8; for (i = 0; i < length8; i += 8) { output[i >> 5] |= (input.charCodeAt(i / 8) & 0xff) << i % 32; } return output; } function rstrMD5(s) { return binl2rstr(binlMD5(rstr2binl(s), s.length * 8)); } function rstrHMACMD5(key, data) { var i; var bkey = rstr2binl(key); var ipad = []; var opad = []; var hash; ipad[15] = opad[15] = undefined; if (bkey.length > 16) { bkey = binlMD5(bkey, key.length * 8); } for (i = 0; i < 16; i += 1) { ipad[i] = bkey[i] ^ 0x36363636; opad[i] = bkey[i] ^ 0x5c5c5c5c; } hash = binlMD5(ipad.concat(rstr2binl(data)), 512 + data.length * 8); return binl2rstr(binlMD5(opad.concat(hash), 512 + 128)); } function rstr2hex(input) { var hexTab = \"0123456789abcdef\"; var output = \"\"; var x; var i; for (i = 0; i < input.length; i += 1) { x = input.charCodeAt(i); output += hexTab.charAt((x >>> 4) & 0x0f) + hexTab.charAt(x & 0x0f); } return output; } function str2rstrUTF8(input) { return unescape(encodeURIComponent(input)); } function rawMD5(s) { return rstrMD5(str2rstrUTF8(s)); } function hexMD5(s) { return rstr2hex(rawMD5(s)); } function rawHMACMD5(k, d) { return rstrHMACMD5(str2rstrUTF8(k), str2rstrUTF8(d)); } function hexHMACMD5(k, d) { return rstr2hex(rawHMACMD5(k, d)); } function md5(string, key, raw) { if (!key) { if (!raw) { return hexMD5(string); } return rawMD5(string); } if (!raw) { return hexHMACMD5(key, string); } return rawHMACMD5(key, string); } exportTarget.md5 = md5; })(hashFunction); exportTarget.lcs_do = lcs_do; exportTarget.lcs_do_gdid = lcs_do_gdid; exportTarget.lcs_get_lpid = lcs_get_lpid; exportTarget.lcs_update_lpid = lcs_update_lpid; exportTarget.lcs_version = lcs_version; })(window); </script><script> naver = window.naver || {}; naver.search = naver.search || {}; naver.search.https = window.location.protocol == \"https:\"; naver.search.meta_referrer = 1; var headerfooter_query = \"삼성전자\" ; var g_ssc = \"tab.news.all\" ; var g_query = \"삼성전자\" ; var g_puid = \"iKxR9lprvxZsskTewtlssssstG8-267719\" ; var g_suid = \"72fvbXkXsTWPRkQ3tIPVwA==\" ; var g_tab = \"news\" ; var g_stab = \"news\" ; var g_crt = \"\" ; var g_D = 0 ; if (window.addEventListener) window.addEventListener(\"load\", function() { lcs_do({\"sti\": \"deny_notice\"}) }, false) ; else lcs_do({\"sti\": \"deny_notice\"}) ; </script><script crossorigin=\"anonymous\" src=\"https://ssl.pstatic.net/sstatic/sdyn.js?f=/au/pc/_nx/jindo_1.5.3_171116.js+/search/js/nhn.Component.js+/search/js/jindo.Component.1.1.0.js+/search/js/jindo.component.library_120927.js+/au/s/pc/_common/jindo/jindo.Rolling_140526.js+/fe/sfe/nx_jquery/pc/nx_jquery_221215.js&amp;o=search\"></script><script crossorigin=\"anonymous\" src=\"https://ssl.pstatic.net/sstatic/fe/sfe/common/pc-1.5.1.js?o=search\"></script><script crossorigin=\"anonymous\" src=\"https://ssl.pstatic.net/sstatic/fe/meerkat/logger/sfe/naver.common.meerkat.logger.sfe_pc_230601.js?o=search\"></script><script crossorigin=\"anonymous\" src=\"https://ssl.pstatic.net/sstatic/fe/sfe/web-vitals/web-vitals_230627.js?o=search\"></script><script crossorigin=\"anonymous\" src=\"https://ssl.pstatic.net/sstatic/fe/sfe/scrollLog/Controller_220714.js?o=search\"></script><script crossorigin=\"anonymous\" src=\"https://ssl.pstatic.net/sstatic/fe/sfe/naver_autocomplete/pc/naver.common.atcmp.naver_web_230216.js?o=search\"></script><script> 0 && naver.common.meerkat.logger.observe(); </script><script> function urlencode (q) { return encodeURIComponent(q).replace(/%20/g, \"+\").replace(/[!~'()]/g, function(c) { return '%' + c.charCodeAt(0).toString(16).toUpperCase() ; }); } function urldecode (q) { return decodeURIComponent(q.replace(/\\+/g, \" \")); } function urlexpand (url) { var href = document.location.href ; if (url == \"\") return href ; if (url.match(/^[-.A-Za-z]+:/)) return url ; if (url.charAt(0) == '#') return href.split(\"#\")[0] + url ; if (url.charAt(0) == '?') return href.split(\"?\")[0] + url ; if (url.charAt(0) == '/') return href.replace(/([^:\\/])\\/.*$/, \"$1\") + url ; return href.substring(0, href.lastIndexOf(\"/\")+1) + url ; } function tt_sub_disable (o) { if (typeof(o.tt_sub) == \"undefined\") return false ; if ((typeof(o.tt_sub) == \"object\") && (o.tt_sub.length)) { var i ; for (var i=0; i<o.tt_sub.length; i++) o.tt_sub[i].disabled = true ; } else o.tt_sub.disabled = true ; return true ; } function cpip () { var evt, sx = sy = px = py = -1 ; try { evt = window.event ; } catch (e) {} try { sx=evt.clientX-document.body.clientLeft, sy=evt.clientY-document.body.clientTop ; } catch (e) {} try { px=document.body.scrollLeft+(sx<0?0:sx), py=document.documentElement.scrollTop+(sy<0?0:sy) ; } catch (e) {} try { if (evt.pageX) px=evt.pageX ; if (evt.pageY) py=evt.pageY ; } catch (e) {} return \"px=\"+px+\"&py=\"+py+\"&sx=\"+sx+\"&sy=\"+sy ; } function nxGetCommonCRParam (p) { return (p.match(/(^|[&?])p=/) ? '' : \"p=\" + urlencode(g_puid) + '&') + \"q=\" + urlencode(g_query) + \"&ie=utf8&rev=1\" + (p.match(/(^|[&?])ssc=/) ? '' : \"&ssc=\" + urlencode(g_ssc)) + \"&f=\" + urlencode(g_tab) + \"&w=\" + urlencode(g_stab) + \"&s=\" + urlencode(g_suid) + \"&time=\" + urlencode((new Date()).getTime()) + g_crt ; } function getCRRankingByParam (p, info) { if (typeof info == 'undefined' || info == null) return 0 ; var cr = 0 ; try { var y, z ; var y = p.split('&') ; for (var i = 0; i < y.length; i++) { if (z = y[i].split('=')) { if (z[0] == 'a') { for (var j = 0; j < info.length; j++) { var a = info[j].area.split(/[*.]/)[0]; if (z[1].substr(0, a.length) == a) { cr = j + 1 ; break ; } } break ; } } } } catch (e) { } return cr ; } function getCRRanking (p) { var cr = 0 ; if (p.match(/(^|[&?])cr=/)) return cr ; if (typeof naver.search.section == 'undefined') return cr ; if (typeof naver.search.section.main != 'undefined') cr = getCRRankingByParam(p, naver.search.section.main) ; if (cr) return cr ; if (typeof naver.search.section.main2 != 'undefined') cr = getCRRankingByParam(p, naver.search.section.main2) ; return cr ; } function isOutlink (u) { if (!u || u.indexOf(\"://\") < 0) return false; var b = (u.search(/^\\w*:\\/\\/([^:/?]*\\.|)*(?!(ad)?cr\\.)[^.:/?]+\\.+naver\\.com(:\\d*)?(\\/|$)/) < 0);  return b; } function nxGetCRURL (m, a, b, c, d, e) { var p = \"\" ; var u ; if (c==undefined && d==undefined && e==undefined) { p = (a==undefined?\"\":\"&\"+a) + (b==undefined || a.indexOf(\"u=\")==0 || a.indexOf(\"&u=\") > 0 ?\"\":\"&u=\"+urlencode(b)) ; u = b ; } else { p = (a==undefined ? \"\" : \"&a=\"+urlencode(a)) + (b==undefined ? \"\" : \"&r=\"+urlencode(b)) + (c==undefined ? \"\" : \"&i=\"+urlencode(c)) + (d==undefined ? \"\" : \"&u=\"+urlencode(d)) + (e==undefined ? \"\" : \"&\"+e) ; u = d ; } if (! p) return null ; if (0 && u && u.indexOf(\"/search.naver?\") >= 0) { var r = /((?:^|&)u=)((?:(?:[^&]*%2F)?search.naver)?%3F(?:[^%&]|%[^2]|%2[^3])*)/; var pu = p.match(r); pu = pu && pu[2] ? pu[2] : '';  p = p.replace(r, '$1' + pu); } var url ; if (naver.search.https) { url = (naver.search.meta_referrer ? \"/p/crd\" : \"/p/cr\") + \"/rd\"; if (m != 0) m = 1; } else { out = isOutlink(u); url = \"http://cr.naver.com\" + (g_D && out ? \"/nr\" : \"/rd\"); if (m != 0) m = g_D && out ? 2 : 1; } url += \"?m=\" + m + \"&\" + cpip() + \"&\" + nxGetCommonCRParam(p) + p; return url; } function tCR (a, b, c, d, e) { var l = nxGetCRURL(0, a, b, c, d, e) ; var cr = getCRRanking(l) ; if (cr > 0) l = l + \"&cr=\" + cr ; if (document.images) (new Image()).src = l ; else document.location = l ; return false ; } function gCR (u, a, r, i, e, t) { if (u) u = urlexpand(u) ; var l = nxGetCRURL(1, a, r, i, u, e) ; var o = document.createElement(\"a\") ; var cr = getCRRanking(l) ; if (cr > 0) l = l + \"&cr=\" + cr ; if (o.click) { o.href = l ; o.style.display = \"none\" ; document.body.appendChild(o) ; o.click() ; } else document.location = l ; } function goCR (o, p, t) { var p0 = o.getAttribute && o.getAttribute(\"crp\"), u = o.href, u0 = u ; if (p0 && u.indexOf(p0)>0 && u.match(/\\/(rd|nr)\\?/)) { u = u0 = o.getAttribute && o.getAttribute(\"cru\") || u ; p = p0 ; } p0 = p ; tt_sub_disable(o) ; if (p.indexOf(\"u=javascript\") >= 0) t = true ; /* no frame/iframe but new window */ var n = (o.ownerDocument==document && o.target && o.target!=\"_self\" && o.target!=\"_parent\" && o.target!=\"_top\") && !(window.location.protocol&&window.location.protocol.indexOf(\"https:\")==0) ; var cr = getCRRanking(p) ; if (cr > 0) p = p + \"&cr=\" + cr ;  u = nxGetCRURL(t?0:(n?-1:1), p, u) ; if (u && !u.match(/m=0&/)) { if (o.setAttribute) { if (p0) o.setAttribute(\"crp\", p0) ; if (u0) o.setAttribute(\"cru\", u0) ; if (g_D && naver.search.https && naver.search.meta_referrer && o.href && isOutlink(o.href)) o.setAttribute(\"rel\", \"noreferrer\"); } var a = o.innerHTML ; o.href = u ; if (o.innerHTML != a) o.innerHTML = a ; } else if (document.images) (new Image()).src = u ; return true ; } function goOtherCR (o, p) { return goCR(o, p, false) ; } function goOtherTCR (o, p) { return goCR(o, p, true) ; } function get_form_url (o) { var url = o.getAttribute(\"action\") ; if (url == null) url = \"\" ; var e, n = 0 ; for (var i=0; i<o.elements.length; i++) { e = o.elements[i] ; if (e.disabled || !e.name) continue ; url += (n++>0?\"&\":url.indexOf(\"?\")<0?\"?\":url.indexOf(\"?\")<url.length-1?\"&\":\"\") + encodeURIComponent(e.name) + \"=\" + encodeURIComponent(e.value) ; } return url ; } function formCR (o, area, rank, id) { if (typeof o == 'string') o = document.getElementById(o) ; var target = o.getAttribute(\"target\") ; if (target && target!=\"_self\" && target!=\"_parent\" && target!=\"_top\" || /^post$/i.test(o.getAttribute(\"method\"))) { tCR(area, rank, id) ; o.submit() ; return false ; } var url = get_form_url(o) ; var a = document.createElement(\"a\") ; a.href = url ; var p = area != undefined ? \"a=\" + area : \"\" ; if (rank != undefined) p += (p?\"&\":\"\") + \"r=\" + encodeURIComponent(rank) ; if (id != undefined) p += (p?\"&\":\"\") + \"i=\" + encodeURIComponent(id) ; if (url != undefined) p += (p?\"&\":\"\") + \"u=\" + encodeURIComponent(urlexpand(url)) ; goCR(a, p) ; if (navigator.userAgent.indexOf('MSIE') > 0) { a.style.display = 'none' ; o.appendChild(a) ; a.click() ; } else document.location = a.href ; return false ; } </script><body> <div id=\"login_message\"> <div class=\"logo\"><a href=\"https://www.naver.com/\" onclick=\"return goOtherCR(this, 'a=blk.logo&amp;u='+urlencode(this.href))\"><span class=\"blind\">naver</span></a></div> <div class=\"conts\"> <div class=\"rnd_t\"> <div class=\"notice_img\"><span class=\"blind\">!</span></div> <div class=\"notice_txt\"> <h3><img alt=\"검색 서비스 이용이 제한되었습니다.\" height=\"16\" src=\"https://ssl.pstatic.net/sstatic/search/img3/txt_error02.gif\" width=\"233\"/></h3> <p class=\"info01\">사용 중이신 PC 또는 네트워크에서 네이버의 안정적인 검색 서비스를 방해하는 내용이 감지되었습니다.</p> <p class=\"info01\">네이버는 안정적인 검색 서비스를 제공하고자, 검색 서비스를 방해하는 비정상적인 움직임이 발견될 시 시스템에 의해 해당 네트워크의 검색을 일시적으로 제한하고 있습니다.<br/><br/> 보안 절차를 통과하면 검색 서비스를 정상적으로 이용하실 수 있습니다.<br/> 보안 절차를 통과하려면 [제한 해제] 버튼을 클릭하세요.<br/><br/> ※ \"비정상적인 검색\"이란? : 프로그램등을 이용, 특정 단어를 반복적으로 대량으로 입력하는 등 네이버 검색 서비스의 안정성을 방해하는 검색 패턴을 의미합니다. </p> <div class=\"btn\"> <a class=\"btn_captcha on\" href=\"#\" onclick=\"this.href=window.location.href+(window.location.search==''?'?':'&amp;')+'ct=1';return goOtherCR(this, 'u='+urlencode(this.href)+'&amp;a=blk.release');\"><span class=\"blind\">제한해제</span></a> </div> </div> </div> <div class=\"rnd_b\"></div> </div> <div id=\"footer\"><div class=\"footer_wrap\"> <ul> <li class=\"first\"><a href=\"https://www.navercorp.com/\" onclick=\"return goOtherCR(this, 'a=blk.corp&amp;u='+urlencode(this.href))\">회사소개</a></li> <li><a href=\"https://policy.naver.com/rules/service.html\" onclick=\"return goOtherCR(this, 'a=blk.agree&amp;u='+urlencode(this.href))\">이용약관</a></li> <li><a href=\"https://policy.naver.com/rules/privacy.html\" onclick=\"return goOtherCR(this, 'a=blk.privacy&amp;u='+urlencode(this.href))\"><strong>개인정보취급방침</strong></a></li> <li><a href=\"https://policy.naver.com/rules/disclaimer.html\" onclick=\"return goOtherCR(this, 'a=blk.law&amp;u='+urlencode(this.href))\">책임의 한계와 법적고지</a></li> <li><a href=\"https://help.naver.com/\" onclick=\"return goOtherCR(this, 'a=blk.help&amp;u='+urlencode(this.href))\">고객센터</a></li> </ul> <address> Copyright © <a href=\"https://www.navercorp.com/\" onclick=\"return goOtherCR(this, 'a=blk.naver&amp;u='+urlencode(this.href))\">NAVER Corp.</a> All Rights Reserved. </address> </div> </div></div> </body></html>"
      ]
     },
     "execution_count": 36,
     "metadata": {},
     "output_type": "execute_result"
    }
   ],
   "source": [
    "soup"
   ]
  },
  {
   "cell_type": "code",
   "execution_count": 24,
   "id": "5304e100",
   "metadata": {},
   "outputs": [],
   "source": [
    "\n",
    "# #### naver crawling\n",
    "def get_news_summary(key_word):\n",
    "    \n",
    "    # 1. 검색 url을 통해 뉴스의 리스트를 읽어 오는 코드\n",
    "    url = f'https://search.naver.com/search.naver?where=news&sm=tab_jum&query={key_word}'\n",
    "\n",
    "    headers = {\"User-Agent\": \"Mozilla/5.0 (Windows NT 6.3; WOW64) AppleWebKit/537.36 (KHTML, like Gecko) Chrome/44.0.2403.157 Safari/537.36\"}\n",
    "    res = requests.get(url, headers= headers)\n",
    "    soup = bs(res.text, 'html.parser')\n",
    "    news_list = soup.find_all('div', attrs={'class':'info_group'})\n",
    "    \n",
    "    # 각각 뉴스의 리스트에서 링크를 타고 들어간 후 각각의 뉴스 내용을 합치는 코드\n",
    "    news_url_list = [] # 네이버 뉴스 url 리스트\n",
    "    new_article_list= [] # 네이버 뉴스 기사 통합 리스트\n",
    "    for i in range(3): # 최대 5개 정도만 추출\n",
    "        news_article = news_list[i].find_all(\"a\", attrs={\"class\":\"info\"})\n",
    "        if len(news_article) > 1:\n",
    "            news_nm_url = news_article[1].get('href')\n",
    "            news_url_list.append(news_nm_url)\n",
    "            res = requests.get(news_nm_url, headers=headers)\n",
    "            soup = bs(res.text, 'lxml')\n",
    "            news_article_nm = soup.find_all('div', attrs = {'class': 'newsct_article _article_body'})\n",
    "            news_article_text = news_article_nm[0].get_text()\n",
    "            new_article_list.append(news_article_text)\n",
    "            \n",
    "    # CHAT GPT에 들어갈 최종 뉴스기사\n",
    "    total_article = '_'.join(new_article_list)\n",
    "    total_article = total_article.replace(\"\\n\",\"\")\n",
    "    \n",
    "    \n",
    "    # 뉴스기사와 함께 요약문 \n",
    "    input_text_2 = ' \\n 전망이 어떨지 요약 좀 해줘'\n",
    "    \n",
    "    question = f'{total_article} {input_text_2}'\n",
    "    \n",
    "    # Chat gpt\n",
    "    completion = openai.ChatCompletion.create(\n",
    "      model=\"gpt-3.5-turbo-16k\", \n",
    "      messages=[{\"role\": \"user\", \n",
    "                 \"content\": question}]\n",
    ")\n",
    "    return completion.choices[0]['message']['content']\n"
   ]
  },
  {
   "cell_type": "code",
   "execution_count": 25,
   "id": "7b4d142f",
   "metadata": {},
   "outputs": [
    {
     "ename": "IndexError",
     "evalue": "list index out of range",
     "output_type": "error",
     "traceback": [
      "\u001b[0;31m---------------------------------------------------------------------------\u001b[0m",
      "\u001b[0;31mIndexError\u001b[0m                                Traceback (most recent call last)",
      "Cell \u001b[0;32mIn[25], line 1\u001b[0m\n\u001b[0;32m----> 1\u001b[0m question \u001b[38;5;241m=\u001b[39m \u001b[43mget_news_summary\u001b[49m\u001b[43m(\u001b[49m\u001b[38;5;124;43m'\u001b[39;49m\u001b[38;5;124;43m초전도체\u001b[39;49m\u001b[38;5;124;43m'\u001b[39;49m\u001b[43m)\u001b[49m\n",
      "Cell \u001b[0;32mIn[24], line 16\u001b[0m, in \u001b[0;36mget_news_summary\u001b[0;34m(key_word)\u001b[0m\n\u001b[1;32m     14\u001b[0m new_article_list\u001b[38;5;241m=\u001b[39m [] \u001b[38;5;66;03m# 네이버 뉴스 기사 통합 리스트\u001b[39;00m\n\u001b[1;32m     15\u001b[0m \u001b[38;5;28;01mfor\u001b[39;00m i \u001b[38;5;129;01min\u001b[39;00m \u001b[38;5;28mrange\u001b[39m(\u001b[38;5;241m3\u001b[39m): \u001b[38;5;66;03m# 최대 5개 정도만 추출\u001b[39;00m\n\u001b[0;32m---> 16\u001b[0m     news_article \u001b[38;5;241m=\u001b[39m \u001b[43mnews_list\u001b[49m\u001b[43m[\u001b[49m\u001b[43mi\u001b[49m\u001b[43m]\u001b[49m\u001b[38;5;241m.\u001b[39mfind_all(\u001b[38;5;124m\"\u001b[39m\u001b[38;5;124ma\u001b[39m\u001b[38;5;124m\"\u001b[39m, attrs\u001b[38;5;241m=\u001b[39m{\u001b[38;5;124m\"\u001b[39m\u001b[38;5;124mclass\u001b[39m\u001b[38;5;124m\"\u001b[39m:\u001b[38;5;124m\"\u001b[39m\u001b[38;5;124minfo\u001b[39m\u001b[38;5;124m\"\u001b[39m})\n\u001b[1;32m     17\u001b[0m     \u001b[38;5;28;01mif\u001b[39;00m \u001b[38;5;28mlen\u001b[39m(news_article) \u001b[38;5;241m>\u001b[39m \u001b[38;5;241m1\u001b[39m:\n\u001b[1;32m     18\u001b[0m         news_nm_url \u001b[38;5;241m=\u001b[39m news_article[\u001b[38;5;241m1\u001b[39m]\u001b[38;5;241m.\u001b[39mget(\u001b[38;5;124m'\u001b[39m\u001b[38;5;124mhref\u001b[39m\u001b[38;5;124m'\u001b[39m)\n",
      "\u001b[0;31mIndexError\u001b[0m: list index out of range"
     ]
    }
   ],
   "source": [
    "question = get_news_summary('초전도체')"
   ]
  },
  {
   "cell_type": "code",
   "execution_count": null,
   "id": "f5c0f0a7",
   "metadata": {},
   "outputs": [],
   "source": [
    "question"
   ]
  },
  {
   "cell_type": "code",
   "execution_count": null,
   "id": "aef9c11b",
   "metadata": {},
   "outputs": [],
   "source": []
  }
 ],
 "metadata": {
  "kernelspec": {
   "display_name": "Python 3 (ipykernel)",
   "language": "python",
   "name": "python3"
  },
  "language_info": {
   "codemirror_mode": {
    "name": "ipython",
    "version": 3
   },
   "file_extension": ".py",
   "mimetype": "text/x-python",
   "name": "python",
   "nbconvert_exporter": "python",
   "pygments_lexer": "ipython3",
   "version": "3.11.3"
  },
  "toc": {
   "base_numbering": 1,
   "nav_menu": {},
   "number_sections": true,
   "sideBar": true,
   "skip_h1_title": false,
   "title_cell": "Table of Contents",
   "title_sidebar": "Contents",
   "toc_cell": false,
   "toc_position": {
    "height": "calc(100% - 180px)",
    "left": "10px",
    "top": "150px",
    "width": "227.8px"
   },
   "toc_section_display": true,
   "toc_window_display": true
  }
 },
 "nbformat": 4,
 "nbformat_minor": 5
}
