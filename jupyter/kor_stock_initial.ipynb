{
 "cells": [
  {
   "cell_type": "code",
   "execution_count": 1,
   "id": "a06058a4",
   "metadata": {},
   "outputs": [],
   "source": [
    "import pandas as pd\n",
    "import pandas_gbq\n",
    "from pykrx import stock\n",
    "from pykrx import bond\n",
    "import FinanceDataReader as fdr\n",
    "\n",
    "from time import sleep\n",
    "\n",
    "import psycopg2 as pg2\n",
    "from sqlalchemy import create_engine\n",
    "\n",
    "from datetime import datetime\n",
    "import os\n",
    "import time\n",
    "\n",
    "import glob\n",
    "from google.cloud import bigquery\n",
    "from google.oauth2 import service_account\n",
    "from google.cloud import storage\n",
    "\n",
    "# 경로 변경\n",
    "os.chdir('/home/owenchoi07/finance_mlops')\n",
    "\n",
    "\n",
    "# import pydata_google_auth\n",
    "\n",
    "# pandas_gbq\n",
    "# 서비스 계정 키 JSON 파일 경로\n",
    "key_path = glob.glob(\"key_value/*.json\")[0]\n",
    "\n",
    "# Credentials 객체 생성\n",
    "credentials = service_account.Credentials.from_service_account_file(key_path)\n",
    "\n",
    "# 빅쿼리 정보\n",
    "project_id = 'owen-389015'\n",
    "dataset_id = 'finance_mlops'\n",
    "\n",
    "\n",
    "# GCP 클라이언트 객체 생성\n",
    "storage_client = storage.Client(credentials = credentials, \n",
    "                         project = credentials.project_id)\n",
    "\n",
    "\n",
    "# Postgresql 연결\n",
    "db_connect_info = pd.read_csv('key_value/db_connect_info.csv')\n",
    "\n",
    "username = db_connect_info['username'][0]\n",
    "password = db_connect_info['password'][0]\n",
    "host = db_connect_info['host'][0]\n",
    "database = db_connect_info['database'][0]\n",
    "\n",
    "engine = create_engine(f'postgresql+psycopg2://{username}:{password}@{host}:5432/{database}')"
   ]
  },
  {
   "cell_type": "code",
   "execution_count": 6,
   "id": "78c203cb",
   "metadata": {},
   "outputs": [],
   "source": [
    "now = datetime.now()\n",
    "today_date1 = now.strftime('%Y%m%d')\n",
    "# start_date = '20180101'\n",
    "start_date = '20180101'\n",
    "today_date1 = '20230721'"
   ]
  },
  {
   "cell_type": "markdown",
   "id": "2ab9131a",
   "metadata": {},
   "source": [
    "# 주식 정보"
   ]
  },
  {
   "cell_type": "markdown",
   "id": "1f8ac305",
   "metadata": {},
   "source": [
    "## 티커 리스트"
   ]
  },
  {
   "cell_type": "code",
   "execution_count": 3,
   "id": "b4035ac4",
   "metadata": {},
   "outputs": [
    {
     "name": "stderr",
     "output_type": "stream",
     "text": [
      "100%|██████████| 1/1 [00:00<00:00, 3581.81it/s]\n"
     ]
    }
   ],
   "source": [
    "market_list = ['KOSPI', 'KOSDAQ', 'KONEX']\n",
    "\n",
    "kor_ticker_list_df = pd.DataFrame()\n",
    "for market_nm in market_list:\n",
    "    ticker_list = stock.get_market_ticker_list(today_date1, market=market_nm)\n",
    "    for tickers in ticker_list:\n",
    "        corp_name = stock.get_market_ticker_name(tickers)\n",
    "        df = pd.DataFrame({'ticker':tickers,\n",
    "                           'corp_name':corp_name,\n",
    "                           'market': market_nm\n",
    "                          }, index = [0])\n",
    "        kor_ticker_list_df = pd.concat([kor_ticker_list_df,df])\n",
    "kor_ticker_list_df = kor_ticker_list_df.reset_index(drop = True)\n",
    "\n",
    "file_name = 'kor_ticker_list'\n",
    "# 빅쿼리 데이터 적재\n",
    "kor_ticker_list_df.to_gbq(destination_table=f'{project_id}.{dataset_id}.{file_name}',\n",
    "  project_id=project_id,\n",
    "  if_exists='replace',\n",
    "  credentials=credentials)\n",
    "\n",
    "# Postgresql 적재\n",
    "kor_ticker_list_df.to_sql(f'{file_name}',if_exists='replace', con=engine,  index=False)\n",
    "        \n",
    "kor_ticker_list_df.to_csv(f'data_crawler/{file_name}.csv', index=False, mode='w')\n",
    "\n",
    "bucket_name = 'finance-mlops'    # 서비스 계정 생성한 bucket 이름 입력\n",
    "source_file_name = f'data_crawler/{file_name}.csv'    # GCP에 업로드할 파일 절대경로\n",
    "destination_blob_name = f'data_crawler/{file_name}/{file_name}.csv'    # 업로드할 파일을 GCP에 저장할 때의 이름\n",
    "\n",
    "bucket = storage_client.bucket(bucket_name)\n",
    "blob = bucket.blob(destination_blob_name)\n",
    "\n",
    "blob.upload_from_filename(source_file_name)\n",
    "\n",
    "kor_ticker_list = kor_ticker_list_df['ticker']"
   ]
  },
  {
   "cell_type": "code",
   "execution_count": 7,
   "id": "b43efe0e",
   "metadata": {},
   "outputs": [],
   "source": [
    "\n",
    "df_raw = stock.get_market_ohlcv(start_date, today_date1, '027410')\n",
    "df_raw = df_raw.reset_index()\n",
    "df_raw['ticker'] = '027410'\n",
    "df_raw.columns = ['date', 'open', 'high', 'low', 'close', 'volume', 'trading_value', 'price_change_percentage', 'ticker']\n"
   ]
  },
  {
   "cell_type": "code",
   "execution_count": 8,
   "id": "c0196f83",
   "metadata": {},
   "outputs": [
    {
     "data": {
      "text/html": [
       "<div>\n",
       "<style scoped>\n",
       "    .dataframe tbody tr th:only-of-type {\n",
       "        vertical-align: middle;\n",
       "    }\n",
       "\n",
       "    .dataframe tbody tr th {\n",
       "        vertical-align: top;\n",
       "    }\n",
       "\n",
       "    .dataframe thead th {\n",
       "        text-align: right;\n",
       "    }\n",
       "</style>\n",
       "<table border=\"1\" class=\"dataframe\">\n",
       "  <thead>\n",
       "    <tr style=\"text-align: right;\">\n",
       "      <th></th>\n",
       "      <th>date</th>\n",
       "      <th>open</th>\n",
       "      <th>high</th>\n",
       "      <th>low</th>\n",
       "      <th>close</th>\n",
       "      <th>volume</th>\n",
       "      <th>trading_value</th>\n",
       "      <th>price_change_percentage</th>\n",
       "      <th>ticker</th>\n",
       "    </tr>\n",
       "  </thead>\n",
       "  <tbody>\n",
       "    <tr>\n",
       "      <th>0</th>\n",
       "      <td>2018-01-02</td>\n",
       "      <td>15450</td>\n",
       "      <td>15700</td>\n",
       "      <td>15150</td>\n",
       "      <td>15500</td>\n",
       "      <td>763156</td>\n",
       "      <td>11783046100</td>\n",
       "      <td>1.64</td>\n",
       "      <td>027410</td>\n",
       "    </tr>\n",
       "    <tr>\n",
       "      <th>1</th>\n",
       "      <td>2018-01-03</td>\n",
       "      <td>15600</td>\n",
       "      <td>15700</td>\n",
       "      <td>15250</td>\n",
       "      <td>15450</td>\n",
       "      <td>647089</td>\n",
       "      <td>9958046500</td>\n",
       "      <td>-0.32</td>\n",
       "      <td>027410</td>\n",
       "    </tr>\n",
       "    <tr>\n",
       "      <th>2</th>\n",
       "      <td>2018-01-04</td>\n",
       "      <td>15450</td>\n",
       "      <td>15500</td>\n",
       "      <td>15050</td>\n",
       "      <td>15050</td>\n",
       "      <td>588018</td>\n",
       "      <td>8924957600</td>\n",
       "      <td>-2.59</td>\n",
       "      <td>027410</td>\n",
       "    </tr>\n",
       "    <tr>\n",
       "      <th>3</th>\n",
       "      <td>2018-01-05</td>\n",
       "      <td>15000</td>\n",
       "      <td>15200</td>\n",
       "      <td>14500</td>\n",
       "      <td>14600</td>\n",
       "      <td>774720</td>\n",
       "      <td>11418393200</td>\n",
       "      <td>-2.99</td>\n",
       "      <td>027410</td>\n",
       "    </tr>\n",
       "    <tr>\n",
       "      <th>4</th>\n",
       "      <td>2018-01-08</td>\n",
       "      <td>14700</td>\n",
       "      <td>15050</td>\n",
       "      <td>14550</td>\n",
       "      <td>14600</td>\n",
       "      <td>504121</td>\n",
       "      <td>7430638300</td>\n",
       "      <td>0.00</td>\n",
       "      <td>027410</td>\n",
       "    </tr>\n",
       "    <tr>\n",
       "      <th>...</th>\n",
       "      <td>...</td>\n",
       "      <td>...</td>\n",
       "      <td>...</td>\n",
       "      <td>...</td>\n",
       "      <td>...</td>\n",
       "      <td>...</td>\n",
       "      <td>...</td>\n",
       "      <td>...</td>\n",
       "      <td>...</td>\n",
       "    </tr>\n",
       "    <tr>\n",
       "      <th>1365</th>\n",
       "      <td>2023-07-17</td>\n",
       "      <td>3680</td>\n",
       "      <td>3710</td>\n",
       "      <td>3635</td>\n",
       "      <td>3710</td>\n",
       "      <td>37979</td>\n",
       "      <td>139511130</td>\n",
       "      <td>0.68</td>\n",
       "      <td>027410</td>\n",
       "    </tr>\n",
       "    <tr>\n",
       "      <th>1366</th>\n",
       "      <td>2023-07-18</td>\n",
       "      <td>3710</td>\n",
       "      <td>3710</td>\n",
       "      <td>3600</td>\n",
       "      <td>3615</td>\n",
       "      <td>111443</td>\n",
       "      <td>405677560</td>\n",
       "      <td>-2.56</td>\n",
       "      <td>027410</td>\n",
       "    </tr>\n",
       "    <tr>\n",
       "      <th>1367</th>\n",
       "      <td>2023-07-19</td>\n",
       "      <td>3640</td>\n",
       "      <td>3740</td>\n",
       "      <td>3625</td>\n",
       "      <td>3685</td>\n",
       "      <td>91194</td>\n",
       "      <td>336218850</td>\n",
       "      <td>1.94</td>\n",
       "      <td>027410</td>\n",
       "    </tr>\n",
       "    <tr>\n",
       "      <th>1368</th>\n",
       "      <td>2023-07-20</td>\n",
       "      <td>3715</td>\n",
       "      <td>3720</td>\n",
       "      <td>3665</td>\n",
       "      <td>3715</td>\n",
       "      <td>90730</td>\n",
       "      <td>335253255</td>\n",
       "      <td>0.81</td>\n",
       "      <td>027410</td>\n",
       "    </tr>\n",
       "    <tr>\n",
       "      <th>1369</th>\n",
       "      <td>2023-07-21</td>\n",
       "      <td>3715</td>\n",
       "      <td>3740</td>\n",
       "      <td>3640</td>\n",
       "      <td>3665</td>\n",
       "      <td>118062</td>\n",
       "      <td>434211150</td>\n",
       "      <td>-1.35</td>\n",
       "      <td>027410</td>\n",
       "    </tr>\n",
       "  </tbody>\n",
       "</table>\n",
       "<p>1370 rows × 9 columns</p>\n",
       "</div>"
      ],
      "text/plain": [
       "           date   open   high    low  close  volume  trading_value  \\\n",
       "0    2018-01-02  15450  15700  15150  15500  763156    11783046100   \n",
       "1    2018-01-03  15600  15700  15250  15450  647089     9958046500   \n",
       "2    2018-01-04  15450  15500  15050  15050  588018     8924957600   \n",
       "3    2018-01-05  15000  15200  14500  14600  774720    11418393200   \n",
       "4    2018-01-08  14700  15050  14550  14600  504121     7430638300   \n",
       "...         ...    ...    ...    ...    ...     ...            ...   \n",
       "1365 2023-07-17   3680   3710   3635   3710   37979      139511130   \n",
       "1366 2023-07-18   3710   3710   3600   3615  111443      405677560   \n",
       "1367 2023-07-19   3640   3740   3625   3685   91194      336218850   \n",
       "1368 2023-07-20   3715   3720   3665   3715   90730      335253255   \n",
       "1369 2023-07-21   3715   3740   3640   3665  118062      434211150   \n",
       "\n",
       "      price_change_percentage  ticker  \n",
       "0                        1.64  027410  \n",
       "1                       -0.32  027410  \n",
       "2                       -2.59  027410  \n",
       "3                       -2.99  027410  \n",
       "4                        0.00  027410  \n",
       "...                       ...     ...  \n",
       "1365                     0.68  027410  \n",
       "1366                    -2.56  027410  \n",
       "1367                     1.94  027410  \n",
       "1368                     0.81  027410  \n",
       "1369                    -1.35  027410  \n",
       "\n",
       "[1370 rows x 9 columns]"
      ]
     },
     "execution_count": 8,
     "metadata": {},
     "output_type": "execute_result"
    }
   ],
   "source": [
    "df_raw"
   ]
  },
  {
   "cell_type": "markdown",
   "id": "491b4fe6",
   "metadata": {},
   "source": [
    "## 종목별 주가 정보"
   ]
  },
  {
   "cell_type": "code",
   "execution_count": 7,
   "id": "49af4230",
   "metadata": {},
   "outputs": [
    {
     "name": "stderr",
     "output_type": "stream",
     "text": [
      "100%|██████████| 1/1 [00:00<00:00, 5229.81it/s]\n"
     ]
    },
    {
     "name": "stdout",
     "output_type": "stream",
     "text": [
      "095570 success\n"
     ]
    },
    {
     "name": "stderr",
     "output_type": "stream",
     "text": [
      "100%|██████████| 1/1 [00:00<00:00, 5461.33it/s]"
     ]
    },
    {
     "name": "stdout",
     "output_type": "stream",
     "text": [
      "006840 success\n"
     ]
    },
    {
     "name": "stderr",
     "output_type": "stream",
     "text": [
      "\n"
     ]
    }
   ],
   "source": [
    "for ticker_nm in kor_ticker_list[:2]:\n",
    "    file_name = 'kor_stock_ohlcv'\n",
    "    \n",
    "    try:\n",
    "        df_raw = stock.get_market_ohlcv(start_date, today_date1, ticker_nm)\n",
    "        df_raw = df_raw.reset_index()\n",
    "        df_raw['ticker'] = ticker_nm\n",
    "        df_raw.columns = ['date', 'open', 'high', 'low', 'close', 'volume', 'trading_value', 'price_change_percentage', 'ticker']\n",
    "\n",
    "        # 빅쿼리 데이터 적재\n",
    "        df_raw.to_gbq(destination_table=f'{project_id}.{dataset_id}.{file_name}',\n",
    "          project_id=project_id,\n",
    "          if_exists='append',\n",
    "          credentials=credentials)\n",
    "        \n",
    "        # Postgresql 적재\n",
    "        df_raw.to_sql(f'{file_name}',if_exists='append', con=engine,  index=False)\n",
    "        \n",
    "        if not os.path.exists(f'data_crawler/{file_name}.csv'):\n",
    "            df_raw.to_csv(f'data_crawler/{file_name}.csv', index=False, mode='w')\n",
    "        else:\n",
    "            df_raw.to_csv(f'data_crawler/{file_name}.csv', index=False, mode='a', header=False)\n",
    "        \n",
    "        print(f'{ticker_nm} success')\n",
    "    except:\n",
    "        print(f'{ticker_nm} fail')   \n",
    "\n",
    "\n",
    "bucket_name = 'finance-mlops'    # 서비스 계정 생성한 bucket 이름 입력\n",
    "source_file_name = f'data_crawler/{file_name}.csv'    # GCP에 업로드할 파일 절대경로\n",
    "destination_blob_name = f'data_crawler/{file_name}/{file_name}.csv'    # 업로드할 파일을 GCP에 저장할 때의 이름\n",
    "\n",
    "bucket = storage_client.bucket(bucket_name)\n",
    "blob = bucket.blob(destination_blob_name)\n",
    "\n",
    "blob.upload_from_filename(source_file_name)        "
   ]
  },
  {
   "cell_type": "code",
   "execution_count": 33,
   "id": "79255749",
   "metadata": {},
   "outputs": [],
   "source": [
    "start_date = '20180101'\n",
    "today_date1 = '20230721'\n",
    "ticker_nm = '406760'\n",
    "\n",
    "df_raw = stock.get_market_ohlcv(start_date, today_date1, ticker_nm)\n",
    "df_raw = df_raw.reset_index()\n",
    "df_raw['ticker'] = ticker_nm\n",
    "df_raw.columns = ['date', 'open', 'high', 'low', 'close', 'volume', 'trading_value', 'price_change_percentage', 'ticker']\n"
   ]
  },
  {
   "cell_type": "code",
   "execution_count": 34,
   "id": "3c34b94b",
   "metadata": {},
   "outputs": [
    {
     "data": {
      "text/html": [
       "<div>\n",
       "<style scoped>\n",
       "    .dataframe tbody tr th:only-of-type {\n",
       "        vertical-align: middle;\n",
       "    }\n",
       "\n",
       "    .dataframe tbody tr th {\n",
       "        vertical-align: top;\n",
       "    }\n",
       "\n",
       "    .dataframe thead th {\n",
       "        text-align: right;\n",
       "    }\n",
       "</style>\n",
       "<table border=\"1\" class=\"dataframe\">\n",
       "  <thead>\n",
       "    <tr style=\"text-align: right;\">\n",
       "      <th></th>\n",
       "      <th>date</th>\n",
       "      <th>open</th>\n",
       "      <th>high</th>\n",
       "      <th>low</th>\n",
       "      <th>close</th>\n",
       "      <th>volume</th>\n",
       "      <th>trading_value</th>\n",
       "      <th>price_change_percentage</th>\n",
       "      <th>ticker</th>\n",
       "    </tr>\n",
       "  </thead>\n",
       "  <tbody>\n",
       "    <tr>\n",
       "      <th>0</th>\n",
       "      <td>2022-02-25</td>\n",
       "      <td>2080</td>\n",
       "      <td>2100</td>\n",
       "      <td>2080</td>\n",
       "      <td>2090</td>\n",
       "      <td>2983467</td>\n",
       "      <td>6223536400</td>\n",
       "      <td>0.48</td>\n",
       "      <td>406760</td>\n",
       "    </tr>\n",
       "    <tr>\n",
       "      <th>1</th>\n",
       "      <td>2022-02-28</td>\n",
       "      <td>2095</td>\n",
       "      <td>2100</td>\n",
       "      <td>2085</td>\n",
       "      <td>2090</td>\n",
       "      <td>246163</td>\n",
       "      <td>515036135</td>\n",
       "      <td>0.00</td>\n",
       "      <td>406760</td>\n",
       "    </tr>\n",
       "    <tr>\n",
       "      <th>2</th>\n",
       "      <td>2022-03-02</td>\n",
       "      <td>2090</td>\n",
       "      <td>2105</td>\n",
       "      <td>2085</td>\n",
       "      <td>2095</td>\n",
       "      <td>152902</td>\n",
       "      <td>320541570</td>\n",
       "      <td>0.24</td>\n",
       "      <td>406760</td>\n",
       "    </tr>\n",
       "    <tr>\n",
       "      <th>3</th>\n",
       "      <td>2022-03-03</td>\n",
       "      <td>2090</td>\n",
       "      <td>2100</td>\n",
       "      <td>2090</td>\n",
       "      <td>2095</td>\n",
       "      <td>148411</td>\n",
       "      <td>311153110</td>\n",
       "      <td>0.00</td>\n",
       "      <td>406760</td>\n",
       "    </tr>\n",
       "    <tr>\n",
       "      <th>4</th>\n",
       "      <td>2022-03-04</td>\n",
       "      <td>2095</td>\n",
       "      <td>2100</td>\n",
       "      <td>2090</td>\n",
       "      <td>2090</td>\n",
       "      <td>58665</td>\n",
       "      <td>122981975</td>\n",
       "      <td>-0.24</td>\n",
       "      <td>406760</td>\n",
       "    </tr>\n",
       "    <tr>\n",
       "      <th>...</th>\n",
       "      <td>...</td>\n",
       "      <td>...</td>\n",
       "      <td>...</td>\n",
       "      <td>...</td>\n",
       "      <td>...</td>\n",
       "      <td>...</td>\n",
       "      <td>...</td>\n",
       "      <td>...</td>\n",
       "      <td>...</td>\n",
       "    </tr>\n",
       "    <tr>\n",
       "      <th>343</th>\n",
       "      <td>2023-07-17</td>\n",
       "      <td>2215</td>\n",
       "      <td>2220</td>\n",
       "      <td>2195</td>\n",
       "      <td>2210</td>\n",
       "      <td>5202</td>\n",
       "      <td>11473335</td>\n",
       "      <td>-0.23</td>\n",
       "      <td>406760</td>\n",
       "    </tr>\n",
       "    <tr>\n",
       "      <th>344</th>\n",
       "      <td>2023-07-18</td>\n",
       "      <td>2210</td>\n",
       "      <td>2230</td>\n",
       "      <td>2205</td>\n",
       "      <td>2225</td>\n",
       "      <td>18665</td>\n",
       "      <td>41498660</td>\n",
       "      <td>0.68</td>\n",
       "      <td>406760</td>\n",
       "    </tr>\n",
       "    <tr>\n",
       "      <th>345</th>\n",
       "      <td>2023-07-19</td>\n",
       "      <td>2215</td>\n",
       "      <td>2240</td>\n",
       "      <td>2215</td>\n",
       "      <td>2225</td>\n",
       "      <td>34347</td>\n",
       "      <td>76254150</td>\n",
       "      <td>0.00</td>\n",
       "      <td>406760</td>\n",
       "    </tr>\n",
       "    <tr>\n",
       "      <th>346</th>\n",
       "      <td>2023-07-20</td>\n",
       "      <td>2230</td>\n",
       "      <td>2235</td>\n",
       "      <td>2195</td>\n",
       "      <td>2225</td>\n",
       "      <td>12860</td>\n",
       "      <td>28684545</td>\n",
       "      <td>0.00</td>\n",
       "      <td>406760</td>\n",
       "    </tr>\n",
       "    <tr>\n",
       "      <th>347</th>\n",
       "      <td>2023-07-21</td>\n",
       "      <td>2235</td>\n",
       "      <td>2235</td>\n",
       "      <td>2190</td>\n",
       "      <td>2215</td>\n",
       "      <td>19522</td>\n",
       "      <td>42868590</td>\n",
       "      <td>-0.45</td>\n",
       "      <td>406760</td>\n",
       "    </tr>\n",
       "  </tbody>\n",
       "</table>\n",
       "<p>348 rows × 9 columns</p>\n",
       "</div>"
      ],
      "text/plain": [
       "          date  open  high   low  close   volume  trading_value  \\\n",
       "0   2022-02-25  2080  2100  2080   2090  2983467     6223536400   \n",
       "1   2022-02-28  2095  2100  2085   2090   246163      515036135   \n",
       "2   2022-03-02  2090  2105  2085   2095   152902      320541570   \n",
       "3   2022-03-03  2090  2100  2090   2095   148411      311153110   \n",
       "4   2022-03-04  2095  2100  2090   2090    58665      122981975   \n",
       "..         ...   ...   ...   ...    ...      ...            ...   \n",
       "343 2023-07-17  2215  2220  2195   2210     5202       11473335   \n",
       "344 2023-07-18  2210  2230  2205   2225    18665       41498660   \n",
       "345 2023-07-19  2215  2240  2215   2225    34347       76254150   \n",
       "346 2023-07-20  2230  2235  2195   2225    12860       28684545   \n",
       "347 2023-07-21  2235  2235  2190   2215    19522       42868590   \n",
       "\n",
       "     price_change_percentage  ticker  \n",
       "0                       0.48  406760  \n",
       "1                       0.00  406760  \n",
       "2                       0.24  406760  \n",
       "3                       0.00  406760  \n",
       "4                      -0.24  406760  \n",
       "..                       ...     ...  \n",
       "343                    -0.23  406760  \n",
       "344                     0.68  406760  \n",
       "345                     0.00  406760  \n",
       "346                     0.00  406760  \n",
       "347                    -0.45  406760  \n",
       "\n",
       "[348 rows x 9 columns]"
      ]
     },
     "execution_count": 34,
     "metadata": {},
     "output_type": "execute_result"
    }
   ],
   "source": [
    "df_raw"
   ]
  },
  {
   "cell_type": "code",
   "execution_count": null,
   "id": "ff7f7bc7",
   "metadata": {},
   "outputs": [],
   "source": []
  },
  {
   "cell_type": "code",
   "execution_count": null,
   "id": "f8a96995",
   "metadata": {},
   "outputs": [],
   "source": []
  },
  {
   "cell_type": "markdown",
   "id": "f7f30848",
   "metadata": {},
   "source": [
    "## 종목별 시가총액"
   ]
  },
  {
   "cell_type": "code",
   "execution_count": 8,
   "id": "5c5de5c9",
   "metadata": {},
   "outputs": [
    {
     "data": {
      "text/html": [
       "<div>\n",
       "<style scoped>\n",
       "    .dataframe tbody tr th:only-of-type {\n",
       "        vertical-align: middle;\n",
       "    }\n",
       "\n",
       "    .dataframe tbody tr th {\n",
       "        vertical-align: top;\n",
       "    }\n",
       "\n",
       "    .dataframe thead th {\n",
       "        text-align: right;\n",
       "    }\n",
       "</style>\n",
       "<table border=\"1\" class=\"dataframe\">\n",
       "  <thead>\n",
       "    <tr style=\"text-align: right;\">\n",
       "      <th></th>\n",
       "      <th>시가총액</th>\n",
       "      <th>상장주식수</th>\n",
       "    </tr>\n",
       "    <tr>\n",
       "      <th>날짜</th>\n",
       "      <th></th>\n",
       "      <th></th>\n",
       "    </tr>\n",
       "  </thead>\n",
       "  <tbody>\n",
       "    <tr>\n",
       "      <th>2023-07-11</th>\n",
       "      <td>250246427290</td>\n",
       "      <td>13247561</td>\n",
       "    </tr>\n",
       "    <tr>\n",
       "      <th>2023-07-12</th>\n",
       "      <td>264156366340</td>\n",
       "      <td>13247561</td>\n",
       "    </tr>\n",
       "    <tr>\n",
       "      <th>2023-07-13</th>\n",
       "      <td>264686268780</td>\n",
       "      <td>13247561</td>\n",
       "    </tr>\n",
       "    <tr>\n",
       "      <th>2023-07-14</th>\n",
       "      <td>265613598050</td>\n",
       "      <td>13247561</td>\n",
       "    </tr>\n",
       "    <tr>\n",
       "      <th>2023-07-17</th>\n",
       "      <td>272237378550</td>\n",
       "      <td>13247561</td>\n",
       "    </tr>\n",
       "  </tbody>\n",
       "</table>\n",
       "</div>"
      ],
      "text/plain": [
       "                    시가총액     상장주식수\n",
       "날짜                                \n",
       "2023-07-11  250246427290  13247561\n",
       "2023-07-12  264156366340  13247561\n",
       "2023-07-13  264686268780  13247561\n",
       "2023-07-14  265613598050  13247561\n",
       "2023-07-17  272237378550  13247561"
      ]
     },
     "execution_count": 8,
     "metadata": {},
     "output_type": "execute_result"
    }
   ],
   "source": [
    "df_raw = stock.get_market_cap('2023-07-11', today_date1, ticker_nm)\n",
    "df_raw = df_raw.drop(['거래량', '거래대금'], axis = 1)\n",
    "df_raw.head()"
   ]
  },
  {
   "cell_type": "code",
   "execution_count": 9,
   "id": "8ef8f841",
   "metadata": {},
   "outputs": [
    {
     "name": "stderr",
     "output_type": "stream",
     "text": [
      "100%|██████████| 1/1 [00:00<00:00, 3045.97it/s]\n"
     ]
    },
    {
     "name": "stdout",
     "output_type": "stream",
     "text": [
      "095570 success\n"
     ]
    },
    {
     "name": "stderr",
     "output_type": "stream",
     "text": [
      "100%|██████████| 1/1 [00:00<00:00, 9058.97it/s]"
     ]
    },
    {
     "name": "stdout",
     "output_type": "stream",
     "text": [
      "006840 success\n"
     ]
    },
    {
     "name": "stderr",
     "output_type": "stream",
     "text": [
      "\n"
     ]
    }
   ],
   "source": [
    "for ticker_nm in kor_ticker_list[:2]:\n",
    "    file_name = 'kor_market_cap'\n",
    "    \n",
    "    try:\n",
    "        df_raw = stock.get_market_cap(start_date, today_date1, ticker_nm)\n",
    "        df_raw = df_raw.reset_index()\n",
    "        df_raw['ticker'] = ticker_nm\n",
    "        df_raw = df_raw.drop(['거래량', '거래대금'], axis = 1)\n",
    "        df_raw.columns = ['date', 'market_cap', 'outstanding_shares', 'ticker']\n",
    "        \n",
    "        # 빅쿼리 데이터 적재\n",
    "        df_raw.to_gbq(destination_table=f'{project_id}.{dataset_id}.{file_name}',\n",
    "          project_id=project_id,\n",
    "          if_exists='append',\n",
    "          credentials=credentials)\n",
    "        \n",
    "        # Postgresql 적재\n",
    "        df_raw.to_sql(f'{file_name}',if_exists='append', con=engine,  index=False)\n",
    "        \n",
    "        if not os.path.exists(f'data_crawler/{file_name}.csv'):\n",
    "            df_raw.to_csv(f'data_crawler/{file_name}.csv', index=False, mode='w')\n",
    "        else:\n",
    "            df_raw.to_csv(f'data_crawler/{file_name}.csv', index=False, mode='a', header=False)\n",
    "        \n",
    "        print(f'{ticker_nm} success')\n",
    "    except:\n",
    "        print(f'{ticker_nm} fail')  \n",
    "\n",
    "bucket_name = 'finance-mlops'    # 서비스 계정 생성한 bucket 이름 입력\n",
    "source_file_name = f'data_crawler/{file_name}.csv'    # GCP에 업로드할 파일 절대경로\n",
    "destination_blob_name = f'data_crawler/{file_name}/{file_name}.csv'    # 업로드할 파일을 GCP에 저장할 때의 이름\n",
    "\n",
    "bucket = storage_client.bucket(bucket_name)\n",
    "blob = bucket.blob(destination_blob_name)\n",
    "\n",
    "blob.upload_from_filename(source_file_name)        "
   ]
  },
  {
   "cell_type": "markdown",
   "id": "8214af8d",
   "metadata": {},
   "source": [
    "## 종목별 DIV/BPS/PER/EPS"
   ]
  },
  {
   "cell_type": "code",
   "execution_count": 10,
   "id": "d4865d76",
   "metadata": {},
   "outputs": [
    {
     "name": "stderr",
     "output_type": "stream",
     "text": [
      "100%|██████████| 1/1 [00:00<00:00, 3901.68it/s]\n"
     ]
    },
    {
     "name": "stdout",
     "output_type": "stream",
     "text": [
      "095570 success\n"
     ]
    },
    {
     "name": "stderr",
     "output_type": "stream",
     "text": [
      "100%|██████████| 1/1 [00:00<00:00, 3486.54it/s]"
     ]
    },
    {
     "name": "stdout",
     "output_type": "stream",
     "text": [
      "006840 success\n"
     ]
    },
    {
     "name": "stderr",
     "output_type": "stream",
     "text": [
      "\n"
     ]
    }
   ],
   "source": [
    "for ticker_nm in kor_ticker_list[:2]:\n",
    "    file_name = 'kor_stock_fundamental'\n",
    "    \n",
    "    try:\n",
    "        df_raw = stock.get_market_fundamental(start_date, today_date1, ticker_nm)\n",
    "        df_raw = df_raw.reset_index()\n",
    "        df_raw['ticker'] = ticker_nm\n",
    "        df_raw.columns = ['date', 'bps', 'per', 'pbr', 'eps', 'div', 'dps', 'ticker']\n",
    "        \n",
    "        # 빅쿼리 데이터 적재\n",
    "        df_raw.to_gbq(destination_table=f'{project_id}.{dataset_id}.{file_name}',\n",
    "          project_id=project_id,\n",
    "          if_exists='append',\n",
    "          credentials=credentials)\n",
    "        \n",
    "        # Postgresql 적재\n",
    "        df_raw.to_sql(f'{file_name}',if_exists='append', con=engine,  index=False)\n",
    "        \n",
    "        if not os.path.exists(f'data_crawler/{file_name}.csv'):\n",
    "            df_raw.to_csv(f'data_crawler/{file_name}.csv', index=False, mode='w')\n",
    "        else:\n",
    "            df_raw.to_csv(f'data_crawler/{file_name}.csv', index=False, mode='a', header=False)\n",
    "        \n",
    "        print(f'{ticker_nm} success')\n",
    "    except:\n",
    "        print(f'{ticker_nm} fail')   \n",
    "\n",
    "bucket_name = 'finance-mlops'    # 서비스 계정 생성한 bucket 이름 입력\n",
    "source_file_name = f'data_crawler/{file_name}.csv'    # GCP에 업로드할 파일 절대경로\n",
    "destination_blob_name = f'data_crawler/{file_name}/{file_name}.csv'    # 업로드할 파일을 GCP에 저장할 때의 이름\n",
    "\n",
    "bucket = storage_client.bucket(bucket_name)\n",
    "blob = bucket.blob(destination_blob_name)\n",
    "\n",
    "blob.upload_from_filename(source_file_name)        "
   ]
  },
  {
   "cell_type": "markdown",
   "id": "a3ef3350",
   "metadata": {},
   "source": [
    "##  일자별 거래실적 추이 (거래대금)"
   ]
  },
  {
   "cell_type": "code",
   "execution_count": 11,
   "id": "8e28bc68",
   "metadata": {},
   "outputs": [
    {
     "name": "stderr",
     "output_type": "stream",
     "text": [
      "100%|██████████| 1/1 [00:00<00:00, 9039.45it/s]\n"
     ]
    },
    {
     "name": "stdout",
     "output_type": "stream",
     "text": [
      "095570 success\n"
     ]
    },
    {
     "name": "stderr",
     "output_type": "stream",
     "text": [
      "100%|██████████| 1/1 [00:00<00:00, 2657.99it/s]\n"
     ]
    },
    {
     "name": "stdout",
     "output_type": "stream",
     "text": [
      "095570 success\n"
     ]
    },
    {
     "name": "stderr",
     "output_type": "stream",
     "text": [
      "100%|██████████| 1/1 [00:00<00:00, 1923.11it/s]"
     ]
    },
    {
     "name": "stdout",
     "output_type": "stream",
     "text": [
      "095570 success\n"
     ]
    },
    {
     "name": "stderr",
     "output_type": "stream",
     "text": [
      "\n"
     ]
    }
   ],
   "source": [
    "buy_sell_type_list = ['순매수', '매수', '매도']\n",
    "for buy_sell_type in buy_sell_type_list:\n",
    "    for ticker_nm in kor_ticker_list[:1]:\n",
    "        file_name = 'kor_stock_trading_value_by_investor'\n",
    "        try:\n",
    "            df_raw = stock.get_market_trading_value_by_date(start_date, today_date1, \n",
    "                                                                             ticker_nm, \n",
    "                                                                             detail=True,\n",
    "                                                                             on = buy_sell_type)\n",
    "            df_raw = df_raw.reset_index()\n",
    "            df_raw['ticker'] = ticker_nm\n",
    "            df_raw['type'] = buy_sell_type\n",
    "            df_raw.columns = [\n",
    "                'date', \n",
    "                'financial_investment', 'insurance', 'investment', 'private_equity', 'bank','other_finance', 'pension_fund', # 기관합계 \n",
    "                'other_corporation', # 기타 법인\n",
    "                'individual',# 개인\n",
    "                'foreigner', 'other_foreigner', # 외국인 합계\n",
    "                'total', \n",
    "                'ticker', 'type'\n",
    "            ]\n",
    "\n",
    "            # 빅쿼리 데이터 적재\n",
    "            df_raw.to_gbq(destination_table=f'{project_id}.{dataset_id}.{file_name}',\n",
    "              project_id=project_id,\n",
    "              if_exists='append',\n",
    "              credentials=credentials)\n",
    "\n",
    "            # Postgresql 적재\n",
    "            df_raw.to_sql(f'{file_name}',if_exists='append', con=engine,  index=False)            \n",
    "            \n",
    "            if not os.path.exists(f'data_crawler/{file_name}.csv'):\n",
    "                df_raw.to_csv(f'data_crawler/{file_name}.csv', index=False, mode='w')\n",
    "            else:\n",
    "                df_raw.to_csv(f'data_crawler/{file_name}.csv', index=False, mode='a', header=False)\n",
    "        \n",
    "            print(f'{ticker_nm} success')\n",
    "        except:\n",
    "            print(f'{ticker_nm} fail')    \n",
    "#     time.sleep(300)\n",
    "\n",
    "\n",
    "bucket_name = 'finance-mlops'    # 서비스 계정 생성한 bucket 이름 입력\n",
    "source_file_name = f'data_crawler/{file_name}.csv'    # GCP에 업로드할 파일 절대경로\n",
    "destination_blob_name = f'data_crawler/{file_name}/{file_name}.csv'    # 업로드할 파일을 GCP에 저장할 때의 이름\n",
    "\n",
    "bucket = storage_client.bucket(bucket_name)\n",
    "blob = bucket.blob(destination_blob_name)\n",
    "\n",
    "blob.upload_from_filename(source_file_name)"
   ]
  },
  {
   "cell_type": "markdown",
   "id": "85a86fb6",
   "metadata": {},
   "source": [
    "## 일자별 거래실적 추이 (거래량)"
   ]
  },
  {
   "cell_type": "code",
   "execution_count": 12,
   "id": "db3715c3",
   "metadata": {},
   "outputs": [
    {
     "name": "stderr",
     "output_type": "stream",
     "text": [
      "100%|██████████| 1/1 [00:00<00:00, 8507.72it/s]\n"
     ]
    },
    {
     "name": "stdout",
     "output_type": "stream",
     "text": [
      "095570 success\n"
     ]
    },
    {
     "name": "stderr",
     "output_type": "stream",
     "text": [
      "100%|██████████| 1/1 [00:00<00:00, 9554.22it/s]\n"
     ]
    },
    {
     "name": "stdout",
     "output_type": "stream",
     "text": [
      "095570 success\n"
     ]
    },
    {
     "name": "stderr",
     "output_type": "stream",
     "text": [
      "100%|██████████| 1/1 [00:00<00:00, 8594.89it/s]"
     ]
    },
    {
     "name": "stdout",
     "output_type": "stream",
     "text": [
      "095570 success\n"
     ]
    },
    {
     "name": "stderr",
     "output_type": "stream",
     "text": [
      "\n"
     ]
    }
   ],
   "source": [
    "buy_sell_type_list = ['순매수', '매수', '매도']\n",
    "for buy_sell_type in buy_sell_type_list:\n",
    "    for ticker_nm in kor_ticker_list[:1]:\n",
    "        file_name = 'kor_stock_trading_volume_by_date'\n",
    "        try:\n",
    "            df_raw = stock.get_market_trading_volume_by_date(start_date, today_date1, \n",
    "                                                                             ticker_nm, \n",
    "                                                                             detail=True,\n",
    "                                                                             on = buy_sell_type)\n",
    "            df_raw = df_raw.reset_index()\n",
    "            df_raw['ticker'] = ticker_nm\n",
    "            df_raw['type'] = buy_sell_type\n",
    "            df_raw.columns = [\n",
    "                'date', \n",
    "                'financial_investment', 'insurance', 'investment', 'private_equity', 'bank','other_finance', 'pension_fund', # 기관합계 \n",
    "                'other_corporation', # 기타 법인\n",
    "                'individual',# 개인\n",
    "                'foreigner', 'other_foreigner', # 외국인 합계\n",
    "                'total', \n",
    "                'ticker', 'type'\n",
    "            ]\n",
    "\n",
    "            # 빅쿼리 데이터 적재\n",
    "            df_raw.to_gbq(destination_table=f'{project_id}.{dataset_id}.{file_name}',\n",
    "              project_id=project_id,\n",
    "              if_exists='append',\n",
    "              credentials=credentials)\n",
    "\n",
    "            # Postgresql 적재\n",
    "            df_raw.to_sql(f'{file_name}',if_exists='append', con=engine,  index=False)            \n",
    "            \n",
    "            if not os.path.exists(f'data_crawler/{file_name}.csv'):\n",
    "                df_raw.to_csv(f'data_crawler/{file_name}.csv', index=False, mode='w')\n",
    "            else:\n",
    "                df_raw.to_csv(f'data_crawler/{file_name}.csv', index=False, mode='a', header=False)\n",
    "        \n",
    "            print(f'{ticker_nm} success')\n",
    "        except:\n",
    "            print(f'{ticker_nm} fail')    \n",
    "#     time.sleep(300)\n",
    "\n",
    "\n",
    "bucket_name = 'finance-mlops'    # 서비스 계정 생성한 bucket 이름 입력\n",
    "source_file_name = f'data_crawler/{file_name}.csv'    # GCP에 업로드할 파일 절대경로\n",
    "destination_blob_name = f'data_crawler/{file_name}/{file_name}.csv'    # 업로드할 파일을 GCP에 저장할 때의 이름\n",
    "\n",
    "bucket = storage_client.bucket(bucket_name)\n",
    "blob = bucket.blob(destination_blob_name)\n",
    "\n",
    "blob.upload_from_filename(source_file_name)"
   ]
  },
  {
   "cell_type": "code",
   "execution_count": 13,
   "id": "28e436d0",
   "metadata": {},
   "outputs": [],
   "source": [
    "df_raw = stock.get_market_trading_volume_by_date(start_date, today_date1, \n",
    "                                                                 ticker_nm, \n",
    "                                                                 detail=True,\n",
    "                                                                 on = buy_sell_type)\n",
    "df_raw = df_raw.reset_index()\n",
    "df_raw['ticker'] = ticker_nm\n",
    "df_raw['type'] = buy_sell_type"
   ]
  },
  {
   "cell_type": "markdown",
   "id": "756fcea7",
   "metadata": {},
   "source": [
    "# 인덱스 정보\n",
    "\n",
    "## 인덱스 리스트"
   ]
  },
  {
   "cell_type": "code",
   "execution_count": 15,
   "id": "adb27f75",
   "metadata": {},
   "outputs": [
    {
     "name": "stderr",
     "output_type": "stream",
     "text": [
      "100%|██████████| 1/1 [00:00<00:00, 8594.89it/s]\n"
     ]
    }
   ],
   "source": [
    "kor_index_list_df = pd.DataFrame()\n",
    "market_list = ['KOSPI', 'KOSDAQ'] \n",
    " \n",
    "for market_nm in market_list:\n",
    "    kor_index_list = stock.get_index_ticker_list(market=market_nm)\n",
    "    for index_codes in kor_index_list:\n",
    "        index_name = stock.get_index_ticker_name(index_codes)\n",
    "        df = pd.DataFrame({'index_code':index_codes,\n",
    "                           'index_code_nm':index_name,\n",
    "                           'market': market_nm\n",
    "                          }, index = [0])\n",
    "        kor_index_list_df = pd.concat([kor_index_list_df,df])\n",
    "        \n",
    "kor_index_list_df = kor_index_list_df.reset_index(drop = True)\n",
    "kor_index_list_df.head()\n",
    "\n",
    "\n",
    "file_name = 'kor_index_list_df'\n",
    "# 빅쿼리 데이터 적재\n",
    "kor_index_list_df.to_gbq(destination_table=f'{project_id}.{dataset_id}.{file_name}',\n",
    "  project_id=project_id,\n",
    "  if_exists='replace',\n",
    "  credentials=credentials)\n",
    "\n",
    "# Postgresql 적재\n",
    "kor_index_list_df.to_sql(f'{file_name}',if_exists='replace', con=engine,  index=False)\n",
    "\n",
    "kor_index_list_df.head()\n",
    "kor_index_list_df.to_csv(f'data_crawler/{file_name}.csv', index=False, mode='w')\n",
    "\n",
    "\n",
    "bucket_name = 'finance-mlops'    # 서비스 계정 생성한 bucket 이름 입력\n",
    "source_file_name = f'data_crawler/{file_name}.csv'    # GCP에 업로드할 파일 절대경로\n",
    "destination_blob_name = f'data_crawler/{file_name}/{file_name}.csv'    # 업로드할 파일을 GCP에 저장할 때의 이름\n",
    "\n",
    "bucket = storage_client.bucket(bucket_name)\n",
    "blob = bucket.blob(destination_blob_name)\n",
    "blob.upload_from_filename(source_file_name)\n",
    "\n",
    "\n",
    "kor_index_code_list  = kor_index_list_df['index_code']"
   ]
  },
  {
   "cell_type": "markdown",
   "id": "2518bf45",
   "metadata": {},
   "source": [
    "## 인덱스 OHLCV 조회"
   ]
  },
  {
   "cell_type": "code",
   "execution_count": 16,
   "id": "a440c14d",
   "metadata": {},
   "outputs": [
    {
     "name": "stderr",
     "output_type": "stream",
     "text": [
      "100%|██████████| 1/1 [00:00<00:00, 6069.90it/s]\n"
     ]
    },
    {
     "name": "stdout",
     "output_type": "stream",
     "text": [
      "1001 success\n"
     ]
    },
    {
     "name": "stderr",
     "output_type": "stream",
     "text": [
      "100%|██████████| 1/1 [00:00<00:00, 3393.45it/s]"
     ]
    },
    {
     "name": "stdout",
     "output_type": "stream",
     "text": [
      "1002 success\n"
     ]
    },
    {
     "name": "stderr",
     "output_type": "stream",
     "text": [
      "\n"
     ]
    }
   ],
   "source": [
    "for index_code in kor_index_code_list[:2]:\n",
    "    file_name = 'kor_index_ohlcv'\n",
    "    \n",
    "    try:\n",
    "        df_raw = stock.get_index_ohlcv(start_date, today_date1, index_code)\n",
    "        df_raw = df_raw.reset_index()\n",
    "        df_raw['index_code'] = index_code\n",
    "        df_raw.columns = ['date', 'open', 'high', 'low', 'close', 'volume', 'trading_value', 'market_cap', 'index_code']\n",
    "\n",
    "        # 빅쿼리 데이터 적재\n",
    "        df_raw.to_gbq(destination_table=f'{project_id}.{dataset_id}.{file_name}',\n",
    "          project_id=project_id,\n",
    "          if_exists='append',\n",
    "          credentials=credentials)\n",
    "        \n",
    "        # Postgresql 적재\n",
    "        df_raw.to_sql(f'{file_name}',if_exists='append', con=engine,  index=False)\n",
    "        \n",
    "        if not os.path.exists(f'data_crawler/{file_name}.csv'):\n",
    "            df_raw.to_csv(f'data_crawler/{file_name}.csv', index=False, mode='w')\n",
    "        else:\n",
    "            df_raw.to_csv(f'data_crawler/{file_name}.csv', index=False, mode='a', header=False)\n",
    "        \n",
    "        print(f'{index_code} success')\n",
    "    except:\n",
    "        print(f'{index_code} fail')   \n",
    "        \n",
    "bucket_name = 'finance-mlops'    # 서비스 계정 생성한 bucket 이름 입력\n",
    "source_file_name = f'data_crawler/{file_name}.csv'    # GCP에 업로드할 파일 절대경로\n",
    "destination_blob_name = f'data_crawler/{file_name}/{file_name}.csv'    # 업로드할 파일을 GCP에 저장할 때의 이름\n",
    "\n",
    "bucket = storage_client.bucket(bucket_name)\n",
    "blob = bucket.blob(destination_blob_name)\n",
    "blob.upload_from_filename(source_file_name)        "
   ]
  },
  {
   "cell_type": "markdown",
   "id": "1b6c5c9f",
   "metadata": {},
   "source": [
    "## 인덱스 등락률"
   ]
  },
  {
   "cell_type": "code",
   "execution_count": 17,
   "id": "a179c689",
   "metadata": {},
   "outputs": [
    {
     "name": "stderr",
     "output_type": "stream",
     "text": [
      "100%|██████████| 1/1 [00:00<00:00, 3228.87it/s]\n"
     ]
    },
    {
     "name": "stdout",
     "output_type": "stream",
     "text": [
      "1001 success\n"
     ]
    },
    {
     "name": "stderr",
     "output_type": "stream",
     "text": [
      "100%|██████████| 1/1 [00:00<00:00, 3751.61it/s]"
     ]
    },
    {
     "name": "stdout",
     "output_type": "stream",
     "text": [
      "1002 success\n"
     ]
    },
    {
     "name": "stderr",
     "output_type": "stream",
     "text": [
      "\n"
     ]
    }
   ],
   "source": [
    "for index_code in kor_index_code_list[:2]:\n",
    "    file_name = 'kor_index_code_fundamental'\n",
    "    \n",
    "    try:\n",
    "        df_raw = stock.get_index_fundamental(start_date, today_date1, index_code)\n",
    "        df_raw = df_raw.reset_index()\n",
    "        df_raw['index_code'] = index_code\n",
    "        df_raw.columns = ['date', 'close', 'price_change_percentage', 'per', 'porward_per', 'pbr', 'dividend_yield', 'index_code']\n",
    "\n",
    "        # 빅쿼리 데이터 적재\n",
    "        df_raw.to_gbq(destination_table=f'{project_id}.{dataset_id}.{file_name}',\n",
    "          project_id=project_id,\n",
    "          if_exists='append',\n",
    "          credentials=credentials)\n",
    "        \n",
    "        # Postgresql 적재\n",
    "        df_raw.to_sql(f'{file_name}',if_exists='append', con=engine,  index=False)\n",
    "        \n",
    "        if not os.path.exists(f'data_crawler/{file_name}.csv'):\n",
    "            df_raw.to_csv(f'data_crawler/{file_name}.csv', index=False, mode='w')\n",
    "        else:\n",
    "            df_raw.to_csv(f'data_crawler/{file_name}.csv', index=False, mode='a', header=False)\n",
    "        \n",
    "        print(f'{index_code} success')\n",
    "    except:\n",
    "        print(f'{index_code} fail')   \n",
    "        \n",
    "bucket_name = 'finance-mlops'    # 서비스 계정 생성한 bucket 이름 입력\n",
    "source_file_name = f'data_crawler/{file_name}.csv'    # GCP에 업로드할 파일 절대경로\n",
    "destination_blob_name = f'data_crawler/{file_name}/{file_name}.csv'    # 업로드할 파일을 GCP에 저장할 때의 이름\n",
    "\n",
    "bucket = storage_client.bucket(bucket_name)\n",
    "blob = bucket.blob(destination_blob_name)\n",
    "blob.upload_from_filename(source_file_name)        "
   ]
  },
  {
   "cell_type": "markdown",
   "id": "43d37236",
   "metadata": {},
   "source": [
    "## 인덱스 구성 종목"
   ]
  },
  {
   "cell_type": "code",
   "execution_count": 18,
   "id": "ca0b83d1",
   "metadata": {},
   "outputs": [],
   "source": [
    "index_code_info = pd.DataFrame()\n",
    "for index_code in kor_index_code_list[:2]:\n",
    "    pdf = stock.get_index_portfolio_deposit_file(str(index_code))\n",
    "    df = pd.DataFrame({'ticker':pdf,\n",
    "                       'index_code': str(index_code)})\n",
    "    index_code_info = pd.concat([index_code_info, df])\n",
    "index_code_info = index_code_info.reset_index(drop = True)"
   ]
  },
  {
   "cell_type": "code",
   "execution_count": 19,
   "id": "eed953e2",
   "metadata": {},
   "outputs": [
    {
     "data": {
      "text/html": [
       "<div>\n",
       "<style scoped>\n",
       "    .dataframe tbody tr th:only-of-type {\n",
       "        vertical-align: middle;\n",
       "    }\n",
       "\n",
       "    .dataframe tbody tr th {\n",
       "        vertical-align: top;\n",
       "    }\n",
       "\n",
       "    .dataframe thead th {\n",
       "        text-align: right;\n",
       "    }\n",
       "</style>\n",
       "<table border=\"1\" class=\"dataframe\">\n",
       "  <thead>\n",
       "    <tr style=\"text-align: right;\">\n",
       "      <th></th>\n",
       "      <th>ticker</th>\n",
       "      <th>index_code</th>\n",
       "      <th>index_code_nm</th>\n",
       "      <th>market</th>\n",
       "    </tr>\n",
       "  </thead>\n",
       "  <tbody>\n",
       "    <tr>\n",
       "      <th>0</th>\n",
       "      <td>005930</td>\n",
       "      <td>1001</td>\n",
       "      <td>코스피</td>\n",
       "      <td>KOSPI</td>\n",
       "    </tr>\n",
       "    <tr>\n",
       "      <th>1</th>\n",
       "      <td>373220</td>\n",
       "      <td>1001</td>\n",
       "      <td>코스피</td>\n",
       "      <td>KOSPI</td>\n",
       "    </tr>\n",
       "    <tr>\n",
       "      <th>2</th>\n",
       "      <td>000660</td>\n",
       "      <td>1001</td>\n",
       "      <td>코스피</td>\n",
       "      <td>KOSPI</td>\n",
       "    </tr>\n",
       "    <tr>\n",
       "      <th>3</th>\n",
       "      <td>207940</td>\n",
       "      <td>1001</td>\n",
       "      <td>코스피</td>\n",
       "      <td>KOSPI</td>\n",
       "    </tr>\n",
       "    <tr>\n",
       "      <th>4</th>\n",
       "      <td>051910</td>\n",
       "      <td>1001</td>\n",
       "      <td>코스피</td>\n",
       "      <td>KOSPI</td>\n",
       "    </tr>\n",
       "  </tbody>\n",
       "</table>\n",
       "</div>"
      ],
      "text/plain": [
       "   ticker index_code index_code_nm market\n",
       "0  005930       1001           코스피  KOSPI\n",
       "1  373220       1001           코스피  KOSPI\n",
       "2  000660       1001           코스피  KOSPI\n",
       "3  207940       1001           코스피  KOSPI\n",
       "4  051910       1001           코스피  KOSPI"
      ]
     },
     "execution_count": 19,
     "metadata": {},
     "output_type": "execute_result"
    }
   ],
   "source": [
    "index_code_info_2  = pd.merge(index_code_info, kor_index_list_df,\n",
    "        how = 'left',\n",
    "        on = 'index_code')\n",
    "        \n",
    "index_code_info_2.head()"
   ]
  },
  {
   "cell_type": "code",
   "execution_count": 20,
   "id": "f7017b26",
   "metadata": {},
   "outputs": [
    {
     "data": {
      "text/html": [
       "<div>\n",
       "<style scoped>\n",
       "    .dataframe tbody tr th:only-of-type {\n",
       "        vertical-align: middle;\n",
       "    }\n",
       "\n",
       "    .dataframe tbody tr th {\n",
       "        vertical-align: top;\n",
       "    }\n",
       "\n",
       "    .dataframe thead th {\n",
       "        text-align: right;\n",
       "    }\n",
       "</style>\n",
       "<table border=\"1\" class=\"dataframe\">\n",
       "  <thead>\n",
       "    <tr style=\"text-align: right;\">\n",
       "      <th></th>\n",
       "      <th>ticker</th>\n",
       "      <th>corp_name</th>\n",
       "      <th>market</th>\n",
       "    </tr>\n",
       "  </thead>\n",
       "  <tbody>\n",
       "    <tr>\n",
       "      <th>0</th>\n",
       "      <td>095570</td>\n",
       "      <td>AJ네트웍스</td>\n",
       "      <td>KOSPI</td>\n",
       "    </tr>\n",
       "    <tr>\n",
       "      <th>1</th>\n",
       "      <td>006840</td>\n",
       "      <td>AK홀딩스</td>\n",
       "      <td>KOSPI</td>\n",
       "    </tr>\n",
       "    <tr>\n",
       "      <th>2</th>\n",
       "      <td>027410</td>\n",
       "      <td>BGF</td>\n",
       "      <td>KOSPI</td>\n",
       "    </tr>\n",
       "    <tr>\n",
       "      <th>3</th>\n",
       "      <td>282330</td>\n",
       "      <td>BGF리테일</td>\n",
       "      <td>KOSPI</td>\n",
       "    </tr>\n",
       "    <tr>\n",
       "      <th>4</th>\n",
       "      <td>138930</td>\n",
       "      <td>BNK금융지주</td>\n",
       "      <td>KOSPI</td>\n",
       "    </tr>\n",
       "  </tbody>\n",
       "</table>\n",
       "</div>"
      ],
      "text/plain": [
       "   ticker corp_name market\n",
       "0  095570    AJ네트웍스  KOSPI\n",
       "1  006840     AK홀딩스  KOSPI\n",
       "2  027410       BGF  KOSPI\n",
       "3  282330    BGF리테일  KOSPI\n",
       "4  138930   BNK금융지주  KOSPI"
      ]
     },
     "execution_count": 20,
     "metadata": {},
     "output_type": "execute_result"
    }
   ],
   "source": [
    "kor_ticker_list_df = pd.read_csv(f'data_crawler/kor_ticker_list.csv')\n",
    "kor_ticker_list_df.head()"
   ]
  },
  {
   "cell_type": "code",
   "execution_count": 21,
   "id": "0acf064a",
   "metadata": {},
   "outputs": [
    {
     "name": "stderr",
     "output_type": "stream",
     "text": [
      "100%|██████████| 1/1 [00:00<00:00, 3666.35it/s]\n"
     ]
    }
   ],
   "source": [
    "index_code_master  = pd.merge(index_code_info_2, kor_ticker_list_df[['ticker','corp_name']],\n",
    "        how = 'left',\n",
    "        on = 'ticker')\n",
    "        \n",
    "index_code_master.head()\n",
    "\n",
    "file_name = 'index_code_master'\n",
    "# 빅쿼리 데이터 적재\n",
    "index_code_master.to_gbq(destination_table=f'{project_id}.{dataset_id}.{file_name}',\n",
    "  project_id=project_id,\n",
    "  if_exists='replace',\n",
    "  credentials=credentials)\n",
    "\n",
    "# Postgresql 적재\n",
    "index_code_master.to_sql(f'{file_name}',if_exists='replace', con=engine,  index=False)\n",
    "\n",
    "index_code_master.head()\n",
    "index_code_master.to_csv(f'data_crawler/{file_name}.csv', index=False, mode='w')\n",
    "\n",
    "\n",
    "bucket_name = 'finance-mlops'    # 서비스 계정 생성한 bucket 이름 입력\n",
    "source_file_name = f'data_crawler/{file_name}.csv'    # GCP에 업로드할 파일 절대경로\n",
    "destination_blob_name = f'data_crawler/{file_name}/{file_name}.csv'    # 업로드할 파일을 GCP에 저장할 때의 이름\n",
    "\n",
    "bucket = storage_client.bucket(bucket_name)\n",
    "blob = bucket.blob(destination_blob_name)\n",
    "\n",
    "blob.upload_from_filename(source_file_name)"
   ]
  },
  {
   "cell_type": "code",
   "execution_count": null,
   "id": "fbbda741",
   "metadata": {},
   "outputs": [],
   "source": []
  }
 ],
 "metadata": {
  "kernelspec": {
   "display_name": "Python 3 (ipykernel)",
   "language": "python",
   "name": "python3"
  },
  "language_info": {
   "codemirror_mode": {
    "name": "ipython",
    "version": 3
   },
   "file_extension": ".py",
   "mimetype": "text/x-python",
   "name": "python",
   "nbconvert_exporter": "python",
   "pygments_lexer": "ipython3",
   "version": "3.10.9"
  },
  "toc": {
   "base_numbering": 1,
   "nav_menu": {},
   "number_sections": true,
   "sideBar": true,
   "skip_h1_title": false,
   "title_cell": "Table of Contents",
   "title_sidebar": "Contents",
   "toc_cell": false,
   "toc_position": {
    "height": "calc(100% - 180px)",
    "left": "10px",
    "top": "150px",
    "width": "279.625px"
   },
   "toc_section_display": true,
   "toc_window_display": true
  }
 },
 "nbformat": 4,
 "nbformat_minor": 5
}
