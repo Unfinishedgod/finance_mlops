{
 "cells": [
  {
   "cell_type": "code",
   "execution_count": 1,
   "id": "6183050d",
   "metadata": {},
   "outputs": [
    {
     "ename": "FileNotFoundError",
     "evalue": "[Errno 2] No such file or directory: '/home/owenchoi07/finance_mlops'",
     "output_type": "error",
     "traceback": [
      "\u001b[0;31m---------------------------------------------------------------------------\u001b[0m",
      "\u001b[0;31mFileNotFoundError\u001b[0m                         Traceback (most recent call last)",
      "Cell \u001b[0;32mIn[1], line 16\u001b[0m\n\u001b[1;32m     12\u001b[0m \u001b[38;5;28;01mimport\u001b[39;00m \u001b[38;5;21;01mglob\u001b[39;00m\n\u001b[1;32m     15\u001b[0m \u001b[38;5;66;03m# 경로 변경\u001b[39;00m\n\u001b[0;32m---> 16\u001b[0m os\u001b[38;5;241m.\u001b[39mchdir(\u001b[38;5;124m'\u001b[39m\u001b[38;5;124m/home/owenchoi07/finance_mlops\u001b[39m\u001b[38;5;124m'\u001b[39m)\n",
      "\u001b[0;31mFileNotFoundError\u001b[0m: [Errno 2] No such file or directory: '/home/owenchoi07/finance_mlops'"
     ]
    }
   ],
   "source": [
    "import plotly.graph_objects as go\n",
    "\n",
    "import pandas as pd\n",
    "from pykrx import stock\n",
    "from pykrx import bond\n",
    "from time import sleep\n",
    "\n",
    "from datetime import datetime\n",
    "import os\n",
    "import time\n",
    "from plotly.subplots import make_subplots\n",
    "import glob\n",
    "\n",
    "\n",
    "# 경로 변경\n",
    "os.chdir('/home/owenchoi07/finance_mlops')"
   ]
  },
  {
   "cell_type": "code",
   "execution_count": null,
   "id": "870239e8",
   "metadata": {},
   "outputs": [],
   "source": []
  },
  {
   "cell_type": "code",
   "execution_count": null,
   "id": "3de3ce57",
   "metadata": {},
   "outputs": [],
   "source": []
  },
  {
   "cell_type": "code",
   "execution_count": null,
   "id": "6e09ca8f",
   "metadata": {},
   "outputs": [],
   "source": [
    "kor_stock_ohlcv = pd.read_csv('data_crawler/kor_stock_ohlcv.csv', dtype = {'ticker':object})\n",
    "kor_ticker_list = pd.read_csv('data_crawler/kor_ticker_list.csv')\n",
    "\n",
    "df1 = kor_stock_ohlcv[kor_stock_ohlcv['date'] == '2023-07-21']\n",
    "df1 = pd.merge(df1, kor_ticker_list, \n",
    "        on = 'ticker', \n",
    "        how = 'left')"
   ]
  },
  {
   "cell_type": "code",
   "execution_count": null,
   "id": "7f78754f",
   "metadata": {},
   "outputs": [],
   "source": [
    "kor_stock_fundamental = pd.read_csv('data_crawler/kor_stock_fundamental.csv', dtype = {'ticker':object})"
   ]
  },
  {
   "cell_type": "code",
   "execution_count": null,
   "id": "f6e03f10",
   "metadata": {},
   "outputs": [],
   "source": [
    "kor_stock_fundamental1 = pd.merge(kor_stock_fundamental, kor_ticker_list, \n",
    "        on = 'ticker', \n",
    "        how = 'left')"
   ]
  },
  {
   "cell_type": "code",
   "execution_count": null,
   "id": "03ffeefe",
   "metadata": {},
   "outputs": [],
   "source": [
    "kor_stock_fundamental1[\n",
    "    (kor_stock_fundamental1['per'] > 2.5) & \n",
    "    (kor_stock_fundamental1['per'] < 10) & \n",
    "    (kor_stock_fundamental1['date'] > '2023-01-01') & \n",
    "    (kor_stock_fundamental1['market'] == 'KOSPI')\n",
    "]"
   ]
  },
  {
   "cell_type": "code",
   "execution_count": null,
   "id": "0a831697",
   "metadata": {},
   "outputs": [],
   "source": [
    "kor_stock_ohlcv_095570_total = kor_stock_ohlcv[kor_stock_ohlcv['ticker'] == '095570']"
   ]
  },
  {
   "cell_type": "code",
   "execution_count": null,
   "id": "189733db",
   "metadata": {},
   "outputs": [],
   "source": [
    "kor_stock_ohlcv_095570  = kor_stock_ohlcv[kor_stock_ohlcv['ticker'] == '095570']"
   ]
  },
  {
   "cell_type": "code",
   "execution_count": null,
   "id": "a588a130",
   "metadata": {},
   "outputs": [],
   "source": [
    "kor_stock_ohlcv_095570 = kor_stock_ohlcv_095570.tail(90)"
   ]
  },
  {
   "cell_type": "markdown",
   "id": "d3aa8117",
   "metadata": {},
   "source": [
    "### 캔들차트\n",
    "\n",
    "- https://plotly.com/python/ohlc-charts/"
   ]
  },
  {
   "cell_type": "code",
   "execution_count": null,
   "id": "6c819f11",
   "metadata": {},
   "outputs": [],
   "source": [
    "fig = go.Figure(\n",
    "    data=go.Candlestick(\n",
    "        x=kor_stock_ohlcv_095570['date'],\n",
    "        open=kor_stock_ohlcv_095570['open'],\n",
    "        high=kor_stock_ohlcv_095570['high'],\n",
    "        low=kor_stock_ohlcv_095570['low'],\n",
    "        close=kor_stock_ohlcv_095570['close'],\n",
    "        increasing_line_color= 'red', decreasing_line_color= 'blue')\n",
    ")\n",
    "\n",
    "\n",
    "\n",
    "\n",
    "fig.update_layout(\n",
    "    title = 'asdf',\n",
    "#     title= f'{sig_area} 시군구별 {type_nm} 매매(실거래가)/전월세(보증금) 거래량',\n",
    "    title_font_family=\"맑은고딕\",\n",
    "    title_font_size = 18,\n",
    "    hoverlabel=dict(\n",
    "#         bgcolor='white',\n",
    "        bgcolor='black',\n",
    "        font_size=15,\n",
    "    ),\n",
    "    hovermode=\"x unified\",\n",
    "#     hovermode=\"x\",    \n",
    "#     template='plotly_white', \n",
    "    template='plotly_dark',\n",
    "    xaxis_tickangle=90,\n",
    "    yaxis_tickformat = ',',\n",
    "    legend = dict(orientation = 'h', xanchor = \"center\", x = 0.85, y= 1.1), \n",
    "    barmode='group'\n",
    ")\n",
    "    \n",
    "fig.update_layout(margin=go.layout.Margin(\n",
    "        l=10, #left margin\n",
    "        r=10, #right margin\n",
    "        b=10, #bottom margin\n",
    "        t=50  #top margin\n",
    "    ))\n",
    "    \n",
    "fig.show()"
   ]
  },
  {
   "cell_type": "code",
   "execution_count": null,
   "id": "eec1b89c",
   "metadata": {},
   "outputs": [],
   "source": [
    "# fig = go.Figure(\n",
    "#     data=go.Candlestick(\n",
    "#         x=kor_stock_ohlcv_095570['date'],\n",
    "#         open=kor_stock_ohlcv_095570['open'],\n",
    "#         high=kor_stock_ohlcv_095570['high'],\n",
    "#         low=kor_stock_ohlcv_095570['low'],\n",
    "#         close=kor_stock_ohlcv_095570['close'],\n",
    "#         increasing_line_color= 'red', decreasing_line_color= 'blue')\n",
    "# )\n",
    "\n",
    "fig = go.Figure([go.Scatter(x=kor_stock_ohlcv_095570_total['date'], y=kor_stock_ohlcv_095570_total['close'])])\n",
    "\n",
    "\n",
    "\n",
    "fig.update_layout(\n",
    "    title = 'asdf',\n",
    "#     title= f'{sig_area} 시군구별 {type_nm} 매매(실거래가)/전월세(보증금) 거래량',\n",
    "    title_font_family=\"맑은고딕\",\n",
    "    title_font_size = 18,\n",
    "    hoverlabel=dict(\n",
    "#         bgcolor='white',\n",
    "        bgcolor='black',\n",
    "        font_size=15,\n",
    "    ),\n",
    "#     hovermode=\"x unified\",\n",
    "    hovermode=\"x\",    \n",
    "#     template='plotly_white', \n",
    "    template='plotly_dark',\n",
    "    xaxis_tickangle=90,\n",
    "    yaxis_tickformat = ',',\n",
    "    legend = dict(orientation = 'h', xanchor = \"center\", x = 0.85, y= 1.1), \n",
    "    barmode='group'\n",
    ")\n",
    "    \n",
    "fig.update_layout(margin=go.layout.Margin(\n",
    "        l=10, #left margin\n",
    "        r=10, #right margin\n",
    "        b=10, #bottom margin\n",
    "        t=50  #top margin\n",
    "    ))\n",
    "    \n",
    "fig.show()"
   ]
  },
  {
   "cell_type": "code",
   "execution_count": null,
   "id": "0215d61d",
   "metadata": {},
   "outputs": [],
   "source": []
  },
  {
   "cell_type": "code",
   "execution_count": null,
   "id": "85ee4e6f",
   "metadata": {},
   "outputs": [],
   "source": []
  },
  {
   "cell_type": "markdown",
   "id": "8b7b9c92",
   "metadata": {},
   "source": [
    "### ㅁㄴㅇㄹ"
   ]
  },
  {
   "cell_type": "markdown",
   "id": "17166057",
   "metadata": {},
   "source": [
    "### 메모"
   ]
  },
  {
   "cell_type": "code",
   "execution_count": null,
   "id": "b531a310",
   "metadata": {},
   "outputs": [],
   "source": []
  },
  {
   "cell_type": "code",
   "execution_count": null,
   "id": "88f9afd1",
   "metadata": {},
   "outputs": [],
   "source": []
  },
  {
   "cell_type": "code",
   "execution_count": 11,
   "id": "6321e7d2",
   "metadata": {},
   "outputs": [
    {
     "ename": "NameError",
     "evalue": "name 'plotly' is not defined",
     "output_type": "error",
     "traceback": [
      "\u001b[0;31m---------------------------------------------------------------------------\u001b[0m",
      "\u001b[0;31mNameError\u001b[0m                                 Traceback (most recent call last)",
      "Cell \u001b[0;32mIn[11], line 1\u001b[0m\n\u001b[0;32m----> 1\u001b[0m fig \u001b[38;5;241m=\u001b[39m \u001b[43mplotly\u001b[49m\u001b[38;5;241m.\u001b[39msubplots\u001b[38;5;241m.\u001b[39mmake_subplots(rows\u001b[38;5;241m=\u001b[39m\u001b[38;5;241m4\u001b[39m, cols\u001b[38;5;241m=\u001b[39m\u001b[38;5;241m1\u001b[39m, shared_xaxes\u001b[38;5;241m=\u001b[39m\u001b[38;5;28;01mTrue\u001b[39;00m, vertical_spacing\u001b[38;5;241m=\u001b[39m\u001b[38;5;241m0.01\u001b[39m, row_heights\u001b[38;5;241m=\u001b[39m[\u001b[38;5;241m0.5\u001b[39m,\u001b[38;5;241m0.1\u001b[39m,\u001b[38;5;241m0.2\u001b[39m,\u001b[38;5;241m0.2\u001b[39m])\n",
      "\u001b[0;31mNameError\u001b[0m: name 'plotly' is not defined"
     ]
    }
   ],
   "source": [
    "fig = plotly.subplots.make_subplots(rows=4, cols=1, shared_xaxes=True, vertical_spacing=0.01, row_heights=[0.5,0.1,0.2,0.2])"
   ]
  },
  {
   "cell_type": "code",
   "execution_count": null,
   "id": "7a0932af",
   "metadata": {},
   "outputs": [],
   "source": [
    "# fig = make_subplots(rows=4, cols=1, shared_xaxes=True)\n",
    "fig = make_subplots(rows=4, cols=1, shared_xaxes=True, vertical_spacing=0.01, row_heights=[0.5,0.1,0.2,0.2])\n",
    "# Plot OHLC on 1st subplot (using the codes from before)\n",
    "# Plot volume trace on 2nd row\n",
    "fig.add_trace(go.Candlestick(\n",
    "        x=kor_stock_ohlcv_095570['date'],\n",
    "        open=kor_stock_ohlcv_095570['open'],\n",
    "        high=kor_stock_ohlcv_095570['high'],\n",
    "        low=kor_stock_ohlcv_095570['low'],\n",
    "        close=kor_stock_ohlcv_095570['close'],\n",
    "        increasing_line_color= 'red', decreasing_line_color= 'blue')\n",
    ", row=1, col=1)\n",
    "\n",
    "fig.add_trace(go.Scatter(x=kor_stock_ohlcv_095570['date'], y=kor_stock_ohlcv_095570['close']), row=2, col=1)\n",
    "\n",
    "\n",
    "\n",
    "fig.add_trace(go.Bar(x=kor_stock_ohlcv_095570['date'], \n",
    "                     y=kor_stock_ohlcv_095570['volume']\n",
    "                    ), row=3, col=1)\n",
    "\n",
    "\n",
    "\n",
    "\n",
    "# fig = go.Figure([go.Scatter(x=kor_stock_ohlcv_095570['date'], y=kor_stock_ohlcv_095570['close'])])\n",
    "\n",
    "\n",
    "\n",
    "\n",
    "# # Plot MACD trace on 3rd row\n",
    "# fig.add_trace(go.Bar(x=df.index,\n",
    "#                      y=macd.macd_diff()\n",
    "#                     ), row=3, col=1)\n",
    "# fig.add_trace(go.Scatter(x=df.index,\n",
    "#                          y=macd.macd(),\n",
    "#                          line=dict(color='black', width=2)\n",
    "#                         ), row=3, col=1)\n",
    "# fig.add_trace(go.Scatter(x=df.index,\n",
    "#                          y=macd.macd_signal(),\n",
    "#                          line=dict(color='blue', width=1)\n",
    "#                         ), row=3, col=1)\n",
    "# # Plot stochastics trace on 4th row\n",
    "# fig.add_trace(go.Scatter(x=df.index,\n",
    "#                          y=stoch.stoch(),\n",
    "#                          line=dict(color='black', width=2)\n",
    "#                         ), row=4, col=1)\n",
    "# fig.add_trace(go.Scatter(x=df.index,\n",
    "#                          y=stoch.stoch_signal(),\n",
    "#                          line=dict(color='blue', width=1)\n",
    "#                         ), row=4, col=1)\n",
    "# # update layout by changing the plot size, hiding legends & rangeslider, and removing gaps between dates\n",
    "# fig.update_layout(height=900, width=1200,\n",
    "#                   showlegend=False,\n",
    "#                   xaxis_rangeslider_visible=False,\n",
    "#                   xaxis_rangebreaks=[dict(values=dt_breaks)])\n",
    "# Update the layout by changing the figure size, hiding the legend and rangeslider\n",
    "\n",
    "\n",
    "# fig.update_layout(height=1000, width=1200, \n",
    "#                   showlegend=False, \n",
    "#                   xaxis_rangeslider_visible=False)\n",
    "\n",
    "fig.update_layout(\n",
    "    title = 'asdf',\n",
    "#     title= f'{sig_area} 시군구별 {type_nm} 매매(실거래가)/전월세(보증금) 거래량',\n",
    "    title_font_family=\"맑은고딕\",\n",
    "    title_font_size = 18,\n",
    "    hoverlabel=dict(\n",
    "#         bgcolor='white',\n",
    "        bgcolor='black',\n",
    "        font_size=15,\n",
    "    ),\n",
    "    hovermode=\"x unified\",\n",
    "#     hovermode=\"x\",    \n",
    "#     template='plotly_white', \n",
    "    template='plotly_dark',\n",
    "    xaxis_tickangle=90,\n",
    "    yaxis_tickformat = ',',\n",
    "    legend = dict(orientation = 'h', xanchor = \"center\", x = 0.85, y= 1.1), \n",
    "    barmode='group'\n",
    ")\n",
    "    \n",
    "# fig.update_layout(margin=go.layout.Margin(\n",
    "#         l=20, #left margin\n",
    "#         r=20, #right margin\n",
    "#         b=20, #bottom margin\n",
    "#         t=20  #top margin\n",
    "#     ))\n",
    "fig.update_layout(xaxis_rangeslider_visible=False)\n",
    "fig.show()"
   ]
  },
  {
   "cell_type": "code",
   "execution_count": null,
   "id": "4f2cb479",
   "metadata": {},
   "outputs": [],
   "source": []
  },
  {
   "cell_type": "code",
   "execution_count": null,
   "id": "313331cb",
   "metadata": {},
   "outputs": [],
   "source": []
  },
  {
   "cell_type": "code",
   "execution_count": null,
   "id": "47a8d8cc",
   "metadata": {},
   "outputs": [],
   "source": []
  },
  {
   "cell_type": "code",
   "execution_count": 12,
   "id": "aaa04e35",
   "metadata": {},
   "outputs": [
    {
     "data": {
      "application/vnd.plotly.v1+json": {
       "config": {
        "plotlyServerURL": "https://plot.ly"
       },
       "data": [
        {
         "close": [
          5010,
          4970,
          4890,
          5040,
          4930,
          4900,
          4820,
          4760,
          4680,
          4545,
          4620,
          4555,
          4665,
          4710,
          4650,
          4735,
          4670,
          4660,
          4660,
          4590,
          4660,
          4825,
          4860,
          4910,
          4895,
          4940,
          4985,
          4870,
          4880,
          4775,
          4720,
          4770,
          4750,
          4720,
          4750,
          4690,
          4665,
          4655,
          4635,
          4690,
          4720,
          4600,
          4630,
          4460,
          4475,
          4440,
          4445,
          4410,
          4430,
          4450,
          4415,
          4325,
          4330,
          4255,
          4300,
          4425,
          4440,
          4390,
          4380,
          4415,
          4380,
          4390,
          4405,
          4415,
          4680,
          4630,
          4545,
          4550,
          4505,
          4470,
          4460,
          4525,
          4540,
          4470,
          4440,
          4480,
          4460,
          4390,
          4275,
          4305,
          4305,
          4310,
          4310,
          4310,
          4300,
          4350,
          4295,
          4255,
          4300,
          4265
         ],
         "decreasing": {
          "line": {
           "color": "blue"
          }
         },
         "high": [
          5190,
          5060,
          4965,
          5040,
          5080,
          4970,
          4940,
          4795,
          4800,
          4690,
          4625,
          4705,
          4665,
          4750,
          4750,
          4800,
          4765,
          4730,
          4745,
          4690,
          4670,
          4870,
          4875,
          4965,
          4925,
          4950,
          5070,
          5010,
          4935,
          4930,
          4895,
          4855,
          4810,
          4750,
          4780,
          4750,
          4700,
          4685,
          4675,
          4700,
          4830,
          4725,
          4705,
          4625,
          4505,
          4505,
          4470,
          4490,
          4445,
          4515,
          4490,
          4445,
          4395,
          4360,
          4320,
          4425,
          4475,
          4465,
          4385,
          4420,
          4415,
          4445,
          4430,
          4435,
          4695,
          4695,
          4665,
          4655,
          4685,
          4530,
          4470,
          4550,
          4550,
          4645,
          4500,
          4570,
          4485,
          4485,
          4510,
          4345,
          4350,
          4325,
          4355,
          4350,
          4310,
          4360,
          4370,
          4300,
          4315,
          4320
         ],
         "increasing": {
          "line": {
           "color": "red"
          }
         },
         "low": [
          4970,
          4900,
          4820,
          4895,
          4905,
          4870,
          4755,
          4710,
          4625,
          4515,
          4530,
          4470,
          4520,
          4650,
          4625,
          4580,
          4635,
          4590,
          4615,
          4545,
          4510,
          4620,
          4700,
          4780,
          4790,
          4825,
          4940,
          4865,
          4730,
          4740,
          4615,
          4615,
          4680,
          4700,
          4710,
          4680,
          4625,
          4640,
          4605,
          4620,
          4685,
          4595,
          4555,
          4425,
          4410,
          4410,
          4425,
          4410,
          4405,
          4380,
          4400,
          4320,
          4300,
          4240,
          4255,
          4300,
          4415,
          4375,
          4325,
          4365,
          4335,
          4370,
          4370,
          4395,
          4420,
          4550,
          4525,
          4530,
          4480,
          4435,
          4390,
          4420,
          4505,
          4440,
          4370,
          4405,
          4380,
          4390,
          4275,
          4200,
          4255,
          4235,
          4265,
          4300,
          4250,
          4280,
          4255,
          4205,
          4215,
          4230
         ],
         "open": [
          5190,
          5060,
          4965,
          4900,
          4950,
          4930,
          4900,
          4750,
          4780,
          4680,
          4550,
          4620,
          4570,
          4750,
          4705,
          4680,
          4685,
          4685,
          4715,
          4690,
          4565,
          4630,
          4830,
          4865,
          4880,
          4865,
          4980,
          4990,
          4885,
          4930,
          4800,
          4685,
          4750,
          4730,
          4780,
          4690,
          4700,
          4665,
          4655,
          4635,
          4720,
          4700,
          4600,
          4580,
          4420,
          4460,
          4470,
          4420,
          4430,
          4430,
          4450,
          4445,
          4345,
          4330,
          4300,
          4300,
          4425,
          4445,
          4345,
          4385,
          4415,
          4370,
          4390,
          4420,
          4420,
          4685,
          4630,
          4545,
          4580,
          4530,
          4425,
          4450,
          4505,
          4510,
          4470,
          4440,
          4480,
          4460,
          4490,
          4345,
          4305,
          4310,
          4355,
          4350,
          4310,
          4285,
          4340,
          4300,
          4230,
          4235
         ],
         "type": "candlestick",
         "x": [
          "2023-03-14",
          "2023-03-15",
          "2023-03-16",
          "2023-03-17",
          "2023-03-20",
          "2023-03-21",
          "2023-03-22",
          "2023-03-23",
          "2023-03-24",
          "2023-03-27",
          "2023-03-28",
          "2023-03-29",
          "2023-03-30",
          "2023-03-31",
          "2023-04-03",
          "2023-04-04",
          "2023-04-05",
          "2023-04-06",
          "2023-04-07",
          "2023-04-10",
          "2023-04-11",
          "2023-04-12",
          "2023-04-13",
          "2023-04-14",
          "2023-04-17",
          "2023-04-18",
          "2023-04-19",
          "2023-04-20",
          "2023-04-21",
          "2023-04-24",
          "2023-04-25",
          "2023-04-26",
          "2023-04-27",
          "2023-04-28",
          "2023-05-02",
          "2023-05-03",
          "2023-05-04",
          "2023-05-08",
          "2023-05-09",
          "2023-05-10",
          "2023-05-11",
          "2023-05-12",
          "2023-05-15",
          "2023-05-16",
          "2023-05-17",
          "2023-05-18",
          "2023-05-19",
          "2023-05-22",
          "2023-05-23",
          "2023-05-24",
          "2023-05-25",
          "2023-05-26",
          "2023-05-30",
          "2023-05-31",
          "2023-06-01",
          "2023-06-02",
          "2023-06-05",
          "2023-06-07",
          "2023-06-08",
          "2023-06-09",
          "2023-06-12",
          "2023-06-13",
          "2023-06-14",
          "2023-06-15",
          "2023-06-16",
          "2023-06-19",
          "2023-06-20",
          "2023-06-21",
          "2023-06-22",
          "2023-06-23",
          "2023-06-26",
          "2023-06-27",
          "2023-06-28",
          "2023-06-29",
          "2023-06-30",
          "2023-07-03",
          "2023-07-04",
          "2023-07-05",
          "2023-07-06",
          "2023-07-07",
          "2023-07-10",
          "2023-07-11",
          "2023-07-12",
          "2023-07-13",
          "2023-07-14",
          "2023-07-17",
          "2023-07-18",
          "2023-07-19",
          "2023-07-20",
          "2023-07-21"
         ]
        }
       ],
       "layout": {
        "template": {
         "data": {
          "bar": [
           {
            "error_x": {
             "color": "#2a3f5f"
            },
            "error_y": {
             "color": "#2a3f5f"
            },
            "marker": {
             "line": {
              "color": "#E5ECF6",
              "width": 0.5
             },
             "pattern": {
              "fillmode": "overlay",
              "size": 10,
              "solidity": 0.2
             }
            },
            "type": "bar"
           }
          ],
          "barpolar": [
           {
            "marker": {
             "line": {
              "color": "#E5ECF6",
              "width": 0.5
             },
             "pattern": {
              "fillmode": "overlay",
              "size": 10,
              "solidity": 0.2
             }
            },
            "type": "barpolar"
           }
          ],
          "carpet": [
           {
            "aaxis": {
             "endlinecolor": "#2a3f5f",
             "gridcolor": "white",
             "linecolor": "white",
             "minorgridcolor": "white",
             "startlinecolor": "#2a3f5f"
            },
            "baxis": {
             "endlinecolor": "#2a3f5f",
             "gridcolor": "white",
             "linecolor": "white",
             "minorgridcolor": "white",
             "startlinecolor": "#2a3f5f"
            },
            "type": "carpet"
           }
          ],
          "choropleth": [
           {
            "colorbar": {
             "outlinewidth": 0,
             "ticks": ""
            },
            "type": "choropleth"
           }
          ],
          "contour": [
           {
            "colorbar": {
             "outlinewidth": 0,
             "ticks": ""
            },
            "colorscale": [
             [
              0,
              "#0d0887"
             ],
             [
              0.1111111111111111,
              "#46039f"
             ],
             [
              0.2222222222222222,
              "#7201a8"
             ],
             [
              0.3333333333333333,
              "#9c179e"
             ],
             [
              0.4444444444444444,
              "#bd3786"
             ],
             [
              0.5555555555555556,
              "#d8576b"
             ],
             [
              0.6666666666666666,
              "#ed7953"
             ],
             [
              0.7777777777777778,
              "#fb9f3a"
             ],
             [
              0.8888888888888888,
              "#fdca26"
             ],
             [
              1,
              "#f0f921"
             ]
            ],
            "type": "contour"
           }
          ],
          "contourcarpet": [
           {
            "colorbar": {
             "outlinewidth": 0,
             "ticks": ""
            },
            "type": "contourcarpet"
           }
          ],
          "heatmap": [
           {
            "colorbar": {
             "outlinewidth": 0,
             "ticks": ""
            },
            "colorscale": [
             [
              0,
              "#0d0887"
             ],
             [
              0.1111111111111111,
              "#46039f"
             ],
             [
              0.2222222222222222,
              "#7201a8"
             ],
             [
              0.3333333333333333,
              "#9c179e"
             ],
             [
              0.4444444444444444,
              "#bd3786"
             ],
             [
              0.5555555555555556,
              "#d8576b"
             ],
             [
              0.6666666666666666,
              "#ed7953"
             ],
             [
              0.7777777777777778,
              "#fb9f3a"
             ],
             [
              0.8888888888888888,
              "#fdca26"
             ],
             [
              1,
              "#f0f921"
             ]
            ],
            "type": "heatmap"
           }
          ],
          "heatmapgl": [
           {
            "colorbar": {
             "outlinewidth": 0,
             "ticks": ""
            },
            "colorscale": [
             [
              0,
              "#0d0887"
             ],
             [
              0.1111111111111111,
              "#46039f"
             ],
             [
              0.2222222222222222,
              "#7201a8"
             ],
             [
              0.3333333333333333,
              "#9c179e"
             ],
             [
              0.4444444444444444,
              "#bd3786"
             ],
             [
              0.5555555555555556,
              "#d8576b"
             ],
             [
              0.6666666666666666,
              "#ed7953"
             ],
             [
              0.7777777777777778,
              "#fb9f3a"
             ],
             [
              0.8888888888888888,
              "#fdca26"
             ],
             [
              1,
              "#f0f921"
             ]
            ],
            "type": "heatmapgl"
           }
          ],
          "histogram": [
           {
            "marker": {
             "pattern": {
              "fillmode": "overlay",
              "size": 10,
              "solidity": 0.2
             }
            },
            "type": "histogram"
           }
          ],
          "histogram2d": [
           {
            "colorbar": {
             "outlinewidth": 0,
             "ticks": ""
            },
            "colorscale": [
             [
              0,
              "#0d0887"
             ],
             [
              0.1111111111111111,
              "#46039f"
             ],
             [
              0.2222222222222222,
              "#7201a8"
             ],
             [
              0.3333333333333333,
              "#9c179e"
             ],
             [
              0.4444444444444444,
              "#bd3786"
             ],
             [
              0.5555555555555556,
              "#d8576b"
             ],
             [
              0.6666666666666666,
              "#ed7953"
             ],
             [
              0.7777777777777778,
              "#fb9f3a"
             ],
             [
              0.8888888888888888,
              "#fdca26"
             ],
             [
              1,
              "#f0f921"
             ]
            ],
            "type": "histogram2d"
           }
          ],
          "histogram2dcontour": [
           {
            "colorbar": {
             "outlinewidth": 0,
             "ticks": ""
            },
            "colorscale": [
             [
              0,
              "#0d0887"
             ],
             [
              0.1111111111111111,
              "#46039f"
             ],
             [
              0.2222222222222222,
              "#7201a8"
             ],
             [
              0.3333333333333333,
              "#9c179e"
             ],
             [
              0.4444444444444444,
              "#bd3786"
             ],
             [
              0.5555555555555556,
              "#d8576b"
             ],
             [
              0.6666666666666666,
              "#ed7953"
             ],
             [
              0.7777777777777778,
              "#fb9f3a"
             ],
             [
              0.8888888888888888,
              "#fdca26"
             ],
             [
              1,
              "#f0f921"
             ]
            ],
            "type": "histogram2dcontour"
           }
          ],
          "mesh3d": [
           {
            "colorbar": {
             "outlinewidth": 0,
             "ticks": ""
            },
            "type": "mesh3d"
           }
          ],
          "parcoords": [
           {
            "line": {
             "colorbar": {
              "outlinewidth": 0,
              "ticks": ""
             }
            },
            "type": "parcoords"
           }
          ],
          "pie": [
           {
            "automargin": true,
            "type": "pie"
           }
          ],
          "scatter": [
           {
            "fillpattern": {
             "fillmode": "overlay",
             "size": 10,
             "solidity": 0.2
            },
            "type": "scatter"
           }
          ],
          "scatter3d": [
           {
            "line": {
             "colorbar": {
              "outlinewidth": 0,
              "ticks": ""
             }
            },
            "marker": {
             "colorbar": {
              "outlinewidth": 0,
              "ticks": ""
             }
            },
            "type": "scatter3d"
           }
          ],
          "scattercarpet": [
           {
            "marker": {
             "colorbar": {
              "outlinewidth": 0,
              "ticks": ""
             }
            },
            "type": "scattercarpet"
           }
          ],
          "scattergeo": [
           {
            "marker": {
             "colorbar": {
              "outlinewidth": 0,
              "ticks": ""
             }
            },
            "type": "scattergeo"
           }
          ],
          "scattergl": [
           {
            "marker": {
             "colorbar": {
              "outlinewidth": 0,
              "ticks": ""
             }
            },
            "type": "scattergl"
           }
          ],
          "scattermapbox": [
           {
            "marker": {
             "colorbar": {
              "outlinewidth": 0,
              "ticks": ""
             }
            },
            "type": "scattermapbox"
           }
          ],
          "scatterpolar": [
           {
            "marker": {
             "colorbar": {
              "outlinewidth": 0,
              "ticks": ""
             }
            },
            "type": "scatterpolar"
           }
          ],
          "scatterpolargl": [
           {
            "marker": {
             "colorbar": {
              "outlinewidth": 0,
              "ticks": ""
             }
            },
            "type": "scatterpolargl"
           }
          ],
          "scatterternary": [
           {
            "marker": {
             "colorbar": {
              "outlinewidth": 0,
              "ticks": ""
             }
            },
            "type": "scatterternary"
           }
          ],
          "surface": [
           {
            "colorbar": {
             "outlinewidth": 0,
             "ticks": ""
            },
            "colorscale": [
             [
              0,
              "#0d0887"
             ],
             [
              0.1111111111111111,
              "#46039f"
             ],
             [
              0.2222222222222222,
              "#7201a8"
             ],
             [
              0.3333333333333333,
              "#9c179e"
             ],
             [
              0.4444444444444444,
              "#bd3786"
             ],
             [
              0.5555555555555556,
              "#d8576b"
             ],
             [
              0.6666666666666666,
              "#ed7953"
             ],
             [
              0.7777777777777778,
              "#fb9f3a"
             ],
             [
              0.8888888888888888,
              "#fdca26"
             ],
             [
              1,
              "#f0f921"
             ]
            ],
            "type": "surface"
           }
          ],
          "table": [
           {
            "cells": {
             "fill": {
              "color": "#EBF0F8"
             },
             "line": {
              "color": "white"
             }
            },
            "header": {
             "fill": {
              "color": "#C8D4E3"
             },
             "line": {
              "color": "white"
             }
            },
            "type": "table"
           }
          ]
         },
         "layout": {
          "annotationdefaults": {
           "arrowcolor": "#2a3f5f",
           "arrowhead": 0,
           "arrowwidth": 1
          },
          "autotypenumbers": "strict",
          "coloraxis": {
           "colorbar": {
            "outlinewidth": 0,
            "ticks": ""
           }
          },
          "colorscale": {
           "diverging": [
            [
             0,
             "#8e0152"
            ],
            [
             0.1,
             "#c51b7d"
            ],
            [
             0.2,
             "#de77ae"
            ],
            [
             0.3,
             "#f1b6da"
            ],
            [
             0.4,
             "#fde0ef"
            ],
            [
             0.5,
             "#f7f7f7"
            ],
            [
             0.6,
             "#e6f5d0"
            ],
            [
             0.7,
             "#b8e186"
            ],
            [
             0.8,
             "#7fbc41"
            ],
            [
             0.9,
             "#4d9221"
            ],
            [
             1,
             "#276419"
            ]
           ],
           "sequential": [
            [
             0,
             "#0d0887"
            ],
            [
             0.1111111111111111,
             "#46039f"
            ],
            [
             0.2222222222222222,
             "#7201a8"
            ],
            [
             0.3333333333333333,
             "#9c179e"
            ],
            [
             0.4444444444444444,
             "#bd3786"
            ],
            [
             0.5555555555555556,
             "#d8576b"
            ],
            [
             0.6666666666666666,
             "#ed7953"
            ],
            [
             0.7777777777777778,
             "#fb9f3a"
            ],
            [
             0.8888888888888888,
             "#fdca26"
            ],
            [
             1,
             "#f0f921"
            ]
           ],
           "sequentialminus": [
            [
             0,
             "#0d0887"
            ],
            [
             0.1111111111111111,
             "#46039f"
            ],
            [
             0.2222222222222222,
             "#7201a8"
            ],
            [
             0.3333333333333333,
             "#9c179e"
            ],
            [
             0.4444444444444444,
             "#bd3786"
            ],
            [
             0.5555555555555556,
             "#d8576b"
            ],
            [
             0.6666666666666666,
             "#ed7953"
            ],
            [
             0.7777777777777778,
             "#fb9f3a"
            ],
            [
             0.8888888888888888,
             "#fdca26"
            ],
            [
             1,
             "#f0f921"
            ]
           ]
          },
          "colorway": [
           "#636efa",
           "#EF553B",
           "#00cc96",
           "#ab63fa",
           "#FFA15A",
           "#19d3f3",
           "#FF6692",
           "#B6E880",
           "#FF97FF",
           "#FECB52"
          ],
          "font": {
           "color": "#2a3f5f"
          },
          "geo": {
           "bgcolor": "white",
           "lakecolor": "white",
           "landcolor": "#E5ECF6",
           "showlakes": true,
           "showland": true,
           "subunitcolor": "white"
          },
          "hoverlabel": {
           "align": "left"
          },
          "hovermode": "closest",
          "mapbox": {
           "style": "light"
          },
          "paper_bgcolor": "white",
          "plot_bgcolor": "#E5ECF6",
          "polar": {
           "angularaxis": {
            "gridcolor": "white",
            "linecolor": "white",
            "ticks": ""
           },
           "bgcolor": "#E5ECF6",
           "radialaxis": {
            "gridcolor": "white",
            "linecolor": "white",
            "ticks": ""
           }
          },
          "scene": {
           "xaxis": {
            "backgroundcolor": "#E5ECF6",
            "gridcolor": "white",
            "gridwidth": 2,
            "linecolor": "white",
            "showbackground": true,
            "ticks": "",
            "zerolinecolor": "white"
           },
           "yaxis": {
            "backgroundcolor": "#E5ECF6",
            "gridcolor": "white",
            "gridwidth": 2,
            "linecolor": "white",
            "showbackground": true,
            "ticks": "",
            "zerolinecolor": "white"
           },
           "zaxis": {
            "backgroundcolor": "#E5ECF6",
            "gridcolor": "white",
            "gridwidth": 2,
            "linecolor": "white",
            "showbackground": true,
            "ticks": "",
            "zerolinecolor": "white"
           }
          },
          "shapedefaults": {
           "line": {
            "color": "#2a3f5f"
           }
          },
          "ternary": {
           "aaxis": {
            "gridcolor": "white",
            "linecolor": "white",
            "ticks": ""
           },
           "baxis": {
            "gridcolor": "white",
            "linecolor": "white",
            "ticks": ""
           },
           "bgcolor": "#E5ECF6",
           "caxis": {
            "gridcolor": "white",
            "linecolor": "white",
            "ticks": ""
           }
          },
          "title": {
           "x": 0.05
          },
          "xaxis": {
           "automargin": true,
           "gridcolor": "white",
           "linecolor": "white",
           "ticks": "",
           "title": {
            "standoff": 15
           },
           "zerolinecolor": "white",
           "zerolinewidth": 2
          },
          "yaxis": {
           "automargin": true,
           "gridcolor": "white",
           "linecolor": "white",
           "ticks": "",
           "title": {
            "standoff": 15
           },
           "zerolinecolor": "white",
           "zerolinewidth": 2
          }
         }
        }
       }
      },
      "text/html": [
       "<div>                            <div id=\"e6f26725-3299-4866-9015-47d29123041d\" class=\"plotly-graph-div\" style=\"height:525px; width:100%;\"></div>            <script type=\"text/javascript\">                require([\"plotly\"], function(Plotly) {                    window.PLOTLYENV=window.PLOTLYENV || {};                                    if (document.getElementById(\"e6f26725-3299-4866-9015-47d29123041d\")) {                    Plotly.newPlot(                        \"e6f26725-3299-4866-9015-47d29123041d\",                        [{\"close\":[5010,4970,4890,5040,4930,4900,4820,4760,4680,4545,4620,4555,4665,4710,4650,4735,4670,4660,4660,4590,4660,4825,4860,4910,4895,4940,4985,4870,4880,4775,4720,4770,4750,4720,4750,4690,4665,4655,4635,4690,4720,4600,4630,4460,4475,4440,4445,4410,4430,4450,4415,4325,4330,4255,4300,4425,4440,4390,4380,4415,4380,4390,4405,4415,4680,4630,4545,4550,4505,4470,4460,4525,4540,4470,4440,4480,4460,4390,4275,4305,4305,4310,4310,4310,4300,4350,4295,4255,4300,4265],\"decreasing\":{\"line\":{\"color\":\"blue\"}},\"high\":[5190,5060,4965,5040,5080,4970,4940,4795,4800,4690,4625,4705,4665,4750,4750,4800,4765,4730,4745,4690,4670,4870,4875,4965,4925,4950,5070,5010,4935,4930,4895,4855,4810,4750,4780,4750,4700,4685,4675,4700,4830,4725,4705,4625,4505,4505,4470,4490,4445,4515,4490,4445,4395,4360,4320,4425,4475,4465,4385,4420,4415,4445,4430,4435,4695,4695,4665,4655,4685,4530,4470,4550,4550,4645,4500,4570,4485,4485,4510,4345,4350,4325,4355,4350,4310,4360,4370,4300,4315,4320],\"increasing\":{\"line\":{\"color\":\"red\"}},\"low\":[4970,4900,4820,4895,4905,4870,4755,4710,4625,4515,4530,4470,4520,4650,4625,4580,4635,4590,4615,4545,4510,4620,4700,4780,4790,4825,4940,4865,4730,4740,4615,4615,4680,4700,4710,4680,4625,4640,4605,4620,4685,4595,4555,4425,4410,4410,4425,4410,4405,4380,4400,4320,4300,4240,4255,4300,4415,4375,4325,4365,4335,4370,4370,4395,4420,4550,4525,4530,4480,4435,4390,4420,4505,4440,4370,4405,4380,4390,4275,4200,4255,4235,4265,4300,4250,4280,4255,4205,4215,4230],\"open\":[5190,5060,4965,4900,4950,4930,4900,4750,4780,4680,4550,4620,4570,4750,4705,4680,4685,4685,4715,4690,4565,4630,4830,4865,4880,4865,4980,4990,4885,4930,4800,4685,4750,4730,4780,4690,4700,4665,4655,4635,4720,4700,4600,4580,4420,4460,4470,4420,4430,4430,4450,4445,4345,4330,4300,4300,4425,4445,4345,4385,4415,4370,4390,4420,4420,4685,4630,4545,4580,4530,4425,4450,4505,4510,4470,4440,4480,4460,4490,4345,4305,4310,4355,4350,4310,4285,4340,4300,4230,4235],\"x\":[\"2023-03-14\",\"2023-03-15\",\"2023-03-16\",\"2023-03-17\",\"2023-03-20\",\"2023-03-21\",\"2023-03-22\",\"2023-03-23\",\"2023-03-24\",\"2023-03-27\",\"2023-03-28\",\"2023-03-29\",\"2023-03-30\",\"2023-03-31\",\"2023-04-03\",\"2023-04-04\",\"2023-04-05\",\"2023-04-06\",\"2023-04-07\",\"2023-04-10\",\"2023-04-11\",\"2023-04-12\",\"2023-04-13\",\"2023-04-14\",\"2023-04-17\",\"2023-04-18\",\"2023-04-19\",\"2023-04-20\",\"2023-04-21\",\"2023-04-24\",\"2023-04-25\",\"2023-04-26\",\"2023-04-27\",\"2023-04-28\",\"2023-05-02\",\"2023-05-03\",\"2023-05-04\",\"2023-05-08\",\"2023-05-09\",\"2023-05-10\",\"2023-05-11\",\"2023-05-12\",\"2023-05-15\",\"2023-05-16\",\"2023-05-17\",\"2023-05-18\",\"2023-05-19\",\"2023-05-22\",\"2023-05-23\",\"2023-05-24\",\"2023-05-25\",\"2023-05-26\",\"2023-05-30\",\"2023-05-31\",\"2023-06-01\",\"2023-06-02\",\"2023-06-05\",\"2023-06-07\",\"2023-06-08\",\"2023-06-09\",\"2023-06-12\",\"2023-06-13\",\"2023-06-14\",\"2023-06-15\",\"2023-06-16\",\"2023-06-19\",\"2023-06-20\",\"2023-06-21\",\"2023-06-22\",\"2023-06-23\",\"2023-06-26\",\"2023-06-27\",\"2023-06-28\",\"2023-06-29\",\"2023-06-30\",\"2023-07-03\",\"2023-07-04\",\"2023-07-05\",\"2023-07-06\",\"2023-07-07\",\"2023-07-10\",\"2023-07-11\",\"2023-07-12\",\"2023-07-13\",\"2023-07-14\",\"2023-07-17\",\"2023-07-18\",\"2023-07-19\",\"2023-07-20\",\"2023-07-21\"],\"type\":\"candlestick\"}],                        {\"template\":{\"data\":{\"histogram2dcontour\":[{\"type\":\"histogram2dcontour\",\"colorbar\":{\"outlinewidth\":0,\"ticks\":\"\"},\"colorscale\":[[0.0,\"#0d0887\"],[0.1111111111111111,\"#46039f\"],[0.2222222222222222,\"#7201a8\"],[0.3333333333333333,\"#9c179e\"],[0.4444444444444444,\"#bd3786\"],[0.5555555555555556,\"#d8576b\"],[0.6666666666666666,\"#ed7953\"],[0.7777777777777778,\"#fb9f3a\"],[0.8888888888888888,\"#fdca26\"],[1.0,\"#f0f921\"]]}],\"choropleth\":[{\"type\":\"choropleth\",\"colorbar\":{\"outlinewidth\":0,\"ticks\":\"\"}}],\"histogram2d\":[{\"type\":\"histogram2d\",\"colorbar\":{\"outlinewidth\":0,\"ticks\":\"\"},\"colorscale\":[[0.0,\"#0d0887\"],[0.1111111111111111,\"#46039f\"],[0.2222222222222222,\"#7201a8\"],[0.3333333333333333,\"#9c179e\"],[0.4444444444444444,\"#bd3786\"],[0.5555555555555556,\"#d8576b\"],[0.6666666666666666,\"#ed7953\"],[0.7777777777777778,\"#fb9f3a\"],[0.8888888888888888,\"#fdca26\"],[1.0,\"#f0f921\"]]}],\"heatmap\":[{\"type\":\"heatmap\",\"colorbar\":{\"outlinewidth\":0,\"ticks\":\"\"},\"colorscale\":[[0.0,\"#0d0887\"],[0.1111111111111111,\"#46039f\"],[0.2222222222222222,\"#7201a8\"],[0.3333333333333333,\"#9c179e\"],[0.4444444444444444,\"#bd3786\"],[0.5555555555555556,\"#d8576b\"],[0.6666666666666666,\"#ed7953\"],[0.7777777777777778,\"#fb9f3a\"],[0.8888888888888888,\"#fdca26\"],[1.0,\"#f0f921\"]]}],\"heatmapgl\":[{\"type\":\"heatmapgl\",\"colorbar\":{\"outlinewidth\":0,\"ticks\":\"\"},\"colorscale\":[[0.0,\"#0d0887\"],[0.1111111111111111,\"#46039f\"],[0.2222222222222222,\"#7201a8\"],[0.3333333333333333,\"#9c179e\"],[0.4444444444444444,\"#bd3786\"],[0.5555555555555556,\"#d8576b\"],[0.6666666666666666,\"#ed7953\"],[0.7777777777777778,\"#fb9f3a\"],[0.8888888888888888,\"#fdca26\"],[1.0,\"#f0f921\"]]}],\"contourcarpet\":[{\"type\":\"contourcarpet\",\"colorbar\":{\"outlinewidth\":0,\"ticks\":\"\"}}],\"contour\":[{\"type\":\"contour\",\"colorbar\":{\"outlinewidth\":0,\"ticks\":\"\"},\"colorscale\":[[0.0,\"#0d0887\"],[0.1111111111111111,\"#46039f\"],[0.2222222222222222,\"#7201a8\"],[0.3333333333333333,\"#9c179e\"],[0.4444444444444444,\"#bd3786\"],[0.5555555555555556,\"#d8576b\"],[0.6666666666666666,\"#ed7953\"],[0.7777777777777778,\"#fb9f3a\"],[0.8888888888888888,\"#fdca26\"],[1.0,\"#f0f921\"]]}],\"surface\":[{\"type\":\"surface\",\"colorbar\":{\"outlinewidth\":0,\"ticks\":\"\"},\"colorscale\":[[0.0,\"#0d0887\"],[0.1111111111111111,\"#46039f\"],[0.2222222222222222,\"#7201a8\"],[0.3333333333333333,\"#9c179e\"],[0.4444444444444444,\"#bd3786\"],[0.5555555555555556,\"#d8576b\"],[0.6666666666666666,\"#ed7953\"],[0.7777777777777778,\"#fb9f3a\"],[0.8888888888888888,\"#fdca26\"],[1.0,\"#f0f921\"]]}],\"mesh3d\":[{\"type\":\"mesh3d\",\"colorbar\":{\"outlinewidth\":0,\"ticks\":\"\"}}],\"scatter\":[{\"fillpattern\":{\"fillmode\":\"overlay\",\"size\":10,\"solidity\":0.2},\"type\":\"scatter\"}],\"parcoords\":[{\"type\":\"parcoords\",\"line\":{\"colorbar\":{\"outlinewidth\":0,\"ticks\":\"\"}}}],\"scatterpolargl\":[{\"type\":\"scatterpolargl\",\"marker\":{\"colorbar\":{\"outlinewidth\":0,\"ticks\":\"\"}}}],\"bar\":[{\"error_x\":{\"color\":\"#2a3f5f\"},\"error_y\":{\"color\":\"#2a3f5f\"},\"marker\":{\"line\":{\"color\":\"#E5ECF6\",\"width\":0.5},\"pattern\":{\"fillmode\":\"overlay\",\"size\":10,\"solidity\":0.2}},\"type\":\"bar\"}],\"scattergeo\":[{\"type\":\"scattergeo\",\"marker\":{\"colorbar\":{\"outlinewidth\":0,\"ticks\":\"\"}}}],\"scatterpolar\":[{\"type\":\"scatterpolar\",\"marker\":{\"colorbar\":{\"outlinewidth\":0,\"ticks\":\"\"}}}],\"histogram\":[{\"marker\":{\"pattern\":{\"fillmode\":\"overlay\",\"size\":10,\"solidity\":0.2}},\"type\":\"histogram\"}],\"scattergl\":[{\"type\":\"scattergl\",\"marker\":{\"colorbar\":{\"outlinewidth\":0,\"ticks\":\"\"}}}],\"scatter3d\":[{\"type\":\"scatter3d\",\"line\":{\"colorbar\":{\"outlinewidth\":0,\"ticks\":\"\"}},\"marker\":{\"colorbar\":{\"outlinewidth\":0,\"ticks\":\"\"}}}],\"scattermapbox\":[{\"type\":\"scattermapbox\",\"marker\":{\"colorbar\":{\"outlinewidth\":0,\"ticks\":\"\"}}}],\"scatterternary\":[{\"type\":\"scatterternary\",\"marker\":{\"colorbar\":{\"outlinewidth\":0,\"ticks\":\"\"}}}],\"scattercarpet\":[{\"type\":\"scattercarpet\",\"marker\":{\"colorbar\":{\"outlinewidth\":0,\"ticks\":\"\"}}}],\"carpet\":[{\"aaxis\":{\"endlinecolor\":\"#2a3f5f\",\"gridcolor\":\"white\",\"linecolor\":\"white\",\"minorgridcolor\":\"white\",\"startlinecolor\":\"#2a3f5f\"},\"baxis\":{\"endlinecolor\":\"#2a3f5f\",\"gridcolor\":\"white\",\"linecolor\":\"white\",\"minorgridcolor\":\"white\",\"startlinecolor\":\"#2a3f5f\"},\"type\":\"carpet\"}],\"table\":[{\"cells\":{\"fill\":{\"color\":\"#EBF0F8\"},\"line\":{\"color\":\"white\"}},\"header\":{\"fill\":{\"color\":\"#C8D4E3\"},\"line\":{\"color\":\"white\"}},\"type\":\"table\"}],\"barpolar\":[{\"marker\":{\"line\":{\"color\":\"#E5ECF6\",\"width\":0.5},\"pattern\":{\"fillmode\":\"overlay\",\"size\":10,\"solidity\":0.2}},\"type\":\"barpolar\"}],\"pie\":[{\"automargin\":true,\"type\":\"pie\"}]},\"layout\":{\"autotypenumbers\":\"strict\",\"colorway\":[\"#636efa\",\"#EF553B\",\"#00cc96\",\"#ab63fa\",\"#FFA15A\",\"#19d3f3\",\"#FF6692\",\"#B6E880\",\"#FF97FF\",\"#FECB52\"],\"font\":{\"color\":\"#2a3f5f\"},\"hovermode\":\"closest\",\"hoverlabel\":{\"align\":\"left\"},\"paper_bgcolor\":\"white\",\"plot_bgcolor\":\"#E5ECF6\",\"polar\":{\"bgcolor\":\"#E5ECF6\",\"angularaxis\":{\"gridcolor\":\"white\",\"linecolor\":\"white\",\"ticks\":\"\"},\"radialaxis\":{\"gridcolor\":\"white\",\"linecolor\":\"white\",\"ticks\":\"\"}},\"ternary\":{\"bgcolor\":\"#E5ECF6\",\"aaxis\":{\"gridcolor\":\"white\",\"linecolor\":\"white\",\"ticks\":\"\"},\"baxis\":{\"gridcolor\":\"white\",\"linecolor\":\"white\",\"ticks\":\"\"},\"caxis\":{\"gridcolor\":\"white\",\"linecolor\":\"white\",\"ticks\":\"\"}},\"coloraxis\":{\"colorbar\":{\"outlinewidth\":0,\"ticks\":\"\"}},\"colorscale\":{\"sequential\":[[0.0,\"#0d0887\"],[0.1111111111111111,\"#46039f\"],[0.2222222222222222,\"#7201a8\"],[0.3333333333333333,\"#9c179e\"],[0.4444444444444444,\"#bd3786\"],[0.5555555555555556,\"#d8576b\"],[0.6666666666666666,\"#ed7953\"],[0.7777777777777778,\"#fb9f3a\"],[0.8888888888888888,\"#fdca26\"],[1.0,\"#f0f921\"]],\"sequentialminus\":[[0.0,\"#0d0887\"],[0.1111111111111111,\"#46039f\"],[0.2222222222222222,\"#7201a8\"],[0.3333333333333333,\"#9c179e\"],[0.4444444444444444,\"#bd3786\"],[0.5555555555555556,\"#d8576b\"],[0.6666666666666666,\"#ed7953\"],[0.7777777777777778,\"#fb9f3a\"],[0.8888888888888888,\"#fdca26\"],[1.0,\"#f0f921\"]],\"diverging\":[[0,\"#8e0152\"],[0.1,\"#c51b7d\"],[0.2,\"#de77ae\"],[0.3,\"#f1b6da\"],[0.4,\"#fde0ef\"],[0.5,\"#f7f7f7\"],[0.6,\"#e6f5d0\"],[0.7,\"#b8e186\"],[0.8,\"#7fbc41\"],[0.9,\"#4d9221\"],[1,\"#276419\"]]},\"xaxis\":{\"gridcolor\":\"white\",\"linecolor\":\"white\",\"ticks\":\"\",\"title\":{\"standoff\":15},\"zerolinecolor\":\"white\",\"automargin\":true,\"zerolinewidth\":2},\"yaxis\":{\"gridcolor\":\"white\",\"linecolor\":\"white\",\"ticks\":\"\",\"title\":{\"standoff\":15},\"zerolinecolor\":\"white\",\"automargin\":true,\"zerolinewidth\":2},\"scene\":{\"xaxis\":{\"backgroundcolor\":\"#E5ECF6\",\"gridcolor\":\"white\",\"linecolor\":\"white\",\"showbackground\":true,\"ticks\":\"\",\"zerolinecolor\":\"white\",\"gridwidth\":2},\"yaxis\":{\"backgroundcolor\":\"#E5ECF6\",\"gridcolor\":\"white\",\"linecolor\":\"white\",\"showbackground\":true,\"ticks\":\"\",\"zerolinecolor\":\"white\",\"gridwidth\":2},\"zaxis\":{\"backgroundcolor\":\"#E5ECF6\",\"gridcolor\":\"white\",\"linecolor\":\"white\",\"showbackground\":true,\"ticks\":\"\",\"zerolinecolor\":\"white\",\"gridwidth\":2}},\"shapedefaults\":{\"line\":{\"color\":\"#2a3f5f\"}},\"annotationdefaults\":{\"arrowcolor\":\"#2a3f5f\",\"arrowhead\":0,\"arrowwidth\":1},\"geo\":{\"bgcolor\":\"white\",\"landcolor\":\"#E5ECF6\",\"subunitcolor\":\"white\",\"showland\":true,\"showlakes\":true,\"lakecolor\":\"white\"},\"title\":{\"x\":0.05},\"mapbox\":{\"style\":\"light\"}}}},                        {\"responsive\": true}                    ).then(function(){\n",
       "                            \n",
       "var gd = document.getElementById('e6f26725-3299-4866-9015-47d29123041d');\n",
       "var x = new MutationObserver(function (mutations, observer) {{\n",
       "        var display = window.getComputedStyle(gd).display;\n",
       "        if (!display || display === 'none') {{\n",
       "            console.log([gd, 'removed!']);\n",
       "            Plotly.purge(gd);\n",
       "            observer.disconnect();\n",
       "        }}\n",
       "}});\n",
       "\n",
       "// Listen for the removal of the full notebook cells\n",
       "var notebookContainer = gd.closest('#notebook-container');\n",
       "if (notebookContainer) {{\n",
       "    x.observe(notebookContainer, {childList: true});\n",
       "}}\n",
       "\n",
       "// Listen for the clearing of the current output cell\n",
       "var outputEl = gd.closest('.output');\n",
       "if (outputEl) {{\n",
       "    x.observe(outputEl, {childList: true});\n",
       "}}\n",
       "\n",
       "                        })                };                });            </script>        </div>"
      ]
     },
     "metadata": {},
     "output_type": "display_data"
    }
   ],
   "source": []
  },
  {
   "cell_type": "code",
   "execution_count": null,
   "id": "1aa2639e",
   "metadata": {},
   "outputs": [],
   "source": []
  },
  {
   "cell_type": "code",
   "execution_count": null,
   "id": "5c3bebb2",
   "metadata": {},
   "outputs": [],
   "source": []
  },
  {
   "cell_type": "code",
   "execution_count": null,
   "id": "95f651e6",
   "metadata": {},
   "outputs": [],
   "source": []
  },
  {
   "cell_type": "code",
   "execution_count": null,
   "id": "ed91b24b",
   "metadata": {},
   "outputs": [],
   "source": []
  },
  {
   "cell_type": "code",
   "execution_count": null,
   "id": "e5d09f25",
   "metadata": {},
   "outputs": [],
   "source": []
  },
  {
   "cell_type": "code",
   "execution_count": null,
   "id": "65c58d86",
   "metadata": {},
   "outputs": [],
   "source": []
  },
  {
   "cell_type": "code",
   "execution_count": null,
   "id": "f1594ca8",
   "metadata": {},
   "outputs": [],
   "source": []
  }
 ],
 "metadata": {
  "kernelspec": {
   "display_name": "Python 3 (ipykernel)",
   "language": "python",
   "name": "python3"
  },
  "language_info": {
   "codemirror_mode": {
    "name": "ipython",
    "version": 3
   },
   "file_extension": ".py",
   "mimetype": "text/x-python",
   "name": "python",
   "nbconvert_exporter": "python",
   "pygments_lexer": "ipython3",
   "version": "3.11.3"
  },
  "toc": {
   "base_numbering": 1,
   "nav_menu": {},
   "number_sections": true,
   "sideBar": true,
   "skip_h1_title": false,
   "title_cell": "Table of Contents",
   "title_sidebar": "Contents",
   "toc_cell": false,
   "toc_position": {
    "height": "calc(100% - 180px)",
    "left": "10px",
    "top": "150px",
    "width": "254.575px"
   },
   "toc_section_display": true,
   "toc_window_display": true
  }
 },
 "nbformat": 4,
 "nbformat_minor": 5
}
