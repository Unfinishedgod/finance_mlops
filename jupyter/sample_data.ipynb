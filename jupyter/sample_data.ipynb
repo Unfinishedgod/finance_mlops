{
 "cells": [
  {
   "cell_type": "code",
   "execution_count": 5,
   "id": "af951813",
   "metadata": {},
   "outputs": [],
   "source": [
    "import plotly.graph_objects as go\n",
    "\n",
    "from ta.trend import MACD\n",
    "from ta.momentum import StochasticOscillator\n",
    "\n",
    "import numpy as np\n",
    "import pandas as pd\n",
    "from pykrx import stock\n",
    "from pykrx import bond\n",
    "from time import sleep\n",
    "\n",
    "from datetime import datetime\n",
    "from datetime import timedelta\n",
    "import os\n",
    "import time\n",
    "from plotly.subplots import make_subplots\n",
    "import glob"
   ]
  },
  {
   "cell_type": "code",
   "execution_count": 6,
   "id": "7e7ea52d",
   "metadata": {},
   "outputs": [],
   "source": [
    "now = datetime.now()\n",
    "today_date1 = now.strftime('%Y%m%d')\n",
    "start_date = '20180101'"
   ]
  },
  {
   "cell_type": "markdown",
   "id": "25879f23",
   "metadata": {},
   "source": [
    "### 인덱스 100"
   ]
  },
  {
   "cell_type": "code",
   "execution_count": 8,
   "id": "b8401063",
   "metadata": {},
   "outputs": [],
   "source": [
    "kospi_100 = stock.get_index_portfolio_deposit_file(\"1034\")"
   ]
  },
  {
   "cell_type": "code",
   "execution_count": 10,
   "id": "37095195",
   "metadata": {},
   "outputs": [],
   "source": [
    "kor_ticker_list_df = pd.DataFrame()\n",
    "ticker_list = kospi_100\n",
    "for tickers in ticker_list:\n",
    "    corp_name = stock.get_market_ticker_name(tickers)\n",
    "    df = pd.DataFrame({'ticker':tickers,\n",
    "                       'corp_name':corp_name,\n",
    "                       'market': 'KOSPI_100'\n",
    "                      }, index = [0])\n",
    "    kor_ticker_list_df = pd.concat([kor_ticker_list_df,df])\n",
    "kor_ticker_list_df = kor_ticker_list_df.reset_index(drop = True)\n"
   ]
  },
  {
   "cell_type": "code",
   "execution_count": 9,
   "id": "59574908",
   "metadata": {},
   "outputs": [
    {
     "ename": "NameError",
     "evalue": "name 'kor_ticker_list_df' is not defined",
     "output_type": "error",
     "traceback": [
      "\u001b[0;31m---------------------------------------------------------------------------\u001b[0m",
      "\u001b[0;31mNameError\u001b[0m                                 Traceback (most recent call last)",
      "Cell \u001b[0;32mIn[9], line 1\u001b[0m\n\u001b[0;32m----> 1\u001b[0m kor_ticker_list \u001b[38;5;241m=\u001b[39m kor_ticker_list_df[\u001b[38;5;124m'\u001b[39m\u001b[38;5;124mticker\u001b[39m\u001b[38;5;124m'\u001b[39m]\n",
      "\u001b[0;31mNameError\u001b[0m: name 'kor_ticker_list_df' is not defined"
     ]
    }
   ],
   "source": [
    "kor_ticker_list = kor_ticker_list_df['ticker']"
   ]
  },
  {
   "cell_type": "markdown",
   "id": "37a8a743",
   "metadata": {},
   "source": [
    "### ohlcv"
   ]
  },
  {
   "cell_type": "code",
   "execution_count": 54,
   "id": "e8f5b2f4",
   "metadata": {},
   "outputs": [],
   "source": [
    "ohlcv_df_raw = pd.DataFrame()\n",
    "for ticker_nm in kor_ticker_list:\n",
    "    try:\n",
    "        df_raw = stock.get_market_ohlcv(start_date, today_date1, ticker_nm)\n",
    "        df_raw = df_raw.reset_index()\n",
    "        df_raw['ticker'] = ticker_nm\n",
    "        \n",
    "        ohlcv_df_raw = pd.concat([ohlcv_df_raw, df_raw])\n",
    "    except:\n",
    "        print(f'{ticker_nm} fail')   \n",
    "        \n",
    "ohlcv_df_raw = ohlcv_df_raw.reset_index(drop = True)\n",
    "ohlcv_df_raw.columns = ['date', 'open', 'high', 'low', 'close', 'volume', 'price_change_percentage', 'ticker']"
   ]
  },
  {
   "cell_type": "code",
   "execution_count": 55,
   "id": "252002be",
   "metadata": {},
   "outputs": [],
   "source": [
    "ohlcv_df_raw = pd.merge(ohlcv_df_raw, kor_ticker_list_df, \n",
    "        on = 'ticker', \n",
    "        how = 'left')"
   ]
  },
  {
   "cell_type": "code",
   "execution_count": 56,
   "id": "1a57d3ec",
   "metadata": {},
   "outputs": [
    {
     "data": {
      "text/plain": [
       "Index(['date', 'open', 'high', 'low', 'close', 'volume',\n",
       "       'price_change_percentage', 'ticker', 'corp_name', 'market'],\n",
       "      dtype='object')"
      ]
     },
     "execution_count": 56,
     "metadata": {},
     "output_type": "execute_result"
    }
   ],
   "source": [
    "ohlcv_df_raw.columns"
   ]
  },
  {
   "cell_type": "code",
   "execution_count": 57,
   "id": "b8b20c70",
   "metadata": {},
   "outputs": [],
   "source": [
    "ohlcv_df_raw.to_csv('ohlcv_df_raw.csv', index = False)"
   ]
  },
  {
   "cell_type": "code",
   "execution_count": null,
   "id": "a6b89c08",
   "metadata": {},
   "outputs": [],
   "source": []
  }
 ],
 "metadata": {
  "kernelspec": {
   "display_name": "Python 3 (ipykernel)",
   "language": "python",
   "name": "python3"
  },
  "language_info": {
   "codemirror_mode": {
    "name": "ipython",
    "version": 3
   },
   "file_extension": ".py",
   "mimetype": "text/x-python",
   "name": "python",
   "nbconvert_exporter": "python",
   "pygments_lexer": "ipython3",
   "version": "3.11.3"
  },
  "toc": {
   "base_numbering": 1,
   "nav_menu": {},
   "number_sections": true,
   "sideBar": true,
   "skip_h1_title": false,
   "title_cell": "Table of Contents",
   "title_sidebar": "Contents",
   "toc_cell": false,
   "toc_position": {},
   "toc_section_display": true,
   "toc_window_display": false
  }
 },
 "nbformat": 4,
 "nbformat_minor": 5
}
