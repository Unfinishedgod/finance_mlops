{
 "cells": [
  {
   "cell_type": "code",
   "execution_count": 3,
   "id": "57241f95",
   "metadata": {
    "ExecuteTime": {
     "end_time": "2024-01-08T02:35:42.932760Z",
     "start_time": "2024-01-08T02:35:41.368747Z"
    }
   },
   "outputs": [],
   "source": [
    "import math\n",
    "import numpy as np\n",
    "import pandas as pd\n",
    "import os\n",
    "import glob\n",
    "\n",
    "from pykrx import stock\n",
    "from pykrx import bond\n",
    "\n",
    "import time\n",
    "from time import sleep\n",
    "from datetime import datetime\n",
    "from datetime import timedelta\n",
    "\n",
    "from pyarrow import csv\n",
    "import pyarrow as pa\n",
    "import pyarrow.parquet as pq\n",
    "\n",
    "from ta.trend import MACD\n",
    "from ta.momentum import StochasticOscillator\n",
    "\n",
    "import psycopg2 as pg2\n",
    "from sqlalchemy import create_engine\n",
    "\n",
    "from plotly.subplots import make_subplots\n",
    "import plotly.express as px\n",
    "import plotly.graph_objects as go\n",
    "\n",
    "from google.cloud import bigquery\n",
    "from google.oauth2 import service_account\n",
    "from google.cloud import storage\n",
    "\n",
    "\n",
    "import warnings\n",
    "warnings.filterwarnings('ignore')\n",
    "\n",
    "# 경로 변경\n",
    "os.chdir('/home/shjj08choi4/finance_mlops')\n",
    "\n",
    "\n",
    "# 서비스 계정 키 JSON 파일 경로\n",
    "key_path = glob.glob(\"key_value/*.json\")[0]\n",
    "\n",
    "# Credentials 객체 생성\n",
    "credentials = service_account.Credentials.from_service_account_file(key_path)\n",
    "\n",
    "# 빅쿼리 정보\n",
    "project_id = 'owenchoi-404302'\n",
    "dataset_id = 'finance_mlops'\n",
    "\n",
    "\n",
    "# BigQuery 클라이언트 객체 생성\n",
    "client = bigquery.Client(credentials = credentials, \n",
    "                         project = credentials.project_id)\n",
    "\n",
    "\n",
    "# GCP 클라이언트 객체 생성\n",
    "storage_client = storage.Client(credentials = credentials,\n",
    "                         project = credentials.project_id)\n",
    "bucket_name = 'finance-mlops-proj'    # 서비스 계정 생성한 bucket 이름 입력\n",
    "\n",
    "\n",
    "now = datetime.now()\n",
    "# now = now + timedelta(days=-2)\n",
    "today_date1 = now.strftime('%Y%m%d')\n",
    "today_date2 = now.strftime('%Y-%m-%d')\n",
    "today_date_time_csv = now.strftime(\"%Y%m%d_%H%M\")\n",
    "\n",
    "today_date1 = '2024010'\n",
    "today_date2 = '2023-01-07'\n",
    "\n",
    "today_date1 = 'reset'"
   ]
  },
  {
   "cell_type": "code",
   "execution_count": 2,
   "id": "11c7bf62",
   "metadata": {
    "ExecuteTime": {
     "end_time": "2024-01-08T02:40:44.047050Z",
     "start_time": "2024-01-08T02:40:44.041006Z"
    }
   },
   "outputs": [
    {
     "data": {
      "text/plain": [
       "['data_crawler/cleaning/kor_stock_ohlcv/kor_stock_ohlcv_kospi.parquet',\n",
       " 'data_crawler/cleaning/kor_stock_ohlcv/buy_sell_count_kosdaq.parquet',\n",
       " 'data_crawler/cleaning/kor_stock_ohlcv/kor_stock_ohlcv_kosdaq.parquet',\n",
       " 'data_crawler/cleaning/kor_stock_ohlcv/kor_stock_ohlcv_anal_kosdaq.parquet',\n",
       " 'data_crawler/cleaning/kor_stock_ohlcv/buy_sell_count_kospi.parquet',\n",
       " 'data_crawler/cleaning/kor_stock_ohlcv/kor_stock_ohlcv_anal_kospi.parquet']"
      ]
     },
     "execution_count": 2,
     "metadata": {},
     "output_type": "execute_result"
    }
   ],
   "source": [
    "glob.glob(\"data_crawler/cleaning/kor_stock_ohlcv/*\")"
   ]
  },
  {
   "cell_type": "code",
   "execution_count": 4,
   "id": "747c9e3a",
   "metadata": {},
   "outputs": [],
   "source": [
    "\n",
    "data_crawler_dashboard_gemini_main_view.parquet\n",
    "\n",
    "t = pq.read_table('data_crawler/dashboard/gemini_main_view.parquet')\n",
    "df_raw_total_2_KOSPI_reset = t.to_pandas()"
   ]
  },
  {
   "cell_type": "code",
   "execution_count": 6,
   "id": "3153ebfa",
   "metadata": {},
   "outputs": [
    {
     "data": {
      "text/plain": [
       "0    **코스피 증권 보고서**\\n\\n**일자:** 2024년 11월 1일\\n\\n**종목...\n",
       "Name: response_msg, dtype: object"
      ]
     },
     "execution_count": 6,
     "metadata": {},
     "output_type": "execute_result"
    }
   ],
   "source": [
    "df_raw_total_2_KOSPI_reset['response_msg']"
   ]
  },
  {
   "cell_type": "code",
   "execution_count": null,
   "id": "4b0b9b9c",
   "metadata": {},
   "outputs": [],
   "source": [
    "\n",
    "t = pq.read_table('data_crawler/dashboard/gemini_main_view.parquet')\n",
    "df_raw_total_2_KOSPI_reset = t.to_pandas()"
   ]
  },
  {
   "cell_type": "code",
   "execution_count": null,
   "id": "c1e29954",
   "metadata": {},
   "outputs": [],
   "source": []
  },
  {
   "cell_type": "code",
   "execution_count": 7,
   "id": "646ef9f7",
   "metadata": {
    "ExecuteTime": {
     "end_time": "2024-01-08T02:41:06.855152Z",
     "start_time": "2024-01-08T02:41:06.405189Z"
    }
   },
   "outputs": [],
   "source": [
    "t = pq.read_table('data_crawler/cleaning/kor_stock_ohlcv/df_raw_total_2_KOSPI_reset.parquet')\n",
    "df_raw_total_2_KOSPI_reset = t.to_pandas()"
   ]
  },
  {
   "cell_type": "code",
   "execution_count": 9,
   "id": "6c5da45c",
   "metadata": {
    "ExecuteTime": {
     "end_time": "2024-01-08T02:41:21.614527Z",
     "start_time": "2024-01-08T02:41:21.609934Z"
    }
   },
   "outputs": [
    {
     "data": {
      "text/plain": [
       "Index(['date', 'open', 'high', 'low', 'close', 'volume',\n",
       "       'price_change_percentage', 'ticker', 'corp_name', 'market', 'MA5',\n",
       "       'MA20', 'MA60', 'MA120', 'upper', 'lower', 'MACD_DIFF', 'MACD',\n",
       "       'MACD_Signal', '변화량', '상승폭', '하락폭', 'AU', 'AD', 'RSI', 'MA5-20',\n",
       "       'MA20-60', 'MA60-120'],\n",
       "      dtype='object')"
      ]
     },
     "execution_count": 9,
     "metadata": {},
     "output_type": "execute_result"
    }
   ],
   "source": [
    "df_raw_total_2_KOSPI_reset.columns"
   ]
  },
  {
   "cell_type": "code",
   "execution_count": 19,
   "id": "4b449b3c",
   "metadata": {
    "ExecuteTime": {
     "end_time": "2024-01-08T02:47:40.042810Z",
     "start_time": "2024-01-08T02:47:39.833901Z"
    }
   },
   "outputs": [],
   "source": [
    "df_raw_total_2_KOSPI_reset_222 = df_raw_total_2_KOSPI_reset[['date', 'open', 'high', 'low', 'close', 'volume',\n",
    "                            'ticker', 'corp_name', 'market', \n",
    "                            'MA5','MA20', 'MA60', 'MA120', \n",
    "                            'upper', 'lower', 'MACD_DIFF', 'MACD','MACD_Signal', 'RSI']]\n",
    "\n",
    "df_raw_total_2_KOSPI_reset_222 = df_raw_total_2_KOSPI_reset_222[df_raw_total_2_KOSPI_reset_222['market'] == 'KOSPI'].reset_index(drop = True)"
   ]
  },
  {
   "cell_type": "code",
   "execution_count": 22,
   "id": "6374f1cf",
   "metadata": {
    "ExecuteTime": {
     "end_time": "2024-01-08T02:48:49.153373Z",
     "start_time": "2024-01-08T02:48:49.109215Z"
    }
   },
   "outputs": [
    {
     "data": {
      "text/html": [
       "<div>\n",
       "<style scoped>\n",
       "    .dataframe tbody tr th:only-of-type {\n",
       "        vertical-align: middle;\n",
       "    }\n",
       "\n",
       "    .dataframe tbody tr th {\n",
       "        vertical-align: top;\n",
       "    }\n",
       "\n",
       "    .dataframe thead th {\n",
       "        text-align: right;\n",
       "    }\n",
       "</style>\n",
       "<table border=\"1\" class=\"dataframe\">\n",
       "  <thead>\n",
       "    <tr style=\"text-align: right;\">\n",
       "      <th></th>\n",
       "      <th>date</th>\n",
       "      <th>open</th>\n",
       "      <th>high</th>\n",
       "      <th>low</th>\n",
       "      <th>close</th>\n",
       "      <th>volume</th>\n",
       "      <th>ticker</th>\n",
       "      <th>corp_name</th>\n",
       "      <th>market</th>\n",
       "      <th>MA5</th>\n",
       "      <th>MA20</th>\n",
       "      <th>MA60</th>\n",
       "      <th>MA120</th>\n",
       "      <th>upper</th>\n",
       "      <th>lower</th>\n",
       "      <th>MACD_DIFF</th>\n",
       "      <th>MACD</th>\n",
       "      <th>MACD_Signal</th>\n",
       "      <th>RSI</th>\n",
       "    </tr>\n",
       "  </thead>\n",
       "  <tbody>\n",
       "    <tr>\n",
       "      <th>235177</th>\n",
       "      <td>2023-12-22 00:00:00+00:00</td>\n",
       "      <td>370000</td>\n",
       "      <td>400000</td>\n",
       "      <td>350500</td>\n",
       "      <td>400000.0</td>\n",
       "      <td>1040171</td>\n",
       "      <td>017860</td>\n",
       "      <td>DS단석</td>\n",
       "      <td>KOSPI</td>\n",
       "      <td>NaN</td>\n",
       "      <td>NaN</td>\n",
       "      <td>NaN</td>\n",
       "      <td>NaN</td>\n",
       "      <td>NaN</td>\n",
       "      <td>NaN</td>\n",
       "      <td>NaN</td>\n",
       "      <td>NaN</td>\n",
       "      <td>NaN</td>\n",
       "      <td>NaN</td>\n",
       "    </tr>\n",
       "    <tr>\n",
       "      <th>235178</th>\n",
       "      <td>2023-12-26 00:00:00+00:00</td>\n",
       "      <td>471000</td>\n",
       "      <td>495000</td>\n",
       "      <td>318500</td>\n",
       "      <td>335000.0</td>\n",
       "      <td>4181604</td>\n",
       "      <td>017860</td>\n",
       "      <td>DS단석</td>\n",
       "      <td>KOSPI</td>\n",
       "      <td>NaN</td>\n",
       "      <td>NaN</td>\n",
       "      <td>NaN</td>\n",
       "      <td>NaN</td>\n",
       "      <td>NaN</td>\n",
       "      <td>NaN</td>\n",
       "      <td>NaN</td>\n",
       "      <td>NaN</td>\n",
       "      <td>NaN</td>\n",
       "      <td>NaN</td>\n",
       "    </tr>\n",
       "    <tr>\n",
       "      <th>235179</th>\n",
       "      <td>2023-12-27 00:00:00+00:00</td>\n",
       "      <td>366500</td>\n",
       "      <td>372000</td>\n",
       "      <td>270500</td>\n",
       "      <td>282000.0</td>\n",
       "      <td>1731242</td>\n",
       "      <td>017860</td>\n",
       "      <td>DS단석</td>\n",
       "      <td>KOSPI</td>\n",
       "      <td>NaN</td>\n",
       "      <td>NaN</td>\n",
       "      <td>NaN</td>\n",
       "      <td>NaN</td>\n",
       "      <td>NaN</td>\n",
       "      <td>NaN</td>\n",
       "      <td>NaN</td>\n",
       "      <td>NaN</td>\n",
       "      <td>NaN</td>\n",
       "      <td>NaN</td>\n",
       "    </tr>\n",
       "    <tr>\n",
       "      <th>235180</th>\n",
       "      <td>2023-12-28 00:00:00+00:00</td>\n",
       "      <td>278500</td>\n",
       "      <td>299000</td>\n",
       "      <td>262000</td>\n",
       "      <td>289000.0</td>\n",
       "      <td>1018475</td>\n",
       "      <td>017860</td>\n",
       "      <td>DS단석</td>\n",
       "      <td>KOSPI</td>\n",
       "      <td>NaN</td>\n",
       "      <td>NaN</td>\n",
       "      <td>NaN</td>\n",
       "      <td>NaN</td>\n",
       "      <td>NaN</td>\n",
       "      <td>NaN</td>\n",
       "      <td>NaN</td>\n",
       "      <td>NaN</td>\n",
       "      <td>NaN</td>\n",
       "      <td>NaN</td>\n",
       "    </tr>\n",
       "    <tr>\n",
       "      <th>235181</th>\n",
       "      <td>2024-01-02 00:00:00+00:00</td>\n",
       "      <td>278500</td>\n",
       "      <td>294000</td>\n",
       "      <td>278000</td>\n",
       "      <td>279000.0</td>\n",
       "      <td>304472</td>\n",
       "      <td>017860</td>\n",
       "      <td>DS단석</td>\n",
       "      <td>KOSPI</td>\n",
       "      <td>317000.0</td>\n",
       "      <td>NaN</td>\n",
       "      <td>NaN</td>\n",
       "      <td>NaN</td>\n",
       "      <td>NaN</td>\n",
       "      <td>NaN</td>\n",
       "      <td>NaN</td>\n",
       "      <td>NaN</td>\n",
       "      <td>NaN</td>\n",
       "      <td>NaN</td>\n",
       "    </tr>\n",
       "    <tr>\n",
       "      <th>235182</th>\n",
       "      <td>2024-01-03 00:00:00+00:00</td>\n",
       "      <td>274000</td>\n",
       "      <td>303000</td>\n",
       "      <td>272000</td>\n",
       "      <td>298500.0</td>\n",
       "      <td>652663</td>\n",
       "      <td>017860</td>\n",
       "      <td>DS단석</td>\n",
       "      <td>KOSPI</td>\n",
       "      <td>296700.0</td>\n",
       "      <td>NaN</td>\n",
       "      <td>NaN</td>\n",
       "      <td>NaN</td>\n",
       "      <td>NaN</td>\n",
       "      <td>NaN</td>\n",
       "      <td>NaN</td>\n",
       "      <td>NaN</td>\n",
       "      <td>NaN</td>\n",
       "      <td>NaN</td>\n",
       "    </tr>\n",
       "    <tr>\n",
       "      <th>235183</th>\n",
       "      <td>2024-01-04 00:00:00+00:00</td>\n",
       "      <td>294500</td>\n",
       "      <td>300500</td>\n",
       "      <td>279000</td>\n",
       "      <td>280500.0</td>\n",
       "      <td>273558</td>\n",
       "      <td>017860</td>\n",
       "      <td>DS단석</td>\n",
       "      <td>KOSPI</td>\n",
       "      <td>285800.0</td>\n",
       "      <td>NaN</td>\n",
       "      <td>NaN</td>\n",
       "      <td>NaN</td>\n",
       "      <td>NaN</td>\n",
       "      <td>NaN</td>\n",
       "      <td>NaN</td>\n",
       "      <td>NaN</td>\n",
       "      <td>NaN</td>\n",
       "      <td>NaN</td>\n",
       "    </tr>\n",
       "    <tr>\n",
       "      <th>235184</th>\n",
       "      <td>2024-01-05 00:00:00+00:00</td>\n",
       "      <td>278500</td>\n",
       "      <td>282500</td>\n",
       "      <td>260000</td>\n",
       "      <td>261500.0</td>\n",
       "      <td>284726</td>\n",
       "      <td>017860</td>\n",
       "      <td>DS단석</td>\n",
       "      <td>KOSPI</td>\n",
       "      <td>281700.0</td>\n",
       "      <td>NaN</td>\n",
       "      <td>NaN</td>\n",
       "      <td>NaN</td>\n",
       "      <td>NaN</td>\n",
       "      <td>NaN</td>\n",
       "      <td>NaN</td>\n",
       "      <td>NaN</td>\n",
       "      <td>NaN</td>\n",
       "      <td>NaN</td>\n",
       "    </tr>\n",
       "  </tbody>\n",
       "</table>\n",
       "</div>"
      ],
      "text/plain": [
       "                            date    open    high     low     close   volume  \\\n",
       "235177 2023-12-22 00:00:00+00:00  370000  400000  350500  400000.0  1040171   \n",
       "235178 2023-12-26 00:00:00+00:00  471000  495000  318500  335000.0  4181604   \n",
       "235179 2023-12-27 00:00:00+00:00  366500  372000  270500  282000.0  1731242   \n",
       "235180 2023-12-28 00:00:00+00:00  278500  299000  262000  289000.0  1018475   \n",
       "235181 2024-01-02 00:00:00+00:00  278500  294000  278000  279000.0   304472   \n",
       "235182 2024-01-03 00:00:00+00:00  274000  303000  272000  298500.0   652663   \n",
       "235183 2024-01-04 00:00:00+00:00  294500  300500  279000  280500.0   273558   \n",
       "235184 2024-01-05 00:00:00+00:00  278500  282500  260000  261500.0   284726   \n",
       "\n",
       "        ticker corp_name market       MA5  MA20  MA60  MA120  upper  lower  \\\n",
       "235177  017860      DS단석  KOSPI       NaN   NaN   NaN    NaN    NaN    NaN   \n",
       "235178  017860      DS단석  KOSPI       NaN   NaN   NaN    NaN    NaN    NaN   \n",
       "235179  017860      DS단석  KOSPI       NaN   NaN   NaN    NaN    NaN    NaN   \n",
       "235180  017860      DS단석  KOSPI       NaN   NaN   NaN    NaN    NaN    NaN   \n",
       "235181  017860      DS단석  KOSPI  317000.0   NaN   NaN    NaN    NaN    NaN   \n",
       "235182  017860      DS단석  KOSPI  296700.0   NaN   NaN    NaN    NaN    NaN   \n",
       "235183  017860      DS단석  KOSPI  285800.0   NaN   NaN    NaN    NaN    NaN   \n",
       "235184  017860      DS단석  KOSPI  281700.0   NaN   NaN    NaN    NaN    NaN   \n",
       "\n",
       "        MACD_DIFF  MACD  MACD_Signal  RSI  \n",
       "235177        NaN   NaN          NaN  NaN  \n",
       "235178        NaN   NaN          NaN  NaN  \n",
       "235179        NaN   NaN          NaN  NaN  \n",
       "235180        NaN   NaN          NaN  NaN  \n",
       "235181        NaN   NaN          NaN  NaN  \n",
       "235182        NaN   NaN          NaN  NaN  \n",
       "235183        NaN   NaN          NaN  NaN  \n",
       "235184        NaN   NaN          NaN  NaN  "
      ]
     },
     "execution_count": 22,
     "metadata": {},
     "output_type": "execute_result"
    }
   ],
   "source": [
    "df_raw_total_2_KOSPI_reset_222[df_raw_total_2_KOSPI_reset_222['ticker'] == '017860']"
   ]
  },
  {
   "cell_type": "code",
   "execution_count": 21,
   "id": "fb426a06",
   "metadata": {
    "ExecuteTime": {
     "end_time": "2024-01-08T02:47:50.565702Z",
     "start_time": "2024-01-08T02:47:49.873050Z"
    }
   },
   "outputs": [],
   "source": [
    "table_from_pandas = pa.Table.from_pandas(df_raw_total_2_KOSPI_reset_222,preserve_index = False)\n",
    "pq.write_table(table_from_pandas, f'data_crawler/cleaning/kor_stock_ohlcv/df_raw_total_2_KOSPI_{today_date1}_2.parquet')\n"
   ]
  },
  {
   "cell_type": "code",
   "execution_count": null,
   "id": "0a954935",
   "metadata": {},
   "outputs": [],
   "source": []
  }
 ],
 "metadata": {
  "kernelspec": {
   "display_name": "Python 3 (ipykernel)",
   "language": "python",
   "name": "python3"
  },
  "language_info": {
   "codemirror_mode": {
    "name": "ipython",
    "version": 3
   },
   "file_extension": ".py",
   "mimetype": "text/x-python",
   "name": "python",
   "nbconvert_exporter": "python",
   "pygments_lexer": "ipython3",
   "version": "3.11.3"
  },
  "toc": {
   "base_numbering": 1,
   "nav_menu": {},
   "number_sections": true,
   "sideBar": true,
   "skip_h1_title": false,
   "title_cell": "Table of Contents",
   "title_sidebar": "Contents",
   "toc_cell": false,
   "toc_position": {},
   "toc_section_display": true,
   "toc_window_display": false
  }
 },
 "nbformat": 4,
 "nbformat_minor": 5
}
