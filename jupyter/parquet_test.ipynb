{
 "cells": [
  {
   "cell_type": "code",
   "execution_count": 9,
   "id": "2f613b68",
   "metadata": {
    "ExecuteTime": {
     "end_time": "2023-12-21T05:16:39.830225Z",
     "start_time": "2023-12-21T05:16:38.559748Z"
    }
   },
   "outputs": [],
   "source": [
    "import math\n",
    "import pandas as pd\n",
    "import os\n",
    "\n",
    "import glob\n",
    "from pyarrow import csv\n",
    "import pyarrow as pa\n",
    "import pyarrow.parquet as pq\n",
    "import time\n",
    "\n",
    "\n",
    "import psycopg2 as pg2\n",
    "from sqlalchemy import create_engine\n",
    "\n",
    "from datetime import datetime\n",
    "from datetime import timedelta\n",
    "\n",
    "import os\n",
    "import time\n",
    "\n",
    "import glob\n",
    "from google.cloud import bigquery\n",
    "from google.oauth2 import service_account\n",
    "from google.cloud import storage\n"
   ]
  },
  {
   "cell_type": "code",
   "execution_count": 4,
   "id": "aef74861",
   "metadata": {
    "ExecuteTime": {
     "end_time": "2023-12-21T05:15:40.862928Z",
     "start_time": "2023-12-21T05:15:40.859375Z"
    }
   },
   "outputs": [],
   "source": [
    "# 경로 변경\n",
    "os.chdir('/home/shjj08choi4/finance_mlops')\n"
   ]
  },
  {
   "cell_type": "markdown",
   "id": "3cf8602b",
   "metadata": {},
   "source": [
    "### GCS 데이터 등록"
   ]
  },
  {
   "cell_type": "code",
   "execution_count": 10,
   "id": "632edfbd",
   "metadata": {
    "ExecuteTime": {
     "end_time": "2023-12-21T05:16:39.848180Z",
     "start_time": "2023-12-21T05:16:39.833772Z"
    }
   },
   "outputs": [],
   "source": [
    "\n",
    "# 서비스 계정 키 JSON 파일 경로\n",
    "key_path = glob.glob(\"key_value/*.json\")[0]\n",
    "\n",
    "# Credentials 객체 생성\n",
    "credentials = service_account.Credentials.from_service_account_file(key_path)\n",
    "\n",
    "# 빅쿼리 정보\n",
    "project_id = 'owenchoi-404302'\n",
    "dataset_id = 'finance_mlops'\n",
    "\n",
    "# GCP 클라이언트 객체 생성\n",
    "storage_client = storage.Client(credentials = credentials,\n",
    "                         project = credentials.project_id)\n",
    "bucket_name = 'finance-mlops-proj'    # 서비스 계정 생성한 bucket 이름 입력\n"
   ]
  },
  {
   "cell_type": "code",
   "execution_count": null,
   "id": "33c7952a",
   "metadata": {},
   "outputs": [],
   "source": []
  },
  {
   "cell_type": "markdown",
   "id": "6a48995e",
   "metadata": {},
   "source": [
    "### csv, parquet\n",
    "\n",
    "- [parquet 공식문서](https://arrow.apache.org/docs/python/parquet.html)\n",
    "- [Python parquet 타입으로 읽기, 쓰기](https://owening2.tistory.com/19)\n",
    "- [parquet? / csv, parquet 파일 불러오기 테스트](https://velog.io/@freetix/parquet-csv-parquet-%ED%8C%8C%EC%9D%BC-%EB%B6%88%EB%9F%AC%EC%98%A4%EA%B8%B0-%ED%85%8C%EC%8A%A4%ED%8A%B8\n",
    ")\n"
   ]
  },
  {
   "cell_type": "code",
   "execution_count": 2,
   "id": "dbbb15b7",
   "metadata": {
    "ExecuteTime": {
     "end_time": "2023-12-21T05:04:37.323927Z",
     "start_time": "2023-12-21T05:04:37.314481Z"
    }
   },
   "outputs": [
    {
     "data": {
      "text/plain": [
       "'/home/shjj08choi4/finance_mlops/jupyter'"
      ]
     },
     "execution_count": 2,
     "metadata": {},
     "output_type": "execute_result"
    }
   ],
   "source": [
    "os.getcwd()"
   ]
  },
  {
   "cell_type": "code",
   "execution_count": 5,
   "id": "45e86298",
   "metadata": {
    "ExecuteTime": {
     "end_time": "2023-12-21T05:15:52.444181Z",
     "start_time": "2023-12-21T05:15:47.228523Z"
    }
   },
   "outputs": [
    {
     "name": "stderr",
     "output_type": "stream",
     "text": [
      "/tmp/ipykernel_883218/2625704097.py:1: DtypeWarning: Columns (7) have mixed types. Specify dtype option on import or set low_memory=False.\n",
      "  kor_stock_ohlcv = pd.read_csv('data_crawler/kor_stock_ohlcv/kor_stock_ohlcv.csv')\n"
     ]
    }
   ],
   "source": [
    "kor_stock_ohlcv = pd.read_csv('data_crawler/kor_stock_ohlcv/kor_stock_ohlcv.csv')"
   ]
  },
  {
   "cell_type": "code",
   "execution_count": 13,
   "id": "70cdcc9b",
   "metadata": {
    "ExecuteTime": {
     "end_time": "2023-12-21T05:17:26.955646Z",
     "start_time": "2023-12-21T05:17:26.931731Z"
    }
   },
   "outputs": [
    {
     "name": "stdout",
     "output_type": "stream",
     "text": [
      "<class 'pandas.core.frame.DataFrame'>\n",
      "RangeIndex: 3366395 entries, 0 to 3366394\n",
      "Data columns (total 8 columns):\n",
      " #   Column                   Dtype  \n",
      "---  ------                   -----  \n",
      " 0   date                     object \n",
      " 1   open                     int64  \n",
      " 2   high                     int64  \n",
      " 3   low                      int64  \n",
      " 4   close                    int64  \n",
      " 5   volume                   int64  \n",
      " 6   price_change_percentage  float64\n",
      " 7   ticker                   object \n",
      "dtypes: float64(1), int64(5), object(2)\n",
      "memory usage: 205.5+ MB\n"
     ]
    }
   ],
   "source": [
    "kor_stock_ohlcv.info()"
   ]
  },
  {
   "cell_type": "code",
   "execution_count": 13,
   "id": "c0f55f9b",
   "metadata": {
    "ExecuteTime": {
     "end_time": "2023-12-18T03:18:20.351172Z",
     "start_time": "2023-12-18T03:18:20.339303Z"
    }
   },
   "outputs": [
    {
     "data": {
      "text/html": [
       "<div>\n",
       "<style scoped>\n",
       "    .dataframe tbody tr th:only-of-type {\n",
       "        vertical-align: middle;\n",
       "    }\n",
       "\n",
       "    .dataframe tbody tr th {\n",
       "        vertical-align: top;\n",
       "    }\n",
       "\n",
       "    .dataframe thead th {\n",
       "        text-align: right;\n",
       "    }\n",
       "</style>\n",
       "<table border=\"1\" class=\"dataframe\">\n",
       "  <thead>\n",
       "    <tr style=\"text-align: right;\">\n",
       "      <th></th>\n",
       "      <th>date</th>\n",
       "      <th>open</th>\n",
       "      <th>high</th>\n",
       "      <th>low</th>\n",
       "      <th>close</th>\n",
       "      <th>volume</th>\n",
       "      <th>price_change_percentage</th>\n",
       "      <th>ticker</th>\n",
       "    </tr>\n",
       "  </thead>\n",
       "  <tbody>\n",
       "    <tr>\n",
       "      <th>0</th>\n",
       "      <td>2018-01-02</td>\n",
       "      <td>6980</td>\n",
       "      <td>6990</td>\n",
       "      <td>6850</td>\n",
       "      <td>6970</td>\n",
       "      <td>60294</td>\n",
       "      <td>0.000000</td>\n",
       "      <td>095570</td>\n",
       "    </tr>\n",
       "    <tr>\n",
       "      <th>1</th>\n",
       "      <td>2018-01-03</td>\n",
       "      <td>6970</td>\n",
       "      <td>7000</td>\n",
       "      <td>6910</td>\n",
       "      <td>6920</td>\n",
       "      <td>45848</td>\n",
       "      <td>-0.717360</td>\n",
       "      <td>095570</td>\n",
       "    </tr>\n",
       "    <tr>\n",
       "      <th>2</th>\n",
       "      <td>2018-01-04</td>\n",
       "      <td>6990</td>\n",
       "      <td>7100</td>\n",
       "      <td>6920</td>\n",
       "      <td>7070</td>\n",
       "      <td>53176</td>\n",
       "      <td>2.167630</td>\n",
       "      <td>095570</td>\n",
       "    </tr>\n",
       "    <tr>\n",
       "      <th>3</th>\n",
       "      <td>2018-01-05</td>\n",
       "      <td>7080</td>\n",
       "      <td>7300</td>\n",
       "      <td>7040</td>\n",
       "      <td>7250</td>\n",
       "      <td>58573</td>\n",
       "      <td>2.545969</td>\n",
       "      <td>095570</td>\n",
       "    </tr>\n",
       "    <tr>\n",
       "      <th>4</th>\n",
       "      <td>2018-01-08</td>\n",
       "      <td>7330</td>\n",
       "      <td>7330</td>\n",
       "      <td>7100</td>\n",
       "      <td>7130</td>\n",
       "      <td>47104</td>\n",
       "      <td>-1.655172</td>\n",
       "      <td>095570</td>\n",
       "    </tr>\n",
       "  </tbody>\n",
       "</table>\n",
       "</div>"
      ],
      "text/plain": [
       "         date  open  high   low  close  volume  price_change_percentage  \\\n",
       "0  2018-01-02  6980  6990  6850   6970   60294                 0.000000   \n",
       "1  2018-01-03  6970  7000  6910   6920   45848                -0.717360   \n",
       "2  2018-01-04  6990  7100  6920   7070   53176                 2.167630   \n",
       "3  2018-01-05  7080  7300  7040   7250   58573                 2.545969   \n",
       "4  2018-01-08  7330  7330  7100   7130   47104                -1.655172   \n",
       "\n",
       "   ticker  \n",
       "0  095570  \n",
       "1  095570  \n",
       "2  095570  \n",
       "3  095570  \n",
       "4  095570  "
      ]
     },
     "execution_count": 13,
     "metadata": {},
     "output_type": "execute_result"
    }
   ],
   "source": [
    "kor_stock_ohlcv.head()"
   ]
  },
  {
   "cell_type": "code",
   "execution_count": 14,
   "id": "8e7c7bfa",
   "metadata": {
    "ExecuteTime": {
     "end_time": "2023-12-21T05:17:30.995349Z",
     "start_time": "2023-12-21T05:17:30.196514Z"
    }
   },
   "outputs": [],
   "source": [
    "kor_stock_ohlcv['ticker'] = kor_stock_ohlcv['ticker'].astype('str')"
   ]
  },
  {
   "cell_type": "markdown",
   "id": "94cb3d97",
   "metadata": {},
   "source": [
    "#### parquet로 저장하기"
   ]
  },
  {
   "cell_type": "code",
   "execution_count": 15,
   "id": "3b8a5d8a",
   "metadata": {
    "ExecuteTime": {
     "end_time": "2023-12-21T05:17:35.161639Z",
     "start_time": "2023-12-21T05:17:33.420774Z"
    }
   },
   "outputs": [
    {
     "name": "stderr",
     "output_type": "stream",
     "text": [
      "/home/shjj08choi4/anaconda3/lib/python3.11/site-packages/pyarrow/pandas_compat.py:373: FutureWarning: is_sparse is deprecated and will be removed in a future version. Check `isinstance(dtype, pd.SparseDtype)` instead.\n",
      "  if _pandas_api.is_sparse(col):\n"
     ]
    }
   ],
   "source": [
    "\n",
    "table_from_pandas = pa.Table.from_pandas(kor_stock_ohlcv,preserve_index = False)\n",
    "pq.write_table(table_from_pandas, 'data_crawler/kor_stock_ohlcv/kor_stock_ohlcv.parquet')"
   ]
  },
  {
   "cell_type": "markdown",
   "id": "aa25365d",
   "metadata": {},
   "source": [
    "#### parquet 읽어오기"
   ]
  },
  {
   "cell_type": "code",
   "execution_count": 21,
   "id": "9705c4fb",
   "metadata": {
    "ExecuteTime": {
     "end_time": "2023-12-21T05:21:04.592900Z",
     "start_time": "2023-12-21T05:21:03.986358Z"
    }
   },
   "outputs": [],
   "source": [
    "t = pq.read_table('data_crawler/kor_stock_ohlcv/kor_stock_ohlcv.parquet')"
   ]
  },
  {
   "cell_type": "code",
   "execution_count": 22,
   "id": "9c613ed1",
   "metadata": {
    "ExecuteTime": {
     "end_time": "2023-12-21T05:21:07.482771Z",
     "start_time": "2023-12-21T05:21:07.474905Z"
    }
   },
   "outputs": [
    {
     "data": {
      "text/plain": [
       "pyarrow.Table\n",
       "date: string\n",
       "open: int64\n",
       "high: int64\n",
       "low: int64\n",
       "close: int64\n",
       "volume: int64\n",
       "price_change_percentage: double\n",
       "ticker: string\n",
       "----\n",
       "date: [[\"2018-01-02\",\"2018-01-03\",\"2018-01-04\",\"2018-01-05\",\"2018-01-08\",...,\"2023-05-23\",\"2023-05-24\",\"2023-05-25\",\"2023-05-26\",\"2023-05-30\"],[\"2023-05-31\",\"2023-06-01\",\"2023-06-02\",\"2023-06-05\",\"2023-06-07\",...,\"2018-04-23\",\"2018-04-24\",\"2018-04-25\",\"2018-04-26\",\"2018-04-27\"],...,[\"2022-01-13\",\"2022-01-14\",\"2022-01-17\",\"2022-01-18\",\"2022-01-19\",...,\"2019-02-07\",\"2019-02-08\",\"2019-02-11\",\"2019-02-12\",\"2019-02-13\"],[\"2019-02-14\",\"2019-02-15\",\"2019-02-18\",\"2019-02-19\",\"2019-02-20\",...,\"2023-11-30\",\"2023-12-01\",\"2023-12-04\",\"2023-12-05\",\"2023-12-06\"]]\n",
       "open: [[6980,6970,6990,7080,7330,...,16000,15740,15610,15600,15670],[16100,15700,16080,15980,16560,...,15500,14800,14600,14750,14850],...,[5030,4890,4980,4935,4730,...,2735,2820,2820,2825,2860],[2880,2945,2920,2910,2995,...,6220,6330,6450,6480,6280]]\n",
       "high: [[6990,7000,7100,7300,7330,...,16040,15830,15750,15820,16220],[16310,16280,16180,16400,16650,...,15500,15150,14900,14900,14850],...,[5030,5020,5020,5000,4790,...,2825,2865,2870,2885,2905],[2965,2980,2940,3010,3065,...,6330,6490,6500,6480,6450]]\n",
       "low: [[6850,6910,6920,7040,7100,...,15730,15520,15530,15430,15500],[15720,15680,15900,15980,16250,...,14850,14650,14450,14700,14450],...,[4880,4855,4880,4745,4650,...,2700,2800,2800,2810,2825],[2870,2880,2880,2910,2950,...,6210,6290,6380,6250,6260]]\n",
       "close: [[6970,6920,7070,7250,7130,...,15780,15690,15570,15480,16070],[15720,15920,15950,16390,16410,...,15000,14750,14650,14800,14550],...,[4915,4970,4895,4745,4710,...,2820,2820,2850,2860,2875],[2945,2920,2900,2975,3025,...,6330,6410,6430,6360,6430]]\n",
       "volume: [[60294,45848,53176,58573,47104,...,1002297,1041296,792671,1068174,2051000],[2468151,1145728,972223,1359752,2001108,...,193274,137352,131804,79725,85770],...,[178182,195686,100956,216578,104536,...,125738,50171,39908,48263,81400],[195328,84443,44866,120299,199857,...,12703,31437,19005,21136,20617]]\n",
       "price_change_percentage: [[0,-0.7173601147776184,2.167630057803468,2.545968882602546,-1.6551724137931034,...,-1.0037641154328731,-0.5703422053231939,-0.7648183556405354,-0.5780346820809248,3.811369509043928],[-2.177971375233354,1.2722646310432568,0.1884422110552763,2.7586206896551726,0.12202562538133,...,-3.225806451612903,-1.6666666666666667,-0.6779661016949152,1.023890784982935,-1.6891891891891893],...,[-2.091633466135458,1.119023397761953,-1.5090543259557343,-3.0643513789581207,-0.7376185458377239,...,4.444444444444445,0,1.0638297872340423,0.3508771929824561,0.5244755244755245],[2.4347826086956523,-0.8488964346349746,-0.684931506849315,2.586206896551724,1.680672268907563,...,2.2617124394184165,1.263823064770932,0.31201248049922,-1.088646967340591,1.10062893081761]]\n",
       "ticker: [[\"095570\",\"095570\",\"095570\",\"095570\",\"095570\",...,\"34220\",\"34220\",\"34220\",\"34220\",\"34220\"],[\"034220\",\"034220\",\"034220\",\"034220\",\"034220\",...,\"214390\",\"214390\",\"214390\",\"214390\",\"214390\"],...,[\"68050\",\"68050\",\"68050\",\"68050\",\"68050\",...,\"52600\",\"52600\",\"52600\",\"52600\",\"52600\"],[\"052600\",\"052600\",\"052600\",\"052600\",\"052600\",...,\"238490\",\"238490\",\"238490\",\"238490\",\"238490\"]]"
      ]
     },
     "execution_count": 22,
     "metadata": {},
     "output_type": "execute_result"
    }
   ],
   "source": [
    "t"
   ]
  },
  {
   "cell_type": "code",
   "execution_count": 17,
   "id": "ea296791",
   "metadata": {
    "ExecuteTime": {
     "end_time": "2023-12-21T05:17:45.435396Z",
     "start_time": "2023-12-21T05:17:45.091748Z"
    }
   },
   "outputs": [
    {
     "data": {
      "text/html": [
       "<div>\n",
       "<style scoped>\n",
       "    .dataframe tbody tr th:only-of-type {\n",
       "        vertical-align: middle;\n",
       "    }\n",
       "\n",
       "    .dataframe tbody tr th {\n",
       "        vertical-align: top;\n",
       "    }\n",
       "\n",
       "    .dataframe thead th {\n",
       "        text-align: right;\n",
       "    }\n",
       "</style>\n",
       "<table border=\"1\" class=\"dataframe\">\n",
       "  <thead>\n",
       "    <tr style=\"text-align: right;\">\n",
       "      <th></th>\n",
       "      <th>date</th>\n",
       "      <th>open</th>\n",
       "      <th>high</th>\n",
       "      <th>low</th>\n",
       "      <th>close</th>\n",
       "      <th>volume</th>\n",
       "      <th>price_change_percentage</th>\n",
       "      <th>ticker</th>\n",
       "    </tr>\n",
       "  </thead>\n",
       "  <tbody>\n",
       "    <tr>\n",
       "      <th>0</th>\n",
       "      <td>2018-01-02</td>\n",
       "      <td>6980</td>\n",
       "      <td>6990</td>\n",
       "      <td>6850</td>\n",
       "      <td>6970</td>\n",
       "      <td>60294</td>\n",
       "      <td>0.000000</td>\n",
       "      <td>095570</td>\n",
       "    </tr>\n",
       "    <tr>\n",
       "      <th>1</th>\n",
       "      <td>2018-01-03</td>\n",
       "      <td>6970</td>\n",
       "      <td>7000</td>\n",
       "      <td>6910</td>\n",
       "      <td>6920</td>\n",
       "      <td>45848</td>\n",
       "      <td>-0.717360</td>\n",
       "      <td>095570</td>\n",
       "    </tr>\n",
       "    <tr>\n",
       "      <th>2</th>\n",
       "      <td>2018-01-04</td>\n",
       "      <td>6990</td>\n",
       "      <td>7100</td>\n",
       "      <td>6920</td>\n",
       "      <td>7070</td>\n",
       "      <td>53176</td>\n",
       "      <td>2.167630</td>\n",
       "      <td>095570</td>\n",
       "    </tr>\n",
       "    <tr>\n",
       "      <th>3</th>\n",
       "      <td>2018-01-05</td>\n",
       "      <td>7080</td>\n",
       "      <td>7300</td>\n",
       "      <td>7040</td>\n",
       "      <td>7250</td>\n",
       "      <td>58573</td>\n",
       "      <td>2.545969</td>\n",
       "      <td>095570</td>\n",
       "    </tr>\n",
       "    <tr>\n",
       "      <th>4</th>\n",
       "      <td>2018-01-08</td>\n",
       "      <td>7330</td>\n",
       "      <td>7330</td>\n",
       "      <td>7100</td>\n",
       "      <td>7130</td>\n",
       "      <td>47104</td>\n",
       "      <td>-1.655172</td>\n",
       "      <td>095570</td>\n",
       "    </tr>\n",
       "    <tr>\n",
       "      <th>...</th>\n",
       "      <td>...</td>\n",
       "      <td>...</td>\n",
       "      <td>...</td>\n",
       "      <td>...</td>\n",
       "      <td>...</td>\n",
       "      <td>...</td>\n",
       "      <td>...</td>\n",
       "      <td>...</td>\n",
       "    </tr>\n",
       "    <tr>\n",
       "      <th>3366390</th>\n",
       "      <td>2023-11-30</td>\n",
       "      <td>6220</td>\n",
       "      <td>6330</td>\n",
       "      <td>6210</td>\n",
       "      <td>6330</td>\n",
       "      <td>12703</td>\n",
       "      <td>2.261712</td>\n",
       "      <td>238490</td>\n",
       "    </tr>\n",
       "    <tr>\n",
       "      <th>3366391</th>\n",
       "      <td>2023-12-01</td>\n",
       "      <td>6330</td>\n",
       "      <td>6490</td>\n",
       "      <td>6290</td>\n",
       "      <td>6410</td>\n",
       "      <td>31437</td>\n",
       "      <td>1.263823</td>\n",
       "      <td>238490</td>\n",
       "    </tr>\n",
       "    <tr>\n",
       "      <th>3366392</th>\n",
       "      <td>2023-12-04</td>\n",
       "      <td>6450</td>\n",
       "      <td>6500</td>\n",
       "      <td>6380</td>\n",
       "      <td>6430</td>\n",
       "      <td>19005</td>\n",
       "      <td>0.312012</td>\n",
       "      <td>238490</td>\n",
       "    </tr>\n",
       "    <tr>\n",
       "      <th>3366393</th>\n",
       "      <td>2023-12-05</td>\n",
       "      <td>6480</td>\n",
       "      <td>6480</td>\n",
       "      <td>6250</td>\n",
       "      <td>6360</td>\n",
       "      <td>21136</td>\n",
       "      <td>-1.088647</td>\n",
       "      <td>238490</td>\n",
       "    </tr>\n",
       "    <tr>\n",
       "      <th>3366394</th>\n",
       "      <td>2023-12-06</td>\n",
       "      <td>6280</td>\n",
       "      <td>6450</td>\n",
       "      <td>6260</td>\n",
       "      <td>6430</td>\n",
       "      <td>20617</td>\n",
       "      <td>1.100629</td>\n",
       "      <td>238490</td>\n",
       "    </tr>\n",
       "  </tbody>\n",
       "</table>\n",
       "<p>3366395 rows × 8 columns</p>\n",
       "</div>"
      ],
      "text/plain": [
       "               date  open  high   low  close  volume  price_change_percentage  \\\n",
       "0        2018-01-02  6980  6990  6850   6970   60294                 0.000000   \n",
       "1        2018-01-03  6970  7000  6910   6920   45848                -0.717360   \n",
       "2        2018-01-04  6990  7100  6920   7070   53176                 2.167630   \n",
       "3        2018-01-05  7080  7300  7040   7250   58573                 2.545969   \n",
       "4        2018-01-08  7330  7330  7100   7130   47104                -1.655172   \n",
       "...             ...   ...   ...   ...    ...     ...                      ...   \n",
       "3366390  2023-11-30  6220  6330  6210   6330   12703                 2.261712   \n",
       "3366391  2023-12-01  6330  6490  6290   6410   31437                 1.263823   \n",
       "3366392  2023-12-04  6450  6500  6380   6430   19005                 0.312012   \n",
       "3366393  2023-12-05  6480  6480  6250   6360   21136                -1.088647   \n",
       "3366394  2023-12-06  6280  6450  6260   6430   20617                 1.100629   \n",
       "\n",
       "         ticker  \n",
       "0        095570  \n",
       "1        095570  \n",
       "2        095570  \n",
       "3        095570  \n",
       "4        095570  \n",
       "...         ...  \n",
       "3366390  238490  \n",
       "3366391  238490  \n",
       "3366392  238490  \n",
       "3366393  238490  \n",
       "3366394  238490  \n",
       "\n",
       "[3366395 rows x 8 columns]"
      ]
     },
     "execution_count": 17,
     "metadata": {},
     "output_type": "execute_result"
    }
   ],
   "source": [
    "t.to_pandas()"
   ]
  },
  {
   "cell_type": "code",
   "execution_count": 18,
   "id": "c33e9fd4",
   "metadata": {
    "ExecuteTime": {
     "end_time": "2023-12-21T05:18:08.115320Z",
     "start_time": "2023-12-21T05:18:07.548105Z"
    }
   },
   "outputs": [],
   "source": [
    "# Google Storage 적재\n",
    "source_file_name = f'data_crawler/kor_stock_ohlcv/kor_stock_ohlcv.parquet'    # GCP에 업로드할 파일 절대경로\n",
    "destination_blob_name = f'data_crawler/kor_stock_ohlcv/kor_stock_ohlcv.parquet'    # 업로드할 파일을 GCP에 저장할 때의 이름\n",
    "bucket = storage_client.bucket(bucket_name)\n",
    "blob = bucket.blob(destination_blob_name)\n",
    "blob.upload_from_filename(source_file_name)"
   ]
  },
  {
   "cell_type": "code",
   "execution_count": null,
   "id": "e1834fa7",
   "metadata": {},
   "outputs": [],
   "source": []
  }
 ],
 "metadata": {
  "kernelspec": {
   "display_name": "Python 3 (ipykernel)",
   "language": "python",
   "name": "python3"
  },
  "language_info": {
   "codemirror_mode": {
    "name": "ipython",
    "version": 3
   },
   "file_extension": ".py",
   "mimetype": "text/x-python",
   "name": "python",
   "nbconvert_exporter": "python",
   "pygments_lexer": "ipython3",
   "version": "3.11.3"
  },
  "toc": {
   "base_numbering": 1,
   "nav_menu": {},
   "number_sections": true,
   "sideBar": true,
   "skip_h1_title": false,
   "title_cell": "Table of Contents",
   "title_sidebar": "Contents",
   "toc_cell": false,
   "toc_position": {
    "height": "calc(100% - 180px)",
    "left": "10px",
    "top": "150px",
    "width": "220.818px"
   },
   "toc_section_display": true,
   "toc_window_display": true
  }
 },
 "nbformat": 4,
 "nbformat_minor": 5
}
