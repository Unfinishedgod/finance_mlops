{
 "cells": [
  {
   "cell_type": "code",
   "execution_count": 1,
   "id": "2f613b68",
   "metadata": {
    "ExecuteTime": {
     "end_time": "2023-12-18T03:11:24.317152Z",
     "start_time": "2023-12-18T03:11:23.793081Z"
    }
   },
   "outputs": [],
   "source": [
    "import math\n",
    "import pandas as pd\n",
    "import os\n",
    "\n",
    "from pyarrow import csv\n",
    "import pyarrow as pa\n",
    "import pyarrow.parquet as pq\n",
    "import time"
   ]
  },
  {
   "cell_type": "markdown",
   "id": "6a48995e",
   "metadata": {},
   "source": [
    "### csv, parquet\n",
    "\n",
    "- [parquet 공식문서](https://arrow.apache.org/docs/python/parquet.html)\n",
    "- [Python parquet 타입으로 읽기, 쓰기](https://owening2.tistory.com/19)\n",
    "- [parquet? / csv, parquet 파일 불러오기 테스트](https://velog.io/@freetix/parquet-csv-parquet-%ED%8C%8C%EC%9D%BC-%EB%B6%88%EB%9F%AC%EC%98%A4%EA%B8%B0-%ED%85%8C%EC%8A%A4%ED%8A%B8\n",
    ")\n"
   ]
  },
  {
   "cell_type": "code",
   "execution_count": 4,
   "id": "dbbb15b7",
   "metadata": {
    "ExecuteTime": {
     "end_time": "2023-12-18T03:12:09.228744Z",
     "start_time": "2023-12-18T03:12:09.221032Z"
    }
   },
   "outputs": [
    {
     "data": {
      "text/plain": [
       "'/home/shjj08choi4/finance_mlops/jupyter'"
      ]
     },
     "execution_count": 4,
     "metadata": {},
     "output_type": "execute_result"
    }
   ],
   "source": [
    "os.getcwd()"
   ]
  },
  {
   "cell_type": "code",
   "execution_count": 6,
   "id": "45e86298",
   "metadata": {
    "ExecuteTime": {
     "end_time": "2023-12-18T03:12:50.857318Z",
     "start_time": "2023-12-18T03:12:45.915664Z"
    }
   },
   "outputs": [
    {
     "name": "stderr",
     "output_type": "stream",
     "text": [
      "/tmp/ipykernel_1143244/1869254842.py:1: DtypeWarning: Columns (7) have mixed types. Specify dtype option on import or set low_memory=False.\n",
      "  kor_stock_ohlcv = pd.read_csv('../data_crawler/kor_stock_ohlcv/kor_stock_ohlcv.csv')\n"
     ]
    }
   ],
   "source": [
    "kor_stock_ohlcv = pd.read_csv('../data_crawler/kor_stock_ohlcv/kor_stock_ohlcv.csv')"
   ]
  },
  {
   "cell_type": "code",
   "execution_count": 12,
   "id": "70cdcc9b",
   "metadata": {
    "ExecuteTime": {
     "end_time": "2023-12-18T03:14:02.011750Z",
     "start_time": "2023-12-18T03:14:01.986310Z"
    }
   },
   "outputs": [
    {
     "name": "stdout",
     "output_type": "stream",
     "text": [
      "<class 'pandas.core.frame.DataFrame'>\n",
      "RangeIndex: 3366395 entries, 0 to 3366394\n",
      "Data columns (total 8 columns):\n",
      " #   Column                   Dtype  \n",
      "---  ------                   -----  \n",
      " 0   date                     object \n",
      " 1   open                     int64  \n",
      " 2   high                     int64  \n",
      " 3   low                      int64  \n",
      " 4   close                    int64  \n",
      " 5   volume                   int64  \n",
      " 6   price_change_percentage  float64\n",
      " 7   ticker                   object \n",
      "dtypes: float64(1), int64(5), object(2)\n",
      "memory usage: 205.5+ MB\n"
     ]
    }
   ],
   "source": [
    "kor_stock_ohlcv.info()"
   ]
  },
  {
   "cell_type": "code",
   "execution_count": 13,
   "id": "c0f55f9b",
   "metadata": {
    "ExecuteTime": {
     "end_time": "2023-12-18T03:18:20.351172Z",
     "start_time": "2023-12-18T03:18:20.339303Z"
    }
   },
   "outputs": [
    {
     "data": {
      "text/html": [
       "<div>\n",
       "<style scoped>\n",
       "    .dataframe tbody tr th:only-of-type {\n",
       "        vertical-align: middle;\n",
       "    }\n",
       "\n",
       "    .dataframe tbody tr th {\n",
       "        vertical-align: top;\n",
       "    }\n",
       "\n",
       "    .dataframe thead th {\n",
       "        text-align: right;\n",
       "    }\n",
       "</style>\n",
       "<table border=\"1\" class=\"dataframe\">\n",
       "  <thead>\n",
       "    <tr style=\"text-align: right;\">\n",
       "      <th></th>\n",
       "      <th>date</th>\n",
       "      <th>open</th>\n",
       "      <th>high</th>\n",
       "      <th>low</th>\n",
       "      <th>close</th>\n",
       "      <th>volume</th>\n",
       "      <th>price_change_percentage</th>\n",
       "      <th>ticker</th>\n",
       "    </tr>\n",
       "  </thead>\n",
       "  <tbody>\n",
       "    <tr>\n",
       "      <th>0</th>\n",
       "      <td>2018-01-02</td>\n",
       "      <td>6980</td>\n",
       "      <td>6990</td>\n",
       "      <td>6850</td>\n",
       "      <td>6970</td>\n",
       "      <td>60294</td>\n",
       "      <td>0.000000</td>\n",
       "      <td>095570</td>\n",
       "    </tr>\n",
       "    <tr>\n",
       "      <th>1</th>\n",
       "      <td>2018-01-03</td>\n",
       "      <td>6970</td>\n",
       "      <td>7000</td>\n",
       "      <td>6910</td>\n",
       "      <td>6920</td>\n",
       "      <td>45848</td>\n",
       "      <td>-0.717360</td>\n",
       "      <td>095570</td>\n",
       "    </tr>\n",
       "    <tr>\n",
       "      <th>2</th>\n",
       "      <td>2018-01-04</td>\n",
       "      <td>6990</td>\n",
       "      <td>7100</td>\n",
       "      <td>6920</td>\n",
       "      <td>7070</td>\n",
       "      <td>53176</td>\n",
       "      <td>2.167630</td>\n",
       "      <td>095570</td>\n",
       "    </tr>\n",
       "    <tr>\n",
       "      <th>3</th>\n",
       "      <td>2018-01-05</td>\n",
       "      <td>7080</td>\n",
       "      <td>7300</td>\n",
       "      <td>7040</td>\n",
       "      <td>7250</td>\n",
       "      <td>58573</td>\n",
       "      <td>2.545969</td>\n",
       "      <td>095570</td>\n",
       "    </tr>\n",
       "    <tr>\n",
       "      <th>4</th>\n",
       "      <td>2018-01-08</td>\n",
       "      <td>7330</td>\n",
       "      <td>7330</td>\n",
       "      <td>7100</td>\n",
       "      <td>7130</td>\n",
       "      <td>47104</td>\n",
       "      <td>-1.655172</td>\n",
       "      <td>095570</td>\n",
       "    </tr>\n",
       "  </tbody>\n",
       "</table>\n",
       "</div>"
      ],
      "text/plain": [
       "         date  open  high   low  close  volume  price_change_percentage  \\\n",
       "0  2018-01-02  6980  6990  6850   6970   60294                 0.000000   \n",
       "1  2018-01-03  6970  7000  6910   6920   45848                -0.717360   \n",
       "2  2018-01-04  6990  7100  6920   7070   53176                 2.167630   \n",
       "3  2018-01-05  7080  7300  7040   7250   58573                 2.545969   \n",
       "4  2018-01-08  7330  7330  7100   7130   47104                -1.655172   \n",
       "\n",
       "   ticker  \n",
       "0  095570  \n",
       "1  095570  \n",
       "2  095570  \n",
       "3  095570  \n",
       "4  095570  "
      ]
     },
     "execution_count": 13,
     "metadata": {},
     "output_type": "execute_result"
    }
   ],
   "source": [
    "kor_stock_ohlcv.head()"
   ]
  },
  {
   "cell_type": "code",
   "execution_count": 14,
   "id": "8e7c7bfa",
   "metadata": {
    "ExecuteTime": {
     "end_time": "2023-12-18T03:18:31.032424Z",
     "start_time": "2023-12-18T03:18:30.378096Z"
    }
   },
   "outputs": [],
   "source": [
    "kor_stock_ohlcv['ticker'] = kor_stock_ohlcv['ticker'].astype('str')"
   ]
  },
  {
   "cell_type": "markdown",
   "id": "94cb3d97",
   "metadata": {},
   "source": [
    "#### parquet로 저장하기"
   ]
  },
  {
   "cell_type": "code",
   "execution_count": 16,
   "id": "3b8a5d8a",
   "metadata": {
    "ExecuteTime": {
     "end_time": "2023-12-18T03:18:56.080999Z",
     "start_time": "2023-12-18T03:18:54.437669Z"
    }
   },
   "outputs": [],
   "source": [
    "\n",
    "table_from_pandas = pa.Table.from_pandas(kor_stock_ohlcv,preserve_index = False)\n",
    "pq.write_table(table_from_pandas, '../data_crawler/kor_stock_ohlcv/kor_stock_ohlcv.parquet')"
   ]
  },
  {
   "cell_type": "markdown",
   "id": "aa25365d",
   "metadata": {},
   "source": [
    "#### parquet 읽어오기"
   ]
  },
  {
   "cell_type": "code",
   "execution_count": 17,
   "id": "9705c4fb",
   "metadata": {
    "ExecuteTime": {
     "end_time": "2023-12-18T03:19:10.833290Z",
     "start_time": "2023-12-18T03:19:10.231089Z"
    }
   },
   "outputs": [],
   "source": [
    "t = pq.read_table('../data_crawler/kor_stock_ohlcv/kor_stock_ohlcv.parquet')"
   ]
  },
  {
   "cell_type": "code",
   "execution_count": 18,
   "id": "ea296791",
   "metadata": {
    "ExecuteTime": {
     "end_time": "2023-12-18T03:19:13.615419Z",
     "start_time": "2023-12-18T03:19:13.303721Z"
    }
   },
   "outputs": [
    {
     "data": {
      "text/html": [
       "<div>\n",
       "<style scoped>\n",
       "    .dataframe tbody tr th:only-of-type {\n",
       "        vertical-align: middle;\n",
       "    }\n",
       "\n",
       "    .dataframe tbody tr th {\n",
       "        vertical-align: top;\n",
       "    }\n",
       "\n",
       "    .dataframe thead th {\n",
       "        text-align: right;\n",
       "    }\n",
       "</style>\n",
       "<table border=\"1\" class=\"dataframe\">\n",
       "  <thead>\n",
       "    <tr style=\"text-align: right;\">\n",
       "      <th></th>\n",
       "      <th>date</th>\n",
       "      <th>open</th>\n",
       "      <th>high</th>\n",
       "      <th>low</th>\n",
       "      <th>close</th>\n",
       "      <th>volume</th>\n",
       "      <th>price_change_percentage</th>\n",
       "      <th>ticker</th>\n",
       "    </tr>\n",
       "  </thead>\n",
       "  <tbody>\n",
       "    <tr>\n",
       "      <th>0</th>\n",
       "      <td>2018-01-02</td>\n",
       "      <td>6980</td>\n",
       "      <td>6990</td>\n",
       "      <td>6850</td>\n",
       "      <td>6970</td>\n",
       "      <td>60294</td>\n",
       "      <td>0.000000</td>\n",
       "      <td>095570</td>\n",
       "    </tr>\n",
       "    <tr>\n",
       "      <th>1</th>\n",
       "      <td>2018-01-03</td>\n",
       "      <td>6970</td>\n",
       "      <td>7000</td>\n",
       "      <td>6910</td>\n",
       "      <td>6920</td>\n",
       "      <td>45848</td>\n",
       "      <td>-0.717360</td>\n",
       "      <td>095570</td>\n",
       "    </tr>\n",
       "    <tr>\n",
       "      <th>2</th>\n",
       "      <td>2018-01-04</td>\n",
       "      <td>6990</td>\n",
       "      <td>7100</td>\n",
       "      <td>6920</td>\n",
       "      <td>7070</td>\n",
       "      <td>53176</td>\n",
       "      <td>2.167630</td>\n",
       "      <td>095570</td>\n",
       "    </tr>\n",
       "    <tr>\n",
       "      <th>3</th>\n",
       "      <td>2018-01-05</td>\n",
       "      <td>7080</td>\n",
       "      <td>7300</td>\n",
       "      <td>7040</td>\n",
       "      <td>7250</td>\n",
       "      <td>58573</td>\n",
       "      <td>2.545969</td>\n",
       "      <td>095570</td>\n",
       "    </tr>\n",
       "    <tr>\n",
       "      <th>4</th>\n",
       "      <td>2018-01-08</td>\n",
       "      <td>7330</td>\n",
       "      <td>7330</td>\n",
       "      <td>7100</td>\n",
       "      <td>7130</td>\n",
       "      <td>47104</td>\n",
       "      <td>-1.655172</td>\n",
       "      <td>095570</td>\n",
       "    </tr>\n",
       "    <tr>\n",
       "      <th>...</th>\n",
       "      <td>...</td>\n",
       "      <td>...</td>\n",
       "      <td>...</td>\n",
       "      <td>...</td>\n",
       "      <td>...</td>\n",
       "      <td>...</td>\n",
       "      <td>...</td>\n",
       "      <td>...</td>\n",
       "    </tr>\n",
       "    <tr>\n",
       "      <th>3366390</th>\n",
       "      <td>2023-11-30</td>\n",
       "      <td>6220</td>\n",
       "      <td>6330</td>\n",
       "      <td>6210</td>\n",
       "      <td>6330</td>\n",
       "      <td>12703</td>\n",
       "      <td>2.261712</td>\n",
       "      <td>238490</td>\n",
       "    </tr>\n",
       "    <tr>\n",
       "      <th>3366391</th>\n",
       "      <td>2023-12-01</td>\n",
       "      <td>6330</td>\n",
       "      <td>6490</td>\n",
       "      <td>6290</td>\n",
       "      <td>6410</td>\n",
       "      <td>31437</td>\n",
       "      <td>1.263823</td>\n",
       "      <td>238490</td>\n",
       "    </tr>\n",
       "    <tr>\n",
       "      <th>3366392</th>\n",
       "      <td>2023-12-04</td>\n",
       "      <td>6450</td>\n",
       "      <td>6500</td>\n",
       "      <td>6380</td>\n",
       "      <td>6430</td>\n",
       "      <td>19005</td>\n",
       "      <td>0.312012</td>\n",
       "      <td>238490</td>\n",
       "    </tr>\n",
       "    <tr>\n",
       "      <th>3366393</th>\n",
       "      <td>2023-12-05</td>\n",
       "      <td>6480</td>\n",
       "      <td>6480</td>\n",
       "      <td>6250</td>\n",
       "      <td>6360</td>\n",
       "      <td>21136</td>\n",
       "      <td>-1.088647</td>\n",
       "      <td>238490</td>\n",
       "    </tr>\n",
       "    <tr>\n",
       "      <th>3366394</th>\n",
       "      <td>2023-12-06</td>\n",
       "      <td>6280</td>\n",
       "      <td>6450</td>\n",
       "      <td>6260</td>\n",
       "      <td>6430</td>\n",
       "      <td>20617</td>\n",
       "      <td>1.100629</td>\n",
       "      <td>238490</td>\n",
       "    </tr>\n",
       "  </tbody>\n",
       "</table>\n",
       "<p>3366395 rows × 8 columns</p>\n",
       "</div>"
      ],
      "text/plain": [
       "               date  open  high   low  close  volume  price_change_percentage  \\\n",
       "0        2018-01-02  6980  6990  6850   6970   60294                 0.000000   \n",
       "1        2018-01-03  6970  7000  6910   6920   45848                -0.717360   \n",
       "2        2018-01-04  6990  7100  6920   7070   53176                 2.167630   \n",
       "3        2018-01-05  7080  7300  7040   7250   58573                 2.545969   \n",
       "4        2018-01-08  7330  7330  7100   7130   47104                -1.655172   \n",
       "...             ...   ...   ...   ...    ...     ...                      ...   \n",
       "3366390  2023-11-30  6220  6330  6210   6330   12703                 2.261712   \n",
       "3366391  2023-12-01  6330  6490  6290   6410   31437                 1.263823   \n",
       "3366392  2023-12-04  6450  6500  6380   6430   19005                 0.312012   \n",
       "3366393  2023-12-05  6480  6480  6250   6360   21136                -1.088647   \n",
       "3366394  2023-12-06  6280  6450  6260   6430   20617                 1.100629   \n",
       "\n",
       "         ticker  \n",
       "0        095570  \n",
       "1        095570  \n",
       "2        095570  \n",
       "3        095570  \n",
       "4        095570  \n",
       "...         ...  \n",
       "3366390  238490  \n",
       "3366391  238490  \n",
       "3366392  238490  \n",
       "3366393  238490  \n",
       "3366394  238490  \n",
       "\n",
       "[3366395 rows x 8 columns]"
      ]
     },
     "execution_count": 18,
     "metadata": {},
     "output_type": "execute_result"
    }
   ],
   "source": [
    "t.to_pandas()"
   ]
  },
  {
   "cell_type": "code",
   "execution_count": null,
   "id": "c33e9fd4",
   "metadata": {},
   "outputs": [],
   "source": []
  }
 ],
 "metadata": {
  "kernelspec": {
   "display_name": "Python 3 (ipykernel)",
   "language": "python",
   "name": "python3"
  },
  "language_info": {
   "codemirror_mode": {
    "name": "ipython",
    "version": 3
   },
   "file_extension": ".py",
   "mimetype": "text/x-python",
   "name": "python",
   "nbconvert_exporter": "python",
   "pygments_lexer": "ipython3",
   "version": "3.11.3"
  },
  "toc": {
   "base_numbering": 1,
   "nav_menu": {},
   "number_sections": true,
   "sideBar": true,
   "skip_h1_title": false,
   "title_cell": "Table of Contents",
   "title_sidebar": "Contents",
   "toc_cell": false,
   "toc_position": {},
   "toc_section_display": true,
   "toc_window_display": false
  }
 },
 "nbformat": 4,
 "nbformat_minor": 5
}
