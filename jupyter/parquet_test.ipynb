{
 "cells": [
  {
   "cell_type": "code",
   "execution_count": 1,
   "id": "2f613b68",
   "metadata": {
    "ExecuteTime": {
     "end_time": "2023-12-22T03:22:06.438679Z",
     "start_time": "2023-12-22T03:22:04.572802Z"
    }
   },
   "outputs": [],
   "source": [
    "import math\n",
    "import pandas as pd\n",
    "import os\n",
    "\n",
    "import glob\n",
    "from pyarrow import csv\n",
    "import pyarrow as pa\n",
    "import pyarrow.parquet as pq\n",
    "import time\n",
    "\n",
    "\n",
    "import psycopg2 as pg2\n",
    "from sqlalchemy import create_engine\n",
    "\n",
    "from datetime import datetime\n",
    "from datetime import timedelta\n",
    "\n",
    "import os\n",
    "import time\n",
    "\n",
    "import glob\n",
    "from google.cloud import bigquery\n",
    "from google.oauth2 import service_account\n",
    "from google.cloud import storage\n"
   ]
  },
  {
   "cell_type": "code",
   "execution_count": 2,
   "id": "ab571d1b",
   "metadata": {
    "ExecuteTime": {
     "end_time": "2023-12-22T03:22:06.446402Z",
     "start_time": "2023-12-22T03:22:06.442056Z"
    }
   },
   "outputs": [],
   "source": [
    "# 경로 변경\n",
    "os.chdir('/home/shjj08choi4/finance_mlops')\n"
   ]
  },
  {
   "cell_type": "markdown",
   "id": "38442244",
   "metadata": {},
   "source": [
    "### GCS 데이터 등록"
   ]
  },
  {
   "cell_type": "code",
   "execution_count": 3,
   "id": "df388efb",
   "metadata": {
    "ExecuteTime": {
     "end_time": "2023-12-22T03:22:06.461404Z",
     "start_time": "2023-12-22T03:22:06.449923Z"
    }
   },
   "outputs": [],
   "source": [
    "\n",
    "# 서비스 계정 키 JSON 파일 경로\n",
    "key_path = glob.glob(\"key_value/*.json\")[0]\n",
    "\n",
    "# Credentials 객체 생성\n",
    "credentials = service_account.Credentials.from_service_account_file(key_path)\n",
    "\n",
    "# 빅쿼리 정보\n",
    "project_id = 'owenchoi-404302'\n",
    "dataset_id = 'finance_mlops'\n",
    "\n",
    "# GCP 클라이언트 객체 생성\n",
    "storage_client = storage.Client(credentials = credentials,\n",
    "                         project = credentials.project_id)\n",
    "bucket_name = 'finance-mlops-proj'    # 서비스 계정 생성한 bucket 이름 입력\n"
   ]
  },
  {
   "cell_type": "code",
   "execution_count": null,
   "id": "446b0ec0",
   "metadata": {},
   "outputs": [],
   "source": []
  },
  {
   "cell_type": "markdown",
   "id": "6a48995e",
   "metadata": {},
   "source": [
    "### csv, parquet\n",
    "\n",
    "- [parquet 공식문서](https://arrow.apache.org/docs/python/parquet.html)\n",
    "- [Python parquet 타입으로 읽기, 쓰기](https://owening2.tistory.com/19)\n",
    "- [parquet? / csv, parquet 파일 불러오기 테스트](https://velog.io/@freetix/parquet-csv-parquet-%ED%8C%8C%EC%9D%BC-%EB%B6%88%EB%9F%AC%EC%98%A4%EA%B8%B0-%ED%85%8C%EC%8A%A4%ED%8A%B8\n",
    ")\n"
   ]
  },
  {
   "cell_type": "code",
   "execution_count": 4,
   "id": "dbbb15b7",
   "metadata": {
    "ExecuteTime": {
     "end_time": "2023-12-22T03:22:06.472088Z",
     "start_time": "2023-12-22T03:22:06.464520Z"
    }
   },
   "outputs": [
    {
     "data": {
      "text/plain": [
       "'/home/shjj08choi4/finance_mlops'"
      ]
     },
     "execution_count": 4,
     "metadata": {},
     "output_type": "execute_result"
    }
   ],
   "source": [
    "os.getcwd()"
   ]
  },
  {
   "cell_type": "code",
   "execution_count": 5,
   "id": "45e86298",
   "metadata": {
    "ExecuteTime": {
     "end_time": "2023-12-21T05:15:52.444181Z",
     "start_time": "2023-12-21T05:15:47.228523Z"
    }
   },
   "outputs": [
    {
     "name": "stderr",
     "output_type": "stream",
     "text": [
      "/tmp/ipykernel_883218/2625704097.py:1: DtypeWarning: Columns (7) have mixed types. Specify dtype option on import or set low_memory=False.\n",
      "  kor_stock_ohlcv = pd.read_csv('data_crawler/kor_stock_ohlcv/kor_stock_ohlcv.csv')\n"
     ]
    }
   ],
   "source": [
    "kor_stock_ohlcv = pd.read_csv('data_crawler/kor_stock_ohlcv/kor_stock_ohlcv.csv')"
   ]
  },
  {
   "cell_type": "code",
   "execution_count": 24,
   "id": "cd36c6c6",
   "metadata": {
    "ExecuteTime": {
     "end_time": "2023-12-21T05:24:25.457615Z",
     "start_time": "2023-12-21T05:24:21.669908Z"
    }
   },
   "outputs": [
    {
     "name": "stderr",
     "output_type": "stream",
     "text": [
      "/tmp/ipykernel_883218/2503545936.py:3: DtypeWarning: Columns (7) have mixed types. Specify dtype option on import or set low_memory=False.\n",
      "  kor_stock_fundamental = pd.read_csv(\"data_crawler/kor_stock_fundamental/kor_stock_fundamental.csv\")\n"
     ]
    }
   ],
   "source": [
    "kor_ticker_list = pd.read_csv(\"data_crawler/kor_ticker_list/kor_ticker_list.csv\")\n",
    "\n",
    "kor_stock_fundamental = pd.read_csv(\"data_crawler/kor_stock_fundamental/kor_stock_fundamental.csv\")\n"
   ]
  },
  {
   "cell_type": "code",
   "execution_count": 13,
   "id": "70cdcc9b",
   "metadata": {
    "ExecuteTime": {
     "end_time": "2023-12-21T05:17:26.955646Z",
     "start_time": "2023-12-21T05:17:26.931731Z"
    }
   },
   "outputs": [
    {
     "name": "stdout",
     "output_type": "stream",
     "text": [
      "<class 'pandas.core.frame.DataFrame'>\n",
      "RangeIndex: 3366395 entries, 0 to 3366394\n",
      "Data columns (total 8 columns):\n",
      " #   Column                   Dtype  \n",
      "---  ------                   -----  \n",
      " 0   date                     object \n",
      " 1   open                     int64  \n",
      " 2   high                     int64  \n",
      " 3   low                      int64  \n",
      " 4   close                    int64  \n",
      " 5   volume                   int64  \n",
      " 6   price_change_percentage  float64\n",
      " 7   ticker                   object \n",
      "dtypes: float64(1), int64(5), object(2)\n",
      "memory usage: 205.5+ MB\n"
     ]
    }
   ],
   "source": [
    "kor_stock_ohlcv.info()"
   ]
  },
  {
   "cell_type": "code",
   "execution_count": 13,
   "id": "c0f55f9b",
   "metadata": {
    "ExecuteTime": {
     "end_time": "2023-12-18T03:18:20.351172Z",
     "start_time": "2023-12-18T03:18:20.339303Z"
    }
   },
   "outputs": [
    {
     "data": {
      "text/html": [
       "<div>\n",
       "<style scoped>\n",
       "    .dataframe tbody tr th:only-of-type {\n",
       "        vertical-align: middle;\n",
       "    }\n",
       "\n",
       "    .dataframe tbody tr th {\n",
       "        vertical-align: top;\n",
       "    }\n",
       "\n",
       "    .dataframe thead th {\n",
       "        text-align: right;\n",
       "    }\n",
       "</style>\n",
       "<table border=\"1\" class=\"dataframe\">\n",
       "  <thead>\n",
       "    <tr style=\"text-align: right;\">\n",
       "      <th></th>\n",
       "      <th>date</th>\n",
       "      <th>open</th>\n",
       "      <th>high</th>\n",
       "      <th>low</th>\n",
       "      <th>close</th>\n",
       "      <th>volume</th>\n",
       "      <th>price_change_percentage</th>\n",
       "      <th>ticker</th>\n",
       "    </tr>\n",
       "  </thead>\n",
       "  <tbody>\n",
       "    <tr>\n",
       "      <th>0</th>\n",
       "      <td>2018-01-02</td>\n",
       "      <td>6980</td>\n",
       "      <td>6990</td>\n",
       "      <td>6850</td>\n",
       "      <td>6970</td>\n",
       "      <td>60294</td>\n",
       "      <td>0.000000</td>\n",
       "      <td>095570</td>\n",
       "    </tr>\n",
       "    <tr>\n",
       "      <th>1</th>\n",
       "      <td>2018-01-03</td>\n",
       "      <td>6970</td>\n",
       "      <td>7000</td>\n",
       "      <td>6910</td>\n",
       "      <td>6920</td>\n",
       "      <td>45848</td>\n",
       "      <td>-0.717360</td>\n",
       "      <td>095570</td>\n",
       "    </tr>\n",
       "    <tr>\n",
       "      <th>2</th>\n",
       "      <td>2018-01-04</td>\n",
       "      <td>6990</td>\n",
       "      <td>7100</td>\n",
       "      <td>6920</td>\n",
       "      <td>7070</td>\n",
       "      <td>53176</td>\n",
       "      <td>2.167630</td>\n",
       "      <td>095570</td>\n",
       "    </tr>\n",
       "    <tr>\n",
       "      <th>3</th>\n",
       "      <td>2018-01-05</td>\n",
       "      <td>7080</td>\n",
       "      <td>7300</td>\n",
       "      <td>7040</td>\n",
       "      <td>7250</td>\n",
       "      <td>58573</td>\n",
       "      <td>2.545969</td>\n",
       "      <td>095570</td>\n",
       "    </tr>\n",
       "    <tr>\n",
       "      <th>4</th>\n",
       "      <td>2018-01-08</td>\n",
       "      <td>7330</td>\n",
       "      <td>7330</td>\n",
       "      <td>7100</td>\n",
       "      <td>7130</td>\n",
       "      <td>47104</td>\n",
       "      <td>-1.655172</td>\n",
       "      <td>095570</td>\n",
       "    </tr>\n",
       "  </tbody>\n",
       "</table>\n",
       "</div>"
      ],
      "text/plain": [
       "         date  open  high   low  close  volume  price_change_percentage  \\\n",
       "0  2018-01-02  6980  6990  6850   6970   60294                 0.000000   \n",
       "1  2018-01-03  6970  7000  6910   6920   45848                -0.717360   \n",
       "2  2018-01-04  6990  7100  6920   7070   53176                 2.167630   \n",
       "3  2018-01-05  7080  7300  7040   7250   58573                 2.545969   \n",
       "4  2018-01-08  7330  7330  7100   7130   47104                -1.655172   \n",
       "\n",
       "   ticker  \n",
       "0  095570  \n",
       "1  095570  \n",
       "2  095570  \n",
       "3  095570  \n",
       "4  095570  "
      ]
     },
     "execution_count": 13,
     "metadata": {},
     "output_type": "execute_result"
    }
   ],
   "source": [
    "kor_stock_ohlcv.head()"
   ]
  },
  {
   "cell_type": "code",
   "execution_count": 25,
   "id": "8e7c7bfa",
   "metadata": {
    "ExecuteTime": {
     "end_time": "2023-12-21T05:24:44.880377Z",
     "start_time": "2023-12-21T05:24:44.088247Z"
    }
   },
   "outputs": [],
   "source": [
    "kor_stock_ohlcv['ticker'] = kor_stock_ohlcv['ticker'].astype('str')\n",
    "\n",
    "kor_ticker_list['ticker'] = kor_ticker_list['ticker'].astype('str')\n",
    "kor_stock_fundamental['ticker'] = kor_stock_fundamental['ticker'].astype('str')\n",
    "\n"
   ]
  },
  {
   "cell_type": "markdown",
   "id": "94cb3d97",
   "metadata": {},
   "source": [
    "#### parquet로 저장하기"
   ]
  },
  {
   "cell_type": "code",
   "execution_count": 15,
   "id": "3b8a5d8a",
   "metadata": {
    "ExecuteTime": {
     "end_time": "2023-12-21T05:17:35.161639Z",
     "start_time": "2023-12-21T05:17:33.420774Z"
    }
   },
   "outputs": [
    {
     "name": "stderr",
     "output_type": "stream",
     "text": [
      "/home/shjj08choi4/anaconda3/lib/python3.11/site-packages/pyarrow/pandas_compat.py:373: FutureWarning: is_sparse is deprecated and will be removed in a future version. Check `isinstance(dtype, pd.SparseDtype)` instead.\n",
      "  if _pandas_api.is_sparse(col):\n"
     ]
    }
   ],
   "source": [
    "\n",
    "table_from_pandas = pa.Table.from_pandas(kor_stock_ohlcv,preserve_index = False)\n",
    "pq.write_table(table_from_pandas, 'data_crawler/kor_stock_ohlcv/kor_stock_ohlcv.parquet')"
   ]
  },
  {
   "cell_type": "code",
   "execution_count": 26,
   "id": "f9fcf7c7",
   "metadata": {
    "ExecuteTime": {
     "end_time": "2023-12-21T05:25:03.997089Z",
     "start_time": "2023-12-21T05:25:03.983600Z"
    }
   },
   "outputs": [
    {
     "name": "stderr",
     "output_type": "stream",
     "text": [
      "/home/shjj08choi4/anaconda3/lib/python3.11/site-packages/pyarrow/pandas_compat.py:373: FutureWarning: is_sparse is deprecated and will be removed in a future version. Check `isinstance(dtype, pd.SparseDtype)` instead.\n",
      "  if _pandas_api.is_sparse(col):\n"
     ]
    }
   ],
   "source": [
    "\n",
    "table_from_pandas = pa.Table.from_pandas(kor_ticker_list,preserve_index = False)\n",
    "pq.write_table(table_from_pandas, 'data_crawler/kor_ticker_list/kor_ticker_list.parquet')"
   ]
  },
  {
   "cell_type": "code",
   "execution_count": 27,
   "id": "13adf1ab",
   "metadata": {
    "ExecuteTime": {
     "end_time": "2023-12-21T05:25:06.520230Z",
     "start_time": "2023-12-21T05:25:05.452281Z"
    }
   },
   "outputs": [],
   "source": [
    "\n",
    "table_from_pandas = pa.Table.from_pandas(kor_stock_fundamental,preserve_index = False)\n",
    "pq.write_table(table_from_pandas, 'data_crawler/kor_stock_fundamental/kor_stock_fundamental.parquet')"
   ]
  },
  {
   "cell_type": "code",
   "execution_count": null,
   "id": "126d2198",
   "metadata": {},
   "outputs": [],
   "source": []
  },
  {
   "cell_type": "markdown",
   "id": "aa25365d",
   "metadata": {},
   "source": [
    "#### parquet 읽어오기"
   ]
  },
  {
   "cell_type": "code",
   "execution_count": 7,
   "id": "9705c4fb",
   "metadata": {
    "ExecuteTime": {
     "end_time": "2023-12-22T03:23:09.701356Z",
     "start_time": "2023-12-22T03:23:08.314271Z"
    }
   },
   "outputs": [],
   "source": [
    "t = pq.read_table('data_crawler/kor_stock_ohlcv/kor_stock_ohlcv.parquet')\n",
    "kor_stock_ohlcv = t.to_pandas()"
   ]
  },
  {
   "cell_type": "code",
   "execution_count": 8,
   "id": "ea296791",
   "metadata": {
    "ExecuteTime": {
     "end_time": "2023-12-22T03:23:10.424178Z",
     "start_time": "2023-12-22T03:23:09.704123Z"
    }
   },
   "outputs": [],
   "source": [
    "t = pq.read_table('data_crawler/kor_stock_fundamental/kor_stock_fundamental.parquet')\n",
    "kor_stock_fundamental = t.to_pandas()"
   ]
  },
  {
   "cell_type": "code",
   "execution_count": 9,
   "id": "2ade3176",
   "metadata": {
    "ExecuteTime": {
     "end_time": "2023-12-22T03:23:10.436939Z",
     "start_time": "2023-12-22T03:23:10.426340Z"
    }
   },
   "outputs": [],
   "source": [
    "t = pq.read_table('data_crawler/kor_ticker_list/kor_ticker_list.parquet')\n",
    "kor_ticker_list = t.to_pandas()"
   ]
  },
  {
   "cell_type": "code",
   "execution_count": 14,
   "id": "1fb5a269",
   "metadata": {
    "ExecuteTime": {
     "end_time": "2023-12-22T03:23:34.418317Z",
     "start_time": "2023-12-22T03:23:34.406266Z"
    }
   },
   "outputs": [
    {
     "data": {
      "text/html": [
       "<div>\n",
       "<style scoped>\n",
       "    .dataframe tbody tr th:only-of-type {\n",
       "        vertical-align: middle;\n",
       "    }\n",
       "\n",
       "    .dataframe tbody tr th {\n",
       "        vertical-align: top;\n",
       "    }\n",
       "\n",
       "    .dataframe thead th {\n",
       "        text-align: right;\n",
       "    }\n",
       "</style>\n",
       "<table border=\"1\" class=\"dataframe\">\n",
       "  <thead>\n",
       "    <tr style=\"text-align: right;\">\n",
       "      <th></th>\n",
       "      <th>ticker</th>\n",
       "      <th>corp_name</th>\n",
       "      <th>market</th>\n",
       "    </tr>\n",
       "  </thead>\n",
       "  <tbody>\n",
       "    <tr>\n",
       "      <th>0</th>\n",
       "      <td>095570</td>\n",
       "      <td>AJ네트웍스</td>\n",
       "      <td>KOSPI</td>\n",
       "    </tr>\n",
       "    <tr>\n",
       "      <th>1</th>\n",
       "      <td>006840</td>\n",
       "      <td>AK홀딩스</td>\n",
       "      <td>KOSPI</td>\n",
       "    </tr>\n",
       "    <tr>\n",
       "      <th>2</th>\n",
       "      <td>027410</td>\n",
       "      <td>BGF</td>\n",
       "      <td>KOSPI</td>\n",
       "    </tr>\n",
       "    <tr>\n",
       "      <th>3</th>\n",
       "      <td>282330</td>\n",
       "      <td>BGF리테일</td>\n",
       "      <td>KOSPI</td>\n",
       "    </tr>\n",
       "    <tr>\n",
       "      <th>4</th>\n",
       "      <td>138930</td>\n",
       "      <td>BNK금융지주</td>\n",
       "      <td>KOSPI</td>\n",
       "    </tr>\n",
       "    <tr>\n",
       "      <th>...</th>\n",
       "      <td>...</td>\n",
       "      <td>...</td>\n",
       "      <td>...</td>\n",
       "    </tr>\n",
       "    <tr>\n",
       "      <th>947</th>\n",
       "      <td>079980</td>\n",
       "      <td>휴비스</td>\n",
       "      <td>KOSPI</td>\n",
       "    </tr>\n",
       "    <tr>\n",
       "      <th>948</th>\n",
       "      <td>005010</td>\n",
       "      <td>휴스틸</td>\n",
       "      <td>KOSPI</td>\n",
       "    </tr>\n",
       "    <tr>\n",
       "      <th>949</th>\n",
       "      <td>000540</td>\n",
       "      <td>흥국화재</td>\n",
       "      <td>KOSPI</td>\n",
       "    </tr>\n",
       "    <tr>\n",
       "      <th>950</th>\n",
       "      <td>000545</td>\n",
       "      <td>흥국화재우</td>\n",
       "      <td>KOSPI</td>\n",
       "    </tr>\n",
       "    <tr>\n",
       "      <th>951</th>\n",
       "      <td>003280</td>\n",
       "      <td>흥아해운</td>\n",
       "      <td>KOSPI</td>\n",
       "    </tr>\n",
       "  </tbody>\n",
       "</table>\n",
       "<p>952 rows × 3 columns</p>\n",
       "</div>"
      ],
      "text/plain": [
       "     ticker corp_name market\n",
       "0    095570    AJ네트웍스  KOSPI\n",
       "1    006840     AK홀딩스  KOSPI\n",
       "2    027410       BGF  KOSPI\n",
       "3    282330    BGF리테일  KOSPI\n",
       "4    138930   BNK금융지주  KOSPI\n",
       "..      ...       ...    ...\n",
       "947  079980       휴비스  KOSPI\n",
       "948  005010       휴스틸  KOSPI\n",
       "949  000540      흥국화재  KOSPI\n",
       "950  000545     흥국화재우  KOSPI\n",
       "951  003280      흥아해운  KOSPI\n",
       "\n",
       "[952 rows x 3 columns]"
      ]
     },
     "execution_count": 14,
     "metadata": {},
     "output_type": "execute_result"
    }
   ],
   "source": []
  },
  {
   "cell_type": "code",
   "execution_count": 15,
   "id": "3217ebdb",
   "metadata": {
    "ExecuteTime": {
     "end_time": "2023-12-22T03:24:01.288528Z",
     "start_time": "2023-12-22T03:24:01.281573Z"
    }
   },
   "outputs": [],
   "source": [
    "kor_ticker_list_kospi = kor_ticker_list[kor_ticker_list['market'] == 'KOSPI'].reset_index(drop = True)\n",
    "kor_ticker_list_kosdaq = kor_ticker_list[kor_ticker_list['market'] == 'KOSDAQ'].reset_index(drop = True)"
   ]
  },
  {
   "cell_type": "code",
   "execution_count": 28,
   "id": "0547ee1f",
   "metadata": {
    "ExecuteTime": {
     "end_time": "2023-12-22T03:27:51.308148Z",
     "start_time": "2023-12-22T03:27:50.236690Z"
    }
   },
   "outputs": [],
   "source": [
    "kor_stock_fundamental_info = pd.merge(kor_stock_fundamental, kor_ticker_list, \n",
    "        on = 'ticker', \n",
    "        how = 'left')"
   ]
  },
  {
   "cell_type": "code",
   "execution_count": 30,
   "id": "d7de2e49",
   "metadata": {
    "ExecuteTime": {
     "end_time": "2023-12-22T03:28:10.436911Z",
     "start_time": "2023-12-22T03:28:10.421027Z"
    }
   },
   "outputs": [
    {
     "data": {
      "text/html": [
       "<div>\n",
       "<style scoped>\n",
       "    .dataframe tbody tr th:only-of-type {\n",
       "        vertical-align: middle;\n",
       "    }\n",
       "\n",
       "    .dataframe tbody tr th {\n",
       "        vertical-align: top;\n",
       "    }\n",
       "\n",
       "    .dataframe thead th {\n",
       "        text-align: right;\n",
       "    }\n",
       "</style>\n",
       "<table border=\"1\" class=\"dataframe\">\n",
       "  <thead>\n",
       "    <tr style=\"text-align: right;\">\n",
       "      <th></th>\n",
       "      <th>date</th>\n",
       "      <th>bps</th>\n",
       "      <th>per</th>\n",
       "      <th>pbr</th>\n",
       "      <th>eps</th>\n",
       "      <th>div</th>\n",
       "      <th>dps</th>\n",
       "      <th>ticker</th>\n",
       "      <th>corp_name</th>\n",
       "      <th>market</th>\n",
       "    </tr>\n",
       "  </thead>\n",
       "  <tbody>\n",
       "    <tr>\n",
       "      <th>0</th>\n",
       "      <td>2018-01-02</td>\n",
       "      <td>5980</td>\n",
       "      <td>24.20</td>\n",
       "      <td>1.17</td>\n",
       "      <td>288</td>\n",
       "      <td>0.86</td>\n",
       "      <td>60</td>\n",
       "      <td>095570</td>\n",
       "      <td>AJ네트웍스</td>\n",
       "      <td>KOSPI</td>\n",
       "    </tr>\n",
       "    <tr>\n",
       "      <th>1</th>\n",
       "      <td>2018-01-03</td>\n",
       "      <td>5980</td>\n",
       "      <td>24.03</td>\n",
       "      <td>1.16</td>\n",
       "      <td>288</td>\n",
       "      <td>0.87</td>\n",
       "      <td>60</td>\n",
       "      <td>095570</td>\n",
       "      <td>AJ네트웍스</td>\n",
       "      <td>KOSPI</td>\n",
       "    </tr>\n",
       "    <tr>\n",
       "      <th>2</th>\n",
       "      <td>2018-01-04</td>\n",
       "      <td>5980</td>\n",
       "      <td>24.55</td>\n",
       "      <td>1.18</td>\n",
       "      <td>288</td>\n",
       "      <td>0.85</td>\n",
       "      <td>60</td>\n",
       "      <td>095570</td>\n",
       "      <td>AJ네트웍스</td>\n",
       "      <td>KOSPI</td>\n",
       "    </tr>\n",
       "    <tr>\n",
       "      <th>3</th>\n",
       "      <td>2018-01-05</td>\n",
       "      <td>5980</td>\n",
       "      <td>25.17</td>\n",
       "      <td>1.21</td>\n",
       "      <td>288</td>\n",
       "      <td>0.83</td>\n",
       "      <td>60</td>\n",
       "      <td>095570</td>\n",
       "      <td>AJ네트웍스</td>\n",
       "      <td>KOSPI</td>\n",
       "    </tr>\n",
       "    <tr>\n",
       "      <th>4</th>\n",
       "      <td>2018-01-08</td>\n",
       "      <td>5980</td>\n",
       "      <td>24.76</td>\n",
       "      <td>1.19</td>\n",
       "      <td>288</td>\n",
       "      <td>0.84</td>\n",
       "      <td>60</td>\n",
       "      <td>095570</td>\n",
       "      <td>AJ네트웍스</td>\n",
       "      <td>KOSPI</td>\n",
       "    </tr>\n",
       "    <tr>\n",
       "      <th>...</th>\n",
       "      <td>...</td>\n",
       "      <td>...</td>\n",
       "      <td>...</td>\n",
       "      <td>...</td>\n",
       "      <td>...</td>\n",
       "      <td>...</td>\n",
       "      <td>...</td>\n",
       "      <td>...</td>\n",
       "      <td>...</td>\n",
       "      <td>...</td>\n",
       "    </tr>\n",
       "    <tr>\n",
       "      <th>3278193</th>\n",
       "      <td>2023-11-30</td>\n",
       "      <td>5656</td>\n",
       "      <td>0.00</td>\n",
       "      <td>1.12</td>\n",
       "      <td>0</td>\n",
       "      <td>0.00</td>\n",
       "      <td>0</td>\n",
       "      <td>238490</td>\n",
       "      <td>힘스</td>\n",
       "      <td>KOSDAQ</td>\n",
       "    </tr>\n",
       "    <tr>\n",
       "      <th>3278194</th>\n",
       "      <td>2023-12-01</td>\n",
       "      <td>5656</td>\n",
       "      <td>0.00</td>\n",
       "      <td>1.13</td>\n",
       "      <td>0</td>\n",
       "      <td>0.00</td>\n",
       "      <td>0</td>\n",
       "      <td>238490</td>\n",
       "      <td>힘스</td>\n",
       "      <td>KOSDAQ</td>\n",
       "    </tr>\n",
       "    <tr>\n",
       "      <th>3278195</th>\n",
       "      <td>2023-12-04</td>\n",
       "      <td>5656</td>\n",
       "      <td>0.00</td>\n",
       "      <td>1.14</td>\n",
       "      <td>0</td>\n",
       "      <td>0.00</td>\n",
       "      <td>0</td>\n",
       "      <td>238490</td>\n",
       "      <td>힘스</td>\n",
       "      <td>KOSDAQ</td>\n",
       "    </tr>\n",
       "    <tr>\n",
       "      <th>3278196</th>\n",
       "      <td>2023-12-05</td>\n",
       "      <td>5656</td>\n",
       "      <td>0.00</td>\n",
       "      <td>1.12</td>\n",
       "      <td>0</td>\n",
       "      <td>0.00</td>\n",
       "      <td>0</td>\n",
       "      <td>238490</td>\n",
       "      <td>힘스</td>\n",
       "      <td>KOSDAQ</td>\n",
       "    </tr>\n",
       "    <tr>\n",
       "      <th>3278197</th>\n",
       "      <td>2023-12-06</td>\n",
       "      <td>5656</td>\n",
       "      <td>0.00</td>\n",
       "      <td>1.14</td>\n",
       "      <td>0</td>\n",
       "      <td>0.00</td>\n",
       "      <td>0</td>\n",
       "      <td>238490</td>\n",
       "      <td>힘스</td>\n",
       "      <td>KOSDAQ</td>\n",
       "    </tr>\n",
       "  </tbody>\n",
       "</table>\n",
       "<p>3278198 rows × 10 columns</p>\n",
       "</div>"
      ],
      "text/plain": [
       "               date   bps    per   pbr  eps   div  dps  ticker corp_name  \\\n",
       "0        2018-01-02  5980  24.20  1.17  288  0.86   60  095570    AJ네트웍스   \n",
       "1        2018-01-03  5980  24.03  1.16  288  0.87   60  095570    AJ네트웍스   \n",
       "2        2018-01-04  5980  24.55  1.18  288  0.85   60  095570    AJ네트웍스   \n",
       "3        2018-01-05  5980  25.17  1.21  288  0.83   60  095570    AJ네트웍스   \n",
       "4        2018-01-08  5980  24.76  1.19  288  0.84   60  095570    AJ네트웍스   \n",
       "...             ...   ...    ...   ...  ...   ...  ...     ...       ...   \n",
       "3278193  2023-11-30  5656   0.00  1.12    0  0.00    0  238490        힘스   \n",
       "3278194  2023-12-01  5656   0.00  1.13    0  0.00    0  238490        힘스   \n",
       "3278195  2023-12-04  5656   0.00  1.14    0  0.00    0  238490        힘스   \n",
       "3278196  2023-12-05  5656   0.00  1.12    0  0.00    0  238490        힘스   \n",
       "3278197  2023-12-06  5656   0.00  1.14    0  0.00    0  238490        힘스   \n",
       "\n",
       "         market  \n",
       "0         KOSPI  \n",
       "1         KOSPI  \n",
       "2         KOSPI  \n",
       "3         KOSPI  \n",
       "4         KOSPI  \n",
       "...         ...  \n",
       "3278193  KOSDAQ  \n",
       "3278194  KOSDAQ  \n",
       "3278195  KOSDAQ  \n",
       "3278196  KOSDAQ  \n",
       "3278197  KOSDAQ  \n",
       "\n",
       "[3278198 rows x 10 columns]"
      ]
     },
     "execution_count": 30,
     "metadata": {},
     "output_type": "execute_result"
    }
   ],
   "source": [
    "kor_stock_fundamental_info"
   ]
  },
  {
   "cell_type": "code",
   "execution_count": 31,
   "id": "ec690c3d",
   "metadata": {
    "ExecuteTime": {
     "end_time": "2023-12-22T03:28:18.416648Z",
     "start_time": "2023-12-22T03:28:17.372423Z"
    }
   },
   "outputs": [],
   "source": [
    "\n",
    "kor_stock_fundamental_info_kospi = kor_stock_fundamental_info[kor_stock_fundamental_info['market'] == 'KOSPI'].reset_index(drop = True)\n",
    "kor_stock_fundamental_info_kosdaq = kor_stock_fundamental_info[kor_stock_fundamental_info['market'] == 'KOSDAQ'].reset_index(drop = True)"
   ]
  },
  {
   "cell_type": "code",
   "execution_count": null,
   "id": "4b49c38b",
   "metadata": {
    "ExecuteTime": {
     "end_time": "2023-12-22T03:28:04.587321Z",
     "start_time": "2023-12-22T03:28:04.587291Z"
    }
   },
   "outputs": [],
   "source": [
    "kor_stock_fundamental_info_kospi"
   ]
  },
  {
   "cell_type": "code",
   "execution_count": 33,
   "id": "58e9a50b",
   "metadata": {
    "ExecuteTime": {
     "end_time": "2023-12-22T03:28:34.218809Z",
     "start_time": "2023-12-22T03:28:33.749485Z"
    }
   },
   "outputs": [],
   "source": [
    "\n",
    "\n",
    "table_from_pandas = pa.Table.from_pandas(kor_stock_fundamental_info_kosdaq,preserve_index = False)\n",
    "pq.write_table(table_from_pandas, 'data_crawler/kor_stock_fundamental/kor_stock_fundamental_info_kosdaq.parquet')"
   ]
  },
  {
   "cell_type": "code",
   "execution_count": null,
   "id": "be28bb45",
   "metadata": {},
   "outputs": [],
   "source": []
  },
  {
   "cell_type": "code",
   "execution_count": null,
   "id": "6a050461",
   "metadata": {},
   "outputs": [],
   "source": [
    "kor_stock_ohlcv_info_kospi\n",
    "kor_stock_ohlcv_info_kosdaq"
   ]
  },
  {
   "cell_type": "markdown",
   "id": "88ac74d8",
   "metadata": {},
   "source": [
    "### KOSPI KOSDAQ 분류"
   ]
  },
  {
   "cell_type": "code",
   "execution_count": 35,
   "id": "c33e9fd4",
   "metadata": {
    "ExecuteTime": {
     "end_time": "2023-12-22T03:28:51.815694Z",
     "start_time": "2023-12-22T03:28:51.728079Z"
    }
   },
   "outputs": [],
   "source": [
    "# Google Storage 적재\n",
    "source_file_name = f'data_crawler/kor_stock_fundamental/kor_stock_fundamental_info_kospi.parquet'    # GCP에 업로드할 파일 절대경로\n",
    "destination_blob_name = f'data_crawler/kor_stock_fundamental/kor_stock_fundamental_info_kospi.parquet'    # 업로드할 파일을 GCP에 저장할 때의 이름\n",
    "bucket = storage_client.bucket(bucket_name)\n",
    "blob = bucket.blob(destination_blob_name)\n",
    "blob.upload_from_filename(source_file_name)"
   ]
  },
  {
   "cell_type": "code",
   "execution_count": null,
   "id": "1a0a1e89",
   "metadata": {},
   "outputs": [],
   "source": []
  }
 ],
 "metadata": {
  "kernelspec": {
   "display_name": "Python 3 (ipykernel)",
   "language": "python",
   "name": "python3"
  },
  "language_info": {
   "codemirror_mode": {
    "name": "ipython",
    "version": 3
   },
   "file_extension": ".py",
   "mimetype": "text/x-python",
   "name": "python",
   "nbconvert_exporter": "python",
   "pygments_lexer": "ipython3",
   "version": "3.11.3"
  },
  "toc": {
   "base_numbering": 1,
   "nav_menu": {},
   "number_sections": true,
   "sideBar": true,
   "skip_h1_title": false,
   "title_cell": "Table of Contents",
   "title_sidebar": "Contents",
   "toc_cell": false,
   "toc_position": {
    "height": "calc(100% - 180px)",
    "left": "10px",
    "top": "150px",
    "width": "220.807px"
   },
   "toc_section_display": true,
   "toc_window_display": true
  }
 },
 "nbformat": 4,
 "nbformat_minor": 5
}
