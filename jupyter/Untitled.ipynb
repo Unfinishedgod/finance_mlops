{
 "cells": [
  {
   "cell_type": "code",
   "execution_count": 2,
   "id": "7197acd8",
   "metadata": {
    "ExecuteTime": {
     "end_time": "2023-12-28T06:23:14.366366Z",
     "start_time": "2023-12-28T06:23:14.350139Z"
    }
   },
   "outputs": [],
   "source": [
    "import plotly.graph_objects as go\n",
    "\n",
    "from ta.trend import MACD\n",
    "from ta.momentum import StochasticOscillator\n",
    "\n",
    "import numpy as np\n",
    "import pandas as pd\n",
    "from pykrx import stock\n",
    "from pykrx import bond\n",
    "from time import sleep\n",
    "\n",
    "from datetime import datetime\n",
    "from datetime import timedelta\n",
    "import os\n",
    "import time\n",
    "from plotly.subplots import make_subplots\n",
    "import glob\n",
    "\n",
    "import math\n",
    "import pandas as pd\n",
    "import os\n",
    "\n",
    "import glob\n",
    "from pyarrow import csv\n",
    "import pyarrow as pa\n",
    "import pyarrow.parquet as pq\n",
    "import time\n",
    "\n",
    "import numpy as np\n",
    "from ta.trend import MACD\n",
    "from ta.momentum import StochasticOscillator\n",
    "\n",
    "\n",
    "import psycopg2 as pg2\n",
    "from sqlalchemy import create_engine\n",
    "\n",
    "from datetime import datetime\n",
    "from datetime import timedelta\n",
    "\n",
    "import os\n",
    "import time\n",
    "import plotly.express as px\n",
    "import plotly.graph_objects as go\n",
    "\n",
    "import glob\n",
    "from google.cloud import bigquery\n",
    "from google.oauth2 import service_account\n",
    "from google.cloud import storage\n",
    "from plotly.subplots import make_subplots\n",
    "\n",
    "\n",
    "import warnings\n",
    "warnings.filterwarnings('ignore')\n",
    "\n",
    "\n",
    "# 경로 변경\n",
    "os.chdir('/home/shjj08choi4/finance_mlops')\n",
    "\n",
    "\n",
    "# 서비스 계정 키 JSON 파일 경로\n",
    "key_path = glob.glob(\"key_value/*.json\")[0]\n",
    "\n",
    "# Credentials 객체 생성\n",
    "credentials = service_account.Credentials.from_service_account_file(key_path)\n",
    "\n",
    "# 빅쿼리 정보\n",
    "project_id = 'owenchoi-404302'\n",
    "dataset_id = 'finance_mlops'\n",
    "\n",
    "# GCP 클라이언트 객체 생성\n",
    "storage_client = storage.Client(credentials = credentials,\n",
    "                         project = credentials.project_id)\n",
    "bucket_name = 'finance-mlops-proj'    # 서비스 계정 생성한 bucket 이름 입력\n",
    "\n",
    "\n",
    "now = datetime.now()\n",
    "# now = now + timedelta(days=-2)\n",
    "today_date1 = now.strftime('%Y%m%d')\n",
    "today_date2 = now.strftime('%Y-%m-%d')\n",
    "today_date_time_csv = now.strftime(\"%Y%m%d_%H%M\")\n",
    "\n",
    "today_date1 = '20231226'\n",
    "today_date2 = '2023-12-26'\n",
    "\n"
   ]
  },
  {
   "cell_type": "code",
   "execution_count": 8,
   "id": "22feb199",
   "metadata": {
    "ExecuteTime": {
     "end_time": "2023-12-28T06:25:19.462294Z",
     "start_time": "2023-12-28T06:25:19.458083Z"
    }
   },
   "outputs": [],
   "source": [
    "source_blob_name = 'data_crawler/kor_stock_ohlcv/kor_stock_ohlcv.csv'\n",
    "destination_file_name = 'data_crawler/kor_stock_ohlcv/kor_stock_ohlcv_cleaning.csv'\n",
    "\n"
   ]
  },
  {
   "cell_type": "code",
   "execution_count": 9,
   "id": "d34a6de0",
   "metadata": {
    "ExecuteTime": {
     "end_time": "2023-12-28T06:25:19.779124Z",
     "start_time": "2023-12-28T06:25:19.775653Z"
    }
   },
   "outputs": [],
   "source": [
    "\n",
    "# gcs\n",
    "bucket = storage_client.bucket(bucket_name) # Bucket 접속\n"
   ]
  },
  {
   "cell_type": "code",
   "execution_count": 10,
   "id": "31a1a45c",
   "metadata": {
    "ExecuteTime": {
     "end_time": "2023-12-28T06:25:20.535058Z",
     "start_time": "2023-12-28T06:25:20.531035Z"
    }
   },
   "outputs": [],
   "source": [
    "blob = bucket.blob(source_blob_name) # 저장되어 있는 파일 연결\n"
   ]
  },
  {
   "cell_type": "code",
   "execution_count": 11,
   "id": "36c18459",
   "metadata": {
    "ExecuteTime": {
     "end_time": "2023-12-28T06:25:24.187126Z",
     "start_time": "2023-12-28T06:25:21.288609Z"
    }
   },
   "outputs": [],
   "source": [
    "# blob.download_to_filename(destination_file_name) # 파일 다운로드\n",
    "blob.download_to_filename('destination_file_name.csv') # 파일 다운로드"
   ]
  },
  {
   "cell_type": "code",
   "execution_count": null,
   "id": "1e4d3379",
   "metadata": {},
   "outputs": [],
   "source": []
  }
 ],
 "metadata": {
  "kernelspec": {
   "display_name": "Python 3 (ipykernel)",
   "language": "python",
   "name": "python3"
  },
  "language_info": {
   "codemirror_mode": {
    "name": "ipython",
    "version": 3
   },
   "file_extension": ".py",
   "mimetype": "text/x-python",
   "name": "python",
   "nbconvert_exporter": "python",
   "pygments_lexer": "ipython3",
   "version": "3.11.3"
  },
  "toc": {
   "base_numbering": 1,
   "nav_menu": {},
   "number_sections": true,
   "sideBar": true,
   "skip_h1_title": false,
   "title_cell": "Table of Contents",
   "title_sidebar": "Contents",
   "toc_cell": false,
   "toc_position": {},
   "toc_section_display": true,
   "toc_window_display": false
  }
 },
 "nbformat": 4,
 "nbformat_minor": 5
}
