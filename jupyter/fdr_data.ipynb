{
 "cells": [
  {
   "cell_type": "markdown",
   "id": "5656955b",
   "metadata": {},
   "source": [
    "##  FinanceDataReader 데이터 수집"
   ]
  },
  {
   "cell_type": "code",
   "execution_count": 1,
   "id": "4b592ad6",
   "metadata": {},
   "outputs": [],
   "source": [
    "import pandas as pd\n",
    "from time import sleep\n",
    "import FinanceDataReader as fdr\n",
    "\n",
    "from datetime import datetime\n",
    "import os\n",
    "import time"
   ]
  },
  {
   "cell_type": "markdown",
   "id": "c0f9d4cc",
   "metadata": {},
   "source": [
    "### S&P 500 종목 리스트 "
   ]
  },
  {
   "cell_type": "code",
   "execution_count": 2,
   "id": "3242d446",
   "metadata": {},
   "outputs": [
    {
     "data": {
      "text/html": [
       "<div>\n",
       "<style scoped>\n",
       "    .dataframe tbody tr th:only-of-type {\n",
       "        vertical-align: middle;\n",
       "    }\n",
       "\n",
       "    .dataframe tbody tr th {\n",
       "        vertical-align: top;\n",
       "    }\n",
       "\n",
       "    .dataframe thead th {\n",
       "        text-align: right;\n",
       "    }\n",
       "</style>\n",
       "<table border=\"1\" class=\"dataframe\">\n",
       "  <thead>\n",
       "    <tr style=\"text-align: right;\">\n",
       "      <th></th>\n",
       "      <th>ticker</th>\n",
       "      <th>corp_name</th>\n",
       "      <th>sector</th>\n",
       "      <th>industry</th>\n",
       "    </tr>\n",
       "  </thead>\n",
       "  <tbody>\n",
       "    <tr>\n",
       "      <th>0</th>\n",
       "      <td>MMM</td>\n",
       "      <td>3M</td>\n",
       "      <td>Industrials</td>\n",
       "      <td>Industrial Conglomerates</td>\n",
       "    </tr>\n",
       "    <tr>\n",
       "      <th>1</th>\n",
       "      <td>AOS</td>\n",
       "      <td>A. O. Smith</td>\n",
       "      <td>Industrials</td>\n",
       "      <td>Building Products</td>\n",
       "    </tr>\n",
       "    <tr>\n",
       "      <th>2</th>\n",
       "      <td>ABT</td>\n",
       "      <td>Abbott</td>\n",
       "      <td>Health Care</td>\n",
       "      <td>Health Care Equipment</td>\n",
       "    </tr>\n",
       "    <tr>\n",
       "      <th>3</th>\n",
       "      <td>ABBV</td>\n",
       "      <td>AbbVie</td>\n",
       "      <td>Health Care</td>\n",
       "      <td>Pharmaceuticals</td>\n",
       "    </tr>\n",
       "    <tr>\n",
       "      <th>4</th>\n",
       "      <td>ACN</td>\n",
       "      <td>Accenture</td>\n",
       "      <td>Information Technology</td>\n",
       "      <td>IT Consulting &amp; Other Services</td>\n",
       "    </tr>\n",
       "  </tbody>\n",
       "</table>\n",
       "</div>"
      ],
      "text/plain": [
       "  ticker    corp_name                  sector                        industry\n",
       "0    MMM           3M             Industrials        Industrial Conglomerates\n",
       "1    AOS  A. O. Smith             Industrials               Building Products\n",
       "2    ABT       Abbott             Health Care           Health Care Equipment\n",
       "3   ABBV       AbbVie             Health Care                 Pharmaceuticals\n",
       "4    ACN    Accenture  Information Technology  IT Consulting & Other Services"
      ]
     },
     "execution_count": 2,
     "metadata": {},
     "output_type": "execute_result"
    }
   ],
   "source": [
    "# S&P 500 symbol list\n",
    "snp500 = fdr.StockListing('S&P500')\n",
    "snp500.columns = ['ticker', 'corp_name', 'sector', 'industry']\n",
    "snp500.head()"
   ]
  },
  {
   "cell_type": "code",
   "execution_count": 3,
   "id": "73b19289",
   "metadata": {},
   "outputs": [],
   "source": [
    "sp500_ticker_list = snp500['ticker']"
   ]
  },
  {
   "cell_type": "code",
   "execution_count": 5,
   "id": "b0b7c1c0",
   "metadata": {},
   "outputs": [],
   "source": [
    "# snp500.to_csv('data_crawler/snp500_ticker_list.csv', index = False)"
   ]
  },
  {
   "cell_type": "markdown",
   "id": "b82040e9",
   "metadata": {},
   "source": [
    "### 날짜 설정"
   ]
  },
  {
   "cell_type": "code",
   "execution_count": 5,
   "id": "0f0b7bb1",
   "metadata": {},
   "outputs": [],
   "source": [
    "now = datetime.now()\n",
    "today_date2 = now.strftime('%Y-%m-%d')\n",
    "start_date2 = '2017-01-01'"
   ]
  },
  {
   "cell_type": "markdown",
   "id": "f2a99cc8",
   "metadata": {},
   "source": [
    "### S&P 500 데이터 수집"
   ]
  },
  {
   "cell_type": "code",
   "execution_count": 8,
   "id": "fb0297a3",
   "metadata": {},
   "outputs": [
    {
     "name": "stdout",
     "output_type": "stream",
     "text": [
      "MMM success\n",
      "AOS success\n",
      "ABT success\n"
     ]
    }
   ],
   "source": [
    "for ticker_nm in sp500_ticker_list:\n",
    "    file_name = 'snp500_daily'\n",
    "    try:\n",
    "        # Apple(AAPL), 2017-01-01 ~ Now\n",
    "        df_raw = fdr.DataReader(ticker_nm, start_date2,today_date2)\n",
    "        df_raw['ticker'] = ticker_nm\n",
    "        df_raw = df_raw.reset_index()\n",
    "        \n",
    "        \n",
    "        if not os.path.exists(f'data_crawler/{file_name}.csv'):\n",
    "            df_raw.to_csv(f'data_crawler/{file_name}.csv', index=False, mode='w')\n",
    "        else:\n",
    "            df_raw.to_csv(f'data_crawler/{file_name}.csv', index=False, mode='a', header=False)\n",
    "        \n",
    "        print(f'{ticker_nm} success')    \n",
    "    except:\n",
    "        print(f'{ticker_nm} fail')"
   ]
  },
  {
   "cell_type": "code",
   "execution_count": 10,
   "id": "283b19a2",
   "metadata": {},
   "outputs": [
    {
     "data": {
      "text/html": [
       "<div>\n",
       "<style scoped>\n",
       "    .dataframe tbody tr th:only-of-type {\n",
       "        vertical-align: middle;\n",
       "    }\n",
       "\n",
       "    .dataframe tbody tr th {\n",
       "        vertical-align: top;\n",
       "    }\n",
       "\n",
       "    .dataframe thead th {\n",
       "        text-align: right;\n",
       "    }\n",
       "</style>\n",
       "<table border=\"1\" class=\"dataframe\">\n",
       "  <thead>\n",
       "    <tr style=\"text-align: right;\">\n",
       "      <th></th>\n",
       "      <th>Date</th>\n",
       "      <th>Open</th>\n",
       "      <th>High</th>\n",
       "      <th>Low</th>\n",
       "      <th>Close</th>\n",
       "      <th>Adj Close</th>\n",
       "      <th>Volume</th>\n",
       "      <th>ticker</th>\n",
       "    </tr>\n",
       "  </thead>\n",
       "  <tbody>\n",
       "    <tr>\n",
       "      <th>0</th>\n",
       "      <td>2017-01-03</td>\n",
       "      <td>38.630001</td>\n",
       "      <td>39.080002</td>\n",
       "      <td>38.340000</td>\n",
       "      <td>39.049999</td>\n",
       "      <td>34.819305</td>\n",
       "      <td>9677300</td>\n",
       "      <td>ABT</td>\n",
       "    </tr>\n",
       "    <tr>\n",
       "      <th>1</th>\n",
       "      <td>2017-01-04</td>\n",
       "      <td>39.060001</td>\n",
       "      <td>39.730000</td>\n",
       "      <td>39.060001</td>\n",
       "      <td>39.360001</td>\n",
       "      <td>35.095726</td>\n",
       "      <td>22644500</td>\n",
       "      <td>ABT</td>\n",
       "    </tr>\n",
       "    <tr>\n",
       "      <th>2</th>\n",
       "      <td>2017-01-05</td>\n",
       "      <td>39.240002</td>\n",
       "      <td>39.750000</td>\n",
       "      <td>38.980000</td>\n",
       "      <td>39.700001</td>\n",
       "      <td>35.398884</td>\n",
       "      <td>12080100</td>\n",
       "      <td>ABT</td>\n",
       "    </tr>\n",
       "    <tr>\n",
       "      <th>3</th>\n",
       "      <td>2017-01-06</td>\n",
       "      <td>39.700001</td>\n",
       "      <td>40.990002</td>\n",
       "      <td>39.660000</td>\n",
       "      <td>40.779999</td>\n",
       "      <td>36.361877</td>\n",
       "      <td>14628900</td>\n",
       "      <td>ABT</td>\n",
       "    </tr>\n",
       "    <tr>\n",
       "      <th>4</th>\n",
       "      <td>2017-01-09</td>\n",
       "      <td>40.790001</td>\n",
       "      <td>41.060001</td>\n",
       "      <td>40.619999</td>\n",
       "      <td>40.740002</td>\n",
       "      <td>36.326210</td>\n",
       "      <td>10992500</td>\n",
       "      <td>ABT</td>\n",
       "    </tr>\n",
       "  </tbody>\n",
       "</table>\n",
       "</div>"
      ],
      "text/plain": [
       "        Date       Open       High        Low      Close  Adj Close    Volume  \\\n",
       "0 2017-01-03  38.630001  39.080002  38.340000  39.049999  34.819305   9677300   \n",
       "1 2017-01-04  39.060001  39.730000  39.060001  39.360001  35.095726  22644500   \n",
       "2 2017-01-05  39.240002  39.750000  38.980000  39.700001  35.398884  12080100   \n",
       "3 2017-01-06  39.700001  40.990002  39.660000  40.779999  36.361877  14628900   \n",
       "4 2017-01-09  40.790001  41.060001  40.619999  40.740002  36.326210  10992500   \n",
       "\n",
       "  ticker  \n",
       "0    ABT  \n",
       "1    ABT  \n",
       "2    ABT  \n",
       "3    ABT  \n",
       "4    ABT  "
      ]
     },
     "execution_count": 10,
     "metadata": {},
     "output_type": "execute_result"
    }
   ],
   "source": [
    "df_raw.head()"
   ]
  },
  {
   "cell_type": "markdown",
   "id": "fe78d255",
   "metadata": {},
   "source": [
    "### 비트코인 "
   ]
  },
  {
   "cell_type": "code",
   "execution_count": 16,
   "id": "90729e28",
   "metadata": {},
   "outputs": [],
   "source": [
    "btc_df = fdr.DataReader('BTC/KRW', start_date2,today_date2)\n",
    "btc_df = btc_df.reset_index()"
   ]
  },
  {
   "cell_type": "code",
   "execution_count": 17,
   "id": "f0bbe3b4",
   "metadata": {},
   "outputs": [],
   "source": [
    "btc_df.to_csv(f'data_crawler/btc_df.csv')"
   ]
  },
  {
   "cell_type": "code",
   "execution_count": 18,
   "id": "aaee81b3",
   "metadata": {},
   "outputs": [
    {
     "data": {
      "text/html": [
       "<div>\n",
       "<style scoped>\n",
       "    .dataframe tbody tr th:only-of-type {\n",
       "        vertical-align: middle;\n",
       "    }\n",
       "\n",
       "    .dataframe tbody tr th {\n",
       "        vertical-align: top;\n",
       "    }\n",
       "\n",
       "    .dataframe thead th {\n",
       "        text-align: right;\n",
       "    }\n",
       "</style>\n",
       "<table border=\"1\" class=\"dataframe\">\n",
       "  <thead>\n",
       "    <tr style=\"text-align: right;\">\n",
       "      <th></th>\n",
       "      <th>Date</th>\n",
       "      <th>Open</th>\n",
       "      <th>High</th>\n",
       "      <th>Low</th>\n",
       "      <th>Close</th>\n",
       "      <th>Adj Close</th>\n",
       "      <th>Volume</th>\n",
       "    </tr>\n",
       "  </thead>\n",
       "  <tbody>\n",
       "    <tr>\n",
       "      <th>0</th>\n",
       "      <td>2017-01-01</td>\n",
       "      <td>1162412.500</td>\n",
       "      <td>1209403.500</td>\n",
       "      <td>1155893.750</td>\n",
       "      <td>1202971.625</td>\n",
       "      <td>1202971.625</td>\n",
       "      <td>178067406890</td>\n",
       "    </tr>\n",
       "    <tr>\n",
       "      <th>1</th>\n",
       "      <td>2017-01-02</td>\n",
       "      <td>1203323.500</td>\n",
       "      <td>1245300.250</td>\n",
       "      <td>1203916.375</td>\n",
       "      <td>1229052.875</td>\n",
       "      <td>1229052.875</td>\n",
       "      <td>267264105027</td>\n",
       "    </tr>\n",
       "    <tr>\n",
       "      <th>2</th>\n",
       "      <td>2017-01-03</td>\n",
       "      <td>1228872.375</td>\n",
       "      <td>1259066.500</td>\n",
       "      <td>1235420.875</td>\n",
       "      <td>1258881.375</td>\n",
       "      <td>1258881.375</td>\n",
       "      <td>223314459680</td>\n",
       "    </tr>\n",
       "    <tr>\n",
       "      <th>3</th>\n",
       "      <td>2017-01-04</td>\n",
       "      <td>1259556.875</td>\n",
       "      <td>1385054.750</td>\n",
       "      <td>1260194.000</td>\n",
       "      <td>1379382.750</td>\n",
       "      <td>1379382.750</td>\n",
       "      <td>412055225187</td>\n",
       "    </tr>\n",
       "    <tr>\n",
       "      <th>4</th>\n",
       "      <td>2017-01-05</td>\n",
       "      <td>1381771.750</td>\n",
       "      <td>1406141.125</td>\n",
       "      <td>1074738.125</td>\n",
       "      <td>1196467.375</td>\n",
       "      <td>1196467.375</td>\n",
       "      <td>602376662775</td>\n",
       "    </tr>\n",
       "  </tbody>\n",
       "</table>\n",
       "</div>"
      ],
      "text/plain": [
       "        Date         Open         High          Low        Close    Adj Close  \\\n",
       "0 2017-01-01  1162412.500  1209403.500  1155893.750  1202971.625  1202971.625   \n",
       "1 2017-01-02  1203323.500  1245300.250  1203916.375  1229052.875  1229052.875   \n",
       "2 2017-01-03  1228872.375  1259066.500  1235420.875  1258881.375  1258881.375   \n",
       "3 2017-01-04  1259556.875  1385054.750  1260194.000  1379382.750  1379382.750   \n",
       "4 2017-01-05  1381771.750  1406141.125  1074738.125  1196467.375  1196467.375   \n",
       "\n",
       "         Volume  \n",
       "0  178067406890  \n",
       "1  267264105027  \n",
       "2  223314459680  \n",
       "3  412055225187  \n",
       "4  602376662775  "
      ]
     },
     "execution_count": 18,
     "metadata": {},
     "output_type": "execute_result"
    }
   ],
   "source": [
    "btc_df.head()"
   ]
  },
  {
   "cell_type": "markdown",
   "id": "454fd623",
   "metadata": {},
   "source": [
    "### 환율 정보"
   ]
  },
  {
   "cell_type": "code",
   "execution_count": 19,
   "id": "2b084b71",
   "metadata": {},
   "outputs": [],
   "source": [
    "usdkrw = fdr.DataReader('USD/KRW', '1995-01-01', today_date2) # 달러 원화\n",
    "usdkrw = usdkrw.reset_index()"
   ]
  },
  {
   "cell_type": "code",
   "execution_count": 20,
   "id": "23a6413f",
   "metadata": {},
   "outputs": [],
   "source": [
    "usdkrw.to_csv(f'data_crawler/usdkrw.csv')"
   ]
  },
  {
   "cell_type": "code",
   "execution_count": 23,
   "id": "4ccfd3dc",
   "metadata": {},
   "outputs": [
    {
     "data": {
      "text/html": [
       "<div>\n",
       "<style scoped>\n",
       "    .dataframe tbody tr th:only-of-type {\n",
       "        vertical-align: middle;\n",
       "    }\n",
       "\n",
       "    .dataframe tbody tr th {\n",
       "        vertical-align: top;\n",
       "    }\n",
       "\n",
       "    .dataframe thead th {\n",
       "        text-align: right;\n",
       "    }\n",
       "</style>\n",
       "<table border=\"1\" class=\"dataframe\">\n",
       "  <thead>\n",
       "    <tr style=\"text-align: right;\">\n",
       "      <th></th>\n",
       "      <th>Date</th>\n",
       "      <th>Open</th>\n",
       "      <th>High</th>\n",
       "      <th>Low</th>\n",
       "      <th>Close</th>\n",
       "      <th>Adj Close</th>\n",
       "      <th>Volume</th>\n",
       "    </tr>\n",
       "  </thead>\n",
       "  <tbody>\n",
       "    <tr>\n",
       "      <th>5112</th>\n",
       "      <td>2023-07-05</td>\n",
       "      <td>1295.500000</td>\n",
       "      <td>1305.770020</td>\n",
       "      <td>1295.609985</td>\n",
       "      <td>1295.500000</td>\n",
       "      <td>1295.500000</td>\n",
       "      <td>0.0</td>\n",
       "    </tr>\n",
       "    <tr>\n",
       "      <th>5113</th>\n",
       "      <td>2023-07-06</td>\n",
       "      <td>1302.969971</td>\n",
       "      <td>1313.800049</td>\n",
       "      <td>1299.560059</td>\n",
       "      <td>1302.969971</td>\n",
       "      <td>1302.969971</td>\n",
       "      <td>0.0</td>\n",
       "    </tr>\n",
       "    <tr>\n",
       "      <th>5114</th>\n",
       "      <td>2023-07-07</td>\n",
       "      <td>1309.219971</td>\n",
       "      <td>1310.150024</td>\n",
       "      <td>1295.819946</td>\n",
       "      <td>1309.219971</td>\n",
       "      <td>1309.219971</td>\n",
       "      <td>0.0</td>\n",
       "    </tr>\n",
       "    <tr>\n",
       "      <th>5115</th>\n",
       "      <td>2023-07-10</td>\n",
       "      <td>1297.369995</td>\n",
       "      <td>1307.199951</td>\n",
       "      <td>1297.670044</td>\n",
       "      <td>1297.369995</td>\n",
       "      <td>1297.369995</td>\n",
       "      <td>0.0</td>\n",
       "    </tr>\n",
       "    <tr>\n",
       "      <th>5116</th>\n",
       "      <td>2023-07-11</td>\n",
       "      <td>1297.780029</td>\n",
       "      <td>1300.880005</td>\n",
       "      <td>1289.640015</td>\n",
       "      <td>1293.719971</td>\n",
       "      <td>1293.719971</td>\n",
       "      <td>0.0</td>\n",
       "    </tr>\n",
       "  </tbody>\n",
       "</table>\n",
       "</div>"
      ],
      "text/plain": [
       "           Date         Open         High          Low        Close  \\\n",
       "5112 2023-07-05  1295.500000  1305.770020  1295.609985  1295.500000   \n",
       "5113 2023-07-06  1302.969971  1313.800049  1299.560059  1302.969971   \n",
       "5114 2023-07-07  1309.219971  1310.150024  1295.819946  1309.219971   \n",
       "5115 2023-07-10  1297.369995  1307.199951  1297.670044  1297.369995   \n",
       "5116 2023-07-11  1297.780029  1300.880005  1289.640015  1293.719971   \n",
       "\n",
       "        Adj Close  Volume  \n",
       "5112  1295.500000     0.0  \n",
       "5113  1302.969971     0.0  \n",
       "5114  1309.219971     0.0  \n",
       "5115  1297.369995     0.0  \n",
       "5116  1293.719971     0.0  "
      ]
     },
     "execution_count": 23,
     "metadata": {},
     "output_type": "execute_result"
    }
   ],
   "source": [
    "usdkrw.tail()"
   ]
  },
  {
   "cell_type": "code",
   "execution_count": null,
   "id": "4f287f81",
   "metadata": {},
   "outputs": [],
   "source": []
  },
  {
   "cell_type": "code",
   "execution_count": null,
   "id": "8e98c248",
   "metadata": {},
   "outputs": [],
   "source": []
  },
  {
   "cell_type": "code",
   "execution_count": null,
   "id": "793de818",
   "metadata": {},
   "outputs": [],
   "source": []
  }
 ],
 "metadata": {
  "kernelspec": {
   "display_name": "Python 3 (ipykernel)",
   "language": "python",
   "name": "python3"
  },
  "language_info": {
   "codemirror_mode": {
    "name": "ipython",
    "version": 3
   },
   "file_extension": ".py",
   "mimetype": "text/x-python",
   "name": "python",
   "nbconvert_exporter": "python",
   "pygments_lexer": "ipython3",
   "version": "3.10.9"
  },
  "toc": {
   "base_numbering": 1,
   "nav_menu": {},
   "number_sections": true,
   "sideBar": true,
   "skip_h1_title": false,
   "title_cell": "Table of Contents",
   "title_sidebar": "Contents",
   "toc_cell": false,
   "toc_position": {
    "height": "calc(100% - 180px)",
    "left": "10px",
    "top": "150px",
    "width": "221.528px"
   },
   "toc_section_display": true,
   "toc_window_display": true
  }
 },
 "nbformat": 4,
 "nbformat_minor": 5
}
