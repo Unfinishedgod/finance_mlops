{
 "cells": [
  {
   "cell_type": "code",
   "execution_count": 3,
   "id": "7dacefdc",
   "metadata": {},
   "outputs": [],
   "source": [
    "import pandas as pd\n",
    "from pykrx import stock\n",
    "from pykrx import bond\n",
    "from time import sleep\n",
    "\n",
    "from datetime import datetime\n",
    "import os\n",
    "import time\n",
    "\n",
    "import glob"
   ]
  },
  {
   "cell_type": "code",
   "execution_count": 7,
   "id": "850b160f",
   "metadata": {},
   "outputs": [],
   "source": [
    "now = datetime.now()\n",
    "today_date1 = now.strftime('%Y%m%d')\n",
    "today_date2 = now.strftime('%Y-%m-%d')\n",
    "ticker_nm = '005930'\n",
    "\n",
    "file_dir = '/home/owenchoi07/finance_mlops/data_crawler'\n"
   ]
  },
  {
   "cell_type": "code",
   "execution_count": 8,
   "id": "b14879c7",
   "metadata": {},
   "outputs": [
    {
     "data": {
      "text/plain": [
       "['/home/owenchoi07/finance_mlops/data_crawler/kor_stock_fundamental_20230713.csv',\n",
       " '/home/owenchoi07/finance_mlops/data_crawler/kor_stock_ohlcv_20230713.csv',\n",
       " '/home/owenchoi07/finance_mlops/data_crawler/kor_market_cap_20230713.csv']"
      ]
     },
     "execution_count": 8,
     "metadata": {},
     "output_type": "execute_result"
    }
   ],
   "source": [
    "glob.glob(f'{file_dir}/*{today_date1}.csv')"
   ]
  },
  {
   "cell_type": "code",
   "execution_count": 44,
   "id": "c2983c8d",
   "metadata": {},
   "outputs": [],
   "source": [
    "kor_ticker_list = pd.read_csv(f'{file_dir}/kor_ticker_list.csv')"
   ]
  },
  {
   "cell_type": "code",
   "execution_count": 9,
   "id": "7082fa79",
   "metadata": {},
   "outputs": [],
   "source": [
    "file_list = glob.glob(f'{file_dir}/*{today_date1}.csv')"
   ]
  },
  {
   "cell_type": "code",
   "execution_count": 45,
   "id": "330da6ba",
   "metadata": {},
   "outputs": [],
   "source": [
    "df = pd.read_csv(file_list[1])"
   ]
  },
  {
   "cell_type": "code",
   "execution_count": 60,
   "id": "994c2d1f",
   "metadata": {},
   "outputs": [],
   "source": [
    "df2 = pd.merge(df, kor_ticker_list,\n",
    "        how = 'left',\n",
    "        on = 'ticker')"
   ]
  },
  {
   "cell_type": "code",
   "execution_count": 71,
   "id": "7985a9f6",
   "metadata": {},
   "outputs": [],
   "source": [
    "\n",
    "max_value_1 = df2[df2['market'] == 'KOSPI'].sort_values(by ='등락률', ascending = False).head(3)\n",
    "max_value_2 = df2[df2['market'] == 'KOSDAQ'].sort_values(by ='등락률', ascending = False).head(3)\n",
    "min_value_1 = df2[df2['market'] == 'KOSPI'].sort_values(by ='등락률', ascending = True).head(3)\n",
    "min_value_2 = df2[df2['market'] == 'KOSDAQ'].sort_values(by ='등락률', ascending = True).head(3)"
   ]
  },
  {
   "cell_type": "code",
   "execution_count": 78,
   "id": "983b30a8",
   "metadata": {},
   "outputs": [],
   "source": [
    "min_max_stock = pd.concat([max_value_1,\n",
    "          max_value_2,\n",
    "          min_value_1,\n",
    "          min_value_2])"
   ]
  },
  {
   "cell_type": "code",
   "execution_count": 79,
   "id": "bd075c09",
   "metadata": {},
   "outputs": [],
   "source": [
    "min_max_stock.to_csv(f'{file_dir}/min_max_{today_date1}.csv', index = False)"
   ]
  }
 ],
 "metadata": {
  "kernelspec": {
   "display_name": "Python 3 (ipykernel)",
   "language": "python",
   "name": "python3"
  },
  "language_info": {
   "codemirror_mode": {
    "name": "ipython",
    "version": 3
   },
   "file_extension": ".py",
   "mimetype": "text/x-python",
   "name": "python",
   "nbconvert_exporter": "python",
   "pygments_lexer": "ipython3",
   "version": "3.10.9"
  },
  "toc": {
   "base_numbering": 1,
   "nav_menu": {},
   "number_sections": true,
   "sideBar": true,
   "skip_h1_title": false,
   "title_cell": "Table of Contents",
   "title_sidebar": "Contents",
   "toc_cell": false,
   "toc_position": {},
   "toc_section_display": true,
   "toc_window_display": false
  }
 },
 "nbformat": 4,
 "nbformat_minor": 5
}
