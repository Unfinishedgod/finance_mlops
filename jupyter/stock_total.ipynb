{
 "cells": [
  {
   "cell_type": "code",
   "execution_count": 3,
   "id": "357cfed2",
   "metadata": {},
   "outputs": [],
   "source": [
    "import plotly.graph_objects as go\n",
    "\n",
    "from ta.trend import MACD\n",
    "from ta.momentum import StochasticOscillator\n",
    "\n",
    "import numpy as np\n",
    "import pandas as pd\n",
    "from pykrx import stock\n",
    "from pykrx import bond\n",
    "from time import sleep\n",
    "\n",
    "from datetime import datetime\n",
    "from datetime import timedelta\n",
    "import os\n",
    "import time\n",
    "from plotly.subplots import make_subplots\n",
    "import glob"
   ]
  },
  {
   "cell_type": "markdown",
   "id": "92efd4c0",
   "metadata": {},
   "source": [
    "## 데이터 수집"
   ]
  },
  {
   "cell_type": "code",
   "execution_count": 52,
   "id": "a0c2c7d9",
   "metadata": {},
   "outputs": [],
   "source": [
    "ticker_nm = '005930'\n",
    "ticker_nm = '247540'\n",
    "start_date  = '20190101'\n",
    "today_date1 = '20231020'\n",
    "\n",
    "df_raw = stock.get_market_ohlcv(start_date, today_date1, ticker_nm)\n",
    "df_raw = df_raw.reset_index()\n",
    "df_raw['ticker'] = ticker_nm\n",
    "\n",
    "df_raw.columns = ['date', 'open', 'high', 'low', 'close', 'volume','price_change_percentage', 'ticker']"
   ]
  },
  {
   "cell_type": "markdown",
   "id": "e5a42ac0",
   "metadata": {},
   "source": [
    "## 보조지표 계산"
   ]
  },
  {
   "cell_type": "markdown",
   "id": "7865bda5",
   "metadata": {},
   "source": [
    "### 이동평균선 계산"
   ]
  },
  {
   "cell_type": "code",
   "execution_count": 53,
   "id": "38b9cd57",
   "metadata": {},
   "outputs": [],
   "source": [
    "df_raw['MA5'] = df_raw['close'].rolling(window=5).mean()\n",
    "df_raw['MA20'] = df_raw['close'].rolling(window=20).mean()\n",
    "df_raw['MA60'] = df_raw['close'].rolling(window=60).mean()\n",
    "df_raw['MA120'] = df_raw['close'].rolling(window=120).mean()"
   ]
  },
  {
   "cell_type": "markdown",
   "id": "bc4d56cf",
   "metadata": {},
   "source": [
    "### 볼린저밴드 계산"
   ]
  },
  {
   "cell_type": "code",
   "execution_count": 54,
   "id": "48f1e2dd",
   "metadata": {},
   "outputs": [],
   "source": [
    "std = df_raw['close'].rolling(20).std(ddof=0)\n",
    "\n",
    "df_raw['upper'] = df_raw['MA20'] + 2 * std\n",
    "df_raw['lower'] = df_raw['MA20'] - 2 * std"
   ]
  },
  {
   "cell_type": "markdown",
   "id": "31064a3c",
   "metadata": {},
   "source": [
    "### MACD 계산"
   ]
  },
  {
   "cell_type": "code",
   "execution_count": 55,
   "id": "8e4d78ab",
   "metadata": {},
   "outputs": [],
   "source": [
    "# MACD \n",
    "macd = MACD(close=df_raw['close'], \n",
    "            window_slow=26,\n",
    "            window_fast=12, \n",
    "            window_sign=9)\n",
    "\n",
    "\n",
    "df_raw['MACD_DIFF'] = macd.macd_diff()\n",
    "df_raw['MACD'] = macd.macd()\n",
    "df_raw['MACD_Signal'] = macd.macd_signal()"
   ]
  },
  {
   "cell_type": "markdown",
   "id": "feaefba4",
   "metadata": {},
   "source": [
    "### RSI 계산"
   ]
  },
  {
   "cell_type": "code",
   "execution_count": 56,
   "id": "754948bb",
   "metadata": {},
   "outputs": [],
   "source": [
    "df_raw['변화량'] = df_raw['close'] - df_raw['close'].shift(1)\n",
    "df_raw['상승폭'] = np.where(df_raw['변화량']>=0, df_raw['변화량'], 0)\n",
    "df_raw['하락폭'] = np.where(df_raw['변화량'] <0, df_raw['변화량'].abs(), 0)\n",
    "\n",
    "# welles moving average\n",
    "df_raw['AU'] = df_raw['상승폭'].ewm(alpha=1/14, min_periods=14).mean()\n",
    "df_raw['AD'] = df_raw['하락폭'].ewm(alpha=1/14, min_periods=14).mean()\n",
    "df_raw['RSI'] = df_raw['AU'] / (df_raw['AU'] + df_raw['AD']) * 100"
   ]
  },
  {
   "cell_type": "code",
   "execution_count": null,
   "id": "86a0172c",
   "metadata": {},
   "outputs": [],
   "source": []
  },
  {
   "cell_type": "markdown",
   "id": "32ffd54d",
   "metadata": {},
   "source": [
    "### 이동평균선 차이 계산"
   ]
  },
  {
   "cell_type": "code",
   "execution_count": 57,
   "id": "54356c26",
   "metadata": {},
   "outputs": [],
   "source": [
    "df_raw['MA5-20'] = df_raw['MA5'] - df_raw['MA20']\n",
    "df_raw['MA20-60'] = df_raw['MA20'] - df_raw['MA60']\n",
    "df_raw['MA60-120'] = df_raw['MA60'] - df_raw['MA120']"
   ]
  },
  {
   "cell_type": "code",
   "execution_count": null,
   "id": "780d3123",
   "metadata": {},
   "outputs": [],
   "source": []
  },
  {
   "cell_type": "markdown",
   "id": "46108eca",
   "metadata": {},
   "source": [
    "## 보조지표 분석"
   ]
  },
  {
   "cell_type": "code",
   "execution_count": 58,
   "id": "94e9a4f4",
   "metadata": {},
   "outputs": [],
   "source": [
    "df_raw_anal = df_raw[['date','ticker', 'close']]"
   ]
  },
  {
   "cell_type": "markdown",
   "id": "c487726d",
   "metadata": {},
   "source": [
    "### 골든크로스"
   ]
  },
  {
   "cell_type": "code",
   "execution_count": 59,
   "id": "5ed81b6b",
   "metadata": {},
   "outputs": [],
   "source": [
    "# 골든 크로스 5-20\n",
    "# 음수에서 양수로 바뀌는 모든 인덱스 찾기\n",
    "idx_5_20_gold_cross = [idx for idx in range(len(df_raw)) if df_raw[\"MA5-20\"].iloc[idx] > 0 and df_raw[\"MA5-20\"].iloc[idx - 1] <= 0]\n",
    "\n",
    "# 데드 크로스 5-20\n",
    "# 양수에서 음수로 바뀌는 모든 인덱스 찾기\n",
    "idx_5_20_dead_cross = [idx for idx in range(len(df_raw)) if df_raw[\"MA5-20\"].iloc[idx] < 0 and df_raw[\"MA5-20\"].iloc[idx - 1] >= 0]\n",
    "\n",
    "# 골든 크로스 20-60\n",
    "# 음수에서 양수로 바뀌는 모든 인덱스 찾기\n",
    "idx_20_60_gold_cross = [idx for idx in range(len(df_raw)) if df_raw[\"MA20-60\"].iloc[idx] > 0 and df_raw[\"MA20-60\"].iloc[idx - 1] <= 0]\n",
    "\n",
    "# 골든 크로스 20-60\n",
    "# 음수에서 양수로 바뀌는 모든 인덱스 찾기\n",
    "idx_20_60_dead_cross = [idx for idx in range(len(df_raw)) if df_raw[\"MA20-60\"].iloc[idx] < 0 and df_raw[\"MA20-60\"].iloc[idx - 1] >= 0]"
   ]
  },
  {
   "cell_type": "code",
   "execution_count": 60,
   "id": "d4f82f56",
   "metadata": {},
   "outputs": [
    {
     "name": "stderr",
     "output_type": "stream",
     "text": [
      "/tmp/ipykernel_1629324/1314038236.py:1: SettingWithCopyWarning:\n",
      "\n",
      "\n",
      "A value is trying to be set on a copy of a slice from a DataFrame.\n",
      "Try using .loc[row_indexer,col_indexer] = value instead\n",
      "\n",
      "See the caveats in the documentation: https://pandas.pydata.org/pandas-docs/stable/user_guide/indexing.html#returning-a-view-versus-a-copy\n",
      "\n",
      "/tmp/ipykernel_1629324/1314038236.py:5: SettingWithCopyWarning:\n",
      "\n",
      "\n",
      "A value is trying to be set on a copy of a slice from a DataFrame.\n",
      "Try using .loc[row_indexer,col_indexer] = value instead\n",
      "\n",
      "See the caveats in the documentation: https://pandas.pydata.org/pandas-docs/stable/user_guide/indexing.html#returning-a-view-versus-a-copy\n",
      "\n"
     ]
    }
   ],
   "source": [
    "df_raw_anal.loc[:, '5_20_cross'] = '-'\n",
    "df_raw_anal.loc[idx_5_20_gold_cross,'5_20_cross'] = '골든크로스(매수)'\n",
    "df_raw_anal.loc[idx_5_20_dead_cross,'5_20_cross'] = '데드크로스(매도)'\n",
    "\n",
    "df_raw_anal.loc[:, '20_60_cross'] = '-'\n",
    "df_raw_anal.loc[idx_20_60_gold_cross,'20_60_cross'] = '골든크로스(매수)'\n",
    "df_raw_anal.loc[idx_20_60_dead_cross,'20_60_cross'] = '데드크로스(매도)'"
   ]
  },
  {
   "cell_type": "markdown",
   "id": "b6f54264",
   "metadata": {},
   "source": [
    "### 정배열, 역배열"
   ]
  },
  {
   "cell_type": "code",
   "execution_count": 61,
   "id": "055d2b37",
   "metadata": {},
   "outputs": [],
   "source": [
    "ascending_sq  = (df_raw['MA5-20'] > 0) & \\\n",
    "(df_raw['MA20-60'] > 0) & \\\n",
    "(df_raw['MA60-120'] > 0) \n",
    "\n",
    "descending_sq  = (df_raw['MA5-20'] < 0) & \\\n",
    "(df_raw['MA20-60'] < 0) & \\\n",
    "(df_raw['MA60-120'] < 0) "
   ]
  },
  {
   "cell_type": "code",
   "execution_count": 62,
   "id": "71d34ad0",
   "metadata": {},
   "outputs": [
    {
     "name": "stderr",
     "output_type": "stream",
     "text": [
      "/tmp/ipykernel_1629324/2497960516.py:1: SettingWithCopyWarning:\n",
      "\n",
      "\n",
      "A value is trying to be set on a copy of a slice from a DataFrame.\n",
      "Try using .loc[row_indexer,col_indexer] = value instead\n",
      "\n",
      "See the caveats in the documentation: https://pandas.pydata.org/pandas-docs/stable/user_guide/indexing.html#returning-a-view-versus-a-copy\n",
      "\n"
     ]
    }
   ],
   "source": [
    "df_raw_anal.loc[:,'array'] = '-'\n",
    "df_raw_anal.loc[ascending_sq,'array'] = '정배열(매수)'\n",
    "df_raw_anal.loc[descending_sq,'array'] = '역배열(매도)'"
   ]
  },
  {
   "cell_type": "markdown",
   "id": "0778e036",
   "metadata": {},
   "source": [
    "### 볼린저밴드"
   ]
  },
  {
   "cell_type": "code",
   "execution_count": 63,
   "id": "062dac6c",
   "metadata": {},
   "outputs": [],
   "source": [
    "down_reg_sq = df_raw['upper'] - df_raw['close'] \n",
    "top_reg_sq  = df_raw['lower'] - df_raw['close'] \n",
    "\n",
    "down_reg = [idx for idx in range(1,len(df_raw)) if down_reg_sq[idx] > 0 and down_reg_sq[idx-1] <= 0]\n",
    "top_reg = [idx for idx in range(1,len(df_raw)) if top_reg_sq[idx] < 0 and top_reg_sq[idx-1] >= 0]"
   ]
  },
  {
   "cell_type": "code",
   "execution_count": 64,
   "id": "938c59a3",
   "metadata": {},
   "outputs": [
    {
     "name": "stderr",
     "output_type": "stream",
     "text": [
      "/tmp/ipykernel_1629324/2605943495.py:1: SettingWithCopyWarning:\n",
      "\n",
      "\n",
      "A value is trying to be set on a copy of a slice from a DataFrame.\n",
      "Try using .loc[row_indexer,col_indexer] = value instead\n",
      "\n",
      "See the caveats in the documentation: https://pandas.pydata.org/pandas-docs/stable/user_guide/indexing.html#returning-a-view-versus-a-copy\n",
      "\n"
     ]
    }
   ],
   "source": [
    "df_raw_anal.loc[:,'Bollinger_band'] = '-'\n",
    "df_raw_anal.loc[ascending_sq,'Bollinger_band'] = '하향회귀(매도)'\n",
    "df_raw_anal.loc[descending_sq,'Bollinger_band'] = '상향회귀(매수)'"
   ]
  },
  {
   "cell_type": "markdown",
   "id": "e51183ec",
   "metadata": {},
   "source": [
    "### MACD"
   ]
  },
  {
   "cell_type": "code",
   "execution_count": 65,
   "id": "46fbcd6b",
   "metadata": {},
   "outputs": [],
   "source": [
    "signal_down_cross = [idx for idx in range(1,len(df_raw)) if df_raw['MACD_DIFF'][idx] < 0 and df_raw['MACD_DIFF'][idx-1] >= 0]\n",
    "signal_top_corss = [idx for idx in range(1,len(df_raw)) if df_raw['MACD_DIFF'][idx] > 0 and df_raw['MACD_DIFF'][idx-1] <= 0]\n"
   ]
  },
  {
   "cell_type": "code",
   "execution_count": 66,
   "id": "76c0e0f2",
   "metadata": {},
   "outputs": [
    {
     "name": "stderr",
     "output_type": "stream",
     "text": [
      "/tmp/ipykernel_1629324/2822066516.py:1: SettingWithCopyWarning:\n",
      "\n",
      "\n",
      "A value is trying to be set on a copy of a slice from a DataFrame.\n",
      "Try using .loc[row_indexer,col_indexer] = value instead\n",
      "\n",
      "See the caveats in the documentation: https://pandas.pydata.org/pandas-docs/stable/user_guide/indexing.html#returning-a-view-versus-a-copy\n",
      "\n"
     ]
    }
   ],
   "source": [
    "df_raw_anal.loc[:,'MACD'] = '-'\n",
    "df_raw_anal.loc[signal_down_cross,'MACD'] = '하향돌파(매도)'\n",
    "df_raw_anal.loc[signal_top_corss,'MACD'] = '상향돌파(매수)'"
   ]
  },
  {
   "cell_type": "markdown",
   "id": "642428cd",
   "metadata": {},
   "source": [
    "### RSI"
   ]
  },
  {
   "cell_type": "code",
   "execution_count": 67,
   "id": "4d96db77",
   "metadata": {},
   "outputs": [],
   "source": [
    "down_reg = [idx for idx in range(1,len(df_raw)) if df_raw['RSI'][idx] > 70 and df_raw['RSI'][idx-1] <= 70]\n",
    "top_reg = [idx for idx in range(1,len(df_raw)) if df_raw['RSI'][idx] < 30 and df_raw['RSI'][idx-1] >= 30]\n"
   ]
  },
  {
   "cell_type": "code",
   "execution_count": 68,
   "id": "9ed7fff2",
   "metadata": {},
   "outputs": [
    {
     "name": "stderr",
     "output_type": "stream",
     "text": [
      "/tmp/ipykernel_1629324/819055055.py:1: SettingWithCopyWarning:\n",
      "\n",
      "\n",
      "A value is trying to be set on a copy of a slice from a DataFrame.\n",
      "Try using .loc[row_indexer,col_indexer] = value instead\n",
      "\n",
      "See the caveats in the documentation: https://pandas.pydata.org/pandas-docs/stable/user_guide/indexing.html#returning-a-view-versus-a-copy\n",
      "\n"
     ]
    }
   ],
   "source": [
    "df_raw_anal.loc[:,'RSI'] = '-'\n",
    "df_raw_anal.loc[down_reg,'RSI'] = 'RSI 상단 하향돌파(매도)'\n",
    "df_raw_anal.loc[top_reg,'RSI'] = 'RSI 하단 상향 돌파(매수)'"
   ]
  },
  {
   "cell_type": "code",
   "execution_count": null,
   "id": "9e985d3a",
   "metadata": {},
   "outputs": [],
   "source": []
  },
  {
   "cell_type": "markdown",
   "id": "5afce375",
   "metadata": {},
   "source": [
    "## 날짜"
   ]
  },
  {
   "cell_type": "code",
   "execution_count": 69,
   "id": "2512ae9c",
   "metadata": {},
   "outputs": [],
   "source": [
    "date = '2023-08-01'"
   ]
  },
  {
   "cell_type": "code",
   "execution_count": 70,
   "id": "3e3da912",
   "metadata": {},
   "outputs": [],
   "source": [
    "df_raw_anal_date = df_raw_anal[df_raw_anal['date'] > date].reset_index(drop = True)\n",
    "df_raw_date = df_raw[df_raw['date'] > date].reset_index(drop = True)"
   ]
  },
  {
   "cell_type": "code",
   "execution_count": 71,
   "id": "b5505501",
   "metadata": {},
   "outputs": [
    {
     "data": {
      "text/html": [
       "<div>\n",
       "<style scoped>\n",
       "    .dataframe tbody tr th:only-of-type {\n",
       "        vertical-align: middle;\n",
       "    }\n",
       "\n",
       "    .dataframe tbody tr th {\n",
       "        vertical-align: top;\n",
       "    }\n",
       "\n",
       "    .dataframe thead th {\n",
       "        text-align: right;\n",
       "    }\n",
       "</style>\n",
       "<table border=\"1\" class=\"dataframe\">\n",
       "  <thead>\n",
       "    <tr style=\"text-align: right;\">\n",
       "      <th></th>\n",
       "      <th>date</th>\n",
       "      <th>ticker</th>\n",
       "      <th>close</th>\n",
       "      <th>5_20_cross</th>\n",
       "      <th>20_60_cross</th>\n",
       "      <th>array</th>\n",
       "      <th>Bollinger_band</th>\n",
       "      <th>MACD</th>\n",
       "      <th>RSI</th>\n",
       "    </tr>\n",
       "  </thead>\n",
       "  <tbody>\n",
       "    <tr>\n",
       "      <th>0</th>\n",
       "      <td>2023-08-02</td>\n",
       "      <td>247540</td>\n",
       "      <td>380500</td>\n",
       "      <td>-</td>\n",
       "      <td>-</td>\n",
       "      <td>정배열(매수)</td>\n",
       "      <td>하향회귀(매도)</td>\n",
       "      <td>-</td>\n",
       "      <td>-</td>\n",
       "    </tr>\n",
       "    <tr>\n",
       "      <th>1</th>\n",
       "      <td>2023-08-03</td>\n",
       "      <td>247540</td>\n",
       "      <td>390000</td>\n",
       "      <td>-</td>\n",
       "      <td>-</td>\n",
       "      <td>정배열(매수)</td>\n",
       "      <td>하향회귀(매도)</td>\n",
       "      <td>하향돌파(매도)</td>\n",
       "      <td>-</td>\n",
       "    </tr>\n",
       "    <tr>\n",
       "      <th>2</th>\n",
       "      <td>2023-08-04</td>\n",
       "      <td>247540</td>\n",
       "      <td>380500</td>\n",
       "      <td>-</td>\n",
       "      <td>-</td>\n",
       "      <td>정배열(매수)</td>\n",
       "      <td>하향회귀(매도)</td>\n",
       "      <td>-</td>\n",
       "      <td>-</td>\n",
       "    </tr>\n",
       "    <tr>\n",
       "      <th>3</th>\n",
       "      <td>2023-08-07</td>\n",
       "      <td>247540</td>\n",
       "      <td>340000</td>\n",
       "      <td>-</td>\n",
       "      <td>-</td>\n",
       "      <td>정배열(매수)</td>\n",
       "      <td>하향회귀(매도)</td>\n",
       "      <td>-</td>\n",
       "      <td>-</td>\n",
       "    </tr>\n",
       "    <tr>\n",
       "      <th>4</th>\n",
       "      <td>2023-08-08</td>\n",
       "      <td>247540</td>\n",
       "      <td>339000</td>\n",
       "      <td>-</td>\n",
       "      <td>-</td>\n",
       "      <td>정배열(매수)</td>\n",
       "      <td>하향회귀(매도)</td>\n",
       "      <td>-</td>\n",
       "      <td>-</td>\n",
       "    </tr>\n",
       "    <tr>\n",
       "      <th>5</th>\n",
       "      <td>2023-08-09</td>\n",
       "      <td>247540</td>\n",
       "      <td>343500</td>\n",
       "      <td>데드크로스(매도)</td>\n",
       "      <td>-</td>\n",
       "      <td>-</td>\n",
       "      <td>-</td>\n",
       "      <td>-</td>\n",
       "      <td>-</td>\n",
       "    </tr>\n",
       "    <tr>\n",
       "      <th>6</th>\n",
       "      <td>2023-08-10</td>\n",
       "      <td>247540</td>\n",
       "      <td>337500</td>\n",
       "      <td>-</td>\n",
       "      <td>-</td>\n",
       "      <td>-</td>\n",
       "      <td>-</td>\n",
       "      <td>-</td>\n",
       "      <td>-</td>\n",
       "    </tr>\n",
       "  </tbody>\n",
       "</table>\n",
       "</div>"
      ],
      "text/plain": [
       "        date  ticker   close 5_20_cross 20_60_cross    array Bollinger_band  \\\n",
       "0 2023-08-02  247540  380500          -           -  정배열(매수)       하향회귀(매도)   \n",
       "1 2023-08-03  247540  390000          -           -  정배열(매수)       하향회귀(매도)   \n",
       "2 2023-08-04  247540  380500          -           -  정배열(매수)       하향회귀(매도)   \n",
       "3 2023-08-07  247540  340000          -           -  정배열(매수)       하향회귀(매도)   \n",
       "4 2023-08-08  247540  339000          -           -  정배열(매수)       하향회귀(매도)   \n",
       "5 2023-08-09  247540  343500  데드크로스(매도)           -        -              -   \n",
       "6 2023-08-10  247540  337500          -           -        -              -   \n",
       "\n",
       "       MACD RSI  \n",
       "0         -   -  \n",
       "1  하향돌파(매도)   -  \n",
       "2         -   -  \n",
       "3         -   -  \n",
       "4         -   -  \n",
       "5         -   -  \n",
       "6         -   -  "
      ]
     },
     "execution_count": 71,
     "metadata": {},
     "output_type": "execute_result"
    }
   ],
   "source": [
    "df_raw_anal_date.head(7)"
   ]
  },
  {
   "cell_type": "code",
   "execution_count": null,
   "id": "06a75777",
   "metadata": {},
   "outputs": [],
   "source": []
  },
  {
   "cell_type": "code",
   "execution_count": 79,
   "id": "f7d19c3d",
   "metadata": {},
   "outputs": [],
   "source": [
    "type_list = ['매수', '매도']"
   ]
  },
  {
   "cell_type": "code",
   "execution_count": 82,
   "id": "6471bd06",
   "metadata": {},
   "outputs": [],
   "source": [
    "technical_indicator = ['5_20_cross', '20_60_cross', 'array', 'Bollinger_band', 'MACD', 'RSI']"
   ]
  },
  {
   "cell_type": "code",
   "execution_count": 83,
   "id": "fea016c0",
   "metadata": {},
   "outputs": [],
   "source": [
    "type_nm = '매수'\n",
    "technical_indicator_nm = '5_20_cross'"
   ]
  },
  {
   "cell_type": "code",
   "execution_count": 88,
   "id": "4e117be7",
   "metadata": {},
   "outputs": [
    {
     "name": "stdout",
     "output_type": "stream",
     "text": [
      "0\n",
      "1\n",
      "2\n",
      "3\n",
      "4\n",
      "36\n",
      "46\n",
      "40\n",
      "5\n",
      "26\n",
      "0\n",
      "1\n",
      "2\n",
      "3\n",
      "4\n",
      "1\n",
      "37\n"
     ]
    }
   ],
   "source": [
    "for type_nm in type_list:\n",
    "    for technical_indicator_nm in technical_indicator:\n",
    "#         print(df_raw_anal_date.index[df_raw_anal_date[technical_indicator_nm].str.contains(type_nm)])\n",
    "        index_list = df_raw_anal_date.index[df_raw_anal_date[technical_indicator_nm].str.contains(type_nm)]\n",
    "        for index_nm in index_list:\n",
    "            print(index_nm)\n",
    "        "
   ]
  },
  {
   "cell_type": "code",
   "execution_count": 86,
   "id": "728eea56",
   "metadata": {},
   "outputs": [
    {
     "data": {
      "text/html": [
       "<div>\n",
       "<style scoped>\n",
       "    .dataframe tbody tr th:only-of-type {\n",
       "        vertical-align: middle;\n",
       "    }\n",
       "\n",
       "    .dataframe tbody tr th {\n",
       "        vertical-align: top;\n",
       "    }\n",
       "\n",
       "    .dataframe thead th {\n",
       "        text-align: right;\n",
       "    }\n",
       "</style>\n",
       "<table border=\"1\" class=\"dataframe\">\n",
       "  <thead>\n",
       "    <tr style=\"text-align: right;\">\n",
       "      <th></th>\n",
       "      <th>date</th>\n",
       "      <th>ticker</th>\n",
       "      <th>close</th>\n",
       "      <th>5_20_cross</th>\n",
       "      <th>20_60_cross</th>\n",
       "      <th>array</th>\n",
       "      <th>Bollinger_band</th>\n",
       "      <th>MACD</th>\n",
       "      <th>RSI</th>\n",
       "    </tr>\n",
       "  </thead>\n",
       "  <tbody>\n",
       "    <tr>\n",
       "      <th>0</th>\n",
       "      <td>2023-08-02</td>\n",
       "      <td>247540</td>\n",
       "      <td>380500</td>\n",
       "      <td>-</td>\n",
       "      <td>-</td>\n",
       "      <td>정배열(매수)</td>\n",
       "      <td>하향회귀(매도)</td>\n",
       "      <td>-</td>\n",
       "      <td>-</td>\n",
       "    </tr>\n",
       "    <tr>\n",
       "      <th>1</th>\n",
       "      <td>2023-08-03</td>\n",
       "      <td>247540</td>\n",
       "      <td>390000</td>\n",
       "      <td>-</td>\n",
       "      <td>-</td>\n",
       "      <td>정배열(매수)</td>\n",
       "      <td>하향회귀(매도)</td>\n",
       "      <td>하향돌파(매도)</td>\n",
       "      <td>-</td>\n",
       "    </tr>\n",
       "    <tr>\n",
       "      <th>2</th>\n",
       "      <td>2023-08-04</td>\n",
       "      <td>247540</td>\n",
       "      <td>380500</td>\n",
       "      <td>-</td>\n",
       "      <td>-</td>\n",
       "      <td>정배열(매수)</td>\n",
       "      <td>하향회귀(매도)</td>\n",
       "      <td>-</td>\n",
       "      <td>-</td>\n",
       "    </tr>\n",
       "    <tr>\n",
       "      <th>3</th>\n",
       "      <td>2023-08-07</td>\n",
       "      <td>247540</td>\n",
       "      <td>340000</td>\n",
       "      <td>-</td>\n",
       "      <td>-</td>\n",
       "      <td>정배열(매수)</td>\n",
       "      <td>하향회귀(매도)</td>\n",
       "      <td>-</td>\n",
       "      <td>-</td>\n",
       "    </tr>\n",
       "    <tr>\n",
       "      <th>4</th>\n",
       "      <td>2023-08-08</td>\n",
       "      <td>247540</td>\n",
       "      <td>339000</td>\n",
       "      <td>-</td>\n",
       "      <td>-</td>\n",
       "      <td>정배열(매수)</td>\n",
       "      <td>하향회귀(매도)</td>\n",
       "      <td>-</td>\n",
       "      <td>-</td>\n",
       "    </tr>\n",
       "    <tr>\n",
       "      <th>5</th>\n",
       "      <td>2023-08-09</td>\n",
       "      <td>247540</td>\n",
       "      <td>343500</td>\n",
       "      <td>데드크로스(매도)</td>\n",
       "      <td>-</td>\n",
       "      <td>-</td>\n",
       "      <td>-</td>\n",
       "      <td>-</td>\n",
       "      <td>-</td>\n",
       "    </tr>\n",
       "    <tr>\n",
       "      <th>6</th>\n",
       "      <td>2023-08-10</td>\n",
       "      <td>247540</td>\n",
       "      <td>337500</td>\n",
       "      <td>-</td>\n",
       "      <td>-</td>\n",
       "      <td>-</td>\n",
       "      <td>-</td>\n",
       "      <td>-</td>\n",
       "      <td>-</td>\n",
       "    </tr>\n",
       "    <tr>\n",
       "      <th>7</th>\n",
       "      <td>2023-08-11</td>\n",
       "      <td>247540</td>\n",
       "      <td>323500</td>\n",
       "      <td>-</td>\n",
       "      <td>-</td>\n",
       "      <td>-</td>\n",
       "      <td>-</td>\n",
       "      <td>-</td>\n",
       "      <td>-</td>\n",
       "    </tr>\n",
       "    <tr>\n",
       "      <th>8</th>\n",
       "      <td>2023-08-14</td>\n",
       "      <td>247540</td>\n",
       "      <td>318000</td>\n",
       "      <td>-</td>\n",
       "      <td>-</td>\n",
       "      <td>-</td>\n",
       "      <td>-</td>\n",
       "      <td>-</td>\n",
       "      <td>-</td>\n",
       "    </tr>\n",
       "    <tr>\n",
       "      <th>9</th>\n",
       "      <td>2023-08-16</td>\n",
       "      <td>247540</td>\n",
       "      <td>303500</td>\n",
       "      <td>-</td>\n",
       "      <td>-</td>\n",
       "      <td>-</td>\n",
       "      <td>-</td>\n",
       "      <td>-</td>\n",
       "      <td>-</td>\n",
       "    </tr>\n",
       "    <tr>\n",
       "      <th>10</th>\n",
       "      <td>2023-08-17</td>\n",
       "      <td>247540</td>\n",
       "      <td>318000</td>\n",
       "      <td>-</td>\n",
       "      <td>-</td>\n",
       "      <td>-</td>\n",
       "      <td>-</td>\n",
       "      <td>-</td>\n",
       "      <td>-</td>\n",
       "    </tr>\n",
       "    <tr>\n",
       "      <th>11</th>\n",
       "      <td>2023-08-18</td>\n",
       "      <td>247540</td>\n",
       "      <td>312000</td>\n",
       "      <td>-</td>\n",
       "      <td>-</td>\n",
       "      <td>-</td>\n",
       "      <td>-</td>\n",
       "      <td>-</td>\n",
       "      <td>-</td>\n",
       "    </tr>\n",
       "    <tr>\n",
       "      <th>12</th>\n",
       "      <td>2023-08-21</td>\n",
       "      <td>247540</td>\n",
       "      <td>328000</td>\n",
       "      <td>-</td>\n",
       "      <td>-</td>\n",
       "      <td>-</td>\n",
       "      <td>-</td>\n",
       "      <td>-</td>\n",
       "      <td>-</td>\n",
       "    </tr>\n",
       "    <tr>\n",
       "      <th>13</th>\n",
       "      <td>2023-08-22</td>\n",
       "      <td>247540</td>\n",
       "      <td>337500</td>\n",
       "      <td>-</td>\n",
       "      <td>-</td>\n",
       "      <td>-</td>\n",
       "      <td>-</td>\n",
       "      <td>-</td>\n",
       "      <td>-</td>\n",
       "    </tr>\n",
       "    <tr>\n",
       "      <th>14</th>\n",
       "      <td>2023-08-23</td>\n",
       "      <td>247540</td>\n",
       "      <td>321000</td>\n",
       "      <td>-</td>\n",
       "      <td>-</td>\n",
       "      <td>-</td>\n",
       "      <td>-</td>\n",
       "      <td>-</td>\n",
       "      <td>-</td>\n",
       "    </tr>\n",
       "    <tr>\n",
       "      <th>15</th>\n",
       "      <td>2023-08-24</td>\n",
       "      <td>247540</td>\n",
       "      <td>333500</td>\n",
       "      <td>-</td>\n",
       "      <td>-</td>\n",
       "      <td>-</td>\n",
       "      <td>-</td>\n",
       "      <td>-</td>\n",
       "      <td>-</td>\n",
       "    </tr>\n",
       "    <tr>\n",
       "      <th>16</th>\n",
       "      <td>2023-08-25</td>\n",
       "      <td>247540</td>\n",
       "      <td>342500</td>\n",
       "      <td>-</td>\n",
       "      <td>-</td>\n",
       "      <td>-</td>\n",
       "      <td>-</td>\n",
       "      <td>-</td>\n",
       "      <td>-</td>\n",
       "    </tr>\n",
       "    <tr>\n",
       "      <th>17</th>\n",
       "      <td>2023-08-28</td>\n",
       "      <td>247540</td>\n",
       "      <td>344500</td>\n",
       "      <td>-</td>\n",
       "      <td>-</td>\n",
       "      <td>-</td>\n",
       "      <td>-</td>\n",
       "      <td>-</td>\n",
       "      <td>-</td>\n",
       "    </tr>\n",
       "    <tr>\n",
       "      <th>18</th>\n",
       "      <td>2023-08-29</td>\n",
       "      <td>247540</td>\n",
       "      <td>330500</td>\n",
       "      <td>-</td>\n",
       "      <td>-</td>\n",
       "      <td>-</td>\n",
       "      <td>-</td>\n",
       "      <td>-</td>\n",
       "      <td>-</td>\n",
       "    </tr>\n",
       "    <tr>\n",
       "      <th>19</th>\n",
       "      <td>2023-08-30</td>\n",
       "      <td>247540</td>\n",
       "      <td>324500</td>\n",
       "      <td>-</td>\n",
       "      <td>-</td>\n",
       "      <td>-</td>\n",
       "      <td>-</td>\n",
       "      <td>-</td>\n",
       "      <td>-</td>\n",
       "    </tr>\n",
       "    <tr>\n",
       "      <th>20</th>\n",
       "      <td>2023-08-31</td>\n",
       "      <td>247540</td>\n",
       "      <td>324500</td>\n",
       "      <td>-</td>\n",
       "      <td>-</td>\n",
       "      <td>-</td>\n",
       "      <td>-</td>\n",
       "      <td>-</td>\n",
       "      <td>-</td>\n",
       "    </tr>\n",
       "    <tr>\n",
       "      <th>21</th>\n",
       "      <td>2023-09-01</td>\n",
       "      <td>247540</td>\n",
       "      <td>308500</td>\n",
       "      <td>-</td>\n",
       "      <td>-</td>\n",
       "      <td>-</td>\n",
       "      <td>-</td>\n",
       "      <td>-</td>\n",
       "      <td>-</td>\n",
       "    </tr>\n",
       "    <tr>\n",
       "      <th>22</th>\n",
       "      <td>2023-09-04</td>\n",
       "      <td>247540</td>\n",
       "      <td>307500</td>\n",
       "      <td>-</td>\n",
       "      <td>-</td>\n",
       "      <td>-</td>\n",
       "      <td>-</td>\n",
       "      <td>-</td>\n",
       "      <td>-</td>\n",
       "    </tr>\n",
       "    <tr>\n",
       "      <th>23</th>\n",
       "      <td>2023-09-05</td>\n",
       "      <td>247540</td>\n",
       "      <td>306500</td>\n",
       "      <td>-</td>\n",
       "      <td>-</td>\n",
       "      <td>-</td>\n",
       "      <td>-</td>\n",
       "      <td>-</td>\n",
       "      <td>-</td>\n",
       "    </tr>\n",
       "    <tr>\n",
       "      <th>24</th>\n",
       "      <td>2023-09-06</td>\n",
       "      <td>247540</td>\n",
       "      <td>301000</td>\n",
       "      <td>-</td>\n",
       "      <td>-</td>\n",
       "      <td>-</td>\n",
       "      <td>-</td>\n",
       "      <td>-</td>\n",
       "      <td>-</td>\n",
       "    </tr>\n",
       "    <tr>\n",
       "      <th>25</th>\n",
       "      <td>2023-09-07</td>\n",
       "      <td>247540</td>\n",
       "      <td>289000</td>\n",
       "      <td>-</td>\n",
       "      <td>-</td>\n",
       "      <td>-</td>\n",
       "      <td>-</td>\n",
       "      <td>-</td>\n",
       "      <td>-</td>\n",
       "    </tr>\n",
       "    <tr>\n",
       "      <th>26</th>\n",
       "      <td>2023-09-08</td>\n",
       "      <td>247540</td>\n",
       "      <td>299000</td>\n",
       "      <td>-</td>\n",
       "      <td>데드크로스(매도)</td>\n",
       "      <td>-</td>\n",
       "      <td>-</td>\n",
       "      <td>-</td>\n",
       "      <td>-</td>\n",
       "    </tr>\n",
       "    <tr>\n",
       "      <th>27</th>\n",
       "      <td>2023-09-11</td>\n",
       "      <td>247540</td>\n",
       "      <td>290000</td>\n",
       "      <td>-</td>\n",
       "      <td>-</td>\n",
       "      <td>-</td>\n",
       "      <td>-</td>\n",
       "      <td>-</td>\n",
       "      <td>-</td>\n",
       "    </tr>\n",
       "    <tr>\n",
       "      <th>28</th>\n",
       "      <td>2023-09-12</td>\n",
       "      <td>247540</td>\n",
       "      <td>277500</td>\n",
       "      <td>-</td>\n",
       "      <td>-</td>\n",
       "      <td>-</td>\n",
       "      <td>-</td>\n",
       "      <td>-</td>\n",
       "      <td>-</td>\n",
       "    </tr>\n",
       "    <tr>\n",
       "      <th>29</th>\n",
       "      <td>2023-09-13</td>\n",
       "      <td>247540</td>\n",
       "      <td>275000</td>\n",
       "      <td>-</td>\n",
       "      <td>-</td>\n",
       "      <td>-</td>\n",
       "      <td>-</td>\n",
       "      <td>-</td>\n",
       "      <td>-</td>\n",
       "    </tr>\n",
       "    <tr>\n",
       "      <th>30</th>\n",
       "      <td>2023-09-14</td>\n",
       "      <td>247540</td>\n",
       "      <td>285000</td>\n",
       "      <td>-</td>\n",
       "      <td>-</td>\n",
       "      <td>-</td>\n",
       "      <td>-</td>\n",
       "      <td>-</td>\n",
       "      <td>-</td>\n",
       "    </tr>\n",
       "    <tr>\n",
       "      <th>31</th>\n",
       "      <td>2023-09-15</td>\n",
       "      <td>247540</td>\n",
       "      <td>280000</td>\n",
       "      <td>-</td>\n",
       "      <td>-</td>\n",
       "      <td>-</td>\n",
       "      <td>-</td>\n",
       "      <td>-</td>\n",
       "      <td>-</td>\n",
       "    </tr>\n",
       "    <tr>\n",
       "      <th>32</th>\n",
       "      <td>2023-09-18</td>\n",
       "      <td>247540</td>\n",
       "      <td>280000</td>\n",
       "      <td>-</td>\n",
       "      <td>-</td>\n",
       "      <td>-</td>\n",
       "      <td>-</td>\n",
       "      <td>-</td>\n",
       "      <td>-</td>\n",
       "    </tr>\n",
       "    <tr>\n",
       "      <th>33</th>\n",
       "      <td>2023-09-19</td>\n",
       "      <td>247540</td>\n",
       "      <td>278000</td>\n",
       "      <td>-</td>\n",
       "      <td>-</td>\n",
       "      <td>-</td>\n",
       "      <td>-</td>\n",
       "      <td>-</td>\n",
       "      <td>-</td>\n",
       "    </tr>\n",
       "    <tr>\n",
       "      <th>34</th>\n",
       "      <td>2023-09-20</td>\n",
       "      <td>247540</td>\n",
       "      <td>290500</td>\n",
       "      <td>-</td>\n",
       "      <td>-</td>\n",
       "      <td>-</td>\n",
       "      <td>-</td>\n",
       "      <td>-</td>\n",
       "      <td>-</td>\n",
       "    </tr>\n",
       "    <tr>\n",
       "      <th>35</th>\n",
       "      <td>2023-09-21</td>\n",
       "      <td>247540</td>\n",
       "      <td>282500</td>\n",
       "      <td>-</td>\n",
       "      <td>-</td>\n",
       "      <td>-</td>\n",
       "      <td>-</td>\n",
       "      <td>-</td>\n",
       "      <td>-</td>\n",
       "    </tr>\n",
       "    <tr>\n",
       "      <th>36</th>\n",
       "      <td>2023-09-22</td>\n",
       "      <td>247540</td>\n",
       "      <td>287000</td>\n",
       "      <td>-</td>\n",
       "      <td>-</td>\n",
       "      <td>-</td>\n",
       "      <td>-</td>\n",
       "      <td>상향돌파(매수)</td>\n",
       "      <td>-</td>\n",
       "    </tr>\n",
       "    <tr>\n",
       "      <th>37</th>\n",
       "      <td>2023-09-25</td>\n",
       "      <td>247540</td>\n",
       "      <td>261500</td>\n",
       "      <td>-</td>\n",
       "      <td>-</td>\n",
       "      <td>-</td>\n",
       "      <td>-</td>\n",
       "      <td>하향돌파(매도)</td>\n",
       "      <td>-</td>\n",
       "    </tr>\n",
       "    <tr>\n",
       "      <th>38</th>\n",
       "      <td>2023-09-26</td>\n",
       "      <td>247540</td>\n",
       "      <td>254500</td>\n",
       "      <td>-</td>\n",
       "      <td>-</td>\n",
       "      <td>-</td>\n",
       "      <td>-</td>\n",
       "      <td>-</td>\n",
       "      <td>-</td>\n",
       "    </tr>\n",
       "    <tr>\n",
       "      <th>39</th>\n",
       "      <td>2023-09-27</td>\n",
       "      <td>247540</td>\n",
       "      <td>253000</td>\n",
       "      <td>-</td>\n",
       "      <td>-</td>\n",
       "      <td>-</td>\n",
       "      <td>-</td>\n",
       "      <td>-</td>\n",
       "      <td>-</td>\n",
       "    </tr>\n",
       "    <tr>\n",
       "      <th>40</th>\n",
       "      <td>2023-10-04</td>\n",
       "      <td>247540</td>\n",
       "      <td>235000</td>\n",
       "      <td>-</td>\n",
       "      <td>-</td>\n",
       "      <td>-</td>\n",
       "      <td>-</td>\n",
       "      <td>-</td>\n",
       "      <td>RSI 하단 상향 돌파(매수)</td>\n",
       "    </tr>\n",
       "    <tr>\n",
       "      <th>41</th>\n",
       "      <td>2023-10-05</td>\n",
       "      <td>247540</td>\n",
       "      <td>233500</td>\n",
       "      <td>-</td>\n",
       "      <td>-</td>\n",
       "      <td>-</td>\n",
       "      <td>-</td>\n",
       "      <td>-</td>\n",
       "      <td>-</td>\n",
       "    </tr>\n",
       "    <tr>\n",
       "      <th>42</th>\n",
       "      <td>2023-10-06</td>\n",
       "      <td>247540</td>\n",
       "      <td>235500</td>\n",
       "      <td>-</td>\n",
       "      <td>-</td>\n",
       "      <td>-</td>\n",
       "      <td>-</td>\n",
       "      <td>-</td>\n",
       "      <td>-</td>\n",
       "    </tr>\n",
       "    <tr>\n",
       "      <th>43</th>\n",
       "      <td>2023-10-10</td>\n",
       "      <td>247540</td>\n",
       "      <td>223000</td>\n",
       "      <td>-</td>\n",
       "      <td>-</td>\n",
       "      <td>-</td>\n",
       "      <td>-</td>\n",
       "      <td>-</td>\n",
       "      <td>-</td>\n",
       "    </tr>\n",
       "    <tr>\n",
       "      <th>44</th>\n",
       "      <td>2023-10-11</td>\n",
       "      <td>247540</td>\n",
       "      <td>243500</td>\n",
       "      <td>-</td>\n",
       "      <td>-</td>\n",
       "      <td>-</td>\n",
       "      <td>-</td>\n",
       "      <td>-</td>\n",
       "      <td>-</td>\n",
       "    </tr>\n",
       "    <tr>\n",
       "      <th>45</th>\n",
       "      <td>2023-10-12</td>\n",
       "      <td>247540</td>\n",
       "      <td>254000</td>\n",
       "      <td>-</td>\n",
       "      <td>-</td>\n",
       "      <td>-</td>\n",
       "      <td>-</td>\n",
       "      <td>-</td>\n",
       "      <td>-</td>\n",
       "    </tr>\n",
       "    <tr>\n",
       "      <th>46</th>\n",
       "      <td>2023-10-13</td>\n",
       "      <td>247540</td>\n",
       "      <td>246000</td>\n",
       "      <td>-</td>\n",
       "      <td>-</td>\n",
       "      <td>-</td>\n",
       "      <td>-</td>\n",
       "      <td>상향돌파(매수)</td>\n",
       "      <td>-</td>\n",
       "    </tr>\n",
       "    <tr>\n",
       "      <th>47</th>\n",
       "      <td>2023-10-16</td>\n",
       "      <td>247540</td>\n",
       "      <td>242500</td>\n",
       "      <td>-</td>\n",
       "      <td>-</td>\n",
       "      <td>-</td>\n",
       "      <td>-</td>\n",
       "      <td>-</td>\n",
       "      <td>-</td>\n",
       "    </tr>\n",
       "    <tr>\n",
       "      <th>48</th>\n",
       "      <td>2023-10-17</td>\n",
       "      <td>247540</td>\n",
       "      <td>249000</td>\n",
       "      <td>-</td>\n",
       "      <td>-</td>\n",
       "      <td>-</td>\n",
       "      <td>-</td>\n",
       "      <td>-</td>\n",
       "      <td>-</td>\n",
       "    </tr>\n",
       "    <tr>\n",
       "      <th>49</th>\n",
       "      <td>2023-10-18</td>\n",
       "      <td>247540</td>\n",
       "      <td>249500</td>\n",
       "      <td>-</td>\n",
       "      <td>-</td>\n",
       "      <td>-</td>\n",
       "      <td>-</td>\n",
       "      <td>-</td>\n",
       "      <td>-</td>\n",
       "    </tr>\n",
       "    <tr>\n",
       "      <th>50</th>\n",
       "      <td>2023-10-19</td>\n",
       "      <td>247540</td>\n",
       "      <td>239500</td>\n",
       "      <td>-</td>\n",
       "      <td>-</td>\n",
       "      <td>-</td>\n",
       "      <td>-</td>\n",
       "      <td>-</td>\n",
       "      <td>-</td>\n",
       "    </tr>\n",
       "    <tr>\n",
       "      <th>51</th>\n",
       "      <td>2023-10-20</td>\n",
       "      <td>247540</td>\n",
       "      <td>233500</td>\n",
       "      <td>-</td>\n",
       "      <td>-</td>\n",
       "      <td>-</td>\n",
       "      <td>-</td>\n",
       "      <td>-</td>\n",
       "      <td>-</td>\n",
       "    </tr>\n",
       "  </tbody>\n",
       "</table>\n",
       "</div>"
      ],
      "text/plain": [
       "         date  ticker   close 5_20_cross 20_60_cross    array Bollinger_band  \\\n",
       "0  2023-08-02  247540  380500          -           -  정배열(매수)       하향회귀(매도)   \n",
       "1  2023-08-03  247540  390000          -           -  정배열(매수)       하향회귀(매도)   \n",
       "2  2023-08-04  247540  380500          -           -  정배열(매수)       하향회귀(매도)   \n",
       "3  2023-08-07  247540  340000          -           -  정배열(매수)       하향회귀(매도)   \n",
       "4  2023-08-08  247540  339000          -           -  정배열(매수)       하향회귀(매도)   \n",
       "5  2023-08-09  247540  343500  데드크로스(매도)           -        -              -   \n",
       "6  2023-08-10  247540  337500          -           -        -              -   \n",
       "7  2023-08-11  247540  323500          -           -        -              -   \n",
       "8  2023-08-14  247540  318000          -           -        -              -   \n",
       "9  2023-08-16  247540  303500          -           -        -              -   \n",
       "10 2023-08-17  247540  318000          -           -        -              -   \n",
       "11 2023-08-18  247540  312000          -           -        -              -   \n",
       "12 2023-08-21  247540  328000          -           -        -              -   \n",
       "13 2023-08-22  247540  337500          -           -        -              -   \n",
       "14 2023-08-23  247540  321000          -           -        -              -   \n",
       "15 2023-08-24  247540  333500          -           -        -              -   \n",
       "16 2023-08-25  247540  342500          -           -        -              -   \n",
       "17 2023-08-28  247540  344500          -           -        -              -   \n",
       "18 2023-08-29  247540  330500          -           -        -              -   \n",
       "19 2023-08-30  247540  324500          -           -        -              -   \n",
       "20 2023-08-31  247540  324500          -           -        -              -   \n",
       "21 2023-09-01  247540  308500          -           -        -              -   \n",
       "22 2023-09-04  247540  307500          -           -        -              -   \n",
       "23 2023-09-05  247540  306500          -           -        -              -   \n",
       "24 2023-09-06  247540  301000          -           -        -              -   \n",
       "25 2023-09-07  247540  289000          -           -        -              -   \n",
       "26 2023-09-08  247540  299000          -   데드크로스(매도)        -              -   \n",
       "27 2023-09-11  247540  290000          -           -        -              -   \n",
       "28 2023-09-12  247540  277500          -           -        -              -   \n",
       "29 2023-09-13  247540  275000          -           -        -              -   \n",
       "30 2023-09-14  247540  285000          -           -        -              -   \n",
       "31 2023-09-15  247540  280000          -           -        -              -   \n",
       "32 2023-09-18  247540  280000          -           -        -              -   \n",
       "33 2023-09-19  247540  278000          -           -        -              -   \n",
       "34 2023-09-20  247540  290500          -           -        -              -   \n",
       "35 2023-09-21  247540  282500          -           -        -              -   \n",
       "36 2023-09-22  247540  287000          -           -        -              -   \n",
       "37 2023-09-25  247540  261500          -           -        -              -   \n",
       "38 2023-09-26  247540  254500          -           -        -              -   \n",
       "39 2023-09-27  247540  253000          -           -        -              -   \n",
       "40 2023-10-04  247540  235000          -           -        -              -   \n",
       "41 2023-10-05  247540  233500          -           -        -              -   \n",
       "42 2023-10-06  247540  235500          -           -        -              -   \n",
       "43 2023-10-10  247540  223000          -           -        -              -   \n",
       "44 2023-10-11  247540  243500          -           -        -              -   \n",
       "45 2023-10-12  247540  254000          -           -        -              -   \n",
       "46 2023-10-13  247540  246000          -           -        -              -   \n",
       "47 2023-10-16  247540  242500          -           -        -              -   \n",
       "48 2023-10-17  247540  249000          -           -        -              -   \n",
       "49 2023-10-18  247540  249500          -           -        -              -   \n",
       "50 2023-10-19  247540  239500          -           -        -              -   \n",
       "51 2023-10-20  247540  233500          -           -        -              -   \n",
       "\n",
       "        MACD               RSI  \n",
       "0          -                 -  \n",
       "1   하향돌파(매도)                 -  \n",
       "2          -                 -  \n",
       "3          -                 -  \n",
       "4          -                 -  \n",
       "5          -                 -  \n",
       "6          -                 -  \n",
       "7          -                 -  \n",
       "8          -                 -  \n",
       "9          -                 -  \n",
       "10         -                 -  \n",
       "11         -                 -  \n",
       "12         -                 -  \n",
       "13         -                 -  \n",
       "14         -                 -  \n",
       "15         -                 -  \n",
       "16         -                 -  \n",
       "17         -                 -  \n",
       "18         -                 -  \n",
       "19         -                 -  \n",
       "20         -                 -  \n",
       "21         -                 -  \n",
       "22         -                 -  \n",
       "23         -                 -  \n",
       "24         -                 -  \n",
       "25         -                 -  \n",
       "26         -                 -  \n",
       "27         -                 -  \n",
       "28         -                 -  \n",
       "29         -                 -  \n",
       "30         -                 -  \n",
       "31         -                 -  \n",
       "32         -                 -  \n",
       "33         -                 -  \n",
       "34         -                 -  \n",
       "35         -                 -  \n",
       "36  상향돌파(매수)                 -  \n",
       "37  하향돌파(매도)                 -  \n",
       "38         -                 -  \n",
       "39         -                 -  \n",
       "40         -  RSI 하단 상향 돌파(매수)  \n",
       "41         -                 -  \n",
       "42         -                 -  \n",
       "43         -                 -  \n",
       "44         -                 -  \n",
       "45         -                 -  \n",
       "46  상향돌파(매수)                 -  \n",
       "47         -                 -  \n",
       "48         -                 -  \n",
       "49         -                 -  \n",
       "50         -                 -  \n",
       "51         -                 -  "
      ]
     },
     "execution_count": 86,
     "metadata": {},
     "output_type": "execute_result"
    }
   ],
   "source": [
    "df_raw_anal_date['']"
   ]
  },
  {
   "cell_type": "code",
   "execution_count": null,
   "id": "97d27caa",
   "metadata": {},
   "outputs": [],
   "source": []
  },
  {
   "cell_type": "code",
   "execution_count": 76,
   "id": "11f35a5a",
   "metadata": {},
   "outputs": [
    {
     "data": {
      "text/plain": [
       "Index([5], dtype='int64')"
      ]
     },
     "execution_count": 76,
     "metadata": {},
     "output_type": "execute_result"
    }
   ],
   "source": [
    "df_raw_anal_date.index[df_raw_anal_date['5_20_cross'] == '데드크로스(매도)']"
   ]
  },
  {
   "cell_type": "code",
   "execution_count": null,
   "id": "a8b21884",
   "metadata": {},
   "outputs": [],
   "source": []
  },
  {
   "cell_type": "code",
   "execution_count": 72,
   "id": "baaa6605",
   "metadata": {},
   "outputs": [
    {
     "ename": "NameError",
     "evalue": "name 'fig' is not defined",
     "output_type": "error",
     "traceback": [
      "\u001b[0;31m---------------------------------------------------------------------------\u001b[0m",
      "\u001b[0;31mNameError\u001b[0m                                 Traceback (most recent call last)",
      "Cell \u001b[0;32mIn[72], line 6\u001b[0m\n\u001b[1;32m      3\u001b[0m cross_date \u001b[38;5;241m=\u001b[39m df_raw[\u001b[38;5;124m'\u001b[39m\u001b[38;5;124mdate\u001b[39m\u001b[38;5;124m'\u001b[39m][cross_index]\n\u001b[1;32m      4\u001b[0m cross_value \u001b[38;5;241m=\u001b[39m df_raw[\u001b[38;5;124m'\u001b[39m\u001b[38;5;124mclose\u001b[39m\u001b[38;5;124m'\u001b[39m][cross_index]\n\u001b[0;32m----> 6\u001b[0m fig\u001b[38;5;241m.\u001b[39madd_annotation(x\u001b[38;5;241m=\u001b[39mcross_date, \n\u001b[1;32m      7\u001b[0m                    y\u001b[38;5;241m=\u001b[39mcross_value,\n\u001b[1;32m      8\u001b[0m                    text\u001b[38;5;241m=\u001b[39mcross_name,\n\u001b[1;32m      9\u001b[0m                    showarrow\u001b[38;5;241m=\u001b[39m\u001b[38;5;28;01mTrue\u001b[39;00m,\n\u001b[1;32m     10\u001b[0m                    arrowhead\u001b[38;5;241m=\u001b[39m\u001b[38;5;241m1\u001b[39m,\n\u001b[1;32m     11\u001b[0m                    row \u001b[38;5;241m=\u001b[39m \u001b[38;5;241m1\u001b[39m, col \u001b[38;5;241m=\u001b[39m \u001b[38;5;241m1\u001b[39m)\n",
      "\u001b[0;31mNameError\u001b[0m: name 'fig' is not defined"
     ]
    }
   ],
   "source": [
    "asdf = df_raw_anal_date.index[df_raw_anal_date['20_60_cross'].str.contains('매도')]\n",
    "for cross_index in asdf:\n",
    "    cross_date = df_raw['date'][cross_index]\n",
    "    cross_value = df_raw['close'][cross_index]\n",
    "\n",
    "    fig.add_annotation(x=cross_date, \n",
    "                       y=cross_value,\n",
    "                       text=cross_name,\n",
    "                       showarrow=True,\n",
    "                       arrowhead=1,\n",
    "                       row = 1, col = 1)"
   ]
  },
  {
   "cell_type": "code",
   "execution_count": 73,
   "id": "54a3a210",
   "metadata": {},
   "outputs": [
    {
     "ename": "NameError",
     "evalue": "name 'cross_df' is not defined",
     "output_type": "error",
     "traceback": [
      "\u001b[0;31m---------------------------------------------------------------------------\u001b[0m",
      "\u001b[0;31mNameError\u001b[0m                                 Traceback (most recent call last)",
      "Cell \u001b[0;32mIn[73], line 2\u001b[0m\n\u001b[1;32m      1\u001b[0m \u001b[38;5;66;03m# 상향, 하향 회귀\u001b[39;00m\n\u001b[0;32m----> 2\u001b[0m \u001b[38;5;28;01mfor\u001b[39;00m i \u001b[38;5;129;01min\u001b[39;00m \u001b[38;5;28mrange\u001b[39m(\u001b[38;5;28mlen\u001b[39m(cross_df)):\n\u001b[1;32m      3\u001b[0m     cross_index \u001b[38;5;241m=\u001b[39m cross_df[\u001b[38;5;124m'\u001b[39m\u001b[38;5;124mindex\u001b[39m\u001b[38;5;124m'\u001b[39m][i]\n\u001b[1;32m      4\u001b[0m     cross_name \u001b[38;5;241m=\u001b[39m cross_df[\u001b[38;5;124m'\u001b[39m\u001b[38;5;124mname\u001b[39m\u001b[38;5;124m'\u001b[39m][i]\n",
      "\u001b[0;31mNameError\u001b[0m: name 'cross_df' is not defined"
     ]
    }
   ],
   "source": [
    "# 상향, 하향 회귀\n",
    "for i in range(len(cross_df)):\n",
    "    cross_index = cross_df['index'][i]\n",
    "    cross_name = cross_df['name'][i]\n",
    "\n",
    "    cross_date = df_raw['date'][cross_index]\n",
    "    cross_value = df_raw['close'][cross_index]\n",
    "\n",
    "    fig.add_annotation(x=cross_date, \n",
    "                       y=cross_value,\n",
    "                       text=cross_name,\n",
    "                       showarrow=True,\n",
    "                       arrowhead=1,\n",
    "                       row = 1, col = 1)"
   ]
  },
  {
   "cell_type": "markdown",
   "id": "7e349ed2",
   "metadata": {},
   "source": [
    "## 시각화"
   ]
  },
  {
   "cell_type": "code",
   "execution_count": 98,
   "id": "62d87971",
   "metadata": {},
   "outputs": [
    {
     "name": "stderr",
     "output_type": "stream",
     "text": [
      "/home/shjj08choi/anaconda3/lib/python3.11/site-packages/_plotly_utils/basevalidators.py:105: FutureWarning:\n",
      "\n",
      "The behavior of DatetimeProperties.to_pydatetime is deprecated, in a future version this will return a Series containing python datetime objects instead of an ndarray. To retain the old behavior, call `np.array` on the result\n",
      "\n"
     ]
    },
    {
     "data": {
      "application/vnd.plotly.v1+json": {
       "config": {
        "plotlyServerURL": "https://plot.ly"
       },
       "data": [
        {
         "close": [
          380500,
          390000,
          380500,
          340000,
          339000,
          343500,
          337500,
          323500,
          318000,
          303500,
          318000,
          312000,
          328000,
          337500,
          321000,
          333500,
          342500,
          344500,
          330500,
          324500,
          324500,
          308500,
          307500,
          306500,
          301000,
          289000,
          299000,
          290000,
          277500,
          275000,
          285000,
          280000,
          280000,
          278000,
          290500,
          282500,
          287000,
          261500,
          254500,
          253000,
          235000,
          233500,
          235500,
          223000,
          243500,
          254000,
          246000,
          242500,
          249000,
          249500,
          239500,
          233500
         ],
         "decreasing": {
          "line": {
           "color": "blue"
          }
         },
         "high": [
          412500,
          395000,
          396000,
          372500,
          344500,
          353500,
          346500,
          341500,
          325500,
          318000,
          320000,
          327500,
          336500,
          341500,
          336500,
          337000,
          348500,
          349000,
          342500,
          338000,
          328000,
          320500,
          312500,
          310000,
          314500,
          302000,
          299000,
          303000,
          297000,
          280500,
          288000,
          287500,
          287500,
          287500,
          290500,
          292500,
          289000,
          288000,
          267000,
          256000,
          249500,
          243000,
          239000,
          237500,
          247500,
          261000,
          257500,
          247000,
          261500,
          257500,
          245500,
          237500
         ],
         "increasing": {
          "line": {
           "color": "red"
          }
         },
         "low": [
          380500,
          372000,
          379000,
          338500,
          327000,
          335500,
          333000,
          320000,
          307000,
          301500,
          298500,
          305500,
          313500,
          327000,
          318000,
          318500,
          324000,
          340000,
          325000,
          322500,
          318500,
          308000,
          302500,
          299500,
          300500,
          285500,
          288000,
          286500,
          275000,
          270500,
          274500,
          280000,
          276000,
          278000,
          279000,
          279000,
          271000,
          260500,
          254000,
          243500,
          234000,
          232500,
          232500,
          221000,
          225500,
          245000,
          243000,
          233000,
          245500,
          244000,
          238000,
          224500
         ],
         "name": "",
         "open": [
          396000,
          387500,
          393500,
          369500,
          340000,
          337000,
          340000,
          341000,
          316500,
          312000,
          303000,
          319500,
          313500,
          335500,
          335500,
          326000,
          324500,
          349000,
          342000,
          334500,
          326000,
          320500,
          303000,
          307500,
          312000,
          299000,
          290000,
          301000,
          294500,
          275000,
          276000,
          286000,
          280000,
          280000,
          279500,
          289500,
          276000,
          287500,
          260500,
          251000,
          249500,
          239000,
          232500,
          235500,
          228500,
          249000,
          253500,
          234000,
          247500,
          246500,
          242000,
          234500
         ],
         "type": "candlestick",
         "x": [
          "2023-08-02T00:00:00",
          "2023-08-03T00:00:00",
          "2023-08-04T00:00:00",
          "2023-08-07T00:00:00",
          "2023-08-08T00:00:00",
          "2023-08-09T00:00:00",
          "2023-08-10T00:00:00",
          "2023-08-11T00:00:00",
          "2023-08-14T00:00:00",
          "2023-08-16T00:00:00",
          "2023-08-17T00:00:00",
          "2023-08-18T00:00:00",
          "2023-08-21T00:00:00",
          "2023-08-22T00:00:00",
          "2023-08-23T00:00:00",
          "2023-08-24T00:00:00",
          "2023-08-25T00:00:00",
          "2023-08-28T00:00:00",
          "2023-08-29T00:00:00",
          "2023-08-30T00:00:00",
          "2023-08-31T00:00:00",
          "2023-09-01T00:00:00",
          "2023-09-04T00:00:00",
          "2023-09-05T00:00:00",
          "2023-09-06T00:00:00",
          "2023-09-07T00:00:00",
          "2023-09-08T00:00:00",
          "2023-09-11T00:00:00",
          "2023-09-12T00:00:00",
          "2023-09-13T00:00:00",
          "2023-09-14T00:00:00",
          "2023-09-15T00:00:00",
          "2023-09-18T00:00:00",
          "2023-09-19T00:00:00",
          "2023-09-20T00:00:00",
          "2023-09-21T00:00:00",
          "2023-09-22T00:00:00",
          "2023-09-25T00:00:00",
          "2023-09-26T00:00:00",
          "2023-09-27T00:00:00",
          "2023-10-04T00:00:00",
          "2023-10-05T00:00:00",
          "2023-10-06T00:00:00",
          "2023-10-10T00:00:00",
          "2023-10-11T00:00:00",
          "2023-10-12T00:00:00",
          "2023-10-13T00:00:00",
          "2023-10-16T00:00:00",
          "2023-10-17T00:00:00",
          "2023-10-18T00:00:00",
          "2023-10-19T00:00:00",
          "2023-10-20T00:00:00"
         ],
         "xaxis": "x",
         "yaxis": "y"
        },
        {
         "line": {
          "color": "blue",
          "width": 2
         },
         "name": "MA 5",
         "opacity": 0.7,
         "type": "scatter",
         "x": [
          "2023-08-02T00:00:00",
          "2023-08-03T00:00:00",
          "2023-08-04T00:00:00",
          "2023-08-07T00:00:00",
          "2023-08-08T00:00:00",
          "2023-08-09T00:00:00",
          "2023-08-10T00:00:00",
          "2023-08-11T00:00:00",
          "2023-08-14T00:00:00",
          "2023-08-16T00:00:00",
          "2023-08-17T00:00:00",
          "2023-08-18T00:00:00",
          "2023-08-21T00:00:00",
          "2023-08-22T00:00:00",
          "2023-08-23T00:00:00",
          "2023-08-24T00:00:00",
          "2023-08-25T00:00:00",
          "2023-08-28T00:00:00",
          "2023-08-29T00:00:00",
          "2023-08-30T00:00:00",
          "2023-08-31T00:00:00",
          "2023-09-01T00:00:00",
          "2023-09-04T00:00:00",
          "2023-09-05T00:00:00",
          "2023-09-06T00:00:00",
          "2023-09-07T00:00:00",
          "2023-09-08T00:00:00",
          "2023-09-11T00:00:00",
          "2023-09-12T00:00:00",
          "2023-09-13T00:00:00",
          "2023-09-14T00:00:00",
          "2023-09-15T00:00:00",
          "2023-09-18T00:00:00",
          "2023-09-19T00:00:00",
          "2023-09-20T00:00:00",
          "2023-09-21T00:00:00",
          "2023-09-22T00:00:00",
          "2023-09-25T00:00:00",
          "2023-09-26T00:00:00",
          "2023-09-27T00:00:00",
          "2023-10-04T00:00:00",
          "2023-10-05T00:00:00",
          "2023-10-06T00:00:00",
          "2023-10-10T00:00:00",
          "2023-10-11T00:00:00",
          "2023-10-12T00:00:00",
          "2023-10-13T00:00:00",
          "2023-10-16T00:00:00",
          "2023-10-17T00:00:00",
          "2023-10-18T00:00:00",
          "2023-10-19T00:00:00",
          "2023-10-20T00:00:00"
         ],
         "xaxis": "x",
         "y": [
          398400,
          401100,
          395700,
          379900,
          366000,
          358600,
          348100,
          336700,
          332300,
          325200,
          320100,
          315000,
          315900,
          319800,
          323300,
          326400,
          332500,
          335800,
          334400,
          335100,
          333300,
          326500,
          319100,
          314300,
          309600,
          302500,
          300600,
          297100,
          291300,
          286100,
          285300,
          281500,
          279500,
          279600,
          282700,
          282200,
          283600,
          279900,
          275200,
          267700,
          258200,
          247500,
          242300,
          236000,
          234100,
          237900,
          240400,
          241800,
          247000,
          248200,
          245300,
          242800
         ],
         "yaxis": "y"
        },
        {
         "line": {
          "color": "orange",
          "width": 2
         },
         "name": "MA 20",
         "opacity": 0.7,
         "type": "scatter",
         "x": [
          "2023-08-02T00:00:00",
          "2023-08-03T00:00:00",
          "2023-08-04T00:00:00",
          "2023-08-07T00:00:00",
          "2023-08-08T00:00:00",
          "2023-08-09T00:00:00",
          "2023-08-10T00:00:00",
          "2023-08-11T00:00:00",
          "2023-08-14T00:00:00",
          "2023-08-16T00:00:00",
          "2023-08-17T00:00:00",
          "2023-08-18T00:00:00",
          "2023-08-21T00:00:00",
          "2023-08-22T00:00:00",
          "2023-08-23T00:00:00",
          "2023-08-24T00:00:00",
          "2023-08-25T00:00:00",
          "2023-08-28T00:00:00",
          "2023-08-29T00:00:00",
          "2023-08-30T00:00:00",
          "2023-08-31T00:00:00",
          "2023-09-01T00:00:00",
          "2023-09-04T00:00:00",
          "2023-09-05T00:00:00",
          "2023-09-06T00:00:00",
          "2023-09-07T00:00:00",
          "2023-09-08T00:00:00",
          "2023-09-11T00:00:00",
          "2023-09-12T00:00:00",
          "2023-09-13T00:00:00",
          "2023-09-14T00:00:00",
          "2023-09-15T00:00:00",
          "2023-09-18T00:00:00",
          "2023-09-19T00:00:00",
          "2023-09-20T00:00:00",
          "2023-09-21T00:00:00",
          "2023-09-22T00:00:00",
          "2023-09-25T00:00:00",
          "2023-09-26T00:00:00",
          "2023-09-27T00:00:00",
          "2023-10-04T00:00:00",
          "2023-10-05T00:00:00",
          "2023-10-06T00:00:00",
          "2023-10-10T00:00:00",
          "2023-10-11T00:00:00",
          "2023-10-12T00:00:00",
          "2023-10-13T00:00:00",
          "2023-10-16T00:00:00",
          "2023-10-17T00:00:00",
          "2023-10-18T00:00:00",
          "2023-10-19T00:00:00",
          "2023-10-20T00:00:00"
         ],
         "xaxis": "x",
         "y": [
          350025,
          355775,
          360800,
          363550,
          365750,
          368975,
          371775,
          373875,
          375825,
          374700,
          372550,
          370025,
          367350,
          364000,
          356950,
          350875,
          349175,
          346025,
          341600,
          337400,
          334600,
          330525,
          326875,
          325200,
          323300,
          320575,
          318650,
          316975,
          314950,
          313525,
          311875,
          310275,
          307875,
          304900,
          303375,
          300825,
          298050,
          293900,
          290100,
          286525,
          282050,
          278300,
          274700,
          270525,
          267650,
          265900,
          263250,
          260875,
          259450,
          258175,
          255900,
          253575
         ],
         "yaxis": "y"
        },
        {
         "line": {
          "color": "purple",
          "width": 2
         },
         "name": "MA 60",
         "opacity": 0.7,
         "type": "scatter",
         "x": [
          "2023-08-02T00:00:00",
          "2023-08-03T00:00:00",
          "2023-08-04T00:00:00",
          "2023-08-07T00:00:00",
          "2023-08-08T00:00:00",
          "2023-08-09T00:00:00",
          "2023-08-10T00:00:00",
          "2023-08-11T00:00:00",
          "2023-08-14T00:00:00",
          "2023-08-16T00:00:00",
          "2023-08-17T00:00:00",
          "2023-08-18T00:00:00",
          "2023-08-21T00:00:00",
          "2023-08-22T00:00:00",
          "2023-08-23T00:00:00",
          "2023-08-24T00:00:00",
          "2023-08-25T00:00:00",
          "2023-08-28T00:00:00",
          "2023-08-29T00:00:00",
          "2023-08-30T00:00:00",
          "2023-08-31T00:00:00",
          "2023-09-01T00:00:00",
          "2023-09-04T00:00:00",
          "2023-09-05T00:00:00",
          "2023-09-06T00:00:00",
          "2023-09-07T00:00:00",
          "2023-09-08T00:00:00",
          "2023-09-11T00:00:00",
          "2023-09-12T00:00:00",
          "2023-09-13T00:00:00",
          "2023-09-14T00:00:00",
          "2023-09-15T00:00:00",
          "2023-09-18T00:00:00",
          "2023-09-19T00:00:00",
          "2023-09-20T00:00:00",
          "2023-09-21T00:00:00",
          "2023-09-22T00:00:00",
          "2023-09-25T00:00:00",
          "2023-09-26T00:00:00",
          "2023-09-27T00:00:00",
          "2023-10-04T00:00:00",
          "2023-10-05T00:00:00",
          "2023-10-06T00:00:00",
          "2023-10-10T00:00:00",
          "2023-10-11T00:00:00",
          "2023-10-12T00:00:00",
          "2023-10-13T00:00:00",
          "2023-10-16T00:00:00",
          "2023-10-17T00:00:00",
          "2023-10-18T00:00:00",
          "2023-10-19T00:00:00",
          "2023-10-20T00:00:00"
         ],
         "xaxis": "x",
         "y": [
          284000,
          286550,
          289033.3333333333,
          291000,
          292858.3333333333,
          294858.3333333333,
          296666.6666666667,
          298191.6666666667,
          299633.3333333333,
          300916.6666666667,
          302275,
          303416.6666666667,
          304783.3333333333,
          306350,
          307733.3333333333,
          309308.3333333333,
          310866.6666666667,
          312450,
          313708.3333333333,
          314825,
          315733.3333333333,
          316416.6666666667,
          317091.6666666667,
          317725,
          318025,
          318608.3333333333,
          319283.3333333333,
          319683.3333333333,
          319858.3333333333,
          320075,
          320466.6666666667,
          320716.6666666667,
          321000,
          321275,
          321875,
          322533.3333333333,
          323300,
          323508.3333333333,
          323358.3333333333,
          323000,
          322225,
          321533.3333333333,
          320791.6666666667,
          319758.3333333333,
          318900,
          318483.3333333333,
          317891.6666666667,
          317241.6666666667,
          316741.6666666667,
          315466.6666666667,
          313441.6666666667,
          311291.6666666667
         ],
         "yaxis": "y"
        },
        {
         "line": {
          "color": "green",
          "width": 2
         },
         "name": "MA 120",
         "opacity": 0.7,
         "type": "scatter",
         "x": [
          "2023-08-02T00:00:00",
          "2023-08-03T00:00:00",
          "2023-08-04T00:00:00",
          "2023-08-07T00:00:00",
          "2023-08-08T00:00:00",
          "2023-08-09T00:00:00",
          "2023-08-10T00:00:00",
          "2023-08-11T00:00:00",
          "2023-08-14T00:00:00",
          "2023-08-16T00:00:00",
          "2023-08-17T00:00:00",
          "2023-08-18T00:00:00",
          "2023-08-21T00:00:00",
          "2023-08-22T00:00:00",
          "2023-08-23T00:00:00",
          "2023-08-24T00:00:00",
          "2023-08-25T00:00:00",
          "2023-08-28T00:00:00",
          "2023-08-29T00:00:00",
          "2023-08-30T00:00:00",
          "2023-08-31T00:00:00",
          "2023-09-01T00:00:00",
          "2023-09-04T00:00:00",
          "2023-09-05T00:00:00",
          "2023-09-06T00:00:00",
          "2023-09-07T00:00:00",
          "2023-09-08T00:00:00",
          "2023-09-11T00:00:00",
          "2023-09-12T00:00:00",
          "2023-09-13T00:00:00",
          "2023-09-14T00:00:00",
          "2023-09-15T00:00:00",
          "2023-09-18T00:00:00",
          "2023-09-19T00:00:00",
          "2023-09-20T00:00:00",
          "2023-09-21T00:00:00",
          "2023-09-22T00:00:00",
          "2023-09-25T00:00:00",
          "2023-09-26T00:00:00",
          "2023-09-27T00:00:00",
          "2023-10-04T00:00:00",
          "2023-10-05T00:00:00",
          "2023-10-06T00:00:00",
          "2023-10-10T00:00:00",
          "2023-10-11T00:00:00",
          "2023-10-12T00:00:00",
          "2023-10-13T00:00:00",
          "2023-10-16T00:00:00",
          "2023-10-17T00:00:00",
          "2023-10-18T00:00:00",
          "2023-10-19T00:00:00",
          "2023-10-20T00:00:00"
         ],
         "xaxis": "x",
         "y": [
          251065.83333333334,
          253226.66666666666,
          255291.66666666666,
          256966.66666666666,
          258620.83333333334,
          260307.5,
          261890.83333333334,
          263363.3333333333,
          264785.8333333333,
          265975,
          267287.5,
          268594.1666666667,
          270000,
          271422.5,
          272711.6666666667,
          274160,
          275496.6666666667,
          276559.1666666667,
          277600.8333333333,
          278563.3333333333,
          279559.1666666667,
          280516.6666666667,
          281387.5,
          282304.1666666667,
          283029.1666666667,
          283637.5,
          284462.5,
          285179.1666666667,
          285787.5,
          286300,
          286716.6666666667,
          287108.3333333333,
          287558.3333333333,
          288008.3333333333,
          288487.5,
          288954.1666666667,
          289475,
          289720.8333333333,
          289970.8333333333,
          290120.8333333333,
          290016.6666666667,
          289816.6666666667,
          289341.6666666667,
          288745.8333333333,
          288475,
          288354.1666666667,
          288091.6666666667,
          287662.5,
          287270.8333333333,
          286900,
          286445.8333333333,
          286120.8333333333
         ],
         "yaxis": "y"
        },
        {
         "fill": "toself",
         "fillcolor": "rgba(255,255,0,0.1)",
         "line": {
          "color": "rgba(255,255,255,0.2)",
          "width": 2
         },
         "name": "Bollinger Band",
         "showlegend": false,
         "type": "scatter",
         "x": [
          "2023-08-02T00:00:00",
          "2023-08-03T00:00:00",
          "2023-08-04T00:00:00",
          "2023-08-07T00:00:00",
          "2023-08-08T00:00:00",
          "2023-08-09T00:00:00",
          "2023-08-10T00:00:00",
          "2023-08-11T00:00:00",
          "2023-08-14T00:00:00",
          "2023-08-16T00:00:00",
          "2023-08-17T00:00:00",
          "2023-08-18T00:00:00",
          "2023-08-21T00:00:00",
          "2023-08-22T00:00:00",
          "2023-08-23T00:00:00",
          "2023-08-24T00:00:00",
          "2023-08-25T00:00:00",
          "2023-08-28T00:00:00",
          "2023-08-29T00:00:00",
          "2023-08-30T00:00:00",
          "2023-08-31T00:00:00",
          "2023-09-01T00:00:00",
          "2023-09-04T00:00:00",
          "2023-09-05T00:00:00",
          "2023-09-06T00:00:00",
          "2023-09-07T00:00:00",
          "2023-09-08T00:00:00",
          "2023-09-11T00:00:00",
          "2023-09-12T00:00:00",
          "2023-09-13T00:00:00",
          "2023-09-14T00:00:00",
          "2023-09-15T00:00:00",
          "2023-09-18T00:00:00",
          "2023-09-19T00:00:00",
          "2023-09-20T00:00:00",
          "2023-09-21T00:00:00",
          "2023-09-22T00:00:00",
          "2023-09-25T00:00:00",
          "2023-09-26T00:00:00",
          "2023-09-27T00:00:00",
          "2023-10-04T00:00:00",
          "2023-10-05T00:00:00",
          "2023-10-06T00:00:00",
          "2023-10-10T00:00:00",
          "2023-10-11T00:00:00",
          "2023-10-12T00:00:00",
          "2023-10-13T00:00:00",
          "2023-10-16T00:00:00",
          "2023-10-17T00:00:00",
          "2023-10-18T00:00:00",
          "2023-10-19T00:00:00",
          "2023-10-20T00:00:00",
          "2023-10-20T00:00:00",
          "2023-10-19T00:00:00",
          "2023-10-18T00:00:00",
          "2023-10-17T00:00:00",
          "2023-10-16T00:00:00",
          "2023-10-13T00:00:00",
          "2023-10-12T00:00:00",
          "2023-10-11T00:00:00",
          "2023-10-10T00:00:00",
          "2023-10-06T00:00:00",
          "2023-10-05T00:00:00",
          "2023-10-04T00:00:00",
          "2023-09-27T00:00:00",
          "2023-09-26T00:00:00",
          "2023-09-25T00:00:00",
          "2023-09-22T00:00:00",
          "2023-09-21T00:00:00",
          "2023-09-20T00:00:00",
          "2023-09-19T00:00:00",
          "2023-09-18T00:00:00",
          "2023-09-15T00:00:00",
          "2023-09-14T00:00:00",
          "2023-09-13T00:00:00",
          "2023-09-12T00:00:00",
          "2023-09-11T00:00:00",
          "2023-09-08T00:00:00",
          "2023-09-07T00:00:00",
          "2023-09-06T00:00:00",
          "2023-09-05T00:00:00",
          "2023-09-04T00:00:00",
          "2023-09-01T00:00:00",
          "2023-08-31T00:00:00",
          "2023-08-30T00:00:00",
          "2023-08-29T00:00:00",
          "2023-08-28T00:00:00",
          "2023-08-25T00:00:00",
          "2023-08-24T00:00:00",
          "2023-08-23T00:00:00",
          "2023-08-22T00:00:00",
          "2023-08-21T00:00:00",
          "2023-08-18T00:00:00",
          "2023-08-17T00:00:00",
          "2023-08-16T00:00:00",
          "2023-08-14T00:00:00",
          "2023-08-11T00:00:00",
          "2023-08-10T00:00:00",
          "2023-08-09T00:00:00",
          "2023-08-08T00:00:00",
          "2023-08-07T00:00:00",
          "2023-08-04T00:00:00",
          "2023-08-03T00:00:00",
          "2023-08-02T00:00:00"
         ],
         "xaxis": "x",
         "y": [
          475522.59957863565,
          477476.468766813,
          477779.22892547864,
          475760.9174724079,
          474159.63979277643,
          470488.28730762063,
          466333.69870085735,
          461965.2236346322,
          456873.3034985897,
          459041.21175320825,
          460301.8660770215,
          461610.73851861176,
          460549.8390556525,
          456431.05538724276,
          439373.8436376244,
          420396.84908357635,
          417763.8292654101,
          409181.5317287102,
          395391.8209396149,
          381968.59881126625,
          374808.95422663476,
          363277.8243056933,
          351894.74220489943,
          350955.3877858523,
          350280.3632295719,
          349762.7971076894,
          348195.0503468795,
          348930.3986049251,
          351229.33295968454,
          353538.0916076183,
          353694.70229448867,
          354341.3987636801,
          353033.4709661396,
          349697.9910263806,
          347952.88128657173,
          344031.7992334504,
          337125.43985676544,
          329867.48531659815,
          325855.5590083516,
          322105.1559861634,
          319844.0471503084,
          319575.17413651623,
          317684.1831375187,
          316462.4302720533,
          312788.7859827861,
          310299.99999999744,
          305715.86864765367,
          302393.51996398455,
          300542.4567286964,
          298838.5893644399,
          295379.86828751833,
          292577.91655760887,
          214572.08344239113,
          216420.1317124817,
          217511.4106355601,
          218357.5432713036,
          219356.48003601548,
          220784.1313523463,
          221500.0000000026,
          222511.2140172139,
          224587.5697279467,
          231715.81686248127,
          237024.82586348374,
          244255.95284969165,
          250944.84401383658,
          254344.44099164841,
          257932.51468340185,
          258974.56014323456,
          257618.20076654965,
          258797.1187134283,
          260102.0089736194,
          262716.5290338604,
          266208.6012363199,
          270055.29770551133,
          273511.9083923817,
          278670.66704031546,
          285019.6013950749,
          289104.9496531205,
          291387.2028923106,
          296319.6367704281,
          299444.6122141477,
          301855.25779510057,
          297772.1756943067,
          294391.04577336524,
          292831.40118873375,
          287808.1790603851,
          282868.4682712898,
          280586.1707345899,
          281353.15091642365,
          274526.1563623756,
          271568.94461275724,
          274150.1609443475,
          278439.26148138824,
          284798.1339229785,
          290358.78824679175,
          294776.6965014103,
          285784.7763653678,
          277216.30129914265,
          267461.71269237937,
          257340.36020722357,
          251339.08252759208,
          243820.77107452133,
          234073.531233187,
          224527.40042136432
         ],
         "yaxis": "y"
        },
        {
         "marker": {
          "color": [
           "blue",
           "red",
           "blue",
           "blue",
           "blue",
           "red",
           "blue",
           "blue",
           "red",
           "blue",
           "red",
           "blue",
           "red",
           "red",
           "blue",
           "red",
           "red",
           "blue",
           "blue",
           "blue",
           "blue",
           "blue",
           "red",
           "blue",
           "blue",
           "blue",
           "red",
           "blue",
           "blue",
           "blue",
           "red",
           "blue",
           "blue",
           "blue",
           "red",
           "blue",
           "red",
           "blue",
           "blue",
           "red",
           "blue",
           "blue",
           "red",
           "blue",
           "red",
           "red",
           "blue",
           "red",
           "red",
           "red",
           "blue",
           "blue"
          ]
         },
         "name": "Volume",
         "showlegend": false,
         "type": "bar",
         "x": [
          "2023-08-02T00:00:00",
          "2023-08-03T00:00:00",
          "2023-08-04T00:00:00",
          "2023-08-07T00:00:00",
          "2023-08-08T00:00:00",
          "2023-08-09T00:00:00",
          "2023-08-10T00:00:00",
          "2023-08-11T00:00:00",
          "2023-08-14T00:00:00",
          "2023-08-16T00:00:00",
          "2023-08-17T00:00:00",
          "2023-08-18T00:00:00",
          "2023-08-21T00:00:00",
          "2023-08-22T00:00:00",
          "2023-08-23T00:00:00",
          "2023-08-24T00:00:00",
          "2023-08-25T00:00:00",
          "2023-08-28T00:00:00",
          "2023-08-29T00:00:00",
          "2023-08-30T00:00:00",
          "2023-08-31T00:00:00",
          "2023-09-01T00:00:00",
          "2023-09-04T00:00:00",
          "2023-09-05T00:00:00",
          "2023-09-06T00:00:00",
          "2023-09-07T00:00:00",
          "2023-09-08T00:00:00",
          "2023-09-11T00:00:00",
          "2023-09-12T00:00:00",
          "2023-09-13T00:00:00",
          "2023-09-14T00:00:00",
          "2023-09-15T00:00:00",
          "2023-09-18T00:00:00",
          "2023-09-19T00:00:00",
          "2023-09-20T00:00:00",
          "2023-09-21T00:00:00",
          "2023-09-22T00:00:00",
          "2023-09-25T00:00:00",
          "2023-09-26T00:00:00",
          "2023-09-27T00:00:00",
          "2023-10-04T00:00:00",
          "2023-10-05T00:00:00",
          "2023-10-06T00:00:00",
          "2023-10-10T00:00:00",
          "2023-10-11T00:00:00",
          "2023-10-12T00:00:00",
          "2023-10-13T00:00:00",
          "2023-10-16T00:00:00",
          "2023-10-17T00:00:00",
          "2023-10-18T00:00:00",
          "2023-10-19T00:00:00",
          "2023-10-20T00:00:00"
         ],
         "xaxis": "x2",
         "y": [
          1838944,
          1530821,
          973480,
          2047494,
          1550330,
          1073489,
          912235,
          1043452,
          932824,
          1057135,
          1546048,
          1023213,
          1067372,
          1300180,
          1012929,
          881759,
          1136688,
          656141,
          979750,
          850021,
          795872,
          817093,
          719380,
          801440,
          648114,
          1245717,
          790609,
          721585,
          1208260,
          801850,
          716570,
          697568,
          582615,
          486652,
          688258,
          636305,
          566136,
          1259365,
          850834,
          1144937,
          1012455,
          674090,
          351511,
          856672,
          991492,
          1136493,
          869053,
          911320,
          970967,
          611962,
          679263,
          1083331
         ],
         "yaxis": "y2"
        },
        {
         "marker": {
          "color": [
           "red",
           "blue",
           "blue",
           "blue",
           "blue",
           "blue",
           "blue",
           "blue",
           "blue",
           "blue",
           "blue",
           "blue",
           "blue",
           "blue",
           "blue",
           "blue",
           "blue",
           "blue",
           "blue",
           "blue",
           "blue",
           "blue",
           "blue",
           "blue",
           "blue",
           "blue",
           "blue",
           "blue",
           "blue",
           "blue",
           "blue",
           "blue",
           "blue",
           "blue",
           "blue",
           "blue",
           "red",
           "blue",
           "blue",
           "blue",
           "blue",
           "blue",
           "blue",
           "blue",
           "blue",
           "blue",
           "red",
           "red",
           "red",
           "red",
           "red",
           "red"
          ]
         },
         "name": "MACD DIFF",
         "type": "bar",
         "x": [
          "2023-08-02T00:00:00",
          "2023-08-03T00:00:00",
          "2023-08-04T00:00:00",
          "2023-08-07T00:00:00",
          "2023-08-08T00:00:00",
          "2023-08-09T00:00:00",
          "2023-08-10T00:00:00",
          "2023-08-11T00:00:00",
          "2023-08-14T00:00:00",
          "2023-08-16T00:00:00",
          "2023-08-17T00:00:00",
          "2023-08-18T00:00:00",
          "2023-08-21T00:00:00",
          "2023-08-22T00:00:00",
          "2023-08-23T00:00:00",
          "2023-08-24T00:00:00",
          "2023-08-25T00:00:00",
          "2023-08-28T00:00:00",
          "2023-08-29T00:00:00",
          "2023-08-30T00:00:00",
          "2023-08-31T00:00:00",
          "2023-09-01T00:00:00",
          "2023-09-04T00:00:00",
          "2023-09-05T00:00:00",
          "2023-09-06T00:00:00",
          "2023-09-07T00:00:00",
          "2023-09-08T00:00:00",
          "2023-09-11T00:00:00",
          "2023-09-12T00:00:00",
          "2023-09-13T00:00:00",
          "2023-09-14T00:00:00",
          "2023-09-15T00:00:00",
          "2023-09-18T00:00:00",
          "2023-09-19T00:00:00",
          "2023-09-20T00:00:00",
          "2023-09-21T00:00:00",
          "2023-09-22T00:00:00",
          "2023-09-25T00:00:00",
          "2023-09-26T00:00:00",
          "2023-09-27T00:00:00",
          "2023-10-04T00:00:00",
          "2023-10-05T00:00:00",
          "2023-10-06T00:00:00",
          "2023-10-10T00:00:00",
          "2023-10-11T00:00:00",
          "2023-10-12T00:00:00",
          "2023-10-13T00:00:00",
          "2023-10-16T00:00:00",
          "2023-10-17T00:00:00",
          "2023-10-18T00:00:00",
          "2023-10-19T00:00:00",
          "2023-10-20T00:00:00"
         ],
         "xaxis": "x3",
         "y": [
          1953.5142964348343,
          -311.29577874987444,
          -2641.1097607168485,
          -6861.862188311527,
          -9510.122090606255,
          -10661.275339223728,
          -11459.51205264204,
          -12479.125395938365,
          -13013.150912282304,
          -13759.524257230072,
          -12717.793993459942,
          -11889.19993407916,
          -9806.545292678495,
          -7439.50968581692,
          -6660.616628859082,
          -5052.078272538776,
          -3219.7036691487247,
          -1782.4742378718179,
          -1685.2760886748288,
          -1918.6964783151514,
          -1959.8268001269453,
          -2894.8930926403605,
          -3377.380408794786,
          -3543.209474968531,
          -3780.974047144068,
          -4457.559599247441,
          -3959.573623561696,
          -3955.0051605259905,
          -4474.28828830069,
          -4646.315318629804,
          -3783.360323172543,
          -3265.578085506997,
          -2664.7552137070033,
          -2164.9420204272155,
          -824.3503041116601,
          -333.4341783061591,
          397.6678754639652,
          -674.4480420979144,
          -1638.419977825557,
          -2129.3449175328133,
          -3346.176313225458,
          -3893.5854342328275,
          -3760.4814595003045,
          -4124.6078178296375,
          -2665.9166890538,
          -773.2863473295074,
          113.24957171326605,
          609.6326885974267,
          1472.2415263463772,
          2132.912651145518,
          1957.4328481206976,
          1517.878053574248
         ],
         "yaxis": "y3"
        },
        {
         "line": {
          "color": "green",
          "width": 2
         },
         "name": "MACD",
         "type": "scatter",
         "x": [
          "2023-08-02T00:00:00",
          "2023-08-03T00:00:00",
          "2023-08-04T00:00:00",
          "2023-08-07T00:00:00",
          "2023-08-08T00:00:00",
          "2023-08-09T00:00:00",
          "2023-08-10T00:00:00",
          "2023-08-11T00:00:00",
          "2023-08-14T00:00:00",
          "2023-08-16T00:00:00",
          "2023-08-17T00:00:00",
          "2023-08-18T00:00:00",
          "2023-08-21T00:00:00",
          "2023-08-22T00:00:00",
          "2023-08-23T00:00:00",
          "2023-08-24T00:00:00",
          "2023-08-25T00:00:00",
          "2023-08-28T00:00:00",
          "2023-08-29T00:00:00",
          "2023-08-30T00:00:00",
          "2023-08-31T00:00:00",
          "2023-09-01T00:00:00",
          "2023-09-04T00:00:00",
          "2023-09-05T00:00:00",
          "2023-09-06T00:00:00",
          "2023-09-07T00:00:00",
          "2023-09-08T00:00:00",
          "2023-09-11T00:00:00",
          "2023-09-12T00:00:00",
          "2023-09-13T00:00:00",
          "2023-09-14T00:00:00",
          "2023-09-15T00:00:00",
          "2023-09-18T00:00:00",
          "2023-09-19T00:00:00",
          "2023-09-20T00:00:00",
          "2023-09-21T00:00:00",
          "2023-09-22T00:00:00",
          "2023-09-25T00:00:00",
          "2023-09-26T00:00:00",
          "2023-09-27T00:00:00",
          "2023-10-04T00:00:00",
          "2023-10-05T00:00:00",
          "2023-10-06T00:00:00",
          "2023-10-10T00:00:00",
          "2023-10-11T00:00:00",
          "2023-10-12T00:00:00",
          "2023-10-13T00:00:00",
          "2023-10-16T00:00:00",
          "2023-10-17T00:00:00",
          "2023-10-18T00:00:00",
          "2023-10-19T00:00:00",
          "2023-10-20T00:00:00"
         ],
         "xaxis": "x3",
         "y": [
          37167.06744698802,
          34824.433427115844,
          31834.342004969658,
          25898.1240302971,
          20872.33360535081,
          17055.861521927407,
          13392.74679534859,
          9253.352103067678,
          5466.038858653163,
          1279.7844493978773,
          -857.9337851969758,
          -3001.6397093359847,
          -3370.6213911049417,
          -2863.463205697597,
          -3749.724305954529,
          -3404.205517768918,
          -2376.756831666047,
          -1385.1459598570946,
          -1709.2668328288128,
          -2422.3613420479232,
          -2953.4483638914535,
          -4612.237929564959,
          -5939.070347918081,
          -6990.701782833959,
          -8173.709866795514,
          -9964.685318710748,
          -10456.592748915427,
          -11440.77557601122,
          -13078.630775861093,
          -14412.236635847657,
          -14495.121721183532,
          -14793.734004894737,
          -14859.099936521496,
          -14900.522248348512,
          -13766.018108060875,
          -13358.460526831914,
          -12527.941504195798,
          -13768.669432282157,
          -15142.24636246619,
          -16165.50753155665,
          -18218.88300555566,
          -19739.688485121238,
          -20546.704875263793,
          -21941.983188050537,
          -21149.77123153815,
          -19450.462476646237,
          -18535.61416467515,
          -17886.822875641636,
          -16656.153656306094,
          -15462.254368720576,
          -15148.375959715224,
          -15208.461240868113
         ],
         "yaxis": "y3"
        },
        {
         "line": {
          "color": "orange",
          "width": 1
         },
         "name": "MACD Signal",
         "type": "scatter",
         "x": [
          "2023-08-02T00:00:00",
          "2023-08-03T00:00:00",
          "2023-08-04T00:00:00",
          "2023-08-07T00:00:00",
          "2023-08-08T00:00:00",
          "2023-08-09T00:00:00",
          "2023-08-10T00:00:00",
          "2023-08-11T00:00:00",
          "2023-08-14T00:00:00",
          "2023-08-16T00:00:00",
          "2023-08-17T00:00:00",
          "2023-08-18T00:00:00",
          "2023-08-21T00:00:00",
          "2023-08-22T00:00:00",
          "2023-08-23T00:00:00",
          "2023-08-24T00:00:00",
          "2023-08-25T00:00:00",
          "2023-08-28T00:00:00",
          "2023-08-29T00:00:00",
          "2023-08-30T00:00:00",
          "2023-08-31T00:00:00",
          "2023-09-01T00:00:00",
          "2023-09-04T00:00:00",
          "2023-09-05T00:00:00",
          "2023-09-06T00:00:00",
          "2023-09-07T00:00:00",
          "2023-09-08T00:00:00",
          "2023-09-11T00:00:00",
          "2023-09-12T00:00:00",
          "2023-09-13T00:00:00",
          "2023-09-14T00:00:00",
          "2023-09-15T00:00:00",
          "2023-09-18T00:00:00",
          "2023-09-19T00:00:00",
          "2023-09-20T00:00:00",
          "2023-09-21T00:00:00",
          "2023-09-22T00:00:00",
          "2023-09-25T00:00:00",
          "2023-09-26T00:00:00",
          "2023-09-27T00:00:00",
          "2023-10-04T00:00:00",
          "2023-10-05T00:00:00",
          "2023-10-06T00:00:00",
          "2023-10-10T00:00:00",
          "2023-10-11T00:00:00",
          "2023-10-12T00:00:00",
          "2023-10-13T00:00:00",
          "2023-10-16T00:00:00",
          "2023-10-17T00:00:00",
          "2023-10-18T00:00:00",
          "2023-10-19T00:00:00",
          "2023-10-20T00:00:00"
         ],
         "xaxis": "x3",
         "y": [
          35213.55315055318,
          35135.72920586572,
          34475.45176568651,
          32759.986218608625,
          30382.455695957065,
          27717.136861151135,
          24852.25884799063,
          21732.477499006043,
          18479.189770935467,
          15039.30870662795,
          11859.860208262966,
          8887.560224743176,
          6435.923901573553,
          4576.046480119323,
          2910.892322904553,
          1647.8727547698586,
          842.9468374826777,
          397.32827801472325,
          -23.990744153983997,
          -503.6648637327719,
          -993.6215637645082,
          -1717.3448369245984,
          -2561.689939123295,
          -3447.4923078654283,
          -4392.735819651446,
          -5507.125719463307,
          -6497.019125353731,
          -7485.770415485229,
          -8604.342487560403,
          -9765.921317217853,
          -10711.761398010989,
          -11528.15591938774,
          -12194.344722814492,
          -12735.580227921297,
          -12941.667803949214,
          -13025.026348525755,
          -12925.609379659763,
          -13094.221390184242,
          -13503.826384640633,
          -14036.162614023837,
          -14872.706692330203,
          -15846.10305088841,
          -16786.22341576349,
          -17817.3753702209,
          -18483.85454248435,
          -18677.17612931673,
          -18648.863736388415,
          -18496.455564239062,
          -18128.39518265247,
          -17595.167019866094,
          -17105.80880783592,
          -16726.33929444236
         ],
         "yaxis": "y3"
        },
        {
         "line": {
          "color": "red",
          "width": 1
         },
         "name": "RSI",
         "type": "scatter",
         "x": [
          "2023-08-02T00:00:00",
          "2023-08-03T00:00:00",
          "2023-08-04T00:00:00",
          "2023-08-07T00:00:00",
          "2023-08-08T00:00:00",
          "2023-08-09T00:00:00",
          "2023-08-10T00:00:00",
          "2023-08-11T00:00:00",
          "2023-08-14T00:00:00",
          "2023-08-16T00:00:00",
          "2023-08-17T00:00:00",
          "2023-08-18T00:00:00",
          "2023-08-21T00:00:00",
          "2023-08-22T00:00:00",
          "2023-08-23T00:00:00",
          "2023-08-24T00:00:00",
          "2023-08-25T00:00:00",
          "2023-08-28T00:00:00",
          "2023-08-29T00:00:00",
          "2023-08-30T00:00:00",
          "2023-08-31T00:00:00",
          "2023-09-01T00:00:00",
          "2023-09-04T00:00:00",
          "2023-09-05T00:00:00",
          "2023-09-06T00:00:00",
          "2023-09-07T00:00:00",
          "2023-09-08T00:00:00",
          "2023-09-11T00:00:00",
          "2023-09-12T00:00:00",
          "2023-09-13T00:00:00",
          "2023-09-14T00:00:00",
          "2023-09-15T00:00:00",
          "2023-09-18T00:00:00",
          "2023-09-19T00:00:00",
          "2023-09-20T00:00:00",
          "2023-09-21T00:00:00",
          "2023-09-22T00:00:00",
          "2023-09-25T00:00:00",
          "2023-09-26T00:00:00",
          "2023-09-27T00:00:00",
          "2023-10-04T00:00:00",
          "2023-10-05T00:00:00",
          "2023-10-06T00:00:00",
          "2023-10-10T00:00:00",
          "2023-10-11T00:00:00",
          "2023-10-12T00:00:00",
          "2023-10-13T00:00:00",
          "2023-10-16T00:00:00",
          "2023-10-17T00:00:00",
          "2023-10-18T00:00:00",
          "2023-10-19T00:00:00",
          "2023-10-20T00:00:00"
         ],
         "xaxis": "x4",
         "y": [
          56.916308471034505,
          58.48184799287881,
          56.27949951729884,
          47.98343067433393,
          47.79608481285133,
          48.765505889787576,
          47.498971438238186,
          44.58897013113194,
          43.46244099155723,
          40.553509904817574,
          44.55023014696419,
          43.25431981907369,
          47.629213571164364,
          50.08965797545286,
          46.043543016445796,
          49.379549670475186,
          51.69529144389663,
          52.21840614782407,
          48.27717393242932,
          46.65204798690647,
          46.65204798690647,
          42.25316390186059,
          41.986693985933584,
          41.70345976795136,
          40.10117923249062,
          36.78077760916237,
          41.153552879262534,
          38.56795036737888,
          35.25491351479934,
          34.61448268303246,
          39.35972520436588,
          37.879473824350136,
          37.87947382435014,
          37.2299350909904,
          43.72497084031953,
          40.814219405450366,
          43.10841699946003,
          34.861803497292705,
          32.995790575096265,
          32.59319441723272,
          28.153885591140178,
          27.81390522372325,
          29.04424911624513,
          26.05520598414714,
          37.42829746162613,
          42.32162271490309,
          39.76972053896598,
          38.67109197258397,
          41.88207804029508,
          42.13306145676574,
          38.547585544117396,
          36.538447327653174
         ],
         "yaxis": "y4"
        }
       ],
       "layout": {
        "annotations": [
         {
          "arrowhead": 1,
          "showarrow": true,
          "text": "매수 <br> array",
          "x": "2023-08-02T00:00:00",
          "xref": "x",
          "y": 380500,
          "yref": "y"
         },
         {
          "arrowhead": 1,
          "showarrow": true,
          "text": "매수 <br> array",
          "x": "2023-08-03T00:00:00",
          "xref": "x",
          "y": 390000,
          "yref": "y"
         },
         {
          "arrowhead": 1,
          "showarrow": true,
          "text": "매수 <br> array",
          "x": "2023-08-04T00:00:00",
          "xref": "x",
          "y": 380500,
          "yref": "y"
         },
         {
          "arrowhead": 1,
          "showarrow": true,
          "text": "매수 <br> array",
          "x": "2023-08-07T00:00:00",
          "xref": "x",
          "y": 340000,
          "yref": "y"
         },
         {
          "arrowhead": 1,
          "showarrow": true,
          "text": "매수 <br> array",
          "x": "2023-08-08T00:00:00",
          "xref": "x",
          "y": 339000,
          "yref": "y"
         },
         {
          "arrowhead": 1,
          "showarrow": true,
          "text": "매수 <br> MACD",
          "x": "2023-09-22T00:00:00",
          "xref": "x",
          "y": 287000,
          "yref": "y"
         },
         {
          "arrowhead": 1,
          "showarrow": true,
          "text": "매수 <br> MACD",
          "x": "2023-10-13T00:00:00",
          "xref": "x",
          "y": 246000,
          "yref": "y"
         },
         {
          "arrowhead": 1,
          "showarrow": true,
          "text": "매수 <br> RSI",
          "x": "2023-10-04T00:00:00",
          "xref": "x",
          "y": 235000,
          "yref": "y"
         },
         {
          "arrowhead": 1,
          "showarrow": true,
          "text": "매도 <br> 5_20_cross",
          "x": "2023-08-09T00:00:00",
          "xref": "x",
          "y": 343500,
          "yref": "y"
         },
         {
          "arrowhead": 1,
          "showarrow": true,
          "text": "매도 <br> 20_60_cross",
          "x": "2023-09-08T00:00:00",
          "xref": "x",
          "y": 299000,
          "yref": "y"
         },
         {
          "arrowhead": 1,
          "showarrow": true,
          "text": "매도 <br> Bollinger_band",
          "x": "2023-08-02T00:00:00",
          "xref": "x",
          "y": 380500,
          "yref": "y"
         },
         {
          "arrowhead": 1,
          "showarrow": true,
          "text": "매도 <br> Bollinger_band",
          "x": "2023-08-03T00:00:00",
          "xref": "x",
          "y": 390000,
          "yref": "y"
         },
         {
          "arrowhead": 1,
          "showarrow": true,
          "text": "매도 <br> Bollinger_band",
          "x": "2023-08-04T00:00:00",
          "xref": "x",
          "y": 380500,
          "yref": "y"
         },
         {
          "arrowhead": 1,
          "showarrow": true,
          "text": "매도 <br> Bollinger_band",
          "x": "2023-08-07T00:00:00",
          "xref": "x",
          "y": 340000,
          "yref": "y"
         },
         {
          "arrowhead": 1,
          "showarrow": true,
          "text": "매도 <br> Bollinger_band",
          "x": "2023-08-08T00:00:00",
          "xref": "x",
          "y": 339000,
          "yref": "y"
         },
         {
          "arrowhead": 1,
          "showarrow": true,
          "text": "매도 <br> MACD",
          "x": "2023-08-03T00:00:00",
          "xref": "x",
          "y": 390000,
          "yref": "y"
         },
         {
          "arrowhead": 1,
          "showarrow": true,
          "text": "매도 <br> MACD",
          "x": "2023-09-25T00:00:00",
          "xref": "x",
          "y": 261500,
          "yref": "y"
         },
         {
          "font": {
           "color": "red",
           "family": "Times New Roman",
           "size": 10
          },
          "showarrow": false,
          "text": "과매수구간",
          "x": 1,
          "xanchor": "right",
          "xref": "x4 domain",
          "y": 100,
          "yanchor": "top",
          "yref": "y4"
         },
         {
          "font": {
           "color": "blue",
           "family": "Times New Roman",
           "size": 10
          },
          "showarrow": false,
          "text": "과매도 구간",
          "x": 1,
          "xanchor": "right",
          "xref": "x4 domain",
          "y": 30,
          "yanchor": "top",
          "yref": "y4"
         }
        ],
        "barmode": "group",
        "height": 400,
        "hoverlabel": {
         "bgcolor": "black",
         "font": {
          "size": 15
         }
        },
        "hovermode": "x unified",
        "legend": {
         "orientation": "h",
         "x": 0.5,
         "xanchor": "center",
         "y": 1.2
        },
        "margin": {
         "b": 10,
         "l": 10,
         "r": 10,
         "t": 100
        },
        "shapes": [
         {
          "fillcolor": "white",
          "line": {
           "width": 0
          },
          "opacity": 0.1,
          "type": "rect",
          "x0": 0,
          "x1": 1,
          "xref": "x4 domain",
          "y0": 70,
          "y1": 100,
          "yref": "y4"
         },
         {
          "fillcolor": "white",
          "line": {
           "width": 0
          },
          "opacity": 0.1,
          "type": "rect",
          "x0": 0,
          "x1": 1,
          "xref": "x4 domain",
          "y0": 0,
          "y1": 30,
          "yref": "y4"
         }
        ],
        "template": {
         "data": {
          "bar": [
           {
            "error_x": {
             "color": "#f2f5fa"
            },
            "error_y": {
             "color": "#f2f5fa"
            },
            "marker": {
             "line": {
              "color": "rgb(17,17,17)",
              "width": 0.5
             },
             "pattern": {
              "fillmode": "overlay",
              "size": 10,
              "solidity": 0.2
             }
            },
            "type": "bar"
           }
          ],
          "barpolar": [
           {
            "marker": {
             "line": {
              "color": "rgb(17,17,17)",
              "width": 0.5
             },
             "pattern": {
              "fillmode": "overlay",
              "size": 10,
              "solidity": 0.2
             }
            },
            "type": "barpolar"
           }
          ],
          "carpet": [
           {
            "aaxis": {
             "endlinecolor": "#A2B1C6",
             "gridcolor": "#506784",
             "linecolor": "#506784",
             "minorgridcolor": "#506784",
             "startlinecolor": "#A2B1C6"
            },
            "baxis": {
             "endlinecolor": "#A2B1C6",
             "gridcolor": "#506784",
             "linecolor": "#506784",
             "minorgridcolor": "#506784",
             "startlinecolor": "#A2B1C6"
            },
            "type": "carpet"
           }
          ],
          "choropleth": [
           {
            "colorbar": {
             "outlinewidth": 0,
             "ticks": ""
            },
            "type": "choropleth"
           }
          ],
          "contour": [
           {
            "colorbar": {
             "outlinewidth": 0,
             "ticks": ""
            },
            "colorscale": [
             [
              0,
              "#0d0887"
             ],
             [
              0.1111111111111111,
              "#46039f"
             ],
             [
              0.2222222222222222,
              "#7201a8"
             ],
             [
              0.3333333333333333,
              "#9c179e"
             ],
             [
              0.4444444444444444,
              "#bd3786"
             ],
             [
              0.5555555555555556,
              "#d8576b"
             ],
             [
              0.6666666666666666,
              "#ed7953"
             ],
             [
              0.7777777777777778,
              "#fb9f3a"
             ],
             [
              0.8888888888888888,
              "#fdca26"
             ],
             [
              1,
              "#f0f921"
             ]
            ],
            "type": "contour"
           }
          ],
          "contourcarpet": [
           {
            "colorbar": {
             "outlinewidth": 0,
             "ticks": ""
            },
            "type": "contourcarpet"
           }
          ],
          "heatmap": [
           {
            "colorbar": {
             "outlinewidth": 0,
             "ticks": ""
            },
            "colorscale": [
             [
              0,
              "#0d0887"
             ],
             [
              0.1111111111111111,
              "#46039f"
             ],
             [
              0.2222222222222222,
              "#7201a8"
             ],
             [
              0.3333333333333333,
              "#9c179e"
             ],
             [
              0.4444444444444444,
              "#bd3786"
             ],
             [
              0.5555555555555556,
              "#d8576b"
             ],
             [
              0.6666666666666666,
              "#ed7953"
             ],
             [
              0.7777777777777778,
              "#fb9f3a"
             ],
             [
              0.8888888888888888,
              "#fdca26"
             ],
             [
              1,
              "#f0f921"
             ]
            ],
            "type": "heatmap"
           }
          ],
          "heatmapgl": [
           {
            "colorbar": {
             "outlinewidth": 0,
             "ticks": ""
            },
            "colorscale": [
             [
              0,
              "#0d0887"
             ],
             [
              0.1111111111111111,
              "#46039f"
             ],
             [
              0.2222222222222222,
              "#7201a8"
             ],
             [
              0.3333333333333333,
              "#9c179e"
             ],
             [
              0.4444444444444444,
              "#bd3786"
             ],
             [
              0.5555555555555556,
              "#d8576b"
             ],
             [
              0.6666666666666666,
              "#ed7953"
             ],
             [
              0.7777777777777778,
              "#fb9f3a"
             ],
             [
              0.8888888888888888,
              "#fdca26"
             ],
             [
              1,
              "#f0f921"
             ]
            ],
            "type": "heatmapgl"
           }
          ],
          "histogram": [
           {
            "marker": {
             "pattern": {
              "fillmode": "overlay",
              "size": 10,
              "solidity": 0.2
             }
            },
            "type": "histogram"
           }
          ],
          "histogram2d": [
           {
            "colorbar": {
             "outlinewidth": 0,
             "ticks": ""
            },
            "colorscale": [
             [
              0,
              "#0d0887"
             ],
             [
              0.1111111111111111,
              "#46039f"
             ],
             [
              0.2222222222222222,
              "#7201a8"
             ],
             [
              0.3333333333333333,
              "#9c179e"
             ],
             [
              0.4444444444444444,
              "#bd3786"
             ],
             [
              0.5555555555555556,
              "#d8576b"
             ],
             [
              0.6666666666666666,
              "#ed7953"
             ],
             [
              0.7777777777777778,
              "#fb9f3a"
             ],
             [
              0.8888888888888888,
              "#fdca26"
             ],
             [
              1,
              "#f0f921"
             ]
            ],
            "type": "histogram2d"
           }
          ],
          "histogram2dcontour": [
           {
            "colorbar": {
             "outlinewidth": 0,
             "ticks": ""
            },
            "colorscale": [
             [
              0,
              "#0d0887"
             ],
             [
              0.1111111111111111,
              "#46039f"
             ],
             [
              0.2222222222222222,
              "#7201a8"
             ],
             [
              0.3333333333333333,
              "#9c179e"
             ],
             [
              0.4444444444444444,
              "#bd3786"
             ],
             [
              0.5555555555555556,
              "#d8576b"
             ],
             [
              0.6666666666666666,
              "#ed7953"
             ],
             [
              0.7777777777777778,
              "#fb9f3a"
             ],
             [
              0.8888888888888888,
              "#fdca26"
             ],
             [
              1,
              "#f0f921"
             ]
            ],
            "type": "histogram2dcontour"
           }
          ],
          "mesh3d": [
           {
            "colorbar": {
             "outlinewidth": 0,
             "ticks": ""
            },
            "type": "mesh3d"
           }
          ],
          "parcoords": [
           {
            "line": {
             "colorbar": {
              "outlinewidth": 0,
              "ticks": ""
             }
            },
            "type": "parcoords"
           }
          ],
          "pie": [
           {
            "automargin": true,
            "type": "pie"
           }
          ],
          "scatter": [
           {
            "marker": {
             "line": {
              "color": "#283442"
             }
            },
            "type": "scatter"
           }
          ],
          "scatter3d": [
           {
            "line": {
             "colorbar": {
              "outlinewidth": 0,
              "ticks": ""
             }
            },
            "marker": {
             "colorbar": {
              "outlinewidth": 0,
              "ticks": ""
             }
            },
            "type": "scatter3d"
           }
          ],
          "scattercarpet": [
           {
            "marker": {
             "colorbar": {
              "outlinewidth": 0,
              "ticks": ""
             }
            },
            "type": "scattercarpet"
           }
          ],
          "scattergeo": [
           {
            "marker": {
             "colorbar": {
              "outlinewidth": 0,
              "ticks": ""
             }
            },
            "type": "scattergeo"
           }
          ],
          "scattergl": [
           {
            "marker": {
             "line": {
              "color": "#283442"
             }
            },
            "type": "scattergl"
           }
          ],
          "scattermapbox": [
           {
            "marker": {
             "colorbar": {
              "outlinewidth": 0,
              "ticks": ""
             }
            },
            "type": "scattermapbox"
           }
          ],
          "scatterpolar": [
           {
            "marker": {
             "colorbar": {
              "outlinewidth": 0,
              "ticks": ""
             }
            },
            "type": "scatterpolar"
           }
          ],
          "scatterpolargl": [
           {
            "marker": {
             "colorbar": {
              "outlinewidth": 0,
              "ticks": ""
             }
            },
            "type": "scatterpolargl"
           }
          ],
          "scatterternary": [
           {
            "marker": {
             "colorbar": {
              "outlinewidth": 0,
              "ticks": ""
             }
            },
            "type": "scatterternary"
           }
          ],
          "surface": [
           {
            "colorbar": {
             "outlinewidth": 0,
             "ticks": ""
            },
            "colorscale": [
             [
              0,
              "#0d0887"
             ],
             [
              0.1111111111111111,
              "#46039f"
             ],
             [
              0.2222222222222222,
              "#7201a8"
             ],
             [
              0.3333333333333333,
              "#9c179e"
             ],
             [
              0.4444444444444444,
              "#bd3786"
             ],
             [
              0.5555555555555556,
              "#d8576b"
             ],
             [
              0.6666666666666666,
              "#ed7953"
             ],
             [
              0.7777777777777778,
              "#fb9f3a"
             ],
             [
              0.8888888888888888,
              "#fdca26"
             ],
             [
              1,
              "#f0f921"
             ]
            ],
            "type": "surface"
           }
          ],
          "table": [
           {
            "cells": {
             "fill": {
              "color": "#506784"
             },
             "line": {
              "color": "rgb(17,17,17)"
             }
            },
            "header": {
             "fill": {
              "color": "#2a3f5f"
             },
             "line": {
              "color": "rgb(17,17,17)"
             }
            },
            "type": "table"
           }
          ]
         },
         "layout": {
          "annotationdefaults": {
           "arrowcolor": "#f2f5fa",
           "arrowhead": 0,
           "arrowwidth": 1
          },
          "autotypenumbers": "strict",
          "coloraxis": {
           "colorbar": {
            "outlinewidth": 0,
            "ticks": ""
           }
          },
          "colorscale": {
           "diverging": [
            [
             0,
             "#8e0152"
            ],
            [
             0.1,
             "#c51b7d"
            ],
            [
             0.2,
             "#de77ae"
            ],
            [
             0.3,
             "#f1b6da"
            ],
            [
             0.4,
             "#fde0ef"
            ],
            [
             0.5,
             "#f7f7f7"
            ],
            [
             0.6,
             "#e6f5d0"
            ],
            [
             0.7,
             "#b8e186"
            ],
            [
             0.8,
             "#7fbc41"
            ],
            [
             0.9,
             "#4d9221"
            ],
            [
             1,
             "#276419"
            ]
           ],
           "sequential": [
            [
             0,
             "#0d0887"
            ],
            [
             0.1111111111111111,
             "#46039f"
            ],
            [
             0.2222222222222222,
             "#7201a8"
            ],
            [
             0.3333333333333333,
             "#9c179e"
            ],
            [
             0.4444444444444444,
             "#bd3786"
            ],
            [
             0.5555555555555556,
             "#d8576b"
            ],
            [
             0.6666666666666666,
             "#ed7953"
            ],
            [
             0.7777777777777778,
             "#fb9f3a"
            ],
            [
             0.8888888888888888,
             "#fdca26"
            ],
            [
             1,
             "#f0f921"
            ]
           ],
           "sequentialminus": [
            [
             0,
             "#0d0887"
            ],
            [
             0.1111111111111111,
             "#46039f"
            ],
            [
             0.2222222222222222,
             "#7201a8"
            ],
            [
             0.3333333333333333,
             "#9c179e"
            ],
            [
             0.4444444444444444,
             "#bd3786"
            ],
            [
             0.5555555555555556,
             "#d8576b"
            ],
            [
             0.6666666666666666,
             "#ed7953"
            ],
            [
             0.7777777777777778,
             "#fb9f3a"
            ],
            [
             0.8888888888888888,
             "#fdca26"
            ],
            [
             1,
             "#f0f921"
            ]
           ]
          },
          "colorway": [
           "#636efa",
           "#EF553B",
           "#00cc96",
           "#ab63fa",
           "#FFA15A",
           "#19d3f3",
           "#FF6692",
           "#B6E880",
           "#FF97FF",
           "#FECB52"
          ],
          "font": {
           "color": "#f2f5fa"
          },
          "geo": {
           "bgcolor": "rgb(17,17,17)",
           "lakecolor": "rgb(17,17,17)",
           "landcolor": "rgb(17,17,17)",
           "showlakes": true,
           "showland": true,
           "subunitcolor": "#506784"
          },
          "hoverlabel": {
           "align": "left"
          },
          "hovermode": "closest",
          "mapbox": {
           "style": "dark"
          },
          "paper_bgcolor": "rgb(17,17,17)",
          "plot_bgcolor": "rgb(17,17,17)",
          "polar": {
           "angularaxis": {
            "gridcolor": "#506784",
            "linecolor": "#506784",
            "ticks": ""
           },
           "bgcolor": "rgb(17,17,17)",
           "radialaxis": {
            "gridcolor": "#506784",
            "linecolor": "#506784",
            "ticks": ""
           }
          },
          "scene": {
           "xaxis": {
            "backgroundcolor": "rgb(17,17,17)",
            "gridcolor": "#506784",
            "gridwidth": 2,
            "linecolor": "#506784",
            "showbackground": true,
            "ticks": "",
            "zerolinecolor": "#C8D4E3"
           },
           "yaxis": {
            "backgroundcolor": "rgb(17,17,17)",
            "gridcolor": "#506784",
            "gridwidth": 2,
            "linecolor": "#506784",
            "showbackground": true,
            "ticks": "",
            "zerolinecolor": "#C8D4E3"
           },
           "zaxis": {
            "backgroundcolor": "rgb(17,17,17)",
            "gridcolor": "#506784",
            "gridwidth": 2,
            "linecolor": "#506784",
            "showbackground": true,
            "ticks": "",
            "zerolinecolor": "#C8D4E3"
           }
          },
          "shapedefaults": {
           "line": {
            "color": "#f2f5fa"
           }
          },
          "sliderdefaults": {
           "bgcolor": "#C8D4E3",
           "bordercolor": "rgb(17,17,17)",
           "borderwidth": 1,
           "tickwidth": 0
          },
          "ternary": {
           "aaxis": {
            "gridcolor": "#506784",
            "linecolor": "#506784",
            "ticks": ""
           },
           "baxis": {
            "gridcolor": "#506784",
            "linecolor": "#506784",
            "ticks": ""
           },
           "bgcolor": "rgb(17,17,17)",
           "caxis": {
            "gridcolor": "#506784",
            "linecolor": "#506784",
            "ticks": ""
           }
          },
          "title": {
           "x": 0.05
          },
          "updatemenudefaults": {
           "bgcolor": "#506784",
           "borderwidth": 0
          },
          "xaxis": {
           "automargin": true,
           "gridcolor": "#283442",
           "linecolor": "#506784",
           "ticks": "",
           "title": {
            "standoff": 15
           },
           "zerolinecolor": "#283442",
           "zerolinewidth": 2
          },
          "yaxis": {
           "automargin": true,
           "gridcolor": "#283442",
           "linecolor": "#506784",
           "ticks": "",
           "title": {
            "standoff": 15
           },
           "zerolinecolor": "#283442",
           "zerolinewidth": 2
          }
         }
        },
        "title": {
         "font": {
          "family": "맑은고딕",
          "size": 18
         },
         "text": "삼성전자 주가"
        },
        "width": 900,
        "xaxis": {
         "anchor": "y",
         "domain": [
          0,
          1
         ],
         "matches": "x4",
         "rangebreaks": [
          {
           "bounds": [
            "sat",
            "mon"
           ]
          }
         ],
         "rangeslider": {
          "visible": false
         },
         "showticklabels": false,
         "tickangle": 90
        },
        "xaxis2": {
         "anchor": "y2",
         "domain": [
          0,
          1
         ],
         "matches": "x4",
         "rangebreaks": [
          {
           "bounds": [
            "sat",
            "mon"
           ]
          }
         ],
         "showticklabels": false
        },
        "xaxis3": {
         "anchor": "y3",
         "domain": [
          0,
          1
         ],
         "matches": "x4",
         "rangebreaks": [
          {
           "bounds": [
            "sat",
            "mon"
           ]
          }
         ],
         "showticklabels": false
        },
        "xaxis4": {
         "anchor": "y4",
         "domain": [
          0,
          1
         ],
         "rangebreaks": [
          {
           "bounds": [
            "sat",
            "mon"
           ]
          }
         ]
        },
        "yaxis": {
         "anchor": "x",
         "domain": [
          0.515,
          1
         ],
         "tickformat": ",",
         "title": {
          "text": "Price"
         }
        },
        "yaxis2": {
         "anchor": "x2",
         "domain": [
          0.40800000000000003,
          0.505
         ],
         "title": {
          "text": "Volume"
         }
        },
        "yaxis3": {
         "anchor": "x3",
         "domain": [
          0.20400000000000001,
          0.398
         ],
         "title": {
          "text": "MACD"
         }
        },
        "yaxis4": {
         "anchor": "x4",
         "domain": [
          0,
          0.194
         ],
         "title": {
          "text": "RSI"
         }
        }
       }
      },
      "text/html": [
       "<div>                            <div id=\"4c74420a-3ab0-4fd0-9c08-ac06a6dbc181\" class=\"plotly-graph-div\" style=\"height:400px; width:900px;\"></div>            <script type=\"text/javascript\">                require([\"plotly\"], function(Plotly) {                    window.PLOTLYENV=window.PLOTLYENV || {};                                    if (document.getElementById(\"4c74420a-3ab0-4fd0-9c08-ac06a6dbc181\")) {                    Plotly.newPlot(                        \"4c74420a-3ab0-4fd0-9c08-ac06a6dbc181\",                        [{\"close\":[380500,390000,380500,340000,339000,343500,337500,323500,318000,303500,318000,312000,328000,337500,321000,333500,342500,344500,330500,324500,324500,308500,307500,306500,301000,289000,299000,290000,277500,275000,285000,280000,280000,278000,290500,282500,287000,261500,254500,253000,235000,233500,235500,223000,243500,254000,246000,242500,249000,249500,239500,233500],\"decreasing\":{\"line\":{\"color\":\"blue\"}},\"high\":[412500,395000,396000,372500,344500,353500,346500,341500,325500,318000,320000,327500,336500,341500,336500,337000,348500,349000,342500,338000,328000,320500,312500,310000,314500,302000,299000,303000,297000,280500,288000,287500,287500,287500,290500,292500,289000,288000,267000,256000,249500,243000,239000,237500,247500,261000,257500,247000,261500,257500,245500,237500],\"increasing\":{\"line\":{\"color\":\"red\"}},\"low\":[380500,372000,379000,338500,327000,335500,333000,320000,307000,301500,298500,305500,313500,327000,318000,318500,324000,340000,325000,322500,318500,308000,302500,299500,300500,285500,288000,286500,275000,270500,274500,280000,276000,278000,279000,279000,271000,260500,254000,243500,234000,232500,232500,221000,225500,245000,243000,233000,245500,244000,238000,224500],\"name\":\"\",\"open\":[396000,387500,393500,369500,340000,337000,340000,341000,316500,312000,303000,319500,313500,335500,335500,326000,324500,349000,342000,334500,326000,320500,303000,307500,312000,299000,290000,301000,294500,275000,276000,286000,280000,280000,279500,289500,276000,287500,260500,251000,249500,239000,232500,235500,228500,249000,253500,234000,247500,246500,242000,234500],\"x\":[\"2023-08-02T00:00:00\",\"2023-08-03T00:00:00\",\"2023-08-04T00:00:00\",\"2023-08-07T00:00:00\",\"2023-08-08T00:00:00\",\"2023-08-09T00:00:00\",\"2023-08-10T00:00:00\",\"2023-08-11T00:00:00\",\"2023-08-14T00:00:00\",\"2023-08-16T00:00:00\",\"2023-08-17T00:00:00\",\"2023-08-18T00:00:00\",\"2023-08-21T00:00:00\",\"2023-08-22T00:00:00\",\"2023-08-23T00:00:00\",\"2023-08-24T00:00:00\",\"2023-08-25T00:00:00\",\"2023-08-28T00:00:00\",\"2023-08-29T00:00:00\",\"2023-08-30T00:00:00\",\"2023-08-31T00:00:00\",\"2023-09-01T00:00:00\",\"2023-09-04T00:00:00\",\"2023-09-05T00:00:00\",\"2023-09-06T00:00:00\",\"2023-09-07T00:00:00\",\"2023-09-08T00:00:00\",\"2023-09-11T00:00:00\",\"2023-09-12T00:00:00\",\"2023-09-13T00:00:00\",\"2023-09-14T00:00:00\",\"2023-09-15T00:00:00\",\"2023-09-18T00:00:00\",\"2023-09-19T00:00:00\",\"2023-09-20T00:00:00\",\"2023-09-21T00:00:00\",\"2023-09-22T00:00:00\",\"2023-09-25T00:00:00\",\"2023-09-26T00:00:00\",\"2023-09-27T00:00:00\",\"2023-10-04T00:00:00\",\"2023-10-05T00:00:00\",\"2023-10-06T00:00:00\",\"2023-10-10T00:00:00\",\"2023-10-11T00:00:00\",\"2023-10-12T00:00:00\",\"2023-10-13T00:00:00\",\"2023-10-16T00:00:00\",\"2023-10-17T00:00:00\",\"2023-10-18T00:00:00\",\"2023-10-19T00:00:00\",\"2023-10-20T00:00:00\"],\"type\":\"candlestick\",\"xaxis\":\"x\",\"yaxis\":\"y\"},{\"line\":{\"color\":\"blue\",\"width\":2},\"name\":\"MA 5\",\"opacity\":0.7,\"x\":[\"2023-08-02T00:00:00\",\"2023-08-03T00:00:00\",\"2023-08-04T00:00:00\",\"2023-08-07T00:00:00\",\"2023-08-08T00:00:00\",\"2023-08-09T00:00:00\",\"2023-08-10T00:00:00\",\"2023-08-11T00:00:00\",\"2023-08-14T00:00:00\",\"2023-08-16T00:00:00\",\"2023-08-17T00:00:00\",\"2023-08-18T00:00:00\",\"2023-08-21T00:00:00\",\"2023-08-22T00:00:00\",\"2023-08-23T00:00:00\",\"2023-08-24T00:00:00\",\"2023-08-25T00:00:00\",\"2023-08-28T00:00:00\",\"2023-08-29T00:00:00\",\"2023-08-30T00:00:00\",\"2023-08-31T00:00:00\",\"2023-09-01T00:00:00\",\"2023-09-04T00:00:00\",\"2023-09-05T00:00:00\",\"2023-09-06T00:00:00\",\"2023-09-07T00:00:00\",\"2023-09-08T00:00:00\",\"2023-09-11T00:00:00\",\"2023-09-12T00:00:00\",\"2023-09-13T00:00:00\",\"2023-09-14T00:00:00\",\"2023-09-15T00:00:00\",\"2023-09-18T00:00:00\",\"2023-09-19T00:00:00\",\"2023-09-20T00:00:00\",\"2023-09-21T00:00:00\",\"2023-09-22T00:00:00\",\"2023-09-25T00:00:00\",\"2023-09-26T00:00:00\",\"2023-09-27T00:00:00\",\"2023-10-04T00:00:00\",\"2023-10-05T00:00:00\",\"2023-10-06T00:00:00\",\"2023-10-10T00:00:00\",\"2023-10-11T00:00:00\",\"2023-10-12T00:00:00\",\"2023-10-13T00:00:00\",\"2023-10-16T00:00:00\",\"2023-10-17T00:00:00\",\"2023-10-18T00:00:00\",\"2023-10-19T00:00:00\",\"2023-10-20T00:00:00\"],\"y\":[398400.0,401100.0,395700.0,379900.0,366000.0,358600.0,348100.0,336700.0,332300.0,325200.0,320100.0,315000.0,315900.0,319800.0,323300.0,326400.0,332500.0,335800.0,334400.0,335100.0,333300.0,326500.0,319100.0,314300.0,309600.0,302500.0,300600.0,297100.0,291300.0,286100.0,285300.0,281500.0,279500.0,279600.0,282700.0,282200.0,283600.0,279900.0,275200.0,267700.0,258200.0,247500.0,242300.0,236000.0,234100.0,237900.0,240400.0,241800.0,247000.0,248200.0,245300.0,242800.0],\"type\":\"scatter\",\"xaxis\":\"x\",\"yaxis\":\"y\"},{\"line\":{\"color\":\"orange\",\"width\":2},\"name\":\"MA 20\",\"opacity\":0.7,\"x\":[\"2023-08-02T00:00:00\",\"2023-08-03T00:00:00\",\"2023-08-04T00:00:00\",\"2023-08-07T00:00:00\",\"2023-08-08T00:00:00\",\"2023-08-09T00:00:00\",\"2023-08-10T00:00:00\",\"2023-08-11T00:00:00\",\"2023-08-14T00:00:00\",\"2023-08-16T00:00:00\",\"2023-08-17T00:00:00\",\"2023-08-18T00:00:00\",\"2023-08-21T00:00:00\",\"2023-08-22T00:00:00\",\"2023-08-23T00:00:00\",\"2023-08-24T00:00:00\",\"2023-08-25T00:00:00\",\"2023-08-28T00:00:00\",\"2023-08-29T00:00:00\",\"2023-08-30T00:00:00\",\"2023-08-31T00:00:00\",\"2023-09-01T00:00:00\",\"2023-09-04T00:00:00\",\"2023-09-05T00:00:00\",\"2023-09-06T00:00:00\",\"2023-09-07T00:00:00\",\"2023-09-08T00:00:00\",\"2023-09-11T00:00:00\",\"2023-09-12T00:00:00\",\"2023-09-13T00:00:00\",\"2023-09-14T00:00:00\",\"2023-09-15T00:00:00\",\"2023-09-18T00:00:00\",\"2023-09-19T00:00:00\",\"2023-09-20T00:00:00\",\"2023-09-21T00:00:00\",\"2023-09-22T00:00:00\",\"2023-09-25T00:00:00\",\"2023-09-26T00:00:00\",\"2023-09-27T00:00:00\",\"2023-10-04T00:00:00\",\"2023-10-05T00:00:00\",\"2023-10-06T00:00:00\",\"2023-10-10T00:00:00\",\"2023-10-11T00:00:00\",\"2023-10-12T00:00:00\",\"2023-10-13T00:00:00\",\"2023-10-16T00:00:00\",\"2023-10-17T00:00:00\",\"2023-10-18T00:00:00\",\"2023-10-19T00:00:00\",\"2023-10-20T00:00:00\"],\"y\":[350025.0,355775.0,360800.0,363550.0,365750.0,368975.0,371775.0,373875.0,375825.0,374700.0,372550.0,370025.0,367350.0,364000.0,356950.0,350875.0,349175.0,346025.0,341600.0,337400.0,334600.0,330525.0,326875.0,325200.0,323300.0,320575.0,318650.0,316975.0,314950.0,313525.0,311875.0,310275.0,307875.0,304900.0,303375.0,300825.0,298050.0,293900.0,290100.0,286525.0,282050.0,278300.0,274700.0,270525.0,267650.0,265900.0,263250.0,260875.0,259450.0,258175.0,255900.0,253575.0],\"type\":\"scatter\",\"xaxis\":\"x\",\"yaxis\":\"y\"},{\"line\":{\"color\":\"purple\",\"width\":2},\"name\":\"MA 60\",\"opacity\":0.7,\"x\":[\"2023-08-02T00:00:00\",\"2023-08-03T00:00:00\",\"2023-08-04T00:00:00\",\"2023-08-07T00:00:00\",\"2023-08-08T00:00:00\",\"2023-08-09T00:00:00\",\"2023-08-10T00:00:00\",\"2023-08-11T00:00:00\",\"2023-08-14T00:00:00\",\"2023-08-16T00:00:00\",\"2023-08-17T00:00:00\",\"2023-08-18T00:00:00\",\"2023-08-21T00:00:00\",\"2023-08-22T00:00:00\",\"2023-08-23T00:00:00\",\"2023-08-24T00:00:00\",\"2023-08-25T00:00:00\",\"2023-08-28T00:00:00\",\"2023-08-29T00:00:00\",\"2023-08-30T00:00:00\",\"2023-08-31T00:00:00\",\"2023-09-01T00:00:00\",\"2023-09-04T00:00:00\",\"2023-09-05T00:00:00\",\"2023-09-06T00:00:00\",\"2023-09-07T00:00:00\",\"2023-09-08T00:00:00\",\"2023-09-11T00:00:00\",\"2023-09-12T00:00:00\",\"2023-09-13T00:00:00\",\"2023-09-14T00:00:00\",\"2023-09-15T00:00:00\",\"2023-09-18T00:00:00\",\"2023-09-19T00:00:00\",\"2023-09-20T00:00:00\",\"2023-09-21T00:00:00\",\"2023-09-22T00:00:00\",\"2023-09-25T00:00:00\",\"2023-09-26T00:00:00\",\"2023-09-27T00:00:00\",\"2023-10-04T00:00:00\",\"2023-10-05T00:00:00\",\"2023-10-06T00:00:00\",\"2023-10-10T00:00:00\",\"2023-10-11T00:00:00\",\"2023-10-12T00:00:00\",\"2023-10-13T00:00:00\",\"2023-10-16T00:00:00\",\"2023-10-17T00:00:00\",\"2023-10-18T00:00:00\",\"2023-10-19T00:00:00\",\"2023-10-20T00:00:00\"],\"y\":[284000.0,286550.0,289033.3333333333,291000.0,292858.3333333333,294858.3333333333,296666.6666666667,298191.6666666667,299633.3333333333,300916.6666666667,302275.0,303416.6666666667,304783.3333333333,306350.0,307733.3333333333,309308.3333333333,310866.6666666667,312450.0,313708.3333333333,314825.0,315733.3333333333,316416.6666666667,317091.6666666667,317725.0,318025.0,318608.3333333333,319283.3333333333,319683.3333333333,319858.3333333333,320075.0,320466.6666666667,320716.6666666667,321000.0,321275.0,321875.0,322533.3333333333,323300.0,323508.3333333333,323358.3333333333,323000.0,322225.0,321533.3333333333,320791.6666666667,319758.3333333333,318900.0,318483.3333333333,317891.6666666667,317241.6666666667,316741.6666666667,315466.6666666667,313441.6666666667,311291.6666666667],\"type\":\"scatter\",\"xaxis\":\"x\",\"yaxis\":\"y\"},{\"line\":{\"color\":\"green\",\"width\":2},\"name\":\"MA 120\",\"opacity\":0.7,\"x\":[\"2023-08-02T00:00:00\",\"2023-08-03T00:00:00\",\"2023-08-04T00:00:00\",\"2023-08-07T00:00:00\",\"2023-08-08T00:00:00\",\"2023-08-09T00:00:00\",\"2023-08-10T00:00:00\",\"2023-08-11T00:00:00\",\"2023-08-14T00:00:00\",\"2023-08-16T00:00:00\",\"2023-08-17T00:00:00\",\"2023-08-18T00:00:00\",\"2023-08-21T00:00:00\",\"2023-08-22T00:00:00\",\"2023-08-23T00:00:00\",\"2023-08-24T00:00:00\",\"2023-08-25T00:00:00\",\"2023-08-28T00:00:00\",\"2023-08-29T00:00:00\",\"2023-08-30T00:00:00\",\"2023-08-31T00:00:00\",\"2023-09-01T00:00:00\",\"2023-09-04T00:00:00\",\"2023-09-05T00:00:00\",\"2023-09-06T00:00:00\",\"2023-09-07T00:00:00\",\"2023-09-08T00:00:00\",\"2023-09-11T00:00:00\",\"2023-09-12T00:00:00\",\"2023-09-13T00:00:00\",\"2023-09-14T00:00:00\",\"2023-09-15T00:00:00\",\"2023-09-18T00:00:00\",\"2023-09-19T00:00:00\",\"2023-09-20T00:00:00\",\"2023-09-21T00:00:00\",\"2023-09-22T00:00:00\",\"2023-09-25T00:00:00\",\"2023-09-26T00:00:00\",\"2023-09-27T00:00:00\",\"2023-10-04T00:00:00\",\"2023-10-05T00:00:00\",\"2023-10-06T00:00:00\",\"2023-10-10T00:00:00\",\"2023-10-11T00:00:00\",\"2023-10-12T00:00:00\",\"2023-10-13T00:00:00\",\"2023-10-16T00:00:00\",\"2023-10-17T00:00:00\",\"2023-10-18T00:00:00\",\"2023-10-19T00:00:00\",\"2023-10-20T00:00:00\"],\"y\":[251065.83333333334,253226.66666666666,255291.66666666666,256966.66666666666,258620.83333333334,260307.5,261890.83333333334,263363.3333333333,264785.8333333333,265975.0,267287.5,268594.1666666667,270000.0,271422.5,272711.6666666667,274160.0,275496.6666666667,276559.1666666667,277600.8333333333,278563.3333333333,279559.1666666667,280516.6666666667,281387.5,282304.1666666667,283029.1666666667,283637.5,284462.5,285179.1666666667,285787.5,286300.0,286716.6666666667,287108.3333333333,287558.3333333333,288008.3333333333,288487.5,288954.1666666667,289475.0,289720.8333333333,289970.8333333333,290120.8333333333,290016.6666666667,289816.6666666667,289341.6666666667,288745.8333333333,288475.0,288354.1666666667,288091.6666666667,287662.5,287270.8333333333,286900.0,286445.8333333333,286120.8333333333],\"type\":\"scatter\",\"xaxis\":\"x\",\"yaxis\":\"y\"},{\"fill\":\"toself\",\"fillcolor\":\"rgba(255,255,0,0.1)\",\"line\":{\"color\":\"rgba(255,255,255,0.2)\",\"width\":2},\"name\":\"Bollinger Band\",\"showlegend\":false,\"x\":[\"2023-08-02T00:00:00\",\"2023-08-03T00:00:00\",\"2023-08-04T00:00:00\",\"2023-08-07T00:00:00\",\"2023-08-08T00:00:00\",\"2023-08-09T00:00:00\",\"2023-08-10T00:00:00\",\"2023-08-11T00:00:00\",\"2023-08-14T00:00:00\",\"2023-08-16T00:00:00\",\"2023-08-17T00:00:00\",\"2023-08-18T00:00:00\",\"2023-08-21T00:00:00\",\"2023-08-22T00:00:00\",\"2023-08-23T00:00:00\",\"2023-08-24T00:00:00\",\"2023-08-25T00:00:00\",\"2023-08-28T00:00:00\",\"2023-08-29T00:00:00\",\"2023-08-30T00:00:00\",\"2023-08-31T00:00:00\",\"2023-09-01T00:00:00\",\"2023-09-04T00:00:00\",\"2023-09-05T00:00:00\",\"2023-09-06T00:00:00\",\"2023-09-07T00:00:00\",\"2023-09-08T00:00:00\",\"2023-09-11T00:00:00\",\"2023-09-12T00:00:00\",\"2023-09-13T00:00:00\",\"2023-09-14T00:00:00\",\"2023-09-15T00:00:00\",\"2023-09-18T00:00:00\",\"2023-09-19T00:00:00\",\"2023-09-20T00:00:00\",\"2023-09-21T00:00:00\",\"2023-09-22T00:00:00\",\"2023-09-25T00:00:00\",\"2023-09-26T00:00:00\",\"2023-09-27T00:00:00\",\"2023-10-04T00:00:00\",\"2023-10-05T00:00:00\",\"2023-10-06T00:00:00\",\"2023-10-10T00:00:00\",\"2023-10-11T00:00:00\",\"2023-10-12T00:00:00\",\"2023-10-13T00:00:00\",\"2023-10-16T00:00:00\",\"2023-10-17T00:00:00\",\"2023-10-18T00:00:00\",\"2023-10-19T00:00:00\",\"2023-10-20T00:00:00\",\"2023-10-20T00:00:00\",\"2023-10-19T00:00:00\",\"2023-10-18T00:00:00\",\"2023-10-17T00:00:00\",\"2023-10-16T00:00:00\",\"2023-10-13T00:00:00\",\"2023-10-12T00:00:00\",\"2023-10-11T00:00:00\",\"2023-10-10T00:00:00\",\"2023-10-06T00:00:00\",\"2023-10-05T00:00:00\",\"2023-10-04T00:00:00\",\"2023-09-27T00:00:00\",\"2023-09-26T00:00:00\",\"2023-09-25T00:00:00\",\"2023-09-22T00:00:00\",\"2023-09-21T00:00:00\",\"2023-09-20T00:00:00\",\"2023-09-19T00:00:00\",\"2023-09-18T00:00:00\",\"2023-09-15T00:00:00\",\"2023-09-14T00:00:00\",\"2023-09-13T00:00:00\",\"2023-09-12T00:00:00\",\"2023-09-11T00:00:00\",\"2023-09-08T00:00:00\",\"2023-09-07T00:00:00\",\"2023-09-06T00:00:00\",\"2023-09-05T00:00:00\",\"2023-09-04T00:00:00\",\"2023-09-01T00:00:00\",\"2023-08-31T00:00:00\",\"2023-08-30T00:00:00\",\"2023-08-29T00:00:00\",\"2023-08-28T00:00:00\",\"2023-08-25T00:00:00\",\"2023-08-24T00:00:00\",\"2023-08-23T00:00:00\",\"2023-08-22T00:00:00\",\"2023-08-21T00:00:00\",\"2023-08-18T00:00:00\",\"2023-08-17T00:00:00\",\"2023-08-16T00:00:00\",\"2023-08-14T00:00:00\",\"2023-08-11T00:00:00\",\"2023-08-10T00:00:00\",\"2023-08-09T00:00:00\",\"2023-08-08T00:00:00\",\"2023-08-07T00:00:00\",\"2023-08-04T00:00:00\",\"2023-08-03T00:00:00\",\"2023-08-02T00:00:00\"],\"y\":[475522.59957863565,477476.468766813,477779.22892547864,475760.9174724079,474159.63979277643,470488.28730762063,466333.69870085735,461965.2236346322,456873.3034985897,459041.21175320825,460301.8660770215,461610.73851861176,460549.8390556525,456431.05538724276,439373.8436376244,420396.84908357635,417763.8292654101,409181.5317287102,395391.8209396149,381968.59881126625,374808.95422663476,363277.8243056933,351894.74220489943,350955.3877858523,350280.3632295719,349762.7971076894,348195.0503468795,348930.3986049251,351229.33295968454,353538.0916076183,353694.70229448867,354341.3987636801,353033.4709661396,349697.9910263806,347952.88128657173,344031.7992334504,337125.43985676544,329867.48531659815,325855.5590083516,322105.1559861634,319844.0471503084,319575.17413651623,317684.1831375187,316462.4302720533,312788.7859827861,310299.99999999744,305715.86864765367,302393.51996398455,300542.4567286964,298838.5893644399,295379.86828751833,292577.91655760887,214572.08344239113,216420.1317124817,217511.4106355601,218357.5432713036,219356.48003601548,220784.1313523463,221500.0000000026,222511.2140172139,224587.5697279467,231715.81686248127,237024.82586348374,244255.95284969165,250944.84401383658,254344.44099164841,257932.51468340185,258974.56014323456,257618.20076654965,258797.1187134283,260102.0089736194,262716.5290338604,266208.6012363199,270055.29770551133,273511.9083923817,278670.66704031546,285019.6013950749,289104.9496531205,291387.2028923106,296319.6367704281,299444.6122141477,301855.25779510057,297772.1756943067,294391.04577336524,292831.40118873375,287808.1790603851,282868.4682712898,280586.1707345899,281353.15091642365,274526.1563623756,271568.94461275724,274150.1609443475,278439.26148138824,284798.1339229785,290358.78824679175,294776.6965014103,285784.7763653678,277216.30129914265,267461.71269237937,257340.36020722357,251339.08252759208,243820.77107452133,234073.531233187,224527.40042136432],\"type\":\"scatter\",\"xaxis\":\"x\",\"yaxis\":\"y\"},{\"marker\":{\"color\":[\"blue\",\"red\",\"blue\",\"blue\",\"blue\",\"red\",\"blue\",\"blue\",\"red\",\"blue\",\"red\",\"blue\",\"red\",\"red\",\"blue\",\"red\",\"red\",\"blue\",\"blue\",\"blue\",\"blue\",\"blue\",\"red\",\"blue\",\"blue\",\"blue\",\"red\",\"blue\",\"blue\",\"blue\",\"red\",\"blue\",\"blue\",\"blue\",\"red\",\"blue\",\"red\",\"blue\",\"blue\",\"red\",\"blue\",\"blue\",\"red\",\"blue\",\"red\",\"red\",\"blue\",\"red\",\"red\",\"red\",\"blue\",\"blue\"]},\"name\":\"Volume\",\"showlegend\":false,\"x\":[\"2023-08-02T00:00:00\",\"2023-08-03T00:00:00\",\"2023-08-04T00:00:00\",\"2023-08-07T00:00:00\",\"2023-08-08T00:00:00\",\"2023-08-09T00:00:00\",\"2023-08-10T00:00:00\",\"2023-08-11T00:00:00\",\"2023-08-14T00:00:00\",\"2023-08-16T00:00:00\",\"2023-08-17T00:00:00\",\"2023-08-18T00:00:00\",\"2023-08-21T00:00:00\",\"2023-08-22T00:00:00\",\"2023-08-23T00:00:00\",\"2023-08-24T00:00:00\",\"2023-08-25T00:00:00\",\"2023-08-28T00:00:00\",\"2023-08-29T00:00:00\",\"2023-08-30T00:00:00\",\"2023-08-31T00:00:00\",\"2023-09-01T00:00:00\",\"2023-09-04T00:00:00\",\"2023-09-05T00:00:00\",\"2023-09-06T00:00:00\",\"2023-09-07T00:00:00\",\"2023-09-08T00:00:00\",\"2023-09-11T00:00:00\",\"2023-09-12T00:00:00\",\"2023-09-13T00:00:00\",\"2023-09-14T00:00:00\",\"2023-09-15T00:00:00\",\"2023-09-18T00:00:00\",\"2023-09-19T00:00:00\",\"2023-09-20T00:00:00\",\"2023-09-21T00:00:00\",\"2023-09-22T00:00:00\",\"2023-09-25T00:00:00\",\"2023-09-26T00:00:00\",\"2023-09-27T00:00:00\",\"2023-10-04T00:00:00\",\"2023-10-05T00:00:00\",\"2023-10-06T00:00:00\",\"2023-10-10T00:00:00\",\"2023-10-11T00:00:00\",\"2023-10-12T00:00:00\",\"2023-10-13T00:00:00\",\"2023-10-16T00:00:00\",\"2023-10-17T00:00:00\",\"2023-10-18T00:00:00\",\"2023-10-19T00:00:00\",\"2023-10-20T00:00:00\"],\"y\":[1838944,1530821,973480,2047494,1550330,1073489,912235,1043452,932824,1057135,1546048,1023213,1067372,1300180,1012929,881759,1136688,656141,979750,850021,795872,817093,719380,801440,648114,1245717,790609,721585,1208260,801850,716570,697568,582615,486652,688258,636305,566136,1259365,850834,1144937,1012455,674090,351511,856672,991492,1136493,869053,911320,970967,611962,679263,1083331],\"type\":\"bar\",\"xaxis\":\"x2\",\"yaxis\":\"y2\"},{\"marker\":{\"color\":[\"red\",\"blue\",\"blue\",\"blue\",\"blue\",\"blue\",\"blue\",\"blue\",\"blue\",\"blue\",\"blue\",\"blue\",\"blue\",\"blue\",\"blue\",\"blue\",\"blue\",\"blue\",\"blue\",\"blue\",\"blue\",\"blue\",\"blue\",\"blue\",\"blue\",\"blue\",\"blue\",\"blue\",\"blue\",\"blue\",\"blue\",\"blue\",\"blue\",\"blue\",\"blue\",\"blue\",\"red\",\"blue\",\"blue\",\"blue\",\"blue\",\"blue\",\"blue\",\"blue\",\"blue\",\"blue\",\"red\",\"red\",\"red\",\"red\",\"red\",\"red\"]},\"name\":\"MACD DIFF\",\"x\":[\"2023-08-02T00:00:00\",\"2023-08-03T00:00:00\",\"2023-08-04T00:00:00\",\"2023-08-07T00:00:00\",\"2023-08-08T00:00:00\",\"2023-08-09T00:00:00\",\"2023-08-10T00:00:00\",\"2023-08-11T00:00:00\",\"2023-08-14T00:00:00\",\"2023-08-16T00:00:00\",\"2023-08-17T00:00:00\",\"2023-08-18T00:00:00\",\"2023-08-21T00:00:00\",\"2023-08-22T00:00:00\",\"2023-08-23T00:00:00\",\"2023-08-24T00:00:00\",\"2023-08-25T00:00:00\",\"2023-08-28T00:00:00\",\"2023-08-29T00:00:00\",\"2023-08-30T00:00:00\",\"2023-08-31T00:00:00\",\"2023-09-01T00:00:00\",\"2023-09-04T00:00:00\",\"2023-09-05T00:00:00\",\"2023-09-06T00:00:00\",\"2023-09-07T00:00:00\",\"2023-09-08T00:00:00\",\"2023-09-11T00:00:00\",\"2023-09-12T00:00:00\",\"2023-09-13T00:00:00\",\"2023-09-14T00:00:00\",\"2023-09-15T00:00:00\",\"2023-09-18T00:00:00\",\"2023-09-19T00:00:00\",\"2023-09-20T00:00:00\",\"2023-09-21T00:00:00\",\"2023-09-22T00:00:00\",\"2023-09-25T00:00:00\",\"2023-09-26T00:00:00\",\"2023-09-27T00:00:00\",\"2023-10-04T00:00:00\",\"2023-10-05T00:00:00\",\"2023-10-06T00:00:00\",\"2023-10-10T00:00:00\",\"2023-10-11T00:00:00\",\"2023-10-12T00:00:00\",\"2023-10-13T00:00:00\",\"2023-10-16T00:00:00\",\"2023-10-17T00:00:00\",\"2023-10-18T00:00:00\",\"2023-10-19T00:00:00\",\"2023-10-20T00:00:00\"],\"y\":[1953.5142964348343,-311.29577874987444,-2641.1097607168485,-6861.862188311527,-9510.122090606255,-10661.275339223728,-11459.51205264204,-12479.125395938365,-13013.150912282304,-13759.524257230072,-12717.793993459942,-11889.19993407916,-9806.545292678495,-7439.50968581692,-6660.616628859082,-5052.078272538776,-3219.7036691487247,-1782.4742378718179,-1685.2760886748288,-1918.6964783151514,-1959.8268001269453,-2894.8930926403605,-3377.380408794786,-3543.209474968531,-3780.974047144068,-4457.559599247441,-3959.573623561696,-3955.0051605259905,-4474.28828830069,-4646.315318629804,-3783.360323172543,-3265.578085506997,-2664.7552137070033,-2164.9420204272155,-824.3503041116601,-333.4341783061591,397.6678754639652,-674.4480420979144,-1638.419977825557,-2129.3449175328133,-3346.176313225458,-3893.5854342328275,-3760.4814595003045,-4124.6078178296375,-2665.9166890538,-773.2863473295074,113.24957171326605,609.6326885974267,1472.2415263463772,2132.912651145518,1957.4328481206976,1517.878053574248],\"type\":\"bar\",\"xaxis\":\"x3\",\"yaxis\":\"y3\"},{\"line\":{\"color\":\"green\",\"width\":2},\"name\":\"MACD\",\"x\":[\"2023-08-02T00:00:00\",\"2023-08-03T00:00:00\",\"2023-08-04T00:00:00\",\"2023-08-07T00:00:00\",\"2023-08-08T00:00:00\",\"2023-08-09T00:00:00\",\"2023-08-10T00:00:00\",\"2023-08-11T00:00:00\",\"2023-08-14T00:00:00\",\"2023-08-16T00:00:00\",\"2023-08-17T00:00:00\",\"2023-08-18T00:00:00\",\"2023-08-21T00:00:00\",\"2023-08-22T00:00:00\",\"2023-08-23T00:00:00\",\"2023-08-24T00:00:00\",\"2023-08-25T00:00:00\",\"2023-08-28T00:00:00\",\"2023-08-29T00:00:00\",\"2023-08-30T00:00:00\",\"2023-08-31T00:00:00\",\"2023-09-01T00:00:00\",\"2023-09-04T00:00:00\",\"2023-09-05T00:00:00\",\"2023-09-06T00:00:00\",\"2023-09-07T00:00:00\",\"2023-09-08T00:00:00\",\"2023-09-11T00:00:00\",\"2023-09-12T00:00:00\",\"2023-09-13T00:00:00\",\"2023-09-14T00:00:00\",\"2023-09-15T00:00:00\",\"2023-09-18T00:00:00\",\"2023-09-19T00:00:00\",\"2023-09-20T00:00:00\",\"2023-09-21T00:00:00\",\"2023-09-22T00:00:00\",\"2023-09-25T00:00:00\",\"2023-09-26T00:00:00\",\"2023-09-27T00:00:00\",\"2023-10-04T00:00:00\",\"2023-10-05T00:00:00\",\"2023-10-06T00:00:00\",\"2023-10-10T00:00:00\",\"2023-10-11T00:00:00\",\"2023-10-12T00:00:00\",\"2023-10-13T00:00:00\",\"2023-10-16T00:00:00\",\"2023-10-17T00:00:00\",\"2023-10-18T00:00:00\",\"2023-10-19T00:00:00\",\"2023-10-20T00:00:00\"],\"y\":[37167.06744698802,34824.433427115844,31834.342004969658,25898.1240302971,20872.33360535081,17055.861521927407,13392.74679534859,9253.352103067678,5466.038858653163,1279.7844493978773,-857.9337851969758,-3001.6397093359847,-3370.6213911049417,-2863.463205697597,-3749.724305954529,-3404.205517768918,-2376.756831666047,-1385.1459598570946,-1709.2668328288128,-2422.3613420479232,-2953.4483638914535,-4612.237929564959,-5939.070347918081,-6990.701782833959,-8173.709866795514,-9964.685318710748,-10456.592748915427,-11440.77557601122,-13078.630775861093,-14412.236635847657,-14495.121721183532,-14793.734004894737,-14859.099936521496,-14900.522248348512,-13766.018108060875,-13358.460526831914,-12527.941504195798,-13768.669432282157,-15142.24636246619,-16165.50753155665,-18218.88300555566,-19739.688485121238,-20546.704875263793,-21941.983188050537,-21149.77123153815,-19450.462476646237,-18535.61416467515,-17886.822875641636,-16656.153656306094,-15462.254368720576,-15148.375959715224,-15208.461240868113],\"type\":\"scatter\",\"xaxis\":\"x3\",\"yaxis\":\"y3\"},{\"line\":{\"color\":\"orange\",\"width\":1},\"name\":\"MACD Signal\",\"x\":[\"2023-08-02T00:00:00\",\"2023-08-03T00:00:00\",\"2023-08-04T00:00:00\",\"2023-08-07T00:00:00\",\"2023-08-08T00:00:00\",\"2023-08-09T00:00:00\",\"2023-08-10T00:00:00\",\"2023-08-11T00:00:00\",\"2023-08-14T00:00:00\",\"2023-08-16T00:00:00\",\"2023-08-17T00:00:00\",\"2023-08-18T00:00:00\",\"2023-08-21T00:00:00\",\"2023-08-22T00:00:00\",\"2023-08-23T00:00:00\",\"2023-08-24T00:00:00\",\"2023-08-25T00:00:00\",\"2023-08-28T00:00:00\",\"2023-08-29T00:00:00\",\"2023-08-30T00:00:00\",\"2023-08-31T00:00:00\",\"2023-09-01T00:00:00\",\"2023-09-04T00:00:00\",\"2023-09-05T00:00:00\",\"2023-09-06T00:00:00\",\"2023-09-07T00:00:00\",\"2023-09-08T00:00:00\",\"2023-09-11T00:00:00\",\"2023-09-12T00:00:00\",\"2023-09-13T00:00:00\",\"2023-09-14T00:00:00\",\"2023-09-15T00:00:00\",\"2023-09-18T00:00:00\",\"2023-09-19T00:00:00\",\"2023-09-20T00:00:00\",\"2023-09-21T00:00:00\",\"2023-09-22T00:00:00\",\"2023-09-25T00:00:00\",\"2023-09-26T00:00:00\",\"2023-09-27T00:00:00\",\"2023-10-04T00:00:00\",\"2023-10-05T00:00:00\",\"2023-10-06T00:00:00\",\"2023-10-10T00:00:00\",\"2023-10-11T00:00:00\",\"2023-10-12T00:00:00\",\"2023-10-13T00:00:00\",\"2023-10-16T00:00:00\",\"2023-10-17T00:00:00\",\"2023-10-18T00:00:00\",\"2023-10-19T00:00:00\",\"2023-10-20T00:00:00\"],\"y\":[35213.55315055318,35135.72920586572,34475.45176568651,32759.986218608625,30382.455695957065,27717.136861151135,24852.25884799063,21732.477499006043,18479.189770935467,15039.30870662795,11859.860208262966,8887.560224743176,6435.923901573553,4576.046480119323,2910.892322904553,1647.8727547698586,842.9468374826777,397.32827801472325,-23.990744153983997,-503.6648637327719,-993.6215637645082,-1717.3448369245984,-2561.689939123295,-3447.4923078654283,-4392.735819651446,-5507.125719463307,-6497.019125353731,-7485.770415485229,-8604.342487560403,-9765.921317217853,-10711.761398010989,-11528.15591938774,-12194.344722814492,-12735.580227921297,-12941.667803949214,-13025.026348525755,-12925.609379659763,-13094.221390184242,-13503.826384640633,-14036.162614023837,-14872.706692330203,-15846.10305088841,-16786.22341576349,-17817.3753702209,-18483.85454248435,-18677.17612931673,-18648.863736388415,-18496.455564239062,-18128.39518265247,-17595.167019866094,-17105.80880783592,-16726.33929444236],\"type\":\"scatter\",\"xaxis\":\"x3\",\"yaxis\":\"y3\"},{\"line\":{\"color\":\"red\",\"width\":1},\"name\":\"RSI\",\"x\":[\"2023-08-02T00:00:00\",\"2023-08-03T00:00:00\",\"2023-08-04T00:00:00\",\"2023-08-07T00:00:00\",\"2023-08-08T00:00:00\",\"2023-08-09T00:00:00\",\"2023-08-10T00:00:00\",\"2023-08-11T00:00:00\",\"2023-08-14T00:00:00\",\"2023-08-16T00:00:00\",\"2023-08-17T00:00:00\",\"2023-08-18T00:00:00\",\"2023-08-21T00:00:00\",\"2023-08-22T00:00:00\",\"2023-08-23T00:00:00\",\"2023-08-24T00:00:00\",\"2023-08-25T00:00:00\",\"2023-08-28T00:00:00\",\"2023-08-29T00:00:00\",\"2023-08-30T00:00:00\",\"2023-08-31T00:00:00\",\"2023-09-01T00:00:00\",\"2023-09-04T00:00:00\",\"2023-09-05T00:00:00\",\"2023-09-06T00:00:00\",\"2023-09-07T00:00:00\",\"2023-09-08T00:00:00\",\"2023-09-11T00:00:00\",\"2023-09-12T00:00:00\",\"2023-09-13T00:00:00\",\"2023-09-14T00:00:00\",\"2023-09-15T00:00:00\",\"2023-09-18T00:00:00\",\"2023-09-19T00:00:00\",\"2023-09-20T00:00:00\",\"2023-09-21T00:00:00\",\"2023-09-22T00:00:00\",\"2023-09-25T00:00:00\",\"2023-09-26T00:00:00\",\"2023-09-27T00:00:00\",\"2023-10-04T00:00:00\",\"2023-10-05T00:00:00\",\"2023-10-06T00:00:00\",\"2023-10-10T00:00:00\",\"2023-10-11T00:00:00\",\"2023-10-12T00:00:00\",\"2023-10-13T00:00:00\",\"2023-10-16T00:00:00\",\"2023-10-17T00:00:00\",\"2023-10-18T00:00:00\",\"2023-10-19T00:00:00\",\"2023-10-20T00:00:00\"],\"y\":[56.916308471034505,58.48184799287881,56.27949951729884,47.98343067433393,47.79608481285133,48.765505889787576,47.498971438238186,44.58897013113194,43.46244099155723,40.553509904817574,44.55023014696419,43.25431981907369,47.629213571164364,50.08965797545286,46.043543016445796,49.379549670475186,51.69529144389663,52.21840614782407,48.27717393242932,46.65204798690647,46.65204798690647,42.25316390186059,41.986693985933584,41.70345976795136,40.10117923249062,36.78077760916237,41.153552879262534,38.56795036737888,35.25491351479934,34.61448268303246,39.35972520436588,37.879473824350136,37.87947382435014,37.2299350909904,43.72497084031953,40.814219405450366,43.10841699946003,34.861803497292705,32.995790575096265,32.59319441723272,28.153885591140178,27.81390522372325,29.04424911624513,26.05520598414714,37.42829746162613,42.32162271490309,39.76972053896598,38.67109197258397,41.88207804029508,42.13306145676574,38.547585544117396,36.538447327653174],\"type\":\"scatter\",\"xaxis\":\"x4\",\"yaxis\":\"y4\"}],                        {\"template\":{\"data\":{\"barpolar\":[{\"marker\":{\"line\":{\"color\":\"rgb(17,17,17)\",\"width\":0.5},\"pattern\":{\"fillmode\":\"overlay\",\"size\":10,\"solidity\":0.2}},\"type\":\"barpolar\"}],\"bar\":[{\"error_x\":{\"color\":\"#f2f5fa\"},\"error_y\":{\"color\":\"#f2f5fa\"},\"marker\":{\"line\":{\"color\":\"rgb(17,17,17)\",\"width\":0.5},\"pattern\":{\"fillmode\":\"overlay\",\"size\":10,\"solidity\":0.2}},\"type\":\"bar\"}],\"carpet\":[{\"aaxis\":{\"endlinecolor\":\"#A2B1C6\",\"gridcolor\":\"#506784\",\"linecolor\":\"#506784\",\"minorgridcolor\":\"#506784\",\"startlinecolor\":\"#A2B1C6\"},\"baxis\":{\"endlinecolor\":\"#A2B1C6\",\"gridcolor\":\"#506784\",\"linecolor\":\"#506784\",\"minorgridcolor\":\"#506784\",\"startlinecolor\":\"#A2B1C6\"},\"type\":\"carpet\"}],\"choropleth\":[{\"colorbar\":{\"outlinewidth\":0,\"ticks\":\"\"},\"type\":\"choropleth\"}],\"contourcarpet\":[{\"colorbar\":{\"outlinewidth\":0,\"ticks\":\"\"},\"type\":\"contourcarpet\"}],\"contour\":[{\"colorbar\":{\"outlinewidth\":0,\"ticks\":\"\"},\"colorscale\":[[0.0,\"#0d0887\"],[0.1111111111111111,\"#46039f\"],[0.2222222222222222,\"#7201a8\"],[0.3333333333333333,\"#9c179e\"],[0.4444444444444444,\"#bd3786\"],[0.5555555555555556,\"#d8576b\"],[0.6666666666666666,\"#ed7953\"],[0.7777777777777778,\"#fb9f3a\"],[0.8888888888888888,\"#fdca26\"],[1.0,\"#f0f921\"]],\"type\":\"contour\"}],\"heatmapgl\":[{\"colorbar\":{\"outlinewidth\":0,\"ticks\":\"\"},\"colorscale\":[[0.0,\"#0d0887\"],[0.1111111111111111,\"#46039f\"],[0.2222222222222222,\"#7201a8\"],[0.3333333333333333,\"#9c179e\"],[0.4444444444444444,\"#bd3786\"],[0.5555555555555556,\"#d8576b\"],[0.6666666666666666,\"#ed7953\"],[0.7777777777777778,\"#fb9f3a\"],[0.8888888888888888,\"#fdca26\"],[1.0,\"#f0f921\"]],\"type\":\"heatmapgl\"}],\"heatmap\":[{\"colorbar\":{\"outlinewidth\":0,\"ticks\":\"\"},\"colorscale\":[[0.0,\"#0d0887\"],[0.1111111111111111,\"#46039f\"],[0.2222222222222222,\"#7201a8\"],[0.3333333333333333,\"#9c179e\"],[0.4444444444444444,\"#bd3786\"],[0.5555555555555556,\"#d8576b\"],[0.6666666666666666,\"#ed7953\"],[0.7777777777777778,\"#fb9f3a\"],[0.8888888888888888,\"#fdca26\"],[1.0,\"#f0f921\"]],\"type\":\"heatmap\"}],\"histogram2dcontour\":[{\"colorbar\":{\"outlinewidth\":0,\"ticks\":\"\"},\"colorscale\":[[0.0,\"#0d0887\"],[0.1111111111111111,\"#46039f\"],[0.2222222222222222,\"#7201a8\"],[0.3333333333333333,\"#9c179e\"],[0.4444444444444444,\"#bd3786\"],[0.5555555555555556,\"#d8576b\"],[0.6666666666666666,\"#ed7953\"],[0.7777777777777778,\"#fb9f3a\"],[0.8888888888888888,\"#fdca26\"],[1.0,\"#f0f921\"]],\"type\":\"histogram2dcontour\"}],\"histogram2d\":[{\"colorbar\":{\"outlinewidth\":0,\"ticks\":\"\"},\"colorscale\":[[0.0,\"#0d0887\"],[0.1111111111111111,\"#46039f\"],[0.2222222222222222,\"#7201a8\"],[0.3333333333333333,\"#9c179e\"],[0.4444444444444444,\"#bd3786\"],[0.5555555555555556,\"#d8576b\"],[0.6666666666666666,\"#ed7953\"],[0.7777777777777778,\"#fb9f3a\"],[0.8888888888888888,\"#fdca26\"],[1.0,\"#f0f921\"]],\"type\":\"histogram2d\"}],\"histogram\":[{\"marker\":{\"pattern\":{\"fillmode\":\"overlay\",\"size\":10,\"solidity\":0.2}},\"type\":\"histogram\"}],\"mesh3d\":[{\"colorbar\":{\"outlinewidth\":0,\"ticks\":\"\"},\"type\":\"mesh3d\"}],\"parcoords\":[{\"line\":{\"colorbar\":{\"outlinewidth\":0,\"ticks\":\"\"}},\"type\":\"parcoords\"}],\"pie\":[{\"automargin\":true,\"type\":\"pie\"}],\"scatter3d\":[{\"line\":{\"colorbar\":{\"outlinewidth\":0,\"ticks\":\"\"}},\"marker\":{\"colorbar\":{\"outlinewidth\":0,\"ticks\":\"\"}},\"type\":\"scatter3d\"}],\"scattercarpet\":[{\"marker\":{\"colorbar\":{\"outlinewidth\":0,\"ticks\":\"\"}},\"type\":\"scattercarpet\"}],\"scattergeo\":[{\"marker\":{\"colorbar\":{\"outlinewidth\":0,\"ticks\":\"\"}},\"type\":\"scattergeo\"}],\"scattergl\":[{\"marker\":{\"line\":{\"color\":\"#283442\"}},\"type\":\"scattergl\"}],\"scattermapbox\":[{\"marker\":{\"colorbar\":{\"outlinewidth\":0,\"ticks\":\"\"}},\"type\":\"scattermapbox\"}],\"scatterpolargl\":[{\"marker\":{\"colorbar\":{\"outlinewidth\":0,\"ticks\":\"\"}},\"type\":\"scatterpolargl\"}],\"scatterpolar\":[{\"marker\":{\"colorbar\":{\"outlinewidth\":0,\"ticks\":\"\"}},\"type\":\"scatterpolar\"}],\"scatter\":[{\"marker\":{\"line\":{\"color\":\"#283442\"}},\"type\":\"scatter\"}],\"scatterternary\":[{\"marker\":{\"colorbar\":{\"outlinewidth\":0,\"ticks\":\"\"}},\"type\":\"scatterternary\"}],\"surface\":[{\"colorbar\":{\"outlinewidth\":0,\"ticks\":\"\"},\"colorscale\":[[0.0,\"#0d0887\"],[0.1111111111111111,\"#46039f\"],[0.2222222222222222,\"#7201a8\"],[0.3333333333333333,\"#9c179e\"],[0.4444444444444444,\"#bd3786\"],[0.5555555555555556,\"#d8576b\"],[0.6666666666666666,\"#ed7953\"],[0.7777777777777778,\"#fb9f3a\"],[0.8888888888888888,\"#fdca26\"],[1.0,\"#f0f921\"]],\"type\":\"surface\"}],\"table\":[{\"cells\":{\"fill\":{\"color\":\"#506784\"},\"line\":{\"color\":\"rgb(17,17,17)\"}},\"header\":{\"fill\":{\"color\":\"#2a3f5f\"},\"line\":{\"color\":\"rgb(17,17,17)\"}},\"type\":\"table\"}]},\"layout\":{\"annotationdefaults\":{\"arrowcolor\":\"#f2f5fa\",\"arrowhead\":0,\"arrowwidth\":1},\"autotypenumbers\":\"strict\",\"coloraxis\":{\"colorbar\":{\"outlinewidth\":0,\"ticks\":\"\"}},\"colorscale\":{\"diverging\":[[0,\"#8e0152\"],[0.1,\"#c51b7d\"],[0.2,\"#de77ae\"],[0.3,\"#f1b6da\"],[0.4,\"#fde0ef\"],[0.5,\"#f7f7f7\"],[0.6,\"#e6f5d0\"],[0.7,\"#b8e186\"],[0.8,\"#7fbc41\"],[0.9,\"#4d9221\"],[1,\"#276419\"]],\"sequential\":[[0.0,\"#0d0887\"],[0.1111111111111111,\"#46039f\"],[0.2222222222222222,\"#7201a8\"],[0.3333333333333333,\"#9c179e\"],[0.4444444444444444,\"#bd3786\"],[0.5555555555555556,\"#d8576b\"],[0.6666666666666666,\"#ed7953\"],[0.7777777777777778,\"#fb9f3a\"],[0.8888888888888888,\"#fdca26\"],[1.0,\"#f0f921\"]],\"sequentialminus\":[[0.0,\"#0d0887\"],[0.1111111111111111,\"#46039f\"],[0.2222222222222222,\"#7201a8\"],[0.3333333333333333,\"#9c179e\"],[0.4444444444444444,\"#bd3786\"],[0.5555555555555556,\"#d8576b\"],[0.6666666666666666,\"#ed7953\"],[0.7777777777777778,\"#fb9f3a\"],[0.8888888888888888,\"#fdca26\"],[1.0,\"#f0f921\"]]},\"colorway\":[\"#636efa\",\"#EF553B\",\"#00cc96\",\"#ab63fa\",\"#FFA15A\",\"#19d3f3\",\"#FF6692\",\"#B6E880\",\"#FF97FF\",\"#FECB52\"],\"font\":{\"color\":\"#f2f5fa\"},\"geo\":{\"bgcolor\":\"rgb(17,17,17)\",\"lakecolor\":\"rgb(17,17,17)\",\"landcolor\":\"rgb(17,17,17)\",\"showlakes\":true,\"showland\":true,\"subunitcolor\":\"#506784\"},\"hoverlabel\":{\"align\":\"left\"},\"hovermode\":\"closest\",\"mapbox\":{\"style\":\"dark\"},\"paper_bgcolor\":\"rgb(17,17,17)\",\"plot_bgcolor\":\"rgb(17,17,17)\",\"polar\":{\"angularaxis\":{\"gridcolor\":\"#506784\",\"linecolor\":\"#506784\",\"ticks\":\"\"},\"bgcolor\":\"rgb(17,17,17)\",\"radialaxis\":{\"gridcolor\":\"#506784\",\"linecolor\":\"#506784\",\"ticks\":\"\"}},\"scene\":{\"xaxis\":{\"backgroundcolor\":\"rgb(17,17,17)\",\"gridcolor\":\"#506784\",\"gridwidth\":2,\"linecolor\":\"#506784\",\"showbackground\":true,\"ticks\":\"\",\"zerolinecolor\":\"#C8D4E3\"},\"yaxis\":{\"backgroundcolor\":\"rgb(17,17,17)\",\"gridcolor\":\"#506784\",\"gridwidth\":2,\"linecolor\":\"#506784\",\"showbackground\":true,\"ticks\":\"\",\"zerolinecolor\":\"#C8D4E3\"},\"zaxis\":{\"backgroundcolor\":\"rgb(17,17,17)\",\"gridcolor\":\"#506784\",\"gridwidth\":2,\"linecolor\":\"#506784\",\"showbackground\":true,\"ticks\":\"\",\"zerolinecolor\":\"#C8D4E3\"}},\"shapedefaults\":{\"line\":{\"color\":\"#f2f5fa\"}},\"sliderdefaults\":{\"bgcolor\":\"#C8D4E3\",\"bordercolor\":\"rgb(17,17,17)\",\"borderwidth\":1,\"tickwidth\":0},\"ternary\":{\"aaxis\":{\"gridcolor\":\"#506784\",\"linecolor\":\"#506784\",\"ticks\":\"\"},\"baxis\":{\"gridcolor\":\"#506784\",\"linecolor\":\"#506784\",\"ticks\":\"\"},\"bgcolor\":\"rgb(17,17,17)\",\"caxis\":{\"gridcolor\":\"#506784\",\"linecolor\":\"#506784\",\"ticks\":\"\"}},\"title\":{\"x\":0.05},\"updatemenudefaults\":{\"bgcolor\":\"#506784\",\"borderwidth\":0},\"xaxis\":{\"automargin\":true,\"gridcolor\":\"#283442\",\"linecolor\":\"#506784\",\"ticks\":\"\",\"title\":{\"standoff\":15},\"zerolinecolor\":\"#283442\",\"zerolinewidth\":2},\"yaxis\":{\"automargin\":true,\"gridcolor\":\"#283442\",\"linecolor\":\"#506784\",\"ticks\":\"\",\"title\":{\"standoff\":15},\"zerolinecolor\":\"#283442\",\"zerolinewidth\":2}}},\"xaxis\":{\"anchor\":\"y\",\"domain\":[0.0,1.0],\"matches\":\"x4\",\"showticklabels\":false,\"rangeslider\":{\"visible\":false},\"tickangle\":90,\"rangebreaks\":[{\"bounds\":[\"sat\",\"mon\"]}]},\"yaxis\":{\"anchor\":\"x\",\"domain\":[0.515,1.0],\"tickformat\":\",\",\"title\":{\"text\":\"Price\"}},\"xaxis2\":{\"anchor\":\"y2\",\"domain\":[0.0,1.0],\"matches\":\"x4\",\"showticklabels\":false,\"rangebreaks\":[{\"bounds\":[\"sat\",\"mon\"]}]},\"yaxis2\":{\"anchor\":\"x2\",\"domain\":[0.40800000000000003,0.505],\"title\":{\"text\":\"Volume\"}},\"xaxis3\":{\"anchor\":\"y3\",\"domain\":[0.0,1.0],\"matches\":\"x4\",\"showticklabels\":false,\"rangebreaks\":[{\"bounds\":[\"sat\",\"mon\"]}]},\"yaxis3\":{\"anchor\":\"x3\",\"domain\":[0.20400000000000001,0.398],\"title\":{\"text\":\"MACD\"}},\"xaxis4\":{\"anchor\":\"y4\",\"domain\":[0.0,1.0],\"rangebreaks\":[{\"bounds\":[\"sat\",\"mon\"]}]},\"yaxis4\":{\"anchor\":\"x4\",\"domain\":[0.0,0.194],\"title\":{\"text\":\"RSI\"}},\"annotations\":[{\"arrowhead\":1,\"showarrow\":true,\"text\":\"\\ub9e4\\uc218 \\u003cbr\\u003e array\",\"x\":\"2023-08-02T00:00:00\",\"xref\":\"x\",\"y\":380500,\"yref\":\"y\"},{\"arrowhead\":1,\"showarrow\":true,\"text\":\"\\ub9e4\\uc218 \\u003cbr\\u003e array\",\"x\":\"2023-08-03T00:00:00\",\"xref\":\"x\",\"y\":390000,\"yref\":\"y\"},{\"arrowhead\":1,\"showarrow\":true,\"text\":\"\\ub9e4\\uc218 \\u003cbr\\u003e array\",\"x\":\"2023-08-04T00:00:00\",\"xref\":\"x\",\"y\":380500,\"yref\":\"y\"},{\"arrowhead\":1,\"showarrow\":true,\"text\":\"\\ub9e4\\uc218 \\u003cbr\\u003e array\",\"x\":\"2023-08-07T00:00:00\",\"xref\":\"x\",\"y\":340000,\"yref\":\"y\"},{\"arrowhead\":1,\"showarrow\":true,\"text\":\"\\ub9e4\\uc218 \\u003cbr\\u003e array\",\"x\":\"2023-08-08T00:00:00\",\"xref\":\"x\",\"y\":339000,\"yref\":\"y\"},{\"arrowhead\":1,\"showarrow\":true,\"text\":\"\\ub9e4\\uc218 \\u003cbr\\u003e MACD\",\"x\":\"2023-09-22T00:00:00\",\"xref\":\"x\",\"y\":287000,\"yref\":\"y\"},{\"arrowhead\":1,\"showarrow\":true,\"text\":\"\\ub9e4\\uc218 \\u003cbr\\u003e MACD\",\"x\":\"2023-10-13T00:00:00\",\"xref\":\"x\",\"y\":246000,\"yref\":\"y\"},{\"arrowhead\":1,\"showarrow\":true,\"text\":\"\\ub9e4\\uc218 \\u003cbr\\u003e RSI\",\"x\":\"2023-10-04T00:00:00\",\"xref\":\"x\",\"y\":235000,\"yref\":\"y\"},{\"arrowhead\":1,\"showarrow\":true,\"text\":\"\\ub9e4\\ub3c4 \\u003cbr\\u003e 5_20_cross\",\"x\":\"2023-08-09T00:00:00\",\"xref\":\"x\",\"y\":343500,\"yref\":\"y\"},{\"arrowhead\":1,\"showarrow\":true,\"text\":\"\\ub9e4\\ub3c4 \\u003cbr\\u003e 20_60_cross\",\"x\":\"2023-09-08T00:00:00\",\"xref\":\"x\",\"y\":299000,\"yref\":\"y\"},{\"arrowhead\":1,\"showarrow\":true,\"text\":\"\\ub9e4\\ub3c4 \\u003cbr\\u003e Bollinger_band\",\"x\":\"2023-08-02T00:00:00\",\"xref\":\"x\",\"y\":380500,\"yref\":\"y\"},{\"arrowhead\":1,\"showarrow\":true,\"text\":\"\\ub9e4\\ub3c4 \\u003cbr\\u003e Bollinger_band\",\"x\":\"2023-08-03T00:00:00\",\"xref\":\"x\",\"y\":390000,\"yref\":\"y\"},{\"arrowhead\":1,\"showarrow\":true,\"text\":\"\\ub9e4\\ub3c4 \\u003cbr\\u003e Bollinger_band\",\"x\":\"2023-08-04T00:00:00\",\"xref\":\"x\",\"y\":380500,\"yref\":\"y\"},{\"arrowhead\":1,\"showarrow\":true,\"text\":\"\\ub9e4\\ub3c4 \\u003cbr\\u003e Bollinger_band\",\"x\":\"2023-08-07T00:00:00\",\"xref\":\"x\",\"y\":340000,\"yref\":\"y\"},{\"arrowhead\":1,\"showarrow\":true,\"text\":\"\\ub9e4\\ub3c4 \\u003cbr\\u003e Bollinger_band\",\"x\":\"2023-08-08T00:00:00\",\"xref\":\"x\",\"y\":339000,\"yref\":\"y\"},{\"arrowhead\":1,\"showarrow\":true,\"text\":\"\\ub9e4\\ub3c4 \\u003cbr\\u003e MACD\",\"x\":\"2023-08-03T00:00:00\",\"xref\":\"x\",\"y\":390000,\"yref\":\"y\"},{\"arrowhead\":1,\"showarrow\":true,\"text\":\"\\ub9e4\\ub3c4 \\u003cbr\\u003e MACD\",\"x\":\"2023-09-25T00:00:00\",\"xref\":\"x\",\"y\":261500,\"yref\":\"y\"},{\"font\":{\"color\":\"red\",\"family\":\"Times New Roman\",\"size\":10},\"showarrow\":false,\"text\":\"\\uacfc\\ub9e4\\uc218\\uad6c\\uac04\",\"x\":1,\"xanchor\":\"right\",\"xref\":\"x4 domain\",\"y\":100,\"yanchor\":\"top\",\"yref\":\"y4\"},{\"font\":{\"color\":\"blue\",\"family\":\"Times New Roman\",\"size\":10},\"showarrow\":false,\"text\":\"\\uacfc\\ub9e4\\ub3c4 \\uad6c\\uac04\",\"x\":1,\"xanchor\":\"right\",\"xref\":\"x4 domain\",\"y\":30,\"yanchor\":\"top\",\"yref\":\"y4\"}],\"shapes\":[{\"fillcolor\":\"white\",\"line\":{\"width\":0},\"opacity\":0.1,\"type\":\"rect\",\"x0\":0,\"x1\":1,\"xref\":\"x4 domain\",\"y0\":70,\"y1\":100,\"yref\":\"y4\"},{\"fillcolor\":\"white\",\"line\":{\"width\":0},\"opacity\":0.1,\"type\":\"rect\",\"x0\":0,\"x1\":1,\"xref\":\"x4 domain\",\"y0\":0,\"y1\":30,\"yref\":\"y4\"}],\"title\":{\"text\":\"\\uc0bc\\uc131\\uc804\\uc790 \\uc8fc\\uac00\",\"font\":{\"family\":\"\\ub9d1\\uc740\\uace0\\ub515\",\"size\":18}},\"hoverlabel\":{\"font\":{\"size\":15},\"bgcolor\":\"black\"},\"legend\":{\"orientation\":\"h\",\"xanchor\":\"center\",\"x\":0.5,\"y\":1.2},\"hovermode\":\"x unified\",\"barmode\":\"group\",\"margin\":{\"b\":10,\"l\":10,\"r\":10,\"t\":100},\"height\":400,\"width\":900},                        {\"responsive\": true}                    ).then(function(){\n",
       "                            \n",
       "var gd = document.getElementById('4c74420a-3ab0-4fd0-9c08-ac06a6dbc181');\n",
       "var x = new MutationObserver(function (mutations, observer) {{\n",
       "        var display = window.getComputedStyle(gd).display;\n",
       "        if (!display || display === 'none') {{\n",
       "            console.log([gd, 'removed!']);\n",
       "            Plotly.purge(gd);\n",
       "            observer.disconnect();\n",
       "        }}\n",
       "}});\n",
       "\n",
       "// Listen for the removal of the full notebook cells\n",
       "var notebookContainer = gd.closest('#notebook-container');\n",
       "if (notebookContainer) {{\n",
       "    x.observe(notebookContainer, {childList: true});\n",
       "}}\n",
       "\n",
       "// Listen for the clearing of the current output cell\n",
       "var outputEl = gd.closest('.output');\n",
       "if (outputEl) {{\n",
       "    x.observe(outputEl, {childList: true});\n",
       "}}\n",
       "\n",
       "                        })                };                });            </script>        </div>"
      ]
     },
     "metadata": {},
     "output_type": "display_data"
    }
   ],
   "source": [
    "macd_vis(df_raw_date)    "
   ]
  },
  {
   "cell_type": "code",
   "execution_count": null,
   "id": "ff7dcb36",
   "metadata": {},
   "outputs": [],
   "source": []
  },
  {
   "cell_type": "code",
   "execution_count": null,
   "id": "f6d219e0",
   "metadata": {},
   "outputs": [],
   "source": []
  },
  {
   "cell_type": "code",
   "execution_count": 97,
   "id": "a26a4a99",
   "metadata": {},
   "outputs": [],
   "source": [
    "def macd_vis(df_raw):\n",
    "    # fig = go.Figure()\n",
    "    fig = make_subplots(rows=4, cols=1, shared_xaxes=True, vertical_spacing=0.01, row_heights=[0.5, 0.1, 0.2, 0.2])\n",
    "\n",
    "    # 캔들스틱차트\n",
    "    fig.add_trace(go.Candlestick(\n",
    "        x=df_raw['date'],\n",
    "        open=df_raw['open'],\n",
    "        high=df_raw['high'],\n",
    "        low=df_raw['low'],\n",
    "        close=df_raw['close'],\n",
    "        increasing_line_color= 'red', decreasing_line_color= 'blue', \n",
    "        name = ''), row = 1, col = 1)\n",
    "\n",
    "    # MA 5 \n",
    "    fig.add_trace(go.Scatter(x=df_raw['date'],y=df_raw['MA5'],\n",
    "                             opacity=0.7,\n",
    "                             line=dict(color='blue', width=2),\n",
    "                             name='MA 5') , row = 1, col = 1)\n",
    "\n",
    "    # MA 20\n",
    "    fig.add_trace(go.Scatter(x=df_raw['date'],y=df_raw['MA20'],\n",
    "                             opacity=0.7,\n",
    "                             line=dict(color='orange', width=2),\n",
    "                             name='MA 20'), row = 1, col = 1)\n",
    "\n",
    "    # MA 60\n",
    "    fig.add_trace(go.Scatter(x=df_raw['date'],y=df_raw['MA60'],\n",
    "                             opacity=0.7,\n",
    "                             line=dict(color='purple', width=2),\n",
    "                             name='MA 60'), row = 1, col = 1)\n",
    "\n",
    "    # MA 120\n",
    "    fig.add_trace(go.Scatter(x=df_raw['date'],y=df_raw['MA120'],\n",
    "                             opacity=0.7,\n",
    "                             line=dict(color='green', width=2),\n",
    "                             name='MA 120'), row = 1, col = 1)\n",
    "\n",
    "    fig.add_trace(go.Scatter(\n",
    "        x=pd.concat([df_raw['date'], df_raw['date'][::-1]]),\n",
    "        y=pd.concat([df_raw['upper'], df_raw['lower'][::-1]]),\n",
    "        fill='toself',\n",
    "        fillcolor='rgba(255,255,0,0.1)',\n",
    "        line=dict(color='rgba(255,255,255,0.2)', width=2),\n",
    "        name='Bollinger Band',\n",
    "        showlegend=False\n",
    "    ), row = 1, col = 1)\n",
    "\n",
    "    for type_nm in type_list:\n",
    "        for technical_indicator_nm in technical_indicator:\n",
    "    #         print(df_raw_anal_date.index[df_raw_anal_date[technical_indicator_nm].str.contains(type_nm)])\n",
    "            index_list = df_raw_anal_date.index[df_raw_anal_date[technical_indicator_nm].str.contains(type_nm)]\n",
    "            for index_nm in index_list:\n",
    "                cross_date = df_raw['date'][index_nm]\n",
    "                cross_value = df_raw['close'][index_nm]\n",
    "                \n",
    "                fig.add_annotation(x=cross_date, \n",
    "                                   y=cross_value,\n",
    "                                   text=f'{type_nm} <br> {technical_indicator_nm}',\n",
    "                                   showarrow=True,\n",
    "                                   arrowhead=1,\n",
    "                                   row = 1, col = 1)                \n",
    "            \n",
    "#     asdf = df_raw_anal_date.index[df_raw_anal_date['20_60_cross'].str.contains('매도')]\n",
    "#     for cross_index in asdf:\n",
    "#         cross_date = df_raw['date'][cross_index]\n",
    "#         cross_value = df_raw['close'][cross_index]\n",
    "\n",
    "#         fig.add_annotation(x=cross_date, \n",
    "#                            y=cross_value,\n",
    "#                            text='cross_name',\n",
    "#                            showarrow=True,\n",
    "#                            arrowhead=1,\n",
    "#                            row = 1, col = 1)\n",
    "\n",
    "    # Row 2 \n",
    "    # volume\n",
    "    colors = ['blue' if row['open'] - row['close'] >= 0 \n",
    "              else 'red' for index, row in df_raw.iterrows()]\n",
    "\n",
    "    fig.add_trace(go.Bar(x=df_raw['date'], \n",
    "                         y=df_raw['volume'],\n",
    "                         marker_color=colors,\n",
    "                         name = 'Volume',\n",
    "                         showlegend=False\n",
    "                        ), row=2, col=1)\n",
    "\n",
    "    # MACD\n",
    "    colors = ['red' if val >= 0 \n",
    "              else 'blue' for val in df_raw['MACD_DIFF']]\n",
    "    fig.add_trace(go.Bar(x=df_raw['date'], \n",
    "                         y=df_raw['MACD_DIFF'],\n",
    "                         marker_color=colors,\n",
    "                         name =  'MACD DIFF'\n",
    "                        ), row=3, col=1)\n",
    "\n",
    "    fig.add_trace(go.Scatter(x=df_raw['date'],\n",
    "                             y=df_raw['MACD'],\n",
    "                             line=dict(color='green', width=2),\n",
    "                             name = 'MACD'\n",
    "                            ), row=3, col=1)\n",
    "    fig.add_trace(go.Scatter(x=df_raw['date'],\n",
    "                             y=df_raw['MACD_Signal'],\n",
    "                             line=dict(color='orange', width=1),\n",
    "                             name = 'MACD Signal'\n",
    "                            ), row=3, col=1)\n",
    "\n",
    "    # Row 5\n",
    "    # RSI\n",
    "    fig.add_trace(go.Scatter(x=df_raw['date'],\n",
    "                             y=df_raw['RSI'],\n",
    "                             line=dict(color='red', width=1),\n",
    "                             name = 'RSI'\n",
    "                            ), row=4, col=1)\n",
    "    \n",
    "    # 수평 사각 영역 추가하기\n",
    "    \n",
    "    fig.add_hrect(y0=70, y1=100, line_width=0, fillcolor=\"white\", opacity=0.1,\n",
    "                  annotation_text=\"과매수구간\", \n",
    "                  annotation_position=\"top right\",\n",
    "                  annotation_font_size=10,\n",
    "                  annotation_font_color=\"red\",\n",
    "                  annotation_font_family=\"Times New Roman\", row=4, col=1)\n",
    "    \n",
    "    fig.add_hrect(y0=0, y1=30, line_width=0, fillcolor=\"white\", opacity=0.1,\n",
    "                  annotation_text=\"과매도 구간\", \n",
    "                  annotation_position=\"top right\",\n",
    "                  annotation_font_size=10,\n",
    "                  annotation_font_color=\"blue\",\n",
    "                  annotation_font_family=\"Times New Roman\", row=4, col=1)    \n",
    "    \n",
    "    \n",
    "    # Rayout\n",
    "    fig.update_layout(\n",
    "        title = '삼성전자 주가',\n",
    "        title_font_family=\"맑은고딕\",\n",
    "        title_font_size = 18,\n",
    "        hoverlabel=dict(\n",
    "            bgcolor='black',\n",
    "            font_size=15,\n",
    "        ),\n",
    "        hovermode=\"x unified\",\n",
    "        template='plotly_dark',\n",
    "        xaxis_tickangle=90,\n",
    "        yaxis_tickformat = ',',\n",
    "        legend = dict(orientation = 'h', xanchor = \"center\", x = 0.5, y= 1.2),\n",
    "        barmode='group',\n",
    "        margin=go.layout.Margin(\n",
    "            l=10, #left margin\n",
    "            r=10, #right margin\n",
    "            b=10, #bottom margin\n",
    "            t=100  #top margin\n",
    "        ),\n",
    "        height=400, width=900, \n",
    "    #     showlegend=False, \n",
    "        xaxis_rangeslider_visible=False\n",
    "    )\n",
    "\n",
    "    # update y-axis label\n",
    "    fig.update_yaxes(title_text=\"Price\", row=1, col=1)\n",
    "    fig.update_yaxes(title_text=\"Volume\", row=2, col=1)\n",
    "    fig.update_yaxes(title_text=\"MACD\", row=3, col=1)\n",
    "    fig.update_yaxes(title_text=\"RSI\", row=4, col=1)\n",
    "\n",
    "    fig.update_xaxes(rangebreaks=[dict(bounds=[\"sat\", \"mon\"])])\n",
    "    return fig\n"
   ]
  },
  {
   "cell_type": "code",
   "execution_count": null,
   "id": "38316787",
   "metadata": {},
   "outputs": [],
   "source": []
  },
  {
   "cell_type": "code",
   "execution_count": null,
   "id": "d968baad",
   "metadata": {},
   "outputs": [],
   "source": []
  }
 ],
 "metadata": {
  "kernelspec": {
   "display_name": "Python 3 (ipykernel)",
   "language": "python",
   "name": "python3"
  },
  "language_info": {
   "codemirror_mode": {
    "name": "ipython",
    "version": 3
   },
   "file_extension": ".py",
   "mimetype": "text/x-python",
   "name": "python",
   "nbconvert_exporter": "python",
   "pygments_lexer": "ipython3",
   "version": "3.11.3"
  },
  "toc": {
   "base_numbering": 1,
   "nav_menu": {},
   "number_sections": true,
   "sideBar": true,
   "skip_h1_title": false,
   "title_cell": "Table of Contents",
   "title_sidebar": "Contents",
   "toc_cell": false,
   "toc_position": {
    "height": "calc(100% - 180px)",
    "left": "10px",
    "top": "150px",
    "width": "249.6px"
   },
   "toc_section_display": true,
   "toc_window_display": true
  }
 },
 "nbformat": 4,
 "nbformat_minor": 5
}
