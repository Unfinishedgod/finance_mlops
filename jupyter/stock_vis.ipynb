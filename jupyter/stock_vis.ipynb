{
 "cells": [
  {
   "cell_type": "markdown",
   "id": "61db0ae0",
   "metadata": {},
   "source": [
    "# 주가 데이터 분석\n",
    "\n",
    "## 참고\n",
    "\n",
    "### 대시보드\n",
    "\n",
    "대시보드 참고\n",
    "\n",
    "- [네이버 증권 - 차트](https://finance.naver.com/item/fchart.naver?code=005930)\n",
    "- [다음 증권 - 차트](https://finance.daum.net/quotes/A005930#home)\n",
    "- [finvis - 차트](https://finviz.com/)\n",
    "- [tradingview- 차트](https://www.tradingview.com/symbols/BTCUSD/?exchange=CRYPTO)\n",
    "- [알파스퀘어 - 차트](https://www.alphasquare.co.kr/home/market-summary?code=005930)\n",
    "\n",
    "### Plotly 공식 문서\n",
    "\n",
    "plotly 공식 문서\n",
    "\n",
    "- [Plotly - financial charts](https://plotly.com/python/ohlc-charts/)\n",
    "\n",
    "\n",
    "### Plotly 정리 (by 쭌랩님)\n",
    "\n",
    "공식문서를 통해 Plotly를 접하고 사용하는게 가장 정확하지만, 한글로 잘 정리 해놓은 참고자료\n",
    "\n",
    "- [쭌랩님의 Plotly Tutorial - 파이썬 시각화의 끝판왕 마스터하기](https://wikidocs.net/book/8909)\n",
    "\n",
    "\n",
    "### 기술적 지표\n",
    "\n",
    "기술적 지표를 참고 하기에 좋은 자료 \n",
    "\n",
    "- [알파스퀘어 기술적지표](https://alphasquare.oopy.io/board/technical-indicator)\n",
    "\n",
    "---"
   ]
  },
  {
   "cell_type": "code",
   "execution_count": 44,
   "id": "357cfed2",
   "metadata": {
    "ExecuteTime": {
     "end_time": "2023-12-22T06:27:21.703454Z",
     "start_time": "2023-12-22T06:27:21.698445Z"
    }
   },
   "outputs": [],
   "source": [
    "import plotly.graph_objects as go\n",
    "\n",
    "from ta.trend import MACD\n",
    "from ta.momentum import StochasticOscillator\n",
    "\n",
    "import numpy as np\n",
    "import pandas as pd\n",
    "from pykrx import stock\n",
    "from pykrx import bond\n",
    "from time import sleep\n",
    "\n",
    "from datetime import datetime\n",
    "from datetime import timedelta\n",
    "import os\n",
    "import time\n",
    "from plotly.subplots import make_subplots\n",
    "import glob\n",
    "\n"
   ]
  },
  {
   "cell_type": "markdown",
   "id": "92efd4c0",
   "metadata": {},
   "source": [
    "## 데이터 수집"
   ]
  },
  {
   "cell_type": "code",
   "execution_count": 45,
   "id": "a0c2c7d9",
   "metadata": {
    "ExecuteTime": {
     "end_time": "2023-12-22T06:27:22.512163Z",
     "start_time": "2023-12-22T06:27:22.224254Z"
    }
   },
   "outputs": [],
   "source": [
    "ticker_nm = '005930' # 삼성전자 ticker\n",
    "ticker_nm = '035720' # 카카오\n",
    "ticker_nm = '006740'\n",
    "start_date  = '20190101'\n",
    "today_date1 = '20231024'\n",
    "\n",
    "df_raw = stock.get_market_ohlcv(start_date, today_date1, ticker_nm)\n",
    "df_raw = df_raw.reset_index()\n",
    "df_raw['ticker'] = ticker_nm\n",
    "\n",
    "df_raw.columns = ['date', 'open', 'high', 'low', 'close', 'volume','price_change_percentage', 'ticker']"
   ]
  },
  {
   "cell_type": "markdown",
   "id": "e5a42ac0",
   "metadata": {},
   "source": [
    "## 보조지표 계산"
   ]
  },
  {
   "cell_type": "markdown",
   "id": "7865bda5",
   "metadata": {},
   "source": [
    "### 이동평균선 계산\n",
    "\n",
    "- 참고: [알파스퀘어 이동편균선](https://alphasquare.oopy.io/board/technical-indicator/sma)\n",
    "\n",
    "차트의 기술적 분석을 할 때 쓰이는 가장 기본적인 보조 지표. 일정 기간 동안의 가격의 평균을 나타내며 특정 기간동안 가격의 평균을 이어서 그렸기 때문에 주식의 불규칙적인 변화를 완만하게 변화시켜서 파악하기 용이할 수 있음. 이동평균의 종류에는 크게 단순이동평균(SMA), 가중이동평균(WMA), 지수이동평균(EMA)가 있으며, 이번에 사용할 지표는 SMA. \n",
    "\n",
    "\n",
    "일반적으로 이동평균선은 5일, 20일, 60일, 120일, 240일을 사용.\n",
    "\n",
    "- 5일: 일주일을 의미. 7일중 토,일은 빠지기 때문 \n",
    "- 20일: 한달을 의미. 역시 한달 중에 주말을 제외 하면 20일이 평일 이기 때문\n",
    "- 60일: 한 분기를 의미.\n",
    "- 120일: 반년을 의미. \n",
    "- 240일: 1년을 의미.\n",
    "\n",
    "\n",
    "\n",
    "#### 골든크로스, 데드크로스\n",
    "\n",
    "\n",
    "이동평균선을 사용한 분석방법중 골든크로스, 데드크로스 라는 전략. 단기이동평균선이 장기 이동평균선을 돌파 하는 시점을 파악하여 매수 또는 매도 신호로 파악 하는 것\n",
    "\n",
    "- 골든크로스: 단기 이동평균선이 장기 이동평균선 상향 돌파 (매수 신호)\n",
    "- 데드크로스: 단기 이동평균선이 장기 이동평균선 하향 돌파 (매도 신호)\n",
    "\n",
    "#### 정배열, 역배열\n",
    "\n",
    "- 정배열: 단기 이동평균선 > 중기 이동평균선 > 장기 이동평균선\n",
    "- 역배열: 단기 이동평균선 < 중기 이동평균선 < 장기 이동평균선\n",
    "\n",
    "이에 따라 정배열이면 매수하기 적절한 시점, 역배열이면 매도하기 적절한 시점"
   ]
  },
  {
   "cell_type": "code",
   "execution_count": 46,
   "id": "38b9cd57",
   "metadata": {
    "ExecuteTime": {
     "end_time": "2023-12-22T06:27:22.523412Z",
     "start_time": "2023-12-22T06:27:22.515243Z"
    }
   },
   "outputs": [],
   "source": [
    "df_raw['MA5'] = df_raw['close'].rolling(window=5).mean()\n",
    "df_raw['MA20'] = df_raw['close'].rolling(window=20).mean()\n",
    "df_raw['MA60'] = df_raw['close'].rolling(window=60).mean()\n",
    "df_raw['MA120'] = df_raw['close'].rolling(window=120).mean()"
   ]
  },
  {
   "cell_type": "markdown",
   "id": "bc4d56cf",
   "metadata": {},
   "source": [
    "### 볼린저밴드 계산\n",
    "\n",
    "\n",
    "- 참고: [알파스퀘어-볼린저밴드](https://alphasquare.oopy.io/board/technical-indicator/bollinger-band)\n",
    "\n",
    "\n",
    "- 볼린저 밴드의 상한선: 20일의 이동평균선 값 + 표준편차 * 2\n",
    "- 볼린저 밴드의 하한선: 20일의 이동평균선 값 - 표준편차 * 2\n",
    "\n",
    "기본적으로 볼린저 밴드는 20일의 이동평균선을 중심으로 표준편차의 두배에 해당하는 값을 상/하한선으로 설정. 표준편차의 2배에 해당하는 이유는 기본적으로 95%에 머물러야 한다는 주가의 가정이 있음. 따라서 임시적으로 이를 벗어나면 다시 이 안으로 회귀 하리라는 성질 때문.\n",
    "\n",
    "\n",
    "- 밴드 하단을 상향 돌파 했을 경우 매수\n",
    "- 밴드 상단을 하향 돌파 했을 경우 매도\n"
   ]
  },
  {
   "cell_type": "code",
   "execution_count": 47,
   "id": "48f1e2dd",
   "metadata": {
    "ExecuteTime": {
     "end_time": "2023-12-22T06:27:22.533238Z",
     "start_time": "2023-12-22T06:27:22.525652Z"
    }
   },
   "outputs": [],
   "source": [
    "std = df_raw['close'].rolling(20).std(ddof=0)\n",
    "\n",
    "df_raw['upper'] = df_raw['MA20'] + 2 * std\n",
    "df_raw['lower'] = df_raw['MA20'] - 2 * std"
   ]
  },
  {
   "cell_type": "markdown",
   "id": "31064a3c",
   "metadata": {},
   "source": [
    "### MACD 계산\n",
    "\n",
    "\n",
    "- 참고: [알파스퀘어 - MACD](https://alphasquare.oopy.io/board/technical-indicator/macd)\n",
    "\n",
    "MACD는 이동평균수렴발산(Moving Average Convergence Divergence)의 약자로, 단기 이동평균선과 장기 이동평균선이 서로 가까워지거나(수렴) 멀어지는(발산) 원리를 이용하여 만들어졌다.주가 흐름의 추세를 확인하고 추세의 강도와 지속성을 파악하는데 활용되는 대표적인 추세추종형 보조지표. \n",
    "\n",
    "- MACD: 단기 지수이동평균 - 장기 지수이동평균\n",
    "    - 단기 지수이동평균: 기본적으로 12일이다.\n",
    "    - 장기 지수이동평균: 기본적으로 26일이다.\n",
    "- 시그널: MACD의 K일 지수이동평균\n",
    "    - K일은 기본적으로 9일을 사용한다\n",
    "- 히스토그램: MACD - 시그널\n",
    "\n",
    "이에 따른 전략은 다음과 같음\n",
    "\n",
    "- MACD가 시그널을 상향돌파 하는 경우, 상승추세 전환으로로 판단할수 있기 때문에 매수\n",
    "- MACD가 시그널을 하향돌파 하는 경우, 하락추세 전환으로로 판단할수 있기 때문에 매도\n"
   ]
  },
  {
   "cell_type": "code",
   "execution_count": 48,
   "id": "8e4d78ab",
   "metadata": {
    "ExecuteTime": {
     "end_time": "2023-12-22T06:27:22.544773Z",
     "start_time": "2023-12-22T06:27:22.536623Z"
    }
   },
   "outputs": [],
   "source": [
    "# MACD \n",
    "macd = MACD(close=df_raw['close'], \n",
    "            window_slow=26,\n",
    "            window_fast=12, \n",
    "            window_sign=9)\n",
    "\n",
    "\n",
    "df_raw['MACD_DIFF'] = macd.macd_diff()\n",
    "df_raw['MACD'] = macd.macd()\n",
    "df_raw['MACD_Signal'] = macd.macd_signal()"
   ]
  },
  {
   "cell_type": "markdown",
   "id": "feaefba4",
   "metadata": {},
   "source": [
    "### RSI 계산\n",
    "\n",
    "- 참고: [알파스퀘어 - RSI 계산](https://alphasquare.oopy.io/board/technical-indicator/rsi)\n",
    "\n",
    "RSI((Relative Strength Index, 상대강도지수)는 대표적인 모멘텀 지표 중 하나로, 주가의 평균 상승폭과 하락폭을 비교하여 가격의 상승 압력과 하락 압력 간의 상대적인 강도를 나타내는 기술적 지표. 현재의 시장 상황이 과매수 상태인지 아니면 과매도 상태인지 판단하기 위해 고안되었으며, 보통 RSI 70 이상을 과매수 상태로, RSI 30 이하를 과매도 상태로 판단하는 것이 일반적.\n",
    "\n",
    "RSI는 일정 기간 동안 주가가 전일 가겨에 비해 상승한 변화량과 하락한 변화량의 평균값을 먼저 계산. 그리고 상승한 변화량이 크면 과매수로 판단하고, 하락한 변화량이 크면 과매도로 판단하는 방식.\n",
    "\n",
    "1. 가격이 전일 가격보다 상승한 날의 상승분은 U(up)\n",
    "2. 가격이 전일 가겨보다 하락한 날의 하락분은 D(down)\n",
    "3. U값과 D값의 평균값을 구하여 그것을 각각 AU(average ups)와 AD(average downs)\n",
    "4. AU를 AU값으로 나눈것을 RS(relative strength)\n",
    "5. 그리고 다음과 같이 RSI를 계산\n",
    "  - $RSI = \\frac {RS}{1+RS}$ 또는, \n",
    "  - $RSI = \\frac {AU}{AU+AD}$\n",
    "  \n",
    "그리고 이 기간은 기본적으로 14일로 지정\n",
    "\n",
    "\n",
    "RSI는 기본적으로 0~100까지의 백분율 값을 갖는다. 100에 가까울수록 최근 14일동안 주가가 상승 했으며, 0에 가까울수록 하락 했다는 해석이 강하다. 따라서 RSI가 70이상이면 과매수 국면으로, 30이하이면 과매도 국면으로 정의. \n",
    "\n",
    "- 과매수 구간에 머물던 RSI가 상단선을 하향 돌파시 매도\n",
    "  - 즉, RSI가 70이상 이었다가 70아래로 떨어지는 시점\n",
    "- 과매도 구간에 머물던 RSI가 하단선을 상향 돌파시 매수\n",
    "  - 즉, RSI가 30이하 이었다가 30위로 올라가는 시점\n"
   ]
  },
  {
   "cell_type": "code",
   "execution_count": 49,
   "id": "754948bb",
   "metadata": {
    "ExecuteTime": {
     "end_time": "2023-12-22T06:27:22.563848Z",
     "start_time": "2023-12-22T06:27:22.553590Z"
    }
   },
   "outputs": [],
   "source": [
    "df_raw['변화량'] = df_raw['close'] - df_raw['close'].shift(1)\n",
    "df_raw['상승폭'] = np.where(df_raw['변화량']>=0, df_raw['변화량'], 0)\n",
    "df_raw['하락폭'] = np.where(df_raw['변화량'] <0, df_raw['변화량'].abs(), 0)\n",
    "\n",
    "# welles moving average\n",
    "df_raw['AU'] = df_raw['상승폭'].ewm(alpha=1/14, min_periods=14).mean()\n",
    "df_raw['AD'] = df_raw['하락폭'].ewm(alpha=1/14, min_periods=14).mean()\n",
    "df_raw['RSI'] = df_raw['AU'] / (df_raw['AU'] + df_raw['AD']) * 100"
   ]
  },
  {
   "cell_type": "markdown",
   "id": "32ffd54d",
   "metadata": {},
   "source": [
    "### 이동평균선 차이 계산"
   ]
  },
  {
   "cell_type": "code",
   "execution_count": 50,
   "id": "54356c26",
   "metadata": {
    "ExecuteTime": {
     "end_time": "2023-12-22T06:27:22.595163Z",
     "start_time": "2023-12-22T06:27:22.589057Z"
    }
   },
   "outputs": [],
   "source": [
    "df_raw['MA5-20'] = df_raw['MA5'] - df_raw['MA20']\n",
    "df_raw['MA20-60'] = df_raw['MA20'] - df_raw['MA60']\n",
    "df_raw['MA60-120'] = df_raw['MA60'] - df_raw['MA120']"
   ]
  },
  {
   "cell_type": "markdown",
   "id": "46108eca",
   "metadata": {},
   "source": [
    "## 보조지표 분석"
   ]
  },
  {
   "cell_type": "code",
   "execution_count": 51,
   "id": "94e9a4f4",
   "metadata": {
    "ExecuteTime": {
     "end_time": "2023-12-22T06:27:22.656613Z",
     "start_time": "2023-12-22T06:27:22.652144Z"
    }
   },
   "outputs": [],
   "source": [
    "df_raw_anal = df_raw[['date','ticker', 'close']]"
   ]
  },
  {
   "cell_type": "markdown",
   "id": "c487726d",
   "metadata": {},
   "source": [
    "### 골든크로스"
   ]
  },
  {
   "cell_type": "code",
   "execution_count": 52,
   "id": "5ed81b6b",
   "metadata": {
    "ExecuteTime": {
     "end_time": "2023-12-22T06:27:22.800176Z",
     "start_time": "2023-12-22T06:27:22.730643Z"
    }
   },
   "outputs": [],
   "source": [
    "# 골든 크로스 5-20\n",
    "# 음수에서 양수로 바뀌는 모든 인덱스 찾기\n",
    "idx_5_20_gold_cross = [idx for idx in range(len(df_raw)) if df_raw[\"MA5-20\"].iloc[idx] > 0 and df_raw[\"MA5-20\"].iloc[idx - 1] <= 0]\n",
    "\n",
    "# 데드 크로스 5-20\n",
    "# 양수에서 음수로 바뀌는 모든 인덱스 찾기\n",
    "idx_5_20_dead_cross = [idx for idx in range(len(df_raw)) if df_raw[\"MA5-20\"].iloc[idx] < 0 and df_raw[\"MA5-20\"].iloc[idx - 1] >= 0]\n",
    "\n",
    "# 골든 크로스 20-60\n",
    "# 음수에서 양수로 바뀌는 모든 인덱스 찾기\n",
    "idx_20_60_gold_cross = [idx for idx in range(len(df_raw)) if df_raw[\"MA20-60\"].iloc[idx] > 0 and df_raw[\"MA20-60\"].iloc[idx - 1] <= 0]\n",
    "\n",
    "# 골든 크로스 20-60\n",
    "# 음수에서 양수로 바뀌는 모든 인덱스 찾기\n",
    "idx_20_60_dead_cross = [idx for idx in range(len(df_raw)) if df_raw[\"MA20-60\"].iloc[idx] < 0 and df_raw[\"MA20-60\"].iloc[idx - 1] >= 0]"
   ]
  },
  {
   "cell_type": "code",
   "execution_count": 53,
   "id": "d4f82f56",
   "metadata": {
    "ExecuteTime": {
     "end_time": "2023-12-22T06:27:22.812186Z",
     "start_time": "2023-12-22T06:27:22.803273Z"
    }
   },
   "outputs": [],
   "source": [
    "df_raw_anal.loc[:, '5_20_cross'] = '-'\n",
    "df_raw_anal.loc[idx_5_20_gold_cross,'5_20_cross'] = '골든크로스(매수)'\n",
    "df_raw_anal.loc[idx_5_20_dead_cross,'5_20_cross'] = '데드크로스(매도)'\n",
    "\n",
    "df_raw_anal.loc[:, '20_60_cross'] = '-'\n",
    "df_raw_anal.loc[idx_20_60_gold_cross,'20_60_cross'] = '골든크로스(매수)'\n",
    "df_raw_anal.loc[idx_20_60_dead_cross,'20_60_cross'] = '데드크로스(매도)'"
   ]
  },
  {
   "cell_type": "markdown",
   "id": "b6f54264",
   "metadata": {},
   "source": [
    "### 정배열, 역배열"
   ]
  },
  {
   "cell_type": "code",
   "execution_count": 54,
   "id": "055d2b37",
   "metadata": {
    "ExecuteTime": {
     "end_time": "2023-12-22T06:27:22.821769Z",
     "start_time": "2023-12-22T06:27:22.815694Z"
    }
   },
   "outputs": [],
   "source": [
    "ascending_sq  = (df_raw['MA5-20'] > 0) & \\\n",
    "(df_raw['MA20-60'] > 0) & \\\n",
    "(df_raw['MA60-120'] > 0) \n",
    "\n",
    "descending_sq  = (df_raw['MA5-20'] < 0) & \\\n",
    "(df_raw['MA20-60'] < 0) & \\\n",
    "(df_raw['MA60-120'] < 0) "
   ]
  },
  {
   "cell_type": "code",
   "execution_count": 55,
   "id": "71d34ad0",
   "metadata": {
    "ExecuteTime": {
     "end_time": "2023-12-22T06:27:22.869611Z",
     "start_time": "2023-12-22T06:27:22.863492Z"
    }
   },
   "outputs": [],
   "source": [
    "df_raw_anal.loc[:,'array'] = '-'\n",
    "df_raw_anal.loc[ascending_sq,'array'] = '정배열(매수)'\n",
    "df_raw_anal.loc[descending_sq,'array'] = '역배열(매도)'"
   ]
  },
  {
   "cell_type": "markdown",
   "id": "0778e036",
   "metadata": {},
   "source": [
    "### 볼린저밴드\n"
   ]
  },
  {
   "cell_type": "code",
   "execution_count": 56,
   "id": "062dac6c",
   "metadata": {
    "ExecuteTime": {
     "end_time": "2023-12-22T06:27:22.938605Z",
     "start_time": "2023-12-22T06:27:22.922266Z"
    }
   },
   "outputs": [],
   "source": [
    "down_reg_sq = df_raw['upper'] - df_raw['close'] \n",
    "top_reg_sq  = df_raw['lower'] - df_raw['close'] \n",
    "\n",
    "down_reg = [idx for idx in range(1,len(df_raw)) if down_reg_sq[idx] > 0 and down_reg_sq[idx-1] <= 0]\n",
    "top_reg = [idx for idx in range(1,len(df_raw)) if top_reg_sq[idx] < 0 and top_reg_sq[idx-1] >= 0]"
   ]
  },
  {
   "cell_type": "code",
   "execution_count": 57,
   "id": "938c59a3",
   "metadata": {
    "ExecuteTime": {
     "end_time": "2023-12-22T06:27:22.961703Z",
     "start_time": "2023-12-22T06:27:22.954315Z"
    }
   },
   "outputs": [],
   "source": [
    "df_raw_anal.loc[:,'Bollinger_band'] = '-'\n",
    "df_raw_anal.loc[down_reg,'Bollinger_band'] = '하향회귀(매도)'\n",
    "df_raw_anal.loc[top_reg,'Bollinger_band'] = '상향회귀(매수)'"
   ]
  },
  {
   "cell_type": "markdown",
   "id": "e51183ec",
   "metadata": {},
   "source": [
    "### MACD"
   ]
  },
  {
   "cell_type": "code",
   "execution_count": 58,
   "id": "46fbcd6b",
   "metadata": {
    "ExecuteTime": {
     "end_time": "2023-12-22T06:27:23.036029Z",
     "start_time": "2023-12-22T06:27:23.014529Z"
    }
   },
   "outputs": [],
   "source": [
    "signal_down_cross = [idx for idx in range(1,len(df_raw)) if df_raw['MACD_DIFF'][idx] < 0 and df_raw['MACD_DIFF'][idx-1] >= 0]\n",
    "signal_top_corss = [idx for idx in range(1,len(df_raw)) if df_raw['MACD_DIFF'][idx] > 0 and df_raw['MACD_DIFF'][idx-1] <= 0]\n"
   ]
  },
  {
   "cell_type": "code",
   "execution_count": 59,
   "id": "76c0e0f2",
   "metadata": {
    "ExecuteTime": {
     "end_time": "2023-12-22T06:27:23.068182Z",
     "start_time": "2023-12-22T06:27:23.061788Z"
    }
   },
   "outputs": [],
   "source": [
    "df_raw_anal.loc[:,'MACD'] = '-'\n",
    "df_raw_anal.loc[signal_down_cross,'MACD'] = '하향돌파(매도)'\n",
    "df_raw_anal.loc[signal_top_corss,'MACD'] = '상향돌파(매수)'"
   ]
  },
  {
   "cell_type": "markdown",
   "id": "642428cd",
   "metadata": {},
   "source": [
    "### RSI"
   ]
  },
  {
   "cell_type": "code",
   "execution_count": 60,
   "id": "4d96db77",
   "metadata": {
    "ExecuteTime": {
     "end_time": "2023-12-22T06:27:24.435083Z",
     "start_time": "2023-12-22T06:27:24.418358Z"
    }
   },
   "outputs": [],
   "source": [
    "down_reg = [idx for idx in range(1,len(df_raw)) if df_raw['RSI'][idx] > 70 and df_raw['RSI'][idx-1] <= 70]\n",
    "top_reg = [idx for idx in range(1,len(df_raw)) if df_raw['RSI'][idx] < 30 and df_raw['RSI'][idx-1] >= 30]\n"
   ]
  },
  {
   "cell_type": "code",
   "execution_count": 61,
   "id": "9ed7fff2",
   "metadata": {
    "ExecuteTime": {
     "end_time": "2023-12-22T06:27:24.761256Z",
     "start_time": "2023-12-22T06:27:24.755082Z"
    }
   },
   "outputs": [],
   "source": [
    "df_raw_anal.loc[:,'RSI'] = '-'\n",
    "df_raw_anal.loc[down_reg,'RSI'] = 'RSI 상단 하향돌파(매도)'\n",
    "df_raw_anal.loc[top_reg,'RSI'] = 'RSI 하단 상향 돌파(매수)'"
   ]
  },
  {
   "cell_type": "code",
   "execution_count": null,
   "id": "9e985d3a",
   "metadata": {},
   "outputs": [],
   "source": []
  },
  {
   "cell_type": "markdown",
   "id": "5afce375",
   "metadata": {},
   "source": [
    "## 날짜"
   ]
  },
  {
   "cell_type": "code",
   "execution_count": 62,
   "id": "2512ae9c",
   "metadata": {
    "ExecuteTime": {
     "end_time": "2023-12-22T06:27:25.479050Z",
     "start_time": "2023-12-22T06:27:25.475479Z"
    }
   },
   "outputs": [],
   "source": [
    "date = '2023-01-01'\n"
   ]
  },
  {
   "cell_type": "code",
   "execution_count": 63,
   "id": "3e3da912",
   "metadata": {
    "ExecuteTime": {
     "end_time": "2023-12-22T06:27:25.762312Z",
     "start_time": "2023-12-22T06:27:25.753067Z"
    }
   },
   "outputs": [],
   "source": [
    "df_raw_anal_date = df_raw_anal[df_raw_anal['date'] > date].reset_index(drop = True)\n",
    "df_raw_date = df_raw[df_raw['date'] > date].reset_index(drop = True)"
   ]
  },
  {
   "cell_type": "code",
   "execution_count": 64,
   "id": "f7d19c3d",
   "metadata": {
    "ExecuteTime": {
     "end_time": "2023-12-22T06:27:26.099797Z",
     "start_time": "2023-12-22T06:27:26.095573Z"
    }
   },
   "outputs": [],
   "source": [
    "type_list = ['매수', '매도']"
   ]
  },
  {
   "cell_type": "code",
   "execution_count": 65,
   "id": "6471bd06",
   "metadata": {
    "ExecuteTime": {
     "end_time": "2023-12-22T06:27:26.553484Z",
     "start_time": "2023-12-22T06:27:26.549734Z"
    }
   },
   "outputs": [],
   "source": [
    "technical_indicator = ['5_20_cross', '20_60_cross', 'array', 'Bollinger_band', 'MACD', 'RSI']\n",
    "technical_indicator_row = [1, 1, 1, 1, 3, 4]\n"
   ]
  },
  {
   "cell_type": "code",
   "execution_count": 66,
   "id": "e9a22ae0",
   "metadata": {
    "ExecuteTime": {
     "end_time": "2023-12-22T06:27:26.959539Z",
     "start_time": "2023-12-22T06:27:26.943969Z"
    }
   },
   "outputs": [],
   "source": [
    "df_raw_anal_date"
   ]
  },
  {
   "cell_type": "code",
   "execution_count": 67,
   "id": "fea016c0",
   "metadata": {
    "ExecuteTime": {
     "end_time": "2023-12-22T06:27:27.302246Z",
     "start_time": "2023-12-22T06:27:27.298872Z"
    }
   },
   "outputs": [],
   "source": [
    "type_nm = '매수'\n",
    "technical_indicator_nm = '5_20_cross'"
   ]
  },
  {
   "cell_type": "code",
   "execution_count": 68,
   "id": "4e117be7",
   "metadata": {
    "ExecuteTime": {
     "end_time": "2023-12-22T06:27:28.935671Z",
     "start_time": "2023-12-22T06:27:28.922238Z"
    }
   },
   "outputs": [],
   "source": [
    "for type_nm in type_list:\n",
    "    for technical_indicator_nm in technical_indicator:\n",
    "#         print(df_raw_anal_date.index[df_raw_anal_date[technical_indicator_nm].str.contains(type_nm)])\n",
    "        index_list = df_raw_anal_date.index[df_raw_anal_date[technical_indicator_nm].str.contains(type_nm)]\n",
    "        for index_nm in index_list:\n",
    "            print(f'{type_nm}, {technical_indicator_nm} ,{index_nm}')\n",
    "        "
   ]
  },
  {
   "cell_type": "markdown",
   "id": "7e349ed2",
   "metadata": {},
   "source": [
    "## 시각화\n",
    "\n",
    "### 사용방법\n",
    "\n",
    "전처리된 ohlcv 데이터를 통해 보조지표 옵션을 넣어주어 매수/매도 순간을 파악하는 방식\n",
    "\n",
    "- 함수 이름: macd_vis(데이터, '보조지표형식')\n",
    "- 옵션 이름\n",
    "    - 5_20_cross: 이동평균선 5, 20간의 크로스를 기준으로 골든,데드크로스 전략\n",
    "    - 20_60_cross: 이동평균선 20,60간의 크로스를 기준으로 골든,데드크로스 전략\n",
    "    - array: 정배열,역배열을 통한 전략\n",
    "    - Bollinger_band: 볼린저밴드를 통한 전략\n",
    "    - MACD: MACD를 통한 전략\n",
    "    - RSI: RSI를 통한 전략"
   ]
  },
  {
   "cell_type": "code",
   "execution_count": 71,
   "id": "62d87971",
   "metadata": {
    "ExecuteTime": {
     "end_time": "2023-12-22T06:27:40.401146Z",
     "start_time": "2023-12-22T06:27:40.380387Z"
    }
   },
   "outputs": [],
   "source": [
    "\n",
    "def macd_vis(df_raw, technical_indicator_nm):\n",
    "    # fig = go.Figure()\n",
    "    fig = make_subplots(rows=4, cols=1, shared_xaxes=True, vertical_spacing=0.01, row_heights=[0.5, 0.1, 0.2, 0.2])\n",
    "\n",
    "    # 캔들스틱차트\n",
    "    fig.add_trace(go.Candlestick(\n",
    "        x=df_raw['date'],\n",
    "        open=df_raw['open'],\n",
    "        high=df_raw['high'],\n",
    "        low=df_raw['low'],\n",
    "        close=df_raw['close'],\n",
    "        increasing_line_color= 'red', decreasing_line_color= 'blue', \n",
    "        name = ''), row = 1, col = 1)\n",
    "\n",
    "    # MA 5 \n",
    "    fig.add_trace(go.Scatter(x=df_raw['date'],y=df_raw['MA5'],\n",
    "                             opacity=0.7,\n",
    "                             line=dict(color='blue', width=2),\n",
    "                             name='MA 5') , row = 1, col = 1)\n",
    "\n",
    "    # MA 20\n",
    "    fig.add_trace(go.Scatter(x=df_raw['date'],y=df_raw['MA20'],\n",
    "                             opacity=0.7,\n",
    "                             line=dict(color='orange', width=2),\n",
    "                             name='MA 20'), row = 1, col = 1)\n",
    "\n",
    "    # MA 60\n",
    "    fig.add_trace(go.Scatter(x=df_raw['date'],y=df_raw['MA60'],\n",
    "                             opacity=0.7,\n",
    "                             line=dict(color='purple', width=2),\n",
    "                             name='MA 60'), row = 1, col = 1)\n",
    "\n",
    "    # MA 120\n",
    "    fig.add_trace(go.Scatter(x=df_raw['date'],y=df_raw['MA120'],\n",
    "                             opacity=0.7,\n",
    "                             line=dict(color='green', width=2),\n",
    "                             name='MA 120'), row = 1, col = 1)\n",
    "\n",
    "    fig.add_trace(go.Scatter(\n",
    "        x=pd.concat([df_raw['date'], df_raw['date'][::-1]]),\n",
    "        y=pd.concat([df_raw['upper'], df_raw['lower'][::-1]]),\n",
    "        fill='toself',\n",
    "        fillcolor='rgba(255,255,0,0.1)',\n",
    "        line=dict(color='rgba(255,255,255,0.2)', width=2),\n",
    "        name='Bollinger Band',\n",
    "        showlegend=False\n",
    "    ), row = 1, col = 1)\n",
    "\n",
    "    for type_nm in type_list:\n",
    "        index_list = df_raw_anal_date.index[df_raw_anal_date[technical_indicator_nm].str.contains(type_nm)]\n",
    "        for index_nm in index_list:\n",
    "            cross_date = df_raw['date'][index_nm]\n",
    "            cross_value = df_raw['close'][index_nm]\n",
    "\n",
    "            fig.add_annotation(x=cross_date, \n",
    "                               y=cross_value,\n",
    "                               text=f'{type_nm} <br> {technical_indicator_nm}',\n",
    "                               showarrow=True,\n",
    "                               arrowhead=1,\n",
    "                               row = 1, col = 1)                \n",
    "\n",
    "    # Row 2 \n",
    "    # volume\n",
    "    colors = ['blue' if row['open'] - row['close'] >= 0 \n",
    "              else 'red' for index, row in df_raw.iterrows()]\n",
    "\n",
    "    fig.add_trace(go.Bar(x=df_raw['date'], \n",
    "                         y=df_raw['volume'],\n",
    "                         marker_color=colors,\n",
    "                         name = 'Volume',\n",
    "                         showlegend=False\n",
    "                        ), row=2, col=1)\n",
    "\n",
    "    # MACD\n",
    "    colors = ['red' if val >= 0 \n",
    "              else 'blue' for val in df_raw['MACD_DIFF']]\n",
    "    fig.add_trace(go.Bar(x=df_raw['date'], \n",
    "                         y=df_raw['MACD_DIFF'],\n",
    "                         marker_color=colors,\n",
    "                         name =  'MACD DIFF'\n",
    "                        ), row=3, col=1)\n",
    "\n",
    "    fig.add_trace(go.Scatter(x=df_raw['date'],\n",
    "                             y=df_raw['MACD'],\n",
    "                             line=dict(color='green', width=2),\n",
    "                             name = 'MACD'\n",
    "                            ), row=3, col=1)\n",
    "    fig.add_trace(go.Scatter(x=df_raw['date'],\n",
    "                             y=df_raw['MACD_Signal'],\n",
    "                             line=dict(color='orange', width=1),\n",
    "                             name = 'MACD Signal'\n",
    "                            ), row=3, col=1)\n",
    "\n",
    "    # Row 5\n",
    "    # RSI\n",
    "    fig.add_trace(go.Scatter(x=df_raw['date'],\n",
    "                             y=df_raw['RSI'],\n",
    "                             line=dict(color='red', width=1),\n",
    "                             name = 'RSI'\n",
    "                            ), row=4, col=1)\n",
    "    \n",
    "    # 수평 사각 영역 추가하기\n",
    "    \n",
    "    fig.add_hrect(y0=70, y1=100, line_width=0, fillcolor=\"white\", opacity=0.1,\n",
    "                  annotation_text=\"과매수구간\", \n",
    "                  annotation_position=\"top right\",\n",
    "                  annotation_font_size=10,\n",
    "                  annotation_font_color=\"red\",\n",
    "                  annotation_font_family=\"Times New Roman\", row=4, col=1)\n",
    "    \n",
    "    fig.add_hrect(y0=0, y1=30, line_width=0, fillcolor=\"white\", opacity=0.1,\n",
    "                  annotation_text=\"과매도 구간\", \n",
    "                  annotation_position=\"top right\",\n",
    "                  annotation_font_size=10,\n",
    "                  annotation_font_color=\"blue\",\n",
    "                  annotation_font_family=\"Times New Roman\", row=4, col=1)    \n",
    "    \n",
    "    \n",
    "    # Rayout\n",
    "    fig.update_layout(\n",
    "        title = '삼성전자 주가',\n",
    "        title_font_family=\"맑은고딕\",\n",
    "        title_font_size = 18,\n",
    "        hoverlabel=dict(\n",
    "            bgcolor='black',\n",
    "            font_size=15,\n",
    "        ),\n",
    "        hovermode=\"x unified\",\n",
    "        template='plotly_dark',\n",
    "        xaxis_tickangle=90,\n",
    "        yaxis_tickformat = ',',\n",
    "        legend = dict(orientation = 'h', xanchor = \"center\", x = 0.5, y= 1.2),\n",
    "        barmode='group',\n",
    "        margin=go.layout.Margin(\n",
    "            l=10, #left margin\n",
    "            r=10, #right margin\n",
    "            b=10, #bottom margin\n",
    "            t=100  #top margin\n",
    "        ),\n",
    "        height=600, width=900, \n",
    "    #     showlegend=False, \n",
    "        xaxis_rangeslider_visible=False\n",
    "    )\n",
    "\n",
    "    # update y-axis label\n",
    "    fig.update_yaxes(title_text=\"Price\", row=1, col=1)\n",
    "    fig.update_yaxes(title_text=\"Volume\", row=2, col=1)\n",
    "    fig.update_yaxes(title_text=\"MACD\", row=3, col=1)\n",
    "    fig.update_yaxes(title_text=\"RSI\", row=4, col=1)\n",
    "\n",
    "    fig.update_xaxes(rangebreaks=[dict(bounds=[\"sat\", \"mon\"])])\n",
    "    return fig\n"
   ]
  },
  {
   "cell_type": "code",
   "execution_count": 73,
   "id": "38316787",
   "metadata": {
    "ExecuteTime": {
     "end_time": "2023-12-22T06:27:50.344079Z",
     "start_time": "2023-12-22T06:27:46.246799Z"
    }
   },
   "outputs": [],
   "source": [
    "# '5_20_cross', '20_60_cross', 'array', 'Bollinger_band', 'MACD', 'RSI'\n",
    "macd_vis(df_raw_date, 'array')"
   ]
  },
  {
   "cell_type": "code",
   "execution_count": null,
   "id": "d968baad",
   "metadata": {},
   "outputs": [],
   "source": []
  }
 ],
 "metadata": {
  "kernelspec": {
   "display_name": "Python 3 (ipykernel)",
   "language": "python",
   "name": "python3"
  },
  "language_info": {
   "codemirror_mode": {
    "name": "ipython",
    "version": 3
   },
   "file_extension": ".py",
   "mimetype": "text/x-python",
   "name": "python",
   "nbconvert_exporter": "python",
   "pygments_lexer": "ipython3",
   "version": "3.11.3"
  },
  "toc": {
   "base_numbering": 1,
   "nav_menu": {},
   "number_sections": true,
   "sideBar": true,
   "skip_h1_title": false,
   "title_cell": "Table of Contents",
   "title_sidebar": "Contents",
   "toc_cell": false,
   "toc_position": {
    "height": "calc(100% - 180px)",
    "left": "10px",
    "top": "150px",
    "width": "188.466px"
   },
   "toc_section_display": true,
   "toc_window_display": true
  }
 },
 "nbformat": 4,
 "nbformat_minor": 5
}
