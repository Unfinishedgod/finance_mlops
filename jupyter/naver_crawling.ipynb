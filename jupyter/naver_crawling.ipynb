{
 "cells": [
  {
   "cell_type": "code",
   "execution_count": 3,
   "id": "55076219",
   "metadata": {},
   "outputs": [],
   "source": [
    "import os\n",
    "import sys\n",
    "import urllib.request\n",
    "import datetime\n",
    "import time\n",
    "import json\n",
    "import requests\n",
    "import pandas as pd\n",
    "\n",
    "os.chdir('/home/shjj08choi/finance_mlops')"
   ]
  },
  {
   "cell_type": "code",
   "execution_count": 5,
   "id": "a35ed8d4",
   "metadata": {},
   "outputs": [],
   "source": [
    "df = pd.read_csv('key_value/naver_apikey.csv')"
   ]
  },
  {
   "cell_type": "code",
   "execution_count": null,
   "id": "37b582c2",
   "metadata": {},
   "outputs": [],
   "source": []
  }
 ],
 "metadata": {
  "kernelspec": {
   "display_name": "Python 3 (ipykernel)",
   "language": "python",
   "name": "python3"
  },
  "language_info": {
   "codemirror_mode": {
    "name": "ipython",
    "version": 3
   },
   "file_extension": ".py",
   "mimetype": "text/x-python",
   "name": "python",
   "nbconvert_exporter": "python",
   "pygments_lexer": "ipython3",
   "version": "3.11.3"
  }
 },
 "nbformat": 4,
 "nbformat_minor": 5
}
