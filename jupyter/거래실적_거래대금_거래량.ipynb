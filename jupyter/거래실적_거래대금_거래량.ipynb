{
 "cells": [
  {
   "cell_type": "code",
   "execution_count": 67,
   "id": "7197acd8",
   "metadata": {
    "ExecuteTime": {
     "end_time": "2024-01-06T19:23:06.673273Z",
     "start_time": "2024-01-06T19:23:06.668339Z"
    }
   },
   "outputs": [],
   "source": [
    "from pykrx import stock\n",
    "from pykrx import bond\n",
    "import pandas as pd\n",
    "\n",
    "import plotly.graph_objects as go\n",
    "import plotly.express as px\n",
    "import numpy as np\n",
    "\n",
    "from datetime import datetime\n",
    "from datetime import timedelta\n",
    "\n",
    "import time\n",
    "\n"
   ]
  },
  {
   "cell_type": "code",
   "execution_count": 68,
   "id": "194c1ab2",
   "metadata": {
    "ExecuteTime": {
     "end_time": "2024-01-06T19:23:07.839782Z",
     "start_time": "2024-01-06T19:23:06.836590Z"
    }
   },
   "outputs": [],
   "source": [
    "time.sleep(1)"
   ]
  },
  {
   "cell_type": "code",
   "execution_count": null,
   "id": "0f02d98e",
   "metadata": {},
   "outputs": [],
   "source": [
    "type_list = [\"금융투자\",\"보험\",\"투신\",\"사모\",\"은행\",\"기타금융\",\"연기금\",\n",
    "             \"기관합계\",\"기타법인\",\"개인\",\"외국인\",\"기타외국인\",\"전체\"]\n",
    "\n",
    "\n",
    "market_ohlcv = stock.get_market_ohlcv(\"20230101\", \"20240107\", '005930')\n",
    "market_ohlcv = market_ohlcv.reset_index()\n",
    "market_ohlcv['날짜_2'] =  market_ohlcv['날짜'].astype(str).str.replace('-','')"
   ]
  },
  {
   "cell_type": "code",
   "execution_count": 57,
   "id": "33560aff",
   "metadata": {
    "ExecuteTime": {
     "end_time": "2024-01-06T19:14:10.619846Z",
     "start_time": "2024-01-06T19:14:10.610220Z"
    }
   },
   "outputs": [
    {
     "data": {
      "text/plain": [
       "249"
      ]
     },
     "execution_count": 57,
     "metadata": {},
     "output_type": "execute_result"
    }
   ],
   "source": [
    "len(market_ohlcv)"
   ]
  },
  {
   "cell_type": "code",
   "execution_count": 62,
   "id": "c7a8bccb",
   "metadata": {
    "ExecuteTime": {
     "end_time": "2024-01-06T19:18:12.944647Z",
     "start_time": "2024-01-06T19:17:46.919013Z"
    }
   },
   "outputs": [
    {
     "name": "stdout",
     "output_type": "stream",
     "text": [
      "2023-01-02 00:00:00\n",
      "2023-01-03 00:00:00\n",
      "2023-01-04 00:00:00\n",
      "2023-01-02 00:00:00\n",
      "2023-01-03 00:00:00\n",
      "2023-01-04 00:00:00\n"
     ]
    }
   ],
   "source": [
    "market_list = ['KOSPI', 'KOSDAQ']\n",
    "\n",
    "\n",
    "for market_nm in market_list:\n",
    "    total_df_date = pd.DataFrame()\n",
    "    for i in range(3):\n",
    "#     for i in range(len(market_ohlcv)):\n",
    "    # for date_nm in date_list[:10]:\n",
    "        total_df = pd.DataFrame()\n",
    "        for type_nm in type_list:\n",
    "            \n",
    "            date_nm =  market_ohlcv['날짜_2'][i]\n",
    "            today_date2 = market_ohlcv['날짜'][i]\n",
    "            \n",
    "            df = stock.get_market_net_purchases_of_equities(date_nm, date_nm, market_nm, type_nm)\n",
    "            \n",
    "            df['type'] = type_nm\n",
    "            df['date'] = today_date2\n",
    "            \n",
    "            total_df = pd.concat([total_df, df])\n",
    "            \n",
    "        print(f'{today_date2}')\n",
    "        \n",
    "        total_df_date = pd.concat([total_df_date, total_df])"
   ]
  },
  {
   "cell_type": "code",
   "execution_count": 63,
   "id": "d9326850",
   "metadata": {
    "ExecuteTime": {
     "end_time": "2024-01-06T19:18:16.042528Z",
     "start_time": "2024-01-06T19:18:16.017725Z"
    }
   },
   "outputs": [
    {
     "data": {
      "text/html": [
       "<div>\n",
       "<style scoped>\n",
       "    .dataframe tbody tr th:only-of-type {\n",
       "        vertical-align: middle;\n",
       "    }\n",
       "\n",
       "    .dataframe tbody tr th {\n",
       "        vertical-align: top;\n",
       "    }\n",
       "\n",
       "    .dataframe thead th {\n",
       "        text-align: right;\n",
       "    }\n",
       "</style>\n",
       "<table border=\"1\" class=\"dataframe\">\n",
       "  <thead>\n",
       "    <tr style=\"text-align: right;\">\n",
       "      <th></th>\n",
       "      <th>종목명</th>\n",
       "      <th>매도거래량</th>\n",
       "      <th>매수거래량</th>\n",
       "      <th>순매수거래량</th>\n",
       "      <th>매도거래대금</th>\n",
       "      <th>매수거래대금</th>\n",
       "      <th>순매수거래대금</th>\n",
       "      <th>type</th>\n",
       "      <th>date</th>\n",
       "    </tr>\n",
       "    <tr>\n",
       "      <th>티커</th>\n",
       "      <th></th>\n",
       "      <th></th>\n",
       "      <th></th>\n",
       "      <th></th>\n",
       "      <th></th>\n",
       "      <th></th>\n",
       "      <th></th>\n",
       "      <th></th>\n",
       "      <th></th>\n",
       "    </tr>\n",
       "  </thead>\n",
       "  <tbody>\n",
       "    <tr>\n",
       "      <th>003670</th>\n",
       "      <td>포스코케미칼</td>\n",
       "      <td>26521</td>\n",
       "      <td>49419</td>\n",
       "      <td>22898</td>\n",
       "      <td>5055539000</td>\n",
       "      <td>9361033000</td>\n",
       "      <td>4305494000</td>\n",
       "      <td>금융투자</td>\n",
       "      <td>2023-01-02</td>\n",
       "    </tr>\n",
       "    <tr>\n",
       "      <th>090430</th>\n",
       "      <td>아모레퍼시픽</td>\n",
       "      <td>18339</td>\n",
       "      <td>44278</td>\n",
       "      <td>25939</td>\n",
       "      <td>2426307000</td>\n",
       "      <td>5896556500</td>\n",
       "      <td>3470249500</td>\n",
       "      <td>금융투자</td>\n",
       "      <td>2023-01-02</td>\n",
       "    </tr>\n",
       "    <tr>\n",
       "      <th>251270</th>\n",
       "      <td>넷마블</td>\n",
       "      <td>42511</td>\n",
       "      <td>75193</td>\n",
       "      <td>32682</td>\n",
       "      <td>2439761200</td>\n",
       "      <td>4323101000</td>\n",
       "      <td>1883339800</td>\n",
       "      <td>금융투자</td>\n",
       "      <td>2023-01-02</td>\n",
       "    </tr>\n",
       "    <tr>\n",
       "      <th>323410</th>\n",
       "      <td>카카오뱅크</td>\n",
       "      <td>85162</td>\n",
       "      <td>126836</td>\n",
       "      <td>41674</td>\n",
       "      <td>2067192300</td>\n",
       "      <td>3072034550</td>\n",
       "      <td>1004842250</td>\n",
       "      <td>금융투자</td>\n",
       "      <td>2023-01-02</td>\n",
       "    </tr>\n",
       "    <tr>\n",
       "      <th>204320</th>\n",
       "      <td>HL만도</td>\n",
       "      <td>25385</td>\n",
       "      <td>48202</td>\n",
       "      <td>22817</td>\n",
       "      <td>1078830150</td>\n",
       "      <td>2047078050</td>\n",
       "      <td>968247900</td>\n",
       "      <td>금융투자</td>\n",
       "      <td>2023-01-02</td>\n",
       "    </tr>\n",
       "    <tr>\n",
       "      <th>...</th>\n",
       "      <td>...</td>\n",
       "      <td>...</td>\n",
       "      <td>...</td>\n",
       "      <td>...</td>\n",
       "      <td>...</td>\n",
       "      <td>...</td>\n",
       "      <td>...</td>\n",
       "      <td>...</td>\n",
       "      <td>...</td>\n",
       "    </tr>\n",
       "    <tr>\n",
       "      <th>024060</th>\n",
       "      <td>흥구석유</td>\n",
       "      <td>64074</td>\n",
       "      <td>64074</td>\n",
       "      <td>0</td>\n",
       "      <td>349148340</td>\n",
       "      <td>349148340</td>\n",
       "      <td>0</td>\n",
       "      <td>전체</td>\n",
       "      <td>2023-01-04</td>\n",
       "    </tr>\n",
       "    <tr>\n",
       "      <th>010240</th>\n",
       "      <td>흥국</td>\n",
       "      <td>65215</td>\n",
       "      <td>65215</td>\n",
       "      <td>0</td>\n",
       "      <td>362145540</td>\n",
       "      <td>362145540</td>\n",
       "      <td>0</td>\n",
       "      <td>전체</td>\n",
       "      <td>2023-01-04</td>\n",
       "    </tr>\n",
       "    <tr>\n",
       "      <th>189980</th>\n",
       "      <td>흥국에프엔비</td>\n",
       "      <td>152693</td>\n",
       "      <td>152693</td>\n",
       "      <td>0</td>\n",
       "      <td>400761000</td>\n",
       "      <td>400761000</td>\n",
       "      <td>0</td>\n",
       "      <td>전체</td>\n",
       "      <td>2023-01-04</td>\n",
       "    </tr>\n",
       "    <tr>\n",
       "      <th>037440</th>\n",
       "      <td>희림</td>\n",
       "      <td>251463</td>\n",
       "      <td>251463</td>\n",
       "      <td>0</td>\n",
       "      <td>2046237540</td>\n",
       "      <td>2046237540</td>\n",
       "      <td>0</td>\n",
       "      <td>전체</td>\n",
       "      <td>2023-01-04</td>\n",
       "    </tr>\n",
       "    <tr>\n",
       "      <th>238490</th>\n",
       "      <td>힘스</td>\n",
       "      <td>18898</td>\n",
       "      <td>18898</td>\n",
       "      <td>0</td>\n",
       "      <td>115053490</td>\n",
       "      <td>115053490</td>\n",
       "      <td>0</td>\n",
       "      <td>전체</td>\n",
       "      <td>2023-01-04</td>\n",
       "    </tr>\n",
       "  </tbody>\n",
       "</table>\n",
       "<p>57886 rows × 9 columns</p>\n",
       "</div>"
      ],
      "text/plain": [
       "           종목명   매도거래량   매수거래량  순매수거래량      매도거래대금      매수거래대금     순매수거래대금  \\\n",
       "티커                                                                           \n",
       "003670  포스코케미칼   26521   49419   22898  5055539000  9361033000  4305494000   \n",
       "090430  아모레퍼시픽   18339   44278   25939  2426307000  5896556500  3470249500   \n",
       "251270     넷마블   42511   75193   32682  2439761200  4323101000  1883339800   \n",
       "323410   카카오뱅크   85162  126836   41674  2067192300  3072034550  1004842250   \n",
       "204320    HL만도   25385   48202   22817  1078830150  2047078050   968247900   \n",
       "...        ...     ...     ...     ...         ...         ...         ...   \n",
       "024060    흥구석유   64074   64074       0   349148340   349148340           0   \n",
       "010240      흥국   65215   65215       0   362145540   362145540           0   \n",
       "189980  흥국에프엔비  152693  152693       0   400761000   400761000           0   \n",
       "037440      희림  251463  251463       0  2046237540  2046237540           0   \n",
       "238490      힘스   18898   18898       0   115053490   115053490           0   \n",
       "\n",
       "        type       date  \n",
       "티커                       \n",
       "003670  금융투자 2023-01-02  \n",
       "090430  금융투자 2023-01-02  \n",
       "251270  금융투자 2023-01-02  \n",
       "323410  금융투자 2023-01-02  \n",
       "204320  금융투자 2023-01-02  \n",
       "...      ...        ...  \n",
       "024060    전체 2023-01-04  \n",
       "010240    전체 2023-01-04  \n",
       "189980    전체 2023-01-04  \n",
       "037440    전체 2023-01-04  \n",
       "238490    전체 2023-01-04  \n",
       "\n",
       "[57886 rows x 9 columns]"
      ]
     },
     "execution_count": 63,
     "metadata": {},
     "output_type": "execute_result"
    }
   ],
   "source": [
    "# total_df_date[(total_df_date['date'] == '2023-01-04') & (total_df_date['type'] == '기관합계')].head(3)\n",
    "total_df_date"
   ]
  },
  {
   "cell_type": "code",
   "execution_count": 56,
   "id": "be34537e",
   "metadata": {
    "ExecuteTime": {
     "end_time": "2024-01-06T19:11:20.036064Z",
     "start_time": "2024-01-06T19:11:20.016118Z"
    }
   },
   "outputs": [
    {
     "data": {
      "text/html": [
       "<div>\n",
       "<style scoped>\n",
       "    .dataframe tbody tr th:only-of-type {\n",
       "        vertical-align: middle;\n",
       "    }\n",
       "\n",
       "    .dataframe tbody tr th {\n",
       "        vertical-align: top;\n",
       "    }\n",
       "\n",
       "    .dataframe thead th {\n",
       "        text-align: right;\n",
       "    }\n",
       "</style>\n",
       "<table border=\"1\" class=\"dataframe\">\n",
       "  <thead>\n",
       "    <tr style=\"text-align: right;\">\n",
       "      <th></th>\n",
       "      <th>티커</th>\n",
       "      <th>종목명</th>\n",
       "      <th>매도거래량</th>\n",
       "      <th>매수거래량</th>\n",
       "      <th>순매수거래량</th>\n",
       "      <th>매도거래대금</th>\n",
       "      <th>매수거래대금</th>\n",
       "      <th>순매수거래대금</th>\n",
       "      <th>type</th>\n",
       "      <th>date</th>\n",
       "    </tr>\n",
       "  </thead>\n",
       "  <tbody>\n",
       "    <tr>\n",
       "      <th>7</th>\n",
       "      <td>005930</td>\n",
       "      <td>삼성전자</td>\n",
       "      <td>8814000</td>\n",
       "      <td>7240236</td>\n",
       "      <td>-1573764</td>\n",
       "      <td>486123570800</td>\n",
       "      <td>399797124800</td>\n",
       "      <td>-86326446000</td>\n",
       "      <td>기관합계</td>\n",
       "      <td>2023-01-03</td>\n",
       "    </tr>\n",
       "    <tr>\n",
       "      <th>20</th>\n",
       "      <td>005930</td>\n",
       "      <td>삼성전자</td>\n",
       "      <td>10620643</td>\n",
       "      <td>10461929</td>\n",
       "      <td>-158714</td>\n",
       "      <td>605171611100</td>\n",
       "      <td>596528465400</td>\n",
       "      <td>-8643145700</td>\n",
       "      <td>기관합계</td>\n",
       "      <td>2023-01-04</td>\n",
       "    </tr>\n",
       "  </tbody>\n",
       "</table>\n",
       "</div>"
      ],
      "text/plain": [
       "        티커   종목명     매도거래량     매수거래량   순매수거래량        매도거래대금        매수거래대금  \\\n",
       "7   005930  삼성전자   8814000   7240236 -1573764  486123570800  399797124800   \n",
       "20  005930  삼성전자  10620643  10461929  -158714  605171611100  596528465400   \n",
       "\n",
       "        순매수거래대금  type       date  \n",
       "7  -86326446000  기관합계 2023-01-03  \n",
       "20  -8643145700  기관합계 2023-01-04  "
      ]
     },
     "execution_count": 56,
     "metadata": {},
     "output_type": "execute_result"
    }
   ],
   "source": [
    "total_df_samsung = total_df_date[total_df_date['티커'] == '005930'].reset_index(drop = True)\n",
    "total_df_samsung[total_df_samsung['type'] == '기관합계'].head(3)"
   ]
  },
  {
   "cell_type": "code",
   "execution_count": null,
   "id": "c804b520",
   "metadata": {},
   "outputs": [],
   "source": []
  },
  {
   "cell_type": "code",
   "execution_count": null,
   "id": "283a89c7",
   "metadata": {},
   "outputs": [],
   "source": [
    "fig = px.line(total_df_samsung, x=\"date\", y=\"매수거래대금\", color='type')\n",
    "fig.show()"
   ]
  },
  {
   "cell_type": "code",
   "execution_count": null,
   "id": "b8cb803d",
   "metadata": {},
   "outputs": [],
   "source": []
  }
 ],
 "metadata": {
  "kernelspec": {
   "display_name": "Python 3 (ipykernel)",
   "language": "python",
   "name": "python3"
  },
  "language_info": {
   "codemirror_mode": {
    "name": "ipython",
    "version": 3
   },
   "file_extension": ".py",
   "mimetype": "text/x-python",
   "name": "python",
   "nbconvert_exporter": "python",
   "pygments_lexer": "ipython3",
   "version": "3.11.3"
  },
  "toc": {
   "base_numbering": 1,
   "nav_menu": {},
   "number_sections": true,
   "sideBar": true,
   "skip_h1_title": false,
   "title_cell": "Table of Contents",
   "title_sidebar": "Contents",
   "toc_cell": false,
   "toc_position": {},
   "toc_section_display": true,
   "toc_window_display": false
  }
 },
 "nbformat": 4,
 "nbformat_minor": 5
}
