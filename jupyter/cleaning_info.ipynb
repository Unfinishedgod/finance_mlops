{
 "cells": [
  {
   "cell_type": "code",
   "execution_count": 8,
   "id": "5b523539",
   "metadata": {
    "ExecuteTime": {
     "end_time": "2024-01-06T08:24:40.692401Z",
     "start_time": "2024-01-06T08:24:40.641266Z"
    }
   },
   "outputs": [],
   "source": [
    "import plotly.graph_objects as go\n",
    "\n",
    "from ta.trend import MACD\n",
    "from ta.momentum import StochasticOscillator\n",
    "\n",
    "import numpy as np\n",
    "import pandas as pd\n",
    "from pykrx import stock\n",
    "from pykrx import bond\n",
    "from time import sleep\n",
    "\n",
    "from datetime import datetime\n",
    "from datetime import timedelta\n",
    "import os\n",
    "import time\n",
    "from plotly.subplots import make_subplots\n",
    "import glob\n",
    "\n",
    "from pyarrow import csv\n",
    "import pyarrow as pa\n",
    "import pyarrow.parquet as pq\n",
    "\n"
   ]
  },
  {
   "cell_type": "code",
   "execution_count": 4,
   "id": "d6e86ac8",
   "metadata": {
    "ExecuteTime": {
     "end_time": "2024-01-06T08:22:17.128999Z",
     "start_time": "2024-01-06T08:22:17.125042Z"
    }
   },
   "outputs": [],
   "source": [
    "os.chdir('/home/shjj08choi4/finance_mlops')\n"
   ]
  },
  {
   "cell_type": "code",
   "execution_count": 9,
   "id": "209b0afb",
   "metadata": {
    "ExecuteTime": {
     "end_time": "2024-01-06T08:27:07.387490Z",
     "start_time": "2024-01-06T08:27:07.383646Z"
    }
   },
   "outputs": [],
   "source": [
    "parquet_list = glob.glob('data_crawler/cleaning/kor_stock_ohlcv/*')"
   ]
  },
  {
   "cell_type": "code",
   "execution_count": 10,
   "id": "8ea93ffe",
   "metadata": {
    "ExecuteTime": {
     "end_time": "2024-01-06T08:27:11.042926Z",
     "start_time": "2024-01-06T08:27:11.038218Z"
    }
   },
   "outputs": [
    {
     "data": {
      "text/plain": [
       "['data_crawler/cleaning/kor_stock_ohlcv/df_raw_anal_total_2_kosdaq_20231226.parquet',\n",
       " 'data_crawler/cleaning/kor_stock_ohlcv/df_raw_total_2_kosdaq_20231226.parquet',\n",
       " 'data_crawler/cleaning/kor_stock_ohlcv/df_raw_anal_total_2_kospi_20231226.parquet',\n",
       " 'data_crawler/cleaning/kor_stock_ohlcv/df_raw_total_2_kospi_20231226.parquet']"
      ]
     },
     "execution_count": 10,
     "metadata": {},
     "output_type": "execute_result"
    }
   ],
   "source": [
    "parquet_list[0]"
   ]
  },
  {
   "cell_type": "code",
   "execution_count": 18,
   "id": "4ea1498f",
   "metadata": {
    "ExecuteTime": {
     "end_time": "2024-01-06T08:30:12.348318Z",
     "start_time": "2024-01-06T08:30:12.333373Z"
    }
   },
   "outputs": [],
   "source": [
    "t = pq.read_table(parquet_list[3])\n",
    "df = t.to_pandas()"
   ]
  },
  {
   "cell_type": "code",
   "execution_count": 21,
   "id": "52ba7fba",
   "metadata": {
    "ExecuteTime": {
     "end_time": "2024-01-06T08:37:00.263814Z",
     "start_time": "2024-01-06T08:37:00.256301Z"
    }
   },
   "outputs": [
    {
     "data": {
      "text/plain": [
       "array(['095570', '006840', '027410', '282330', '138930'], dtype=object)"
      ]
     },
     "execution_count": 21,
     "metadata": {},
     "output_type": "execute_result"
    }
   ],
   "source": [
    "df['ticker'].unique()"
   ]
  },
  {
   "cell_type": "code",
   "execution_count": null,
   "id": "2eebfe7f",
   "metadata": {},
   "outputs": [],
   "source": [
    "t = pq.read_table('df.parquet')\n",
    "df = t.to_pandas()"
   ]
  }
 ],
 "metadata": {
  "kernelspec": {
   "display_name": "Python 3 (ipykernel)",
   "language": "python",
   "name": "python3"
  },
  "language_info": {
   "codemirror_mode": {
    "name": "ipython",
    "version": 3
   },
   "file_extension": ".py",
   "mimetype": "text/x-python",
   "name": "python",
   "nbconvert_exporter": "python",
   "pygments_lexer": "ipython3",
   "version": "3.11.3"
  },
  "toc": {
   "base_numbering": 1,
   "nav_menu": {},
   "number_sections": true,
   "sideBar": true,
   "skip_h1_title": false,
   "title_cell": "Table of Contents",
   "title_sidebar": "Contents",
   "toc_cell": false,
   "toc_position": {},
   "toc_section_display": true,
   "toc_window_display": false
  }
 },
 "nbformat": 4,
 "nbformat_minor": 5
}
