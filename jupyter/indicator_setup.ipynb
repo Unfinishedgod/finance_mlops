{
 "cells": [
  {
   "cell_type": "markdown",
   "id": "d1029359",
   "metadata": {
    "ExecuteTime": {
     "end_time": "2024-01-08T16:09:53.741997Z",
     "start_time": "2024-01-08T16:09:51.972138Z"
    }
   },
   "source": [
    "# 지표 정리\n",
    "\n",
    "#### 기본 세팅"
   ]
  },
  {
   "cell_type": "code",
   "execution_count": 13,
   "id": "b7abafe2",
   "metadata": {
    "ExecuteTime": {
     "end_time": "2024-01-09T16:21:43.821486Z",
     "start_time": "2024-01-09T16:21:43.727380Z"
    }
   },
   "outputs": [],
   "source": [
    "import math\n",
    "import numpy as np\n",
    "import pandas as pd\n",
    "import os\n",
    "import glob\n",
    "\n",
    "from pykrx import stock\n",
    "from pykrx import bond\n",
    "\n",
    "import time\n",
    "from time import sleep\n",
    "from datetime import datetime\n",
    "from datetime import timedelta\n",
    "\n",
    "from pyarrow import csv\n",
    "import pyarrow as pa\n",
    "import pyarrow.parquet as pq\n",
    "\n",
    "from ta.trend import MACD\n",
    "from ta.momentum import StochasticOscillator\n",
    "\n",
    "import psycopg2 as pg2\n",
    "from sqlalchemy import create_engine\n",
    "\n",
    "from plotly.subplots import make_subplots\n",
    "import plotly.express as px\n",
    "import plotly.graph_objects as go\n",
    "\n",
    "from google.cloud import bigquery\n",
    "from google.oauth2 import service_account\n",
    "from google.cloud import storage\n",
    "\n",
    "\n",
    "import warnings\n",
    "warnings.filterwarnings('ignore')\n",
    "\n",
    "# 경로 변경\n",
    "os.chdir('/home/shjj08choi4/finance_mlops')\n",
    "\n",
    "\n",
    "# 서비스 계정 키 JSON 파일 경로\n",
    "key_path = glob.glob(\"key_value/*.json\")[0]\n",
    "\n",
    "# Credentials 객체 생성\n",
    "credentials = service_account.Credentials.from_service_account_file(key_path)\n",
    "\n",
    "# 빅쿼리 정보\n",
    "project_id = 'owenchoi-404302'\n",
    "dataset_id = 'finance_mlops'\n",
    "\n",
    "\n",
    "# BigQuery 클라이언트 객체 생성\n",
    "client = bigquery.Client(credentials = credentials, \n",
    "                         project = credentials.project_id)\n",
    "\n",
    "\n",
    "# GCP 클라이언트 객체 생성\n",
    "storage_client = storage.Client(credentials = credentials,\n",
    "                         project = credentials.project_id)\n",
    "bucket_name = 'finance-mlops-proj'    # 서비스 계정 생성한 bucket 이름 입력\n",
    "\n",
    "# Postgresql 연결\n",
    "db_connect_info = pd.read_csv('key_value/db_connect_info.csv')\n",
    "username = db_connect_info['username'][0]\n",
    "password = db_connect_info['password'][0]\n",
    "host = db_connect_info['host'][0]\n",
    "database = db_connect_info['database'][0]\n",
    "engine = create_engine(f'postgresql+psycopg2://{username}:{password}@{host}:5432/{database}')\n",
    "\n",
    "\n",
    "\n",
    "now = datetime.now()\n",
    "# now = now + timedelta(days=-2)\n",
    "today_date1 = now.strftime('%Y%m%d')\n",
    "today_date2 = now.strftime('%Y-%m-%d')\n",
    "today_date_time_csv = now.strftime(\"%Y%m%d_%H%M\")"
   ]
  },
  {
   "cell_type": "markdown",
   "id": "c41fee00",
   "metadata": {},
   "source": [
    "### 데이터 "
   ]
  },
  {
   "cell_type": "code",
   "execution_count": 52,
   "id": "4659f8c0",
   "metadata": {
    "ExecuteTime": {
     "end_time": "2024-01-09T16:39:27.507648Z",
     "start_time": "2024-01-09T16:39:27.498392Z"
    }
   },
   "outputs": [
    {
     "data": {
      "text/plain": [
       "['jupyter/ohlcv_df_raw.csv',\n",
       " 'data_crawler/ohlcv_df_raw.csv',\n",
       " 'data_crawler/sample.csv',\n",
       " 'data_crawler/df_raw_total.csv',\n",
       " 'data_crawler/kor_index_code_fundamental/kor_index_code_fundamental.csv',\n",
       " 'data_crawler/index_code_master/index_code_master.csv',\n",
       " 'data_crawler/kor_market_cap/kor_market_cap.csv',\n",
       " 'data_crawler/snp500_daily/snp500_daily.csv',\n",
       " 'data_crawler/bitcoin/bitcoin.csv',\n",
       " 'data_crawler/usd_krw/usd_krw.csv',\n",
       " 'data_crawler/kor_stock_ohlcv/kor_stock_ohlcv.csv',\n",
       " 'data_crawler/kor_ticker_list/kor_ticker_list_20240108.csv',\n",
       " 'data_crawler/kor_ticker_list/kor_ticker_list.csv',\n",
       " 'data_crawler/kor_index_list_df/kor_index_list_df.csv',\n",
       " 'data_crawler/kor_index_ohlcv/kor_index_ohlcv.csv',\n",
       " 'data_crawler/kor_stock_fundamental/kor_stock_fundamental.csv',\n",
       " 'data_crawler/snp500_ticker_list/snp500_ticker_list.csv',\n",
       " 'key_value/db_connect_info.csv',\n",
       " 'key_value/naver_apikey.csv',\n",
       " 'key_value/chatgpt_apikey.csv']"
      ]
     },
     "execution_count": 52,
     "metadata": {},
     "output_type": "execute_result"
    }
   ],
   "source": [
    "glob.glob(\"**/*.csv\", recursive=True)"
   ]
  },
  {
   "cell_type": "code",
   "execution_count": 53,
   "id": "2921f25a",
   "metadata": {
    "ExecuteTime": {
     "end_time": "2024-01-09T16:39:35.580041Z",
     "start_time": "2024-01-09T16:39:35.571916Z"
    }
   },
   "outputs": [
    {
     "data": {
      "text/plain": [
       "['jupyter/df.parquet',\n",
       " 'jupyter/kor_stock_ohlcv.parquet',\n",
       " 'data_crawler/cleaning/bitcoin/bitcoin_anal_cleaning.parquet',\n",
       " 'data_crawler/cleaning/bitcoin/bitcoin_cleaning.parquet',\n",
       " 'data_crawler/cleaning/kor_stock_ohlcv/kor_stock_ohlcv_anal_kosdaq.parquet',\n",
       " 'data_crawler/cleaning/kor_stock_ohlcv/kor_stock_ohlcv_kosdaq.parquet',\n",
       " 'data_crawler/cleaning/kor_stock_ohlcv/buy_sell_count_kosdaq.parquet',\n",
       " 'data_crawler/cleaning/kor_stock_ohlcv/kor_stock_ohlcv_anal_kospi.parquet',\n",
       " 'data_crawler/cleaning/kor_stock_ohlcv/kor_stock_ohlcv_kospi.parquet',\n",
       " 'data_crawler/cleaning/kor_stock_ohlcv/buy_sell_count_kospi.parquet',\n",
       " 'data_crawler/cleaning/kor_index_ohlcv/kor_index_ohlcv_cleaning.parquet',\n",
       " 'data_crawler/cleaning/kor_index_ohlcv/kor_index_ohlcv_anal_cleaning.parquet',\n",
       " 'data_crawler/kor_index_code_fundamental/kor_index_code_fundamental.parquet',\n",
       " 'data_crawler/kor_index_list_df/kor_index_list_df.parquet',\n",
       " 'data_crawler/kor_index_ohlcv/kor_index_ohlcv.parquet']"
      ]
     },
     "execution_count": 53,
     "metadata": {},
     "output_type": "execute_result"
    }
   ],
   "source": [
    "glob.glob(\"**/*.parquet\", recursive=True)"
   ]
  },
  {
   "cell_type": "code",
   "execution_count": 61,
   "id": "73f52206",
   "metadata": {
    "ExecuteTime": {
     "end_time": "2024-01-09T16:42:43.303414Z",
     "start_time": "2024-01-09T16:42:42.817715Z"
    }
   },
   "outputs": [],
   "source": [
    "# 코스피 지표\n",
    "t = pq.read_table('data_crawler/cleaning/kor_stock_ohlcv/kor_stock_ohlcv_kospi.parquet')\n",
    "kor_stock_ohlcv_kospi = t.to_pandas()\n",
    "\n",
    "# 코스피 매수/매도 지표\n",
    "t = pq.read_table('data_crawler/cleaning/kor_stock_ohlcv/kor_stock_ohlcv_anal_kospi.parquet')\n",
    "kor_stock_ohlcv_anal_kospi = t.to_pandas()\n",
    "\n",
    "# 코스피 주식별 매수매도 지표\n",
    "t = pq.read_table('data_crawler/cleaning/kor_stock_ohlcv/buy_sell_count_kospi.parquet')\n",
    "buy_sell_count_kospi = t.to_pandas()\n",
    "\n",
    "# 인덱스 지표\n",
    "t = pq.read_table('data_crawler/cleaning/kor_index_ohlcv/kor_index_ohlcv_cleaning.parquet')\n",
    "kor_index_ohlcv_cleaning = t.to_pandas()\n",
    "\n",
    "# 인덱스 매수/매도 지표\n",
    "t = pq.read_table('data_crawler/cleaning/kor_index_ohlcv/kor_index_ohlcv_anal_cleaning.parquet')\n",
    "kor_index_ohlcv_anal_cleaning = t.to_pandas()\n",
    "\n",
    "# 인덱스 PBR\n",
    "t = pq.read_table('data_crawler/kor_index_code_fundamental/kor_index_code_fundamental.parquet')\n",
    "kor_index_code_fundamental = t.to_pandas()\n",
    "\n",
    "\n",
    "index_code_master = pd.read_csv('data_crawler/index_code_master/index_code_master.csv', dtype = {'ticker':str, \n",
    "                                                                                                'index_code':str})\n",
    "\n",
    "\n",
    "not_sectors = [\"1002\",\"1003\",\"1004\",\"1028\",\"1034\",\"1035\",\"1150\",\"1151\",\n",
    "           \"1152\",\"1153\",\"1154\",\"1155\",\"1156\",\"1157\",\"1158\",\"1159\",\n",
    "           \"1160\",\"1167\",\"1182\",\"1224\",\"1227\",\"1232\",\"1244\",\"1894\",\n",
    "           \"2002\",\"2003\",\"2004\",\"2181\",\"2182\",\"2183\",\"2184\",\"2189\",\n",
    "           \"2203\",\"2212\",\"2213\",\"2214\",\"2215\",\"2216\",\"2217\",\"2218\"]\n",
    "\n",
    "index_code_master = index_code_master[~index_code_master['index_code'].isin(not_sectors)].reset_index(drop = True)\n"
   ]
  },
  {
   "cell_type": "code",
   "execution_count": 45,
   "id": "e04c593c",
   "metadata": {
    "ExecuteTime": {
     "end_time": "2024-01-09T16:32:23.831299Z",
     "start_time": "2024-01-09T16:32:23.816686Z"
    }
   },
   "outputs": [
    {
     "data": {
      "text/html": [
       "<div>\n",
       "<style scoped>\n",
       "    .dataframe tbody tr th:only-of-type {\n",
       "        vertical-align: middle;\n",
       "    }\n",
       "\n",
       "    .dataframe tbody tr th {\n",
       "        vertical-align: top;\n",
       "    }\n",
       "\n",
       "    .dataframe thead th {\n",
       "        text-align: right;\n",
       "    }\n",
       "</style>\n",
       "<table border=\"1\" class=\"dataframe\">\n",
       "  <thead>\n",
       "    <tr style=\"text-align: right;\">\n",
       "      <th></th>\n",
       "      <th>date</th>\n",
       "      <th>close</th>\n",
       "      <th>price_change_percentage</th>\n",
       "      <th>per</th>\n",
       "      <th>porward_per</th>\n",
       "      <th>pbr</th>\n",
       "      <th>dividend_yield</th>\n",
       "      <th>index_code</th>\n",
       "    </tr>\n",
       "  </thead>\n",
       "  <tbody>\n",
       "    <tr>\n",
       "      <th>0</th>\n",
       "      <td>2018-01-02</td>\n",
       "      <td>2479.65</td>\n",
       "      <td>0.49</td>\n",
       "      <td>13.06</td>\n",
       "      <td>0.0</td>\n",
       "      <td>1.12</td>\n",
       "      <td>1.35</td>\n",
       "      <td>1001</td>\n",
       "    </tr>\n",
       "    <tr>\n",
       "      <th>1</th>\n",
       "      <td>2018-01-03</td>\n",
       "      <td>2486.35</td>\n",
       "      <td>0.27</td>\n",
       "      <td>13.09</td>\n",
       "      <td>0.0</td>\n",
       "      <td>1.12</td>\n",
       "      <td>1.35</td>\n",
       "      <td>1001</td>\n",
       "    </tr>\n",
       "    <tr>\n",
       "      <th>2</th>\n",
       "      <td>2018-01-04</td>\n",
       "      <td>2466.46</td>\n",
       "      <td>-0.80</td>\n",
       "      <td>12.99</td>\n",
       "      <td>0.0</td>\n",
       "      <td>1.11</td>\n",
       "      <td>1.36</td>\n",
       "      <td>1001</td>\n",
       "    </tr>\n",
       "    <tr>\n",
       "      <th>3</th>\n",
       "      <td>2018-01-05</td>\n",
       "      <td>2497.52</td>\n",
       "      <td>1.26</td>\n",
       "      <td>13.15</td>\n",
       "      <td>0.0</td>\n",
       "      <td>1.12</td>\n",
       "      <td>1.34</td>\n",
       "      <td>1001</td>\n",
       "    </tr>\n",
       "    <tr>\n",
       "      <th>4</th>\n",
       "      <td>2018-01-08</td>\n",
       "      <td>2513.28</td>\n",
       "      <td>0.63</td>\n",
       "      <td>13.23</td>\n",
       "      <td>0.0</td>\n",
       "      <td>1.13</td>\n",
       "      <td>1.34</td>\n",
       "      <td>1001</td>\n",
       "    </tr>\n",
       "  </tbody>\n",
       "</table>\n",
       "</div>"
      ],
      "text/plain": [
       "         date    close  price_change_percentage    per  porward_per   pbr  \\\n",
       "0  2018-01-02  2479.65                     0.49  13.06          0.0  1.12   \n",
       "1  2018-01-03  2486.35                     0.27  13.09          0.0  1.12   \n",
       "2  2018-01-04  2466.46                    -0.80  12.99          0.0  1.11   \n",
       "3  2018-01-05  2497.52                     1.26  13.15          0.0  1.12   \n",
       "4  2018-01-08  2513.28                     0.63  13.23          0.0  1.13   \n",
       "\n",
       "   dividend_yield  index_code  \n",
       "0            1.35        1001  \n",
       "1            1.35        1001  \n",
       "2            1.36        1001  \n",
       "3            1.34        1001  \n",
       "4            1.34        1001  "
      ]
     },
     "execution_count": 45,
     "metadata": {},
     "output_type": "execute_result"
    }
   ],
   "source": [
    "kor_index_code_fundamental.head()"
   ]
  },
  {
   "cell_type": "code",
   "execution_count": null,
   "id": "a1e78eca",
   "metadata": {},
   "outputs": [],
   "source": []
  },
  {
   "cell_type": "code",
   "execution_count": 55,
   "id": "89bc4a41",
   "metadata": {
    "ExecuteTime": {
     "end_time": "2024-01-09T16:40:06.724042Z",
     "start_time": "2024-01-09T16:40:06.712905Z"
    }
   },
   "outputs": [
    {
     "data": {
      "text/html": [
       "<div>\n",
       "<style scoped>\n",
       "    .dataframe tbody tr th:only-of-type {\n",
       "        vertical-align: middle;\n",
       "    }\n",
       "\n",
       "    .dataframe tbody tr th {\n",
       "        vertical-align: top;\n",
       "    }\n",
       "\n",
       "    .dataframe thead th {\n",
       "        text-align: right;\n",
       "    }\n",
       "</style>\n",
       "<table border=\"1\" class=\"dataframe\">\n",
       "  <thead>\n",
       "    <tr style=\"text-align: right;\">\n",
       "      <th></th>\n",
       "      <th>ticker</th>\n",
       "      <th>index_code</th>\n",
       "      <th>index_code_nm</th>\n",
       "      <th>market</th>\n",
       "      <th>corp_name</th>\n",
       "    </tr>\n",
       "  </thead>\n",
       "  <tbody>\n",
       "    <tr>\n",
       "      <th>0</th>\n",
       "      <td>5930</td>\n",
       "      <td>1001</td>\n",
       "      <td>코스피</td>\n",
       "      <td>KOSPI</td>\n",
       "      <td>삼성전자</td>\n",
       "    </tr>\n",
       "    <tr>\n",
       "      <th>1</th>\n",
       "      <td>660</td>\n",
       "      <td>1001</td>\n",
       "      <td>코스피</td>\n",
       "      <td>KOSPI</td>\n",
       "      <td>SK하이닉스</td>\n",
       "    </tr>\n",
       "    <tr>\n",
       "      <th>2</th>\n",
       "      <td>373220</td>\n",
       "      <td>1001</td>\n",
       "      <td>코스피</td>\n",
       "      <td>KOSPI</td>\n",
       "      <td>LG에너지솔루션</td>\n",
       "    </tr>\n",
       "    <tr>\n",
       "      <th>3</th>\n",
       "      <td>207940</td>\n",
       "      <td>1001</td>\n",
       "      <td>코스피</td>\n",
       "      <td>KOSPI</td>\n",
       "      <td>삼성바이오로직스</td>\n",
       "    </tr>\n",
       "    <tr>\n",
       "      <th>4</th>\n",
       "      <td>5490</td>\n",
       "      <td>1001</td>\n",
       "      <td>코스피</td>\n",
       "      <td>KOSPI</td>\n",
       "      <td>POSCO홀딩스</td>\n",
       "    </tr>\n",
       "    <tr>\n",
       "      <th>...</th>\n",
       "      <td>...</td>\n",
       "      <td>...</td>\n",
       "      <td>...</td>\n",
       "      <td>...</td>\n",
       "      <td>...</td>\n",
       "    </tr>\n",
       "    <tr>\n",
       "      <th>13730</th>\n",
       "      <td>122870</td>\n",
       "      <td>2218</td>\n",
       "      <td>코스닥 150 커뮤니케이션서비스</td>\n",
       "      <td>KOSDAQ</td>\n",
       "      <td>와이지엔터테인먼트</td>\n",
       "    </tr>\n",
       "    <tr>\n",
       "      <th>13731</th>\n",
       "      <td>119860</td>\n",
       "      <td>2218</td>\n",
       "      <td>코스닥 150 커뮤니케이션서비스</td>\n",
       "      <td>KOSDAQ</td>\n",
       "      <td>커넥트웨이브</td>\n",
       "    </tr>\n",
       "    <tr>\n",
       "      <th>13732</th>\n",
       "      <td>78340</td>\n",
       "      <td>2218</td>\n",
       "      <td>코스닥 150 커뮤니케이션서비스</td>\n",
       "      <td>KOSDAQ</td>\n",
       "      <td>컴투스</td>\n",
       "    </tr>\n",
       "    <tr>\n",
       "      <th>13733</th>\n",
       "      <td>95660</td>\n",
       "      <td>2218</td>\n",
       "      <td>코스닥 150 커뮤니케이션서비스</td>\n",
       "      <td>KOSDAQ</td>\n",
       "      <td>네오위즈</td>\n",
       "    </tr>\n",
       "    <tr>\n",
       "      <th>13734</th>\n",
       "      <td>194480</td>\n",
       "      <td>2218</td>\n",
       "      <td>코스닥 150 커뮤니케이션서비스</td>\n",
       "      <td>KOSDAQ</td>\n",
       "      <td>데브시스터즈</td>\n",
       "    </tr>\n",
       "  </tbody>\n",
       "</table>\n",
       "<p>13735 rows × 5 columns</p>\n",
       "</div>"
      ],
      "text/plain": [
       "       ticker  index_code      index_code_nm  market  corp_name\n",
       "0        5930        1001                코스피   KOSPI       삼성전자\n",
       "1         660        1001                코스피   KOSPI     SK하이닉스\n",
       "2      373220        1001                코스피   KOSPI   LG에너지솔루션\n",
       "3      207940        1001                코스피   KOSPI   삼성바이오로직스\n",
       "4        5490        1001                코스피   KOSPI   POSCO홀딩스\n",
       "...       ...         ...                ...     ...        ...\n",
       "13730  122870        2218  코스닥 150 커뮤니케이션서비스  KOSDAQ  와이지엔터테인먼트\n",
       "13731  119860        2218  코스닥 150 커뮤니케이션서비스  KOSDAQ     커넥트웨이브\n",
       "13732   78340        2218  코스닥 150 커뮤니케이션서비스  KOSDAQ        컴투스\n",
       "13733   95660        2218  코스닥 150 커뮤니케이션서비스  KOSDAQ       네오위즈\n",
       "13734  194480        2218  코스닥 150 커뮤니케이션서비스  KOSDAQ     데브시스터즈\n",
       "\n",
       "[13735 rows x 5 columns]"
      ]
     },
     "execution_count": 55,
     "metadata": {},
     "output_type": "execute_result"
    }
   ],
   "source": [
    "index_code_master"
   ]
  },
  {
   "cell_type": "code",
   "execution_count": null,
   "id": "e50cf3a4",
   "metadata": {},
   "outputs": [],
   "source": []
  },
  {
   "cell_type": "code",
   "execution_count": 37,
   "id": "102a6643",
   "metadata": {
    "ExecuteTime": {
     "end_time": "2024-01-09T16:31:27.954269Z",
     "start_time": "2024-01-09T16:31:27.935276Z"
    }
   },
   "outputs": [
    {
     "data": {
      "text/html": [
       "<div>\n",
       "<style scoped>\n",
       "    .dataframe tbody tr th:only-of-type {\n",
       "        vertical-align: middle;\n",
       "    }\n",
       "\n",
       "    .dataframe tbody tr th {\n",
       "        vertical-align: top;\n",
       "    }\n",
       "\n",
       "    .dataframe thead th {\n",
       "        text-align: right;\n",
       "    }\n",
       "</style>\n",
       "<table border=\"1\" class=\"dataframe\">\n",
       "  <thead>\n",
       "    <tr style=\"text-align: right;\">\n",
       "      <th></th>\n",
       "      <th>date</th>\n",
       "      <th>open</th>\n",
       "      <th>high</th>\n",
       "      <th>low</th>\n",
       "      <th>close</th>\n",
       "      <th>volume</th>\n",
       "      <th>price_change_percentage</th>\n",
       "      <th>ticker</th>\n",
       "      <th>corp_name</th>\n",
       "      <th>market</th>\n",
       "      <th>MA5</th>\n",
       "      <th>MA20</th>\n",
       "      <th>MA60</th>\n",
       "      <th>MA120</th>\n",
       "      <th>upper</th>\n",
       "      <th>lower</th>\n",
       "      <th>MACD_DIFF</th>\n",
       "      <th>MACD</th>\n",
       "      <th>MACD_Signal</th>\n",
       "      <th>RSI</th>\n",
       "    </tr>\n",
       "  </thead>\n",
       "  <tbody>\n",
       "    <tr>\n",
       "      <th>0</th>\n",
       "      <td>2023-01-09 00:00:00+00:00</td>\n",
       "      <td>59700</td>\n",
       "      <td>60700</td>\n",
       "      <td>59600</td>\n",
       "      <td>60700.0</td>\n",
       "      <td>18640107</td>\n",
       "      <td>2.881356</td>\n",
       "      <td>005930</td>\n",
       "      <td>삼성전자</td>\n",
       "      <td>KOSPI</td>\n",
       "      <td>58220.0</td>\n",
       "      <td>58315.0</td>\n",
       "      <td>59373.333333</td>\n",
       "      <td>58841.666667</td>\n",
       "      <td>61407.749586</td>\n",
       "      <td>55222.250414</td>\n",
       "      <td>297.792250</td>\n",
       "      <td>-382.242616</td>\n",
       "      <td>-680.034867</td>\n",
       "      <td>59.579300</td>\n",
       "    </tr>\n",
       "    <tr>\n",
       "      <th>1</th>\n",
       "      <td>2023-01-10 00:00:00+00:00</td>\n",
       "      <td>60200</td>\n",
       "      <td>61100</td>\n",
       "      <td>59900</td>\n",
       "      <td>60400.0</td>\n",
       "      <td>14859797</td>\n",
       "      <td>-0.494234</td>\n",
       "      <td>005930</td>\n",
       "      <td>삼성전자</td>\n",
       "      <td>KOSPI</td>\n",
       "      <td>59220.0</td>\n",
       "      <td>58360.0</td>\n",
       "      <td>59436.666667</td>\n",
       "      <td>58829.166667</td>\n",
       "      <td>61545.215848</td>\n",
       "      <td>55174.784152</td>\n",
       "      <td>402.537204</td>\n",
       "      <td>-176.863361</td>\n",
       "      <td>-579.400566</td>\n",
       "      <td>58.001471</td>\n",
       "    </tr>\n",
       "  </tbody>\n",
       "</table>\n",
       "</div>"
      ],
      "text/plain": [
       "                       date   open   high    low    close    volume  \\\n",
       "0 2023-01-09 00:00:00+00:00  59700  60700  59600  60700.0  18640107   \n",
       "1 2023-01-10 00:00:00+00:00  60200  61100  59900  60400.0  14859797   \n",
       "\n",
       "   price_change_percentage  ticker corp_name market      MA5     MA20  \\\n",
       "0                 2.881356  005930      삼성전자  KOSPI  58220.0  58315.0   \n",
       "1                -0.494234  005930      삼성전자  KOSPI  59220.0  58360.0   \n",
       "\n",
       "           MA60         MA120         upper         lower   MACD_DIFF  \\\n",
       "0  59373.333333  58841.666667  61407.749586  55222.250414  297.792250   \n",
       "1  59436.666667  58829.166667  61545.215848  55174.784152  402.537204   \n",
       "\n",
       "         MACD  MACD_Signal        RSI  \n",
       "0 -382.242616  -680.034867  59.579300  \n",
       "1 -176.863361  -579.400566  58.001471  "
      ]
     },
     "execution_count": 37,
     "metadata": {},
     "output_type": "execute_result"
    }
   ],
   "source": [
    "kor_stock_ohlcv_kospi.head(2)"
   ]
  },
  {
   "cell_type": "code",
   "execution_count": 38,
   "id": "da5274dd",
   "metadata": {
    "ExecuteTime": {
     "end_time": "2024-01-09T16:31:28.113873Z",
     "start_time": "2024-01-09T16:31:28.101367Z"
    }
   },
   "outputs": [
    {
     "data": {
      "text/html": [
       "<div>\n",
       "<style scoped>\n",
       "    .dataframe tbody tr th:only-of-type {\n",
       "        vertical-align: middle;\n",
       "    }\n",
       "\n",
       "    .dataframe tbody tr th {\n",
       "        vertical-align: top;\n",
       "    }\n",
       "\n",
       "    .dataframe thead th {\n",
       "        text-align: right;\n",
       "    }\n",
       "</style>\n",
       "<table border=\"1\" class=\"dataframe\">\n",
       "  <thead>\n",
       "    <tr style=\"text-align: right;\">\n",
       "      <th></th>\n",
       "      <th>date</th>\n",
       "      <th>ticker</th>\n",
       "      <th>corp_name</th>\n",
       "      <th>market</th>\n",
       "      <th>close</th>\n",
       "      <th>5_20_cross</th>\n",
       "      <th>20_60_cross</th>\n",
       "      <th>array</th>\n",
       "      <th>Bollinger_band</th>\n",
       "      <th>MACD</th>\n",
       "      <th>RSI</th>\n",
       "    </tr>\n",
       "  </thead>\n",
       "  <tbody>\n",
       "    <tr>\n",
       "      <th>0</th>\n",
       "      <td>2023-01-09 00:00:00+00:00</td>\n",
       "      <td>005930</td>\n",
       "      <td>삼성전자</td>\n",
       "      <td>KOSPI</td>\n",
       "      <td>60700</td>\n",
       "      <td>-</td>\n",
       "      <td>-</td>\n",
       "      <td>-</td>\n",
       "      <td>-</td>\n",
       "      <td>-</td>\n",
       "      <td>-</td>\n",
       "    </tr>\n",
       "    <tr>\n",
       "      <th>1</th>\n",
       "      <td>2023-01-10 00:00:00+00:00</td>\n",
       "      <td>005930</td>\n",
       "      <td>삼성전자</td>\n",
       "      <td>KOSPI</td>\n",
       "      <td>60400</td>\n",
       "      <td>골든크로스(매수)</td>\n",
       "      <td>-</td>\n",
       "      <td>-</td>\n",
       "      <td>-</td>\n",
       "      <td>-</td>\n",
       "      <td>-</td>\n",
       "    </tr>\n",
       "  </tbody>\n",
       "</table>\n",
       "</div>"
      ],
      "text/plain": [
       "                       date  ticker corp_name market  close 5_20_cross  \\\n",
       "0 2023-01-09 00:00:00+00:00  005930      삼성전자  KOSPI  60700          -   \n",
       "1 2023-01-10 00:00:00+00:00  005930      삼성전자  KOSPI  60400  골든크로스(매수)   \n",
       "\n",
       "  20_60_cross array Bollinger_band MACD RSI  \n",
       "0           -     -              -    -   -  \n",
       "1           -     -              -    -   -  "
      ]
     },
     "execution_count": 38,
     "metadata": {},
     "output_type": "execute_result"
    }
   ],
   "source": [
    "kor_stock_ohlcv_anal_kospi.head(2)"
   ]
  },
  {
   "cell_type": "code",
   "execution_count": 39,
   "id": "8e5a464f",
   "metadata": {
    "ExecuteTime": {
     "end_time": "2024-01-09T16:31:28.251774Z",
     "start_time": "2024-01-09T16:31:28.238903Z"
    }
   },
   "outputs": [
    {
     "data": {
      "text/html": [
       "<div>\n",
       "<style scoped>\n",
       "    .dataframe tbody tr th:only-of-type {\n",
       "        vertical-align: middle;\n",
       "    }\n",
       "\n",
       "    .dataframe tbody tr th {\n",
       "        vertical-align: top;\n",
       "    }\n",
       "\n",
       "    .dataframe thead th {\n",
       "        text-align: right;\n",
       "    }\n",
       "</style>\n",
       "<table border=\"1\" class=\"dataframe\">\n",
       "  <thead>\n",
       "    <tr style=\"text-align: right;\">\n",
       "      <th></th>\n",
       "      <th>date</th>\n",
       "      <th>ticker</th>\n",
       "      <th>corp_name</th>\n",
       "      <th>market</th>\n",
       "      <th>close</th>\n",
       "      <th>5_20_cross</th>\n",
       "      <th>20_60_cross</th>\n",
       "      <th>array</th>\n",
       "      <th>Bollinger_band</th>\n",
       "      <th>MACD</th>\n",
       "      <th>RSI</th>\n",
       "    </tr>\n",
       "  </thead>\n",
       "  <tbody>\n",
       "    <tr>\n",
       "      <th>0</th>\n",
       "      <td>2024-01-05 00:00:00+00:00</td>\n",
       "      <td>005930</td>\n",
       "      <td>삼성전자</td>\n",
       "      <td>KOSPI</td>\n",
       "      <td>76600</td>\n",
       "      <td>-</td>\n",
       "      <td>-</td>\n",
       "      <td>정배열(매수)</td>\n",
       "      <td>-</td>\n",
       "      <td>-</td>\n",
       "      <td>-</td>\n",
       "    </tr>\n",
       "    <tr>\n",
       "      <th>1</th>\n",
       "      <td>2024-01-05 00:00:00+00:00</td>\n",
       "      <td>000660</td>\n",
       "      <td>SK하이닉스</td>\n",
       "      <td>KOSPI</td>\n",
       "      <td>137500</td>\n",
       "      <td>-</td>\n",
       "      <td>-</td>\n",
       "      <td>정배열(매수)</td>\n",
       "      <td>-</td>\n",
       "      <td>-</td>\n",
       "      <td>-</td>\n",
       "    </tr>\n",
       "  </tbody>\n",
       "</table>\n",
       "</div>"
      ],
      "text/plain": [
       "                       date  ticker corp_name market   close 5_20_cross  \\\n",
       "0 2024-01-05 00:00:00+00:00  005930      삼성전자  KOSPI   76600          -   \n",
       "1 2024-01-05 00:00:00+00:00  000660    SK하이닉스  KOSPI  137500          -   \n",
       "\n",
       "  20_60_cross    array Bollinger_band MACD RSI  \n",
       "0           -  정배열(매수)              -    -   -  \n",
       "1           -  정배열(매수)              -    -   -  "
      ]
     },
     "execution_count": 39,
     "metadata": {},
     "output_type": "execute_result"
    }
   ],
   "source": [
    "buy_sell_count_kospi.head(2)"
   ]
  },
  {
   "cell_type": "code",
   "execution_count": 40,
   "id": "ae534ff4",
   "metadata": {
    "ExecuteTime": {
     "end_time": "2024-01-09T16:31:28.433428Z",
     "start_time": "2024-01-09T16:31:28.408181Z"
    }
   },
   "outputs": [
    {
     "data": {
      "text/html": [
       "<div>\n",
       "<style scoped>\n",
       "    .dataframe tbody tr th:only-of-type {\n",
       "        vertical-align: middle;\n",
       "    }\n",
       "\n",
       "    .dataframe tbody tr th {\n",
       "        vertical-align: top;\n",
       "    }\n",
       "\n",
       "    .dataframe thead th {\n",
       "        text-align: right;\n",
       "    }\n",
       "</style>\n",
       "<table border=\"1\" class=\"dataframe\">\n",
       "  <thead>\n",
       "    <tr style=\"text-align: right;\">\n",
       "      <th></th>\n",
       "      <th>date</th>\n",
       "      <th>open</th>\n",
       "      <th>high</th>\n",
       "      <th>low</th>\n",
       "      <th>close</th>\n",
       "      <th>volume</th>\n",
       "      <th>trading_value</th>\n",
       "      <th>market_cap</th>\n",
       "      <th>index_code</th>\n",
       "      <th>index_code_nm</th>\n",
       "      <th>...</th>\n",
       "      <th>MACD_Signal</th>\n",
       "      <th>변화량</th>\n",
       "      <th>상승폭</th>\n",
       "      <th>하락폭</th>\n",
       "      <th>AU</th>\n",
       "      <th>AD</th>\n",
       "      <th>RSI</th>\n",
       "      <th>MA5-20</th>\n",
       "      <th>MA20-60</th>\n",
       "      <th>MA60-120</th>\n",
       "    </tr>\n",
       "  </thead>\n",
       "  <tbody>\n",
       "    <tr>\n",
       "      <th>0</th>\n",
       "      <td>2023-01-02 00:00:00+00:00</td>\n",
       "      <td>2249.95</td>\n",
       "      <td>2259.88</td>\n",
       "      <td>2222.37</td>\n",
       "      <td>2225.67</td>\n",
       "      <td>346344799</td>\n",
       "      <td>5200137586818</td>\n",
       "      <td>1759241799519040</td>\n",
       "      <td>1001</td>\n",
       "      <td>코스피</td>\n",
       "      <td>...</td>\n",
       "      <td>-19.659065</td>\n",
       "      <td>-10.73</td>\n",
       "      <td>0.0</td>\n",
       "      <td>10.73</td>\n",
       "      <td>6.386393</td>\n",
       "      <td>15.439962</td>\n",
       "      <td>29.260008</td>\n",
       "      <td>-66.4275</td>\n",
       "      <td>-0.274167</td>\n",
       "      <td>-23.95300</td>\n",
       "    </tr>\n",
       "    <tr>\n",
       "      <th>1</th>\n",
       "      <td>2023-01-03 00:00:00+00:00</td>\n",
       "      <td>2230.98</td>\n",
       "      <td>2230.98</td>\n",
       "      <td>2180.67</td>\n",
       "      <td>2218.68</td>\n",
       "      <td>410245325</td>\n",
       "      <td>6149082624890</td>\n",
       "      <td>1753771077018843</td>\n",
       "      <td>1001</td>\n",
       "      <td>코스피</td>\n",
       "      <td>...</td>\n",
       "      <td>-23.522861</td>\n",
       "      <td>-6.99</td>\n",
       "      <td>0.0</td>\n",
       "      <td>6.99</td>\n",
       "      <td>5.930222</td>\n",
       "      <td>14.836394</td>\n",
       "      <td>28.556518</td>\n",
       "      <td>-76.0875</td>\n",
       "      <td>-10.070167</td>\n",
       "      <td>-23.17575</td>\n",
       "    </tr>\n",
       "  </tbody>\n",
       "</table>\n",
       "<p>2 rows × 29 columns</p>\n",
       "</div>"
      ],
      "text/plain": [
       "                       date     open     high      low    close     volume  \\\n",
       "0 2023-01-02 00:00:00+00:00  2249.95  2259.88  2222.37  2225.67  346344799   \n",
       "1 2023-01-03 00:00:00+00:00  2230.98  2230.98  2180.67  2218.68  410245325   \n",
       "\n",
       "   trading_value        market_cap index_code index_code_nm  ... MACD_Signal  \\\n",
       "0  5200137586818  1759241799519040       1001           코스피  ...  -19.659065   \n",
       "1  6149082624890  1753771077018843       1001           코스피  ...  -23.522861   \n",
       "\n",
       "     변화량  상승폭    하락폭        AU         AD        RSI   MA5-20    MA20-60  \\\n",
       "0 -10.73  0.0  10.73  6.386393  15.439962  29.260008 -66.4275  -0.274167   \n",
       "1  -6.99  0.0   6.99  5.930222  14.836394  28.556518 -76.0875 -10.070167   \n",
       "\n",
       "   MA60-120  \n",
       "0 -23.95300  \n",
       "1 -23.17575  \n",
       "\n",
       "[2 rows x 29 columns]"
      ]
     },
     "execution_count": 40,
     "metadata": {},
     "output_type": "execute_result"
    }
   ],
   "source": [
    "kor_index_ohlcv_cleaning.head(2)"
   ]
  },
  {
   "cell_type": "code",
   "execution_count": 41,
   "id": "2ebb09cf",
   "metadata": {
    "ExecuteTime": {
     "end_time": "2024-01-09T16:31:28.912942Z",
     "start_time": "2024-01-09T16:31:28.899674Z"
    }
   },
   "outputs": [
    {
     "data": {
      "text/html": [
       "<div>\n",
       "<style scoped>\n",
       "    .dataframe tbody tr th:only-of-type {\n",
       "        vertical-align: middle;\n",
       "    }\n",
       "\n",
       "    .dataframe tbody tr th {\n",
       "        vertical-align: top;\n",
       "    }\n",
       "\n",
       "    .dataframe thead th {\n",
       "        text-align: right;\n",
       "    }\n",
       "</style>\n",
       "<table border=\"1\" class=\"dataframe\">\n",
       "  <thead>\n",
       "    <tr style=\"text-align: right;\">\n",
       "      <th></th>\n",
       "      <th>date</th>\n",
       "      <th>index_code</th>\n",
       "      <th>index_code_nm</th>\n",
       "      <th>market</th>\n",
       "      <th>close</th>\n",
       "      <th>5_20_cross</th>\n",
       "      <th>20_60_cross</th>\n",
       "      <th>array</th>\n",
       "      <th>Bollinger_band</th>\n",
       "      <th>MACD</th>\n",
       "      <th>RSI</th>\n",
       "    </tr>\n",
       "  </thead>\n",
       "  <tbody>\n",
       "    <tr>\n",
       "      <th>0</th>\n",
       "      <td>2023-01-02 00:00:00+00:00</td>\n",
       "      <td>1001</td>\n",
       "      <td>코스피</td>\n",
       "      <td>KOSPI</td>\n",
       "      <td>2225.67</td>\n",
       "      <td>-</td>\n",
       "      <td>데드크로스(매도)</td>\n",
       "      <td>역배열(매도)</td>\n",
       "      <td>-</td>\n",
       "      <td>-</td>\n",
       "      <td>RSI 하단 상향 돌파(매수)</td>\n",
       "    </tr>\n",
       "    <tr>\n",
       "      <th>1</th>\n",
       "      <td>2023-01-03 00:00:00+00:00</td>\n",
       "      <td>1001</td>\n",
       "      <td>코스피</td>\n",
       "      <td>KOSPI</td>\n",
       "      <td>2218.68</td>\n",
       "      <td>-</td>\n",
       "      <td>-</td>\n",
       "      <td>역배열(매도)</td>\n",
       "      <td>-</td>\n",
       "      <td>-</td>\n",
       "      <td>-</td>\n",
       "    </tr>\n",
       "  </tbody>\n",
       "</table>\n",
       "</div>"
      ],
      "text/plain": [
       "                       date index_code index_code_nm market    close  \\\n",
       "0 2023-01-02 00:00:00+00:00       1001           코스피  KOSPI  2225.67   \n",
       "1 2023-01-03 00:00:00+00:00       1001           코스피  KOSPI  2218.68   \n",
       "\n",
       "  5_20_cross 20_60_cross    array Bollinger_band MACD               RSI  \n",
       "0          -   데드크로스(매도)  역배열(매도)              -    -  RSI 하단 상향 돌파(매수)  \n",
       "1          -           -  역배열(매도)              -    -                 -  "
      ]
     },
     "execution_count": 41,
     "metadata": {},
     "output_type": "execute_result"
    }
   ],
   "source": [
    "kor_index_ohlcv_anal_cleaning.head(2)"
   ]
  },
  {
   "cell_type": "markdown",
   "id": "862ced8e",
   "metadata": {},
   "source": [
    "### 상황 단일주가 (삼성전자\n",
    "\n",
    "- trading 추가"
   ]
  },
  {
   "cell_type": "code",
   "execution_count": 47,
   "id": "16fca71c",
   "metadata": {
    "ExecuteTime": {
     "end_time": "2024-01-09T16:33:04.760595Z",
     "start_time": "2024-01-09T16:33:04.757315Z"
    }
   },
   "outputs": [],
   "source": [
    "ticker_nm = '005930'"
   ]
  },
  {
   "cell_type": "markdown",
   "id": "fe0d6f20",
   "metadata": {},
   "source": [
    "#### 주가 등락률"
   ]
  },
  {
   "cell_type": "code",
   "execution_count": 169,
   "id": "35c57f7d",
   "metadata": {
    "ExecuteTime": {
     "end_time": "2024-01-09T17:33:13.122380Z",
     "start_time": "2024-01-09T17:33:13.093586Z"
    }
   },
   "outputs": [],
   "source": [
    "kor_stock_ohlcv_kospi_sample = kor_stock_ohlcv_kospi[kor_stock_ohlcv_kospi['ticker'] == ticker_nm]"
   ]
  },
  {
   "cell_type": "code",
   "execution_count": 171,
   "id": "9ae4215b",
   "metadata": {
    "ExecuteTime": {
     "end_time": "2024-01-09T17:33:16.589687Z",
     "start_time": "2024-01-09T17:33:16.523434Z"
    }
   },
   "outputs": [
    {
     "data": {
      "text/html": [
       "<div>\n",
       "<style scoped>\n",
       "    .dataframe tbody tr th:only-of-type {\n",
       "        vertical-align: middle;\n",
       "    }\n",
       "\n",
       "    .dataframe tbody tr th {\n",
       "        vertical-align: top;\n",
       "    }\n",
       "\n",
       "    .dataframe thead th {\n",
       "        text-align: right;\n",
       "    }\n",
       "</style>\n",
       "<table border=\"1\" class=\"dataframe\">\n",
       "  <thead>\n",
       "    <tr style=\"text-align: right;\">\n",
       "      <th></th>\n",
       "      <th>date</th>\n",
       "      <th>ticker</th>\n",
       "      <th>corp_name</th>\n",
       "      <th>variable</th>\n",
       "      <th>value</th>\n",
       "    </tr>\n",
       "  </thead>\n",
       "  <tbody>\n",
       "    <tr>\n",
       "      <th>0</th>\n",
       "      <td>2024-01-05 00:00:00+00:00</td>\n",
       "      <td>005930</td>\n",
       "      <td>삼성전자</td>\n",
       "      <td>per_30</td>\n",
       "      <td>4.217687</td>\n",
       "    </tr>\n",
       "    <tr>\n",
       "      <th>1</th>\n",
       "      <td>2024-01-05 00:00:00+00:00</td>\n",
       "      <td>005930</td>\n",
       "      <td>삼성전자</td>\n",
       "      <td>per_90</td>\n",
       "      <td>12.647059</td>\n",
       "    </tr>\n",
       "    <tr>\n",
       "      <th>2</th>\n",
       "      <td>2024-01-05 00:00:00+00:00</td>\n",
       "      <td>005930</td>\n",
       "      <td>삼성전자</td>\n",
       "      <td>per_180</td>\n",
       "      <td>4.502046</td>\n",
       "    </tr>\n",
       "    <tr>\n",
       "      <th>3</th>\n",
       "      <td>2024-01-05 00:00:00+00:00</td>\n",
       "      <td>005930</td>\n",
       "      <td>삼성전자</td>\n",
       "      <td>per_240</td>\n",
       "      <td>17.125382</td>\n",
       "    </tr>\n",
       "    <tr>\n",
       "      <th>4</th>\n",
       "      <td>2024-01-05 00:00:00+00:00</td>\n",
       "      <td>005930</td>\n",
       "      <td>삼성전자</td>\n",
       "      <td>per_365</td>\n",
       "      <td>26.611570</td>\n",
       "    </tr>\n",
       "  </tbody>\n",
       "</table>\n",
       "</div>"
      ],
      "text/plain": [
       "                       date  ticker corp_name variable      value\n",
       "0 2024-01-05 00:00:00+00:00  005930      삼성전자   per_30   4.217687\n",
       "1 2024-01-05 00:00:00+00:00  005930      삼성전자   per_90  12.647059\n",
       "2 2024-01-05 00:00:00+00:00  005930      삼성전자  per_180   4.502046\n",
       "3 2024-01-05 00:00:00+00:00  005930      삼성전자  per_240  17.125382\n",
       "4 2024-01-05 00:00:00+00:00  005930      삼성전자  per_365  26.611570"
      ]
     },
     "execution_count": 171,
     "metadata": {},
     "output_type": "execute_result"
    }
   ],
   "source": [
    "df1_set = kor_stock_ohlcv_kospi_sample[['ticker', 'date', 'close', 'corp_name']]\n",
    "df1_set = df1_set[df1_set['date'] == '2024-01-05']\n",
    "\n",
    "df1 =  kor_stock_ohlcv_kospi_sample[kor_stock_ohlcv_kospi_sample['date'] > set_date].groupby(\"ticker\")['date'].min().reset_index()\n",
    "\n",
    "diff_date_list = [30, 90, 180, 240, 365]\n",
    "for diff_date in diff_date_list:\n",
    "# diff_date = 240\n",
    "    now = datetime.now()\n",
    "    now = now + timedelta(days=-diff_date)\n",
    "    set_date = now.strftime('%Y-%m-%d')\n",
    "    df1 =  kor_stock_ohlcv_kospi_sample[kor_stock_ohlcv_kospi_sample['date'] > set_date].groupby(\"ticker\")['date'].min().reset_index()\n",
    "\n",
    "    \n",
    "    df1 = df1[['ticker','date']]\n",
    "    df1 = pd.merge(df1, kor_stock_ohlcv_kospi_sample[['ticker', 'date', 'close']],\n",
    "                  on = ['ticker', 'date'], \n",
    "                  how = 'left')\n",
    "    \n",
    "    df1.columns = ['ticker', f'date_{diff_date}', f'close_{diff_date}']\n",
    "\n",
    "    df1_set = pd.merge(df1_set, df1, \n",
    "                      on = 'ticker', \n",
    "                      how = 'left')\n",
    "\n",
    "    df1_set[f'per_{diff_date}'] = (df1_set['close'] - df1_set[f'close_{diff_date}']) / df1_set[f'close_{diff_date}'] * 100\n",
    "\n",
    "df1_set_2 = df1_set[['date','ticker','per_30', 'per_90', 'per_180', 'per_240', 'per_365', 'corp_name']]\n",
    "df1_set_2\n",
    "\n",
    "df1_set_3 = pd.melt(df1_set_2, \n",
    "        id_vars= ['date', 'ticker', 'corp_name'], \n",
    "        value_vars=['per_30', 'per_90', 'per_180', 'per_240','per_365'])    \n",
    "\n",
    "stock_per_set = df1_set_3\n",
    "stock_per_set"
   ]
  },
  {
   "cell_type": "markdown",
   "id": "a88d4902",
   "metadata": {},
   "source": [
    "#### 주가 보조지표 매수/매도 "
   ]
  },
  {
   "cell_type": "code",
   "execution_count": 172,
   "id": "d5191155",
   "metadata": {
    "ExecuteTime": {
     "end_time": "2024-01-09T17:33:20.713304Z",
     "start_time": "2024-01-09T17:33:20.688177Z"
    }
   },
   "outputs": [],
   "source": [
    "dfdf = kor_stock_ohlcv_anal_kospi[kor_stock_ohlcv_anal_kospi['ticker'] == ticker_nm].tail(1)"
   ]
  },
  {
   "cell_type": "code",
   "execution_count": 185,
   "id": "3c8c0b63",
   "metadata": {
    "ExecuteTime": {
     "end_time": "2024-01-09T17:35:04.196522Z",
     "start_time": "2024-01-09T17:35:04.179719Z"
    }
   },
   "outputs": [
    {
     "data": {
      "text/html": [
       "<div>\n",
       "<style scoped>\n",
       "    .dataframe tbody tr th:only-of-type {\n",
       "        vertical-align: middle;\n",
       "    }\n",
       "\n",
       "    .dataframe tbody tr th {\n",
       "        vertical-align: top;\n",
       "    }\n",
       "\n",
       "    .dataframe thead th {\n",
       "        text-align: right;\n",
       "    }\n",
       "</style>\n",
       "<table border=\"1\" class=\"dataframe\">\n",
       "  <thead>\n",
       "    <tr style=\"text-align: right;\">\n",
       "      <th></th>\n",
       "      <th>date</th>\n",
       "      <th>ticker</th>\n",
       "      <th>corp_name</th>\n",
       "      <th>variable</th>\n",
       "      <th>value</th>\n",
       "    </tr>\n",
       "  </thead>\n",
       "  <tbody>\n",
       "    <tr>\n",
       "      <th>2</th>\n",
       "      <td>2024-01-05 00:00:00+00:00</td>\n",
       "      <td>005930</td>\n",
       "      <td>삼성전자</td>\n",
       "      <td>array</td>\n",
       "      <td>정배열(매수)</td>\n",
       "    </tr>\n",
       "  </tbody>\n",
       "</table>\n",
       "</div>"
      ],
      "text/plain": [
       "                       date  ticker corp_name variable    value\n",
       "2 2024-01-05 00:00:00+00:00  005930      삼성전자    array  정배열(매수)"
      ]
     },
     "execution_count": 185,
     "metadata": {},
     "output_type": "execute_result"
    }
   ],
   "source": [
    "# pd.wide_to_long(dfdf, stubnames='ht', i=['date', 'ticker','corp_name','market','close'], j='age')\n",
    "dfdf2 = pd.melt(dfdf, \n",
    "        id_vars= ['date', 'ticker', 'corp_name'], \n",
    "        value_vars=['5_20_cross', '20_60_cross', 'array', 'Bollinger_band','MACD','RSI'])\n",
    "stock_indicator = dfdf2[dfdf2['value'] != '-']\n",
    "stock_indicator"
   ]
  },
  {
   "cell_type": "markdown",
   "id": "259a00bd",
   "metadata": {},
   "source": [
    "#### 주가 매칭 인덱스"
   ]
  },
  {
   "cell_type": "code",
   "execution_count": 65,
   "id": "9091dd3b",
   "metadata": {
    "ExecuteTime": {
     "end_time": "2024-01-09T16:43:34.761537Z",
     "start_time": "2024-01-09T16:43:34.748510Z"
    }
   },
   "outputs": [
    {
     "data": {
      "text/html": [
       "<div>\n",
       "<style scoped>\n",
       "    .dataframe tbody tr th:only-of-type {\n",
       "        vertical-align: middle;\n",
       "    }\n",
       "\n",
       "    .dataframe tbody tr th {\n",
       "        vertical-align: top;\n",
       "    }\n",
       "\n",
       "    .dataframe thead th {\n",
       "        text-align: right;\n",
       "    }\n",
       "</style>\n",
       "<table border=\"1\" class=\"dataframe\">\n",
       "  <thead>\n",
       "    <tr style=\"text-align: right;\">\n",
       "      <th></th>\n",
       "      <th>ticker</th>\n",
       "      <th>index_code</th>\n",
       "      <th>index_code_nm</th>\n",
       "      <th>market</th>\n",
       "      <th>corp_name</th>\n",
       "    </tr>\n",
       "  </thead>\n",
       "  <tbody>\n",
       "    <tr>\n",
       "      <th>0</th>\n",
       "      <td>005930</td>\n",
       "      <td>1001</td>\n",
       "      <td>코스피</td>\n",
       "      <td>KOSPI</td>\n",
       "      <td>삼성전자</td>\n",
       "    </tr>\n",
       "    <tr>\n",
       "      <th>1</th>\n",
       "      <td>005930</td>\n",
       "      <td>1013</td>\n",
       "      <td>전기전자</td>\n",
       "      <td>KOSPI</td>\n",
       "      <td>삼성전자</td>\n",
       "    </tr>\n",
       "    <tr>\n",
       "      <th>2</th>\n",
       "      <td>005930</td>\n",
       "      <td>1027</td>\n",
       "      <td>제조업</td>\n",
       "      <td>KOSPI</td>\n",
       "      <td>삼성전자</td>\n",
       "    </tr>\n",
       "  </tbody>\n",
       "</table>\n",
       "</div>"
      ],
      "text/plain": [
       "   ticker index_code index_code_nm market corp_name\n",
       "0  005930       1001           코스피  KOSPI      삼성전자\n",
       "1  005930       1013          전기전자  KOSPI      삼성전자\n",
       "2  005930       1027           제조업  KOSPI      삼성전자"
      ]
     },
     "execution_count": 65,
     "metadata": {},
     "output_type": "execute_result"
    }
   ],
   "source": [
    "ticker_index_code_df = index_code_master[index_code_master['ticker'] == ticker_nm].reset_index(drop = True)\n",
    "ticker_index_code_df"
   ]
  },
  {
   "cell_type": "markdown",
   "id": "6b8c5f56",
   "metadata": {},
   "source": [
    "#### 인덱스 등락률"
   ]
  },
  {
   "cell_type": "code",
   "execution_count": 178,
   "id": "8c7e315d",
   "metadata": {
    "ExecuteTime": {
     "end_time": "2024-01-09T17:33:48.210865Z",
     "start_time": "2024-01-09T17:33:48.203361Z"
    }
   },
   "outputs": [],
   "source": [
    "kor_index_ohlcv_cleaning_sample = kor_index_ohlcv_cleaning[kor_index_ohlcv_cleaning['index_code'].isin(ticker_index_code_df['index_code'])]"
   ]
  },
  {
   "cell_type": "code",
   "execution_count": 180,
   "id": "3d23b440",
   "metadata": {
    "ExecuteTime": {
     "end_time": "2024-01-09T17:34:08.756388Z",
     "start_time": "2024-01-09T17:34:08.691429Z"
    }
   },
   "outputs": [
    {
     "data": {
      "text/html": [
       "<div>\n",
       "<style scoped>\n",
       "    .dataframe tbody tr th:only-of-type {\n",
       "        vertical-align: middle;\n",
       "    }\n",
       "\n",
       "    .dataframe tbody tr th {\n",
       "        vertical-align: top;\n",
       "    }\n",
       "\n",
       "    .dataframe thead th {\n",
       "        text-align: right;\n",
       "    }\n",
       "</style>\n",
       "<table border=\"1\" class=\"dataframe\">\n",
       "  <thead>\n",
       "    <tr style=\"text-align: right;\">\n",
       "      <th></th>\n",
       "      <th>date</th>\n",
       "      <th>index_code</th>\n",
       "      <th>index_code_nm</th>\n",
       "      <th>variable</th>\n",
       "      <th>value</th>\n",
       "    </tr>\n",
       "  </thead>\n",
       "  <tbody>\n",
       "    <tr>\n",
       "      <th>0</th>\n",
       "      <td>2024-01-05 00:00:00+00:00</td>\n",
       "      <td>1001</td>\n",
       "      <td>코스피</td>\n",
       "      <td>per_30</td>\n",
       "      <td>1.688578</td>\n",
       "    </tr>\n",
       "    <tr>\n",
       "      <th>3</th>\n",
       "      <td>2024-01-05 00:00:00+00:00</td>\n",
       "      <td>1001</td>\n",
       "      <td>코스피</td>\n",
       "      <td>per_90</td>\n",
       "      <td>4.964273</td>\n",
       "    </tr>\n",
       "    <tr>\n",
       "      <th>6</th>\n",
       "      <td>2024-01-05 00:00:00+00:00</td>\n",
       "      <td>1001</td>\n",
       "      <td>코스피</td>\n",
       "      <td>per_180</td>\n",
       "      <td>-1.562428</td>\n",
       "    </tr>\n",
       "    <tr>\n",
       "      <th>9</th>\n",
       "      <td>2024-01-05 00:00:00+00:00</td>\n",
       "      <td>1001</td>\n",
       "      <td>코스피</td>\n",
       "      <td>per_240</td>\n",
       "      <td>3.944780</td>\n",
       "    </tr>\n",
       "    <tr>\n",
       "      <th>12</th>\n",
       "      <td>2024-01-05 00:00:00+00:00</td>\n",
       "      <td>1001</td>\n",
       "      <td>코스피</td>\n",
       "      <td>per_365</td>\n",
       "      <td>9.262438</td>\n",
       "    </tr>\n",
       "  </tbody>\n",
       "</table>\n",
       "</div>"
      ],
      "text/plain": [
       "                        date index_code index_code_nm variable     value\n",
       "0  2024-01-05 00:00:00+00:00       1001           코스피   per_30  1.688578\n",
       "3  2024-01-05 00:00:00+00:00       1001           코스피   per_90  4.964273\n",
       "6  2024-01-05 00:00:00+00:00       1001           코스피  per_180 -1.562428\n",
       "9  2024-01-05 00:00:00+00:00       1001           코스피  per_240  3.944780\n",
       "12 2024-01-05 00:00:00+00:00       1001           코스피  per_365  9.262438"
      ]
     },
     "execution_count": 180,
     "metadata": {},
     "output_type": "execute_result"
    }
   ],
   "source": [
    "# df1_set =  ohlcv_df_raw[ohlcv_df_raw['date'] > '2023-10-01'].groupby(\"ticker\")['date'].max().reset_index()\n",
    "df1_set =  kor_index_ohlcv_cleaning_sample.groupby(\"index_code\")['date'].max().reset_index()\n",
    "df1_set = df1_set[['index_code', 'date']]\n",
    "df1_set = pd.merge(df1_set, kor_index_ohlcv_cleaning_sample[['index_code', 'date', 'close', 'index_code_nm']],\n",
    "              on = ['index_code', 'date'], \n",
    "              how = 'left')\n",
    "\n",
    "\n",
    "\n",
    "diff_date_list = [30, 90, 180, 240, 365]\n",
    "for diff_date in diff_date_list:\n",
    "# diff_date = 240\n",
    "    now = datetime.now()\n",
    "    now = now + timedelta(days=-diff_date)\n",
    "    set_date = now.strftime('%Y-%m-%d')\n",
    "    df1 =  kor_index_ohlcv_cleaning_sample[kor_index_ohlcv_cleaning_sample['date'] > set_date].groupby(\"index_code\")['date'].min().reset_index()\n",
    "\n",
    "    \n",
    "    df1 = df1[['index_code','date']]\n",
    "    df1 = pd.merge(df1, kor_index_ohlcv_cleaning_sample[['index_code', 'date', 'close']],\n",
    "                  on = ['index_code', 'date'], \n",
    "                  how = 'left')\n",
    "    \n",
    "    df1.columns = ['index_code', f'date_{diff_date}', f'close_{diff_date}']\n",
    "\n",
    "    df1_set = pd.merge(df1_set, df1, \n",
    "                      on = 'index_code', \n",
    "                      how = 'left')\n",
    "\n",
    "    df1_set[f'per_{diff_date}'] = (df1_set['close'] - df1_set[f'close_{diff_date}']) / df1_set[f'close_{diff_date}'] * 100\n",
    "\n",
    "df1_set_2 = df1_set[['date','index_code','per_30', 'per_90', 'per_180', 'per_240', 'per_365', 'index_code_nm']]\n",
    "df1_set_2\n",
    "\n",
    "df1_set_3 = pd.melt(df1_set_2, \n",
    "        id_vars= ['date', 'index_code', 'index_code_nm'], \n",
    "        value_vars=['per_30', 'per_90', 'per_180', 'per_240','per_365'])    \n",
    "index_per = df1_set_3.sort_values(by = ['index_code'])\n",
    "index_per.head()"
   ]
  },
  {
   "cell_type": "markdown",
   "id": "e8b504cd",
   "metadata": {},
   "source": [
    "#### 인덱스 보조지표 매수/매도"
   ]
  },
  {
   "cell_type": "code",
   "execution_count": 166,
   "id": "53ffed1c",
   "metadata": {
    "ExecuteTime": {
     "end_time": "2024-01-09T17:32:41.753913Z",
     "start_time": "2024-01-09T17:32:41.746983Z"
    }
   },
   "outputs": [],
   "source": [
    "kor_index_ohlcv_anal_cleaning_df = kor_index_ohlcv_anal_cleaning[kor_index_ohlcv_anal_cleaning['index_code'].isin(ticker_index_code_df['index_code'])]\n"
   ]
  },
  {
   "cell_type": "code",
   "execution_count": 191,
   "id": "82b127d0",
   "metadata": {
    "ExecuteTime": {
     "end_time": "2024-01-09T17:39:53.076674Z",
     "start_time": "2024-01-09T17:39:53.061828Z"
    }
   },
   "outputs": [
    {
     "data": {
      "text/html": [
       "<div>\n",
       "<style scoped>\n",
       "    .dataframe tbody tr th:only-of-type {\n",
       "        vertical-align: middle;\n",
       "    }\n",
       "\n",
       "    .dataframe tbody tr th {\n",
       "        vertical-align: top;\n",
       "    }\n",
       "\n",
       "    .dataframe thead th {\n",
       "        text-align: right;\n",
       "    }\n",
       "</style>\n",
       "<table border=\"1\" class=\"dataframe\">\n",
       "  <thead>\n",
       "    <tr style=\"text-align: right;\">\n",
       "      <th></th>\n",
       "      <th>date</th>\n",
       "      <th>index_code</th>\n",
       "      <th>index_code_nm</th>\n",
       "      <th>market</th>\n",
       "      <th>close</th>\n",
       "      <th>5_20_cross</th>\n",
       "      <th>20_60_cross</th>\n",
       "      <th>array</th>\n",
       "      <th>Bollinger_band</th>\n",
       "      <th>MACD</th>\n",
       "      <th>RSI</th>\n",
       "    </tr>\n",
       "  </thead>\n",
       "  <tbody>\n",
       "    <tr>\n",
       "      <th>248</th>\n",
       "      <td>2024-01-05 00:00:00+00:00</td>\n",
       "      <td>1001</td>\n",
       "      <td>코스피</td>\n",
       "      <td>KOSPI</td>\n",
       "      <td>2578.08</td>\n",
       "      <td>-</td>\n",
       "      <td>-</td>\n",
       "      <td>-</td>\n",
       "      <td>-</td>\n",
       "      <td>하향돌파(매도)</td>\n",
       "      <td>-</td>\n",
       "    </tr>\n",
       "    <tr>\n",
       "      <th>3236</th>\n",
       "      <td>2024-01-05 00:00:00+00:00</td>\n",
       "      <td>1013</td>\n",
       "      <td>전기전자</td>\n",
       "      <td>KOSPI</td>\n",
       "      <td>27597.62</td>\n",
       "      <td>-</td>\n",
       "      <td>-</td>\n",
       "      <td>-</td>\n",
       "      <td>-</td>\n",
       "      <td>-</td>\n",
       "      <td>-</td>\n",
       "    </tr>\n",
       "    <tr>\n",
       "      <th>6224</th>\n",
       "      <td>2024-01-05 00:00:00+00:00</td>\n",
       "      <td>1027</td>\n",
       "      <td>제조업</td>\n",
       "      <td>KOSPI</td>\n",
       "      <td>6944.05</td>\n",
       "      <td>-</td>\n",
       "      <td>-</td>\n",
       "      <td>-</td>\n",
       "      <td>-</td>\n",
       "      <td>-</td>\n",
       "      <td>-</td>\n",
       "    </tr>\n",
       "  </tbody>\n",
       "</table>\n",
       "</div>"
      ],
      "text/plain": [
       "                          date index_code index_code_nm market     close  \\\n",
       "248  2024-01-05 00:00:00+00:00       1001           코스피  KOSPI   2578.08   \n",
       "3236 2024-01-05 00:00:00+00:00       1013          전기전자  KOSPI  27597.62   \n",
       "6224 2024-01-05 00:00:00+00:00       1027           제조업  KOSPI   6944.05   \n",
       "\n",
       "     5_20_cross 20_60_cross array Bollinger_band      MACD RSI  \n",
       "248           -           -     -              -  하향돌파(매도)   -  \n",
       "3236          -           -     -              -         -   -  \n",
       "6224          -           -     -              -         -   -  "
      ]
     },
     "execution_count": 191,
     "metadata": {},
     "output_type": "execute_result"
    }
   ],
   "source": [
    "max_date = max(kor_index_ohlcv_anal_cleaning_df['date'])\n",
    "kor_index_ohlcv_anal_cleaning_df_22 = kor_index_ohlcv_anal_cleaning_df[kor_index_ohlcv_anal_cleaning_df['date'] == max_date]\n"
   ]
  },
  {
   "cell_type": "code",
   "execution_count": 184,
   "id": "d9b5b575",
   "metadata": {
    "ExecuteTime": {
     "end_time": "2024-01-09T17:34:56.244060Z",
     "start_time": "2024-01-09T17:34:56.226453Z"
    }
   },
   "outputs": [],
   "source": [
    "# pd.wide_to_long(dfdf, stubnames='ht', i=['date', 'ticker','corp_name','market','close'], j='age')\n",
    "kor_index_ohlcv_anal_cleaning_df_2 = pd.melt(kor_index_ohlcv_anal_cleaning_df_22, \n",
    "        id_vars= ['date', 'index_code', 'index_code_nm'], \n",
    "        value_vars=['5_20_cross', '20_60_cross', 'array', 'Bollinger_band','MACD','RSI'])\n",
    "\n",
    "index_indicator = kor_index_ohlcv_anal_cleaning_df_2[kor_index_ohlcv_anal_cleaning_df_2['value'] != '-']"
   ]
  },
  {
   "cell_type": "markdown",
   "id": "e4055ab8",
   "metadata": {},
   "source": [
    "#### 최종"
   ]
  },
  {
   "cell_type": "code",
   "execution_count": 199,
   "id": "cda600af",
   "metadata": {
    "ExecuteTime": {
     "end_time": "2024-01-09T17:55:58.354191Z",
     "start_time": "2024-01-09T17:55:58.347783Z"
    }
   },
   "outputs": [],
   "source": [
    "df1 = pd.concat([stock_per_set,stock_indicator])\n",
    "df1.columns = ['date', 'code', 'code_nm', 'variable', 'value']"
   ]
  },
  {
   "cell_type": "code",
   "execution_count": 200,
   "id": "af2087ce",
   "metadata": {
    "ExecuteTime": {
     "end_time": "2024-01-09T17:55:58.580019Z",
     "start_time": "2024-01-09T17:55:58.573729Z"
    }
   },
   "outputs": [],
   "source": [
    "df2 = pd.concat([index_per,index_indicator])\n",
    "df2.columns = ['date', 'code', 'code_nm', 'variable', 'value']"
   ]
  },
  {
   "cell_type": "code",
   "execution_count": 235,
   "id": "7e9876dd",
   "metadata": {
    "ExecuteTime": {
     "end_time": "2024-01-09T18:04:44.300472Z",
     "start_time": "2024-01-09T18:04:44.295815Z"
    }
   },
   "outputs": [],
   "source": [
    "df3 = pd.concat([df1,df2]).reset_index(drop = True)"
   ]
  },
  {
   "cell_type": "code",
   "execution_count": 236,
   "id": "95e8bab3",
   "metadata": {
    "ExecuteTime": {
     "end_time": "2024-01-09T18:04:44.519122Z",
     "start_time": "2024-01-09T18:04:44.514861Z"
    }
   },
   "outputs": [],
   "source": [
    "df4 = df3[['code_nm', 'variable', 'value']]"
   ]
  },
  {
   "cell_type": "code",
   "execution_count": 237,
   "id": "e599d1d9",
   "metadata": {
    "ExecuteTime": {
     "end_time": "2024-01-09T18:04:44.828702Z",
     "start_time": "2024-01-09T18:04:44.820166Z"
    }
   },
   "outputs": [
    {
     "data": {
      "text/html": [
       "<div>\n",
       "<style scoped>\n",
       "    .dataframe tbody tr th:only-of-type {\n",
       "        vertical-align: middle;\n",
       "    }\n",
       "\n",
       "    .dataframe tbody tr th {\n",
       "        vertical-align: top;\n",
       "    }\n",
       "\n",
       "    .dataframe thead th {\n",
       "        text-align: right;\n",
       "    }\n",
       "</style>\n",
       "<table border=\"1\" class=\"dataframe\">\n",
       "  <thead>\n",
       "    <tr style=\"text-align: right;\">\n",
       "      <th></th>\n",
       "      <th>code_nm</th>\n",
       "      <th>variable</th>\n",
       "      <th>value</th>\n",
       "    </tr>\n",
       "  </thead>\n",
       "  <tbody>\n",
       "    <tr>\n",
       "      <th>0</th>\n",
       "      <td>삼성전자</td>\n",
       "      <td>per_30</td>\n",
       "      <td>4.217687</td>\n",
       "    </tr>\n",
       "    <tr>\n",
       "      <th>1</th>\n",
       "      <td>삼성전자</td>\n",
       "      <td>per_90</td>\n",
       "      <td>12.647059</td>\n",
       "    </tr>\n",
       "    <tr>\n",
       "      <th>2</th>\n",
       "      <td>삼성전자</td>\n",
       "      <td>per_180</td>\n",
       "      <td>4.502046</td>\n",
       "    </tr>\n",
       "    <tr>\n",
       "      <th>3</th>\n",
       "      <td>삼성전자</td>\n",
       "      <td>per_240</td>\n",
       "      <td>17.125382</td>\n",
       "    </tr>\n",
       "    <tr>\n",
       "      <th>4</th>\n",
       "      <td>삼성전자</td>\n",
       "      <td>per_365</td>\n",
       "      <td>26.61157</td>\n",
       "    </tr>\n",
       "    <tr>\n",
       "      <th>5</th>\n",
       "      <td>삼성전자</td>\n",
       "      <td>array</td>\n",
       "      <td>정배열(매수)</td>\n",
       "    </tr>\n",
       "    <tr>\n",
       "      <th>6</th>\n",
       "      <td>코스피</td>\n",
       "      <td>per_30</td>\n",
       "      <td>1.688578</td>\n",
       "    </tr>\n",
       "    <tr>\n",
       "      <th>7</th>\n",
       "      <td>코스피</td>\n",
       "      <td>per_90</td>\n",
       "      <td>4.964273</td>\n",
       "    </tr>\n",
       "    <tr>\n",
       "      <th>8</th>\n",
       "      <td>코스피</td>\n",
       "      <td>per_180</td>\n",
       "      <td>-1.562428</td>\n",
       "    </tr>\n",
       "    <tr>\n",
       "      <th>9</th>\n",
       "      <td>코스피</td>\n",
       "      <td>per_240</td>\n",
       "      <td>3.94478</td>\n",
       "    </tr>\n",
       "    <tr>\n",
       "      <th>10</th>\n",
       "      <td>코스피</td>\n",
       "      <td>per_365</td>\n",
       "      <td>9.262438</td>\n",
       "    </tr>\n",
       "    <tr>\n",
       "      <th>11</th>\n",
       "      <td>전기전자</td>\n",
       "      <td>per_30</td>\n",
       "      <td>3.334085</td>\n",
       "    </tr>\n",
       "    <tr>\n",
       "      <th>12</th>\n",
       "      <td>전기전자</td>\n",
       "      <td>per_90</td>\n",
       "      <td>6.763262</td>\n",
       "    </tr>\n",
       "    <tr>\n",
       "      <th>13</th>\n",
       "      <td>전기전자</td>\n",
       "      <td>per_180</td>\n",
       "      <td>-2.191732</td>\n",
       "    </tr>\n",
       "    <tr>\n",
       "      <th>14</th>\n",
       "      <td>전기전자</td>\n",
       "      <td>per_240</td>\n",
       "      <td>9.321707</td>\n",
       "    </tr>\n",
       "    <tr>\n",
       "      <th>15</th>\n",
       "      <td>전기전자</td>\n",
       "      <td>per_365</td>\n",
       "      <td>18.793198</td>\n",
       "    </tr>\n",
       "    <tr>\n",
       "      <th>16</th>\n",
       "      <td>제조업</td>\n",
       "      <td>per_30</td>\n",
       "      <td>2.828656</td>\n",
       "    </tr>\n",
       "    <tr>\n",
       "      <th>17</th>\n",
       "      <td>제조업</td>\n",
       "      <td>per_90</td>\n",
       "      <td>4.890103</td>\n",
       "    </tr>\n",
       "    <tr>\n",
       "      <th>18</th>\n",
       "      <td>제조업</td>\n",
       "      <td>per_180</td>\n",
       "      <td>-3.356877</td>\n",
       "    </tr>\n",
       "    <tr>\n",
       "      <th>19</th>\n",
       "      <td>제조업</td>\n",
       "      <td>per_240</td>\n",
       "      <td>4.383504</td>\n",
       "    </tr>\n",
       "    <tr>\n",
       "      <th>20</th>\n",
       "      <td>제조업</td>\n",
       "      <td>per_365</td>\n",
       "      <td>13.490275</td>\n",
       "    </tr>\n",
       "    <tr>\n",
       "      <th>21</th>\n",
       "      <td>코스피</td>\n",
       "      <td>MACD</td>\n",
       "      <td>하향돌파(매도)</td>\n",
       "    </tr>\n",
       "  </tbody>\n",
       "</table>\n",
       "</div>"
      ],
      "text/plain": [
       "   code_nm variable      value\n",
       "0     삼성전자   per_30   4.217687\n",
       "1     삼성전자   per_90  12.647059\n",
       "2     삼성전자  per_180   4.502046\n",
       "3     삼성전자  per_240  17.125382\n",
       "4     삼성전자  per_365   26.61157\n",
       "5     삼성전자    array    정배열(매수)\n",
       "6      코스피   per_30   1.688578\n",
       "7      코스피   per_90   4.964273\n",
       "8      코스피  per_180  -1.562428\n",
       "9      코스피  per_240    3.94478\n",
       "10     코스피  per_365   9.262438\n",
       "11    전기전자   per_30   3.334085\n",
       "12    전기전자   per_90   6.763262\n",
       "13    전기전자  per_180  -2.191732\n",
       "14    전기전자  per_240   9.321707\n",
       "15    전기전자  per_365  18.793198\n",
       "16     제조업   per_30   2.828656\n",
       "17     제조업   per_90   4.890103\n",
       "18     제조업  per_180  -3.356877\n",
       "19     제조업  per_240   4.383504\n",
       "20     제조업  per_365  13.490275\n",
       "21     코스피     MACD   하향돌파(매도)"
      ]
     },
     "execution_count": 237,
     "metadata": {},
     "output_type": "execute_result"
    }
   ],
   "source": [
    "df4"
   ]
  },
  {
   "cell_type": "code",
   "execution_count": 238,
   "id": "53dfe4d4",
   "metadata": {
    "ExecuteTime": {
     "end_time": "2024-01-09T18:04:45.275547Z",
     "start_time": "2024-01-09T18:04:45.270305Z"
    }
   },
   "outputs": [
    {
     "data": {
      "text/plain": [
       "Timestamp('2024-01-05 00:00:00+0000', tz='UTC')"
      ]
     },
     "execution_count": 238,
     "metadata": {},
     "output_type": "execute_result"
    }
   ],
   "source": [
    "df3['date'][0]"
   ]
  },
  {
   "cell_type": "code",
   "execution_count": 239,
   "id": "22ee5961",
   "metadata": {
    "ExecuteTime": {
     "end_time": "2024-01-09T18:04:46.723346Z",
     "start_time": "2024-01-09T18:04:46.717030Z"
    }
   },
   "outputs": [
    {
     "data": {
      "text/plain": [
       "'\\n- 날짜:2024-01-05 \\ncode_nm\\tvariable\\tvalue\\n0\\t삼성전자\\tper_30\\t4.217687\\n1\\t삼성전자\\tper_90\\t12.647059\\n2\\t삼성전자\\tper_180\\t4.502046\\n3\\t삼성전자\\tper_240\\t17.125382\\n4\\t삼성전자\\tper_365\\t26.61157\\n5\\t삼성전자\\tarray\\t정배열(매수)\\n6\\t코스피\\tper_30\\t1.688578\\n7\\t코스피\\tper_90\\t4.964273\\n8\\t코스피\\tper_180\\t-1.562428\\n9\\t코스피\\tper_240\\t3.94478\\n10\\t코스피\\tper_365\\t9.262438\\n11\\t전기전자\\tper_30\\t3.334085\\n12\\t전기전자\\tper_90\\t6.763262\\n13\\t전기전자\\tper_180\\t-2.191732\\n14\\t전기전자\\tper_240\\t9.321707\\n15\\t전기전자\\tper_365\\t18.793198\\n16\\t제조업\\tper_30\\t2.828656\\n17\\t제조업\\tper_90\\t4.890103\\n18\\t제조업\\tper_180\\t-3.356877\\n19\\t제조업\\tper_240\\t4.383504\\n20\\t제조업\\tper_365\\t13.490275\\n21\\t코스피\\tMACD\\t하향돌파(매도)\\n\\n\\n보고서 형태로 요약해줘 \\n'"
      ]
     },
     "execution_count": 239,
     "metadata": {},
     "output_type": "execute_result"
    }
   ],
   "source": []
  },
  {
   "cell_type": "markdown",
   "id": "b5a143a5",
   "metadata": {
    "ExecuteTime": {
     "end_time": "2024-01-09T17:35:10.755298Z",
     "start_time": "2024-01-09T17:35:10.742302Z"
    }
   },
   "source": [
    "### gemini "
   ]
  },
  {
   "cell_type": "code",
   "execution_count": 197,
   "id": "35dbb08c",
   "metadata": {
    "ExecuteTime": {
     "end_time": "2024-01-09T17:55:09.642267Z",
     "start_time": "2024-01-09T17:55:09.632460Z"
    }
   },
   "outputs": [],
   "source": [
    "import google.generativeai as genai\n",
    "\n",
    "api_key_df = pd.read_csv('key_value/chatgpt_apikey.csv')\n",
    "GOOGLE_API_KEY = api_key_df[api_key_df['corp'] == 'google'].reset_index()['api_key'][0]\n",
    "\n",
    "\n",
    "genai.configure(api_key=GOOGLE_API_KEY)\n",
    "\n",
    "# Set up the model\n",
    "generation_config = {\n",
    "  \"temperature\": 0.9,\n",
    "  \"top_p\": 1,\n",
    "  \"top_k\": 1,\n",
    "  \"max_output_tokens\": 2048,\n",
    "}\n",
    "\n",
    "model = genai.GenerativeModel('gemini-pro',\n",
    "                             generation_config=generation_config)"
   ]
  },
  {
   "cell_type": "code",
   "execution_count": 242,
   "id": "8c866b01",
   "metadata": {
    "ExecuteTime": {
     "end_time": "2024-01-09T18:05:23.658789Z",
     "start_time": "2024-01-09T18:05:23.652061Z"
    }
   },
   "outputs": [
    {
     "data": {
      "text/plain": [
       "'\\n- 날짜:2024-01-05 \\ncode_nm\\tvariable\\tvalue\\n0\\t삼성전자\\tper_30\\t4.217687\\n1\\t삼성전자\\tper_90\\t12.647059\\n2\\t삼성전자\\tper_180\\t4.502046\\n3\\t삼성전자\\tper_240\\t17.125382\\n4\\t삼성전자\\tper_365\\t26.61157\\n5\\t삼성전자\\tarray\\t정배열(매수)\\n6\\t코스피\\tper_30\\t1.688578\\n7\\t코스피\\tper_90\\t4.964273\\n8\\t코스피\\tper_180\\t-1.562428\\n9\\t코스피\\tper_240\\t3.94478\\n10\\t코스피\\tper_365\\t9.262438\\n11\\t전기전자\\tper_30\\t3.334085\\n12\\t전기전자\\tper_90\\t6.763262\\n13\\t전기전자\\tper_180\\t-2.191732\\n14\\t전기전자\\tper_240\\t9.321707\\n15\\t전기전자\\tper_365\\t18.793198\\n16\\t제조업\\tper_30\\t2.828656\\n17\\t제조업\\tper_90\\t4.890103\\n18\\t제조업\\tper_180\\t-3.356877\\n19\\t제조업\\tper_240\\t4.383504\\n20\\t제조업\\tper_365\\t13.490275\\n21\\t코스피\\tMACD\\t하향돌파(매도)\\n\\n\\n보고서 형태로 설명식으로 요약해줘. \\n'"
      ]
     },
     "execution_count": 242,
     "metadata": {},
     "output_type": "execute_result"
    }
   ],
   "source": [
    "date_nm = df3['date'][0].strftime('%Y-%m-%d')\n",
    "\n",
    "prompt = f\"\"\"\n",
    "- 날짜:{date_nm} \n",
    "code_nm\tvariable\tvalue\n",
    "0\t삼성전자\tper_30\t4.217687\n",
    "1\t삼성전자\tper_90\t12.647059\n",
    "2\t삼성전자\tper_180\t4.502046\n",
    "3\t삼성전자\tper_240\t17.125382\n",
    "4\t삼성전자\tper_365\t26.61157\n",
    "5\t삼성전자\tarray\t정배열(매수)\n",
    "6\t코스피\tper_30\t1.688578\n",
    "7\t코스피\tper_90\t4.964273\n",
    "8\t코스피\tper_180\t-1.562428\n",
    "9\t코스피\tper_240\t3.94478\n",
    "10\t코스피\tper_365\t9.262438\n",
    "11\t전기전자\tper_30\t3.334085\n",
    "12\t전기전자\tper_90\t6.763262\n",
    "13\t전기전자\tper_180\t-2.191732\n",
    "14\t전기전자\tper_240\t9.321707\n",
    "15\t전기전자\tper_365\t18.793198\n",
    "16\t제조업\tper_30\t2.828656\n",
    "17\t제조업\tper_90\t4.890103\n",
    "18\t제조업\tper_180\t-3.356877\n",
    "19\t제조업\tper_240\t4.383504\n",
    "20\t제조업\tper_365\t13.490275\n",
    "21\t코스피\tMACD\t하향돌파(매도)\n",
    "\n",
    "\n",
    "보고서 형태로 설명식으로 요약해줘. \n",
    "\"\"\"\n",
    "\n",
    "response = model.generate_content(prompt)\n",
    "print(response.text)"
   ]
  },
  {
   "cell_type": "code",
   "execution_count": 243,
   "id": "090897af",
   "metadata": {
    "ExecuteTime": {
     "end_time": "2024-01-09T18:05:37.653177Z",
     "start_time": "2024-01-09T18:05:26.559168Z"
    }
   },
   "outputs": [
    {
     "name": "stdout",
     "output_type": "stream",
     "text": [
      "**보고서**\n",
      "\n",
      "**날짜:** 2024년 1월 5일\n",
      "\n",
      "**주제:** 주식 시장 분석\n",
      "\n",
      "**내용:**\n",
      "\n",
      "삼성전자의 주가는 최근 30일 동안 4.21% 상승했고, 90일 동안은 12.64% 상승했으며, 180일 동안은 4.50% 상승했으며, 240일 동안은 17.12% 상승했으며, 365일 동안은 26.61% 상승했습니다. 해당 기간 동안 삼성전자는 정배열(매수)로 분석되었습니다.\n",
      "\n",
      "코스피 지수는 최근 30일 동안 1.68% 상승했고, 90일 동안은 4.96% 상승했으며, 180일 동안은 -1.56% 하락했으며, 240일 동안은 3.94% 상승했으며, 365일 동안은 9.26% 상승했습니다. 코스피 지수의 MACD는 하향 돌파(매도)로 나타났습니다.\n",
      "\n",
      "전기전자 산업의 주가는 최근 30일 동안 3.33% 상승했고, 90일 동안은 6.76% 상승했으며, 180일 동안은 -2.19% 하락했으며, 240일 동안은 9.32% 상승했으며, 365일 동안은 18.79% 상승했습니다.\n",
      "\n",
      "제조업 산업의 주가는 최근 30일 동안 2.82% 상승했고, 90일 동안은 4.89% 상승했으며, 180일 동안은 -3.35% 하락했으며, 240일 동안은 4.38% 상승했으며, 365일 동안은 13.49% 상승했습니다.\n",
      "\n",
      "**결론:**\n",
      "\n",
      "전반적으로 삼성전자, 코스피 지수, 전기전자 산업, 제조업 산업의 주가는 최근 상승세를 보였습니다. 그러나 코스피 지수의 MACD가 하향 돌파로 나타나 앞으로 주가가 하락할 가능성이 있으므로 주의가 필요합니다.\n"
     ]
    }
   ],
   "source": []
  },
  {
   "cell_type": "code",
   "execution_count": null,
   "id": "811f198b",
   "metadata": {},
   "outputs": [],
   "source": []
  }
 ],
 "metadata": {
  "kernelspec": {
   "display_name": "Python 3 (ipykernel)",
   "language": "python",
   "name": "python3"
  },
  "language_info": {
   "codemirror_mode": {
    "name": "ipython",
    "version": 3
   },
   "file_extension": ".py",
   "mimetype": "text/x-python",
   "name": "python",
   "nbconvert_exporter": "python",
   "pygments_lexer": "ipython3",
   "version": "3.11.3"
  },
  "toc": {
   "base_numbering": 1,
   "nav_menu": {},
   "number_sections": true,
   "sideBar": true,
   "skip_h1_title": false,
   "title_cell": "Table of Contents",
   "title_sidebar": "Contents",
   "toc_cell": false,
   "toc_position": {
    "height": "calc(100% - 180px)",
    "left": "10px",
    "top": "150px",
    "width": "242.587px"
   },
   "toc_section_display": true,
   "toc_window_display": true
  }
 },
 "nbformat": 4,
 "nbformat_minor": 5
}
