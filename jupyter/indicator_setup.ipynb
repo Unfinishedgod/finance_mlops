{
 "cells": [
  {
   "cell_type": "markdown",
   "id": "c490472c",
   "metadata": {
    "ExecuteTime": {
     "end_time": "2024-01-08T16:09:53.741997Z",
     "start_time": "2024-01-08T16:09:51.972138Z"
    }
   },
   "source": [
    "# 지표 정리\n",
    "\n",
    "#### 기본 세팅"
   ]
  },
  {
   "cell_type": "code",
   "execution_count": null,
   "id": "fdd35275",
   "metadata": {},
   "outputs": [],
   "source": [
    "import math\n",
    "import numpy as np\n",
    "import pandas as pd\n",
    "import os\n",
    "import glob\n",
    "\n",
    "from pykrx import stock\n",
    "from pykrx import bond\n",
    "\n",
    "import time\n",
    "from time import sleep\n",
    "from datetime import datetime\n",
    "from datetime import timedelta\n",
    "\n",
    "from pyarrow import csv\n",
    "import pyarrow as pa\n",
    "import pyarrow.parquet as pq\n",
    "\n",
    "from ta.trend import MACD\n",
    "from ta.momentum import StochasticOscillator\n",
    "\n",
    "import psycopg2 as pg2\n",
    "from sqlalchemy import create_engine\n",
    "\n",
    "from plotly.subplots import make_subplots\n",
    "import plotly.express as px\n",
    "import plotly.graph_objects as go\n",
    "\n",
    "from google.cloud import bigquery\n",
    "from google.oauth2 import service_account\n",
    "from google.cloud import storage\n",
    "\n",
    "\n",
    "import warnings\n",
    "warnings.filterwarnings('ignore')\n",
    "\n",
    "# 경로 변경\n",
    "os.chdir('/home/shjj08choi4/finance_mlops')\n",
    "\n",
    "\n",
    "# 서비스 계정 키 JSON 파일 경로\n",
    "key_path = glob.glob(\"key_value/*.json\")[0]\n",
    "\n",
    "# Credentials 객체 생성\n",
    "credentials = service_account.Credentials.from_service_account_file(key_path)\n",
    "\n",
    "# 빅쿼리 정보\n",
    "project_id = 'owenchoi-404302'\n",
    "dataset_id = 'finance_mlops'\n",
    "\n",
    "\n",
    "# BigQuery 클라이언트 객체 생성\n",
    "client = bigquery.Client(credentials = credentials, \n",
    "                         project = credentials.project_id)\n",
    "\n",
    "\n",
    "# GCP 클라이언트 객체 생성\n",
    "storage_client = storage.Client(credentials = credentials,\n",
    "                         project = credentials.project_id)\n",
    "bucket_name = 'finance-mlops-proj'    # 서비스 계정 생성한 bucket 이름 입력\n",
    "\n",
    "# Postgresql 연결\n",
    "db_connect_info = pd.read_csv('key_value/db_connect_info.csv')\n",
    "username = db_connect_info['username'][0]\n",
    "password = db_connect_info['password'][0]\n",
    "host = db_connect_info['host'][0]\n",
    "database = db_connect_info['database'][0]\n",
    "engine = create_engine(f'postgresql+psycopg2://{username}:{password}@{host}:5432/{database}')\n",
    "\n",
    "\n",
    "\n",
    "now = datetime.now()\n",
    "# now = now + timedelta(days=-2)\n",
    "today_date1 = now.strftime('%Y%m%d')\n",
    "today_date2 = now.strftime('%Y-%m-%d')\n",
    "today_date_time_csv = now.strftime(\"%Y%m%d_%H%M\")\n",
    "\n",
    "\n",
    "\n",
    "now = datetime.now()\n",
    "now = now + timedelta(days=-365 * 2)\n",
    "set_date_1 = now.strftime('%Y%m%d')\n",
    "query_date = now.strftime('%Y-%m-%d')"
   ]
  },
  {
   "cell_type": "markdown",
   "id": "0d542f50",
   "metadata": {},
   "source": [
    "### 데이터 "
   ]
  },
  {
   "cell_type": "code",
   "execution_count": null,
   "id": "fa4347bf",
   "metadata": {},
   "outputs": [],
   "source": []
  },
  {
   "cell_type": "code",
   "execution_count": null,
   "id": "b1a51ccf",
   "metadata": {},
   "outputs": [],
   "source": []
  },
  {
   "cell_type": "code",
   "execution_count": null,
   "id": "f9b38975",
   "metadata": {},
   "outputs": [],
   "source": []
  },
  {
   "cell_type": "code",
   "execution_count": null,
   "id": "e8e38229",
   "metadata": {},
   "outputs": [],
   "source": []
  },
  {
   "cell_type": "code",
   "execution_count": null,
   "id": "68985d6d",
   "metadata": {},
   "outputs": [],
   "source": []
  },
  {
   "cell_type": "code",
   "execution_count": null,
   "id": "c2e618ab",
   "metadata": {},
   "outputs": [],
   "source": []
  },
  {
   "cell_type": "code",
   "execution_count": null,
   "id": "34ef655a",
   "metadata": {},
   "outputs": [],
   "source": []
  },
  {
   "cell_type": "code",
   "execution_count": null,
   "id": "837c4302",
   "metadata": {},
   "outputs": [],
   "source": []
  },
  {
   "cell_type": "code",
   "execution_count": null,
   "id": "f3b13652",
   "metadata": {},
   "outputs": [],
   "source": []
  }
 ],
 "metadata": {
  "kernelspec": {
   "display_name": "Python 3 (ipykernel)",
   "language": "python",
   "name": "python3"
  },
  "language_info": {
   "codemirror_mode": {
    "name": "ipython",
    "version": 3
   },
   "file_extension": ".py",
   "mimetype": "text/x-python",
   "name": "python",
   "nbconvert_exporter": "python",
   "pygments_lexer": "ipython3",
   "version": "3.11.3"
  },
  "toc": {
   "base_numbering": 1,
   "nav_menu": {},
   "number_sections": true,
   "sideBar": true,
   "skip_h1_title": false,
   "title_cell": "Table of Contents",
   "title_sidebar": "Contents",
   "toc_cell": false,
   "toc_position": {
    "height": "calc(100% - 180px)",
    "left": "10px",
    "top": "150px",
    "width": "242.6px"
   },
   "toc_section_display": true,
   "toc_window_display": true
  }
 },
 "nbformat": 4,
 "nbformat_minor": 5
}
