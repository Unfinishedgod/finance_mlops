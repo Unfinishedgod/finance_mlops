{
 "cells": [
  {
   "cell_type": "markdown",
   "id": "d1029359",
   "metadata": {
    "ExecuteTime": {
     "end_time": "2024-01-08T16:09:53.741997Z",
     "start_time": "2024-01-08T16:09:51.972138Z"
    }
   },
   "source": [
    "# 지표 정리\n",
    "\n",
    "#### 기본 세팅"
   ]
  },
  {
   "cell_type": "code",
   "execution_count": 1,
   "id": "b7abafe2",
   "metadata": {
    "ExecuteTime": {
     "end_time": "2024-01-08T16:18:23.287483Z",
     "start_time": "2024-01-08T16:18:21.331534Z"
    }
   },
   "outputs": [],
   "source": [
    "import math\n",
    "import numpy as np\n",
    "import pandas as pd\n",
    "import os\n",
    "import glob\n",
    "\n",
    "from pykrx import stock\n",
    "from pykrx import bond\n",
    "\n",
    "import time\n",
    "from time import sleep\n",
    "from datetime import datetime\n",
    "from datetime import timedelta\n",
    "\n",
    "from pyarrow import csv\n",
    "import pyarrow as pa\n",
    "import pyarrow.parquet as pq\n",
    "\n",
    "from ta.trend import MACD\n",
    "from ta.momentum import StochasticOscillator\n",
    "\n",
    "import psycopg2 as pg2\n",
    "from sqlalchemy import create_engine\n",
    "\n",
    "from plotly.subplots import make_subplots\n",
    "import plotly.express as px\n",
    "import plotly.graph_objects as go\n",
    "\n",
    "from google.cloud import bigquery\n",
    "from google.oauth2 import service_account\n",
    "from google.cloud import storage\n",
    "\n",
    "\n",
    "import warnings\n",
    "warnings.filterwarnings('ignore')\n",
    "\n",
    "# 경로 변경\n",
    "os.chdir('/home/shjj08choi4/finance_mlops')\n",
    "\n",
    "\n",
    "# 서비스 계정 키 JSON 파일 경로\n",
    "key_path = glob.glob(\"key_value/*.json\")[0]\n",
    "\n",
    "# Credentials 객체 생성\n",
    "credentials = service_account.Credentials.from_service_account_file(key_path)\n",
    "\n",
    "# 빅쿼리 정보\n",
    "project_id = 'owenchoi-404302'\n",
    "dataset_id = 'finance_mlops'\n",
    "\n",
    "\n",
    "# BigQuery 클라이언트 객체 생성\n",
    "client = bigquery.Client(credentials = credentials, \n",
    "                         project = credentials.project_id)\n",
    "\n",
    "\n",
    "# GCP 클라이언트 객체 생성\n",
    "storage_client = storage.Client(credentials = credentials,\n",
    "                         project = credentials.project_id)\n",
    "bucket_name = 'finance-mlops-proj'    # 서비스 계정 생성한 bucket 이름 입력\n",
    "\n",
    "# Postgresql 연결\n",
    "db_connect_info = pd.read_csv('key_value/db_connect_info.csv')\n",
    "username = db_connect_info['username'][0]\n",
    "password = db_connect_info['password'][0]\n",
    "host = db_connect_info['host'][0]\n",
    "database = db_connect_info['database'][0]\n",
    "engine = create_engine(f'postgresql+psycopg2://{username}:{password}@{host}:5432/{database}')\n",
    "\n",
    "\n",
    "\n",
    "now = datetime.now()\n",
    "# now = now + timedelta(days=-2)\n",
    "today_date1 = now.strftime('%Y%m%d')\n",
    "today_date2 = now.strftime('%Y-%m-%d')\n",
    "today_date_time_csv = now.strftime(\"%Y%m%d_%H%M\")"
   ]
  },
  {
   "cell_type": "markdown",
   "id": "c41fee00",
   "metadata": {},
   "source": [
    "### 데이터 "
   ]
  },
  {
   "cell_type": "code",
   "execution_count": 5,
   "id": "4659f8c0",
   "metadata": {
    "ExecuteTime": {
     "end_time": "2024-01-08T16:18:40.923185Z",
     "start_time": "2024-01-08T16:18:40.916757Z"
    }
   },
   "outputs": [
    {
     "data": {
      "text/plain": [
       "['data_crawler/cleaning',\n",
       " 'data_crawler/kor_index_code_fundamental',\n",
       " 'data_crawler/index_code_master',\n",
       " 'data_crawler/kor_market_cap',\n",
       " 'data_crawler/ohlcv_df_raw.csv',\n",
       " 'data_crawler/sample.csv',\n",
       " 'data_crawler/snp500_daily',\n",
       " 'data_crawler/bitcoin',\n",
       " 'data_crawler/usd_krw',\n",
       " 'data_crawler/kor_stock_ohlcv',\n",
       " 'data_crawler/kor_ticker_list',\n",
       " 'data_crawler/kor_index_list_df',\n",
       " 'data_crawler/kor_index_ohlcv',\n",
       " 'data_crawler/cron_test_kor_ticker_list',\n",
       " 'data_crawler/kor_stock_fundamental',\n",
       " 'data_crawler/snp500_ticker_list',\n",
       " 'data_crawler/df_raw_total.csv']"
      ]
     },
     "execution_count": 5,
     "metadata": {},
     "output_type": "execute_result"
    }
   ],
   "source": [
    "glob.glob(\"data_crawler/*\")"
   ]
  },
  {
   "cell_type": "code",
   "execution_count": 4,
   "id": "539651e9",
   "metadata": {
    "ExecuteTime": {
     "end_time": "2024-01-08T16:18:34.812662Z",
     "start_time": "2024-01-08T16:18:34.805703Z"
    }
   },
   "outputs": [
    {
     "data": {
      "text/plain": [
       "['data_crawler/cleaning/bitcoin',\n",
       " 'data_crawler/cleaning/kor_stock_ohlcv',\n",
       " 'data_crawler/cleaning/kor_index_ohlcv']"
      ]
     },
     "execution_count": 4,
     "metadata": {},
     "output_type": "execute_result"
    }
   ],
   "source": [
    "glob.glob(\"data_crawler/cleaning/*\")"
   ]
  },
  {
   "cell_type": "code",
   "execution_count": 6,
   "id": "714d52ec",
   "metadata": {
    "ExecuteTime": {
     "end_time": "2024-01-08T17:08:50.051020Z",
     "start_time": "2024-01-08T17:08:50.043582Z"
    }
   },
   "outputs": [
    {
     "data": {
      "text/plain": [
       "['data_crawler/cleaning/kor_stock_ohlcv/kor_stock_ohlcv_anal_kosdaq.parquet',\n",
       " 'data_crawler/cleaning/kor_stock_ohlcv/buy_sell_count.parquet',\n",
       " 'data_crawler/cleaning/kor_stock_ohlcv/kor_stock_ohlcv_kosdaq.parquet',\n",
       " 'data_crawler/cleaning/kor_stock_ohlcv/buy_sell_count_kosdaq.parquet',\n",
       " 'data_crawler/cleaning/kor_stock_ohlcv/kor_stock_ohlcv_anal_kospi.parquet',\n",
       " 'data_crawler/cleaning/kor_stock_ohlcv/kor_stock_ohlcv_kospi.parquet',\n",
       " 'data_crawler/cleaning/kor_stock_ohlcv/buy_sell_count_kospi.parquet']"
      ]
     },
     "execution_count": 6,
     "metadata": {},
     "output_type": "execute_result"
    }
   ],
   "source": [
    "glob.glob(\"data_crawler/cleaning/kor_stock_ohlcv/*\")"
   ]
  },
  {
   "cell_type": "code",
   "execution_count": 7,
   "id": "ac9b6370",
   "metadata": {
    "ExecuteTime": {
     "end_time": "2024-01-08T17:09:02.761981Z",
     "start_time": "2024-01-08T17:09:02.755969Z"
    }
   },
   "outputs": [
    {
     "data": {
      "text/plain": [
       "['data_crawler/cleaning/kor_index_ohlcv/kor_index_ohlcv_cleaning.parquet',\n",
       " 'data_crawler/cleaning/kor_index_ohlcv/kor_index_ohlcv_anal_cleaning.parquet']"
      ]
     },
     "execution_count": 7,
     "metadata": {},
     "output_type": "execute_result"
    }
   ],
   "source": [
    "glob.glob(\"data_crawler/cleaning/kor_index_ohlcv/*\")"
   ]
  },
  {
   "cell_type": "code",
   "execution_count": 2,
   "id": "73f52206",
   "metadata": {
    "ExecuteTime": {
     "end_time": "2024-01-08T16:16:56.016297Z",
     "start_time": "2024-01-08T16:16:54.990505Z"
    }
   },
   "outputs": [],
   "source": [
    "t = pq.read_table('data_crawler/cleaning/kor_stock_ohlcv/df_raw_total_2_KOSPI_reset.parquet')\n",
    "df_raw_total_2_KOSPI_reset = t.to_pandas()"
   ]
  },
  {
   "cell_type": "code",
   "execution_count": 3,
   "id": "35c57f7d",
   "metadata": {
    "ExecuteTime": {
     "end_time": "2024-01-08T16:16:59.147118Z",
     "start_time": "2024-01-08T16:16:59.131092Z"
    }
   },
   "outputs": [],
   "source": [
    "df_raw_total_2_KOSPI_reset"
   ]
  },
  {
   "cell_type": "code",
   "execution_count": 11,
   "id": "d5191155",
   "metadata": {
    "ExecuteTime": {
     "end_time": "2024-01-08T16:17:45.999916Z",
     "start_time": "2024-01-08T16:17:45.995713Z"
    }
   },
   "outputs": [],
   "source": [
    "print('h')"
   ]
  },
  {
   "cell_type": "code",
   "execution_count": null,
   "id": "9091dd3b",
   "metadata": {},
   "outputs": [],
   "source": []
  },
  {
   "cell_type": "code",
   "execution_count": null,
   "id": "8c7e315d",
   "metadata": {},
   "outputs": [],
   "source": []
  },
  {
   "cell_type": "code",
   "execution_count": null,
   "id": "29b738d5",
   "metadata": {},
   "outputs": [],
   "source": []
  },
  {
   "cell_type": "code",
   "execution_count": null,
   "id": "cf7eccf7",
   "metadata": {},
   "outputs": [],
   "source": []
  },
  {
   "cell_type": "code",
   "execution_count": null,
   "id": "62574256",
   "metadata": {},
   "outputs": [],
   "source": []
  },
  {
   "cell_type": "code",
   "execution_count": null,
   "id": "cda600af",
   "metadata": {},
   "outputs": [],
   "source": []
  }
 ],
 "metadata": {
  "kernelspec": {
   "display_name": "Python 3 (ipykernel)",
   "language": "python",
   "name": "python3"
  },
  "language_info": {
   "codemirror_mode": {
    "name": "ipython",
    "version": 3
   },
   "file_extension": ".py",
   "mimetype": "text/x-python",
   "name": "python",
   "nbconvert_exporter": "python",
   "pygments_lexer": "ipython3",
   "version": "3.11.3"
  },
  "toc": {
   "base_numbering": 1,
   "nav_menu": {},
   "number_sections": true,
   "sideBar": true,
   "skip_h1_title": false,
   "title_cell": "Table of Contents",
   "title_sidebar": "Contents",
   "toc_cell": false,
   "toc_position": {
    "height": "calc(100% - 180px)",
    "left": "10px",
    "top": "150px",
    "width": "242.6px"
   },
   "toc_section_display": true,
   "toc_window_display": true
  }
 },
 "nbformat": 4,
 "nbformat_minor": 5
}
