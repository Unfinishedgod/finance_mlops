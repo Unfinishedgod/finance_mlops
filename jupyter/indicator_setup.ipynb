{
 "cells": [
  {
   "cell_type": "markdown",
   "id": "d1029359",
   "metadata": {
    "ExecuteTime": {
     "end_time": "2024-01-08T16:09:53.741997Z",
     "start_time": "2024-01-08T16:09:51.972138Z"
    }
   },
   "source": [
    "# 지표 정리\n",
    "\n",
    "#### 기본 세팅"
   ]
  },
  {
   "cell_type": "code",
   "execution_count": 1,
   "id": "b7abafe2",
   "metadata": {
    "ExecuteTime": {
     "end_time": "2024-01-09T02:45:22.759056Z",
     "start_time": "2024-01-09T02:45:20.312337Z"
    }
   },
   "outputs": [],
   "source": [
    "import math\n",
    "import numpy as np\n",
    "import pandas as pd\n",
    "import os\n",
    "import glob\n",
    "\n",
    "from pykrx import stock\n",
    "from pykrx import bond\n",
    "\n",
    "import time\n",
    "from time import sleep\n",
    "from datetime import datetime\n",
    "from datetime import timedelta\n",
    "\n",
    "from pyarrow import csv\n",
    "import pyarrow as pa\n",
    "import pyarrow.parquet as pq\n",
    "\n",
    "from ta.trend import MACD\n",
    "from ta.momentum import StochasticOscillator\n",
    "\n",
    "import psycopg2 as pg2\n",
    "from sqlalchemy import create_engine\n",
    "\n",
    "from plotly.subplots import make_subplots\n",
    "import plotly.express as px\n",
    "import plotly.graph_objects as go\n",
    "\n",
    "from google.cloud import bigquery\n",
    "from google.oauth2 import service_account\n",
    "from google.cloud import storage\n",
    "\n",
    "\n",
    "import warnings\n",
    "warnings.filterwarnings('ignore')\n",
    "\n",
    "# 경로 변경\n",
    "os.chdir('/home/shjj08choi4/finance_mlops')\n",
    "\n",
    "\n",
    "# 서비스 계정 키 JSON 파일 경로\n",
    "key_path = glob.glob(\"key_value/*.json\")[0]\n",
    "\n",
    "# Credentials 객체 생성\n",
    "credentials = service_account.Credentials.from_service_account_file(key_path)\n",
    "\n",
    "# 빅쿼리 정보\n",
    "project_id = 'owenchoi-404302'\n",
    "dataset_id = 'finance_mlops'\n",
    "\n",
    "\n",
    "# BigQuery 클라이언트 객체 생성\n",
    "client = bigquery.Client(credentials = credentials, \n",
    "                         project = credentials.project_id)\n",
    "\n",
    "\n",
    "# GCP 클라이언트 객체 생성\n",
    "storage_client = storage.Client(credentials = credentials,\n",
    "                         project = credentials.project_id)\n",
    "bucket_name = 'finance-mlops-proj'    # 서비스 계정 생성한 bucket 이름 입력\n",
    "\n",
    "# Postgresql 연결\n",
    "db_connect_info = pd.read_csv('key_value/db_connect_info.csv')\n",
    "username = db_connect_info['username'][0]\n",
    "password = db_connect_info['password'][0]\n",
    "host = db_connect_info['host'][0]\n",
    "database = db_connect_info['database'][0]\n",
    "engine = create_engine(f'postgresql+psycopg2://{username}:{password}@{host}:5432/{database}')\n",
    "\n",
    "\n",
    "\n",
    "now = datetime.now()\n",
    "# now = now + timedelta(days=-2)\n",
    "today_date1 = now.strftime('%Y%m%d')\n",
    "today_date2 = now.strftime('%Y-%m-%d')\n",
    "today_date_time_csv = now.strftime(\"%Y%m%d_%H%M\")"
   ]
  },
  {
   "cell_type": "markdown",
   "id": "c41fee00",
   "metadata": {},
   "source": [
    "### 데이터 "
   ]
  },
  {
   "cell_type": "code",
   "execution_count": 2,
   "id": "4659f8c0",
   "metadata": {
    "ExecuteTime": {
     "end_time": "2024-01-09T02:45:22.769409Z",
     "start_time": "2024-01-09T02:45:22.762235Z"
    }
   },
   "outputs": [
    {
     "data": {
      "text/plain": [
       "['data_crawler/cleaning',\n",
       " 'data_crawler/kor_index_code_fundamental',\n",
       " 'data_crawler/index_code_master',\n",
       " 'data_crawler/kor_market_cap',\n",
       " 'data_crawler/ohlcv_df_raw.csv',\n",
       " 'data_crawler/sample.csv',\n",
       " 'data_crawler/snp500_daily',\n",
       " 'data_crawler/bitcoin',\n",
       " 'data_crawler/usd_krw',\n",
       " 'data_crawler/kor_stock_ohlcv',\n",
       " 'data_crawler/kor_ticker_list',\n",
       " 'data_crawler/kor_index_list_df',\n",
       " 'data_crawler/kor_index_ohlcv',\n",
       " 'data_crawler/cron_test_kor_ticker_list',\n",
       " 'data_crawler/kor_stock_fundamental',\n",
       " 'data_crawler/snp500_ticker_list',\n",
       " 'data_crawler/df_raw_total.csv']"
      ]
     },
     "execution_count": 2,
     "metadata": {},
     "output_type": "execute_result"
    }
   ],
   "source": [
    "glob.glob(\"data_crawler/*\")"
   ]
  },
  {
   "cell_type": "code",
   "execution_count": 3,
   "id": "539651e9",
   "metadata": {
    "ExecuteTime": {
     "end_time": "2024-01-09T02:45:22.778549Z",
     "start_time": "2024-01-09T02:45:22.772908Z"
    }
   },
   "outputs": [
    {
     "data": {
      "text/plain": [
       "['data_crawler/cleaning/bitcoin',\n",
       " 'data_crawler/cleaning/kor_stock_ohlcv',\n",
       " 'data_crawler/cleaning/kor_index_ohlcv']"
      ]
     },
     "execution_count": 3,
     "metadata": {},
     "output_type": "execute_result"
    }
   ],
   "source": [
    "glob.glob(\"data_crawler/cleaning/*\")"
   ]
  },
  {
   "cell_type": "code",
   "execution_count": 4,
   "id": "714d52ec",
   "metadata": {
    "ExecuteTime": {
     "end_time": "2024-01-09T02:45:22.787206Z",
     "start_time": "2024-01-09T02:45:22.781669Z"
    }
   },
   "outputs": [
    {
     "data": {
      "text/plain": [
       "['data_crawler/cleaning/kor_stock_ohlcv/kor_stock_ohlcv_anal_kosdaq.parquet',\n",
       " 'data_crawler/cleaning/kor_stock_ohlcv/buy_sell_count.parquet',\n",
       " 'data_crawler/cleaning/kor_stock_ohlcv/kor_stock_ohlcv_kosdaq.parquet',\n",
       " 'data_crawler/cleaning/kor_stock_ohlcv/buy_sell_count_kosdaq.parquet',\n",
       " 'data_crawler/cleaning/kor_stock_ohlcv/kor_stock_ohlcv_anal_kospi.parquet',\n",
       " 'data_crawler/cleaning/kor_stock_ohlcv/kor_stock_ohlcv_kospi.parquet',\n",
       " 'data_crawler/cleaning/kor_stock_ohlcv/buy_sell_count_kospi.parquet']"
      ]
     },
     "execution_count": 4,
     "metadata": {},
     "output_type": "execute_result"
    }
   ],
   "source": [
    "glob.glob(\"data_crawler/cleaning/kor_stock_ohlcv/*\")"
   ]
  },
  {
   "cell_type": "code",
   "execution_count": 5,
   "id": "ac9b6370",
   "metadata": {
    "ExecuteTime": {
     "end_time": "2024-01-09T02:45:22.797177Z",
     "start_time": "2024-01-09T02:45:22.791346Z"
    }
   },
   "outputs": [
    {
     "data": {
      "text/plain": [
       "['data_crawler/cleaning/kor_index_ohlcv/kor_index_ohlcv_cleaning.parquet',\n",
       " 'data_crawler/cleaning/kor_index_ohlcv/kor_index_ohlcv_anal_cleaning.parquet']"
      ]
     },
     "execution_count": 5,
     "metadata": {},
     "output_type": "execute_result"
    }
   ],
   "source": [
    "glob.glob(\"data_crawler/cleaning/kor_index_ohlcv/*\")"
   ]
  },
  {
   "cell_type": "code",
   "execution_count": 10,
   "id": "73f52206",
   "metadata": {
    "ExecuteTime": {
     "end_time": "2024-01-09T02:46:13.971240Z",
     "start_time": "2024-01-09T02:46:13.650880Z"
    }
   },
   "outputs": [],
   "source": [
    "t = pq.read_table('data_crawler/cleaning/kor_stock_ohlcv/kor_stock_ohlcv_kospi.parquet')\n",
    "kor_stock_ohlcv_kospi = t.to_pandas()\n",
    "\n",
    "t = pq.read_table('data_crawler/cleaning/kor_stock_ohlcv/kor_stock_ohlcv_anal_kospi.parquet')\n",
    "kor_stock_ohlcv_anal_kospi = t.to_pandas()"
   ]
  },
  {
   "cell_type": "code",
   "execution_count": 11,
   "id": "35c57f7d",
   "metadata": {
    "ExecuteTime": {
     "end_time": "2024-01-09T02:46:16.985068Z",
     "start_time": "2024-01-09T02:46:16.965150Z"
    }
   },
   "outputs": [
    {
     "data": {
      "text/html": [
       "<div>\n",
       "<style scoped>\n",
       "    .dataframe tbody tr th:only-of-type {\n",
       "        vertical-align: middle;\n",
       "    }\n",
       "\n",
       "    .dataframe tbody tr th {\n",
       "        vertical-align: top;\n",
       "    }\n",
       "\n",
       "    .dataframe thead th {\n",
       "        text-align: right;\n",
       "    }\n",
       "</style>\n",
       "<table border=\"1\" class=\"dataframe\">\n",
       "  <thead>\n",
       "    <tr style=\"text-align: right;\">\n",
       "      <th></th>\n",
       "      <th>date</th>\n",
       "      <th>open</th>\n",
       "      <th>high</th>\n",
       "      <th>low</th>\n",
       "      <th>close</th>\n",
       "      <th>volume</th>\n",
       "      <th>price_change_percentage</th>\n",
       "      <th>ticker</th>\n",
       "      <th>corp_name</th>\n",
       "      <th>market</th>\n",
       "      <th>MA5</th>\n",
       "      <th>MA20</th>\n",
       "      <th>MA60</th>\n",
       "      <th>MA120</th>\n",
       "      <th>upper</th>\n",
       "      <th>lower</th>\n",
       "      <th>MACD_DIFF</th>\n",
       "      <th>MACD</th>\n",
       "      <th>MACD_Signal</th>\n",
       "      <th>RSI</th>\n",
       "    </tr>\n",
       "  </thead>\n",
       "  <tbody>\n",
       "    <tr>\n",
       "      <th>0</th>\n",
       "      <td>2023-01-09 00:00:00+00:00</td>\n",
       "      <td>59700</td>\n",
       "      <td>60700</td>\n",
       "      <td>59600</td>\n",
       "      <td>60700.0</td>\n",
       "      <td>18640107</td>\n",
       "      <td>2.881356</td>\n",
       "      <td>005930</td>\n",
       "      <td>삼성전자</td>\n",
       "      <td>KOSPI</td>\n",
       "      <td>58220.0</td>\n",
       "      <td>58315.0</td>\n",
       "      <td>59373.333333</td>\n",
       "      <td>58841.666667</td>\n",
       "      <td>61407.749586</td>\n",
       "      <td>55222.250414</td>\n",
       "      <td>297.792250</td>\n",
       "      <td>-382.242616</td>\n",
       "      <td>-680.034867</td>\n",
       "      <td>59.579300</td>\n",
       "    </tr>\n",
       "    <tr>\n",
       "      <th>1</th>\n",
       "      <td>2023-01-10 00:00:00+00:00</td>\n",
       "      <td>60200</td>\n",
       "      <td>61100</td>\n",
       "      <td>59900</td>\n",
       "      <td>60400.0</td>\n",
       "      <td>14859797</td>\n",
       "      <td>-0.494234</td>\n",
       "      <td>005930</td>\n",
       "      <td>삼성전자</td>\n",
       "      <td>KOSPI</td>\n",
       "      <td>59220.0</td>\n",
       "      <td>58360.0</td>\n",
       "      <td>59436.666667</td>\n",
       "      <td>58829.166667</td>\n",
       "      <td>61545.215848</td>\n",
       "      <td>55174.784152</td>\n",
       "      <td>402.537204</td>\n",
       "      <td>-176.863361</td>\n",
       "      <td>-579.400566</td>\n",
       "      <td>58.001471</td>\n",
       "    </tr>\n",
       "    <tr>\n",
       "      <th>2</th>\n",
       "      <td>2023-01-11 00:00:00+00:00</td>\n",
       "      <td>61000</td>\n",
       "      <td>61200</td>\n",
       "      <td>60300</td>\n",
       "      <td>60500.0</td>\n",
       "      <td>12310751</td>\n",
       "      <td>0.165563</td>\n",
       "      <td>005930</td>\n",
       "      <td>삼성전자</td>\n",
       "      <td>KOSPI</td>\n",
       "      <td>59760.0</td>\n",
       "      <td>58400.0</td>\n",
       "      <td>59503.333333</td>\n",
       "      <td>58825.833333</td>\n",
       "      <td>61670.473972</td>\n",
       "      <td>55129.526028</td>\n",
       "      <td>458.751698</td>\n",
       "      <td>-5.960943</td>\n",
       "      <td>-464.712641</td>\n",
       "      <td>58.396977</td>\n",
       "    </tr>\n",
       "  </tbody>\n",
       "</table>\n",
       "</div>"
      ],
      "text/plain": [
       "                       date   open   high    low    close    volume  \\\n",
       "0 2023-01-09 00:00:00+00:00  59700  60700  59600  60700.0  18640107   \n",
       "1 2023-01-10 00:00:00+00:00  60200  61100  59900  60400.0  14859797   \n",
       "2 2023-01-11 00:00:00+00:00  61000  61200  60300  60500.0  12310751   \n",
       "\n",
       "   price_change_percentage  ticker corp_name market      MA5     MA20  \\\n",
       "0                 2.881356  005930      삼성전자  KOSPI  58220.0  58315.0   \n",
       "1                -0.494234  005930      삼성전자  KOSPI  59220.0  58360.0   \n",
       "2                 0.165563  005930      삼성전자  KOSPI  59760.0  58400.0   \n",
       "\n",
       "           MA60         MA120         upper         lower   MACD_DIFF  \\\n",
       "0  59373.333333  58841.666667  61407.749586  55222.250414  297.792250   \n",
       "1  59436.666667  58829.166667  61545.215848  55174.784152  402.537204   \n",
       "2  59503.333333  58825.833333  61670.473972  55129.526028  458.751698   \n",
       "\n",
       "         MACD  MACD_Signal        RSI  \n",
       "0 -382.242616  -680.034867  59.579300  \n",
       "1 -176.863361  -579.400566  58.001471  \n",
       "2   -5.960943  -464.712641  58.396977  "
      ]
     },
     "execution_count": 11,
     "metadata": {},
     "output_type": "execute_result"
    }
   ],
   "source": [
    "kor_stock_ohlcv_kospi.head(3)"
   ]
  },
  {
   "cell_type": "code",
   "execution_count": 12,
   "id": "d5191155",
   "metadata": {
    "ExecuteTime": {
     "end_time": "2024-01-09T02:46:20.324134Z",
     "start_time": "2024-01-09T02:46:20.311570Z"
    }
   },
   "outputs": [
    {
     "data": {
      "text/html": [
       "<div>\n",
       "<style scoped>\n",
       "    .dataframe tbody tr th:only-of-type {\n",
       "        vertical-align: middle;\n",
       "    }\n",
       "\n",
       "    .dataframe tbody tr th {\n",
       "        vertical-align: top;\n",
       "    }\n",
       "\n",
       "    .dataframe thead th {\n",
       "        text-align: right;\n",
       "    }\n",
       "</style>\n",
       "<table border=\"1\" class=\"dataframe\">\n",
       "  <thead>\n",
       "    <tr style=\"text-align: right;\">\n",
       "      <th></th>\n",
       "      <th>date</th>\n",
       "      <th>ticker</th>\n",
       "      <th>corp_name</th>\n",
       "      <th>market</th>\n",
       "      <th>close</th>\n",
       "      <th>5_20_cross</th>\n",
       "      <th>20_60_cross</th>\n",
       "      <th>array</th>\n",
       "      <th>Bollinger_band</th>\n",
       "      <th>MACD</th>\n",
       "      <th>RSI</th>\n",
       "    </tr>\n",
       "  </thead>\n",
       "  <tbody>\n",
       "    <tr>\n",
       "      <th>0</th>\n",
       "      <td>2023-01-09 00:00:00+00:00</td>\n",
       "      <td>005930</td>\n",
       "      <td>삼성전자</td>\n",
       "      <td>KOSPI</td>\n",
       "      <td>60700</td>\n",
       "      <td>-</td>\n",
       "      <td>-</td>\n",
       "      <td>-</td>\n",
       "      <td>-</td>\n",
       "      <td>-</td>\n",
       "      <td>-</td>\n",
       "    </tr>\n",
       "    <tr>\n",
       "      <th>1</th>\n",
       "      <td>2023-01-10 00:00:00+00:00</td>\n",
       "      <td>005930</td>\n",
       "      <td>삼성전자</td>\n",
       "      <td>KOSPI</td>\n",
       "      <td>60400</td>\n",
       "      <td>골든크로스(매수)</td>\n",
       "      <td>-</td>\n",
       "      <td>-</td>\n",
       "      <td>-</td>\n",
       "      <td>-</td>\n",
       "      <td>-</td>\n",
       "    </tr>\n",
       "    <tr>\n",
       "      <th>2</th>\n",
       "      <td>2023-01-11 00:00:00+00:00</td>\n",
       "      <td>005930</td>\n",
       "      <td>삼성전자</td>\n",
       "      <td>KOSPI</td>\n",
       "      <td>60500</td>\n",
       "      <td>-</td>\n",
       "      <td>-</td>\n",
       "      <td>-</td>\n",
       "      <td>-</td>\n",
       "      <td>-</td>\n",
       "      <td>-</td>\n",
       "    </tr>\n",
       "  </tbody>\n",
       "</table>\n",
       "</div>"
      ],
      "text/plain": [
       "                       date  ticker corp_name market  close 5_20_cross  \\\n",
       "0 2023-01-09 00:00:00+00:00  005930      삼성전자  KOSPI  60700          -   \n",
       "1 2023-01-10 00:00:00+00:00  005930      삼성전자  KOSPI  60400  골든크로스(매수)   \n",
       "2 2023-01-11 00:00:00+00:00  005930      삼성전자  KOSPI  60500          -   \n",
       "\n",
       "  20_60_cross array Bollinger_band MACD RSI  \n",
       "0           -     -              -    -   -  \n",
       "1           -     -              -    -   -  \n",
       "2           -     -              -    -   -  "
      ]
     },
     "execution_count": 12,
     "metadata": {},
     "output_type": "execute_result"
    }
   ],
   "source": [
    "kor_stock_ohlcv_anal_kospi.head(3)"
   ]
  },
  {
   "cell_type": "code",
   "execution_count": null,
   "id": "9091dd3b",
   "metadata": {},
   "outputs": [],
   "source": []
  },
  {
   "cell_type": "code",
   "execution_count": null,
   "id": "8c7e315d",
   "metadata": {},
   "outputs": [],
   "source": []
  },
  {
   "cell_type": "code",
   "execution_count": null,
   "id": "29b738d5",
   "metadata": {},
   "outputs": [],
   "source": []
  },
  {
   "cell_type": "code",
   "execution_count": null,
   "id": "cf7eccf7",
   "metadata": {},
   "outputs": [],
   "source": []
  },
  {
   "cell_type": "code",
   "execution_count": null,
   "id": "62574256",
   "metadata": {},
   "outputs": [],
   "source": []
  },
  {
   "cell_type": "code",
   "execution_count": null,
   "id": "cda600af",
   "metadata": {},
   "outputs": [],
   "source": []
  }
 ],
 "metadata": {
  "kernelspec": {
   "display_name": "Python 3 (ipykernel)",
   "language": "python",
   "name": "python3"
  },
  "language_info": {
   "codemirror_mode": {
    "name": "ipython",
    "version": 3
   },
   "file_extension": ".py",
   "mimetype": "text/x-python",
   "name": "python",
   "nbconvert_exporter": "python",
   "pygments_lexer": "ipython3",
   "version": "3.11.3"
  },
  "toc": {
   "base_numbering": 1,
   "nav_menu": {},
   "number_sections": true,
   "sideBar": true,
   "skip_h1_title": false,
   "title_cell": "Table of Contents",
   "title_sidebar": "Contents",
   "toc_cell": false,
   "toc_position": {
    "height": "calc(100% - 180px)",
    "left": "10px",
    "top": "150px",
    "width": "242.591px"
   },
   "toc_section_display": true,
   "toc_window_display": true
  }
 },
 "nbformat": 4,
 "nbformat_minor": 5
}
