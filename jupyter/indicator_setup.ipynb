{
 "cells": [
  {
   "cell_type": "markdown",
   "id": "d1029359",
   "metadata": {
    "ExecuteTime": {
     "end_time": "2024-01-08T16:09:53.741997Z",
     "start_time": "2024-01-08T16:09:51.972138Z"
    }
   },
   "source": [
    "# 지표 정리\n",
    "\n",
    "### 기본 세팅"
   ]
  },
  {
   "cell_type": "code",
   "execution_count": 1,
   "id": "b7abafe2",
   "metadata": {
    "ExecuteTime": {
     "end_time": "2024-01-16T12:44:36.100248Z",
     "start_time": "2024-01-16T12:44:32.960247Z"
    }
   },
   "outputs": [],
   "source": [
    "import math\n",
    "import numpy as np\n",
    "import pandas as pd\n",
    "import os\n",
    "import glob\n",
    "\n",
    "from pykrx import stock\n",
    "from pykrx import bond\n",
    "\n",
    "import time\n",
    "from time import sleep\n",
    "from datetime import datetime\n",
    "from datetime import timedelta\n",
    "\n",
    "from pyarrow import csv\n",
    "import pyarrow as pa\n",
    "import pyarrow.parquet as pq\n",
    "\n",
    "from ta.trend import MACD\n",
    "from ta.momentum import StochasticOscillator\n",
    "\n",
    "import psycopg2 as pg2\n",
    "from sqlalchemy import create_engine\n",
    "\n",
    "from plotly.subplots import make_subplots\n",
    "import plotly.express as px\n",
    "import plotly.graph_objects as go\n",
    "\n",
    "from google.cloud import bigquery\n",
    "from google.oauth2 import service_account\n",
    "from google.cloud import storage\n",
    "\n",
    "import google.generativeai as genai\n",
    "\n",
    "import warnings\n",
    "warnings.filterwarnings('ignore')\n",
    "\n",
    "# 경로 변경\n",
    "os.chdir('/home/shjj08choi4/finance_mlops')\n",
    "\n",
    "\n",
    "# 서비스 계정 키 JSON 파일 경로\n",
    "key_path = glob.glob(\"key_value/*.json\")[0]\n",
    "\n",
    "# Credentials 객체 생성\n",
    "credentials = service_account.Credentials.from_service_account_file(key_path)\n",
    "\n",
    "# 빅쿼리 정보\n",
    "project_id = 'owenchoi-404302'\n",
    "dataset_id = 'finance_mlops'\n",
    "\n",
    "\n",
    "# BigQuery 클라이언트 객체 생성\n",
    "client = bigquery.Client(credentials = credentials, \n",
    "                         project = credentials.project_id)\n",
    "\n",
    "\n",
    "# GCP 클라이언트 객체 생성\n",
    "storage_client = storage.Client(credentials = credentials,\n",
    "                         project = credentials.project_id)\n",
    "bucket_name = 'finance-mlops-proj'    # 서비스 계정 생성한 bucket 이름 입력\n",
    "\n",
    "# Postgresql 연결\n",
    "db_connect_info = pd.read_csv('key_value/db_connect_info.csv')\n",
    "username = db_connect_info['username'][0]\n",
    "password = db_connect_info['password'][0]\n",
    "host = db_connect_info['host'][0]\n",
    "database = db_connect_info['database'][0]\n",
    "engine = create_engine(f'postgresql+psycopg2://{username}:{password}@{host}:5432/{database}')\n",
    "\n",
    "\n",
    "\n",
    "now = datetime.now()\n",
    "# now = now + timedelta(days=-2)\n",
    "today_date1 = now.strftime('%Y%m%d')\n",
    "today_date2 = now.strftime('%Y-%m-%d')\n",
    "today_date_time_csv = now.strftime(\"%Y%m%d_%H%M\")"
   ]
  },
  {
   "cell_type": "markdown",
   "id": "c41fee00",
   "metadata": {},
   "source": [
    "## 데이터 "
   ]
  },
  {
   "cell_type": "code",
   "execution_count": 2,
   "id": "f623de9f",
   "metadata": {
    "ExecuteTime": {
     "end_time": "2024-01-16T12:44:37.365993Z",
     "start_time": "2024-01-16T12:44:36.111354Z"
    }
   },
   "outputs": [],
   "source": [
    "\n",
    "sql = f\"\"\"\n",
    "select \n",
    "*\n",
    "from `{project_id}.{dataset_id}.kor_ticker_list`\n",
    "order by rank asc\n",
    "\"\"\"\n",
    "\n",
    "# 데이터 조회 쿼리 실행 결과\n",
    "query_job = client.query(sql)\n",
    "\n",
    "# 데이터프레임 변환\n",
    "kor_ticker_list = query_job.to_dataframe()"
   ]
  },
  {
   "cell_type": "code",
   "execution_count": 3,
   "id": "3cada709",
   "metadata": {
    "ExecuteTime": {
     "end_time": "2024-01-16T12:44:37.385883Z",
     "start_time": "2024-01-16T12:44:37.368193Z"
    }
   },
   "outputs": [
    {
     "data": {
      "text/html": [
       "<div>\n",
       "<style scoped>\n",
       "    .dataframe tbody tr th:only-of-type {\n",
       "        vertical-align: middle;\n",
       "    }\n",
       "\n",
       "    .dataframe tbody tr th {\n",
       "        vertical-align: top;\n",
       "    }\n",
       "\n",
       "    .dataframe thead th {\n",
       "        text-align: right;\n",
       "    }\n",
       "</style>\n",
       "<table border=\"1\" class=\"dataframe\">\n",
       "  <thead>\n",
       "    <tr style=\"text-align: right;\">\n",
       "      <th></th>\n",
       "      <th>ticker</th>\n",
       "      <th>corp_name</th>\n",
       "      <th>market</th>\n",
       "      <th>rank</th>\n",
       "    </tr>\n",
       "  </thead>\n",
       "  <tbody>\n",
       "    <tr>\n",
       "      <th>0</th>\n",
       "      <td>005930</td>\n",
       "      <td>삼성전자</td>\n",
       "      <td>KOSPI</td>\n",
       "      <td>1</td>\n",
       "    </tr>\n",
       "    <tr>\n",
       "      <th>1</th>\n",
       "      <td>247540</td>\n",
       "      <td>에코프로비엠</td>\n",
       "      <td>KOSDAQ</td>\n",
       "      <td>1</td>\n",
       "    </tr>\n",
       "    <tr>\n",
       "      <th>2</th>\n",
       "      <td>000660</td>\n",
       "      <td>SK하이닉스</td>\n",
       "      <td>KOSPI</td>\n",
       "      <td>2</td>\n",
       "    </tr>\n",
       "    <tr>\n",
       "      <th>3</th>\n",
       "      <td>086520</td>\n",
       "      <td>에코프로</td>\n",
       "      <td>KOSDAQ</td>\n",
       "      <td>2</td>\n",
       "    </tr>\n",
       "    <tr>\n",
       "      <th>4</th>\n",
       "      <td>373220</td>\n",
       "      <td>LG에너지솔루션</td>\n",
       "      <td>KOSPI</td>\n",
       "      <td>3</td>\n",
       "    </tr>\n",
       "    <tr>\n",
       "      <th>...</th>\n",
       "      <td>...</td>\n",
       "      <td>...</td>\n",
       "      <td>...</td>\n",
       "      <td>...</td>\n",
       "    </tr>\n",
       "    <tr>\n",
       "      <th>2650</th>\n",
       "      <td>438580</td>\n",
       "      <td>엔에이치스팩25호</td>\n",
       "      <td>KOSDAQ</td>\n",
       "      <td>1698</td>\n",
       "    </tr>\n",
       "    <tr>\n",
       "      <th>2651</th>\n",
       "      <td>413600</td>\n",
       "      <td>키움제6호스팩</td>\n",
       "      <td>KOSDAQ</td>\n",
       "      <td>1699</td>\n",
       "    </tr>\n",
       "    <tr>\n",
       "      <th>2652</th>\n",
       "      <td>457940</td>\n",
       "      <td>에스케이증권제10호스팩</td>\n",
       "      <td>KOSDAQ</td>\n",
       "      <td>1700</td>\n",
       "    </tr>\n",
       "    <tr>\n",
       "      <th>2653</th>\n",
       "      <td>032685</td>\n",
       "      <td>소프트센우</td>\n",
       "      <td>KOSDAQ</td>\n",
       "      <td>1701</td>\n",
       "    </tr>\n",
       "    <tr>\n",
       "      <th>2654</th>\n",
       "      <td>021045</td>\n",
       "      <td>대호특수강우</td>\n",
       "      <td>KOSDAQ</td>\n",
       "      <td>1702</td>\n",
       "    </tr>\n",
       "  </tbody>\n",
       "</table>\n",
       "<p>2655 rows × 4 columns</p>\n",
       "</div>"
      ],
      "text/plain": [
       "      ticker     corp_name  market  rank\n",
       "0     005930          삼성전자   KOSPI     1\n",
       "1     247540        에코프로비엠  KOSDAQ     1\n",
       "2     000660        SK하이닉스   KOSPI     2\n",
       "3     086520          에코프로  KOSDAQ     2\n",
       "4     373220      LG에너지솔루션   KOSPI     3\n",
       "...      ...           ...     ...   ...\n",
       "2650  438580     엔에이치스팩25호  KOSDAQ  1698\n",
       "2651  413600       키움제6호스팩  KOSDAQ  1699\n",
       "2652  457940  에스케이증권제10호스팩  KOSDAQ  1700\n",
       "2653  032685         소프트센우  KOSDAQ  1701\n",
       "2654  021045        대호특수강우  KOSDAQ  1702\n",
       "\n",
       "[2655 rows x 4 columns]"
      ]
     },
     "execution_count": 3,
     "metadata": {},
     "output_type": "execute_result"
    }
   ],
   "source": [
    "kor_ticker_list"
   ]
  },
  {
   "cell_type": "code",
   "execution_count": 4,
   "id": "73f52206",
   "metadata": {
    "ExecuteTime": {
     "end_time": "2024-01-16T12:44:38.155885Z",
     "start_time": "2024-01-16T12:44:37.388229Z"
    }
   },
   "outputs": [],
   "source": [
    "\n",
    "# ticker_list = pd.read_csv( './data_crawler/kor_ticker_list/kor_ticker_list.csv')\n",
    "\n",
    "# 코스피 지표\n",
    "t = pq.read_table('data_crawler/cleaning/kor_stock_ohlcv/kor_stock_ohlcv_kospi.parquet')\n",
    "kor_stock_ohlcv_kospi = t.to_pandas()\n",
    "\n",
    "# 코스피 매수/매도 지표\n",
    "t = pq.read_table('data_crawler/cleaning/kor_stock_ohlcv/kor_stock_ohlcv_anal_kospi.parquet')\n",
    "kor_stock_ohlcv_anal_kospi = t.to_pandas()\n",
    "\n",
    "# # 코스피 주식별 매수매도 지표\n",
    "# t = pq.read_table('data_crawler/cleaning/kor_stock_ohlcv/buy_sell_count_kospi.parquet')\n",
    "# buy_sell_count_kospi = t.to_pandas()\n",
    "\n",
    "# 코스닥 지표\n",
    "t = pq.read_table('data_crawler/cleaning/kor_stock_ohlcv/kor_stock_ohlcv_kospi.parquet')\n",
    "kor_stock_ohlcv_kosdaq = t.to_pandas()\n",
    "\n",
    "# 코스닥 매수/매도 지표\n",
    "t = pq.read_table('data_crawler/cleaning/kor_stock_ohlcv/kor_stock_ohlcv_anal_kosdaq.parquet')\n",
    "kor_stock_ohlcv_anal_kosdaq = t.to_pandas()\n",
    "\n",
    "# # 코스닥 주식별 매수매도 지표\n",
    "# t = pq.read_table('data_crawler/cleaning/kor_stock_ohlcv/buy_sell_count_kosdaq.parquet')\n",
    "# buy_sell_count_kosdaq = t.to_pandas()\n",
    "\n",
    "\n",
    "# 인덱스 지표\n",
    "t = pq.read_table('data_crawler/cleaning/kor_index_ohlcv/kor_index_ohlcv_cleaning.parquet')\n",
    "kor_index_ohlcv_cleaning = t.to_pandas()\n",
    "\n",
    "# 인덱스 매수/매도 지표\n",
    "t = pq.read_table('data_crawler/cleaning/kor_index_ohlcv/kor_index_ohlcv_anal_cleaning.parquet')\n",
    "kor_index_ohlcv_anal_cleaning = t.to_pandas()\n",
    "\n",
    "# 인덱스 PBR\n",
    "t = pq.read_table('data_crawler/kor_index_code_fundamental/kor_index_code_fundamental.parquet')\n",
    "kor_index_code_fundamental = t.to_pandas()\n",
    "\n",
    "\n",
    "index_code_master = pd.read_csv('data_crawler/index_code_master/index_code_master.csv', dtype = {'ticker':str, \n",
    "                                                                                                'index_code':str})\n",
    "\n",
    "not_sectors = [\"1002\",\"1003\",\"1004\",\"1028\",\"1034\",\"1035\",\"1150\",\"1151\",\n",
    "           \"1152\",\"1153\",\"1154\",\"1155\",\"1156\",\"1157\",\"1158\",\"1159\",\n",
    "           \"1160\",\"1167\",\"1182\",\"1224\",\"1227\",\"1232\",\"1244\",\"1894\",\n",
    "           \"2002\",\"2003\",\"2004\",\"2181\",\"2182\",\"2183\",\"2184\",\"2189\",\n",
    "           \"2203\",\"2212\",\"2213\",\"2214\",\"2215\",\"2216\",\"2217\",\"2218\"]\n",
    "\n",
    "index_code_master = index_code_master[~index_code_master['index_code'].isin(not_sectors)].reset_index(drop = True)\n",
    "\n"
   ]
  },
  {
   "cell_type": "markdown",
   "id": "862ced8e",
   "metadata": {},
   "source": [
    "## 상황 단일주가 (삼성전자\n",
    "\n",
    "- trading 추가"
   ]
  },
  {
   "cell_type": "markdown",
   "id": "fe0d6f20",
   "metadata": {},
   "source": [
    "### 코스피 주가 등락률"
   ]
  },
  {
   "cell_type": "code",
   "execution_count": 5,
   "id": "d3ad1c8e",
   "metadata": {
    "ExecuteTime": {
     "end_time": "2024-01-16T12:44:38.647969Z",
     "start_time": "2024-01-16T12:44:38.160831Z"
    }
   },
   "outputs": [
    {
     "data": {
      "text/html": [
       "<div>\n",
       "<style scoped>\n",
       "    .dataframe tbody tr th:only-of-type {\n",
       "        vertical-align: middle;\n",
       "    }\n",
       "\n",
       "    .dataframe tbody tr th {\n",
       "        vertical-align: top;\n",
       "    }\n",
       "\n",
       "    .dataframe thead th {\n",
       "        text-align: right;\n",
       "    }\n",
       "</style>\n",
       "<table border=\"1\" class=\"dataframe\">\n",
       "  <thead>\n",
       "    <tr style=\"text-align: right;\">\n",
       "      <th></th>\n",
       "      <th>date</th>\n",
       "      <th>ticker</th>\n",
       "      <th>corp_name</th>\n",
       "      <th>variable</th>\n",
       "      <th>value</th>\n",
       "    </tr>\n",
       "  </thead>\n",
       "  <tbody>\n",
       "    <tr>\n",
       "      <th>0</th>\n",
       "      <td>2024-01-16 00:00:00+00:00</td>\n",
       "      <td>000020</td>\n",
       "      <td>동화약품</td>\n",
       "      <td>per_30</td>\n",
       "      <td>4.727646</td>\n",
       "    </tr>\n",
       "    <tr>\n",
       "      <th>2859</th>\n",
       "      <td>2024-01-16 00:00:00+00:00</td>\n",
       "      <td>000020</td>\n",
       "      <td>동화약품</td>\n",
       "      <td>per_240</td>\n",
       "      <td>9.806034</td>\n",
       "    </tr>\n",
       "    <tr>\n",
       "      <th>1906</th>\n",
       "      <td>2024-01-16 00:00:00+00:00</td>\n",
       "      <td>000020</td>\n",
       "      <td>동화약품</td>\n",
       "      <td>per_180</td>\n",
       "      <td>-0.585366</td>\n",
       "    </tr>\n",
       "    <tr>\n",
       "      <th>3812</th>\n",
       "      <td>2024-01-16 00:00:00+00:00</td>\n",
       "      <td>000020</td>\n",
       "      <td>동화약품</td>\n",
       "      <td>per_365</td>\n",
       "      <td>10.400867</td>\n",
       "    </tr>\n",
       "    <tr>\n",
       "      <th>953</th>\n",
       "      <td>2024-01-16 00:00:00+00:00</td>\n",
       "      <td>000020</td>\n",
       "      <td>동화약품</td>\n",
       "      <td>per_90</td>\n",
       "      <td>5.815161</td>\n",
       "    </tr>\n",
       "  </tbody>\n",
       "</table>\n",
       "</div>"
      ],
      "text/plain": [
       "                          date  ticker corp_name variable      value\n",
       "0    2024-01-16 00:00:00+00:00  000020      동화약품   per_30   4.727646\n",
       "2859 2024-01-16 00:00:00+00:00  000020      동화약품  per_240   9.806034\n",
       "1906 2024-01-16 00:00:00+00:00  000020      동화약품  per_180  -0.585366\n",
       "3812 2024-01-16 00:00:00+00:00  000020      동화약품  per_365  10.400867\n",
       "953  2024-01-16 00:00:00+00:00  000020      동화약품   per_90   5.815161"
      ]
     },
     "execution_count": 5,
     "metadata": {},
     "output_type": "execute_result"
    }
   ],
   "source": [
    "\n",
    "### 코스피\n",
    "\n",
    "# df1_set =  ohlcv_df_raw[ohlcv_df_raw['date'] > '2023-10-01'].groupby(\"ticker\")['date'].max().reset_index()\n",
    "df1_set =  kor_stock_ohlcv_kospi.groupby(\"ticker\")['date'].max().reset_index()\n",
    "df1_set = df1_set[['ticker', 'date']]\n",
    "df1_set = pd.merge(df1_set, kor_stock_ohlcv_kospi[['ticker', 'date', 'close', 'corp_name']],\n",
    "              on = ['ticker', 'date'], \n",
    "              how = 'left')\n",
    "\n",
    "diff_date_list = [30, 90, 180, 240, 365]\n",
    "for diff_date in diff_date_list:\n",
    "# diff_date = 240\n",
    "    now = datetime.now()\n",
    "    now = now + timedelta(days=-diff_date)\n",
    "    set_date = now.strftime('%Y-%m-%d')\n",
    "    df1 =  kor_stock_ohlcv_kospi[kor_stock_ohlcv_kospi['date'] > set_date].groupby(\"ticker\")['date'].min().reset_index()\n",
    "\n",
    "    \n",
    "    df1 = df1[['ticker','date']]\n",
    "    df1 = pd.merge(df1, kor_stock_ohlcv_kospi[['ticker', 'date', 'close']],\n",
    "                  on = ['ticker', 'date'], \n",
    "                  how = 'left')\n",
    "    \n",
    "    df1.columns = ['ticker', f'date_{diff_date}', f'close_{diff_date}']\n",
    "\n",
    "    df1_set = pd.merge(df1_set, df1, \n",
    "                      on = 'ticker', \n",
    "                      how = 'left')\n",
    "\n",
    "    df1_set[f'per_{diff_date}'] = (df1_set['close'] - df1_set[f'close_{diff_date}']) / df1_set[f'close_{diff_date}'] * 100\n",
    "\n",
    "\n",
    "df1_set_2 = df1_set[['date','ticker','per_30', 'per_90', 'per_180', 'per_240', 'per_365', 'corp_name']]\n",
    "\n",
    "df1_set_3 = pd.melt(df1_set_2, \n",
    "        id_vars= ['date', 'ticker', 'corp_name'], \n",
    "        value_vars=['per_30', 'per_90', 'per_180', 'per_240','per_365'])    \n",
    "stock_ratio_per = df1_set_3.sort_values(by = ['ticker'])\n",
    "stock_ratio_per.head()\n",
    "\n"
   ]
  },
  {
   "cell_type": "code",
   "execution_count": null,
   "id": "b631d6d2",
   "metadata": {
    "ExecuteTime": {
     "end_time": "2024-01-11T16:55:38.702447Z",
     "start_time": "2024-01-11T16:55:38.668423Z"
    }
   },
   "outputs": [],
   "source": []
  },
  {
   "cell_type": "markdown",
   "id": "e866e834",
   "metadata": {},
   "source": [
    "#### 주가 등락률 순위"
   ]
  },
  {
   "cell_type": "code",
   "execution_count": 6,
   "id": "471e88c5",
   "metadata": {
    "ExecuteTime": {
     "end_time": "2024-01-16T12:44:38.677478Z",
     "start_time": "2024-01-16T12:44:38.650679Z"
    }
   },
   "outputs": [],
   "source": [
    "df_per_total = pd.DataFrame()\n",
    "per_set = ['per_30', 'per_90', 'per_180', 'per_240', 'per_365']\n",
    "ascending_list = [True, False]\n",
    "\n",
    "for per_value in per_set:\n",
    "    for ascending_value in ascending_list:\n",
    "        df_per =  df1_set_2.sort_values(by = per_value, ascending = ascending_value).head()\n",
    "        df_per['type'] = per_value\n",
    "        df_per['rank'] = range(1,6)\n",
    "        df_per['음/양'] = ascending_value\n",
    "        df_per_total = pd.concat([df_per_total, df_per])\n",
    "\n",
    "df_per_total = df_per_total.drop_duplicates()     \n",
    "df_per_total = df_per_total.reset_index(drop = True)\n",
    "\n"
   ]
  },
  {
   "cell_type": "markdown",
   "id": "a88d4902",
   "metadata": {},
   "source": [
    "### 주가 보조지표 매수/매도 "
   ]
  },
  {
   "cell_type": "code",
   "execution_count": 7,
   "id": "d5191155",
   "metadata": {
    "ExecuteTime": {
     "end_time": "2024-01-16T12:44:38.682494Z",
     "start_time": "2024-01-16T12:44:38.679656Z"
    }
   },
   "outputs": [],
   "source": [
    "# dfdf = kor_stock_ohlcv_anal_kospi[kor_stock_ohlcv_anal_kospi['ticker'] == ticker_nm].tail(1)"
   ]
  },
  {
   "cell_type": "code",
   "execution_count": 8,
   "id": "9234202c",
   "metadata": {
    "ExecuteTime": {
     "end_time": "2024-01-16T12:44:38.920715Z",
     "start_time": "2024-01-16T12:44:38.687238Z"
    }
   },
   "outputs": [],
   "source": [
    "date_nm = max(kor_stock_ohlcv_anal_kospi['date'])\n",
    "dfdf = kor_stock_ohlcv_anal_kospi[kor_stock_ohlcv_anal_kospi['date'] == date_nm]"
   ]
  },
  {
   "cell_type": "code",
   "execution_count": 9,
   "id": "3c8c0b63",
   "metadata": {
    "ExecuteTime": {
     "end_time": "2024-01-16T12:44:38.952692Z",
     "start_time": "2024-01-16T12:44:38.923368Z"
    }
   },
   "outputs": [
    {
     "data": {
      "text/html": [
       "<div>\n",
       "<style scoped>\n",
       "    .dataframe tbody tr th:only-of-type {\n",
       "        vertical-align: middle;\n",
       "    }\n",
       "\n",
       "    .dataframe tbody tr th {\n",
       "        vertical-align: top;\n",
       "    }\n",
       "\n",
       "    .dataframe thead th {\n",
       "        text-align: right;\n",
       "    }\n",
       "</style>\n",
       "<table border=\"1\" class=\"dataframe\">\n",
       "  <thead>\n",
       "    <tr style=\"text-align: right;\">\n",
       "      <th></th>\n",
       "      <th>date</th>\n",
       "      <th>ticker</th>\n",
       "      <th>corp_name</th>\n",
       "      <th>variable</th>\n",
       "      <th>value</th>\n",
       "    </tr>\n",
       "  </thead>\n",
       "  <tbody>\n",
       "    <tr>\n",
       "      <th>5</th>\n",
       "      <td>2024-01-16 00:00:00+00:00</td>\n",
       "      <td>068270</td>\n",
       "      <td>셀트리온</td>\n",
       "      <td>5_20_cross</td>\n",
       "      <td>데드크로스(매도)</td>\n",
       "    </tr>\n",
       "    <tr>\n",
       "      <th>32</th>\n",
       "      <td>2024-01-16 00:00:00+00:00</td>\n",
       "      <td>022100</td>\n",
       "      <td>포스코DX</td>\n",
       "      <td>5_20_cross</td>\n",
       "      <td>데드크로스(매도)</td>\n",
       "    </tr>\n",
       "    <tr>\n",
       "      <th>34</th>\n",
       "      <td>2024-01-16 00:00:00+00:00</td>\n",
       "      <td>326030</td>\n",
       "      <td>SK바이오팜</td>\n",
       "      <td>5_20_cross</td>\n",
       "      <td>데드크로스(매도)</td>\n",
       "    </tr>\n",
       "    <tr>\n",
       "      <th>41</th>\n",
       "      <td>2024-01-16 00:00:00+00:00</td>\n",
       "      <td>361610</td>\n",
       "      <td>SK아이이테크놀로지</td>\n",
       "      <td>5_20_cross</td>\n",
       "      <td>데드크로스(매도)</td>\n",
       "    </tr>\n",
       "    <tr>\n",
       "      <th>43</th>\n",
       "      <td>2024-01-16 00:00:00+00:00</td>\n",
       "      <td>161390</td>\n",
       "      <td>한국타이어앤테크놀로지</td>\n",
       "      <td>5_20_cross</td>\n",
       "      <td>골든크로스(매수)</td>\n",
       "    </tr>\n",
       "    <tr>\n",
       "      <th>...</th>\n",
       "      <td>...</td>\n",
       "      <td>...</td>\n",
       "      <td>...</td>\n",
       "      <td>...</td>\n",
       "      <td>...</td>\n",
       "    </tr>\n",
       "    <tr>\n",
       "      <th>5269</th>\n",
       "      <td>2024-01-16 00:00:00+00:00</td>\n",
       "      <td>000157</td>\n",
       "      <td>두산2우B</td>\n",
       "      <td>RSI</td>\n",
       "      <td>RSI 하단 상향 돌파(매수)</td>\n",
       "    </tr>\n",
       "    <tr>\n",
       "      <th>5284</th>\n",
       "      <td>2024-01-16 00:00:00+00:00</td>\n",
       "      <td>145270</td>\n",
       "      <td>케이탑리츠</td>\n",
       "      <td>RSI</td>\n",
       "      <td>RSI 하단 상향 돌파(매수)</td>\n",
       "    </tr>\n",
       "    <tr>\n",
       "      <th>5291</th>\n",
       "      <td>2024-01-16 00:00:00+00:00</td>\n",
       "      <td>002820</td>\n",
       "      <td>SUN&amp;L</td>\n",
       "      <td>RSI</td>\n",
       "      <td>RSI 상단 하향돌파(매도)</td>\n",
       "    </tr>\n",
       "    <tr>\n",
       "      <th>5298</th>\n",
       "      <td>2024-01-16 00:00:00+00:00</td>\n",
       "      <td>084670</td>\n",
       "      <td>동양고속</td>\n",
       "      <td>RSI</td>\n",
       "      <td>RSI 하단 상향 돌파(매수)</td>\n",
       "    </tr>\n",
       "    <tr>\n",
       "      <th>5366</th>\n",
       "      <td>2024-01-16 00:00:00+00:00</td>\n",
       "      <td>456040</td>\n",
       "      <td>OCI</td>\n",
       "      <td>RSI</td>\n",
       "      <td>RSI 하단 상향 돌파(매수)</td>\n",
       "    </tr>\n",
       "  </tbody>\n",
       "</table>\n",
       "<p>326 rows × 5 columns</p>\n",
       "</div>"
      ],
      "text/plain": [
       "                          date  ticker    corp_name    variable  \\\n",
       "5    2024-01-16 00:00:00+00:00  068270         셀트리온  5_20_cross   \n",
       "32   2024-01-16 00:00:00+00:00  022100        포스코DX  5_20_cross   \n",
       "34   2024-01-16 00:00:00+00:00  326030       SK바이오팜  5_20_cross   \n",
       "41   2024-01-16 00:00:00+00:00  361610   SK아이이테크놀로지  5_20_cross   \n",
       "43   2024-01-16 00:00:00+00:00  161390  한국타이어앤테크놀로지  5_20_cross   \n",
       "...                        ...     ...          ...         ...   \n",
       "5269 2024-01-16 00:00:00+00:00  000157        두산2우B         RSI   \n",
       "5284 2024-01-16 00:00:00+00:00  145270        케이탑리츠         RSI   \n",
       "5291 2024-01-16 00:00:00+00:00  002820        SUN&L         RSI   \n",
       "5298 2024-01-16 00:00:00+00:00  084670         동양고속         RSI   \n",
       "5366 2024-01-16 00:00:00+00:00  456040          OCI         RSI   \n",
       "\n",
       "                 value  \n",
       "5            데드크로스(매도)  \n",
       "32           데드크로스(매도)  \n",
       "34           데드크로스(매도)  \n",
       "41           데드크로스(매도)  \n",
       "43           골든크로스(매수)  \n",
       "...                ...  \n",
       "5269  RSI 하단 상향 돌파(매수)  \n",
       "5284  RSI 하단 상향 돌파(매수)  \n",
       "5291   RSI 상단 하향돌파(매도)  \n",
       "5298  RSI 하단 상향 돌파(매수)  \n",
       "5366  RSI 하단 상향 돌파(매수)  \n",
       "\n",
       "[326 rows x 5 columns]"
      ]
     },
     "execution_count": 9,
     "metadata": {},
     "output_type": "execute_result"
    }
   ],
   "source": [
    "# pd.wide_to_long(dfdf, stubnames='ht', i=['date', 'ticker','corp_name','market','close'], j='age')\n",
    "dfdf2 = pd.melt(dfdf, \n",
    "        id_vars= ['date', 'ticker', 'corp_name'], \n",
    "        value_vars=['5_20_cross', '20_60_cross', 'array', 'Bollinger_band','MACD','RSI'])\n",
    "stock_indicator = dfdf2[dfdf2['value'] != '-']\n",
    "stock_indicator"
   ]
  },
  {
   "cell_type": "markdown",
   "id": "fc398e88",
   "metadata": {},
   "source": [
    "### 코스닥 주가 등락률"
   ]
  },
  {
   "cell_type": "code",
   "execution_count": 10,
   "id": "e029ec40",
   "metadata": {
    "ExecuteTime": {
     "end_time": "2024-01-16T12:44:39.252459Z",
     "start_time": "2024-01-16T12:44:38.954890Z"
    }
   },
   "outputs": [
    {
     "data": {
      "text/html": [
       "<div>\n",
       "<style scoped>\n",
       "    .dataframe tbody tr th:only-of-type {\n",
       "        vertical-align: middle;\n",
       "    }\n",
       "\n",
       "    .dataframe tbody tr th {\n",
       "        vertical-align: top;\n",
       "    }\n",
       "\n",
       "    .dataframe thead th {\n",
       "        text-align: right;\n",
       "    }\n",
       "</style>\n",
       "<table border=\"1\" class=\"dataframe\">\n",
       "  <thead>\n",
       "    <tr style=\"text-align: right;\">\n",
       "      <th></th>\n",
       "      <th>date</th>\n",
       "      <th>ticker</th>\n",
       "      <th>corp_name</th>\n",
       "      <th>variable</th>\n",
       "      <th>value</th>\n",
       "    </tr>\n",
       "  </thead>\n",
       "  <tbody>\n",
       "    <tr>\n",
       "      <th>0</th>\n",
       "      <td>2024-01-16 00:00:00+00:00</td>\n",
       "      <td>000020</td>\n",
       "      <td>동화약품</td>\n",
       "      <td>per_30</td>\n",
       "      <td>4.727646</td>\n",
       "    </tr>\n",
       "    <tr>\n",
       "      <th>2859</th>\n",
       "      <td>2024-01-16 00:00:00+00:00</td>\n",
       "      <td>000020</td>\n",
       "      <td>동화약품</td>\n",
       "      <td>per_240</td>\n",
       "      <td>9.806034</td>\n",
       "    </tr>\n",
       "    <tr>\n",
       "      <th>1906</th>\n",
       "      <td>2024-01-16 00:00:00+00:00</td>\n",
       "      <td>000020</td>\n",
       "      <td>동화약품</td>\n",
       "      <td>per_180</td>\n",
       "      <td>-0.585366</td>\n",
       "    </tr>\n",
       "    <tr>\n",
       "      <th>3812</th>\n",
       "      <td>2024-01-16 00:00:00+00:00</td>\n",
       "      <td>000020</td>\n",
       "      <td>동화약품</td>\n",
       "      <td>per_365</td>\n",
       "      <td>10.400867</td>\n",
       "    </tr>\n",
       "    <tr>\n",
       "      <th>953</th>\n",
       "      <td>2024-01-16 00:00:00+00:00</td>\n",
       "      <td>000020</td>\n",
       "      <td>동화약품</td>\n",
       "      <td>per_90</td>\n",
       "      <td>5.815161</td>\n",
       "    </tr>\n",
       "  </tbody>\n",
       "</table>\n",
       "</div>"
      ],
      "text/plain": [
       "                          date  ticker corp_name variable      value\n",
       "0    2024-01-16 00:00:00+00:00  000020      동화약품   per_30   4.727646\n",
       "2859 2024-01-16 00:00:00+00:00  000020      동화약품  per_240   9.806034\n",
       "1906 2024-01-16 00:00:00+00:00  000020      동화약품  per_180  -0.585366\n",
       "3812 2024-01-16 00:00:00+00:00  000020      동화약품  per_365  10.400867\n",
       "953  2024-01-16 00:00:00+00:00  000020      동화약품   per_90   5.815161"
      ]
     },
     "execution_count": 10,
     "metadata": {},
     "output_type": "execute_result"
    }
   ],
   "source": [
    "\n",
    "\n",
    "### 코스닥\n",
    "\n",
    "# df1_set =  ohlcv_df_raw[ohlcv_df_raw['date'] > '2023-10-01'].groupby(\"ticker\")['date'].max().reset_index()\n",
    "df1_set =  kor_stock_ohlcv_kosdaq.groupby(\"ticker\")['date'].max().reset_index()\n",
    "df1_set = df1_set[['ticker', 'date']]\n",
    "df1_set = pd.merge(df1_set, kor_stock_ohlcv_kosdaq[['ticker', 'date', 'close', 'corp_name']],\n",
    "              on = ['ticker', 'date'], \n",
    "              how = 'left')\n",
    "\n",
    "diff_date_list = [30, 90, 180, 240, 365]\n",
    "for diff_date in diff_date_list:\n",
    "# diff_date = 240\n",
    "    now = datetime.now()\n",
    "    now = now + timedelta(days=-diff_date)\n",
    "    set_date = now.strftime('%Y-%m-%d')\n",
    "    df1 =  kor_stock_ohlcv_kosdaq[kor_stock_ohlcv_kosdaq['date'] > set_date].groupby(\"ticker\")['date'].min().reset_index()\n",
    "\n",
    "    \n",
    "    df1 = df1[['ticker','date']]\n",
    "    df1 = pd.merge(df1, kor_stock_ohlcv_kosdaq[['ticker', 'date', 'close']],\n",
    "                  on = ['ticker', 'date'], \n",
    "                  how = 'left')\n",
    "    \n",
    "    df1.columns = ['ticker', f'date_{diff_date}', f'close_{diff_date}']\n",
    "\n",
    "    df1_set = pd.merge(df1_set, df1, \n",
    "                      on = 'ticker', \n",
    "                      how = 'left')\n",
    "\n",
    "    df1_set[f'per_{diff_date}'] = (df1_set['close'] - df1_set[f'close_{diff_date}']) / df1_set[f'close_{diff_date}'] * 100\n",
    "\n",
    "\n",
    "df1_set_2 = df1_set[['date','ticker','per_30', 'per_90', 'per_180', 'per_240', 'per_365', 'corp_name']]\n",
    "\n",
    "df1_set_3 = pd.melt(df1_set_2, \n",
    "        id_vars= ['date', 'ticker', 'corp_name'], \n",
    "        value_vars=['per_30', 'per_90', 'per_180', 'per_240','per_365'])    \n",
    "kosdaq_stock_ratio_per = df1_set_3.sort_values(by = ['ticker'])\n",
    "kosdaq_stock_ratio_per.head()"
   ]
  },
  {
   "cell_type": "markdown",
   "id": "f755b8c1",
   "metadata": {},
   "source": [
    "#### 주가 등락률 순위 "
   ]
  },
  {
   "cell_type": "code",
   "execution_count": 11,
   "id": "fdcc0cf0",
   "metadata": {
    "ExecuteTime": {
     "end_time": "2024-01-16T12:44:39.280766Z",
     "start_time": "2024-01-16T12:44:39.256821Z"
    }
   },
   "outputs": [],
   "source": [
    "\n",
    "\n",
    "df_per_total = pd.DataFrame()\n",
    "per_set = ['per_30', 'per_90', 'per_180', 'per_240', 'per_365']\n",
    "ascending_list = [True, False]\n",
    "\n",
    "for per_value in per_set:\n",
    "    for ascending_value in ascending_list:\n",
    "        df_per =  df1_set_2.sort_values(by = per_value, ascending = ascending_value).head()\n",
    "        df_per['type'] = per_value\n",
    "        df_per['rank'] = range(1,6)\n",
    "        df_per['음/양'] = ascending_value\n",
    "        df_per_total = pd.concat([df_per_total, df_per])\n",
    "\n",
    "df_per_total = df_per_total.drop_duplicates()     \n",
    "kosdaq_df_per_total = df_per_total.reset_index(drop = True)"
   ]
  },
  {
   "cell_type": "markdown",
   "id": "51171567",
   "metadata": {},
   "source": [
    "### 주가 보조지표 매수/매도"
   ]
  },
  {
   "cell_type": "code",
   "execution_count": 12,
   "id": "06d5c77d",
   "metadata": {
    "ExecuteTime": {
     "end_time": "2024-01-16T12:44:40.281778Z",
     "start_time": "2024-01-16T12:44:39.745365Z"
    }
   },
   "outputs": [
    {
     "data": {
      "text/html": [
       "<div>\n",
       "<style scoped>\n",
       "    .dataframe tbody tr th:only-of-type {\n",
       "        vertical-align: middle;\n",
       "    }\n",
       "\n",
       "    .dataframe tbody tr th {\n",
       "        vertical-align: top;\n",
       "    }\n",
       "\n",
       "    .dataframe thead th {\n",
       "        text-align: right;\n",
       "    }\n",
       "</style>\n",
       "<table border=\"1\" class=\"dataframe\">\n",
       "  <thead>\n",
       "    <tr style=\"text-align: right;\">\n",
       "      <th></th>\n",
       "      <th>date</th>\n",
       "      <th>ticker</th>\n",
       "      <th>corp_name</th>\n",
       "      <th>variable</th>\n",
       "      <th>value</th>\n",
       "    </tr>\n",
       "  </thead>\n",
       "  <tbody>\n",
       "    <tr>\n",
       "      <th>20</th>\n",
       "      <td>2024-01-16 00:00:00+00:00</td>\n",
       "      <td>222800</td>\n",
       "      <td>심텍</td>\n",
       "      <td>5_20_cross</td>\n",
       "      <td>데드크로스(매도)</td>\n",
       "    </tr>\n",
       "    <tr>\n",
       "      <th>22</th>\n",
       "      <td>2024-01-16 00:00:00+00:00</td>\n",
       "      <td>237690</td>\n",
       "      <td>에스티팜</td>\n",
       "      <td>5_20_cross</td>\n",
       "      <td>데드크로스(매도)</td>\n",
       "    </tr>\n",
       "    <tr>\n",
       "      <th>40</th>\n",
       "      <td>2024-01-16 00:00:00+00:00</td>\n",
       "      <td>189300</td>\n",
       "      <td>인텔리안테크</td>\n",
       "      <td>5_20_cross</td>\n",
       "      <td>데드크로스(매도)</td>\n",
       "    </tr>\n",
       "  </tbody>\n",
       "</table>\n",
       "</div>"
      ],
      "text/plain": [
       "                        date  ticker corp_name    variable      value\n",
       "20 2024-01-16 00:00:00+00:00  222800        심텍  5_20_cross  데드크로스(매도)\n",
       "22 2024-01-16 00:00:00+00:00  237690      에스티팜  5_20_cross  데드크로스(매도)\n",
       "40 2024-01-16 00:00:00+00:00  189300    인텔리안테크  5_20_cross  데드크로스(매도)"
      ]
     },
     "execution_count": 12,
     "metadata": {},
     "output_type": "execute_result"
    }
   ],
   "source": [
    "\n",
    "date_nm = max(kor_stock_ohlcv_anal_kosdaq['date'])\n",
    "dfdf = kor_stock_ohlcv_anal_kosdaq[kor_stock_ohlcv_anal_kosdaq['date'] == date_nm]\n",
    "\n",
    "\n",
    "# pd.wide_to_long(dfdf, stubnames='ht', i=['date', 'ticker','corp_name','market','close'], j='age')\n",
    "dfdf2 = pd.melt(dfdf, \n",
    "        id_vars= ['date', 'ticker', 'corp_name'], \n",
    "        value_vars=['5_20_cross', '20_60_cross', 'array', 'Bollinger_band','MACD','RSI'])\n",
    "kosdaq_stock_indicator = dfdf2[dfdf2['value'] != '-']\n",
    "\n",
    "kosdaq_stock_indicator.head(3)"
   ]
  },
  {
   "cell_type": "code",
   "execution_count": null,
   "id": "7a3f33ff",
   "metadata": {},
   "outputs": [],
   "source": []
  },
  {
   "cell_type": "code",
   "execution_count": null,
   "id": "6057afcd",
   "metadata": {},
   "outputs": [],
   "source": []
  },
  {
   "cell_type": "markdown",
   "id": "6b8c5f56",
   "metadata": {},
   "source": [
    "### 인덱스 등락률"
   ]
  },
  {
   "cell_type": "code",
   "execution_count": 40,
   "id": "8c7e315d",
   "metadata": {
    "ExecuteTime": {
     "end_time": "2024-01-15T11:56:43.576514Z",
     "start_time": "2024-01-15T11:56:43.572523Z"
    }
   },
   "outputs": [],
   "source": [
    "# kor_index_ohlcv_cleaning_sample = kor_index_ohlcv_cleaning[kor_index_ohlcv_cleaning['index_code'].isin(ticker_index_code_df['index_code'])]"
   ]
  },
  {
   "cell_type": "code",
   "execution_count": null,
   "id": "cdde4dfc",
   "metadata": {
    "ExecuteTime": {
     "start_time": "2024-01-16T12:44:01.471Z"
    }
   },
   "outputs": [],
   "source": [
    "# df1_set =  ohlcv_df_raw[ohlcv_df_raw['date'] > '2023-10-01'].groupby(\"ticker\")['date'].max().reset_index()\n",
    "df1_set =  kor_index_ohlcv_cleaning.groupby(\"index_code\")['date'].max().reset_index()\n",
    "df1_set = df1_set[['index_code', 'date']]\n",
    "df1_set = pd.merge(df1_set, kor_index_ohlcv_cleaning[['index_code', 'date', 'close', 'index_code_nm']],\n",
    "              on = ['index_code', 'date'], \n",
    "              how = 'left')\n",
    "\n",
    "\n",
    "\n",
    "diff_date_list = [30, 90, 180, 240, 365]\n",
    "for diff_date in diff_date_list:\n",
    "# diff_date = 240\n",
    "    now = datetime.now()\n",
    "    now = now + timedelta(days=-diff_date)\n",
    "    set_date = now.strftime('%Y-%m-%d')\n",
    "    df1 =  kor_index_ohlcv_cleaning[kor_index_ohlcv_cleaning['date'] > set_date].groupby(\"index_code\")['date'].min().reset_index()\n",
    "\n",
    "    \n",
    "    df1 = df1[['index_code','date']]\n",
    "    df1 = pd.merge(df1, kor_index_ohlcv_cleaning[['index_code', 'date', 'close']],\n",
    "                  on = ['index_code', 'date'], \n",
    "                  how = 'left')\n",
    "    \n",
    "    df1.columns = ['index_code', f'date_{diff_date}', f'close_{diff_date}']\n",
    "\n",
    "    df1_set = pd.merge(df1_set, df1, \n",
    "                      on = 'index_code', \n",
    "                      how = 'left')\n",
    "\n",
    "    df1_set[f'per_{diff_date}'] = (df1_set['close'] - df1_set[f'close_{diff_date}']) / df1_set[f'close_{diff_date}'] * 100\n",
    "\n",
    "df1_set_2 = df1_set[['date','index_code','per_30', 'per_90', 'per_180', 'per_240', 'per_365', 'index_code_nm']]\n",
    "\n",
    "\n",
    "df1_set_3 = pd.melt(df1_set_2, \n",
    "        id_vars= ['date', 'index_code', 'index_code_nm'], \n",
    "        value_vars=['per_30', 'per_90', 'per_180', 'per_240','per_365'])    \n",
    "index_ratio_per = df1_set_3.sort_values(by = ['index_code'])\n",
    "index_ratio_per.head()\n"
   ]
  },
  {
   "cell_type": "markdown",
   "id": "7062a216",
   "metadata": {},
   "source": [
    "#### 인덱스 등락률 순위"
   ]
  },
  {
   "cell_type": "code",
   "execution_count": null,
   "id": "4baacefe",
   "metadata": {
    "ExecuteTime": {
     "start_time": "2024-01-16T12:40:38.012Z"
    }
   },
   "outputs": [],
   "source": [
    "\n",
    "df_per_total = pd.DataFrame()\n",
    "per_set = ['per_30', 'per_90', 'per_180', 'per_240', 'per_365']\n",
    "ascending_list = [True, False]\n",
    "\n",
    "for per_value in per_set:\n",
    "    for ascending_value in ascending_list:\n",
    "        df_per =  df1_set_2.sort_values(by = per_value, ascending = ascending_value).head()\n",
    "        df_per['type'] = per_value\n",
    "        df_per['rank'] = range(1,6)\n",
    "        df_per['음/양'] = ascending_value\n",
    "        df_per_total = pd.concat([df_per_total, df_per])\n",
    "\n",
    "df_per_total = df_per_total.drop_duplicates()     \n",
    "df_per_total = df_per_total.reset_index(drop = True)"
   ]
  },
  {
   "cell_type": "code",
   "execution_count": null,
   "id": "25fd1a80",
   "metadata": {
    "ExecuteTime": {
     "start_time": "2024-01-16T12:40:44.174Z"
    }
   },
   "outputs": [],
   "source": [
    "df_per_total.head(2)"
   ]
  },
  {
   "cell_type": "markdown",
   "id": "e8b504cd",
   "metadata": {},
   "source": [
    "### 인덱스 보조지표 매수/매도"
   ]
  },
  {
   "cell_type": "code",
   "execution_count": 44,
   "id": "53ffed1c",
   "metadata": {
    "ExecuteTime": {
     "end_time": "2024-01-15T11:56:43.746142Z",
     "start_time": "2024-01-15T11:56:43.720170Z"
    }
   },
   "outputs": [],
   "source": [
    "# kor_index_ohlcv_anal_cleaning_df = kor_index_ohlcv_anal_cleaning[kor_index_ohlcv_anal_cleaning['index_code'].isin(ticker_index_code_df['index_code'])]\n",
    "\n",
    "\n",
    "date_nm = max(kor_index_ohlcv_anal_cleaning['date'])\n",
    "kor_index_ohlcv_anal_cleaning_df_22 = kor_index_ohlcv_anal_cleaning[kor_index_ohlcv_anal_cleaning['date'] == date_nm]"
   ]
  },
  {
   "cell_type": "code",
   "execution_count": 45,
   "id": "d9b5b575",
   "metadata": {
    "ExecuteTime": {
     "end_time": "2024-01-15T11:56:45.617342Z",
     "start_time": "2024-01-15T11:56:45.605610Z"
    }
   },
   "outputs": [],
   "source": [
    "# pd.wide_to_long(dfdf, stubnames='ht', i=['date', 'ticker','corp_name','market','close'], j='age')\n",
    "kor_index_ohlcv_anal_cleaning_df_2 = pd.melt(kor_index_ohlcv_anal_cleaning_df_22, \n",
    "        id_vars= ['date', 'index_code', 'index_code_nm'], \n",
    "        value_vars=['5_20_cross', '20_60_cross', 'array', 'Bollinger_band','MACD','RSI'])\n",
    "\n",
    "index_indicator = kor_index_ohlcv_anal_cleaning_df_2[kor_index_ohlcv_anal_cleaning_df_2['value'] != '-']"
   ]
  },
  {
   "cell_type": "code",
   "execution_count": 46,
   "id": "3f501729",
   "metadata": {
    "ExecuteTime": {
     "end_time": "2024-01-15T11:56:46.508296Z",
     "start_time": "2024-01-15T11:56:46.499938Z"
    }
   },
   "outputs": [
    {
     "data": {
      "text/html": [
       "<div>\n",
       "<style scoped>\n",
       "    .dataframe tbody tr th:only-of-type {\n",
       "        vertical-align: middle;\n",
       "    }\n",
       "\n",
       "    .dataframe tbody tr th {\n",
       "        vertical-align: top;\n",
       "    }\n",
       "\n",
       "    .dataframe thead th {\n",
       "        text-align: right;\n",
       "    }\n",
       "</style>\n",
       "<table border=\"1\" class=\"dataframe\">\n",
       "  <thead>\n",
       "    <tr style=\"text-align: right;\">\n",
       "      <th></th>\n",
       "      <th>date</th>\n",
       "      <th>index_code</th>\n",
       "      <th>index_code_nm</th>\n",
       "      <th>variable</th>\n",
       "      <th>value</th>\n",
       "    </tr>\n",
       "  </thead>\n",
       "  <tbody>\n",
       "    <tr>\n",
       "      <th>15</th>\n",
       "      <td>2024-01-05 00:00:00+00:00</td>\n",
       "      <td>1016</td>\n",
       "      <td>유통업</td>\n",
       "      <td>5_20_cross</td>\n",
       "      <td>데드크로스(매도)</td>\n",
       "    </tr>\n",
       "    <tr>\n",
       "      <th>32</th>\n",
       "      <td>2024-01-05 00:00:00+00:00</td>\n",
       "      <td>1154</td>\n",
       "      <td>코스피 200 에너지/화학</td>\n",
       "      <td>5_20_cross</td>\n",
       "      <td>데드크로스(매도)</td>\n",
       "    </tr>\n",
       "    <tr>\n",
       "      <th>34</th>\n",
       "      <td>2024-01-05 00:00:00+00:00</td>\n",
       "      <td>1156</td>\n",
       "      <td>코스피 200 금융</td>\n",
       "      <td>5_20_cross</td>\n",
       "      <td>데드크로스(매도)</td>\n",
       "    </tr>\n",
       "    <tr>\n",
       "      <th>39</th>\n",
       "      <td>2024-01-05 00:00:00+00:00</td>\n",
       "      <td>1167</td>\n",
       "      <td>코스피 200 중소형주</td>\n",
       "      <td>5_20_cross</td>\n",
       "      <td>데드크로스(매도)</td>\n",
       "    </tr>\n",
       "    <tr>\n",
       "      <th>70</th>\n",
       "      <td>2024-01-05 00:00:00+00:00</td>\n",
       "      <td>2072</td>\n",
       "      <td>일반전기전자</td>\n",
       "      <td>5_20_cross</td>\n",
       "      <td>골든크로스(매수)</td>\n",
       "    </tr>\n",
       "  </tbody>\n",
       "</table>\n",
       "</div>"
      ],
      "text/plain": [
       "                        date index_code   index_code_nm    variable      value\n",
       "15 2024-01-05 00:00:00+00:00       1016             유통업  5_20_cross  데드크로스(매도)\n",
       "32 2024-01-05 00:00:00+00:00       1154  코스피 200 에너지/화학  5_20_cross  데드크로스(매도)\n",
       "34 2024-01-05 00:00:00+00:00       1156      코스피 200 금융  5_20_cross  데드크로스(매도)\n",
       "39 2024-01-05 00:00:00+00:00       1167    코스피 200 중소형주  5_20_cross  데드크로스(매도)\n",
       "70 2024-01-05 00:00:00+00:00       2072          일반전기전자  5_20_cross  골든크로스(매수)"
      ]
     },
     "execution_count": 46,
     "metadata": {},
     "output_type": "execute_result"
    }
   ],
   "source": [
    "index_indicator.head()"
   ]
  },
  {
   "cell_type": "markdown",
   "id": "e4055ab8",
   "metadata": {},
   "source": [
    "### 최종"
   ]
  },
  {
   "cell_type": "code",
   "execution_count": null,
   "id": "9aeff505",
   "metadata": {
    "ExecuteTime": {
     "end_time": "2024-01-15T02:04:47.127961Z",
     "start_time": "2024-01-15T02:04:47.122808Z"
    }
   },
   "outputs": [],
   "source": []
  },
  {
   "cell_type": "code",
   "execution_count": 47,
   "id": "cda600af",
   "metadata": {
    "ExecuteTime": {
     "end_time": "2024-01-15T11:56:48.280692Z",
     "start_time": "2024-01-15T11:56:48.264562Z"
    }
   },
   "outputs": [],
   "source": [
    "### 최종 \n",
    "df_kospi = pd.concat([stock_ratio_per,stock_indicator])\n",
    "df_kospi['type'] = 'stock'\n",
    "df_kospi.columns = ['date', 'code', 'code_nm', '등락률기간', '등락률', 'type']\n",
    "\n",
    "df_kosdaq = pd.concat([kosdaq_stock_ratio_per,kosdaq_stock_indicator])\n",
    "df_kosdaq['type'] = 'stock'\n",
    "df_kosdaq.columns = ['date', 'code', 'code_nm', '등락률기간', '등락률', 'type']\n",
    "\n",
    "df_index = pd.concat([index_ratio_per,index_indicator])\n",
    "df_index['type'] = 'index'\n",
    "df_index.columns = ['date', 'code', 'code_nm', '등락률기간', '등락률', 'type']\n",
    "\n",
    "df_total = pd.concat([df_kospi,df_kosdaq]).reset_index(drop = True)\n",
    "df_total = pd.concat([df_total,df_index]).reset_index(drop = True)\n",
    "\n",
    "df_total = df_total[['code','code_nm', '등락률기간', '등락률', 'type']]"
   ]
  },
  {
   "cell_type": "code",
   "execution_count": 48,
   "id": "3a51725f",
   "metadata": {
    "ExecuteTime": {
     "end_time": "2024-01-15T11:56:51.573715Z",
     "start_time": "2024-01-15T11:56:51.562989Z"
    }
   },
   "outputs": [
    {
     "data": {
      "text/html": [
       "<div>\n",
       "<style scoped>\n",
       "    .dataframe tbody tr th:only-of-type {\n",
       "        vertical-align: middle;\n",
       "    }\n",
       "\n",
       "    .dataframe tbody tr th {\n",
       "        vertical-align: top;\n",
       "    }\n",
       "\n",
       "    .dataframe thead th {\n",
       "        text-align: right;\n",
       "    }\n",
       "</style>\n",
       "<table border=\"1\" class=\"dataframe\">\n",
       "  <thead>\n",
       "    <tr style=\"text-align: right;\">\n",
       "      <th></th>\n",
       "      <th>code</th>\n",
       "      <th>code_nm</th>\n",
       "      <th>등락률기간</th>\n",
       "      <th>등락률</th>\n",
       "      <th>type</th>\n",
       "    </tr>\n",
       "  </thead>\n",
       "  <tbody>\n",
       "    <tr>\n",
       "      <th>0</th>\n",
       "      <td>000020</td>\n",
       "      <td>동화약품</td>\n",
       "      <td>per_30</td>\n",
       "      <td>7.605344</td>\n",
       "      <td>stock</td>\n",
       "    </tr>\n",
       "    <tr>\n",
       "      <th>1</th>\n",
       "      <td>000020</td>\n",
       "      <td>동화약품</td>\n",
       "      <td>per_240</td>\n",
       "      <td>12.823276</td>\n",
       "      <td>stock</td>\n",
       "    </tr>\n",
       "    <tr>\n",
       "      <th>2</th>\n",
       "      <td>000020</td>\n",
       "      <td>동화약품</td>\n",
       "      <td>per_180</td>\n",
       "      <td>3.051181</td>\n",
       "      <td>stock</td>\n",
       "    </tr>\n",
       "    <tr>\n",
       "      <th>3</th>\n",
       "      <td>000020</td>\n",
       "      <td>동화약품</td>\n",
       "      <td>per_365</td>\n",
       "      <td>12.098501</td>\n",
       "      <td>stock</td>\n",
       "    </tr>\n",
       "    <tr>\n",
       "      <th>4</th>\n",
       "      <td>000020</td>\n",
       "      <td>동화약품</td>\n",
       "      <td>per_90</td>\n",
       "      <td>8.049536</td>\n",
       "      <td>stock</td>\n",
       "    </tr>\n",
       "    <tr>\n",
       "      <th>...</th>\n",
       "      <td>...</td>\n",
       "      <td>...</td>\n",
       "      <td>...</td>\n",
       "      <td>...</td>\n",
       "      <td>...</td>\n",
       "    </tr>\n",
       "    <tr>\n",
       "      <th>11203</th>\n",
       "      <td>2031</td>\n",
       "      <td>금융</td>\n",
       "      <td>MACD</td>\n",
       "      <td>상향돌파(매수)</td>\n",
       "      <td>index</td>\n",
       "    </tr>\n",
       "    <tr>\n",
       "      <th>11204</th>\n",
       "      <td>2056</td>\n",
       "      <td>음식료·담배</td>\n",
       "      <td>MACD</td>\n",
       "      <td>하향돌파(매도)</td>\n",
       "      <td>index</td>\n",
       "    </tr>\n",
       "    <tr>\n",
       "      <th>11205</th>\n",
       "      <td>2181</td>\n",
       "      <td>코스닥 우량기업부</td>\n",
       "      <td>MACD</td>\n",
       "      <td>상향돌파(매수)</td>\n",
       "      <td>index</td>\n",
       "    </tr>\n",
       "    <tr>\n",
       "      <th>11206</th>\n",
       "      <td>2189</td>\n",
       "      <td>코스닥 글로벌</td>\n",
       "      <td>MACD</td>\n",
       "      <td>상향돌파(매수)</td>\n",
       "      <td>index</td>\n",
       "    </tr>\n",
       "    <tr>\n",
       "      <th>11207</th>\n",
       "      <td>2004</td>\n",
       "      <td>코스닥 소형주</td>\n",
       "      <td>RSI</td>\n",
       "      <td>RSI 상단 하향돌파(매도)</td>\n",
       "      <td>index</td>\n",
       "    </tr>\n",
       "  </tbody>\n",
       "</table>\n",
       "<p>11208 rows × 5 columns</p>\n",
       "</div>"
      ],
      "text/plain": [
       "         code    code_nm    등락률기간              등락률   type\n",
       "0      000020       동화약품   per_30         7.605344  stock\n",
       "1      000020       동화약품  per_240        12.823276  stock\n",
       "2      000020       동화약품  per_180         3.051181  stock\n",
       "3      000020       동화약품  per_365        12.098501  stock\n",
       "4      000020       동화약품   per_90         8.049536  stock\n",
       "...       ...        ...      ...              ...    ...\n",
       "11203    2031         금융     MACD         상향돌파(매수)  index\n",
       "11204    2056     음식료·담배     MACD         하향돌파(매도)  index\n",
       "11205    2181  코스닥 우량기업부     MACD         상향돌파(매수)  index\n",
       "11206    2189    코스닥 글로벌     MACD         상향돌파(매수)  index\n",
       "11207    2004    코스닥 소형주      RSI  RSI 상단 하향돌파(매도)  index\n",
       "\n",
       "[11208 rows x 5 columns]"
      ]
     },
     "execution_count": 48,
     "metadata": {},
     "output_type": "execute_result"
    }
   ],
   "source": [
    "df_total"
   ]
  },
  {
   "cell_type": "markdown",
   "id": "b5a143a5",
   "metadata": {
    "ExecuteTime": {
     "end_time": "2024-01-09T17:35:10.755298Z",
     "start_time": "2024-01-09T17:35:10.742302Z"
    }
   },
   "source": [
    "## gemini "
   ]
  },
  {
   "cell_type": "code",
   "execution_count": 63,
   "id": "5e880887",
   "metadata": {
    "ExecuteTime": {
     "end_time": "2024-01-15T12:17:24.225739Z",
     "start_time": "2024-01-15T12:17:24.220683Z"
    }
   },
   "outputs": [],
   "source": [
    "kospi_ticker_list = kor_ticker_list[kor_ticker_list['market'] == 'KOSPI']"
   ]
  },
  {
   "cell_type": "code",
   "execution_count": 64,
   "id": "8e768f6a",
   "metadata": {
    "ExecuteTime": {
     "end_time": "2024-01-15T12:19:25.839826Z",
     "start_time": "2024-01-15T12:17:26.758409Z"
    },
    "scrolled": true
   },
   "outputs": [
    {
     "name": "stdout",
     "output_type": "stream",
     "text": [
      "005930\n",
      "000660\n",
      "373220\n",
      "207940\n",
      "005935\n",
      "005490\n",
      "005380\n",
      "035420\n",
      "000270\n",
      "051910\n"
     ]
    }
   ],
   "source": [
    "\n",
    "# ticker_nm = '005930'\n",
    "total_response_df = pd.DataFrame()\n",
    "for ticker_nm in kospi_ticker_list['ticker'][:10]:\n",
    "    ticker_index_code_df = index_code_master[index_code_master['ticker'] == ticker_nm].reset_index(drop = True)\n",
    "    index_code_list = ticker_index_code_df['index_code']\n",
    "\n",
    "\n",
    "    total_df = df_total[(df_total['code'] == ticker_nm) | (df_total['code'].isin(index_code_list))].reset_index(drop = True)\n",
    "    total_df_1 = total_df[~total_df['등락률기간'].isin(['5_20_cross', '20_60_cross', 'array', 'Bollinger_band','MACD','RSI'])]\n",
    "    total_df_2 = total_df[total_df['등락률기간'].isin(['5_20_cross', '20_60_cross', 'array', 'Bollinger_band','MACD','RSI'])]\n",
    "\n",
    "    \n",
    "    # date_nm = df3['date'][0].strftime('%Y-%m-%d')\n",
    "\n",
    "    prompt = f\"\"\"\n",
    "    - 날짜:{date_nm} \n",
    "\n",
    "    - 등락률\n",
    "        - {total_df_1}\n",
    "\n",
    "    - 매수/매도신호\n",
    "        - {total_df_2}\n",
    "\n",
    "\n",
    "    증권 보고서 형태로 설명식으로 요약해줘. \n",
    "    \"\"\"\n",
    "\n",
    "    response = model.generate_content(prompt)\n",
    "#     print(response.text)\n",
    "    \n",
    "    response_df = pd.DataFrame({'ticker':ticker_nm, \n",
    "                 'response_msg':response.text}, index = [0])\n",
    "    \n",
    "    if not os.path.exists('data_crawler/total_response_df.csv'):\n",
    "        response_df.to_csv('data_crawler/total_response_df.csv', index=False, mode='w')\n",
    "    else:\n",
    "        response_df.to_csv('data_crawler/total_response_df.csv', index=False, mode='a', header=False)\n",
    "        \n",
    "#     response_df.to_csv('total_response_df.csv', index = False)\n",
    "    \n",
    "    print(ticker_nm)\n",
    "#     total_response_df = pd.concat([total_response_df, response_df])\n",
    "    \n",
    "    time.sleep(1)\n",
    "#     print(ticker_nm)\n",
    "\n",
    "\n",
    "# total_response_df.to_csv('total_response_df.csv', index = False)"
   ]
  },
  {
   "cell_type": "code",
   "execution_count": 54,
   "id": "9e37f772",
   "metadata": {
    "ExecuteTime": {
     "end_time": "2024-01-15T12:02:22.527348Z",
     "start_time": "2024-01-15T12:02:22.518029Z"
    }
   },
   "outputs": [
    {
     "data": {
      "text/html": [
       "<div>\n",
       "<style scoped>\n",
       "    .dataframe tbody tr th:only-of-type {\n",
       "        vertical-align: middle;\n",
       "    }\n",
       "\n",
       "    .dataframe tbody tr th {\n",
       "        vertical-align: top;\n",
       "    }\n",
       "\n",
       "    .dataframe thead th {\n",
       "        text-align: right;\n",
       "    }\n",
       "</style>\n",
       "<table border=\"1\" class=\"dataframe\">\n",
       "  <thead>\n",
       "    <tr style=\"text-align: right;\">\n",
       "      <th></th>\n",
       "      <th>code</th>\n",
       "      <th>code_nm</th>\n",
       "      <th>등락률기간</th>\n",
       "      <th>등락률</th>\n",
       "      <th>type</th>\n",
       "    </tr>\n",
       "  </thead>\n",
       "  <tbody>\n",
       "    <tr>\n",
       "      <th>0</th>\n",
       "      <td>00104K</td>\n",
       "      <td>CJ4우(전환)</td>\n",
       "      <td>per_180</td>\n",
       "      <td>33.394161</td>\n",
       "      <td>stock</td>\n",
       "    </tr>\n",
       "    <tr>\n",
       "      <th>1</th>\n",
       "      <td>00104K</td>\n",
       "      <td>CJ4우(전환)</td>\n",
       "      <td>per_90</td>\n",
       "      <td>16.586922</td>\n",
       "      <td>stock</td>\n",
       "    </tr>\n",
       "    <tr>\n",
       "      <th>2</th>\n",
       "      <td>00104K</td>\n",
       "      <td>CJ4우(전환)</td>\n",
       "      <td>per_365</td>\n",
       "      <td>-0.948509</td>\n",
       "      <td>stock</td>\n",
       "    </tr>\n",
       "    <tr>\n",
       "      <th>3</th>\n",
       "      <td>00104K</td>\n",
       "      <td>CJ4우(전환)</td>\n",
       "      <td>per_30</td>\n",
       "      <td>3.394625</td>\n",
       "      <td>stock</td>\n",
       "    </tr>\n",
       "    <tr>\n",
       "      <th>4</th>\n",
       "      <td>00104K</td>\n",
       "      <td>CJ4우(전환)</td>\n",
       "      <td>per_240</td>\n",
       "      <td>0.274348</td>\n",
       "      <td>stock</td>\n",
       "    </tr>\n",
       "    <tr>\n",
       "      <th>5</th>\n",
       "      <td>00104K</td>\n",
       "      <td>CJ4우(전환)</td>\n",
       "      <td>per_180</td>\n",
       "      <td>33.394161</td>\n",
       "      <td>stock</td>\n",
       "    </tr>\n",
       "    <tr>\n",
       "      <th>6</th>\n",
       "      <td>00104K</td>\n",
       "      <td>CJ4우(전환)</td>\n",
       "      <td>per_90</td>\n",
       "      <td>16.586922</td>\n",
       "      <td>stock</td>\n",
       "    </tr>\n",
       "    <tr>\n",
       "      <th>7</th>\n",
       "      <td>00104K</td>\n",
       "      <td>CJ4우(전환)</td>\n",
       "      <td>per_365</td>\n",
       "      <td>-0.948509</td>\n",
       "      <td>stock</td>\n",
       "    </tr>\n",
       "    <tr>\n",
       "      <th>8</th>\n",
       "      <td>00104K</td>\n",
       "      <td>CJ4우(전환)</td>\n",
       "      <td>per_30</td>\n",
       "      <td>3.394625</td>\n",
       "      <td>stock</td>\n",
       "    </tr>\n",
       "    <tr>\n",
       "      <th>9</th>\n",
       "      <td>00104K</td>\n",
       "      <td>CJ4우(전환)</td>\n",
       "      <td>per_240</td>\n",
       "      <td>0.274348</td>\n",
       "      <td>stock</td>\n",
       "    </tr>\n",
       "  </tbody>\n",
       "</table>\n",
       "</div>"
      ],
      "text/plain": [
       "     code   code_nm    등락률기간        등락률   type\n",
       "0  00104K  CJ4우(전환)  per_180  33.394161  stock\n",
       "1  00104K  CJ4우(전환)   per_90  16.586922  stock\n",
       "2  00104K  CJ4우(전환)  per_365  -0.948509  stock\n",
       "3  00104K  CJ4우(전환)   per_30   3.394625  stock\n",
       "4  00104K  CJ4우(전환)  per_240   0.274348  stock\n",
       "5  00104K  CJ4우(전환)  per_180  33.394161  stock\n",
       "6  00104K  CJ4우(전환)   per_90  16.586922  stock\n",
       "7  00104K  CJ4우(전환)  per_365  -0.948509  stock\n",
       "8  00104K  CJ4우(전환)   per_30   3.394625  stock\n",
       "9  00104K  CJ4우(전환)  per_240   0.274348  stock"
      ]
     },
     "execution_count": 54,
     "metadata": {},
     "output_type": "execute_result"
    }
   ],
   "source": [
    "total_df_1"
   ]
  },
  {
   "cell_type": "code",
   "execution_count": 51,
   "id": "cee9708b",
   "metadata": {
    "ExecuteTime": {
     "end_time": "2024-01-15T12:01:24.410231Z",
     "start_time": "2024-01-15T12:01:24.403774Z"
    }
   },
   "outputs": [],
   "source": [
    "dfdf= pd.read_csv('total_response_df.csv')"
   ]
  },
  {
   "cell_type": "code",
   "execution_count": 52,
   "id": "70129c7d",
   "metadata": {
    "ExecuteTime": {
     "end_time": "2024-01-15T12:01:43.135181Z",
     "start_time": "2024-01-15T12:01:43.127049Z"
    }
   },
   "outputs": [
    {
     "data": {
      "text/html": [
       "<div>\n",
       "<style scoped>\n",
       "    .dataframe tbody tr th:only-of-type {\n",
       "        vertical-align: middle;\n",
       "    }\n",
       "\n",
       "    .dataframe tbody tr th {\n",
       "        vertical-align: top;\n",
       "    }\n",
       "\n",
       "    .dataframe thead th {\n",
       "        text-align: right;\n",
       "    }\n",
       "</style>\n",
       "<table border=\"1\" class=\"dataframe\">\n",
       "  <thead>\n",
       "    <tr style=\"text-align: right;\">\n",
       "      <th></th>\n",
       "      <th>ticker</th>\n",
       "      <th>response_msg</th>\n",
       "    </tr>\n",
       "  </thead>\n",
       "  <tbody>\n",
       "    <tr>\n",
       "      <th>0</th>\n",
       "      <td>095570</td>\n",
       "      <td>**증권 보고서**\\n\\n**날짜:** 2024년 1월 5일\\n\\n**주식 코드:*...</td>\n",
       "    </tr>\n",
       "    <tr>\n",
       "      <th>1</th>\n",
       "      <td>006840</td>\n",
       "      <td>종목코드 006840 AK홀딩스는 90일 등락률이 -0.058928%, 365일 등...</td>\n",
       "    </tr>\n",
       "    <tr>\n",
       "      <th>2</th>\n",
       "      <td>027410</td>\n",
       "      <td>**증권 보고서**\\n\\n**일자:** 2024-01-05 00:00:00+00:0...</td>\n",
       "    </tr>\n",
       "    <tr>\n",
       "      <th>3</th>\n",
       "      <td>282330</td>\n",
       "      <td>**증권 보고서**\\n\\n**날짜:** 2024-01-05\\n\\n**주식:** BG...</td>\n",
       "    </tr>\n",
       "    <tr>\n",
       "      <th>4</th>\n",
       "      <td>138930</td>\n",
       "      <td>**날짜:** 2024년 1월 5일 00:00:00+00:00\\n\\n**등락률**\\...</td>\n",
       "    </tr>\n",
       "    <tr>\n",
       "      <th>5</th>\n",
       "      <td>001460</td>\n",
       "      <td>증권 보고서\\n\\n**날짜:** 2024-01-05 00:00:00+00:00\\n\\...</td>\n",
       "    </tr>\n",
       "    <tr>\n",
       "      <th>6</th>\n",
       "      <td>001465</td>\n",
       "      <td>**등락률 및 매수/매도 신호**\\n\\n**증권 코드:** 001465\\n\\n**증...</td>\n",
       "    </tr>\n",
       "    <tr>\n",
       "      <th>7</th>\n",
       "      <td>001040</td>\n",
       "      <td>**증권 보고서**\\n\\n**날짜:** 2024년 1월 5일\\n\\n**주식 코드:*...</td>\n",
       "    </tr>\n",
       "    <tr>\n",
       "      <th>8</th>\n",
       "      <td>079160</td>\n",
       "      <td>**증권 보고서**\\n\\n**날짜:** 2024년 1월 5일\\n\\n**1. 시장 동...</td>\n",
       "    </tr>\n",
       "    <tr>\n",
       "      <th>9</th>\n",
       "      <td>00104K</td>\n",
       "      <td>**증권 보고서**\\n\\n**날짜:** 2024-01-05 00:00:00+00:0...</td>\n",
       "    </tr>\n",
       "  </tbody>\n",
       "</table>\n",
       "</div>"
      ],
      "text/plain": [
       "   ticker                                       response_msg\n",
       "0  095570  **증권 보고서**\\n\\n**날짜:** 2024년 1월 5일\\n\\n**주식 코드:*...\n",
       "1  006840  종목코드 006840 AK홀딩스는 90일 등락률이 -0.058928%, 365일 등...\n",
       "2  027410  **증권 보고서**\\n\\n**일자:** 2024-01-05 00:00:00+00:0...\n",
       "3  282330  **증권 보고서**\\n\\n**날짜:** 2024-01-05\\n\\n**주식:** BG...\n",
       "4  138930  **날짜:** 2024년 1월 5일 00:00:00+00:00\\n\\n**등락률**\\...\n",
       "5  001460  증권 보고서\\n\\n**날짜:** 2024-01-05 00:00:00+00:00\\n\\...\n",
       "6  001465  **등락률 및 매수/매도 신호**\\n\\n**증권 코드:** 001465\\n\\n**증...\n",
       "7  001040  **증권 보고서**\\n\\n**날짜:** 2024년 1월 5일\\n\\n**주식 코드:*...\n",
       "8  079160  **증권 보고서**\\n\\n**날짜:** 2024년 1월 5일\\n\\n**1. 시장 동...\n",
       "9  00104K  **증권 보고서**\\n\\n**날짜:** 2024-01-05 00:00:00+00:0..."
      ]
     },
     "execution_count": 52,
     "metadata": {},
     "output_type": "execute_result"
    }
   ],
   "source": [
    "dfdf"
   ]
  }
 ],
 "metadata": {
  "kernelspec": {
   "display_name": "Python 3 (ipykernel)",
   "language": "python",
   "name": "python3"
  },
  "language_info": {
   "codemirror_mode": {
    "name": "ipython",
    "version": 3
   },
   "file_extension": ".py",
   "mimetype": "text/x-python",
   "name": "python",
   "nbconvert_exporter": "python",
   "pygments_lexer": "ipython3",
   "version": "3.11.3"
  },
  "toc": {
   "base_numbering": 1,
   "nav_menu": {},
   "number_sections": true,
   "sideBar": true,
   "skip_h1_title": false,
   "title_cell": "Table of Contents",
   "title_sidebar": "Contents",
   "toc_cell": false,
   "toc_position": {
    "height": "calc(100% - 180px)",
    "left": "10px",
    "top": "150px",
    "width": "242.557px"
   },
   "toc_section_display": true,
   "toc_window_display": true
  }
 },
 "nbformat": 4,
 "nbformat_minor": 5
}
