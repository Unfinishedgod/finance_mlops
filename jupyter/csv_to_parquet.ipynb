{
 "cells": [
  {
   "cell_type": "code",
   "execution_count": 1,
   "id": "58384244",
   "metadata": {
    "ExecuteTime": {
     "end_time": "2024-01-07T08:46:32.643990Z",
     "start_time": "2024-01-07T08:46:30.536735Z"
    }
   },
   "outputs": [],
   "source": [
    "#!/usr/bin/env python\n",
    "# coding: utf-8\n",
    "\n",
    "import pandas as pd\n",
    "import pandas_gbq\n",
    "from pykrx import stock\n",
    "from pykrx import bond\n",
    "import FinanceDataReader as fdr\n",
    "\n",
    "\n",
    "from time import sleep\n",
    "\n",
    "import psycopg2 as pg2\n",
    "from sqlalchemy import create_engine\n",
    "\n",
    "from datetime import datetime\n",
    "from datetime import timedelta\n",
    "\n",
    "import os\n",
    "import time\n",
    "\n",
    "import glob\n",
    "from google.cloud import bigquery\n",
    "from google.oauth2 import service_account\n",
    "from google.cloud import storage\n",
    "\n",
    "\n",
    "from pyarrow import csv\n",
    "import pyarrow as pa\n",
    "import pyarrow.parquet as pq\n",
    "\n",
    "# 경로 변경\n",
    "os.chdir('/home/shjj08choi4/finance_mlops')\n",
    "\n",
    "\n",
    "# 서비스 계정 키 JSON 파일 경로\n",
    "key_path = glob.glob(\"key_value/*.json\")[0]\n",
    "\n",
    "# Credentials 객체 생성\n",
    "credentials = service_account.Credentials.from_service_account_file(key_path)\n",
    "\n",
    "# 빅쿼리 정보\n",
    "project_id = 'owenchoi-404302'\n",
    "dataset_id = 'finance_mlops'\n",
    "\n",
    "# GCP 클라이언트 객체 생성\n",
    "storage_client = storage.Client(credentials = credentials, \n",
    "                         project = credentials.project_id)\n",
    "bucket_name = 'finance-mlops-proj'     # 서비스 계정 생성한 bucket 이름 입력\n",
    "\n",
    "# Postgresql 연결\n",
    "db_connect_info = pd.read_csv('key_value/db_connect_info.csv')\n",
    "username = db_connect_info['username'][0]\n",
    "password = db_connect_info['password'][0]\n",
    "host = db_connect_info['host'][0]\n",
    "database = db_connect_info['database'][0]\n",
    "engine = create_engine(f'postgresql+psycopg2://{username}:{password}@{host}:5432/{database}')\n",
    "\n"
   ]
  },
  {
   "cell_type": "code",
   "execution_count": null,
   "id": "a9ea06f6",
   "metadata": {},
   "outputs": [],
   "source": [
    "# kor_index_ohlcv\n",
    "# kor_index_code_fundamental\n",
    "# kor_index_list_df"
   ]
  },
  {
   "cell_type": "code",
   "execution_count": 4,
   "id": "8d7b2f18",
   "metadata": {
    "ExecuteTime": {
     "end_time": "2024-01-07T08:58:09.260207Z",
     "start_time": "2024-01-07T08:58:09.253682Z"
    }
   },
   "outputs": [
    {
     "data": {
      "text/plain": [
       "['./data_crawler/kor_index_ohlcv/kor_index_ohlcv.csv']"
      ]
     },
     "execution_count": 4,
     "metadata": {},
     "output_type": "execute_result"
    }
   ],
   "source": [
    "glob.glob('./data_crawler/kor_index_ohlcv/*')"
   ]
  },
  {
   "cell_type": "code",
   "execution_count": 9,
   "id": "de0708dc",
   "metadata": {
    "ExecuteTime": {
     "end_time": "2024-01-07T09:01:36.920539Z",
     "start_time": "2024-01-07T09:01:35.881814Z"
    }
   },
   "outputs": [
    {
     "name": "stdout",
     "output_type": "stream",
     "text": [
      "kor_index_ohlcv\n"
     ]
    },
    {
     "name": "stderr",
     "output_type": "stream",
     "text": [
      "/home/shjj08choi4/anaconda3/lib/python3.11/site-packages/pyarrow/pandas_compat.py:373: FutureWarning: is_sparse is deprecated and will be removed in a future version. Check `isinstance(dtype, pd.SparseDtype)` instead.\n",
      "  if _pandas_api.is_sparse(col):\n"
     ]
    },
    {
     "name": "stdout",
     "output_type": "stream",
     "text": [
      "kor_index_code_fundamental\n",
      "kor_index_list_df\n"
     ]
    },
    {
     "name": "stderr",
     "output_type": "stream",
     "text": [
      "/home/shjj08choi4/anaconda3/lib/python3.11/site-packages/pyarrow/pandas_compat.py:373: FutureWarning: is_sparse is deprecated and will be removed in a future version. Check `isinstance(dtype, pd.SparseDtype)` instead.\n",
      "  if _pandas_api.is_sparse(col):\n",
      "/home/shjj08choi4/anaconda3/lib/python3.11/site-packages/pyarrow/pandas_compat.py:373: FutureWarning: is_sparse is deprecated and will be removed in a future version. Check `isinstance(dtype, pd.SparseDtype)` instead.\n",
      "  if _pandas_api.is_sparse(col):\n"
     ]
    }
   ],
   "source": [
    "for file_nm in ['kor_index_ohlcv','kor_index_code_fundamental','kor_index_list_df']:\n",
    "    print(file_nm)\n",
    "    df = pd.read_csv(f'./data_crawler/{file_nm}/{file_nm}.csv')\n",
    "    table_from_pandas = pa.Table.from_pandas(df,preserve_index = False)\n",
    "    pq.write_table(table_from_pandas, f'./data_crawler/{file_nm}/{file_nm}.parquet')\n",
    "\n",
    "    # Google Storage 적재\n",
    "    source_file_name = f'./data_crawler/{file_nm}/{file_nm}.parquet'   # GCP에 업로드할 파일 절대경로\n",
    "    destination_blob_name = f'./data_crawler/{file_nm}/{file_nm}.parquet'    # 업로드할 파일을 GCP에 저장할 때의 이름\n",
    "    bucket = storage_client.bucket(bucket_name)\n",
    "    blob = bucket.blob(destination_blob_name)\n",
    "    blob.upload_from_filename(source_file_name)\n",
    "    "
   ]
  },
  {
   "cell_type": "code",
   "execution_count": 5,
   "id": "baf3c17b",
   "metadata": {
    "ExecuteTime": {
     "end_time": "2024-01-07T08:58:21.377055Z",
     "start_time": "2024-01-07T08:58:21.370958Z"
    }
   },
   "outputs": [
    {
     "data": {
      "text/plain": [
       "['./data_crawler/kor_index_code_fundamental/kor_index_code_fundamental.csv']"
      ]
     },
     "execution_count": 5,
     "metadata": {},
     "output_type": "execute_result"
    }
   ],
   "source": [
    "glob.glob('./data_crawler/kor_index_code_fundamental/*')"
   ]
  },
  {
   "cell_type": "code",
   "execution_count": 6,
   "id": "cfb49ee0",
   "metadata": {
    "ExecuteTime": {
     "end_time": "2024-01-07T08:58:21.502772Z",
     "start_time": "2024-01-07T08:58:21.496850Z"
    }
   },
   "outputs": [
    {
     "data": {
      "text/plain": [
       "['./data_crawler/kor_index_list_df/kor_index_list_df.csv']"
      ]
     },
     "execution_count": 6,
     "metadata": {},
     "output_type": "execute_result"
    }
   ],
   "source": [
    "glob.glob('./data_crawler/kor_index_list_df/*')"
   ]
  },
  {
   "cell_type": "code",
   "execution_count": null,
   "id": "cf7120c3",
   "metadata": {},
   "outputs": [],
   "source": []
  },
  {
   "cell_type": "code",
   "execution_count": null,
   "id": "969a9352",
   "metadata": {},
   "outputs": [],
   "source": []
  }
 ],
 "metadata": {
  "kernelspec": {
   "display_name": "Python 3 (ipykernel)",
   "language": "python",
   "name": "python3"
  },
  "language_info": {
   "codemirror_mode": {
    "name": "ipython",
    "version": 3
   },
   "file_extension": ".py",
   "mimetype": "text/x-python",
   "name": "python",
   "nbconvert_exporter": "python",
   "pygments_lexer": "ipython3",
   "version": "3.11.3"
  },
  "toc": {
   "base_numbering": 1,
   "nav_menu": {},
   "number_sections": true,
   "sideBar": true,
   "skip_h1_title": false,
   "title_cell": "Table of Contents",
   "title_sidebar": "Contents",
   "toc_cell": false,
   "toc_position": {},
   "toc_section_display": true,
   "toc_window_display": false
  }
 },
 "nbformat": 4,
 "nbformat_minor": 5
}
