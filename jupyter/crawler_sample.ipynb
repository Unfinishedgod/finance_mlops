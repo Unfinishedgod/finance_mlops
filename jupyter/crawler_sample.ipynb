{
 "cells": [
  {
   "cell_type": "code",
   "execution_count": 36,
   "id": "c5f49d63",
   "metadata": {
    "ExecuteTime": {
     "end_time": "2024-01-08T06:19:23.987301Z",
     "start_time": "2024-01-08T06:19:23.965328Z"
    }
   },
   "outputs": [
    {
     "name": "stdout",
     "output_type": "stream",
     "text": [
      "2024-01-08 pykrx_crawler Start\n"
     ]
    }
   ],
   "source": [
    "#!/usr/bin/env python\n",
    "# coding: utf-8\n",
    "\n",
    "import pandas as pd\n",
    "import pandas_gbq\n",
    "from pykrx import stock\n",
    "from pykrx import bond\n",
    "import FinanceDataReader as fdr\n",
    "\n",
    "\n",
    "from time import sleep\n",
    "\n",
    "import psycopg2 as pg2\n",
    "from sqlalchemy import create_engine\n",
    "\n",
    "from datetime import datetime\n",
    "from datetime import timedelta\n",
    "\n",
    "import os\n",
    "import time\n",
    "\n",
    "import glob\n",
    "from google.cloud import bigquery\n",
    "from google.oauth2 import service_account\n",
    "from google.cloud import storage\n",
    "\n",
    "\n",
    "# 경로 변경\n",
    "os.chdir('/home/shjj08choi4/finance_mlops')\n",
    "\n",
    "\n",
    "# 서비스 계정 키 JSON 파일 경로\n",
    "key_path = glob.glob(\"key_value/*.json\")[0]\n",
    "\n",
    "# Credentials 객체 생성\n",
    "credentials = service_account.Credentials.from_service_account_file(key_path)\n",
    "\n",
    "# 빅쿼리 정보\n",
    "project_id = 'owenchoi-404302'\n",
    "dataset_id = 'finance_mlops'\n",
    "\n",
    "# GCP 클라이언트 객체 생성\n",
    "storage_client = storage.Client(credentials = credentials,\n",
    "                         project = credentials.project_id)\n",
    "bucket_name = 'finance-mlops-proj'    # 서비스 계정 생성한 bucket 이름 입력\n",
    "\n",
    "# Postgresql 연결\n",
    "db_connect_info = pd.read_csv('key_value/db_connect_info.csv')\n",
    "username = db_connect_info['username'][0]\n",
    "password = db_connect_info['password'][0]\n",
    "host = db_connect_info['host'][0]\n",
    "database = db_connect_info['database'][0]\n",
    "engine = create_engine(f'postgresql+psycopg2://{username}:{password}@{host}:5432/{database}')\n",
    "\n",
    "\n",
    "\n",
    "now = datetime.now()\n",
    "# now = now + timedelta(days=-2)\n",
    "today_date1 = now.strftime('%Y%m%d')\n",
    "today_date2 = now.strftime('%Y-%m-%d')\n",
    "today_date_time_csv = now.strftime(\"%Y%m%d_%H%M\")\n",
    "\n",
    "\n",
    "print(f'{today_date2} pykrx_crawler Start')\n",
    "\n",
    "def upload_df(data, file_name, project_id, dataset_id, time_line, today_date1):\n",
    "    if not os.path.exists(f'data_crawler/{file_name}'):\n",
    "        os.makedirs(f'data_crawler/{file_name}')\n",
    "\n",
    "    try:\n",
    "        if not os.path.exists(f'data_crawler/{file_name}/{file_name}_{today_date1}.csv'):\n",
    "            data.to_csv(f'data_crawler/{file_name}/{file_name}_{today_date1}.csv', index=False, mode='w')\n",
    "        else:\n",
    "            data.to_csv(f'data_crawler/{file_name}/{file_name}_{today_date1}.csv', index=False, mode='a', header=False)\n",
    "        print(f'{file_name}_로컬CSV저장_success_{time_line}')\n",
    "    except:\n",
    "        print(f'{file_name}_로컬CSV저장_fail_{time_line}')\n",
    "\n",
    "\n",
    "    # Google Storage 적재\n",
    "    source_file_name = f'data_crawler/{file_name}/{file_name}_{today_date1}.csv'    # GCP에 업로드할 파일 절대경로\n",
    "    destination_blob_name = f'data_crawler/{file_name}/{file_name}_{today_date1}.csv'    # 업로드할 파일을 GCP에 저장할 때의 이름\n",
    "    bucket = storage_client.bucket(bucket_name)\n",
    "    blob = bucket.blob(destination_blob_name)\n",
    "    blob.upload_from_filename(source_file_name)\n",
    "\n",
    "    try:\n",
    "        # 빅쿼리 데이터 적재\n",
    "        data.to_gbq(destination_table=f'{project_id}.{dataset_id}.{file_name}',\n",
    "          project_id=project_id,\n",
    "          if_exists='append',\n",
    "          credentials=credentials)\n",
    "        print(f'{file_name}_빅쿼리저장_success_{time_line}')\n",
    "    except:\n",
    "        print(f'{file_name}_빅쿼리저장_fail_{time_line}')\n",
    "\n",
    "\n",
    "    try:\n",
    "        # Postgresql 적재\n",
    "        data.to_sql(f'{file_name}',if_exists='append', con=engine,  index=False)\n",
    "        print(f'{file_name}_Postgresql저장_success_{time_line}')\n",
    "    except:\n",
    "        print(f'{file_name}_Postgresql저장_fail_{time_line}')\n"
   ]
  },
  {
   "cell_type": "code",
   "execution_count": 37,
   "id": "52ae762d",
   "metadata": {
    "ExecuteTime": {
     "end_time": "2024-01-08T06:19:38.219809Z",
     "start_time": "2024-01-08T06:19:26.255545Z"
    }
   },
   "outputs": [
    {
     "name": "stdout",
     "output_type": "stream",
     "text": [
      "시가총액 시작\n",
      "시가총액 완료_20240108_15:19:38\n"
     ]
    }
   ],
   "source": [
    "\n",
    "# # 주식 정보\n",
    "\n",
    "print(f'시가총액 시작')\n",
    "df_raw = stock.get_market_cap(today_date1,  market=\"ALL\")\n",
    "df_raw = df_raw.reset_index()\n",
    "df_raw['날짜'] = today_date2\n",
    "df_raw = df_raw[['날짜', '시가총액', '거래량','거래대금' ,'상장주식수', '티커']]\n",
    "df_raw.columns = ['date', 'market_cap', 'volume', 'trading_value', 'outstanding_shares', 'ticker']\n",
    "df_raw['date'] = pd.to_datetime(df_raw['date'])\n",
    "\n",
    "file_name = 'cron_test_kor_market_cap'\n",
    "\n",
    "now1 = datetime.now()\n",
    "time_line = now1.strftime(\"%Y%m%d_%H:%M:%S\")\n",
    "\n",
    "# upload_df(df_raw, file_name, project_id, dataset_id, time_line, today_date1)\n",
    "print(f'시가총액 완료_{time_line}')\n",
    "\n"
   ]
  },
  {
   "cell_type": "code",
   "execution_count": 41,
   "id": "a9043ca3",
   "metadata": {
    "ExecuteTime": {
     "end_time": "2024-01-08T06:21:48.851571Z",
     "start_time": "2024-01-08T06:21:32.861072Z"
    }
   },
   "outputs": [
    {
     "name": "stdout",
     "output_type": "stream",
     "text": [
      "cron_test_kor_ticker_list_로컬CSV저장_success_20240108_15:21:44\n"
     ]
    },
    {
     "name": "stderr",
     "output_type": "stream",
     "text": [
      "100%|██████████| 1/1 [00:00<00:00, 9939.11it/s]"
     ]
    },
    {
     "name": "stdout",
     "output_type": "stream",
     "text": [
      "cron_test_kor_ticker_list_빅쿼리저장_success_20240108_15:21:44\n",
      "cron_test_kor_ticker_list_Postgresql저장_success_20240108_15:21:44\n"
     ]
    },
    {
     "name": "stderr",
     "output_type": "stream",
     "text": [
      "\n"
     ]
    }
   ],
   "source": [
    "\n",
    "## 티커 리스트\n",
    "market_list = ['KOSPI', 'KOSDAQ']\n",
    "kor_ticker_list_df = pd.DataFrame()\n",
    "for market_nm in market_list:\n",
    "    ticker_list = stock.get_market_ticker_list(today_date1, market=market_nm)\n",
    "    for tickers in ticker_list:\n",
    "        corp_name = stock.get_market_ticker_name(tickers)\n",
    "        df = pd.DataFrame({'ticker':tickers,\n",
    "                           'corp_name':corp_name,\n",
    "                           'market': market_nm\n",
    "                          }, index = [0])\n",
    "        kor_ticker_list_df = pd.concat([kor_ticker_list_df,df])\n",
    "\n",
    "\n",
    "# 시가총액 별로 정렬\n",
    "kor_ticker_list_df = kor_ticker_list_df.reset_index(drop = True)\n",
    "kor_ticker_list_df_2 = pd.merge(kor_ticker_list_df, df_raw[['market_cap', 'ticker']],\n",
    "        on = 'ticker', \n",
    "        how = 'left')\n",
    "kor_ticker_list_df_2['rank'] = kor_ticker_list_df_2.groupby('market')['market_cap'].rank(method='min', ascending=False)\n",
    "kor_ticker_list_df_2['rank'] = kor_ticker_list_df_2['rank'].astype(int)\n",
    "kor_ticker_list_df_2 = kor_ticker_list_df_2.drop(['market_cap'], axis = 1)\n",
    "\n",
    "kor_ticker_list_df = kor_ticker_list_df_2.sort_values(by = 'rank').reset_index(drop = True)\n",
    "\n",
    "now1 = datetime.now()\n",
    "time_line = now1.strftime(\"%Y%m%d_%H:%M:%S\")\n",
    "\n",
    "file_name = 'kor_ticker_list'\n",
    "upload_df(kor_ticker_list_df, file_name, project_id, dataset_id, time_line, today_date1)\n",
    "kor_ticker_list = kor_ticker_list_df['ticker']"
   ]
  },
  {
   "cell_type": "code",
   "execution_count": 42,
   "id": "8a040a76",
   "metadata": {
    "ExecuteTime": {
     "end_time": "2024-01-08T06:22:50.270972Z",
     "start_time": "2024-01-08T06:22:46.553608Z"
    }
   },
   "outputs": [
    {
     "name": "stdout",
     "output_type": "stream",
     "text": [
      "kor_ticker_list_로컬CSV저장_success_20240108_15:21:44\n"
     ]
    },
    {
     "name": "stderr",
     "output_type": "stream",
     "text": [
      "100%|██████████| 1/1 [00:00<00:00, 4359.98it/s]"
     ]
    },
    {
     "name": "stdout",
     "output_type": "stream",
     "text": [
      "kor_ticker_list_빅쿼리저장_success_20240108_15:21:44\n",
      "kor_ticker_list_Postgresql저장_fail_20240108_15:21:44\n"
     ]
    },
    {
     "name": "stderr",
     "output_type": "stream",
     "text": [
      "\n"
     ]
    }
   ],
   "source": [
    "file_name = 'kor_ticker_list'\n",
    "upload_df(kor_ticker_list_df, file_name, project_id, dataset_id, time_line, today_date1)"
   ]
  },
  {
   "cell_type": "code",
   "execution_count": 43,
   "id": "5fcaa196",
   "metadata": {
    "ExecuteTime": {
     "end_time": "2024-01-08T06:23:53.152128Z",
     "start_time": "2024-01-08T06:23:53.140112Z"
    }
   },
   "outputs": [
    {
     "data": {
      "text/html": [
       "<div>\n",
       "<style scoped>\n",
       "    .dataframe tbody tr th:only-of-type {\n",
       "        vertical-align: middle;\n",
       "    }\n",
       "\n",
       "    .dataframe tbody tr th {\n",
       "        vertical-align: top;\n",
       "    }\n",
       "\n",
       "    .dataframe thead th {\n",
       "        text-align: right;\n",
       "    }\n",
       "</style>\n",
       "<table border=\"1\" class=\"dataframe\">\n",
       "  <thead>\n",
       "    <tr style=\"text-align: right;\">\n",
       "      <th></th>\n",
       "      <th>ticker</th>\n",
       "      <th>corp_name</th>\n",
       "      <th>market</th>\n",
       "      <th>rank</th>\n",
       "    </tr>\n",
       "  </thead>\n",
       "  <tbody>\n",
       "    <tr>\n",
       "      <th>0</th>\n",
       "      <td>247540</td>\n",
       "      <td>에코프로비엠</td>\n",
       "      <td>KOSDAQ</td>\n",
       "      <td>1</td>\n",
       "    </tr>\n",
       "    <tr>\n",
       "      <th>1</th>\n",
       "      <td>005930</td>\n",
       "      <td>삼성전자</td>\n",
       "      <td>KOSPI</td>\n",
       "      <td>1</td>\n",
       "    </tr>\n",
       "    <tr>\n",
       "      <th>2</th>\n",
       "      <td>000660</td>\n",
       "      <td>SK하이닉스</td>\n",
       "      <td>KOSPI</td>\n",
       "      <td>2</td>\n",
       "    </tr>\n",
       "    <tr>\n",
       "      <th>3</th>\n",
       "      <td>086520</td>\n",
       "      <td>에코프로</td>\n",
       "      <td>KOSDAQ</td>\n",
       "      <td>2</td>\n",
       "    </tr>\n",
       "    <tr>\n",
       "      <th>4</th>\n",
       "      <td>091990</td>\n",
       "      <td>셀트리온헬스케어</td>\n",
       "      <td>KOSDAQ</td>\n",
       "      <td>3</td>\n",
       "    </tr>\n",
       "    <tr>\n",
       "      <th>...</th>\n",
       "      <td>...</td>\n",
       "      <td>...</td>\n",
       "      <td>...</td>\n",
       "      <td>...</td>\n",
       "    </tr>\n",
       "    <tr>\n",
       "      <th>2651</th>\n",
       "      <td>438580</td>\n",
       "      <td>엔에이치스팩25호</td>\n",
       "      <td>KOSDAQ</td>\n",
       "      <td>1699</td>\n",
       "    </tr>\n",
       "    <tr>\n",
       "      <th>2652</th>\n",
       "      <td>413600</td>\n",
       "      <td>키움제6호스팩</td>\n",
       "      <td>KOSDAQ</td>\n",
       "      <td>1700</td>\n",
       "    </tr>\n",
       "    <tr>\n",
       "      <th>2653</th>\n",
       "      <td>457940</td>\n",
       "      <td>에스케이증권제10호스팩</td>\n",
       "      <td>KOSDAQ</td>\n",
       "      <td>1701</td>\n",
       "    </tr>\n",
       "    <tr>\n",
       "      <th>2654</th>\n",
       "      <td>032685</td>\n",
       "      <td>소프트센우</td>\n",
       "      <td>KOSDAQ</td>\n",
       "      <td>1702</td>\n",
       "    </tr>\n",
       "    <tr>\n",
       "      <th>2655</th>\n",
       "      <td>021045</td>\n",
       "      <td>대호특수강우</td>\n",
       "      <td>KOSDAQ</td>\n",
       "      <td>1703</td>\n",
       "    </tr>\n",
       "  </tbody>\n",
       "</table>\n",
       "<p>2656 rows × 4 columns</p>\n",
       "</div>"
      ],
      "text/plain": [
       "      ticker     corp_name  market  rank\n",
       "0     247540        에코프로비엠  KOSDAQ     1\n",
       "1     005930          삼성전자   KOSPI     1\n",
       "2     000660        SK하이닉스   KOSPI     2\n",
       "3     086520          에코프로  KOSDAQ     2\n",
       "4     091990      셀트리온헬스케어  KOSDAQ     3\n",
       "...      ...           ...     ...   ...\n",
       "2651  438580     엔에이치스팩25호  KOSDAQ  1699\n",
       "2652  413600       키움제6호스팩  KOSDAQ  1700\n",
       "2653  457940  에스케이증권제10호스팩  KOSDAQ  1701\n",
       "2654  032685         소프트센우  KOSDAQ  1702\n",
       "2655  021045        대호특수강우  KOSDAQ  1703\n",
       "\n",
       "[2656 rows x 4 columns]"
      ]
     },
     "execution_count": 43,
     "metadata": {},
     "output_type": "execute_result"
    }
   ],
   "source": [
    "kor_ticker_list_df"
   ]
  }
 ],
 "metadata": {
  "kernelspec": {
   "display_name": "Python 3 (ipykernel)",
   "language": "python",
   "name": "python3"
  },
  "language_info": {
   "codemirror_mode": {
    "name": "ipython",
    "version": 3
   },
   "file_extension": ".py",
   "mimetype": "text/x-python",
   "name": "python",
   "nbconvert_exporter": "python",
   "pygments_lexer": "ipython3",
   "version": "3.11.3"
  },
  "toc": {
   "base_numbering": 1,
   "nav_menu": {},
   "number_sections": true,
   "sideBar": true,
   "skip_h1_title": false,
   "title_cell": "Table of Contents",
   "title_sidebar": "Contents",
   "toc_cell": false,
   "toc_position": {},
   "toc_section_display": true,
   "toc_window_display": false
  }
 },
 "nbformat": 4,
 "nbformat_minor": 5
}
