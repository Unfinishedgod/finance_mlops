{
 "cells": [
  {
   "cell_type": "code",
   "execution_count": 55,
   "id": "5ee10046",
   "metadata": {},
   "outputs": [],
   "source": [
    "#!/usr/bin/env python\n",
    "# coding: utf-8\n",
    "\n",
    "# In[1]:\n",
    "\n",
    "\n",
    "import pandas as pd\n",
    "import pandas_gbq\n",
    "from pykrx import stock\n",
    "from pykrx import bond\n",
    "import FinanceDataReader as fdr\n",
    "\n",
    "from time import sleep\n",
    "\n",
    "import psycopg2 as pg2\n",
    "from sqlalchemy import create_engine\n",
    "\n",
    "from datetime import datetime\n",
    "import os\n",
    "import time\n",
    "\n",
    "import glob\n",
    "from google.cloud import bigquery\n",
    "from google.oauth2 import service_account\n",
    "from google.cloud import storage\n",
    "\n",
    "# 경로 변경\n",
    "os.chdir('/home/owenchoi07/finance_mlops')\n",
    "\n",
    "\n",
    "# 서비스 계정 키 JSON 파일 경로\n",
    "key_path = glob.glob(\"key_value/*.json\")[0]\n",
    "\n",
    "# Credentials 객체 생성\n",
    "credentials = service_account.Credentials.from_service_account_file(key_path)\n",
    "\n",
    "# 빅쿼리 정보\n",
    "project_id = 'owen-389015'\n",
    "dataset_id = 'finance_mlops'\n",
    "\n",
    "\n",
    "# GCP 클라이언트 객체 생성\n",
    "storage_client = storage.Client(credentials = credentials, \n",
    "                         project = credentials.project_id)\n",
    "bucket_name = 'finance-mlops'    # 서비스 계정 생성한 bucket 이름 입력\n",
    "\n",
    "# Postgresql 연결\n",
    "db_connect_info = pd.read_csv('key_value/db_connect_info.csv')\n",
    "\n",
    "username = db_connect_info['username'][0]\n",
    "password = db_connect_info['password'][0]\n",
    "host = db_connect_info['host'][0]\n",
    "database = db_connect_info['database'][0]\n",
    "\n",
    "engine = create_engine(f'postgresql+psycopg2://{username}:{password}@{host}:5432/{database}')"
   ]
  },
  {
   "cell_type": "code",
   "execution_count": 10,
   "id": "7d429808",
   "metadata": {},
   "outputs": [],
   "source": [
    "ticker_nm = 'AAPL'\n",
    "start_date2 = '2017-07-01'\n",
    "today_date2 = '2023-07-20'\n",
    "\n",
    "df_raw = fdr.DataReader(ticker_nm, start_date2,today_date2)\n",
    "df_raw['ticker'] = ticker_nm"
   ]
  },
  {
   "cell_type": "code",
   "execution_count": 12,
   "id": "ab812964",
   "metadata": {},
   "outputs": [
    {
     "data": {
      "text/plain": [
       "Index(['Open', 'High', 'Low', 'Close', 'Adj Close', 'Volume', 'ticker'], dtype='object')"
      ]
     },
     "execution_count": 12,
     "metadata": {},
     "output_type": "execute_result"
    }
   ],
   "source": [
    "df_raw.reset_index()\n",
    "df_raw.columns = ['Date', 'Open','High','Low','Close','Adj_Close','Volume','ticker']"
   ]
  },
  {
   "cell_type": "code",
   "execution_count": 16,
   "id": "b117dec2",
   "metadata": {},
   "outputs": [
    {
     "data": {
      "text/plain": [
       "'/home/owenchoi07/finance_mlops'"
      ]
     },
     "execution_count": 16,
     "metadata": {},
     "output_type": "execute_result"
    }
   ],
   "source": [
    "os.getcwd()"
   ]
  },
  {
   "cell_type": "code",
   "execution_count": 18,
   "id": "2402b587",
   "metadata": {},
   "outputs": [
    {
     "name": "stderr",
     "output_type": "stream",
     "text": [
      "/tmp/ipykernel_1509791/3324290076.py:1: DtypeWarning: Columns (8) have mixed types. Specify dtype option on import or set low_memory=False.\n",
      "  kor_stock_ohlcv = pd.read_csv('./data_crawler/kor_stock_ohlcv.csv')\n"
     ]
    }
   ],
   "source": [
    "kor_stock_ohlcv = pd.read_csv('./data_crawler/kor_stock_ohlcv.csv')"
   ]
  },
  {
   "cell_type": "code",
   "execution_count": 19,
   "id": "6266c016",
   "metadata": {},
   "outputs": [],
   "source": [
    "kor_ticker_list = pd.read_csv('./data_crawler/kor_ticker_list.csv')"
   ]
  },
  {
   "cell_type": "code",
   "execution_count": 25,
   "id": "52a0195c",
   "metadata": {},
   "outputs": [],
   "source": [
    "kor_stock_ohlcv_count = kor_stock_ohlcv[['date','ticker']].groupby(['ticker']).count().reset_index()"
   ]
  },
  {
   "cell_type": "code",
   "execution_count": 35,
   "id": "1694f14e",
   "metadata": {},
   "outputs": [
    {
     "data": {
      "text/html": [
       "<div>\n",
       "<style scoped>\n",
       "    .dataframe tbody tr th:only-of-type {\n",
       "        vertical-align: middle;\n",
       "    }\n",
       "\n",
       "    .dataframe tbody tr th {\n",
       "        vertical-align: top;\n",
       "    }\n",
       "\n",
       "    .dataframe thead th {\n",
       "        text-align: right;\n",
       "    }\n",
       "</style>\n",
       "<table border=\"1\" class=\"dataframe\">\n",
       "  <thead>\n",
       "    <tr style=\"text-align: right;\">\n",
       "      <th></th>\n",
       "      <th>ticker</th>\n",
       "      <th>date</th>\n",
       "    </tr>\n",
       "  </thead>\n",
       "  <tbody>\n",
       "    <tr>\n",
       "      <th>0</th>\n",
       "      <td>40</td>\n",
       "      <td>1370</td>\n",
       "    </tr>\n",
       "    <tr>\n",
       "      <th>1</th>\n",
       "      <td>70</td>\n",
       "      <td>1370</td>\n",
       "    </tr>\n",
       "    <tr>\n",
       "      <th>2</th>\n",
       "      <td>75</td>\n",
       "      <td>1370</td>\n",
       "    </tr>\n",
       "    <tr>\n",
       "      <th>3</th>\n",
       "      <td>100</td>\n",
       "      <td>1370</td>\n",
       "    </tr>\n",
       "    <tr>\n",
       "      <th>4</th>\n",
       "      <td>105</td>\n",
       "      <td>1370</td>\n",
       "    </tr>\n",
       "    <tr>\n",
       "      <th>...</th>\n",
       "      <td>...</td>\n",
       "      <td>...</td>\n",
       "    </tr>\n",
       "    <tr>\n",
       "      <th>1717</th>\n",
       "      <td>460850</td>\n",
       "      <td>26</td>\n",
       "    </tr>\n",
       "    <tr>\n",
       "      <th>1718</th>\n",
       "      <td>460860</td>\n",
       "      <td>26</td>\n",
       "    </tr>\n",
       "    <tr>\n",
       "      <th>1719</th>\n",
       "      <td>900140</td>\n",
       "      <td>1370</td>\n",
       "    </tr>\n",
       "    <tr>\n",
       "      <th>1720</th>\n",
       "      <td>900260</td>\n",
       "      <td>1370</td>\n",
       "    </tr>\n",
       "    <tr>\n",
       "      <th>1721</th>\n",
       "      <td>950210</td>\n",
       "      <td>608</td>\n",
       "    </tr>\n",
       "  </tbody>\n",
       "</table>\n",
       "<p>1722 rows × 2 columns</p>\n",
       "</div>"
      ],
      "text/plain": [
       "      ticker  date\n",
       "0         40  1370\n",
       "1         70  1370\n",
       "2         75  1370\n",
       "3        100  1370\n",
       "4        105  1370\n",
       "...      ...   ...\n",
       "1717  460850    26\n",
       "1718  460860    26\n",
       "1719  900140  1370\n",
       "1720  900260  1370\n",
       "1721  950210   608\n",
       "\n",
       "[1722 rows x 2 columns]"
      ]
     },
     "execution_count": 35,
     "metadata": {},
     "output_type": "execute_result"
    }
   ],
   "source": [
    "kor_stock_ohlcv_count"
   ]
  },
  {
   "cell_type": "code",
   "execution_count": 33,
   "id": "f76a6680",
   "metadata": {},
   "outputs": [
    {
     "data": {
      "text/html": [
       "<div>\n",
       "<style scoped>\n",
       "    .dataframe tbody tr th:only-of-type {\n",
       "        vertical-align: middle;\n",
       "    }\n",
       "\n",
       "    .dataframe tbody tr th {\n",
       "        vertical-align: top;\n",
       "    }\n",
       "\n",
       "    .dataframe thead th {\n",
       "        text-align: right;\n",
       "    }\n",
       "</style>\n",
       "<table border=\"1\" class=\"dataframe\">\n",
       "  <thead>\n",
       "    <tr style=\"text-align: right;\">\n",
       "      <th></th>\n",
       "      <th>date</th>\n",
       "      <th>open</th>\n",
       "      <th>high</th>\n",
       "      <th>low</th>\n",
       "      <th>close</th>\n",
       "      <th>volume</th>\n",
       "      <th>trading_value</th>\n",
       "      <th>price_change_percentage</th>\n",
       "      <th>ticker</th>\n",
       "    </tr>\n",
       "  </thead>\n",
       "  <tbody>\n",
       "  </tbody>\n",
       "</table>\n",
       "</div>"
      ],
      "text/plain": [
       "Empty DataFrame\n",
       "Columns: [date, open, high, low, close, volume, trading_value, price_change_percentage, ticker]\n",
       "Index: []"
      ]
     },
     "execution_count": 33,
     "metadata": {},
     "output_type": "execute_result"
    }
   ],
   "source": [
    "\n",
    "kor_stock_ohlcv[kor_stock_ohlcv['ticker'] == '079980']"
   ]
  },
  {
   "cell_type": "code",
   "execution_count": 26,
   "id": "c32b2ac9",
   "metadata": {},
   "outputs": [],
   "source": [
    "\n",
    "asdf = pd.merge(kor_ticker_list, kor_stock_ohlcv_count,\n",
    "        on = 'ticker', \n",
    "        how = 'left')"
   ]
  },
  {
   "cell_type": "code",
   "execution_count": 36,
   "id": "6dcfc1dc",
   "metadata": {},
   "outputs": [
    {
     "data": {
      "text/html": [
       "<div>\n",
       "<style scoped>\n",
       "    .dataframe tbody tr th:only-of-type {\n",
       "        vertical-align: middle;\n",
       "    }\n",
       "\n",
       "    .dataframe tbody tr th {\n",
       "        vertical-align: top;\n",
       "    }\n",
       "\n",
       "    .dataframe thead th {\n",
       "        text-align: right;\n",
       "    }\n",
       "</style>\n",
       "<table border=\"1\" class=\"dataframe\">\n",
       "  <thead>\n",
       "    <tr style=\"text-align: right;\">\n",
       "      <th></th>\n",
       "      <th>ticker</th>\n",
       "      <th>corp_name</th>\n",
       "      <th>market</th>\n",
       "      <th>date</th>\n",
       "    </tr>\n",
       "  </thead>\n",
       "  <tbody>\n",
       "    <tr>\n",
       "      <th>0</th>\n",
       "      <td>095570</td>\n",
       "      <td>AJ네트웍스</td>\n",
       "      <td>KOSPI</td>\n",
       "      <td>1370.0</td>\n",
       "    </tr>\n",
       "    <tr>\n",
       "      <th>1</th>\n",
       "      <td>006840</td>\n",
       "      <td>AK홀딩스</td>\n",
       "      <td>KOSPI</td>\n",
       "      <td>1370.0</td>\n",
       "    </tr>\n",
       "    <tr>\n",
       "      <th>2</th>\n",
       "      <td>027410</td>\n",
       "      <td>BGF</td>\n",
       "      <td>KOSPI</td>\n",
       "      <td>1370.0</td>\n",
       "    </tr>\n",
       "    <tr>\n",
       "      <th>3</th>\n",
       "      <td>282330</td>\n",
       "      <td>BGF리테일</td>\n",
       "      <td>KOSPI</td>\n",
       "      <td>1370.0</td>\n",
       "    </tr>\n",
       "    <tr>\n",
       "      <th>4</th>\n",
       "      <td>138930</td>\n",
       "      <td>BNK금융지주</td>\n",
       "      <td>KOSPI</td>\n",
       "      <td>1370.0</td>\n",
       "    </tr>\n",
       "    <tr>\n",
       "      <th>...</th>\n",
       "      <td>...</td>\n",
       "      <td>...</td>\n",
       "      <td>...</td>\n",
       "      <td>...</td>\n",
       "    </tr>\n",
       "    <tr>\n",
       "      <th>943</th>\n",
       "      <td>079980</td>\n",
       "      <td>휴비스</td>\n",
       "      <td>KOSPI</td>\n",
       "      <td>NaN</td>\n",
       "    </tr>\n",
       "    <tr>\n",
       "      <th>944</th>\n",
       "      <td>005010</td>\n",
       "      <td>휴스틸</td>\n",
       "      <td>KOSPI</td>\n",
       "      <td>NaN</td>\n",
       "    </tr>\n",
       "    <tr>\n",
       "      <th>945</th>\n",
       "      <td>000540</td>\n",
       "      <td>흥국화재</td>\n",
       "      <td>KOSPI</td>\n",
       "      <td>NaN</td>\n",
       "    </tr>\n",
       "    <tr>\n",
       "      <th>946</th>\n",
       "      <td>000545</td>\n",
       "      <td>흥국화재우</td>\n",
       "      <td>KOSPI</td>\n",
       "      <td>NaN</td>\n",
       "    </tr>\n",
       "    <tr>\n",
       "      <th>947</th>\n",
       "      <td>003280</td>\n",
       "      <td>흥아해운</td>\n",
       "      <td>KOSPI</td>\n",
       "      <td>NaN</td>\n",
       "    </tr>\n",
       "  </tbody>\n",
       "</table>\n",
       "<p>948 rows × 4 columns</p>\n",
       "</div>"
      ],
      "text/plain": [
       "     ticker corp_name market    date\n",
       "0    095570    AJ네트웍스  KOSPI  1370.0\n",
       "1    006840     AK홀딩스  KOSPI  1370.0\n",
       "2    027410       BGF  KOSPI  1370.0\n",
       "3    282330    BGF리테일  KOSPI  1370.0\n",
       "4    138930   BNK금융지주  KOSPI  1370.0\n",
       "..      ...       ...    ...     ...\n",
       "943  079980       휴비스  KOSPI     NaN\n",
       "944  005010       휴스틸  KOSPI     NaN\n",
       "945  000540      흥국화재  KOSPI     NaN\n",
       "946  000545     흥국화재우  KOSPI     NaN\n",
       "947  003280      흥아해운  KOSPI     NaN\n",
       "\n",
       "[948 rows x 4 columns]"
      ]
     },
     "execution_count": 36,
     "metadata": {},
     "output_type": "execute_result"
    }
   ],
   "source": [
    "asdf[asdf['market'] == 'KOSPI']"
   ]
  },
  {
   "cell_type": "code",
   "execution_count": null,
   "id": "478617ad",
   "metadata": {},
   "outputs": [],
   "source": []
  },
  {
   "cell_type": "code",
   "execution_count": null,
   "id": "9b619ea6",
   "metadata": {},
   "outputs": [],
   "source": [
    "fail\n",
    "097230 \n",
    "\n",
    "\n",
    "success\n",
    "234080\n"
   ]
  },
  {
   "cell_type": "code",
   "execution_count": 51,
   "id": "b352439c",
   "metadata": {},
   "outputs": [],
   "source": [
    "start_date = '20180101'\n",
    "today_date1 = '20230721'\n",
    "# ticker_nm = '097230'\n",
    "ticker_nm = '095570'\n",
    "buy_sell_type = '순매수'"
   ]
  },
  {
   "cell_type": "code",
   "execution_count": 57,
   "id": "f1975f81",
   "metadata": {},
   "outputs": [],
   "source": [
    "file_name = 'testasdf'"
   ]
  },
  {
   "cell_type": "code",
   "execution_count": 52,
   "id": "56ebbaf8",
   "metadata": {},
   "outputs": [],
   "source": [
    "df_raw = stock.get_market_trading_volume_by_date(start_date, today_date1, \n",
    "                                                                 ticker_nm, \n",
    "                                                                 detail=True,\n",
    "                                                                 on = buy_sell_type)\n",
    "df_raw = df_raw.reset_index()\n",
    "df_raw['ticker'] = ticker_nm\n",
    "df_raw['type'] = buy_sell_type\n",
    "df_raw.columns = [\n",
    "        'date', \n",
    "        'financial_investment', 'insurance', 'investment', 'private_equity', 'bank','other_finance', 'pension_fund', # 기관합계 \n",
    "        'other_corporation', # 기타 법인\n",
    "        'individual',# 개인\n",
    "        'foreigner', 'other_foreigner', # 외국인 합계\n",
    "        'total', \n",
    "        'ticker', 'type'\n",
    "    ]"
   ]
  },
  {
   "cell_type": "code",
   "execution_count": 58,
   "id": "06c53f38",
   "metadata": {},
   "outputs": [
    {
     "name": "stderr",
     "output_type": "stream",
     "text": [
      "100%|██████████| 1/1 [00:00<00:00, 3435.14it/s]\n"
     ]
    }
   ],
   "source": [
    "df_raw.to_gbq(destination_table=f'{project_id}.{dataset_id}.{file_name}',\n",
    "  project_id=project_id,\n",
    "  if_exists='append',\n",
    "  credentials=credentials)"
   ]
  },
  {
   "cell_type": "code",
   "execution_count": null,
   "id": "8ea04c2a",
   "metadata": {},
   "outputs": [],
   "source": []
  }
 ],
 "metadata": {
  "kernelspec": {
   "display_name": "Python 3 (ipykernel)",
   "language": "python",
   "name": "python3"
  },
  "language_info": {
   "codemirror_mode": {
    "name": "ipython",
    "version": 3
   },
   "file_extension": ".py",
   "mimetype": "text/x-python",
   "name": "python",
   "nbconvert_exporter": "python",
   "pygments_lexer": "ipython3",
   "version": "3.10.9"
  },
  "toc": {
   "base_numbering": 1,
   "nav_menu": {},
   "number_sections": true,
   "sideBar": true,
   "skip_h1_title": false,
   "title_cell": "Table of Contents",
   "title_sidebar": "Contents",
   "toc_cell": false,
   "toc_position": {},
   "toc_section_display": true,
   "toc_window_display": false
  }
 },
 "nbformat": 4,
 "nbformat_minor": 5
}
